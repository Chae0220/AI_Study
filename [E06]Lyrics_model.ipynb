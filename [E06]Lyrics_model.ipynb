{
  "cells": [
    {
      "cell_type": "markdown",
      "metadata": {
        "id": "gNpRmi9G-FOU"
      },
      "source": [
        "# Exploation_06"
      ]
    },
    {
      "cell_type": "markdown",
      "metadata": {
        "id": "k8x23x4MEG2q"
      },
      "source": [
        "## 1. Lyrics_model"
      ]
    },
    {
      "cell_type": "markdown",
      "metadata": {
        "id": "bg1e7MfkEJiK"
      },
      "source": [
        "### 1.1 모듈 설정"
      ]
    },
    {
      "cell_type": "markdown",
      "metadata": {
        "id": "sVD8tfr5ELDw"
      },
      "source": [
        "- import할 라이브러리를 보기 편하게 모아놓습니다."
      ]
    },
    {
      "cell_type": "code",
      "execution_count": null,
      "metadata": {
        "id": "WXnf4W_q-Dl0"
      },
      "outputs": [],
      "source": [
        "import os, re \n",
        "import glob\n",
        "import numpy as np\n",
        "import tensorflow as tf\n",
        "import matplotlib.pyplot as plt\n",
        "from google.colab import drive\n",
        "from sklearn.model_selection import train_test_split\n",
        "from tensorflow.keras.layers import Embedding, LSTM, Dense"
      ]
    },
    {
      "cell_type": "markdown",
      "metadata": {
        "id": "o5U3BTIyE3-D"
      },
      "source": [
        "- 이번에도 구글 드라이브를 활용합니다."
      ]
    },
    {
      "cell_type": "code",
      "execution_count": null,
      "metadata": {
        "id": "gG8-XRdfE3AZ",
        "colab": {
          "base_uri": "https://localhost:8080/"
        },
        "outputId": "7d888e87-f611-46e1-c513-9befd8c1d703"
      },
      "outputs": [
        {
          "output_type": "stream",
          "name": "stdout",
          "text": [
            "Drive already mounted at /gdrive; to attempt to forcibly remount, call drive.mount(\"/gdrive\", force_remount=True).\n"
          ]
        }
      ],
      "source": [
        "drive.mount('/gdrive')"
      ]
    },
    {
      "cell_type": "markdown",
      "metadata": {
        "id": "UDKiKjI6EPoK"
      },
      "source": [
        "### 1.2 함수 정리"
      ]
    },
    {
      "cell_type": "markdown",
      "metadata": {
        "id": "mR9VcEuVES-r"
      },
      "source": [
        "#### 1.2.1 preprocess_sentence"
      ]
    },
    {
      "cell_type": "markdown",
      "source": [
        "- 문장을 정규표현식으로 처리해줍니다."
      ],
      "metadata": {
        "id": "ZfyP8ofrz3cm"
      }
    },
    {
      "cell_type": "code",
      "execution_count": null,
      "metadata": {
        "id": "iCJ4q1sAGkyp"
      },
      "outputs": [],
      "source": [
        "def preprocess_sentence(sentence):\n",
        "    sentence = sentence.lower().strip() # 소문자 변환\n",
        "    sentence = re.sub(r\"([?.!,¿])\", r\" \\1 \", sentence) # 특수문자 기호 양쪽에 공백 추가\n",
        "    sentence = re.sub(r'[\" \"]+', \" \", sentence) # 공백이 많을 수 있으면 하나로 통일\n",
        "    sentence = re.sub(r\"[^a-zA-Z?.!,¿]+\", \" \", sentence) # \"\"안에 들어간 기호들 외 공백 처리\n",
        "    sentence = sentence.strip() # 위에서 생성한 양쪽 공백을 지워줍니다.\n",
        "    sentence = '<start> ' + sentence + ' <end>' # 문장 시작과 끝에 <start>와 <end>를 넣어줍니다.\n",
        "    return sentence"
      ]
    },
    {
      "cell_type": "markdown",
      "source": [
        "- 위에 주석으로 처리했지만, 소문자, 특수문자, 공백을 정리하고 문장 앞과 끝에 'start', 'end'를 붙여주는 함수입니다."
      ],
      "metadata": {
        "id": "Oj7h8eXBzcwc"
      }
    },
    {
      "cell_type": "markdown",
      "metadata": {
        "id": "aDq7WL5FG12J"
      },
      "source": [
        "#### 1.2.2 tokenize"
      ]
    },
    {
      "cell_type": "markdown",
      "source": [
        "- 단어장을 생성하고, 토큰화까지 진행합니다."
      ],
      "metadata": {
        "id": "4so7l29Z0DGk"
      }
    },
    {
      "cell_type": "code",
      "execution_count": null,
      "metadata": {
        "id": "21CAmFXMG0HC"
      },
      "outputs": [],
      "source": [
        "def tokenize(corpus):\n",
        "    tokenizer = tf.keras.preprocessing.text.Tokenizer(\n",
        "        num_words=20000, \n",
        "        filters=' ',\n",
        "        oov_token=\"<unk>\"\n",
        "    )\n",
        "\n",
        "    tokenizer.fit_on_texts(corpus)\n",
        "\n",
        "    tensor = tokenizer.texts_to_sequences(corpus)   \n",
        "\n",
        "    tensor = tf.keras.preprocessing.sequence.pad_sequences(tensor, padding='post')\n",
        "    # 1차 시도에서는 maxlen=15로 설정하였습니다.\n",
        "    # 2차 시도부터 sentence processing 단계에서 <statt>, <end> 포함 26개로 제한하였기에 지워줍니다.  \n",
        "    \n",
        "    print(tensor,tokenizer)\n",
        "    return tensor, tokenizer"
      ]
    },
    {
      "cell_type": "markdown",
      "source": [
        "- 단어장은 20,000개의 단어가 들어갈 수 있게 설정했고, 포함되지 못한 단어는 'unk'로 들어갑니다.\n",
        "- 단어장 생성하고 바로 단어를 넣어줍니다. 그다음 text_to_sequences로 시퀀스화 시켜줍니다.\n",
        "- 마지막으로 sequence.pad_sequences으로 padding작업을 진행합니다. \n",
        "- **첫번째 Adam optimizer를 사용한 모델에서는 maxlen 옵션을 15로 설정했습니다.**  \n",
        "**tf.keras.preprocessing.sequence.pad_sequences(tensor, padding='post', maxlen=15)**\n",
        "- **이후에는 sentence processing에서 start,end 포함 26자로 제한해서 넣기에 maxlen을 생략했습니다.**"
      ],
      "metadata": {
        "id": "SBqsVotr0Iuw"
      }
    },
    {
      "cell_type": "markdown",
      "metadata": {
        "id": "JI6NE1QAHHPg"
      },
      "source": [
        "#### 1.2.3 generate_text"
      ]
    },
    {
      "cell_type": "markdown",
      "metadata": {
        "id": "DGmcPyOwHNyx"
      },
      "source": [
        "- 모델에게 시작 문장을 전달하면 모델이 시작 문장을 바탕으로 작문을 진행하게 합니다."
      ]
    },
    {
      "cell_type": "code",
      "execution_count": null,
      "metadata": {
        "id": "IKj8Reb-HG17"
      },
      "outputs": [],
      "source": [
        "def generate_text(model, tokenizer, init_sentence=\"<start>\", max_len=20):\n",
        "    test_input = tokenizer.texts_to_sequences([init_sentence])\n",
        "    test_tensor = tf.convert_to_tensor(test_input, dtype=tf.int64)\n",
        "    end_token = tokenizer.word_index[\"<end>\"]\n",
        "\n",
        "    while True:\n",
        "        predict = model(test_tensor) \n",
        "        predict_word = tf.argmax(tf.nn.softmax(predict, axis=-1), axis=-1)[:, -1] \n",
        "        test_tensor = tf.concat([test_tensor, tf.expand_dims(predict_word, axis=0)], axis=-1)\n",
        "        if predict_word.numpy()[0] == end_token: break\n",
        "        if test_tensor.shape[1] >= max_len: break\n",
        "\n",
        "    generated = \"\"\n",
        " \n",
        "    for word_index in test_tensor[0].numpy():\n",
        "        generated += tokenizer.index_word[word_index] + \" \"\n",
        "\n",
        "    return generated"
      ]
    },
    {
      "cell_type": "markdown",
      "source": [
        "#### 1.2.4 TextGenerator"
      ],
      "metadata": {
        "id": "9xCsKbAN26AA"
      }
    },
    {
      "cell_type": "markdown",
      "source": [
        "- TextGenerator 클래스를 생성해 모델 layer를 쌓아줍니다."
      ],
      "metadata": {
        "id": "v5sfZb603AAU"
      }
    },
    {
      "cell_type": "code",
      "execution_count": null,
      "metadata": {
        "id": "c9vM4EA8LNcF"
      },
      "outputs": [],
      "source": [
        "class TextGenerator(tf.keras.Model):\n",
        "    def __init__(self, vocab_size, embedding_size, hidden_size):\n",
        "        super().__init__()\n",
        "        \n",
        "        self.embedding = tf.keras.layers.Embedding(vocab_size, embedding_size)\n",
        "        self.rnn_1 = tf.keras.layers.LSTM(hidden_size, return_sequences=True)\n",
        "        self.rnn_2 = tf.keras.layers.LSTM(hidden_size, return_sequences=True)\n",
        "        self.linear = tf.keras.layers.Dense(vocab_size)\n",
        "        \n",
        "    def call(self, x):\n",
        "        out = self.embedding(x)\n",
        "        out = self.rnn_1(out)\n",
        "        out = self.rnn_2(out)\n",
        "        out = self.linear(out)\n",
        "        \n",
        "        return out"
      ]
    },
    {
      "cell_type": "markdown",
      "source": [
        "- 일단은 embedding layer로 embedding을 진행합니다. 다음 순환신경망의 LSTM layer를 쌓고, 마지막 Dense층을 놓습니다.\n",
        "- 텐서의 공식문서를 통해 추가할 수 있는 layer는 따로 추가해 보는 것도 좋겠습니다."
      ],
      "metadata": {
        "id": "idjRQ9GQ3FaP"
      }
    },
    {
      "cell_type": "markdown",
      "metadata": {
        "id": "rN6WnqisEWGH"
      },
      "source": [
        "### 1.3 데이터"
      ]
    },
    {
      "cell_type": "markdown",
      "metadata": {
        "id": "QeP0mAA8GFjG"
      },
      "source": [
        "#### 1.3.1 데이터 로드"
      ]
    },
    {
      "cell_type": "markdown",
      "metadata": {
        "id": "m94aiyAIGJYn"
      },
      "source": [
        "- google drive에서 lyrics 파일을 불러옵니다."
      ]
    },
    {
      "cell_type": "code",
      "execution_count": null,
      "metadata": {
        "id": "0O2msR0qFffR"
      },
      "outputs": [],
      "source": [
        "txt_file_path = \"/gdrive/My Drive/Colab Notebooks/data/lyrics/*\"\n",
        "txt_list = glob.glob(txt_file_path)"
      ]
    },
    {
      "cell_type": "markdown",
      "source": [
        "- 약 50여명의 가수의 가사를 모은 txt형태의 파일입니다."
      ],
      "metadata": {
        "id": "Qr4COHoF5FCC"
      }
    },
    {
      "cell_type": "markdown",
      "metadata": {
        "id": "c1JP3VVhHsC_"
      },
      "source": [
        "#### 1.3.2 데이터 처리"
      ]
    },
    {
      "cell_type": "markdown",
      "source": [
        "1) 데이터 저장"
      ],
      "metadata": {
        "id": "JXBI2Rum6Kqg"
      }
    },
    {
      "cell_type": "markdown",
      "metadata": {
        "id": "SHSYbImCGOmb"
      },
      "source": [
        "- 불러온 파일을 raw_corpus 안에 문장 단위로 저장합니다."
      ]
    },
    {
      "cell_type": "code",
      "execution_count": null,
      "metadata": {
        "colab": {
          "base_uri": "https://localhost:8080/"
        },
        "id": "rpaATK2lFzAd",
        "outputId": "a8a3df65-080b-4181-a633-885a902ab93b"
      },
      "outputs": [
        {
          "output_type": "stream",
          "name": "stdout",
          "text": [
            "데이터 크기: 187088\n"
          ]
        }
      ],
      "source": [
        "raw_corpus = []\n",
        "\n",
        "for txt_file in txt_list:\n",
        "    with open(txt_file, \"r\") as f:\n",
        "        raw = f.read().splitlines()\n",
        "        raw_corpus.extend(raw)\n",
        "\n",
        "print(\"데이터 크기:\", len(raw_corpus))"
      ]
    },
    {
      "cell_type": "markdown",
      "source": [
        "- 데이터가 적지 않습니다..."
      ],
      "metadata": {
        "id": "eV5EBqGm5aeg"
      }
    },
    {
      "cell_type": "markdown",
      "source": [
        "- 불러온 데이터를 5줄 정도만 살펴보겠습니다."
      ],
      "metadata": {
        "id": "e_at7mWo5Pli"
      }
    },
    {
      "cell_type": "code",
      "execution_count": null,
      "metadata": {
        "colab": {
          "base_uri": "https://localhost:8080/"
        },
        "id": "423kF1Y3JZpr",
        "outputId": "64ada8b4-ab4f-4529-d94c-1a23f7ebe3f0"
      },
      "outputs": [
        {
          "output_type": "execute_result",
          "data": {
            "text/plain": [
              "['Yesterday, all my troubles seemed so far away',\n",
              " \"Now it looks as though they're here to stay\",\n",
              " \"Oh, I believe in yesterday Suddenly, I'm not half the man I used to be\",\n",
              " \"There's a shadow hanging over me.\",\n",
              " \"Oh, yesterday came suddenly Why she had to go I don't know she wouldn't say\"]"
            ]
          },
          "metadata": {},
          "execution_count": 111
        }
      ],
      "source": [
        "raw_corpus[:5]"
      ]
    },
    {
      "cell_type": "markdown",
      "source": [
        "- 명곡의 가사들입니다."
      ],
      "metadata": {
        "id": "3YDBhOhg5lqx"
      }
    },
    {
      "cell_type": "markdown",
      "metadata": {
        "id": "HxbYzOWxFyvb"
      },
      "source": [
        "2) 정규표현식"
      ]
    },
    {
      "cell_type": "markdown",
      "source": [
        "- 의미 없는 공백들은 삭제하고, 위에서 만든 preprosess_sentence를 이용해 정규표현식을 적용합니다."
      ],
      "metadata": {
        "id": "qoogM3_16Z7J"
      }
    },
    {
      "cell_type": "code",
      "execution_count": null,
      "metadata": {
        "colab": {
          "base_uri": "https://localhost:8080/"
        },
        "id": "nwVNQafqKH0x",
        "outputId": "e6469fc6-07d0-4a57-bd8f-42d89b434514"
      },
      "outputs": [
        {
          "output_type": "stream",
          "name": "stdout",
          "text": [
            "175749\n"
          ]
        }
      ],
      "source": [
        "corpus = []\n",
        "\n",
        "for sentence in raw_corpus:\n",
        "    if len(sentence) == 0: continue\n",
        "    if sentence[-1] == \":\": continue\n",
        "    \n",
        "    preprocessed_sentence = preprocess_sentence(sentence)\n",
        "    corpus.append(preprocessed_sentence)\n",
        "        \n",
        "print(len(corpus))"
      ]
    },
    {
      "cell_type": "markdown",
      "source": [
        "- 5줄을 불러와 raw_corpus와 비교합니다."
      ],
      "metadata": {
        "id": "S8FfHtrr6kpy"
      }
    },
    {
      "cell_type": "code",
      "source": [
        "corpus[:5]"
      ],
      "metadata": {
        "colab": {
          "base_uri": "https://localhost:8080/"
        },
        "id": "DqZM8tSa5-7B",
        "outputId": "6e6aab30-a398-49fb-f062-ad1441efcb81"
      },
      "execution_count": null,
      "outputs": [
        {
          "output_type": "execute_result",
          "data": {
            "text/plain": [
              "['<start> yesterday , all my troubles seemed so far away <end>',\n",
              " '<start> now it looks as though they re here to stay <end>',\n",
              " '<start> oh , i believe in yesterday suddenly , i m not half the man i used to be <end>',\n",
              " '<start> there s a shadow hanging over me . <end>',\n",
              " '<start> oh , yesterday came suddenly why she had to go i don t know she wouldn t say <end>']"
            ]
          },
          "metadata": {},
          "execution_count": 60
        }
      ]
    },
    {
      "cell_type": "markdown",
      "source": [
        "3) tokenize"
      ],
      "metadata": {
        "id": "Ov63GY3-6vOz"
      }
    },
    {
      "cell_type": "markdown",
      "source": [
        "- tokenize를 사용하여 padding까지 완료합니다."
      ],
      "metadata": {
        "id": "AvRhkv5c64G4"
      }
    },
    {
      "cell_type": "code",
      "source": [
        "tensor, tokenizer = tokenize(corpus)"
      ],
      "metadata": {
        "colab": {
          "base_uri": "https://localhost:8080/"
        },
        "id": "r3zVGLeZLU_2",
        "outputId": "29f07319-b4c1-4c6d-eec7-a4f710e864ee"
      },
      "execution_count": null,
      "outputs": [
        {
          "output_type": "stream",
          "name": "stderr",
          "text": [
            "IOPub data rate exceeded.\n",
            "The notebook server will temporarily stop sending output\n",
            "to the client in order to avoid crashing it.\n",
            "To change this limit, set the config variable\n",
            "`--NotebookApp.iopub_data_rate_limit`.\n",
            "\n",
            "Current values:\n",
            "NotebookApp.iopub_data_rate_limit=1000000.0 (bytes/sec)\n",
            "NotebookApp.rate_limit_window=3.0 (secs)\n",
            "\n"
          ]
        }
      ]
    },
    {
      "cell_type": "markdown",
      "source": [
        "4) 데이터 정리"
      ],
      "metadata": {
        "id": "JXpB4UzG8GeI"
      }
    },
    {
      "cell_type": "markdown",
      "source": [
        "- 혹시나 배열이 길어 문장이 요약될 수 있으므로 생략없이 나올 수 있게 설정합니다."
      ],
      "metadata": {
        "id": "dcyPVdSd_SDN"
      }
    },
    {
      "cell_type": "code",
      "source": [
        "np.set_printoptions(threshold=np.inf)"
      ],
      "metadata": {
        "id": "6AHpPsF9_Psx"
      },
      "execution_count": null,
      "outputs": []
    },
    {
      "cell_type": "markdown",
      "source": [
        "- 분리 전에 살펴봅니다."
      ],
      "metadata": {
        "id": "BLZho3Xa_QpH"
      }
    },
    {
      "cell_type": "code",
      "source": [
        "print(tensor[:5])"
      ],
      "metadata": {
        "colab": {
          "base_uri": "https://localhost:8080/"
        },
        "id": "k_JBcDur83Da",
        "outputId": "6273cf98-a5b5-4f51-c421-d877fb95ebea"
      },
      "execution_count": null,
      "outputs": [
        {
          "output_type": "stream",
          "name": "stdout",
          "text": [
            "[[   2  873    4   24   13 2584 2061   30  353  137    3    0    0    0    0]\n",
            " [   2   50   11  796   81  329   45   54   93   10  222    3    0    0    0]\n",
            " [  14  873 2431    4    5   22   70  541    6   82    5  291   10   27    3]\n",
            " [   2   65   16    9 2109 1100  146   12   20    3    0    0    0    0    0]\n",
            " [2431  112   48  116   10   53    5   37   15   34   48  674   15   68    3]]\n"
          ]
        }
      ]
    },
    {
      "cell_type": "markdown",
      "source": [
        "- 'start'를 잘라 타겟을 만들고 배열을 같게 만들기 위해 맨 뒤 문장을 잘라버립니다."
      ],
      "metadata": {
        "id": "niW-vGIP_gjp"
      }
    },
    {
      "cell_type": "code",
      "source": [
        "src_input = tensor[:, :-1]  \n",
        "tgt_input = tensor[:, 1:]    \n",
        "\n",
        "print(src_input[:5])\n",
        "print(tgt_input[:5])"
      ],
      "metadata": {
        "colab": {
          "base_uri": "https://localhost:8080/"
        },
        "id": "uRSr7-o3LjZ0",
        "outputId": "6c2e0cf2-894e-433f-ccc8-140c9917f308"
      },
      "execution_count": null,
      "outputs": [
        {
          "output_type": "stream",
          "name": "stdout",
          "text": [
            "[[   2  873    4   24   13 2584 2061   30  353  137    3    0    0    0]\n",
            " [   2   50   11  796   81  329   45   54   93   10  222    3    0    0]\n",
            " [  14  873 2431    4    5   22   70  541    6   82    5  291   10   27]\n",
            " [   2   65   16    9 2109 1100  146   12   20    3    0    0    0    0]\n",
            " [2431  112   48  116   10   53    5   37   15   34   48  674   15   68]]\n",
            "[[ 873    4   24   13 2584 2061   30  353  137    3    0    0    0    0]\n",
            " [  50   11  796   81  329   45   54   93   10  222    3    0    0    0]\n",
            " [ 873 2431    4    5   22   70  541    6   82    5  291   10   27    3]\n",
            " [  65   16    9 2109 1100  146   12   20    3    0    0    0    0    0]\n",
            " [ 112   48  116   10   53    5   37   15   34   48  674   15   68    3]]\n"
          ]
        }
      ]
    },
    {
      "cell_type": "markdown",
      "source": [
        "5) 데이터 분리"
      ],
      "metadata": {
        "id": "DRdqKgmaLZDo"
      }
    },
    {
      "cell_type": "markdown",
      "source": [
        "- 결과를 확인했으니 데이터를 분리합니다."
      ],
      "metadata": {
        "id": "L4aTKqIT_3Vl"
      }
    },
    {
      "cell_type": "code",
      "source": [
        "enc_train, enc_val, dec_train, dec_val = train_test_split(src_input, \n",
        "                                                          tgt_input,\n",
        "                                                          test_size=0.2,\n",
        "                                                          shuffle=True, \n",
        "                                                          random_state=22)"
      ],
      "metadata": {
        "id": "LJI-ASpBGBzl"
      },
      "execution_count": null,
      "outputs": []
    },
    {
      "cell_type": "markdown",
      "source": [
        "- 데이터셋 객체를 생성합니다."
      ],
      "metadata": {
        "id": "oKy8bdifGa3S"
      }
    },
    {
      "cell_type": "code",
      "source": [
        "BUFFER_SIZE = len(src_input)\n",
        "BATCH_SIZE = 256\n",
        "steps_per_epoch = len(src_input) // BATCH_SIZE\n",
        "\n",
        "VOCAB_SIZE = tokenizer.num_words + 1   \n",
        "\n",
        "dataset = tf.data.Dataset.from_tensor_slices((src_input, tgt_input))\n",
        "dataset = dataset.shuffle(BUFFER_SIZE)\n",
        "dataset = dataset.batch(BATCH_SIZE, drop_remainder=True)\n",
        "dataset"
      ],
      "metadata": {
        "colab": {
          "base_uri": "https://localhost:8080/"
        },
        "id": "Rbi1Sz5dBs-u",
        "outputId": "40c125f0-2a21-45fd-bd28-9734bfec69dd"
      },
      "execution_count": null,
      "outputs": [
        {
          "output_type": "execute_result",
          "data": {
            "text/plain": [
              "<BatchDataset element_spec=(TensorSpec(shape=(256, 14), dtype=tf.int32, name=None), TensorSpec(shape=(256, 14), dtype=tf.int32, name=None))>"
            ]
          },
          "metadata": {},
          "execution_count": 66
        }
      ]
    },
    {
      "cell_type": "markdown",
      "source": [
        "- vocab size는 단어장에 pad까지 해서 +1을 해줍니다."
      ],
      "metadata": {
        "id": "BlgPT9yZB8Kl"
      }
    },
    {
      "cell_type": "markdown",
      "source": [
        "### 1.4 모델"
      ],
      "metadata": {
        "id": "tCIaSiQPLioq"
      }
    },
    {
      "cell_type": "markdown",
      "source": [
        "#### 1.4.1 모델 생성"
      ],
      "metadata": {
        "id": "V52xEJi3Lqh8"
      }
    },
    {
      "cell_type": "markdown",
      "source": [
        "- embedding_size는 128을 주고, hidden_size는 2048을 줍니다.  \n",
        "(계속 같은 조건으로 돌릴 예정이므로 size는 미리 지정합니다.)"
      ],
      "metadata": {
        "id": "lUMZ8-c4GkVL"
      }
    },
    {
      "cell_type": "code",
      "source": [
        "embedding_size = 128\n",
        "hidden_size = 2048"
      ],
      "metadata": {
        "id": "qYZ1CVyKLv82"
      },
      "execution_count": null,
      "outputs": []
    },
    {
      "cell_type": "markdown",
      "source": [
        "1) Adam optimizer"
      ],
      "metadata": {
        "id": "nt1dkLxML2w5"
      }
    },
    {
      "cell_type": "markdown",
      "source": [
        "- 위에서 만든 TextGenerator를 이용하고, optimizer는 Adam을 사용해보겠습니다. "
      ],
      "metadata": {
        "id": "SHjcyFOiL9g4"
      }
    },
    {
      "cell_type": "code",
      "source": [
        "model = TextGenerator(tokenizer.num_words + 1, embedding_size , hidden_size)\n",
        "# pad가 들어갔으므로 +1을 해주고 위에서 지정한 embedding_size와 hidden_size를 넣어줍니다.\n",
        "\n",
        "history = []\n",
        "\n",
        "optimizer = tf.keras.optimizers.Adam()\n",
        "\n",
        "loss = tf.keras.losses.SparseCategoricalCrossentropy(\n",
        "    from_logits=True,\n",
        "    reduction='none'\n",
        ")\n",
        "\n",
        "model.compile(loss=loss, optimizer=optimizer)"
      ],
      "metadata": {
        "id": "BFP58OZ6LzJU"
      },
      "execution_count": null,
      "outputs": []
    },
    {
      "cell_type": "markdown",
      "source": [
        "- dataset, val_data를 넣고 모델 학습을 합니다. "
      ],
      "metadata": {
        "id": "Wdx69X-MMUci"
      }
    },
    {
      "cell_type": "code",
      "source": [
        "history = model.fit(dataset, \n",
        "          epochs=10,\n",
        "          batch_size=256,\n",
        "          validation_data=(enc_val, dec_val),\n",
        "          verbose=1)"
      ],
      "metadata": {
        "colab": {
          "base_uri": "https://localhost:8080/"
        },
        "id": "dEGNvlMHL8lA",
        "outputId": "8b5bfe07-f650-4d20-c730-9524e71460db"
      },
      "execution_count": null,
      "outputs": [
        {
          "output_type": "stream",
          "name": "stdout",
          "text": [
            "Epoch 1/10\n",
            "686/686 [==============================] - 418s 589ms/step - loss: 3.8841 - val_loss: 3.4738\n",
            "Epoch 2/10\n",
            "686/686 [==============================] - 414s 604ms/step - loss: 3.3488 - val_loss: 3.2127\n",
            "Epoch 3/10\n",
            "686/686 [==============================] - 429s 625ms/step - loss: 3.1467 - val_loss: 3.0202\n",
            "Epoch 4/10\n",
            "686/686 [==============================] - 412s 600ms/step - loss: 2.9641 - val_loss: 2.8301\n",
            "Epoch 5/10\n",
            "686/686 [==============================] - 417s 607ms/step - loss: 2.7950 - val_loss: 2.6608\n",
            "Epoch 6/10\n",
            "686/686 [==============================] - 417s 607ms/step - loss: 2.6361 - val_loss: 2.4959\n",
            "Epoch 7/10\n",
            "686/686 [==============================] - 417s 608ms/step - loss: 2.4813 - val_loss: 2.3376\n",
            "Epoch 8/10\n",
            "686/686 [==============================] - 417s 608ms/step - loss: 2.3316 - val_loss: 2.1868\n",
            "Epoch 9/10\n",
            "686/686 [==============================] - 417s 608ms/step - loss: 2.1884 - val_loss: 2.0406\n",
            "Epoch 10/10\n",
            "686/686 [==============================] - 417s 608ms/step - loss: 2.0502 - val_loss: 1.9002\n"
          ]
        }
      ]
    },
    {
      "cell_type": "markdown",
      "source": [
        "- val_loss를 더 줄일 방법을 고민해보겠습니다.\n",
        "- 그 전에 위에서 만든 generate_text를 이용해 가사를 뽑아봅니다."
      ],
      "metadata": {
        "id": "Tk-0KCaTM8hq"
      }
    },
    {
      "cell_type": "code",
      "source": [
        "generate_text(model, tokenizer, init_sentence=\"<start> i love\", max_len=15)"
      ],
      "metadata": {
        "colab": {
          "base_uri": "https://localhost:8080/",
          "height": 35
        },
        "id": "pTGZAK1MNSR-",
        "outputId": "c20fc193-ab41-4b02-c432-cdb79453c4a2"
      },
      "execution_count": null,
      "outputs": [
        {
          "output_type": "execute_result",
          "data": {
            "text/plain": [
              "'<start> i love you , liberian girl <end> '"
            ],
            "application/vnd.google.colaboratory.intrinsic+json": {
              "type": "string"
            }
          },
          "metadata": {},
          "execution_count": 70
        }
      ]
    },
    {
      "cell_type": "code",
      "source": [
        "generate_text(model, tokenizer, init_sentence=\"<start> i hate\", max_len=15)"
      ],
      "metadata": {
        "colab": {
          "base_uri": "https://localhost:8080/",
          "height": 35
        },
        "id": "ilD4CsAGNc7d",
        "outputId": "72a353d6-7518-430f-a713-f3520b691b68"
      },
      "execution_count": null,
      "outputs": [
        {
          "output_type": "execute_result",
          "data": {
            "text/plain": [
              "'<start> i hate the way you shake your mind <end> '"
            ],
            "application/vnd.google.colaboratory.intrinsic+json": {
              "type": "string"
            }
          },
          "metadata": {},
          "execution_count": 71
        }
      ]
    },
    {
      "cell_type": "markdown",
      "source": [
        "- 가사가 나쁘지 않습니다."
      ],
      "metadata": {
        "id": "MrTbXCU_OUz-"
      }
    },
    {
      "cell_type": "markdown",
      "source": [
        "2) Loss 줄이기"
      ],
      "metadata": {
        "id": "C330wNJrNcoH"
      }
    },
    {
      "cell_type": "markdown",
      "source": [
        "- Garbage in, garbage out  \n",
        "loss 를 줄이기 위해 고민했는데, 원인은 데이터 같습니다.  \n",
        "- 노래 가사에도 분명 의미없는 후렴구 반복도 있으니, 문장 처리하는 과정부터 다시 살펴봅니다. "
      ],
      "metadata": {
        "id": "nvqQcYeERRpi"
      }
    },
    {
      "cell_type": "code",
      "source": [
        "print(len(corpus[0].split()))\n",
        "print(corpus[0])\n",
        "print(len(corpus[1].split()))\n",
        "print(corpus[1])\n",
        "print(len(corpus[2].split()))\n",
        "print(corpus[2])\n",
        "print(len(corpus))\n",
        "\n",
        "length = [len(tokens.split()) for tokens in corpus]\n",
        "# print(length)"
      ],
      "metadata": {
        "colab": {
          "base_uri": "https://localhost:8080/"
        },
        "id": "2bOjR4fmlpTJ",
        "outputId": "64a60ec6-58f9-4b72-994f-33eefe63a9ee"
      },
      "execution_count": null,
      "outputs": [
        {
          "output_type": "stream",
          "name": "stdout",
          "text": [
            "11\n",
            "<start> yesterday , all my troubles seemed so far away <end>\n",
            "12\n",
            "<start> now it looks as though they re here to stay <end>\n",
            "20\n",
            "<start> oh , i believe in yesterday suddenly , i m not half the man i used to be <end>\n",
            "175749\n"
          ]
        }
      ]
    },
    {
      "cell_type": "markdown",
      "source": [
        "- 띄어쓰기 단위로 구분하여 너무 긴 가사는 제외하려합니다."
      ],
      "metadata": {
        "id": "BrPGs-pmSFRi"
      }
    },
    {
      "cell_type": "code",
      "source": [
        "    print(\"min : \", np.min(length))\n",
        "    print(\"max : \", np.max(length))\n",
        "    print(\"mean : \", np.mean(length))\n",
        "    print(\"std : \", np.std(length))"
      ],
      "metadata": {
        "colab": {
          "base_uri": "https://localhost:8080/"
        },
        "id": "owIdvqP4vyI_",
        "outputId": "3e760d0d-64d5-4d00-f4a4-414ba4a04cc7"
      },
      "execution_count": null,
      "outputs": [
        {
          "output_type": "stream",
          "name": "stdout",
          "text": [
            "min :  2\n",
            "max :  25\n",
            "mean :  10.286876567930218\n",
            "std :  4.031745380948242\n"
          ]
        }
      ]
    },
    {
      "cell_type": "markdown",
      "source": [
        "- 평균은 10 정도네요"
      ],
      "metadata": {
        "id": "fyai1dHpSKRO"
      }
    },
    {
      "cell_type": "code",
      "source": [
        "plt.hist(length, color = 'green', alpha = 0.4, bins = 50, range = [-1, 50],edgecolor = 'black')\n",
        "plt.show()"
      ],
      "metadata": {
        "colab": {
          "base_uri": "https://localhost:8080/",
          "height": 265
        },
        "id": "KiCpSOqpS_pw",
        "outputId": "eab65a73-73c9-4954-91e8-818592351702"
      },
      "execution_count": null,
      "outputs": [
        {
          "output_type": "display_data",
          "data": {
            "text/plain": [
              "<Figure size 432x288 with 1 Axes>"
            ],
            "image/png": "[encoded data removed]"
          },
          "metadata": {
            "needs_background": "light"
          }
        }
      ]
    },
    {
      "cell_type": "markdown",
      "source": [
        "- 50까지만 보겠습니다.\n",
        "- 너무 과하게 자르기보다는 저는 27단어 수준에서 자르는게 좋다고 판단했습니다(start, end 포함)"
      ],
      "metadata": {
        "id": "mfrGdKH8TCE_"
      }
    },
    {
      "cell_type": "code",
      "source": [
        "length_w = [i for i, value in enumerate(length) if value >= 26]\n",
        "print(len(length_w))\n",
        "# print(length_w)"
      ],
      "metadata": {
        "colab": {
          "base_uri": "https://localhost:8080/"
        },
        "id": "PFYct-iKwSfL",
        "outputId": "254aa3c7-47ba-4715-b7d3-27c2425d4262"
      },
      "execution_count": null,
      "outputs": [
        {
          "output_type": "stream",
          "name": "stdout",
          "text": [
            "1953\n"
          ]
        }
      ]
    },
    {
      "cell_type": "markdown",
      "source": [
        "- print(length_w)로 인덱스를 불러온 후 확인했습니다.\n",
        "- 데이터가 너무 길어 주석처리하고 다시 실행합니다."
      ],
      "metadata": {
        "id": "LDEs8bYZxTne"
      }
    },
    {
      "cell_type": "code",
      "source": [
        "print(corpus[181])\n",
        "print(corpus[821])\n",
        "print(corpus[3481])\n",
        "print(len(length_w))"
      ],
      "metadata": {
        "colab": {
          "base_uri": "https://localhost:8080/"
        },
        "id": "yTgwrcvtycwh",
        "outputId": "43afdaa4-572a-443c-8447-b60bde2a882b"
      },
      "execution_count": null,
      "outputs": [
        {
          "output_type": "stream",
          "name": "stdout",
          "text": [
            "<start> ah love , love , love , love , love , love , love , love , love . there s nothing you can do that can t be done . <end>\n",
            "<start> i don t know why you say goodbye , i say hello . hello , goodbye , hello , goodbye . hello , goodbye . hello , goodbye . <end>\n",
            "<start> like impressionist pictures , or wagner s rugged music , the very absence of conventional form challenges attention . in emily dickinson s exacting hands , the especial , intrinsic fitness of a particular order of words might not be sacrificed to anything virtually extrinsic and her verses all show a strange cadence of inner rhythmical music . lines are always daringly constructed , and the thought rhyme appears frequently , appealing , indeed , to an unrecognized sense more elusive than hearing . <end>\n",
            "1953\n"
          ]
        }
      ]
    },
    {
      "cell_type": "markdown",
      "source": [
        "- 심각합니다. 특히 3481번은 음악에 대한 설명이 들어간 것 같습니다."
      ],
      "metadata": {
        "id": "EUB7renoSrLt"
      }
    },
    {
      "cell_type": "markdown",
      "source": [
        "- corpus에 넣기 전 과정으로 다시 돌아가서 띄어쓰기로 카운팅 했을 때 25가 넘어가면 제외하고 preprocess_sentence를 합니다."
      ],
      "metadata": {
        "id": "VdUaca_KTj8w"
      }
    },
    {
      "cell_type": "code",
      "source": [
        "corpus = []\n",
        "\n",
        "for sentence in raw_corpus:\n",
        "    if len(sentence) == 0: continue\n",
        "    if sentence[-1] == \":\": continue\n",
        "    \n",
        "    preprocessed_sentence = preprocess_sentence(sentence)\n",
        "    if preprocessed_sentence.count(\" \") >= 25: continue\n",
        "    corpus.append(preprocessed_sentence)\n",
        "        \n",
        "\n",
        "print(len(corpus))"
      ],
      "metadata": {
        "colab": {
          "base_uri": "https://localhost:8080/"
        },
        "id": "xuBVL6qmEMij",
        "outputId": "2ceb587a-0053-42be-d18b-33b8fe7f8256"
      },
      "execution_count": null,
      "outputs": [
        {
          "output_type": "stream",
          "name": "stdout",
          "text": [
            "173796\n"
          ]
        }
      ]
    },
    {
      "cell_type": "markdown",
      "source": [
        "- 원래 총 175,749 문장이었는데 1,953개를 제외하고 173,796 문장을 담아줍니다."
      ],
      "metadata": {
        "id": "TiitiNRmUbqe"
      }
    },
    {
      "cell_type": "code",
      "execution_count": null,
      "metadata": {
        "colab": {
          "base_uri": "https://localhost:8080/"
        },
        "id": "DI3LzVV3KqIr",
        "outputId": "4af31637-58d4-4f3a-c91e-609b70f56ef7"
      },
      "outputs": [
        {
          "output_type": "stream",
          "name": "stderr",
          "text": [
            "IOPub data rate exceeded.\n",
            "The notebook server will temporarily stop sending output\n",
            "to the client in order to avoid crashing it.\n",
            "To change this limit, set the config variable\n",
            "`--NotebookApp.iopub_data_rate_limit`.\n",
            "\n",
            "Current values:\n",
            "NotebookApp.iopub_data_rate_limit=1000000.0 (bytes/sec)\n",
            "NotebookApp.rate_limit_window=3.0 (secs)\n",
            "\n"
          ]
        }
      ],
      "source": [
        "tensor, tokenizer = tokenize(corpus)"
      ]
    },
    {
      "cell_type": "markdown",
      "source": [
        "- 사전에 미리 문장을 제한하여 담아서 tokenize 과정에서도 0, 3(end)로 잘 padding될 것입니다."
      ],
      "metadata": {
        "id": "7Mg1vWJJUwAn"
      }
    },
    {
      "cell_type": "markdown",
      "source": [
        "- 다시 이전 과정을 반복합니다."
      ],
      "metadata": {
        "id": "FRWN2v_yVEcC"
      }
    },
    {
      "cell_type": "code",
      "execution_count": null,
      "metadata": {
        "colab": {
          "base_uri": "https://localhost:8080/"
        },
        "id": "ORm7vcaNK9-5",
        "outputId": "626e1d23-d9a7-41e3-81b2-ff4bd95a94e8"
      },
      "outputs": [
        {
          "output_type": "stream",
          "name": "stdout",
          "text": [
            "[   2  878    4   25   13 2578 2040   30  356  135    3    0    0    0    0    0    0    0    0    0    0    0    0    0]\n",
            "[ 878    4   25   13 2578 2040   30  356  135    3    0    0    0    0    0    0    0    0    0    0    0    0    0    0]\n"
          ]
        }
      ],
      "source": [
        "src_input = tensor[:, :-1]  \n",
        "tgt_input = tensor[:, 1:]    \n",
        "\n",
        "print(src_input[0])\n",
        "print(tgt_input[0])"
      ]
    },
    {
      "cell_type": "code",
      "execution_count": null,
      "metadata": {
        "id": "-dVYzW2nOGCc"
      },
      "outputs": [],
      "source": [
        "enc_train, enc_val, dec_train, dec_val = train_test_split(src_input, \n",
        "                                                          tgt_input,\n",
        "                                                          test_size=0.2,\n",
        "                                                          shuffle=True, \n",
        "                                                          random_state=22)"
      ]
    },
    {
      "cell_type": "code",
      "source": [
        "BUFFER_SIZE = len(src_input)\n",
        "BATCH_SIZE = 256\n",
        "steps_per_epoch = len(src_input) // BATCH_SIZE\n",
        "\n",
        "VOCAB_SIZE = tokenizer.num_words + 1   \n",
        "\n",
        "dataset = tf.data.Dataset.from_tensor_slices((src_input, tgt_input))\n",
        "dataset = dataset.shuffle(BUFFER_SIZE)\n",
        "dataset = dataset.batch(BATCH_SIZE, drop_remainder=True)\n",
        "dataset"
      ],
      "metadata": {
        "colab": {
          "base_uri": "https://localhost:8080/"
        },
        "id": "9R3G7jgrWTaE",
        "outputId": "f6fb0be6-b834-4558-c74e-8377b122cac2"
      },
      "execution_count": null,
      "outputs": [
        {
          "output_type": "execute_result",
          "data": {
            "text/plain": [
              "<BatchDataset element_spec=(TensorSpec(shape=(256, 24), dtype=tf.int32, name=None), TensorSpec(shape=(256, 24), dtype=tf.int32, name=None))>"
            ]
          },
          "metadata": {},
          "execution_count": 116
        }
      ]
    },
    {
      "cell_type": "markdown",
      "source": [
        "- 모두 완료했으니 다음 스텝으로 넘어갑니다."
      ],
      "metadata": {
        "id": "BSwAhLBedkAm"
      }
    },
    {
      "cell_type": "markdown",
      "source": [
        "### 1.5 Optimizer"
      ],
      "metadata": {
        "id": "qV_VEuyedj2P"
      }
    },
    {
      "cell_type": "markdown",
      "source": [
        "- Optimizer를 따로 기술하는 이유는 oprimizer에 따른 변화가 궁금해서입니다.  \n",
        "keras에서 제공하는 optimizer를 다 이용해보겠습니다."
      ],
      "metadata": {
        "id": "QIZCsueb8p8X"
      }
    },
    {
      "cell_type": "markdown",
      "source": [
        "- **maxlen 제한을 제거했습니다.**  \n",
        "(이유는 sentence processing 과정에서 단어를 제한해서 받았기 때문입니다.)"
      ],
      "metadata": {
        "id": "rFChBfcBybN-"
      }
    },
    {
      "cell_type": "markdown",
      "source": [
        "- embedding의 input_dim, output_dim, epoch 등은 다 동일합니다  \n",
        "(optimizer만 변경하며 결과를 보겠습니다)"
      ],
      "metadata": {
        "id": "QF_kVH3VVq1W"
      }
    },
    {
      "cell_type": "markdown",
      "source": [
        "- model과 histroy의 이름 앞에 '(optimizer_name)_'을 넣어 구분했습니다."
      ],
      "metadata": {
        "id": "dyoKcqTDW94b"
      }
    },
    {
      "cell_type": "markdown",
      "source": [
        "#### 1.5.1 Adam_optimizer"
      ],
      "metadata": {
        "id": "yPmmI3u8Vl02"
      }
    },
    {
      "cell_type": "markdown",
      "source": [
        "- 첫번째로 시도하는 Adam optimizer는 바로 직전에 돌린 optimizer와 동일합니다."
      ],
      "metadata": {
        "id": "S-KTTMIZYUsz"
      }
    },
    {
      "cell_type": "code",
      "execution_count": null,
      "metadata": {
        "id": "RpLjwSa1PEy0"
      },
      "outputs": [],
      "source": [
        "Adam_model = TextGenerator(tokenizer.num_words + 1, embedding_size , hidden_size)\n",
        "\n",
        "Adam_history = []\n",
        "epochs = 10\n",
        "\n",
        "optimizer = tf.keras.optimizers.Adam()\n",
        "\n",
        "loss = tf.keras.losses.SparseCategoricalCrossentropy(\n",
        "    from_logits=True,\n",
        "    reduction='none'\n",
        ")\n",
        "\n",
        "Adam_model.compile(loss=loss, optimizer=optimizer)"
      ]
    },
    {
      "cell_type": "code",
      "execution_count": null,
      "metadata": {
        "id": "8bxxtCe2PXIP",
        "colab": {
          "base_uri": "https://localhost:8080/"
        },
        "outputId": "e8928e36-2425-4221-f146-e80b419bc32f"
      },
      "outputs": [
        {
          "output_type": "stream",
          "name": "stdout",
          "text": [
            "Epoch 1/10\n",
            "678/678 [==============================] - 723s 1s/step - loss: 2.2464 - val_loss: 1.9805\n",
            "Epoch 2/10\n",
            "678/678 [==============================] - 725s 1s/step - loss: 1.9433 - val_loss: 1.8197\n",
            "Epoch 3/10\n",
            "678/678 [==============================] - 726s 1s/step - loss: 1.7872 - val_loss: 1.6833\n",
            "Epoch 4/10\n",
            "678/678 [==============================] - 727s 1s/step - loss: 1.6661 - val_loss: 1.5683\n",
            "Epoch 5/10\n",
            "678/678 [==============================] - 728s 1s/step - loss: 1.5581 - val_loss: 1.4613\n",
            "Epoch 6/10\n",
            "678/678 [==============================] - 727s 1s/step - loss: 1.4605 - val_loss: 1.3681\n",
            "Epoch 7/10\n",
            "678/678 [==============================] - 728s 1s/step - loss: 1.3715 - val_loss: 1.2828\n",
            "Epoch 8/10\n",
            "678/678 [==============================] - 728s 1s/step - loss: 1.2885 - val_loss: 1.1988\n",
            "Epoch 9/10\n",
            "678/678 [==============================] - 727s 1s/step - loss: 1.2101 - val_loss: 1.1244\n",
            "Epoch 10/10\n",
            "678/678 [==============================] - 729s 1s/step - loss: 1.1357 - val_loss: 1.0506\n"
          ]
        }
      ],
      "source": [
        "Adam_history = Adam_model.fit(dataset,\n",
        "          epochs=10,\n",
        "          batch_size=256,\n",
        "          validation_data=(enc_val, dec_val),\n",
        "          verbose=1)"
      ]
    },
    {
      "cell_type": "markdown",
      "source": [
        "- 기대 이상입니다, val_loss도 잘 떨어지는 것을 확인할 수 있습니다."
      ],
      "metadata": {
        "id": "WRL30iUT9VKQ"
      }
    },
    {
      "cell_type": "code",
      "execution_count": null,
      "metadata": {
        "id": "UReyBt2JLRzG",
        "colab": {
          "base_uri": "https://localhost:8080/",
          "height": 35
        },
        "outputId": "373d23d0-8630-4415-d05b-cd73d2a0aabf"
      },
      "outputs": [
        {
          "output_type": "execute_result",
          "data": {
            "text/plain": [
              "'<start> i love you , liberian girl <end> '"
            ],
            "application/vnd.google.colaboratory.intrinsic+json": {
              "type": "string"
            }
          },
          "metadata": {},
          "execution_count": 97
        }
      ],
      "source": [
        "generate_text(Adam_model, tokenizer, init_sentence=\"<start> i love\", max_len=27)"
      ]
    },
    {
      "cell_type": "code",
      "source": [
        "generate_text(Adam_model, tokenizer, init_sentence=\"<start> i hate\", max_len=27)"
      ],
      "metadata": {
        "id": "X3BAHf--aLdo",
        "colab": {
          "base_uri": "https://localhost:8080/",
          "height": 35
        },
        "outputId": "d6299a84-ab2b-40c0-db6b-92371fc8c2c3"
      },
      "execution_count": null,
      "outputs": [
        {
          "output_type": "execute_result",
          "data": {
            "text/plain": [
              "'<start> i hate my love <end> '"
            ],
            "application/vnd.google.colaboratory.intrinsic+json": {
              "type": "string"
            }
          },
          "metadata": {},
          "execution_count": 98
        }
      ]
    },
    {
      "cell_type": "markdown",
      "source": [
        "- liberian girl만 찾네요... 마이클잭슨 영향을 많이 받은 것 같습니다."
      ],
      "metadata": {
        "id": "UoejNLf2zw-s"
      }
    },
    {
      "cell_type": "markdown",
      "source": [
        "#### 1.5.2 Adagrad_optimizer"
      ],
      "metadata": {
        "id": "TqpGyFzNap74"
      }
    },
    {
      "cell_type": "code",
      "source": [
        "Adagrad_model = TextGenerator(tokenizer.num_words + 1, embedding_size , hidden_size)\n",
        "\n",
        "Adagrad_history = []\n",
        "epochs = 10\n",
        "\n",
        "optimizer = tf.keras.optimizers.Adagrad()\n",
        "\n",
        "loss = tf.keras.losses.SparseCategoricalCrossentropy(\n",
        "    from_logits=True,\n",
        "    reduction='none'\n",
        ")\n",
        "\n",
        "Adagrad_model.compile(loss=loss, optimizer=optimizer)"
      ],
      "metadata": {
        "id": "d8to61dDa4-Z"
      },
      "execution_count": null,
      "outputs": []
    },
    {
      "cell_type": "code",
      "source": [
        "Adagrad_history = Adagrad_model.fit(dataset, \n",
        "                   epochs=epochs,\n",
        "                   batch_size=256,\n",
        "                   validation_data=(enc_val, dec_val),\n",
        "                   verbose=1)"
      ],
      "metadata": {
        "colab": {
          "base_uri": "https://localhost:8080/"
        },
        "id": "5IBjXnKna8Y6",
        "outputId": "79ddf669-b8a6-4537-b321-c01a4a058749"
      },
      "execution_count": null,
      "outputs": [
        {
          "output_type": "stream",
          "name": "stdout",
          "text": [
            "Epoch 1/10\n",
            "678/678 [==============================] - 732s 1s/step - loss: 2.6353 - val_loss: 2.3207\n",
            "Epoch 2/10\n",
            "678/678 [==============================] - 717s 1s/step - loss: 2.3076 - val_loss: 2.2712\n",
            "Epoch 3/10\n",
            "678/678 [==============================] - 718s 1s/step - loss: 2.2619 - val_loss: 2.2317\n",
            "Epoch 4/10\n",
            "678/678 [==============================] - 717s 1s/step - loss: 2.2244 - val_loss: 2.1994\n",
            "Epoch 5/10\n",
            "678/678 [==============================] - 717s 1s/step - loss: 2.1978 - val_loss: 2.1785\n",
            "Epoch 6/10\n",
            "678/678 [==============================] - 718s 1s/step - loss: 2.1805 - val_loss: 2.1639\n",
            "Epoch 7/10\n",
            "678/678 [==============================] - 719s 1s/step - loss: 2.1677 - val_loss: 2.1526\n",
            "Epoch 8/10\n",
            "678/678 [==============================] - 718s 1s/step - loss: 2.1572 - val_loss: 2.1429\n",
            "Epoch 9/10\n",
            "678/678 [==============================] - 717s 1s/step - loss: 2.1483 - val_loss: 2.1347\n",
            "Epoch 10/10\n",
            "678/678 [==============================] - 718s 1s/step - loss: 2.1400 - val_loss: 2.1277\n"
          ]
        }
      ]
    },
    {
      "cell_type": "code",
      "source": [
        "generate_text(Adagrad_model, tokenizer, init_sentence=\"<start> i love\", max_len=27)"
      ],
      "metadata": {
        "colab": {
          "base_uri": "https://localhost:8080/",
          "height": 35
        },
        "id": "PrsaG4ObbHNA",
        "outputId": "d4455cb4-fae3-4fb1-81e9-efa7710624c4"
      },
      "execution_count": null,
      "outputs": [
        {
          "output_type": "execute_result",
          "data": {
            "text/plain": [
              "'<start> i love you be you be <end> '"
            ],
            "application/vnd.google.colaboratory.intrinsic+json": {
              "type": "string"
            }
          },
          "metadata": {},
          "execution_count": 101
        }
      ]
    },
    {
      "cell_type": "code",
      "source": [
        "generate_text(Adagrad_model, tokenizer, init_sentence=\"<start> i hate\", max_len=27)"
      ],
      "metadata": {
        "colab": {
          "base_uri": "https://localhost:8080/",
          "height": 35
        },
        "id": "kYa3uLmQbHnF",
        "outputId": "b70fbec6-3be9-46e5-9f90-fea286cd700c"
      },
      "execution_count": null,
      "outputs": [
        {
          "output_type": "execute_result",
          "data": {
            "text/plain": [
              "'<start> i hate you be you be <end> '"
            ],
            "application/vnd.google.colaboratory.intrinsic+json": {
              "type": "string"
            }
          },
          "metadata": {},
          "execution_count": 102
        }
      ]
    },
    {
      "cell_type": "markdown",
      "metadata": {
        "id": "uGsn-ZJ7EZIT"
      },
      "source": [
        "#### 1.5.3 Adadelta_optimizer"
      ]
    },
    {
      "cell_type": "code",
      "source": [
        "Adadelta_model = TextGenerator(tokenizer.num_words + 1, embedding_size , hidden_size)\n",
        "\n",
        "Adadelta_history = []\n",
        "epochs = 10\n",
        "\n",
        "optimizer = tf.keras.optimizers.Adadelta()\n",
        "\n",
        "loss = tf.keras.losses.SparseCategoricalCrossentropy(\n",
        "    from_logits=True,\n",
        "    reduction='none'\n",
        ")\n",
        "\n",
        "Adadelta_model.compile(loss=loss, optimizer=optimizer)"
      ],
      "metadata": {
        "id": "nZ9ADYKl4JO6"
      },
      "execution_count": null,
      "outputs": []
    },
    {
      "cell_type": "code",
      "source": [
        "Adadelta_history = Adadelta_model.fit(dataset, \n",
        "                   epochs=epochs,\n",
        "                   batch_size=256,\n",
        "                   validation_data=(enc_val, dec_val),\n",
        "                   verbose=1)"
      ],
      "metadata": {
        "id": "68b2qOiD4O3W",
        "colab": {
          "base_uri": "https://localhost:8080/"
        },
        "outputId": "8fa32330-0ec4-4736-b60d-28a489417f14"
      },
      "execution_count": null,
      "outputs": [
        {
          "output_type": "stream",
          "name": "stdout",
          "text": [
            "Epoch 1/10\n",
            "678/678 [==============================] - 732s 1s/step - loss: 4.1709 - val_loss: 2.9569\n",
            "Epoch 2/10\n",
            "678/678 [==============================] - 718s 1s/step - loss: 2.8608 - val_loss: 2.7546\n",
            "Epoch 3/10\n",
            "678/678 [==============================] - 721s 1s/step - loss: 2.6766 - val_loss: 2.5803\n",
            "Epoch 4/10\n",
            "678/678 [==============================] - 718s 1s/step - loss: 2.5221 - val_loss: 2.4613\n",
            "Epoch 5/10\n",
            "678/678 [==============================] - 715s 1s/step - loss: 2.4309 - val_loss: 2.3922\n",
            "Epoch 6/10\n",
            "678/678 [==============================] - 719s 1s/step - loss: 2.3776 - val_loss: 2.3526\n",
            "Epoch 7/10\n",
            "678/678 [==============================] - 720s 1s/step - loss: 2.3480 - val_loss: 2.3317\n",
            "Epoch 8/10\n",
            "678/678 [==============================] - 719s 1s/step - loss: 2.3327 - val_loss: 2.3205\n",
            "Epoch 9/10\n",
            "678/678 [==============================] - 718s 1s/step - loss: 2.3240 - val_loss: 2.3137\n",
            "Epoch 10/10\n",
            "678/678 [==============================] - 706s 1s/step - loss: 2.3183 - val_loss: 2.3090\n"
          ]
        }
      ]
    },
    {
      "cell_type": "code",
      "source": [
        "generate_text(Adadelta_model, tokenizer, init_sentence=\"<start> i love\", max_len=27)"
      ],
      "metadata": {
        "id": "0UKCbu_L4JL-",
        "colab": {
          "base_uri": "https://localhost:8080/",
          "height": 35
        },
        "outputId": "2a90206b-1e91-4933-b120-2d3ca30a1cc7"
      },
      "execution_count": null,
      "outputs": [
        {
          "output_type": "execute_result",
          "data": {
            "text/plain": [
              "'<start> i love , <end> '"
            ],
            "application/vnd.google.colaboratory.intrinsic+json": {
              "type": "string"
            }
          },
          "metadata": {},
          "execution_count": 119
        }
      ]
    },
    {
      "cell_type": "code",
      "source": [
        "generate_text(Adadelta_model, tokenizer, init_sentence=\"<start> i hate\", max_len=27)"
      ],
      "metadata": {
        "id": "4j5ArcY49nbg",
        "colab": {
          "base_uri": "https://localhost:8080/",
          "height": 35
        },
        "outputId": "72279f3b-eb53-4e97-8438-fea208dd73a4"
      },
      "execution_count": null,
      "outputs": [
        {
          "output_type": "execute_result",
          "data": {
            "text/plain": [
              "'<start> i hate , <end> '"
            ],
            "application/vnd.google.colaboratory.intrinsic+json": {
              "type": "string"
            }
          },
          "metadata": {},
          "execution_count": 120
        }
      ]
    },
    {
      "cell_type": "markdown",
      "source": [
        "#### 1.5.4 Adamax_optimizer"
      ],
      "metadata": {
        "id": "0C2tLiJ3bPb6"
      }
    },
    {
      "cell_type": "code",
      "source": [
        "Adamax_model = TextGenerator(tokenizer.num_words + 1, embedding_size , hidden_size)\n",
        "\n",
        "Adamax_history = []\n",
        "epochs = 10\n",
        "\n",
        "optimizer = tf.keras.optimizers.Adamax()\n",
        "\n",
        "loss = tf.keras.losses.SparseCategoricalCrossentropy(\n",
        "    from_logits=True,\n",
        "    reduction='none'\n",
        ")\n",
        "\n",
        "Adamax_model.compile(loss=loss, optimizer=optimizer)"
      ],
      "metadata": {
        "id": "E7XxnSXebXU5"
      },
      "execution_count": null,
      "outputs": []
    },
    {
      "cell_type": "code",
      "source": [
        "Adamax_history = Adamax_model.fit(dataset, \n",
        "                   epochs=epochs,\n",
        "                   batch_size=256,\n",
        "                   validation_data=(enc_val, dec_val),\n",
        "                   verbose=1)"
      ],
      "metadata": {
        "id": "ucBlXAtibarA",
        "colab": {
          "base_uri": "https://localhost:8080/"
        },
        "outputId": "e5309ac1-5b79-4aa7-ec4d-b52dd8485241"
      },
      "execution_count": null,
      "outputs": [
        {
          "output_type": "stream",
          "name": "stdout",
          "text": [
            "Epoch 1/10\n",
            "678/678 [==============================] - 708s 1s/step - loss: 2.5187 - val_loss: 2.2206\n",
            "Epoch 2/10\n",
            "678/678 [==============================] - 699s 1s/step - loss: 2.1333 - val_loss: 2.0606\n",
            "Epoch 3/10\n",
            "678/678 [==============================] - 704s 1s/step - loss: 2.0332 - val_loss: 1.9735\n",
            "Epoch 4/10\n",
            "678/678 [==============================] - 708s 1s/step - loss: 1.9535 - val_loss: 1.9004\n",
            "Epoch 5/10\n",
            "678/678 [==============================] - 710s 1s/step - loss: 1.8864 - val_loss: 1.8363\n",
            "Epoch 6/10\n",
            "678/678 [==============================] - 710s 1s/step - loss: 1.8258 - val_loss: 1.7776\n",
            "Epoch 7/10\n",
            "678/678 [==============================] - 710s 1s/step - loss: 1.7679 - val_loss: 1.7190\n",
            "Epoch 8/10\n",
            "678/678 [==============================] - 711s 1s/step - loss: 1.7127 - val_loss: 1.6635\n",
            "Epoch 9/10\n",
            "678/678 [==============================] - 710s 1s/step - loss: 1.6575 - val_loss: 1.6079\n",
            "Epoch 10/10\n",
            "678/678 [==============================] - 710s 1s/step - loss: 1.6019 - val_loss: 1.5487\n"
          ]
        }
      ]
    },
    {
      "cell_type": "code",
      "source": [
        "generate_text(Adamax_model, tokenizer, init_sentence=\"<start> i love\", max_len=27)"
      ],
      "metadata": {
        "id": "HpDah6sGbeHi",
        "colab": {
          "base_uri": "https://localhost:8080/",
          "height": 35
        },
        "outputId": "1305eb10-4c9b-402d-b86f-a5f9d41bb748"
      },
      "execution_count": null,
      "outputs": [
        {
          "output_type": "execute_result",
          "data": {
            "text/plain": [
              "'<start> i love you so much <end> '"
            ],
            "application/vnd.google.colaboratory.intrinsic+json": {
              "type": "string"
            }
          },
          "metadata": {},
          "execution_count": 123
        }
      ]
    },
    {
      "cell_type": "code",
      "source": [
        "generate_text(Adamax_model, tokenizer, init_sentence=\"<start> i hate\", max_len=27)"
      ],
      "metadata": {
        "id": "F39uEOQDbgk8",
        "colab": {
          "base_uri": "https://localhost:8080/",
          "height": 35
        },
        "outputId": "ce7c044b-7334-4f22-bf0c-c2db22ea1e98"
      },
      "execution_count": null,
      "outputs": [
        {
          "output_type": "execute_result",
          "data": {
            "text/plain": [
              "'<start> i hate you <end> '"
            ],
            "application/vnd.google.colaboratory.intrinsic+json": {
              "type": "string"
            }
          },
          "metadata": {},
          "execution_count": 124
        }
      ]
    },
    {
      "cell_type": "markdown",
      "source": [
        "### 1.6 정리"
      ],
      "metadata": {
        "id": "RBD0G2-1p8vW"
      }
    },
    {
      "cell_type": "code",
      "source": [
        "plt.plot(history.history['loss'])\n",
        "plt.plot(Adam_history.history['loss'])\n",
        "plt.plot(Adagrad_history.history['loss'])\n",
        "plt.plot(Adadelta_history.history['loss'])\n",
        "plt.plot(Adamax_history.history['loss'])\n",
        "plt.title('loss')\n",
        "plt.ylabel('loss')\n",
        "plt.xlabel('epoch')\n",
        "plt.legend(['Original', 'Adam', 'Adagrad', 'Adadelta', 'Adamax'], loc='upper left')\n",
        "plt.show()"
      ],
      "metadata": {
        "colab": {
          "base_uri": "https://localhost:8080/",
          "height": 295
        },
        "id": "r3qBejM5yhOi",
        "outputId": "7165b74e-357c-4588-8cdd-8c01527d8032"
      },
      "execution_count": null,
      "outputs": [
        {
          "output_type": "display_data",
          "data": {
            "text/plain": [
              "<Figure size 432x288 with 1 Axes>"
            ],
            "image/png": "[encoded data removed]"
          },
          "metadata": {
            "needs_background": "light"
          }
        }
      ]
    },
    {
      "cell_type": "code",
      "source": [
        "plt.plot(history.history['val_loss'])\n",
        "plt.plot(Adam_history.history['val_loss'])\n",
        "plt.plot(Adagrad_history.history['val_loss'])\n",
        "plt.plot(Adadelta_history.history['val_loss'])\n",
        "plt.plot(Adamax_history.history['val_loss'])\n",
        "plt.title('val_loss')\n",
        "plt.ylabel('val_loss')\n",
        "plt.xlabel('epoch')\n",
        "plt.legend(['Original', 'Adam', 'Adagrad', 'Adadelta', 'Adamax'], loc='upper left')\n",
        "plt.show()"
      ],
      "metadata": {
        "id": "KXF7P2Vrdz4q",
        "colab": {
          "base_uri": "https://localhost:8080/",
          "height": 295
        },
        "outputId": "74ae4026-22ce-4665-fa4a-542344997266"
      },
      "execution_count": null,
      "outputs": [
        {
          "output_type": "display_data",
          "data": {
            "text/plain": [
              "<Figure size 432x288 with 1 Axes>"
            ],
            "image/png": "[encoded data removed]"
          },
          "metadata": {
            "needs_background": "light"
          }
        }
      ]
    },
    {
      "cell_type": "markdown",
      "source": [
        "- matplotlib으로 시각화하여 optimizer별 loss의 감소를 확인할 수 있습니다."
      ],
      "metadata": {
        "id": "8zF0juq3dzdX"
      }
    },
    {
      "cell_type": "markdown",
      "metadata": {
        "id": "EG4bOLKWEnsn"
      },
      "source": [
        "## 2. 회고"
      ]
    },
    {
      "cell_type": "markdown",
      "metadata": {
        "id": "OpcpoHLEEw5l"
      },
      "source": [
        "1) dataset.api의 효용\n",
        " - 일단 dataset을 쓰면 속도가 빨라진다고 알고 있지만, 이번 경우에는 데이터가 크지 않아 별 효과가 없는 것 같습니다.\n",
        " - 여기서는 따로 집어넣지 않았는데 실험적으로 한 번 사용했으며,  그냥 train, val data를 나눈 상태에서 학습했습니다.  \n",
        " 어짜피 train_test_split에서 shuffle=True 옵션은 줬으니까요.\n",
        " - 나중에 데이터가 더 많아지면 다시 비교해보겠습니다.\n",
        " - 그전에 학습한 내용을 토대로 추가할만한 옵션을 기록으로 남겨둡니다.  \n",
        " dataset = dataset.batch() => 배치 생성  \n",
        " dataset = dataset.cache() => preprosessing 시간을 줄이고 싶을 때  \n",
        " dataset = dataset.shuffle() => 데이터 셔플링  \n",
        " dataset = dataset.prefetch() => 데이터 로드시간을 줄이기 위해 미리 메모리에 적재시킴"
      ]
    },
    {
      "cell_type": "markdown",
      "source": [
        "2) maxlen의 필요성\n",
        " - maxlen으로 제한을 거는 것은 비효율적으로 생각됩니다.  \n",
        "분명 3('end')이나 padding 결과인 0으로 끝나는 문장이 아닌 다른 단어로 잘린 문장도 그냥 들어갈 것 같습니다. "
      ],
      "metadata": {
        "id": "psb8W3QyJyVU"
      }
    },
    {
      "cell_type": "markdown",
      "source": [
        "3) Optimizer의 활용\n",
        " - 적절한 optimizer의 활용이 중요할 것 같습니다.  \n",
        " 이런 형식의 시퀀스에서는 Adam, RMSprop을 optimizer을 사용하고,  \n",
        " 다른 프로젝트에서도 시간만 허락한다면 optimizer를 바꾸면서 확인하는게 좋겠습니다.\n",
        " - 참고로 PyTorch에는 AdamW, RAdam, SparseAdam, ASGD(Averaged SGD), LBFGS, Rprop 등 keras에는 없는 것들이 있다..."
      ],
      "metadata": {
        "id": "mtggeIiCF3yn"
      }
    },
    {
      "cell_type": "markdown",
      "source": [
        "4) 전처리의 필요성\n",
        " - 2번과 같은 의미에서 가사가 아닌 곡해석이 들어간 부분을 지적하고 싶습니다.  \n",
        "  전처리는 필수라는 생각이 듭니다.   'Garbage in, garbage out'"
      ],
      "metadata": {
        "id": "hqmAesOe1aQe"
      }
    },
    {
      "cell_type": "markdown",
      "metadata": {
        "id": "NVRo4Mh4Erww"
      },
      "source": [
        "## 3. References"
      ]
    },
    {
      "cell_type": "markdown",
      "source": [
        "- 아래의 사이트에서 많은 도움을 받았습니다."
      ],
      "metadata": {
        "id": "vqRrc84_2L5D"
      }
    },
    {
      "cell_type": "markdown",
      "metadata": {
        "id": "EOdYoN5iEv-7"
      },
      "source": [
        "- https://www.tensorflow.org/api_docs/python/tf/keras/optimizers\n",
        "- https://dbstndi6316.tistory.com/297\n",
        "- https://ebbnflow.tistory.com/135\n",
        "- https://wikidocs.net/83544"
      ]
    }
  ],
  "metadata": {
    "accelerator": "GPU",
    "colab": {
      "collapsed_sections": [],
      "machine_shape": "hm",
      "name": "[E06]Lyrics_model_yet2.ipynb의 사본",
      "provenance": []
    },
    "kernelspec": {
      "display_name": "Python 3",
      "name": "python3"
    },
    "language_info": {
      "name": "python"
    }
  },
  "nbformat": 4,
  "nbformat_minor": 0
}