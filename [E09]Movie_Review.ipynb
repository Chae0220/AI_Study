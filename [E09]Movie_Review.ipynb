{
  "nbformat": 4,
  "nbformat_minor": 0,
  "metadata": {
    "colab": {
      "name": "[E09]Movie_Review.ipynb",
      "provenance": [],
      "collapsed_sections": [],
      "machine_shape": "hm",
      "toc_visible": true
    },
    "kernelspec": {
      "name": "python3",
      "display_name": "Python 3"
    },
    "language_info": {
      "name": "python"
    },
    "accelerator": "GPU",
    "widgets": {
      "application/vnd.jupyter.widget-state+json": {
        "b2d3c29f461f4bee8abe1d3bcf20563f": {
          "model_module": "@jupyter-widgets/controls",
          "model_name": "HBoxModel",
          "model_module_version": "1.5.0",
          "state": {
            "_dom_classes": [],
            "_model_module": "@jupyter-widgets/controls",
            "_model_module_version": "1.5.0",
            "_model_name": "HBoxModel",
            "_view_count": null,
            "_view_module": "@jupyter-widgets/controls",
            "_view_module_version": "1.5.0",
            "_view_name": "HBoxView",
            "box_style": "",
            "children": [
              "IPY_MODEL_072339c448d2441d8f0358867a37e3ae",
              "IPY_MODEL_61d6dec5a8ee475a9432ac4b2f527034",
              "IPY_MODEL_d915be24d8f5489c871d2478f5d9d83a"
            ],
            "layout": "IPY_MODEL_56587119a5bc4d9f8174b021d673d4a1"
          }
        },
        "072339c448d2441d8f0358867a37e3ae": {
          "model_module": "@jupyter-widgets/controls",
          "model_name": "HTMLModel",
          "model_module_version": "1.5.0",
          "state": {
            "_dom_classes": [],
            "_model_module": "@jupyter-widgets/controls",
            "_model_module_version": "1.5.0",
            "_model_name": "HTMLModel",
            "_view_count": null,
            "_view_module": "@jupyter-widgets/controls",
            "_view_module_version": "1.5.0",
            "_view_name": "HTMLView",
            "description": "",
            "description_tooltip": null,
            "layout": "IPY_MODEL_b9545980dd3c4991a27b8788459340c0",
            "placeholder": "​",
            "style": "IPY_MODEL_882c3f00a8204262905fbda9e2e9d278",
            "value": "Downloading: 100%"
          }
        },
        "61d6dec5a8ee475a9432ac4b2f527034": {
          "model_module": "@jupyter-widgets/controls",
          "model_name": "FloatProgressModel",
          "model_module_version": "1.5.0",
          "state": {
            "_dom_classes": [],
            "_model_module": "@jupyter-widgets/controls",
            "_model_module_version": "1.5.0",
            "_model_name": "FloatProgressModel",
            "_view_count": null,
            "_view_module": "@jupyter-widgets/controls",
            "_view_module_version": "1.5.0",
            "_view_name": "ProgressView",
            "bar_style": "success",
            "description": "",
            "description_tooltip": null,
            "layout": "IPY_MODEL_002e476ff3d44f00afb20e6ac44e0686",
            "max": 248477,
            "min": 0,
            "orientation": "horizontal",
            "style": "IPY_MODEL_802a91c926244bbe96f3c6e9c040a394",
            "value": 248477
          }
        },
        "d915be24d8f5489c871d2478f5d9d83a": {
          "model_module": "@jupyter-widgets/controls",
          "model_name": "HTMLModel",
          "model_module_version": "1.5.0",
          "state": {
            "_dom_classes": [],
            "_model_module": "@jupyter-widgets/controls",
            "_model_module_version": "1.5.0",
            "_model_name": "HTMLModel",
            "_view_count": null,
            "_view_module": "@jupyter-widgets/controls",
            "_view_module_version": "1.5.0",
            "_view_name": "HTMLView",
            "description": "",
            "description_tooltip": null,
            "layout": "IPY_MODEL_1d09d204d48a437992802b636bde43dc",
            "placeholder": "​",
            "style": "IPY_MODEL_1ded366298604d96a04370a63840528d",
            "value": " 243k/243k [00:00&lt;00:00, 891kB/s]"
          }
        },
        "56587119a5bc4d9f8174b021d673d4a1": {
          "model_module": "@jupyter-widgets/base",
          "model_name": "LayoutModel",
          "model_module_version": "1.2.0",
          "state": {
            "_model_module": "@jupyter-widgets/base",
            "_model_module_version": "1.2.0",
            "_model_name": "LayoutModel",
            "_view_count": null,
            "_view_module": "@jupyter-widgets/base",
            "_view_module_version": "1.2.0",
            "_view_name": "LayoutView",
            "align_content": null,
            "align_items": null,
            "align_self": null,
            "border": null,
            "bottom": null,
            "display": null,
            "flex": null,
            "flex_flow": null,
            "grid_area": null,
            "grid_auto_columns": null,
            "grid_auto_flow": null,
            "grid_auto_rows": null,
            "grid_column": null,
            "grid_gap": null,
            "grid_row": null,
            "grid_template_areas": null,
            "grid_template_columns": null,
            "grid_template_rows": null,
            "height": null,
            "justify_content": null,
            "justify_items": null,
            "left": null,
            "margin": null,
            "max_height": null,
            "max_width": null,
            "min_height": null,
            "min_width": null,
            "object_fit": null,
            "object_position": null,
            "order": null,
            "overflow": null,
            "overflow_x": null,
            "overflow_y": null,
            "padding": null,
            "right": null,
            "top": null,
            "visibility": null,
            "width": null
          }
        },
        "b9545980dd3c4991a27b8788459340c0": {
          "model_module": "@jupyter-widgets/base",
          "model_name": "LayoutModel",
          "model_module_version": "1.2.0",
          "state": {
            "_model_module": "@jupyter-widgets/base",
            "_model_module_version": "1.2.0",
            "_model_name": "LayoutModel",
            "_view_count": null,
            "_view_module": "@jupyter-widgets/base",
            "_view_module_version": "1.2.0",
            "_view_name": "LayoutView",
            "align_content": null,
            "align_items": null,
            "align_self": null,
            "border": null,
            "bottom": null,
            "display": null,
            "flex": null,
            "flex_flow": null,
            "grid_area": null,
            "grid_auto_columns": null,
            "grid_auto_flow": null,
            "grid_auto_rows": null,
            "grid_column": null,
            "grid_gap": null,
            "grid_row": null,
            "grid_template_areas": null,
            "grid_template_columns": null,
            "grid_template_rows": null,
            "height": null,
            "justify_content": null,
            "justify_items": null,
            "left": null,
            "margin": null,
            "max_height": null,
            "max_width": null,
            "min_height": null,
            "min_width": null,
            "object_fit": null,
            "object_position": null,
            "order": null,
            "overflow": null,
            "overflow_x": null,
            "overflow_y": null,
            "padding": null,
            "right": null,
            "top": null,
            "visibility": null,
            "width": null
          }
        },
        "882c3f00a8204262905fbda9e2e9d278": {
          "model_module": "@jupyter-widgets/controls",
          "model_name": "DescriptionStyleModel",
          "model_module_version": "1.5.0",
          "state": {
            "_model_module": "@jupyter-widgets/controls",
            "_model_module_version": "1.5.0",
            "_model_name": "DescriptionStyleModel",
            "_view_count": null,
            "_view_module": "@jupyter-widgets/base",
            "_view_module_version": "1.2.0",
            "_view_name": "StyleView",
            "description_width": ""
          }
        },
        "002e476ff3d44f00afb20e6ac44e0686": {
          "model_module": "@jupyter-widgets/base",
          "model_name": "LayoutModel",
          "model_module_version": "1.2.0",
          "state": {
            "_model_module": "@jupyter-widgets/base",
            "_model_module_version": "1.2.0",
            "_model_name": "LayoutModel",
            "_view_count": null,
            "_view_module": "@jupyter-widgets/base",
            "_view_module_version": "1.2.0",
            "_view_name": "LayoutView",
            "align_content": null,
            "align_items": null,
            "align_self": null,
            "border": null,
            "bottom": null,
            "display": null,
            "flex": null,
            "flex_flow": null,
            "grid_area": null,
            "grid_auto_columns": null,
            "grid_auto_flow": null,
            "grid_auto_rows": null,
            "grid_column": null,
            "grid_gap": null,
            "grid_row": null,
            "grid_template_areas": null,
            "grid_template_columns": null,
            "grid_template_rows": null,
            "height": null,
            "justify_content": null,
            "justify_items": null,
            "left": null,
            "margin": null,
            "max_height": null,
            "max_width": null,
            "min_height": null,
            "min_width": null,
            "object_fit": null,
            "object_position": null,
            "order": null,
            "overflow": null,
            "overflow_x": null,
            "overflow_y": null,
            "padding": null,
            "right": null,
            "top": null,
            "visibility": null,
            "width": null
          }
        },
        "802a91c926244bbe96f3c6e9c040a394": {
          "model_module": "@jupyter-widgets/controls",
          "model_name": "ProgressStyleModel",
          "model_module_version": "1.5.0",
          "state": {
            "_model_module": "@jupyter-widgets/controls",
            "_model_module_version": "1.5.0",
            "_model_name": "ProgressStyleModel",
            "_view_count": null,
            "_view_module": "@jupyter-widgets/base",
            "_view_module_version": "1.2.0",
            "_view_name": "StyleView",
            "bar_color": null,
            "description_width": ""
          }
        },
        "1d09d204d48a437992802b636bde43dc": {
          "model_module": "@jupyter-widgets/base",
          "model_name": "LayoutModel",
          "model_module_version": "1.2.0",
          "state": {
            "_model_module": "@jupyter-widgets/base",
            "_model_module_version": "1.2.0",
            "_model_name": "LayoutModel",
            "_view_count": null,
            "_view_module": "@jupyter-widgets/base",
            "_view_module_version": "1.2.0",
            "_view_name": "LayoutView",
            "align_content": null,
            "align_items": null,
            "align_self": null,
            "border": null,
            "bottom": null,
            "display": null,
            "flex": null,
            "flex_flow": null,
            "grid_area": null,
            "grid_auto_columns": null,
            "grid_auto_flow": null,
            "grid_auto_rows": null,
            "grid_column": null,
            "grid_gap": null,
            "grid_row": null,
            "grid_template_areas": null,
            "grid_template_columns": null,
            "grid_template_rows": null,
            "height": null,
            "justify_content": null,
            "justify_items": null,
            "left": null,
            "margin": null,
            "max_height": null,
            "max_width": null,
            "min_height": null,
            "min_width": null,
            "object_fit": null,
            "object_position": null,
            "order": null,
            "overflow": null,
            "overflow_x": null,
            "overflow_y": null,
            "padding": null,
            "right": null,
            "top": null,
            "visibility": null,
            "width": null
          }
        },
        "1ded366298604d96a04370a63840528d": {
          "model_module": "@jupyter-widgets/controls",
          "model_name": "DescriptionStyleModel",
          "model_module_version": "1.5.0",
          "state": {
            "_model_module": "@jupyter-widgets/controls",
            "_model_module_version": "1.5.0",
            "_model_name": "DescriptionStyleModel",
            "_view_count": null,
            "_view_module": "@jupyter-widgets/base",
            "_view_module_version": "1.2.0",
            "_view_name": "StyleView",
            "description_width": ""
          }
        },
        "d9f5cb8e772d4dcf9238076ae4fa9d49": {
          "model_module": "@jupyter-widgets/controls",
          "model_name": "HBoxModel",
          "model_module_version": "1.5.0",
          "state": {
            "_dom_classes": [],
            "_model_module": "@jupyter-widgets/controls",
            "_model_module_version": "1.5.0",
            "_model_name": "HBoxModel",
            "_view_count": null,
            "_view_module": "@jupyter-widgets/controls",
            "_view_module_version": "1.5.0",
            "_view_name": "HBoxView",
            "box_style": "",
            "children": [
              "IPY_MODEL_6d233aa8f92e46f9bd447cd5473aa867",
              "IPY_MODEL_5abf81ac774b49c88143606770fc0e5f",
              "IPY_MODEL_861e238e9edb4eb2b4d3961863ce8af4"
            ],
            "layout": "IPY_MODEL_9a4928595630433faad1ae5f62a70b38"
          }
        },
        "6d233aa8f92e46f9bd447cd5473aa867": {
          "model_module": "@jupyter-widgets/controls",
          "model_name": "HTMLModel",
          "model_module_version": "1.5.0",
          "state": {
            "_dom_classes": [],
            "_model_module": "@jupyter-widgets/controls",
            "_model_module_version": "1.5.0",
            "_model_name": "HTMLModel",
            "_view_count": null,
            "_view_module": "@jupyter-widgets/controls",
            "_view_module_version": "1.5.0",
            "_view_name": "HTMLView",
            "description": "",
            "description_tooltip": null,
            "layout": "IPY_MODEL_b294837a3bb94b6d842ef4dadbbfe536",
            "placeholder": "​",
            "style": "IPY_MODEL_a4bab72aa3674ae0bd138337a0c1abeb",
            "value": "Downloading: 100%"
          }
        },
        "5abf81ac774b49c88143606770fc0e5f": {
          "model_module": "@jupyter-widgets/controls",
          "model_name": "FloatProgressModel",
          "model_module_version": "1.5.0",
          "state": {
            "_dom_classes": [],
            "_model_module": "@jupyter-widgets/controls",
            "_model_module_version": "1.5.0",
            "_model_name": "FloatProgressModel",
            "_view_count": null,
            "_view_module": "@jupyter-widgets/controls",
            "_view_module_version": "1.5.0",
            "_view_name": "ProgressView",
            "bar_style": "success",
            "description": "",
            "description_tooltip": null,
            "layout": "IPY_MODEL_1402006972a2458a87705f5a67beb099",
            "max": 494860,
            "min": 0,
            "orientation": "horizontal",
            "style": "IPY_MODEL_6911d8fca91e45e8975d1b0886344385",
            "value": 494860
          }
        },
        "861e238e9edb4eb2b4d3961863ce8af4": {
          "model_module": "@jupyter-widgets/controls",
          "model_name": "HTMLModel",
          "model_module_version": "1.5.0",
          "state": {
            "_dom_classes": [],
            "_model_module": "@jupyter-widgets/controls",
            "_model_module_version": "1.5.0",
            "_model_name": "HTMLModel",
            "_view_count": null,
            "_view_module": "@jupyter-widgets/controls",
            "_view_module_version": "1.5.0",
            "_view_name": "HTMLView",
            "description": "",
            "description_tooltip": null,
            "layout": "IPY_MODEL_32567abb058842e58f38d9c05ceed16b",
            "placeholder": "​",
            "style": "IPY_MODEL_0b5c15f54c474600a2ebb7388c1fe063",
            "value": " 483k/483k [00:00&lt;00:00, 817kB/s]"
          }
        },
        "9a4928595630433faad1ae5f62a70b38": {
          "model_module": "@jupyter-widgets/base",
          "model_name": "LayoutModel",
          "model_module_version": "1.2.0",
          "state": {
            "_model_module": "@jupyter-widgets/base",
            "_model_module_version": "1.2.0",
            "_model_name": "LayoutModel",
            "_view_count": null,
            "_view_module": "@jupyter-widgets/base",
            "_view_module_version": "1.2.0",
            "_view_name": "LayoutView",
            "align_content": null,
            "align_items": null,
            "align_self": null,
            "border": null,
            "bottom": null,
            "display": null,
            "flex": null,
            "flex_flow": null,
            "grid_area": null,
            "grid_auto_columns": null,
            "grid_auto_flow": null,
            "grid_auto_rows": null,
            "grid_column": null,
            "grid_gap": null,
            "grid_row": null,
            "grid_template_areas": null,
            "grid_template_columns": null,
            "grid_template_rows": null,
            "height": null,
            "justify_content": null,
            "justify_items": null,
            "left": null,
            "margin": null,
            "max_height": null,
            "max_width": null,
            "min_height": null,
            "min_width": null,
            "object_fit": null,
            "object_position": null,
            "order": null,
            "overflow": null,
            "overflow_x": null,
            "overflow_y": null,
            "padding": null,
            "right": null,
            "top": null,
            "visibility": null,
            "width": null
          }
        },
        "b294837a3bb94b6d842ef4dadbbfe536": {
          "model_module": "@jupyter-widgets/base",
          "model_name": "LayoutModel",
          "model_module_version": "1.2.0",
          "state": {
            "_model_module": "@jupyter-widgets/base",
            "_model_module_version": "1.2.0",
            "_model_name": "LayoutModel",
            "_view_count": null,
            "_view_module": "@jupyter-widgets/base",
            "_view_module_version": "1.2.0",
            "_view_name": "LayoutView",
            "align_content": null,
            "align_items": null,
            "align_self": null,
            "border": null,
            "bottom": null,
            "display": null,
            "flex": null,
            "flex_flow": null,
            "grid_area": null,
            "grid_auto_columns": null,
            "grid_auto_flow": null,
            "grid_auto_rows": null,
            "grid_column": null,
            "grid_gap": null,
            "grid_row": null,
            "grid_template_areas": null,
            "grid_template_columns": null,
            "grid_template_rows": null,
            "height": null,
            "justify_content": null,
            "justify_items": null,
            "left": null,
            "margin": null,
            "max_height": null,
            "max_width": null,
            "min_height": null,
            "min_width": null,
            "object_fit": null,
            "object_position": null,
            "order": null,
            "overflow": null,
            "overflow_x": null,
            "overflow_y": null,
            "padding": null,
            "right": null,
            "top": null,
            "visibility": null,
            "width": null
          }
        },
        "a4bab72aa3674ae0bd138337a0c1abeb": {
          "model_module": "@jupyter-widgets/controls",
          "model_name": "DescriptionStyleModel",
          "model_module_version": "1.5.0",
          "state": {
            "_model_module": "@jupyter-widgets/controls",
            "_model_module_version": "1.5.0",
            "_model_name": "DescriptionStyleModel",
            "_view_count": null,
            "_view_module": "@jupyter-widgets/base",
            "_view_module_version": "1.2.0",
            "_view_name": "StyleView",
            "description_width": ""
          }
        },
        "1402006972a2458a87705f5a67beb099": {
          "model_module": "@jupyter-widgets/base",
          "model_name": "LayoutModel",
          "model_module_version": "1.2.0",
          "state": {
            "_model_module": "@jupyter-widgets/base",
            "_model_module_version": "1.2.0",
            "_model_name": "LayoutModel",
            "_view_count": null,
            "_view_module": "@jupyter-widgets/base",
            "_view_module_version": "1.2.0",
            "_view_name": "LayoutView",
            "align_content": null,
            "align_items": null,
            "align_self": null,
            "border": null,
            "bottom": null,
            "display": null,
            "flex": null,
            "flex_flow": null,
            "grid_area": null,
            "grid_auto_columns": null,
            "grid_auto_flow": null,
            "grid_auto_rows": null,
            "grid_column": null,
            "grid_gap": null,
            "grid_row": null,
            "grid_template_areas": null,
            "grid_template_columns": null,
            "grid_template_rows": null,
            "height": null,
            "justify_content": null,
            "justify_items": null,
            "left": null,
            "margin": null,
            "max_height": null,
            "max_width": null,
            "min_height": null,
            "min_width": null,
            "object_fit": null,
            "object_position": null,
            "order": null,
            "overflow": null,
            "overflow_x": null,
            "overflow_y": null,
            "padding": null,
            "right": null,
            "top": null,
            "visibility": null,
            "width": null
          }
        },
        "6911d8fca91e45e8975d1b0886344385": {
          "model_module": "@jupyter-widgets/controls",
          "model_name": "ProgressStyleModel",
          "model_module_version": "1.5.0",
          "state": {
            "_model_module": "@jupyter-widgets/controls",
            "_model_module_version": "1.5.0",
            "_model_name": "ProgressStyleModel",
            "_view_count": null,
            "_view_module": "@jupyter-widgets/base",
            "_view_module_version": "1.2.0",
            "_view_name": "StyleView",
            "bar_color": null,
            "description_width": ""
          }
        },
        "32567abb058842e58f38d9c05ceed16b": {
          "model_module": "@jupyter-widgets/base",
          "model_name": "LayoutModel",
          "model_module_version": "1.2.0",
          "state": {
            "_model_module": "@jupyter-widgets/base",
            "_model_module_version": "1.2.0",
            "_model_name": "LayoutModel",
            "_view_count": null,
            "_view_module": "@jupyter-widgets/base",
            "_view_module_version": "1.2.0",
            "_view_name": "LayoutView",
            "align_content": null,
            "align_items": null,
            "align_self": null,
            "border": null,
            "bottom": null,
            "display": null,
            "flex": null,
            "flex_flow": null,
            "grid_area": null,
            "grid_auto_columns": null,
            "grid_auto_flow": null,
            "grid_auto_rows": null,
            "grid_column": null,
            "grid_gap": null,
            "grid_row": null,
            "grid_template_areas": null,
            "grid_template_columns": null,
            "grid_template_rows": null,
            "height": null,
            "justify_content": null,
            "justify_items": null,
            "left": null,
            "margin": null,
            "max_height": null,
            "max_width": null,
            "min_height": null,
            "min_width": null,
            "object_fit": null,
            "object_position": null,
            "order": null,
            "overflow": null,
            "overflow_x": null,
            "overflow_y": null,
            "padding": null,
            "right": null,
            "top": null,
            "visibility": null,
            "width": null
          }
        },
        "0b5c15f54c474600a2ebb7388c1fe063": {
          "model_module": "@jupyter-widgets/controls",
          "model_name": "DescriptionStyleModel",
          "model_module_version": "1.5.0",
          "state": {
            "_model_module": "@jupyter-widgets/controls",
            "_model_module_version": "1.5.0",
            "_model_name": "DescriptionStyleModel",
            "_view_count": null,
            "_view_module": "@jupyter-widgets/base",
            "_view_module_version": "1.2.0",
            "_view_name": "StyleView",
            "description_width": ""
          }
        },
        "effc7e533c964d0c8e4895f0fd381b52": {
          "model_module": "@jupyter-widgets/controls",
          "model_name": "HBoxModel",
          "model_module_version": "1.5.0",
          "state": {
            "_dom_classes": [],
            "_model_module": "@jupyter-widgets/controls",
            "_model_module_version": "1.5.0",
            "_model_name": "HBoxModel",
            "_view_count": null,
            "_view_module": "@jupyter-widgets/controls",
            "_view_module_version": "1.5.0",
            "_view_name": "HBoxView",
            "box_style": "",
            "children": [
              "IPY_MODEL_c75ce847cb844c40b6d79333188cf4e4",
              "IPY_MODEL_391b13365fe448e3b1a149ed1c0e870d",
              "IPY_MODEL_599ace340b2d4cd195823d35aec90b85"
            ],
            "layout": "IPY_MODEL_41af42ab49f64ce0b3bff7e31a3ffc5c"
          }
        },
        "c75ce847cb844c40b6d79333188cf4e4": {
          "model_module": "@jupyter-widgets/controls",
          "model_name": "HTMLModel",
          "model_module_version": "1.5.0",
          "state": {
            "_dom_classes": [],
            "_model_module": "@jupyter-widgets/controls",
            "_model_module_version": "1.5.0",
            "_model_name": "HTMLModel",
            "_view_count": null,
            "_view_module": "@jupyter-widgets/controls",
            "_view_module_version": "1.5.0",
            "_view_name": "HTMLView",
            "description": "",
            "description_tooltip": null,
            "layout": "IPY_MODEL_50fc740553314c7aa1226f8dd7335d64",
            "placeholder": "​",
            "style": "IPY_MODEL_53f85a10adea4ac9b784619892d05d5a",
            "value": "Downloading: 100%"
          }
        },
        "391b13365fe448e3b1a149ed1c0e870d": {
          "model_module": "@jupyter-widgets/controls",
          "model_name": "FloatProgressModel",
          "model_module_version": "1.5.0",
          "state": {
            "_dom_classes": [],
            "_model_module": "@jupyter-widgets/controls",
            "_model_module_version": "1.5.0",
            "_model_name": "FloatProgressModel",
            "_view_count": null,
            "_view_module": "@jupyter-widgets/controls",
            "_view_module_version": "1.5.0",
            "_view_name": "ProgressView",
            "bar_style": "success",
            "description": "",
            "description_tooltip": null,
            "layout": "IPY_MODEL_47bfe7a7386a49648f7fcb105d7966b2",
            "max": 125,
            "min": 0,
            "orientation": "horizontal",
            "style": "IPY_MODEL_f3db2c40a8944975bbfe37d928cd7486",
            "value": 125
          }
        },
        "599ace340b2d4cd195823d35aec90b85": {
          "model_module": "@jupyter-widgets/controls",
          "model_name": "HTMLModel",
          "model_module_version": "1.5.0",
          "state": {
            "_dom_classes": [],
            "_model_module": "@jupyter-widgets/controls",
            "_model_module_version": "1.5.0",
            "_model_name": "HTMLModel",
            "_view_count": null,
            "_view_module": "@jupyter-widgets/controls",
            "_view_module_version": "1.5.0",
            "_view_name": "HTMLView",
            "description": "",
            "description_tooltip": null,
            "layout": "IPY_MODEL_c0ed0991fdc54f419397299a0a93b70e",
            "placeholder": "​",
            "style": "IPY_MODEL_2b816ef4ee454a15a9b29f64e3d683c7",
            "value": " 125/125 [00:00&lt;00:00, 2.41kB/s]"
          }
        },
        "41af42ab49f64ce0b3bff7e31a3ffc5c": {
          "model_module": "@jupyter-widgets/base",
          "model_name": "LayoutModel",
          "model_module_version": "1.2.0",
          "state": {
            "_model_module": "@jupyter-widgets/base",
            "_model_module_version": "1.2.0",
            "_model_name": "LayoutModel",
            "_view_count": null,
            "_view_module": "@jupyter-widgets/base",
            "_view_module_version": "1.2.0",
            "_view_name": "LayoutView",
            "align_content": null,
            "align_items": null,
            "align_self": null,
            "border": null,
            "bottom": null,
            "display": null,
            "flex": null,
            "flex_flow": null,
            "grid_area": null,
            "grid_auto_columns": null,
            "grid_auto_flow": null,
            "grid_auto_rows": null,
            "grid_column": null,
            "grid_gap": null,
            "grid_row": null,
            "grid_template_areas": null,
            "grid_template_columns": null,
            "grid_template_rows": null,
            "height": null,
            "justify_content": null,
            "justify_items": null,
            "left": null,
            "margin": null,
            "max_height": null,
            "max_width": null,
            "min_height": null,
            "min_width": null,
            "object_fit": null,
            "object_position": null,
            "order": null,
            "overflow": null,
            "overflow_x": null,
            "overflow_y": null,
            "padding": null,
            "right": null,
            "top": null,
            "visibility": null,
            "width": null
          }
        },
        "50fc740553314c7aa1226f8dd7335d64": {
          "model_module": "@jupyter-widgets/base",
          "model_name": "LayoutModel",
          "model_module_version": "1.2.0",
          "state": {
            "_model_module": "@jupyter-widgets/base",
            "_model_module_version": "1.2.0",
            "_model_name": "LayoutModel",
            "_view_count": null,
            "_view_module": "@jupyter-widgets/base",
            "_view_module_version": "1.2.0",
            "_view_name": "LayoutView",
            "align_content": null,
            "align_items": null,
            "align_self": null,
            "border": null,
            "bottom": null,
            "display": null,
            "flex": null,
            "flex_flow": null,
            "grid_area": null,
            "grid_auto_columns": null,
            "grid_auto_flow": null,
            "grid_auto_rows": null,
            "grid_column": null,
            "grid_gap": null,
            "grid_row": null,
            "grid_template_areas": null,
            "grid_template_columns": null,
            "grid_template_rows": null,
            "height": null,
            "justify_content": null,
            "justify_items": null,
            "left": null,
            "margin": null,
            "max_height": null,
            "max_width": null,
            "min_height": null,
            "min_width": null,
            "object_fit": null,
            "object_position": null,
            "order": null,
            "overflow": null,
            "overflow_x": null,
            "overflow_y": null,
            "padding": null,
            "right": null,
            "top": null,
            "visibility": null,
            "width": null
          }
        },
        "53f85a10adea4ac9b784619892d05d5a": {
          "model_module": "@jupyter-widgets/controls",
          "model_name": "DescriptionStyleModel",
          "model_module_version": "1.5.0",
          "state": {
            "_model_module": "@jupyter-widgets/controls",
            "_model_module_version": "1.5.0",
            "_model_name": "DescriptionStyleModel",
            "_view_count": null,
            "_view_module": "@jupyter-widgets/base",
            "_view_module_version": "1.2.0",
            "_view_name": "StyleView",
            "description_width": ""
          }
        },
        "47bfe7a7386a49648f7fcb105d7966b2": {
          "model_module": "@jupyter-widgets/base",
          "model_name": "LayoutModel",
          "model_module_version": "1.2.0",
          "state": {
            "_model_module": "@jupyter-widgets/base",
            "_model_module_version": "1.2.0",
            "_model_name": "LayoutModel",
            "_view_count": null,
            "_view_module": "@jupyter-widgets/base",
            "_view_module_version": "1.2.0",
            "_view_name": "LayoutView",
            "align_content": null,
            "align_items": null,
            "align_self": null,
            "border": null,
            "bottom": null,
            "display": null,
            "flex": null,
            "flex_flow": null,
            "grid_area": null,
            "grid_auto_columns": null,
            "grid_auto_flow": null,
            "grid_auto_rows": null,
            "grid_column": null,
            "grid_gap": null,
            "grid_row": null,
            "grid_template_areas": null,
            "grid_template_columns": null,
            "grid_template_rows": null,
            "height": null,
            "justify_content": null,
            "justify_items": null,
            "left": null,
            "margin": null,
            "max_height": null,
            "max_width": null,
            "min_height": null,
            "min_width": null,
            "object_fit": null,
            "object_position": null,
            "order": null,
            "overflow": null,
            "overflow_x": null,
            "overflow_y": null,
            "padding": null,
            "right": null,
            "top": null,
            "visibility": null,
            "width": null
          }
        },
        "f3db2c40a8944975bbfe37d928cd7486": {
          "model_module": "@jupyter-widgets/controls",
          "model_name": "ProgressStyleModel",
          "model_module_version": "1.5.0",
          "state": {
            "_model_module": "@jupyter-widgets/controls",
            "_model_module_version": "1.5.0",
            "_model_name": "ProgressStyleModel",
            "_view_count": null,
            "_view_module": "@jupyter-widgets/base",
            "_view_module_version": "1.2.0",
            "_view_name": "StyleView",
            "bar_color": null,
            "description_width": ""
          }
        },
        "c0ed0991fdc54f419397299a0a93b70e": {
          "model_module": "@jupyter-widgets/base",
          "model_name": "LayoutModel",
          "model_module_version": "1.2.0",
          "state": {
            "_model_module": "@jupyter-widgets/base",
            "_model_module_version": "1.2.0",
            "_model_name": "LayoutModel",
            "_view_count": null,
            "_view_module": "@jupyter-widgets/base",
            "_view_module_version": "1.2.0",
            "_view_name": "LayoutView",
            "align_content": null,
            "align_items": null,
            "align_self": null,
            "border": null,
            "bottom": null,
            "display": null,
            "flex": null,
            "flex_flow": null,
            "grid_area": null,
            "grid_auto_columns": null,
            "grid_auto_flow": null,
            "grid_auto_rows": null,
            "grid_column": null,
            "grid_gap": null,
            "grid_row": null,
            "grid_template_areas": null,
            "grid_template_columns": null,
            "grid_template_rows": null,
            "height": null,
            "justify_content": null,
            "justify_items": null,
            "left": null,
            "margin": null,
            "max_height": null,
            "max_width": null,
            "min_height": null,
            "min_width": null,
            "object_fit": null,
            "object_position": null,
            "order": null,
            "overflow": null,
            "overflow_x": null,
            "overflow_y": null,
            "padding": null,
            "right": null,
            "top": null,
            "visibility": null,
            "width": null
          }
        },
        "2b816ef4ee454a15a9b29f64e3d683c7": {
          "model_module": "@jupyter-widgets/controls",
          "model_name": "DescriptionStyleModel",
          "model_module_version": "1.5.0",
          "state": {
            "_model_module": "@jupyter-widgets/controls",
            "_model_module_version": "1.5.0",
            "_model_name": "DescriptionStyleModel",
            "_view_count": null,
            "_view_module": "@jupyter-widgets/base",
            "_view_module_version": "1.2.0",
            "_view_name": "StyleView",
            "description_width": ""
          }
        },
        "a18d8e5cb3164a6a9b48fcefe38df4c0": {
          "model_module": "@jupyter-widgets/controls",
          "model_name": "HBoxModel",
          "model_module_version": "1.5.0",
          "state": {
            "_dom_classes": [],
            "_model_module": "@jupyter-widgets/controls",
            "_model_module_version": "1.5.0",
            "_model_name": "HBoxModel",
            "_view_count": null,
            "_view_module": "@jupyter-widgets/controls",
            "_view_module_version": "1.5.0",
            "_view_name": "HBoxView",
            "box_style": "",
            "children": [
              "IPY_MODEL_a98e51f434e343828265b182e80b721f",
              "IPY_MODEL_698754ca30c64b9a844325468f02e642",
              "IPY_MODEL_9886689c33cf40819157c39a005e3402"
            ],
            "layout": "IPY_MODEL_a99c7d2a31c24762903781d6113c59f6"
          }
        },
        "a98e51f434e343828265b182e80b721f": {
          "model_module": "@jupyter-widgets/controls",
          "model_name": "HTMLModel",
          "model_module_version": "1.5.0",
          "state": {
            "_dom_classes": [],
            "_model_module": "@jupyter-widgets/controls",
            "_model_module_version": "1.5.0",
            "_model_name": "HTMLModel",
            "_view_count": null,
            "_view_module": "@jupyter-widgets/controls",
            "_view_module_version": "1.5.0",
            "_view_name": "HTMLView",
            "description": "",
            "description_tooltip": null,
            "layout": "IPY_MODEL_e472556dc8774cdf9d3126494efc433b",
            "placeholder": "​",
            "style": "IPY_MODEL_9d02f68b11824c28b771ef4870105b50",
            "value": "Downloading: 100%"
          }
        },
        "698754ca30c64b9a844325468f02e642": {
          "model_module": "@jupyter-widgets/controls",
          "model_name": "FloatProgressModel",
          "model_module_version": "1.5.0",
          "state": {
            "_dom_classes": [],
            "_model_module": "@jupyter-widgets/controls",
            "_model_module_version": "1.5.0",
            "_model_name": "FloatProgressModel",
            "_view_count": null,
            "_view_module": "@jupyter-widgets/controls",
            "_view_module_version": "1.5.0",
            "_view_name": "ProgressView",
            "bar_style": "success",
            "description": "",
            "description_tooltip": null,
            "layout": "IPY_MODEL_5f477b4217384c0c973d580df775debb",
            "max": 289,
            "min": 0,
            "orientation": "horizontal",
            "style": "IPY_MODEL_a5a0452003fc4429bc4e069c0d1ddf03",
            "value": 289
          }
        },
        "9886689c33cf40819157c39a005e3402": {
          "model_module": "@jupyter-widgets/controls",
          "model_name": "HTMLModel",
          "model_module_version": "1.5.0",
          "state": {
            "_dom_classes": [],
            "_model_module": "@jupyter-widgets/controls",
            "_model_module_version": "1.5.0",
            "_model_name": "HTMLModel",
            "_view_count": null,
            "_view_module": "@jupyter-widgets/controls",
            "_view_module_version": "1.5.0",
            "_view_name": "HTMLView",
            "description": "",
            "description_tooltip": null,
            "layout": "IPY_MODEL_e0c84918a4694098888bc797f9472313",
            "placeholder": "​",
            "style": "IPY_MODEL_0fe65357c4e844248be234c6455498ef",
            "value": " 289/289 [00:00&lt;00:00, 5.12kB/s]"
          }
        },
        "a99c7d2a31c24762903781d6113c59f6": {
          "model_module": "@jupyter-widgets/base",
          "model_name": "LayoutModel",
          "model_module_version": "1.2.0",
          "state": {
            "_model_module": "@jupyter-widgets/base",
            "_model_module_version": "1.2.0",
            "_model_name": "LayoutModel",
            "_view_count": null,
            "_view_module": "@jupyter-widgets/base",
            "_view_module_version": "1.2.0",
            "_view_name": "LayoutView",
            "align_content": null,
            "align_items": null,
            "align_self": null,
            "border": null,
            "bottom": null,
            "display": null,
            "flex": null,
            "flex_flow": null,
            "grid_area": null,
            "grid_auto_columns": null,
            "grid_auto_flow": null,
            "grid_auto_rows": null,
            "grid_column": null,
            "grid_gap": null,
            "grid_row": null,
            "grid_template_areas": null,
            "grid_template_columns": null,
            "grid_template_rows": null,
            "height": null,
            "justify_content": null,
            "justify_items": null,
            "left": null,
            "margin": null,
            "max_height": null,
            "max_width": null,
            "min_height": null,
            "min_width": null,
            "object_fit": null,
            "object_position": null,
            "order": null,
            "overflow": null,
            "overflow_x": null,
            "overflow_y": null,
            "padding": null,
            "right": null,
            "top": null,
            "visibility": null,
            "width": null
          }
        },
        "e472556dc8774cdf9d3126494efc433b": {
          "model_module": "@jupyter-widgets/base",
          "model_name": "LayoutModel",
          "model_module_version": "1.2.0",
          "state": {
            "_model_module": "@jupyter-widgets/base",
            "_model_module_version": "1.2.0",
            "_model_name": "LayoutModel",
            "_view_count": null,
            "_view_module": "@jupyter-widgets/base",
            "_view_module_version": "1.2.0",
            "_view_name": "LayoutView",
            "align_content": null,
            "align_items": null,
            "align_self": null,
            "border": null,
            "bottom": null,
            "display": null,
            "flex": null,
            "flex_flow": null,
            "grid_area": null,
            "grid_auto_columns": null,
            "grid_auto_flow": null,
            "grid_auto_rows": null,
            "grid_column": null,
            "grid_gap": null,
            "grid_row": null,
            "grid_template_areas": null,
            "grid_template_columns": null,
            "grid_template_rows": null,
            "height": null,
            "justify_content": null,
            "justify_items": null,
            "left": null,
            "margin": null,
            "max_height": null,
            "max_width": null,
            "min_height": null,
            "min_width": null,
            "object_fit": null,
            "object_position": null,
            "order": null,
            "overflow": null,
            "overflow_x": null,
            "overflow_y": null,
            "padding": null,
            "right": null,
            "top": null,
            "visibility": null,
            "width": null
          }
        },
        "9d02f68b11824c28b771ef4870105b50": {
          "model_module": "@jupyter-widgets/controls",
          "model_name": "DescriptionStyleModel",
          "model_module_version": "1.5.0",
          "state": {
            "_model_module": "@jupyter-widgets/controls",
            "_model_module_version": "1.5.0",
            "_model_name": "DescriptionStyleModel",
            "_view_count": null,
            "_view_module": "@jupyter-widgets/base",
            "_view_module_version": "1.2.0",
            "_view_name": "StyleView",
            "description_width": ""
          }
        },
        "5f477b4217384c0c973d580df775debb": {
          "model_module": "@jupyter-widgets/base",
          "model_name": "LayoutModel",
          "model_module_version": "1.2.0",
          "state": {
            "_model_module": "@jupyter-widgets/base",
            "_model_module_version": "1.2.0",
            "_model_name": "LayoutModel",
            "_view_count": null,
            "_view_module": "@jupyter-widgets/base",
            "_view_module_version": "1.2.0",
            "_view_name": "LayoutView",
            "align_content": null,
            "align_items": null,
            "align_self": null,
            "border": null,
            "bottom": null,
            "display": null,
            "flex": null,
            "flex_flow": null,
            "grid_area": null,
            "grid_auto_columns": null,
            "grid_auto_flow": null,
            "grid_auto_rows": null,
            "grid_column": null,
            "grid_gap": null,
            "grid_row": null,
            "grid_template_areas": null,
            "grid_template_columns": null,
            "grid_template_rows": null,
            "height": null,
            "justify_content": null,
            "justify_items": null,
            "left": null,
            "margin": null,
            "max_height": null,
            "max_width": null,
            "min_height": null,
            "min_width": null,
            "object_fit": null,
            "object_position": null,
            "order": null,
            "overflow": null,
            "overflow_x": null,
            "overflow_y": null,
            "padding": null,
            "right": null,
            "top": null,
            "visibility": null,
            "width": null
          }
        },
        "a5a0452003fc4429bc4e069c0d1ddf03": {
          "model_module": "@jupyter-widgets/controls",
          "model_name": "ProgressStyleModel",
          "model_module_version": "1.5.0",
          "state": {
            "_model_module": "@jupyter-widgets/controls",
            "_model_module_version": "1.5.0",
            "_model_name": "ProgressStyleModel",
            "_view_count": null,
            "_view_module": "@jupyter-widgets/base",
            "_view_module_version": "1.2.0",
            "_view_name": "StyleView",
            "bar_color": null,
            "description_width": ""
          }
        },
        "e0c84918a4694098888bc797f9472313": {
          "model_module": "@jupyter-widgets/base",
          "model_name": "LayoutModel",
          "model_module_version": "1.2.0",
          "state": {
            "_model_module": "@jupyter-widgets/base",
            "_model_module_version": "1.2.0",
            "_model_name": "LayoutModel",
            "_view_count": null,
            "_view_module": "@jupyter-widgets/base",
            "_view_module_version": "1.2.0",
            "_view_name": "LayoutView",
            "align_content": null,
            "align_items": null,
            "align_self": null,
            "border": null,
            "bottom": null,
            "display": null,
            "flex": null,
            "flex_flow": null,
            "grid_area": null,
            "grid_auto_columns": null,
            "grid_auto_flow": null,
            "grid_auto_rows": null,
            "grid_column": null,
            "grid_gap": null,
            "grid_row": null,
            "grid_template_areas": null,
            "grid_template_columns": null,
            "grid_template_rows": null,
            "height": null,
            "justify_content": null,
            "justify_items": null,
            "left": null,
            "margin": null,
            "max_height": null,
            "max_width": null,
            "min_height": null,
            "min_width": null,
            "object_fit": null,
            "object_position": null,
            "order": null,
            "overflow": null,
            "overflow_x": null,
            "overflow_y": null,
            "padding": null,
            "right": null,
            "top": null,
            "visibility": null,
            "width": null
          }
        },
        "0fe65357c4e844248be234c6455498ef": {
          "model_module": "@jupyter-widgets/controls",
          "model_name": "DescriptionStyleModel",
          "model_module_version": "1.5.0",
          "state": {
            "_model_module": "@jupyter-widgets/controls",
            "_model_module_version": "1.5.0",
            "_model_name": "DescriptionStyleModel",
            "_view_count": null,
            "_view_module": "@jupyter-widgets/base",
            "_view_module_version": "1.2.0",
            "_view_name": "StyleView",
            "description_width": ""
          }
        },
        "614814452acb43d78743b0fbe9117fd5": {
          "model_module": "@jupyter-widgets/controls",
          "model_name": "HBoxModel",
          "model_module_version": "1.5.0",
          "state": {
            "_dom_classes": [],
            "_model_module": "@jupyter-widgets/controls",
            "_model_module_version": "1.5.0",
            "_model_name": "HBoxModel",
            "_view_count": null,
            "_view_module": "@jupyter-widgets/controls",
            "_view_module_version": "1.5.0",
            "_view_name": "HBoxView",
            "box_style": "",
            "children": [
              "IPY_MODEL_3e6afee6a10646ecbee5a332bbf91a96",
              "IPY_MODEL_bfe47ceb2a8d4e059bfbc0f1448dd102",
              "IPY_MODEL_3f839a5778ae48c68aa39ac6be1ddb6f"
            ],
            "layout": "IPY_MODEL_f2d0afd320a14a70b779b1cbd2024578"
          }
        },
        "3e6afee6a10646ecbee5a332bbf91a96": {
          "model_module": "@jupyter-widgets/controls",
          "model_name": "HTMLModel",
          "model_module_version": "1.5.0",
          "state": {
            "_dom_classes": [],
            "_model_module": "@jupyter-widgets/controls",
            "_model_module_version": "1.5.0",
            "_model_name": "HTMLModel",
            "_view_count": null,
            "_view_module": "@jupyter-widgets/controls",
            "_view_module_version": "1.5.0",
            "_view_name": "HTMLView",
            "description": "",
            "description_tooltip": null,
            "layout": "IPY_MODEL_821b17d559d9451598564c4f06b567f1",
            "placeholder": "​",
            "style": "IPY_MODEL_b785a4aaecde4d6ea23f0b3c1e7c376f",
            "value": "Downloading: 100%"
          }
        },
        "bfe47ceb2a8d4e059bfbc0f1448dd102": {
          "model_module": "@jupyter-widgets/controls",
          "model_name": "FloatProgressModel",
          "model_module_version": "1.5.0",
          "state": {
            "_dom_classes": [],
            "_model_module": "@jupyter-widgets/controls",
            "_model_module_version": "1.5.0",
            "_model_name": "FloatProgressModel",
            "_view_count": null,
            "_view_module": "@jupyter-widgets/controls",
            "_view_module_version": "1.5.0",
            "_view_name": "ProgressView",
            "bar_style": "success",
            "description": "",
            "description_tooltip": null,
            "layout": "IPY_MODEL_e1442e24e16f4aa68ec787ecf8f3801a",
            "max": 425,
            "min": 0,
            "orientation": "horizontal",
            "style": "IPY_MODEL_250089eca52346309d9179926336fea3",
            "value": 425
          }
        },
        "3f839a5778ae48c68aa39ac6be1ddb6f": {
          "model_module": "@jupyter-widgets/controls",
          "model_name": "HTMLModel",
          "model_module_version": "1.5.0",
          "state": {
            "_dom_classes": [],
            "_model_module": "@jupyter-widgets/controls",
            "_model_module_version": "1.5.0",
            "_model_name": "HTMLModel",
            "_view_count": null,
            "_view_module": "@jupyter-widgets/controls",
            "_view_module_version": "1.5.0",
            "_view_name": "HTMLView",
            "description": "",
            "description_tooltip": null,
            "layout": "IPY_MODEL_63791adedbb747e6aed4172287dc8a89",
            "placeholder": "​",
            "style": "IPY_MODEL_094ebdab6c794ec3830009e6696ce498",
            "value": " 425/425 [00:00&lt;00:00, 17.8kB/s]"
          }
        },
        "f2d0afd320a14a70b779b1cbd2024578": {
          "model_module": "@jupyter-widgets/base",
          "model_name": "LayoutModel",
          "model_module_version": "1.2.0",
          "state": {
            "_model_module": "@jupyter-widgets/base",
            "_model_module_version": "1.2.0",
            "_model_name": "LayoutModel",
            "_view_count": null,
            "_view_module": "@jupyter-widgets/base",
            "_view_module_version": "1.2.0",
            "_view_name": "LayoutView",
            "align_content": null,
            "align_items": null,
            "align_self": null,
            "border": null,
            "bottom": null,
            "display": null,
            "flex": null,
            "flex_flow": null,
            "grid_area": null,
            "grid_auto_columns": null,
            "grid_auto_flow": null,
            "grid_auto_rows": null,
            "grid_column": null,
            "grid_gap": null,
            "grid_row": null,
            "grid_template_areas": null,
            "grid_template_columns": null,
            "grid_template_rows": null,
            "height": null,
            "justify_content": null,
            "justify_items": null,
            "left": null,
            "margin": null,
            "max_height": null,
            "max_width": null,
            "min_height": null,
            "min_width": null,
            "object_fit": null,
            "object_position": null,
            "order": null,
            "overflow": null,
            "overflow_x": null,
            "overflow_y": null,
            "padding": null,
            "right": null,
            "top": null,
            "visibility": null,
            "width": null
          }
        },
        "821b17d559d9451598564c4f06b567f1": {
          "model_module": "@jupyter-widgets/base",
          "model_name": "LayoutModel",
          "model_module_version": "1.2.0",
          "state": {
            "_model_module": "@jupyter-widgets/base",
            "_model_module_version": "1.2.0",
            "_model_name": "LayoutModel",
            "_view_count": null,
            "_view_module": "@jupyter-widgets/base",
            "_view_module_version": "1.2.0",
            "_view_name": "LayoutView",
            "align_content": null,
            "align_items": null,
            "align_self": null,
            "border": null,
            "bottom": null,
            "display": null,
            "flex": null,
            "flex_flow": null,
            "grid_area": null,
            "grid_auto_columns": null,
            "grid_auto_flow": null,
            "grid_auto_rows": null,
            "grid_column": null,
            "grid_gap": null,
            "grid_row": null,
            "grid_template_areas": null,
            "grid_template_columns": null,
            "grid_template_rows": null,
            "height": null,
            "justify_content": null,
            "justify_items": null,
            "left": null,
            "margin": null,
            "max_height": null,
            "max_width": null,
            "min_height": null,
            "min_width": null,
            "object_fit": null,
            "object_position": null,
            "order": null,
            "overflow": null,
            "overflow_x": null,
            "overflow_y": null,
            "padding": null,
            "right": null,
            "top": null,
            "visibility": null,
            "width": null
          }
        },
        "b785a4aaecde4d6ea23f0b3c1e7c376f": {
          "model_module": "@jupyter-widgets/controls",
          "model_name": "DescriptionStyleModel",
          "model_module_version": "1.5.0",
          "state": {
            "_model_module": "@jupyter-widgets/controls",
            "_model_module_version": "1.5.0",
            "_model_name": "DescriptionStyleModel",
            "_view_count": null,
            "_view_module": "@jupyter-widgets/base",
            "_view_module_version": "1.2.0",
            "_view_name": "StyleView",
            "description_width": ""
          }
        },
        "e1442e24e16f4aa68ec787ecf8f3801a": {
          "model_module": "@jupyter-widgets/base",
          "model_name": "LayoutModel",
          "model_module_version": "1.2.0",
          "state": {
            "_model_module": "@jupyter-widgets/base",
            "_model_module_version": "1.2.0",
            "_model_name": "LayoutModel",
            "_view_count": null,
            "_view_module": "@jupyter-widgets/base",
            "_view_module_version": "1.2.0",
            "_view_name": "LayoutView",
            "align_content": null,
            "align_items": null,
            "align_self": null,
            "border": null,
            "bottom": null,
            "display": null,
            "flex": null,
            "flex_flow": null,
            "grid_area": null,
            "grid_auto_columns": null,
            "grid_auto_flow": null,
            "grid_auto_rows": null,
            "grid_column": null,
            "grid_gap": null,
            "grid_row": null,
            "grid_template_areas": null,
            "grid_template_columns": null,
            "grid_template_rows": null,
            "height": null,
            "justify_content": null,
            "justify_items": null,
            "left": null,
            "margin": null,
            "max_height": null,
            "max_width": null,
            "min_height": null,
            "min_width": null,
            "object_fit": null,
            "object_position": null,
            "order": null,
            "overflow": null,
            "overflow_x": null,
            "overflow_y": null,
            "padding": null,
            "right": null,
            "top": null,
            "visibility": null,
            "width": null
          }
        },
        "250089eca52346309d9179926336fea3": {
          "model_module": "@jupyter-widgets/controls",
          "model_name": "ProgressStyleModel",
          "model_module_version": "1.5.0",
          "state": {
            "_model_module": "@jupyter-widgets/controls",
            "_model_module_version": "1.5.0",
            "_model_name": "ProgressStyleModel",
            "_view_count": null,
            "_view_module": "@jupyter-widgets/base",
            "_view_module_version": "1.2.0",
            "_view_name": "StyleView",
            "bar_color": null,
            "description_width": ""
          }
        },
        "63791adedbb747e6aed4172287dc8a89": {
          "model_module": "@jupyter-widgets/base",
          "model_name": "LayoutModel",
          "model_module_version": "1.2.0",
          "state": {
            "_model_module": "@jupyter-widgets/base",
            "_model_module_version": "1.2.0",
            "_model_name": "LayoutModel",
            "_view_count": null,
            "_view_module": "@jupyter-widgets/base",
            "_view_module_version": "1.2.0",
            "_view_name": "LayoutView",
            "align_content": null,
            "align_items": null,
            "align_self": null,
            "border": null,
            "bottom": null,
            "display": null,
            "flex": null,
            "flex_flow": null,
            "grid_area": null,
            "grid_auto_columns": null,
            "grid_auto_flow": null,
            "grid_auto_rows": null,
            "grid_column": null,
            "grid_gap": null,
            "grid_row": null,
            "grid_template_areas": null,
            "grid_template_columns": null,
            "grid_template_rows": null,
            "height": null,
            "justify_content": null,
            "justify_items": null,
            "left": null,
            "margin": null,
            "max_height": null,
            "max_width": null,
            "min_height": null,
            "min_width": null,
            "object_fit": null,
            "object_position": null,
            "order": null,
            "overflow": null,
            "overflow_x": null,
            "overflow_y": null,
            "padding": null,
            "right": null,
            "top": null,
            "visibility": null,
            "width": null
          }
        },
        "094ebdab6c794ec3830009e6696ce498": {
          "model_module": "@jupyter-widgets/controls",
          "model_name": "DescriptionStyleModel",
          "model_module_version": "1.5.0",
          "state": {
            "_model_module": "@jupyter-widgets/controls",
            "_model_module_version": "1.5.0",
            "_model_name": "DescriptionStyleModel",
            "_view_count": null,
            "_view_module": "@jupyter-widgets/base",
            "_view_module_version": "1.2.0",
            "_view_name": "StyleView",
            "description_width": ""
          }
        },
        "c222f1c609a74e3eafc9b92d336012d2": {
          "model_module": "@jupyter-widgets/controls",
          "model_name": "HBoxModel",
          "model_module_version": "1.5.0",
          "state": {
            "_dom_classes": [],
            "_model_module": "@jupyter-widgets/controls",
            "_model_module_version": "1.5.0",
            "_model_name": "HBoxModel",
            "_view_count": null,
            "_view_module": "@jupyter-widgets/controls",
            "_view_module_version": "1.5.0",
            "_view_name": "HBoxView",
            "box_style": "",
            "children": [
              "IPY_MODEL_120350e2b636422eb01549be6b3321fd",
              "IPY_MODEL_2c4cfe3f0f3f48628b006cb777589fd4",
              "IPY_MODEL_32a72777c43240cdbd15d211b6278875"
            ],
            "layout": "IPY_MODEL_cc861e29b8994d8fb1f8312e9791202e"
          }
        },
        "120350e2b636422eb01549be6b3321fd": {
          "model_module": "@jupyter-widgets/controls",
          "model_name": "HTMLModel",
          "model_module_version": "1.5.0",
          "state": {
            "_dom_classes": [],
            "_model_module": "@jupyter-widgets/controls",
            "_model_module_version": "1.5.0",
            "_model_name": "HTMLModel",
            "_view_count": null,
            "_view_module": "@jupyter-widgets/controls",
            "_view_module_version": "1.5.0",
            "_view_name": "HTMLView",
            "description": "",
            "description_tooltip": null,
            "layout": "IPY_MODEL_1dda419308a54202af59e9b7b14b479e",
            "placeholder": "​",
            "style": "IPY_MODEL_34311959a3cf4e58b112e25410b33004",
            "value": "Downloading: 100%"
          }
        },
        "2c4cfe3f0f3f48628b006cb777589fd4": {
          "model_module": "@jupyter-widgets/controls",
          "model_name": "FloatProgressModel",
          "model_module_version": "1.5.0",
          "state": {
            "_dom_classes": [],
            "_model_module": "@jupyter-widgets/controls",
            "_model_module_version": "1.5.0",
            "_model_name": "FloatProgressModel",
            "_view_count": null,
            "_view_module": "@jupyter-widgets/controls",
            "_view_module_version": "1.5.0",
            "_view_name": "ProgressView",
            "bar_style": "success",
            "description": "",
            "description_tooltip": null,
            "layout": "IPY_MODEL_415adccee4df45a1adbfd37da3db66a4",
            "max": 445025130,
            "min": 0,
            "orientation": "horizontal",
            "style": "IPY_MODEL_2513567131e84b03a8d04a0933c8f519",
            "value": 445025130
          }
        },
        "32a72777c43240cdbd15d211b6278875": {
          "model_module": "@jupyter-widgets/controls",
          "model_name": "HTMLModel",
          "model_module_version": "1.5.0",
          "state": {
            "_dom_classes": [],
            "_model_module": "@jupyter-widgets/controls",
            "_model_module_version": "1.5.0",
            "_model_name": "HTMLModel",
            "_view_count": null,
            "_view_module": "@jupyter-widgets/controls",
            "_view_module_version": "1.5.0",
            "_view_name": "HTMLView",
            "description": "",
            "description_tooltip": null,
            "layout": "IPY_MODEL_fc6e78d0a79a4f37894dac94bf251089",
            "placeholder": "​",
            "style": "IPY_MODEL_40a0372260bc46e6805fba2e366d5629",
            "value": " 424M/424M [00:06&lt;00:00, 71.3MB/s]"
          }
        },
        "cc861e29b8994d8fb1f8312e9791202e": {
          "model_module": "@jupyter-widgets/base",
          "model_name": "LayoutModel",
          "model_module_version": "1.2.0",
          "state": {
            "_model_module": "@jupyter-widgets/base",
            "_model_module_version": "1.2.0",
            "_model_name": "LayoutModel",
            "_view_count": null,
            "_view_module": "@jupyter-widgets/base",
            "_view_module_version": "1.2.0",
            "_view_name": "LayoutView",
            "align_content": null,
            "align_items": null,
            "align_self": null,
            "border": null,
            "bottom": null,
            "display": null,
            "flex": null,
            "flex_flow": null,
            "grid_area": null,
            "grid_auto_columns": null,
            "grid_auto_flow": null,
            "grid_auto_rows": null,
            "grid_column": null,
            "grid_gap": null,
            "grid_row": null,
            "grid_template_areas": null,
            "grid_template_columns": null,
            "grid_template_rows": null,
            "height": null,
            "justify_content": null,
            "justify_items": null,
            "left": null,
            "margin": null,
            "max_height": null,
            "max_width": null,
            "min_height": null,
            "min_width": null,
            "object_fit": null,
            "object_position": null,
            "order": null,
            "overflow": null,
            "overflow_x": null,
            "overflow_y": null,
            "padding": null,
            "right": null,
            "top": null,
            "visibility": null,
            "width": null
          }
        },
        "1dda419308a54202af59e9b7b14b479e": {
          "model_module": "@jupyter-widgets/base",
          "model_name": "LayoutModel",
          "model_module_version": "1.2.0",
          "state": {
            "_model_module": "@jupyter-widgets/base",
            "_model_module_version": "1.2.0",
            "_model_name": "LayoutModel",
            "_view_count": null,
            "_view_module": "@jupyter-widgets/base",
            "_view_module_version": "1.2.0",
            "_view_name": "LayoutView",
            "align_content": null,
            "align_items": null,
            "align_self": null,
            "border": null,
            "bottom": null,
            "display": null,
            "flex": null,
            "flex_flow": null,
            "grid_area": null,
            "grid_auto_columns": null,
            "grid_auto_flow": null,
            "grid_auto_rows": null,
            "grid_column": null,
            "grid_gap": null,
            "grid_row": null,
            "grid_template_areas": null,
            "grid_template_columns": null,
            "grid_template_rows": null,
            "height": null,
            "justify_content": null,
            "justify_items": null,
            "left": null,
            "margin": null,
            "max_height": null,
            "max_width": null,
            "min_height": null,
            "min_width": null,
            "object_fit": null,
            "object_position": null,
            "order": null,
            "overflow": null,
            "overflow_x": null,
            "overflow_y": null,
            "padding": null,
            "right": null,
            "top": null,
            "visibility": null,
            "width": null
          }
        },
        "34311959a3cf4e58b112e25410b33004": {
          "model_module": "@jupyter-widgets/controls",
          "model_name": "DescriptionStyleModel",
          "model_module_version": "1.5.0",
          "state": {
            "_model_module": "@jupyter-widgets/controls",
            "_model_module_version": "1.5.0",
            "_model_name": "DescriptionStyleModel",
            "_view_count": null,
            "_view_module": "@jupyter-widgets/base",
            "_view_module_version": "1.2.0",
            "_view_name": "StyleView",
            "description_width": ""
          }
        },
        "415adccee4df45a1adbfd37da3db66a4": {
          "model_module": "@jupyter-widgets/base",
          "model_name": "LayoutModel",
          "model_module_version": "1.2.0",
          "state": {
            "_model_module": "@jupyter-widgets/base",
            "_model_module_version": "1.2.0",
            "_model_name": "LayoutModel",
            "_view_count": null,
            "_view_module": "@jupyter-widgets/base",
            "_view_module_version": "1.2.0",
            "_view_name": "LayoutView",
            "align_content": null,
            "align_items": null,
            "align_self": null,
            "border": null,
            "bottom": null,
            "display": null,
            "flex": null,
            "flex_flow": null,
            "grid_area": null,
            "grid_auto_columns": null,
            "grid_auto_flow": null,
            "grid_auto_rows": null,
            "grid_column": null,
            "grid_gap": null,
            "grid_row": null,
            "grid_template_areas": null,
            "grid_template_columns": null,
            "grid_template_rows": null,
            "height": null,
            "justify_content": null,
            "justify_items": null,
            "left": null,
            "margin": null,
            "max_height": null,
            "max_width": null,
            "min_height": null,
            "min_width": null,
            "object_fit": null,
            "object_position": null,
            "order": null,
            "overflow": null,
            "overflow_x": null,
            "overflow_y": null,
            "padding": null,
            "right": null,
            "top": null,
            "visibility": null,
            "width": null
          }
        },
        "2513567131e84b03a8d04a0933c8f519": {
          "model_module": "@jupyter-widgets/controls",
          "model_name": "ProgressStyleModel",
          "model_module_version": "1.5.0",
          "state": {
            "_model_module": "@jupyter-widgets/controls",
            "_model_module_version": "1.5.0",
            "_model_name": "ProgressStyleModel",
            "_view_count": null,
            "_view_module": "@jupyter-widgets/base",
            "_view_module_version": "1.2.0",
            "_view_name": "StyleView",
            "bar_color": null,
            "description_width": ""
          }
        },
        "fc6e78d0a79a4f37894dac94bf251089": {
          "model_module": "@jupyter-widgets/base",
          "model_name": "LayoutModel",
          "model_module_version": "1.2.0",
          "state": {
            "_model_module": "@jupyter-widgets/base",
            "_model_module_version": "1.2.0",
            "_model_name": "LayoutModel",
            "_view_count": null,
            "_view_module": "@jupyter-widgets/base",
            "_view_module_version": "1.2.0",
            "_view_name": "LayoutView",
            "align_content": null,
            "align_items": null,
            "align_self": null,
            "border": null,
            "bottom": null,
            "display": null,
            "flex": null,
            "flex_flow": null,
            "grid_area": null,
            "grid_auto_columns": null,
            "grid_auto_flow": null,
            "grid_auto_rows": null,
            "grid_column": null,
            "grid_gap": null,
            "grid_row": null,
            "grid_template_areas": null,
            "grid_template_columns": null,
            "grid_template_rows": null,
            "height": null,
            "justify_content": null,
            "justify_items": null,
            "left": null,
            "margin": null,
            "max_height": null,
            "max_width": null,
            "min_height": null,
            "min_width": null,
            "object_fit": null,
            "object_position": null,
            "order": null,
            "overflow": null,
            "overflow_x": null,
            "overflow_y": null,
            "padding": null,
            "right": null,
            "top": null,
            "visibility": null,
            "width": null
          }
        },
        "40a0372260bc46e6805fba2e366d5629": {
          "model_module": "@jupyter-widgets/controls",
          "model_name": "DescriptionStyleModel",
          "model_module_version": "1.5.0",
          "state": {
            "_model_module": "@jupyter-widgets/controls",
            "_model_module_version": "1.5.0",
            "_model_name": "DescriptionStyleModel",
            "_view_count": null,
            "_view_module": "@jupyter-widgets/base",
            "_view_module_version": "1.2.0",
            "_view_name": "StyleView",
            "description_width": ""
          }
        }
      }
    }
  },
  "cells": [
    {
      "cell_type": "markdown",
      "source": [
        "# Exploration_09"
      ],
      "metadata": {
        "id": "kHGu0AJ4oMXS"
      }
    },
    {
      "cell_type": "markdown",
      "source": [
        "## 1. Movie_Review"
      ],
      "metadata": {
        "id": "FJF17EXRoMUr"
      }
    },
    {
      "cell_type": "markdown",
      "source": [
        "### 1.1 Module"
      ],
      "metadata": {
        "id": "m61HIe2koMR9"
      }
    },
    {
      "cell_type": "markdown",
      "source": [
        "- 사용할 패키지를 설치합니다.  \n",
        "출력이 길어 출력부분은 생략합니다."
      ],
      "metadata": {
        "id": "MDvMPhEOlCb1"
      }
    },
    {
      "cell_type": "code",
      "source": [
        "!pip install gensim"
      ],
      "metadata": {
        "id": "7GExBy6KDTwq"
      },
      "execution_count": null,
      "outputs": []
    },
    {
      "cell_type": "code",
      "source": [
        "!pip install konlpy"
      ],
      "metadata": {
        "id": "BtBDlBdhU7yw"
      },
      "execution_count": null,
      "outputs": []
    },
    {
      "cell_type": "code",
      "source": [
        "!curl -s https://raw.githubusercontent.com/teddylee777/machine-learning/master/99-Misc/01-Colab/mecab-colab.sh | bash"
      ],
      "metadata": {
        "id": "G8_4rLyrkYCO"
      },
      "execution_count": null,
      "outputs": []
    },
    {
      "cell_type": "code",
      "source": [
        "import re\n",
        "import os\n",
        "import pandas as pd\n",
        "import urllib.request\n",
        "import numpy as np\n",
        "import matplotlib.pyplot as plt\n",
        "from konlpy.tag import Okt, Mecab\n",
        "import missingno as msno\n",
        "from tqdm import tqdm\n",
        "import tensorflow as tf\n",
        "from tensorflow import keras\n",
        "from keras.models import load_model\n",
        "from tensorflow.keras.preprocessing.text import Tokenizer\n",
        "from tensorflow.keras.initializers import Constant\n",
        "from tensorflow.keras.preprocessing.sequence import pad_sequences\n",
        "from tensorflow.keras.callbacks import EarlyStopping, ModelCheckpoint\n",
        "from collections import Counter\n",
        "from sklearn import model_selection\n",
        "\n",
        "import gensim\n",
        "from gensim.models import KeyedVectors\n",
        "from gensim.models import Word2Vec\n",
        "from gensim.models.keyedvectors import Word2VecKeyedVectors\n",
        "\n",
        "from google.colab import drive"
      ],
      "metadata": {
        "id": "MQYp1AxGpxoV"
      },
      "execution_count": 4,
      "outputs": []
    },
    {
      "cell_type": "code",
      "source": [
        "%matplotlib inline"
      ],
      "metadata": {
        "id": "mhZWnORbpzan"
      },
      "execution_count": 5,
      "outputs": []
    },
    {
      "cell_type": "markdown",
      "source": [
        "### 1.2 Function"
      ],
      "metadata": {
        "id": "II2Pyjg7oMPR"
      }
    },
    {
      "cell_type": "markdown",
      "source": [
        "#### 1.2.1 load_data"
      ],
      "metadata": {
        "id": "lM-_a3sMTeBN"
      }
    },
    {
      "cell_type": "markdown",
      "source": [
        "- tokenize, stopword, word_to_index, indexlist를 수행합니다."
      ],
      "metadata": {
        "id": "P5mCSki-Tli_"
      }
    },
    {
      "cell_type": "code",
      "source": [
        "def load_data(train_data, test_data, num_words):\n",
        "    X_train = []\n",
        "    for sentence in train_data['document']:\n",
        "        temp_x = tokenizer.morphs(sentence)\n",
        "        temp_x = [word for word in temp_x if not word in stopwords]   # 불용어 제거 \n",
        "        X_train.append(temp_x)\n",
        "        \n",
        "    X_test = []\n",
        "    for sentence in test_data['document']:\n",
        "        temp_x_test = tokenizer.morphs(sentence)\n",
        "        temp_x_test = [word for word in temp_x_test if not word in stopwords]   # 불용어 제거 \n",
        "        X_test.append(temp_x_test)\n",
        "        \n",
        "    \n",
        "    # word_to_index 만들기  \n",
        "    words = np.concatenate(X_train).tolist()      # train data를 list로 만든다.\n",
        "    counter = Counter(words)                      # 각 단어의 갯수와 단어를 키, 밸루로 하는 딕셔너리 생성 \n",
        "    counter = counter.most_common(num_words-4) \n",
        "                                       # pad, bos, unk, unused 를 제외하고 가장 자주나오는 만개의 단어를 가져온다. (딕셔너리)\n",
        "    vocab = ['<PAD>', '<BOS>', '<UNK>', '<UNUSED>'] + [key for key, _ in counter]\n",
        "    word_to_index = {word:index for index, word in enumerate(vocab)}\n",
        "    \n",
        "    # 텍스트 스트링 -> 인덱스 스트링 \n",
        "    def wordlist_to_indexlist(wordlist):\n",
        "        return [word_to_index[word] if word in word_to_index else word_to_index['<UNK>'] for word in wordlist]\n",
        "\n",
        "    X_train = list(map(wordlist_to_indexlist, X_train))\n",
        "    X_test = list(map(wordlist_to_indexlist, X_test))\n",
        "\n",
        "    return X_train, np.array(list(train_data['label'])), X_test, np.array(list(test_data['label'])), word_to_index\n",
        "    "
      ],
      "metadata": {
        "id": "YNPZSlyt7TY3"
      },
      "execution_count": 39,
      "outputs": []
    },
    {
      "cell_type": "markdown",
      "source": [
        "#### 1.2.2 review_predict"
      ],
      "metadata": {
        "id": "YDPWdz5VThwu"
      }
    },
    {
      "cell_type": "markdown",
      "source": [
        "- review text를 넣으면 만들어진 model로 predict하여 score를 반환하는 함수입니다."
      ],
      "metadata": {
        "id": "42jQJiulUKJE"
      }
    },
    {
      "cell_type": "code",
      "source": [
        "def review_predict(new_sentence):\n",
        "  new_sentence = re.sub(r'[^ㄱ-ㅎㅏ-ㅣ가-힣 ]','', new_sentence)\n",
        "  new_sentence = tokenizer_m.morphs(new_sentence) # 토큰화\n",
        "  new_sentence = [word for word in new_sentence if not word in stopwords] # 불용어 제거\n",
        "  encoded = tokenizer.texts_to_sequences([new_sentence]) # 정수 인코딩\n",
        "  pad_new = pad_sequences(encoded, maxlen = 83) # 패딩\n",
        "  score = float(loaded_model1_3.predict(pad_new)) # 예측\n",
        "  if(score > 0.5):\n",
        "    print(\"{:.2f}% 확률로 긍정 리뷰입니다.\\n\".format(score * 100))\n",
        "  else:\n",
        "    print(\"{:.2f}% 확률로 부정 리뷰입니다.\\n\".format((1 - score) * 100))"
      ],
      "metadata": {
        "id": "qfZpvKnrLZqR"
      },
      "execution_count": null,
      "outputs": []
    },
    {
      "cell_type": "markdown",
      "source": [
        "### 1.3 Data"
      ],
      "metadata": {
        "id": "a6Z38ZlWoMJ7"
      }
    },
    {
      "cell_type": "markdown",
      "source": [
        "#### 1.3.1 Data Load"
      ],
      "metadata": {
        "id": "KYEO1R9MoMG-"
      }
    },
    {
      "cell_type": "markdown",
      "source": [
        "- 구글 드라이브를 마운트합니다."
      ],
      "metadata": {
        "id": "oQFzENF7lwbM"
      }
    },
    {
      "cell_type": "code",
      "source": [
        "drive.mount('/gdrive')"
      ],
      "metadata": {
        "colab": {
          "base_uri": "https://localhost:8080/"
        },
        "id": "yn0_IuXKXV_6",
        "outputId": "5a8be3b3-f3c7-4100-ba16-8b508d46d9bf"
      },
      "execution_count": 8,
      "outputs": [
        {
          "output_type": "stream",
          "name": "stdout",
          "text": [
            "Mounted at /gdrive\n"
          ]
        }
      ]
    },
    {
      "cell_type": "markdown",
      "source": [
        "- 사용할 데이터를 불러옵니다."
      ],
      "metadata": {
        "id": "WH1lKAB2lyfj"
      }
    },
    {
      "cell_type": "code",
      "source": [
        "train_data = pd.read_table('/gdrive/My Drive/Colab Notebooks/data/movie/ratings_train.txt')\n",
        "test_data = pd.read_table('/gdrive/My Drive/Colab Notebooks/data/movie/ratings_test.txt')"
      ],
      "metadata": {
        "id": "qB2cI--yp1Zd"
      },
      "execution_count": 9,
      "outputs": []
    },
    {
      "cell_type": "markdown",
      "source": [
        "- 영화 리뷰와 리뷰에 따른 label이 잘 붙어있는 것을 확인할 수 있습니다."
      ],
      "metadata": {
        "id": "U1WUuzSsl6Tk"
      }
    },
    {
      "cell_type": "code",
      "source": [
        "train_data.tail(3)"
      ],
      "metadata": {
        "colab": {
          "base_uri": "https://localhost:8080/",
          "height": 143
        },
        "id": "f_ytLsv2cxet",
        "outputId": "65c6d9f4-0cbd-4e0a-843a-2d59e58ea502"
      },
      "execution_count": null,
      "outputs": [
        {
          "output_type": "execute_result",
          "data": {
            "text/plain": [
              "             id                         document  label\n",
              "149997  9311800  이게 뭐요? 한국인은 거들먹거리고 필리핀 혼혈은 착하다?      0\n",
              "149998  2376369      청춘 영화의 최고봉.방황과 우울했던 날들의 자화상      1\n",
              "149999  9619869         한국 영화 최초로 수간하는 내용이 담긴 영화      0"
            ],
            "text/html": [
              "\n",
              "  <div id=\"df-e44b81aa-8789-42ae-b965-226f14b5f223\">\n",
              "    <div class=\"colab-df-container\">\n",
              "      <div>\n",
              "<style scoped>\n",
              "    .dataframe tbody tr th:only-of-type {\n",
              "        vertical-align: middle;\n",
              "    }\n",
              "\n",
              "    .dataframe tbody tr th {\n",
              "        vertical-align: top;\n",
              "    }\n",
              "\n",
              "    .dataframe thead th {\n",
              "        text-align: right;\n",
              "    }\n",
              "</style>\n",
              "<table border=\"1\" class=\"dataframe\">\n",
              "  <thead>\n",
              "    <tr style=\"text-align: right;\">\n",
              "      <th></th>\n",
              "      <th>id</th>\n",
              "      <th>document</th>\n",
              "      <th>label</th>\n",
              "    </tr>\n",
              "  </thead>\n",
              "  <tbody>\n",
              "    <tr>\n",
              "      <th>149997</th>\n",
              "      <td>9311800</td>\n",
              "      <td>이게 뭐요? 한국인은 거들먹거리고 필리핀 혼혈은 착하다?</td>\n",
              "      <td>0</td>\n",
              "    </tr>\n",
              "    <tr>\n",
              "      <th>149998</th>\n",
              "      <td>2376369</td>\n",
              "      <td>청춘 영화의 최고봉.방황과 우울했던 날들의 자화상</td>\n",
              "      <td>1</td>\n",
              "    </tr>\n",
              "    <tr>\n",
              "      <th>149999</th>\n",
              "      <td>9619869</td>\n",
              "      <td>한국 영화 최초로 수간하는 내용이 담긴 영화</td>\n",
              "      <td>0</td>\n",
              "    </tr>\n",
              "  </tbody>\n",
              "</table>\n",
              "</div>\n",
              "      <button class=\"colab-df-convert\" onclick=\"convertToInteractive('df-e44b81aa-8789-42ae-b965-226f14b5f223')\"\n",
              "              title=\"Convert this dataframe to an interactive table.\"\n",
              "              style=\"display:none;\">\n",
              "        \n",
              "  <svg xmlns=\"http://www.w3.org/2000/svg\" height=\"24px\"viewBox=\"0 0 24 24\"\n",
              "       width=\"24px\">\n",
              "    <path d=\"M0 0h24v24H0V0z\" fill=\"none\"/>\n",
              "    <path d=\"M18.56 5.44l.94 2.06.94-2.06 2.06-.94-2.06-.94-.94-2.06-.94 2.06-2.06.94zm-11 1L8.5 8.5l.94-2.06 2.06-.94-2.06-.94L8.5 2.5l-.94 2.06-2.06.94zm10 10l.94 2.06.94-2.06 2.06-.94-2.06-.94-.94-2.06-.94 2.06-2.06.94z\"/><path d=\"M17.41 7.96l-1.37-1.37c-.4-.4-.92-.59-1.43-.59-.52 0-1.04.2-1.43.59L10.3 9.45l-7.72 7.72c-.78.78-.78 2.05 0 2.83L4 21.41c.39.39.9.59 1.41.59.51 0 1.02-.2 1.41-.59l7.78-7.78 2.81-2.81c.8-.78.8-2.07 0-2.86zM5.41 20L4 18.59l7.72-7.72 1.47 1.35L5.41 20z\"/>\n",
              "  </svg>\n",
              "      </button>\n",
              "      \n",
              "  <style>\n",
              "    .colab-df-container {\n",
              "      display:flex;\n",
              "      flex-wrap:wrap;\n",
              "      gap: 12px;\n",
              "    }\n",
              "\n",
              "    .colab-df-convert {\n",
              "      background-color: #E8F0FE;\n",
              "      border: none;\n",
              "      border-radius: 50%;\n",
              "      cursor: pointer;\n",
              "      display: none;\n",
              "      fill: #1967D2;\n",
              "      height: 32px;\n",
              "      padding: 0 0 0 0;\n",
              "      width: 32px;\n",
              "    }\n",
              "\n",
              "    .colab-df-convert:hover {\n",
              "      background-color: #E2EBFA;\n",
              "      box-shadow: 0px 1px 2px rgba(60, 64, 67, 0.3), 0px 1px 3px 1px rgba(60, 64, 67, 0.15);\n",
              "      fill: #174EA6;\n",
              "    }\n",
              "\n",
              "    [theme=dark] .colab-df-convert {\n",
              "      background-color: #3B4455;\n",
              "      fill: #D2E3FC;\n",
              "    }\n",
              "\n",
              "    [theme=dark] .colab-df-convert:hover {\n",
              "      background-color: #434B5C;\n",
              "      box-shadow: 0px 1px 3px 1px rgba(0, 0, 0, 0.15);\n",
              "      filter: drop-shadow(0px 1px 2px rgba(0, 0, 0, 0.3));\n",
              "      fill: #FFFFFF;\n",
              "    }\n",
              "  </style>\n",
              "\n",
              "      <script>\n",
              "        const buttonEl =\n",
              "          document.querySelector('#df-e44b81aa-8789-42ae-b965-226f14b5f223 button.colab-df-convert');\n",
              "        buttonEl.style.display =\n",
              "          google.colab.kernel.accessAllowed ? 'block' : 'none';\n",
              "\n",
              "        async function convertToInteractive(key) {\n",
              "          const element = document.querySelector('#df-e44b81aa-8789-42ae-b965-226f14b5f223');\n",
              "          const dataTable =\n",
              "            await google.colab.kernel.invokeFunction('convertToInteractive',\n",
              "                                                     [key], {});\n",
              "          if (!dataTable) return;\n",
              "\n",
              "          const docLinkHtml = 'Like what you see? Visit the ' +\n",
              "            '<a target=\"_blank\" href=https://colab.research.google.com/notebooks/data_table.ipynb>data table notebook</a>'\n",
              "            + ' to learn more about interactive tables.';\n",
              "          element.innerHTML = '';\n",
              "          dataTable['output_type'] = 'display_data';\n",
              "          await google.colab.output.renderOutput(dataTable, element);\n",
              "          const docLink = document.createElement('div');\n",
              "          docLink.innerHTML = docLinkHtml;\n",
              "          element.appendChild(docLink);\n",
              "        }\n",
              "      </script>\n",
              "    </div>\n",
              "  </div>\n",
              "  "
            ]
          },
          "metadata": {},
          "execution_count": 8
        }
      ]
    },
    {
      "cell_type": "code",
      "source": [
        "test_data.tail(3)"
      ],
      "metadata": {
        "colab": {
          "base_uri": "https://localhost:8080/",
          "height": 143
        },
        "id": "35xVvF8qcyB_",
        "outputId": "1612aae7-ac75-451e-aa6a-ec9059e1be3c"
      },
      "execution_count": null,
      "outputs": [
        {
          "output_type": "execute_result",
          "data": {
            "text/plain": [
              "            id                                        document  label\n",
              "49997  9072549              그림도 좋고 완성도도 높았지만... 보는 내내 불안하게 만든다      0\n",
              "49998  5802125  절대 봐서는 안 될 영화.. 재미도 없고 기분만 잡치고.. 한 세트장에서 다 해먹네      0\n",
              "49999  6070594                                      마무리는 또 왜이래      0"
            ],
            "text/html": [
              "\n",
              "  <div id=\"df-8058034b-ba64-4103-82ab-c1b85d623fc8\">\n",
              "    <div class=\"colab-df-container\">\n",
              "      <div>\n",
              "<style scoped>\n",
              "    .dataframe tbody tr th:only-of-type {\n",
              "        vertical-align: middle;\n",
              "    }\n",
              "\n",
              "    .dataframe tbody tr th {\n",
              "        vertical-align: top;\n",
              "    }\n",
              "\n",
              "    .dataframe thead th {\n",
              "        text-align: right;\n",
              "    }\n",
              "</style>\n",
              "<table border=\"1\" class=\"dataframe\">\n",
              "  <thead>\n",
              "    <tr style=\"text-align: right;\">\n",
              "      <th></th>\n",
              "      <th>id</th>\n",
              "      <th>document</th>\n",
              "      <th>label</th>\n",
              "    </tr>\n",
              "  </thead>\n",
              "  <tbody>\n",
              "    <tr>\n",
              "      <th>49997</th>\n",
              "      <td>9072549</td>\n",
              "      <td>그림도 좋고 완성도도 높았지만... 보는 내내 불안하게 만든다</td>\n",
              "      <td>0</td>\n",
              "    </tr>\n",
              "    <tr>\n",
              "      <th>49998</th>\n",
              "      <td>5802125</td>\n",
              "      <td>절대 봐서는 안 될 영화.. 재미도 없고 기분만 잡치고.. 한 세트장에서 다 해먹네</td>\n",
              "      <td>0</td>\n",
              "    </tr>\n",
              "    <tr>\n",
              "      <th>49999</th>\n",
              "      <td>6070594</td>\n",
              "      <td>마무리는 또 왜이래</td>\n",
              "      <td>0</td>\n",
              "    </tr>\n",
              "  </tbody>\n",
              "</table>\n",
              "</div>\n",
              "      <button class=\"colab-df-convert\" onclick=\"convertToInteractive('df-8058034b-ba64-4103-82ab-c1b85d623fc8')\"\n",
              "              title=\"Convert this dataframe to an interactive table.\"\n",
              "              style=\"display:none;\">\n",
              "        \n",
              "  <svg xmlns=\"http://www.w3.org/2000/svg\" height=\"24px\"viewBox=\"0 0 24 24\"\n",
              "       width=\"24px\">\n",
              "    <path d=\"M0 0h24v24H0V0z\" fill=\"none\"/>\n",
              "    <path d=\"M18.56 5.44l.94 2.06.94-2.06 2.06-.94-2.06-.94-.94-2.06-.94 2.06-2.06.94zm-11 1L8.5 8.5l.94-2.06 2.06-.94-2.06-.94L8.5 2.5l-.94 2.06-2.06.94zm10 10l.94 2.06.94-2.06 2.06-.94-2.06-.94-.94-2.06-.94 2.06-2.06.94z\"/><path d=\"M17.41 7.96l-1.37-1.37c-.4-.4-.92-.59-1.43-.59-.52 0-1.04.2-1.43.59L10.3 9.45l-7.72 7.72c-.78.78-.78 2.05 0 2.83L4 21.41c.39.39.9.59 1.41.59.51 0 1.02-.2 1.41-.59l7.78-7.78 2.81-2.81c.8-.78.8-2.07 0-2.86zM5.41 20L4 18.59l7.72-7.72 1.47 1.35L5.41 20z\"/>\n",
              "  </svg>\n",
              "      </button>\n",
              "      \n",
              "  <style>\n",
              "    .colab-df-container {\n",
              "      display:flex;\n",
              "      flex-wrap:wrap;\n",
              "      gap: 12px;\n",
              "    }\n",
              "\n",
              "    .colab-df-convert {\n",
              "      background-color: #E8F0FE;\n",
              "      border: none;\n",
              "      border-radius: 50%;\n",
              "      cursor: pointer;\n",
              "      display: none;\n",
              "      fill: #1967D2;\n",
              "      height: 32px;\n",
              "      padding: 0 0 0 0;\n",
              "      width: 32px;\n",
              "    }\n",
              "\n",
              "    .colab-df-convert:hover {\n",
              "      background-color: #E2EBFA;\n",
              "      box-shadow: 0px 1px 2px rgba(60, 64, 67, 0.3), 0px 1px 3px 1px rgba(60, 64, 67, 0.15);\n",
              "      fill: #174EA6;\n",
              "    }\n",
              "\n",
              "    [theme=dark] .colab-df-convert {\n",
              "      background-color: #3B4455;\n",
              "      fill: #D2E3FC;\n",
              "    }\n",
              "\n",
              "    [theme=dark] .colab-df-convert:hover {\n",
              "      background-color: #434B5C;\n",
              "      box-shadow: 0px 1px 3px 1px rgba(0, 0, 0, 0.15);\n",
              "      filter: drop-shadow(0px 1px 2px rgba(0, 0, 0, 0.3));\n",
              "      fill: #FFFFFF;\n",
              "    }\n",
              "  </style>\n",
              "\n",
              "      <script>\n",
              "        const buttonEl =\n",
              "          document.querySelector('#df-8058034b-ba64-4103-82ab-c1b85d623fc8 button.colab-df-convert');\n",
              "        buttonEl.style.display =\n",
              "          google.colab.kernel.accessAllowed ? 'block' : 'none';\n",
              "\n",
              "        async function convertToInteractive(key) {\n",
              "          const element = document.querySelector('#df-8058034b-ba64-4103-82ab-c1b85d623fc8');\n",
              "          const dataTable =\n",
              "            await google.colab.kernel.invokeFunction('convertToInteractive',\n",
              "                                                     [key], {});\n",
              "          if (!dataTable) return;\n",
              "\n",
              "          const docLinkHtml = 'Like what you see? Visit the ' +\n",
              "            '<a target=\"_blank\" href=https://colab.research.google.com/notebooks/data_table.ipynb>data table notebook</a>'\n",
              "            + ' to learn more about interactive tables.';\n",
              "          element.innerHTML = '';\n",
              "          dataTable['output_type'] = 'display_data';\n",
              "          await google.colab.output.renderOutput(dataTable, element);\n",
              "          const docLink = document.createElement('div');\n",
              "          docLink.innerHTML = docLinkHtml;\n",
              "          element.appendChild(docLink);\n",
              "        }\n",
              "      </script>\n",
              "    </div>\n",
              "  </div>\n",
              "  "
            ]
          },
          "metadata": {},
          "execution_count": 9
        }
      ]
    },
    {
      "cell_type": "markdown",
      "source": [
        "- index를 보니 train 15만, test 5만개의 데이터가 있습니다."
      ],
      "metadata": {
        "id": "gF7IlyIDaQaK"
      }
    },
    {
      "cell_type": "markdown",
      "source": [
        "#### 1.3.2 Data Preprocessing"
      ],
      "metadata": {
        "id": "gKSGYpU-mMxT"
      }
    },
    {
      "cell_type": "markdown",
      "source": [
        "- missingno를 통해 테이터의 null 값을 확인합니다."
      ],
      "metadata": {
        "id": "1Re3-BEVmFAr"
      }
    },
    {
      "cell_type": "code",
      "source": [
        "msno.matrix(df=train_data.iloc[:, :], color=(0.3, 0.2, 0.5), figsize=(12,7))"
      ],
      "metadata": {
        "colab": {
          "base_uri": "https://localhost:8080/",
          "height": 516
        },
        "id": "ngOO7S4siedw",
        "outputId": "63617839-21fe-463e-a643-afc3f37e6534"
      },
      "execution_count": null,
      "outputs": [
        {
          "output_type": "execute_result",
          "data": {
            "text/plain": [
              "<matplotlib.axes._subplots.AxesSubplot at 0x7f585028e390>"
            ]
          },
          "metadata": {},
          "execution_count": 10
        },
        {
          "output_type": "display_data",
          "data": {
            "text/plain": [
              "<Figure size 864x504 with 2 Axes>"
            ],
            "image/png": "[encoded data removed]"
          },
          "metadata": {
            "needs_background": "light"
          }
        }
      ]
    },
    {
      "cell_type": "code",
      "source": [
        "msno.matrix(df=test_data.iloc[:, :], color=(0.3, 0.2, 0.5), figsize=(12,7))"
      ],
      "metadata": {
        "colab": {
          "base_uri": "https://localhost:8080/",
          "height": 516
        },
        "id": "6fpwhp7CdLd2",
        "outputId": "1d6f3f6d-cca2-4723-f76a-fd913984730b"
      },
      "execution_count": null,
      "outputs": [
        {
          "output_type": "execute_result",
          "data": {
            "text/plain": [
              "<matplotlib.axes._subplots.AxesSubplot at 0x7f584d0e7210>"
            ]
          },
          "metadata": {},
          "execution_count": 11
        },
        {
          "output_type": "display_data",
          "data": {
            "text/plain": [
              "<Figure size 864x504 with 2 Axes>"
            ],
            "image/png": "[encoded data removed]"
          },
          "metadata": {
            "needs_background": "light"
          }
        }
      ]
    },
    {
      "cell_type": "markdown",
      "source": [
        "- missingno martix의 우측 sparkline을 보면 데이터의 결측이 있는 것을 확인할 수 있습니다만, 잘 안보이니 isnull로 확인합니다."
      ],
      "metadata": {
        "id": "_bdUvFQjiw13"
      }
    },
    {
      "cell_type": "code",
      "source": [
        "missing = train_data.isnull().sum()\n",
        "missing = missing[missing >= 0]\n",
        "missing.sort_values(inplace=True)\n",
        "missing.plot.bar(figsize = (12,6))"
      ],
      "metadata": {
        "colab": {
          "base_uri": "https://localhost:8080/",
          "height": 432
        },
        "id": "2y-XBo3Wi4dp",
        "outputId": "4281d122-85f3-4df9-804e-7d2c5c7892dc"
      },
      "execution_count": null,
      "outputs": [
        {
          "output_type": "execute_result",
          "data": {
            "text/plain": [
              "<matplotlib.axes._subplots.AxesSubplot at 0x7f584d369a90>"
            ]
          },
          "metadata": {},
          "execution_count": 12
        },
        {
          "output_type": "display_data",
          "data": {
            "text/plain": [
              "<Figure size 864x432 with 1 Axes>"
            ],
            "image/png": "[encoded data removed]"
          },
          "metadata": {
            "needs_background": "light"
          }
        }
      ]
    },
    {
      "cell_type": "code",
      "source": [
        "missing = test_data.isnull().sum()\n",
        "missing = missing[missing >= 0]\n",
        "missing.sort_values(inplace=True)\n",
        "missing.plot.bar(figsize = (12,6))"
      ],
      "metadata": {
        "colab": {
          "base_uri": "https://localhost:8080/",
          "height": 432
        },
        "id": "DUDkvW85jjZl",
        "outputId": "30f11f08-3c5a-4028-f956-67ff3962616e"
      },
      "execution_count": null,
      "outputs": [
        {
          "output_type": "execute_result",
          "data": {
            "text/plain": [
              "<matplotlib.axes._subplots.AxesSubplot at 0x7f584d53f090>"
            ]
          },
          "metadata": {},
          "execution_count": 13
        },
        {
          "output_type": "display_data",
          "data": {
            "text/plain": [
              "<Figure size 864x432 with 1 Axes>"
            ],
            "image/png": "[encoded data removed]"
          },
          "metadata": {
            "needs_background": "light"
          }
        }
      ]
    },
    {
      "cell_type": "markdown",
      "source": [
        "- train의 document 컬럼에 5개, test의 document 컬럼에 3개의 null값이 존재합니다."
      ],
      "metadata": {
        "id": "dco9j9EajL5C"
      }
    },
    {
      "cell_type": "markdown",
      "source": [
        "- nunique를 이용해 중복데이터도 확인합니다.  \n",
        "이번에는 간단하게 텍스트로 봅니다."
      ],
      "metadata": {
        "id": "lnx8HBHCdYBS"
      }
    },
    {
      "cell_type": "code",
      "source": [
        "print('train | id : ', train_data['id'].nunique())\n",
        "print('train | document : ', train_data['document'].nunique())\n",
        "print('=================================')\n",
        "print('test | id : ', test_data['id'].nunique())\n",
        "print('test | document : ', test_data['document'].nunique())"
      ],
      "metadata": {
        "colab": {
          "base_uri": "https://localhost:8080/"
        },
        "id": "nonxXEXZXpas",
        "outputId": "0d9103f9-8678-434a-a1b6-26379dbff853"
      },
      "execution_count": null,
      "outputs": [
        {
          "output_type": "stream",
          "name": "stdout",
          "text": [
            "train | id :  150000\n",
            "train | document :  146182\n",
            "=================================\n",
            "test | id :  50000\n",
            "test | document :  49157\n"
          ]
        }
      ]
    },
    {
      "cell_type": "markdown",
      "source": [
        "- 찾았으니 처리해줍니다."
      ],
      "metadata": {
        "id": "XoRdpukjnE15"
      }
    },
    {
      "cell_type": "markdown",
      "source": [
        "- drop_duplicates로 중복을 제거합니다."
      ],
      "metadata": {
        "id": "kGB7sEo6mKxY"
      }
    },
    {
      "cell_type": "code",
      "source": [
        "train_data.drop_duplicates(subset=['document'], keep='first', inplace=True)\n",
        "test_data.drop_duplicates(subset=['document'], keep='first', inplace=True)"
      ],
      "metadata": {
        "id": "Tv8Gn7EGnXwi"
      },
      "execution_count": 10,
      "outputs": []
    },
    {
      "cell_type": "markdown",
      "source": [
        "- 아까 찾은 null값도 제거합니다."
      ],
      "metadata": {
        "id": "1-XAT7GHnhID"
      }
    },
    {
      "cell_type": "code",
      "source": [
        "train_data = train_data.dropna()\n",
        "test_data = test_data.dropna()"
      ],
      "metadata": {
        "id": "maAhZWqcneIq"
      },
      "execution_count": 11,
      "outputs": []
    },
    {
      "cell_type": "markdown",
      "source": [
        "- 한글 리뷰를 분석하므로 한글과 공백을 제외하고 나머지는 제거해줍니다."
      ],
      "metadata": {
        "id": "p1hFbeHoPaE4"
      }
    },
    {
      "cell_type": "code",
      "source": [
        "train_data['document'] = train_data['document'].str.replace(\"[^ㄱ-ㅎㅏ-ㅣ가-힣 ]\",\"\")\n",
        "test_data['document'] = test_data['document'].str.replace(\"[^ㄱ-ㅎㅏ-ㅣ가-힣 ]\",\"\")"
      ],
      "metadata": {
        "colab": {
          "base_uri": "https://localhost:8080/"
        },
        "id": "v0AKm68A89OO",
        "outputId": "9dfde8d1-cb8f-44f7-84af-f949eef71e77"
      },
      "execution_count": 12,
      "outputs": [
        {
          "output_type": "stream",
          "name": "stderr",
          "text": [
            "/usr/local/lib/python3.7/dist-packages/ipykernel_launcher.py:1: FutureWarning: The default value of regex will change from True to False in a future version.\n",
            "  \"\"\"Entry point for launching an IPython kernel.\n",
            "/usr/local/lib/python3.7/dist-packages/ipykernel_launcher.py:2: FutureWarning: The default value of regex will change from True to False in a future version.\n",
            "  \n"
          ]
        }
      ]
    },
    {
      "cell_type": "markdown",
      "source": [
        "- 공백이 발생할 수 있으므로 공백을 null값으로 바꿔줍니다."
      ],
      "metadata": {
        "id": "wRWlKrUcP06d"
      }
    },
    {
      "cell_type": "code",
      "source": [
        "train_data['document'] = train_data['document'].str.replace('^ +', \"\")\n",
        "train_data['document'].replace('', np.nan, inplace=True)\n",
        "print(train_data.isnull().sum())"
      ],
      "metadata": {
        "colab": {
          "base_uri": "https://localhost:8080/"
        },
        "id": "MuIXIRPb9Emf",
        "outputId": "7e0cdffd-75fb-4691-e542-8610e50d6dd4"
      },
      "execution_count": 13,
      "outputs": [
        {
          "output_type": "stream",
          "name": "stdout",
          "text": [
            "id            0\n",
            "document    789\n",
            "label         0\n",
            "dtype: int64\n"
          ]
        },
        {
          "output_type": "stream",
          "name": "stderr",
          "text": [
            "/usr/local/lib/python3.7/dist-packages/ipykernel_launcher.py:1: FutureWarning: The default value of regex will change from True to False in a future version.\n",
            "  \"\"\"Entry point for launching an IPython kernel.\n"
          ]
        }
      ]
    },
    {
      "cell_type": "code",
      "source": [
        "test_data['document'] = test_data['document'].str.replace('^ +', \"\")\n",
        "test_data['document'].replace('', np.nan, inplace=True)\n",
        "print(train_data.isnull().sum())"
      ],
      "metadata": {
        "colab": {
          "base_uri": "https://localhost:8080/"
        },
        "id": "qM2KIEXl9Itp",
        "outputId": "77e26f9c-4ee6-48bf-bd97-158a283f0587"
      },
      "execution_count": 14,
      "outputs": [
        {
          "output_type": "stream",
          "name": "stdout",
          "text": [
            "id            0\n",
            "document    789\n",
            "label         0\n",
            "dtype: int64\n"
          ]
        },
        {
          "output_type": "stream",
          "name": "stderr",
          "text": [
            "/usr/local/lib/python3.7/dist-packages/ipykernel_launcher.py:1: FutureWarning: The default value of regex will change from True to False in a future version.\n",
            "  \"\"\"Entry point for launching an IPython kernel.\n"
          ]
        }
      ]
    },
    {
      "cell_type": "markdown",
      "source": [
        "- 다시 null값을 제거합니다."
      ],
      "metadata": {
        "id": "5NKOYr37P-G3"
      }
    },
    {
      "cell_type": "code",
      "source": [
        "train_data = train_data.dropna(how = 'any')\n",
        "test_data = test_data.dropna(how = 'any')"
      ],
      "metadata": {
        "id": "AM-Hgw4i9TYx"
      },
      "execution_count": 15,
      "outputs": []
    },
    {
      "cell_type": "markdown",
      "source": [
        "- train에서 4,607개 / test에서 1,148개가 줄었습니다."
      ],
      "metadata": {
        "id": "Gi0MY6tfQagt"
      }
    },
    {
      "cell_type": "code",
      "source": [
        "print(len(train_data),len(test_data))"
      ],
      "metadata": {
        "colab": {
          "base_uri": "https://localhost:8080/"
        },
        "id": "xEnHjAiB9e8T",
        "outputId": "00cd94f2-d7ca-48a8-96cc-a134b278a987"
      },
      "execution_count": null,
      "outputs": [
        {
          "output_type": "stream",
          "name": "stdout",
          "text": [
            "145393 48852\n"
          ]
        }
      ]
    },
    {
      "cell_type": "markdown",
      "source": [
        "#### 1.3.3 Tokenize"
      ],
      "metadata": {
        "id": "i7ITuooapXDy"
      }
    },
    {
      "cell_type": "markdown",
      "source": [
        "- Mecab을 이용해 tokenize를 진행하고 쓸데없는 조사, 접속사 등의 불용어 제거를 위한 리스트를 만듭니다."
      ],
      "metadata": {
        "id": "tY1mkjvqphRu"
      }
    },
    {
      "cell_type": "code",
      "source": [
        "tokenizer_m = Mecab()\n",
        "stopwords = ['의','가','이','은','들','는','좀','잘','걍','과','도','를','으로','자','에','와','한','하다']"
      ],
      "metadata": {
        "id": "Rq1ONcSqp-NR"
      },
      "execution_count": null,
      "outputs": []
    },
    {
      "cell_type": "markdown",
      "source": [
        "- 위에서 작성한 함수로 처리합니다.\n",
        "- 토큰화, 불용어 처리, 사전까지 만들어 X_train, y_train, X_test, y_test로 리턴합니다."
      ],
      "metadata": {
        "id": "7ifJxrChqBAV"
      }
    },
    {
      "cell_type": "code",
      "source": [
        "X_train = []\n",
        "for sentence in train_data['document']:\n",
        "    temp_x_train = tokenizer_m.morphs(sentence)\n",
        "    temp_x_train = [word for word in temp_x_train if not word in stopwords]   \n",
        "    X_train.append(temp_x_train)\n",
        "\n",
        "X_test = []\n",
        "for sentence in test_data['document']:\n",
        "    temp_x_test = tokenizer_m.morphs(sentence)\n",
        "    temp_x_test = [word for word in temp_x_test if not word in stopwords]   \n",
        "    X_test.append(temp_x_test)"
      ],
      "metadata": {
        "id": "pVRmRAay7cGg"
      },
      "execution_count": null,
      "outputs": []
    },
    {
      "cell_type": "code",
      "source": [
        "print(len(X_train))"
      ],
      "metadata": {
        "colab": {
          "base_uri": "https://localhost:8080/"
        },
        "id": "UnL6y_ttCesU",
        "outputId": "0dadd54e-a975-4eb5-dc72-ee1779cff394"
      },
      "execution_count": null,
      "outputs": [
        {
          "output_type": "stream",
          "name": "stdout",
          "text": [
            "145393\n"
          ]
        }
      ]
    },
    {
      "cell_type": "markdown",
      "source": [
        "- 바로 단어장을 만듭니다."
      ],
      "metadata": {
        "id": "w_bytdoCQx2z"
      }
    },
    {
      "cell_type": "code",
      "source": [
        "tokenizer = Tokenizer()\n",
        "tokenizer.fit_on_texts(X_train)"
      ],
      "metadata": {
        "id": "MmUS7DsF8QoC"
      },
      "execution_count": null,
      "outputs": []
    },
    {
      "cell_type": "code",
      "source": [
        "print(tokenizer.word_index)"
      ],
      "metadata": {
        "id": "qG4NavKF8XxY"
      },
      "execution_count": null,
      "outputs": []
    },
    {
      "cell_type": "markdown",
      "source": [
        "- tokenizer.word_index를 보면 단어장에 1부터 49946까지 존재하는 것을 확인할 수 있습니다(너무 길어 출력은 생략합니다)\n",
        "- 단어장에서 빈도수에 따라 단어를 제거하지만, labeling이 끝난 문장의 단어들이라 제거할 필요가 없다고 판단하여 그냥 살려둡니다."
      ],
      "metadata": {
        "id": "wpC5r7ZC8n5A"
      }
    },
    {
      "cell_type": "code",
      "source": [
        "total_cnt = len(tokenizer.word_index)\n",
        "print(total_cnt)"
      ],
      "metadata": {
        "colab": {
          "base_uri": "https://localhost:8080/"
        },
        "id": "cPZYXp0f_E8m",
        "outputId": "a404585d-6412-4921-9342-52fff26b3b95"
      },
      "execution_count": null,
      "outputs": [
        {
          "output_type": "stream",
          "name": "stdout",
          "text": [
            "49946\n"
          ]
        }
      ]
    },
    {
      "cell_type": "markdown",
      "source": [
        "- vocab size는 총 단어에 pad를 포함하기위해 +1을 해줬습니다."
      ],
      "metadata": {
        "id": "LRoNOvIr_QJW"
      }
    },
    {
      "cell_type": "code",
      "source": [
        "vocab_size = total_cnt + 1"
      ],
      "metadata": {
        "id": "m11jI94v_OYC"
      },
      "execution_count": null,
      "outputs": []
    },
    {
      "cell_type": "markdown",
      "source": [
        "- vocab_size를 tokenizer에 넣고 텍스트 시퀀스를 정수 시퀀스로 변환합니다."
      ],
      "metadata": {
        "id": "ambTHBN7_j-A"
      }
    },
    {
      "cell_type": "code",
      "source": [
        "tokenizer = Tokenizer(vocab_size) \n",
        "tokenizer.fit_on_texts(X_train)\n",
        "X_train = tokenizer.texts_to_sequences(X_train)\n",
        "X_test = tokenizer.texts_to_sequences(X_test)"
      ],
      "metadata": {
        "id": "GhalPJSD_ipT"
      },
      "execution_count": null,
      "outputs": []
    },
    {
      "cell_type": "markdown",
      "source": [
        "- label 컬럼은 y_train과 y_test로 array 형태로 넣어줍니다."
      ],
      "metadata": {
        "id": "I2WYT5Pi_1iZ"
      }
    },
    {
      "cell_type": "code",
      "source": [
        "y_train = np.array(train_data['label'])\n",
        "y_test = np.array(test_data['label'])"
      ],
      "metadata": {
        "id": "SUQKEvnGDF3T"
      },
      "execution_count": null,
      "outputs": []
    },
    {
      "cell_type": "code",
      "source": [
        "print(len(X_train))\n",
        "print(len(y_train))"
      ],
      "metadata": {
        "colab": {
          "base_uri": "https://localhost:8080/"
        },
        "id": "An_Da9M3AtpJ",
        "outputId": "e9bc8cd5-2a67-4968-b266-cdeca1be59d4"
      },
      "execution_count": null,
      "outputs": [
        {
          "output_type": "stream",
          "name": "stdout",
          "text": [
            "145393\n",
            "145393\n"
          ]
        }
      ]
    },
    {
      "cell_type": "markdown",
      "source": [
        "- 토큰화 과정에서 빈 샘플을 제거합니다."
      ],
      "metadata": {
        "id": "ZWm9Ee0dREz9"
      }
    },
    {
      "cell_type": "code",
      "source": [
        "drop_train = [index for index, sentence in enumerate(X_train) if len(sentence) < 1]\n",
        "X_train = np.delete(X_train, drop_train, axis=0)\n",
        "y_train = np.delete(y_train, drop_train, axis=0)"
      ],
      "metadata": {
        "colab": {
          "base_uri": "https://localhost:8080/"
        },
        "id": "_yk2E49IAvnO",
        "outputId": "3e466298-d5d8-475e-d1e2-fd6609a2050a"
      },
      "execution_count": null,
      "outputs": [
        {
          "output_type": "stream",
          "name": "stderr",
          "text": [
            "/usr/local/lib/python3.7/dist-packages/numpy/lib/function_base.py:4454: VisibleDeprecationWarning: Creating an ndarray from ragged nested sequences (which is a list-or-tuple of lists-or-tuples-or ndarrays with different lengths or shapes) is deprecated. If you meant to do this, you must specify 'dtype=object' when creating the ndarray.\n",
            "  arr = asarray(arr)\n"
          ]
        }
      ]
    },
    {
      "cell_type": "code",
      "source": [
        "print(len(X_train))\n",
        "print(len(y_train))"
      ],
      "metadata": {
        "colab": {
          "base_uri": "https://localhost:8080/"
        },
        "id": "Km6wc-mYDNuK",
        "outputId": "4efd1f0e-0bdb-4bbc-88a9-fd1b64aa03f6"
      },
      "execution_count": null,
      "outputs": [
        {
          "output_type": "stream",
          "name": "stdout",
          "text": [
            "145380\n",
            "145380\n"
          ]
        }
      ]
    },
    {
      "cell_type": "markdown",
      "source": [
        "- 리뷰의 길이를 확인합니다(주로 5~15사이에 몰려있습니다)\n",
        "- 리뷰의 길이에서 maxlen을 정해주는데 최대 길이를 그대로 가져가겠습니다.  \n",
        "만약 길이로 문장을 제거하려했다면 토큰화전에 제거하는 것이 좋을 것 같습니다."
      ],
      "metadata": {
        "id": "NxQIO3k6RT-B"
      }
    },
    {
      "cell_type": "code",
      "source": [
        "print('리뷰의 최대 길이 :',max(len(review) for review in X_train))\n",
        "print('리뷰의 평균 길이 :',sum(map(len, X_train))/len(X_train))\n",
        "plt.hist([len(review) for review in X_train], bins=50)\n",
        "plt.xlabel('length of samples')\n",
        "plt.ylabel('number of samples')\n",
        "plt.show()"
      ],
      "metadata": {
        "colab": {
          "base_uri": "https://localhost:8080/",
          "height": 316
        },
        "id": "hSzZjWRqAaFX",
        "outputId": "46e6d8dd-da9f-4bd4-c111-edbb434341e2"
      },
      "execution_count": null,
      "outputs": [
        {
          "output_type": "stream",
          "name": "stdout",
          "text": [
            "리뷰의 최대 길이 : 83\n",
            "리뷰의 평균 길이 : 13.801348190947861\n"
          ]
        },
        {
          "output_type": "display_data",
          "data": {
            "text/plain": [
              "<Figure size 432x288 with 1 Axes>"
            ],
            "image/png": "[encoded data removed]"
          },
          "metadata": {
            "needs_background": "light"
          }
        }
      ]
    },
    {
      "cell_type": "markdown",
      "source": [
        "- post-padding은 문장의 뒷부분에 pad가 들어가 마지막 단어로 pad가 입력으로 들어갈 수 있습니다.  \n",
        "반대로, pre-padding같은 경우에는 문장 앞부분에 pad가 채워져 마지막 단어로 pad가 들어가는 일이 없습니다.  \n",
        "LSTM같은 순차적인 특성의 시퀀스 모델링의 올바른 진행을 위해서는 pre-padding을 사용한다고 합니다.  \n",
        "물론 저도 LSTM층을 사용해 모델을 구성했으므로 pre-padding을 진행합니다."
      ],
      "metadata": {
        "id": "JScQDsCCfAGQ"
      }
    },
    {
      "cell_type": "code",
      "source": [
        "max_len = 83"
      ],
      "metadata": {
        "id": "UHvzw-7y7q1Z"
      },
      "execution_count": 65,
      "outputs": []
    },
    {
      "cell_type": "code",
      "source": [
        "X_train = pad_sequences(X_train, padding='pre', maxlen=max_len)\n",
        "X_test = pad_sequences(X_test, padding='pre', maxlen=max_len)\n",
        "print(X_train.shape)\n",
        "print(y_train.shape)"
      ],
      "metadata": {
        "colab": {
          "base_uri": "https://localhost:8080/"
        },
        "id": "VvBF1fkYEKPz",
        "outputId": "2181a6ba-b43a-4746-be8f-d020d9890637"
      },
      "execution_count": null,
      "outputs": [
        {
          "output_type": "stream",
          "name": "stdout",
          "text": [
            "(145380, 83)\n",
            "(145380,)\n"
          ]
        }
      ]
    },
    {
      "cell_type": "code",
      "source": [
        "print(X_train[0])"
      ],
      "metadata": {
        "colab": {
          "base_uri": "https://localhost:8080/"
        },
        "id": "FIEJVadaEEFD",
        "outputId": "075101a6-7dc4-4f58-ec91-1bdad34ab790"
      },
      "execution_count": null,
      "outputs": [
        {
          "output_type": "stream",
          "name": "stdout",
          "text": [
            "[  0   0   0   0   0   0   0   0   0   0   0   0   0   0   0   0   0   0\n",
            "   0   0   0   0   0   0   0   0   0   0   0   0   0   0   0   0   0   0\n",
            "   0   0   0   0   0   0   0   0   0   0   0   0   0   0   0   0   0   0\n",
            "   0   0   0   0   0   0   0   0   0   0   0   0   0   0   0   0   0   0\n",
            "   0   0   0  24  64 892  30 211  12  25 696]\n"
          ]
        }
      ]
    },
    {
      "cell_type": "markdown",
      "source": [
        "- padding까지 잘 된 것을 확인할 수 있습니다."
      ],
      "metadata": {
        "id": "aOZjCLlBAZ2H"
      }
    },
    {
      "cell_type": "markdown",
      "source": [
        "### 1.2 Model"
      ],
      "metadata": {
        "id": "3ibTHdVlqe_E"
      }
    },
    {
      "cell_type": "markdown",
      "source": [
        "- model을 설계합니다.  \n",
        "LSTM, dense layer를 사용하며 dropout으로 과적합을 방지합니다.  \n",
        "- 모든 model은 ealrystopping과 modelcheckpoint를 활용합니다.  \n",
        "- epochs는 30, batch_size는 256으로 설정합니다."
      ],
      "metadata": {
        "id": "xX10AOw_3JTd"
      }
    },
    {
      "cell_type": "code",
      "source": [
        "print(vocab_size)"
      ],
      "metadata": {
        "colab": {
          "base_uri": "https://localhost:8080/"
        },
        "id": "z8Y7IYbIFbsb",
        "outputId": "49442a87-10b8-4473-93ca-20ea550aaeeb"
      },
      "execution_count": null,
      "outputs": [
        {
          "output_type": "stream",
          "name": "stdout",
          "text": [
            "49947\n"
          ]
        }
      ]
    },
    {
      "cell_type": "code",
      "source": [
        "word_vector_dim = 128\n",
        "\n",
        "# model\n",
        "model1_1 = keras.Sequential()\n",
        "model1_1.add(keras.layers.Embedding(vocab_size, word_vector_dim, input_shape=(None,)))\n",
        "model1_1.add(keras.layers.LSTM(512))\n",
        "model1_1.add(keras.layers.Dropout(0.3))\n",
        "model1_1.add(keras.layers.Dense(32, activation='relu'))\n",
        "model1_1.add(keras.layers.Dropout(0.3))\n",
        "model1_1.add(keras.layers.Dense(16, activation='relu'))\n",
        "model1_1.add(keras.layers.Dense(1, activation='sigmoid'))\n",
        "\n",
        "model1_1.summary()"
      ],
      "metadata": {
        "id": "dqoVvXnhqjWp",
        "colab": {
          "base_uri": "https://localhost:8080/"
        },
        "outputId": "92c511ba-44cd-4a17-ecfb-06a048cd9654"
      },
      "execution_count": null,
      "outputs": [
        {
          "output_type": "stream",
          "name": "stdout",
          "text": [
            "Model: \"sequential_11\"\n",
            "_________________________________________________________________\n",
            " Layer (type)                Output Shape              Param #   \n",
            "=================================================================\n",
            " embedding_11 (Embedding)    (None, None, 128)         6393216   \n",
            "                                                                 \n",
            " lstm_11 (LSTM)              (None, 512)               1312768   \n",
            "                                                                 \n",
            " dropout_22 (Dropout)        (None, 512)               0         \n",
            "                                                                 \n",
            " dense_33 (Dense)            (None, 32)                16416     \n",
            "                                                                 \n",
            " dropout_23 (Dropout)        (None, 32)                0         \n",
            "                                                                 \n",
            " dense_34 (Dense)            (None, 16)                528       \n",
            "                                                                 \n",
            " dense_35 (Dense)            (None, 1)                 17        \n",
            "                                                                 \n",
            "=================================================================\n",
            "Total params: 7,722,945\n",
            "Trainable params: 7,722,945\n",
            "Non-trainable params: 0\n",
            "_________________________________________________________________\n"
          ]
        }
      ]
    },
    {
      "cell_type": "markdown",
      "source": [
        "- 여러 목적으로 사용할 모델을 추가로 생성합니다."
      ],
      "metadata": {
        "id": "oGgmMfbI5i6-"
      }
    },
    {
      "cell_type": "code",
      "source": [
        "model1_2 = model1_1\n",
        "model1_3 = model1_1"
      ],
      "metadata": {
        "id": "S2HGadwdml9K"
      },
      "execution_count": null,
      "outputs": []
    },
    {
      "cell_type": "markdown",
      "source": [
        "- train 데이터에서 validation 데이터를 분리합니다."
      ],
      "metadata": {
        "id": "6K8rIwDzfO3U"
      }
    },
    {
      "cell_type": "code",
      "source": [
        "x_train, x_val, y_train, y_val = model_selection.train_test_split(X_train, y_train, test_size = 0.2, shuffle=False)\n",
        "\n",
        "print(x_train.shape, y_train.shape)\n",
        "print(x_val.shape, y_val.shape)"
      ],
      "metadata": {
        "id": "seM56MaLqs_J",
        "colab": {
          "base_uri": "https://localhost:8080/"
        },
        "outputId": "d89888d5-2c63-42b7-d28d-cdb83b07df64"
      },
      "execution_count": null,
      "outputs": [
        {
          "output_type": "stream",
          "name": "stdout",
          "text": [
            "(116304, 83) (116304,)\n",
            "(29076, 83) (29076,)\n"
          ]
        }
      ]
    },
    {
      "cell_type": "markdown",
      "source": [
        "#### 1.2.1 Model 1_1"
      ],
      "metadata": {
        "id": "htri09K7qbPy"
      }
    },
    {
      "cell_type": "markdown",
      "source": [
        "- model1_1은 Nadam optimizer를 사용합니다."
      ],
      "metadata": {
        "id": "He6KwLMQiBHt"
      }
    },
    {
      "cell_type": "code",
      "source": [
        "model1_1.compile(optimizer='Nadam',\n",
        "              loss='binary_crossentropy',\n",
        "              metrics=['accuracy'])\n",
        "\n",
        "es = EarlyStopping(monitor='val_loss', verbose=1, patience = 2, mode = 'min')\n",
        "mc = ModelCheckpoint(\"best_model1_1.h5\", monitor='val_accuracy', mode='max', verbose=1, save_best_only=True)\n",
        "              \n",
        "epochs=30\n",
        "batch_size=256\n",
        "\n",
        "history1_1 = model1_1.fit(x_train,\n",
        "                          y_train,\n",
        "                          epochs=epochs,\n",
        "                          batch_size=batch_size,\n",
        "                          validation_data=(x_val, y_val),\n",
        "                          callbacks = [es, mc])"
      ],
      "metadata": {
        "id": "FynWzvcVqusQ",
        "colab": {
          "base_uri": "https://localhost:8080/"
        },
        "outputId": "2524b6d0-c3be-437e-efcd-df5aef08403c"
      },
      "execution_count": null,
      "outputs": [
        {
          "output_type": "stream",
          "name": "stdout",
          "text": [
            "Epoch 1/30\n",
            "454/455 [============================>.] - ETA: 0s - loss: 0.4475 - accuracy: 0.8007\n",
            "Epoch 1: val_accuracy improved from -inf to 0.84114, saving model to best_model1_1.h5\n",
            "455/455 [==============================] - 31s 63ms/step - loss: 0.4474 - accuracy: 0.8008 - val_loss: 0.3715 - val_accuracy: 0.8411\n",
            "Epoch 2/30\n",
            "454/455 [============================>.] - ETA: 0s - loss: 0.3149 - accuracy: 0.8690\n",
            "Epoch 2: val_accuracy improved from 0.84114 to 0.84451, saving model to best_model1_1.h5\n",
            "455/455 [==============================] - 29s 63ms/step - loss: 0.3148 - accuracy: 0.8690 - val_loss: 0.3556 - val_accuracy: 0.8445\n",
            "Epoch 3/30\n",
            "454/455 [============================>.] - ETA: 0s - loss: 0.2631 - accuracy: 0.8934\n",
            "Epoch 3: val_accuracy improved from 0.84451 to 0.84909, saving model to best_model1_1.h5\n",
            "455/455 [==============================] - 30s 65ms/step - loss: 0.2630 - accuracy: 0.8935 - val_loss: 0.3497 - val_accuracy: 0.8491\n",
            "Epoch 4/30\n",
            "454/455 [============================>.] - ETA: 0s - loss: 0.2206 - accuracy: 0.9137\n",
            "Epoch 4: val_accuracy improved from 0.84909 to 0.85256, saving model to best_model1_1.h5\n",
            "455/455 [==============================] - 30s 66ms/step - loss: 0.2207 - accuracy: 0.9137 - val_loss: 0.3523 - val_accuracy: 0.8526\n",
            "Epoch 5/30\n",
            "454/455 [============================>.] - ETA: 0s - loss: 0.1882 - accuracy: 0.9271\n",
            "Epoch 5: val_accuracy did not improve from 0.85256\n",
            "455/455 [==============================] - 30s 65ms/step - loss: 0.1883 - accuracy: 0.9271 - val_loss: 0.3787 - val_accuracy: 0.8477\n",
            "Epoch 5: early stopping\n"
          ]
        }
      ]
    },
    {
      "cell_type": "code",
      "source": [
        "loaded_model1_1 = load_model('best_model1_1.h5')\n",
        "print(\"\\n 테스트 정확도: %.4f\" % (loaded_model1_1.evaluate(X_test, y_test)[1]))"
      ],
      "metadata": {
        "colab": {
          "base_uri": "https://localhost:8080/"
        },
        "id": "K_-yxbwDfjcq",
        "outputId": "1ef0b71b-48c5-49b6-ca93-1c1ed2f9a269"
      },
      "execution_count": null,
      "outputs": [
        {
          "output_type": "stream",
          "name": "stdout",
          "text": [
            "1527/1527 [==============================] - 9s 5ms/step - loss: 0.3615 - accuracy: 0.8500\n",
            "\n",
            " 테스트 정확도: 0.8500\n"
          ]
        }
      ]
    },
    {
      "cell_type": "markdown",
      "source": [
        "#### 1.2.2 Model 1_2"
      ],
      "metadata": {
        "id": "0h5XRrngjOCl"
      }
    },
    {
      "cell_type": "markdown",
      "source": [
        "- model1_2은 Adam optimizer를 사용합니다."
      ],
      "metadata": {
        "id": "kSJbK5TXjERD"
      }
    },
    {
      "cell_type": "code",
      "source": [
        "model1_2.compile(optimizer='Adam',\n",
        "              loss='binary_crossentropy',\n",
        "              metrics=['accuracy'])\n",
        "\n",
        "es = EarlyStopping(monitor='val_loss', verbose=1, patience = 2, mode = 'min')\n",
        "mc = ModelCheckpoint(\"best_model1_2.h5\", monitor='val_accuracy', mode='max', verbose=1, save_best_only=True)\n",
        "              \n",
        "epochs=30\n",
        "batch_size=256\n",
        "\n",
        "history1_2 = model1_2.fit(x_train,\n",
        "                          y_train,\n",
        "                          epochs=epochs,\n",
        "                          batch_size=batch_size,\n",
        "                          validation_data=(x_val, y_val),\n",
        "                          callbacks = [es, mc])"
      ],
      "metadata": {
        "colab": {
          "base_uri": "https://localhost:8080/"
        },
        "id": "FKFVeUZzeXhm",
        "outputId": "eaa25fe5-ccb5-4d47-80aa-edf1592e46b0"
      },
      "execution_count": null,
      "outputs": [
        {
          "output_type": "stream",
          "name": "stdout",
          "text": [
            "Epoch 1/30\n",
            "454/455 [============================>.] - ETA: 0s - loss: 0.4272 - accuracy: 0.8011\n",
            "Epoch 1: val_accuracy improved from -inf to 0.84465, saving model to best_model1_2.h5\n",
            "455/455 [==============================] - 30s 62ms/step - loss: 0.4271 - accuracy: 0.8012 - val_loss: 0.3553 - val_accuracy: 0.8446\n",
            "Epoch 2/30\n",
            "454/455 [============================>.] - ETA: 0s - loss: 0.3061 - accuracy: 0.8731\n",
            "Epoch 2: val_accuracy improved from 0.84465 to 0.84485, saving model to best_model1_2.h5\n",
            "455/455 [==============================] - 28s 61ms/step - loss: 0.3060 - accuracy: 0.8732 - val_loss: 0.3546 - val_accuracy: 0.8449\n",
            "Epoch 3/30\n",
            "454/455 [============================>.] - ETA: 0s - loss: 0.2462 - accuracy: 0.9003\n",
            "Epoch 3: val_accuracy improved from 0.84485 to 0.84596, saving model to best_model1_2.h5\n",
            "455/455 [==============================] - 28s 63ms/step - loss: 0.2463 - accuracy: 0.9003 - val_loss: 0.3608 - val_accuracy: 0.8460\n",
            "Epoch 4/30\n",
            "454/455 [============================>.] - ETA: 0s - loss: 0.1951 - accuracy: 0.9227\n",
            "Epoch 4: val_accuracy did not improve from 0.84596\n",
            "455/455 [==============================] - 28s 62ms/step - loss: 0.1952 - accuracy: 0.9227 - val_loss: 0.4127 - val_accuracy: 0.8375\n",
            "Epoch 4: early stopping\n"
          ]
        }
      ]
    },
    {
      "cell_type": "code",
      "source": [
        "loaded_model1_2 = load_model('best_model1_2.h5')\n",
        "print(\"\\n 테스트 정확도: %.4f\" % (loaded_model1_2.evaluate(X_test, y_test)[1]))"
      ],
      "metadata": {
        "colab": {
          "base_uri": "https://localhost:8080/"
        },
        "id": "-Mv-1X_KfeW6",
        "outputId": "95a2960e-2b34-488a-a673-13dda29c6d22"
      },
      "execution_count": null,
      "outputs": [
        {
          "output_type": "stream",
          "name": "stdout",
          "text": [
            "1527/1527 [==============================] - 10s 6ms/step - loss: 0.3658 - accuracy: 0.8453\n",
            "\n",
            " 테스트 정확도: 0.8453\n"
          ]
        }
      ]
    },
    {
      "cell_type": "markdown",
      "source": [
        "#### 1.2.3 Model 1_3"
      ],
      "metadata": {
        "id": "q0tMWIq0jSVB"
      }
    },
    {
      "cell_type": "markdown",
      "source": [
        "- model1_3은 RMSprop optimizer를 사용합니다."
      ],
      "metadata": {
        "id": "oR4bgVijjH4m"
      }
    },
    {
      "cell_type": "code",
      "source": [
        "model2_1 = model1_3"
      ],
      "metadata": {
        "id": "_GQReNRLel2H"
      },
      "execution_count": null,
      "outputs": []
    },
    {
      "cell_type": "code",
      "source": [
        "model1_3.compile(optimizer='RMSprop',\n",
        "              loss='binary_crossentropy',\n",
        "              metrics=['accuracy'])\n",
        "\n",
        "es = EarlyStopping(monitor='val_loss', verbose=1, patience = 2, mode = 'min')\n",
        "mc = ModelCheckpoint(\"best_model1_3.h5\", monitor='val_accuracy', mode='max', verbose=1, save_best_only=True)\n",
        "              \n",
        "epochs=30\n",
        "batch_size=256\n",
        "\n",
        "history1_3 = model1_3.fit(x_train,\n",
        "                          y_train,\n",
        "                          epochs=epochs,\n",
        "                          batch_size=batch_size,\n",
        "                          validation_data=(x_val, y_val),\n",
        "                          callbacks = [es, mc])"
      ],
      "metadata": {
        "colab": {
          "base_uri": "https://localhost:8080/"
        },
        "id": "_iEGJmZHelUM",
        "outputId": "4a9142d9-70f9-4473-c1fb-c52c0739df20"
      },
      "execution_count": null,
      "outputs": [
        {
          "output_type": "stream",
          "name": "stdout",
          "text": [
            "Epoch 1/30\n",
            "454/455 [============================>.] - ETA: 0s - loss: 0.4210 - accuracy: 0.8071\n",
            "Epoch 1: val_accuracy improved from -inf to 0.83829, saving model to best_model1_3.h5\n",
            "455/455 [==============================] - 31s 63ms/step - loss: 0.4208 - accuracy: 0.8072 - val_loss: 0.3975 - val_accuracy: 0.8383\n",
            "Epoch 2/30\n",
            "454/455 [============================>.] - ETA: 0s - loss: 0.3231 - accuracy: 0.8645\n",
            "Epoch 2: val_accuracy improved from 0.83829 to 0.85682, saving model to best_model1_3.h5\n",
            "455/455 [==============================] - 28s 61ms/step - loss: 0.3231 - accuracy: 0.8645 - val_loss: 0.3311 - val_accuracy: 0.8568\n",
            "Epoch 3/30\n",
            "454/455 [============================>.] - ETA: 0s - loss: 0.2857 - accuracy: 0.8836\n",
            "Epoch 3: val_accuracy improved from 0.85682 to 0.86267, saving model to best_model1_3.h5\n",
            "455/455 [==============================] - 28s 62ms/step - loss: 0.2856 - accuracy: 0.8836 - val_loss: 0.3285 - val_accuracy: 0.8627\n",
            "Epoch 4/30\n",
            "454/455 [============================>.] - ETA: 0s - loss: 0.2581 - accuracy: 0.8964\n",
            "Epoch 4: val_accuracy improved from 0.86267 to 0.86284, saving model to best_model1_3.h5\n",
            "455/455 [==============================] - 28s 62ms/step - loss: 0.2581 - accuracy: 0.8964 - val_loss: 0.3365 - val_accuracy: 0.8628\n",
            "Epoch 5/30\n",
            "454/455 [============================>.] - ETA: 0s - loss: 0.2334 - accuracy: 0.9090\n",
            "Epoch 5: val_accuracy did not improve from 0.86284\n",
            "455/455 [==============================] - 28s 61ms/step - loss: 0.2333 - accuracy: 0.9090 - val_loss: 0.3431 - val_accuracy: 0.8574\n",
            "Epoch 5: early stopping\n"
          ]
        }
      ]
    },
    {
      "cell_type": "code",
      "source": [
        "loaded_model1_3 = load_model('best_model1_3.h5')\n",
        "print(\"\\n 테스트 정확도: %.4f\" % (loaded_model1_3.evaluate(X_test, y_test)[1]))"
      ],
      "metadata": {
        "colab": {
          "base_uri": "https://localhost:8080/"
        },
        "id": "dSJmQ5vzN_y8",
        "outputId": "8cf3ddc2-eb56-43a5-8b5d-ff1b02c3137f"
      },
      "execution_count": null,
      "outputs": [
        {
          "output_type": "stream",
          "name": "stdout",
          "text": [
            "1527/1527 [==============================] - 9s 5ms/step - loss: 0.3472 - accuracy: 0.8609\n",
            "\n",
            " 테스트 정확도: 0.8609\n"
          ]
        }
      ]
    },
    {
      "cell_type": "code",
      "source": [
        "model1_3.save('/gdrive/My Drive/Colab Notebooks/model/best_model1_3.h5')"
      ],
      "metadata": {
        "id": "u7_tfUT3pDv2"
      },
      "execution_count": null,
      "outputs": []
    },
    {
      "cell_type": "markdown",
      "source": [
        "#### 1.2.4 Model_predict"
      ],
      "metadata": {
        "id": "1YHshIzCjYXB"
      }
    },
    {
      "cell_type": "markdown",
      "source": [
        "- 3개의 model 모두 비슷한 경향을 보이므로 가장 잘 나온 model1_3의 acc, loss 값만 시각화하여 살펴봅니다.\n",
        "- val_accuracy는 epoch 4에서 최대로 보이며, val_loss는 epoch 2~3에서 최저를 기록한 것으로 보입니다."
      ],
      "metadata": {
        "id": "VD8b-EUXnKAY"
      }
    },
    {
      "cell_type": "code",
      "source": [
        "plt.plot(history1_3.history['accuracy'])\n",
        "plt.plot(history1_3.history['val_accuracy'])\n",
        "plt.title('model accuracy')\n",
        "plt.ylabel('accuracy')\n",
        "plt.xlabel('epoch')\n",
        "plt.legend(['train', 'val'], loc='upper left')\n",
        "plt.show()\n",
        "\n",
        "plt.plot(history1_3.history['loss'])\n",
        "plt.plot(history1_3.history['val_loss'])\n",
        "plt.title('model loss')\n",
        "plt.ylabel('loss')\n",
        "plt.xlabel('epoch')\n",
        "plt.legend(['train', 'val'], loc='upper left')\n",
        "plt.show()"
      ],
      "metadata": {
        "colab": {
          "base_uri": "https://localhost:8080/",
          "height": 573
        },
        "id": "TSkWF2kSkuQi",
        "outputId": "a4bc0884-c563-4051-d004-26a7524a7298"
      },
      "execution_count": null,
      "outputs": [
        {
          "output_type": "display_data",
          "data": {
            "text/plain": [
              "<Figure size 432x288 with 1 Axes>"
            ],
            "image/png": "[encoded data removed]"
          },
          "metadata": {
            "needs_background": "light"
          }
        },
        {
          "output_type": "display_data",
          "data": {
            "text/plain": [
              "<Figure size 432x288 with 1 Axes>"
            ],
            "image/png": "[encoded data removed]"
          },
          "metadata": {
            "needs_background": "light"
          }
        }
      ]
    },
    {
      "cell_type": "markdown",
      "source": [
        "- 가장 정확도가 높았던 model1_3(RMSprop optimizer)을 활용하여 예측합니다."
      ],
      "metadata": {
        "id": "G9_p6AySj_R4"
      }
    },
    {
      "cell_type": "code",
      "source": [
        "def review_predict(new_sentence):\n",
        "  new_sentence = re.sub(r'[^ㄱ-ㅎㅏ-ㅣ가-힣 ]','', new_sentence)\n",
        "  new_sentence = tokenizer_m.morphs(new_sentence) # 토큰화\n",
        "  new_sentence = [word for word in new_sentence if not word in stopwords] # 불용어 제거\n",
        "  encoded = tokenizer.texts_to_sequences([new_sentence]) # 정수 인코딩\n",
        "  pad_new = pad_sequences(encoded, maxlen = 83) # 패딩\n",
        "  score = float(loaded_model1_3.predict(pad_new)) # 예측\n",
        "  if(score > 0.5):\n",
        "    print(\"{:.2f}% 확률로 긍정 리뷰입니다.\\n\".format(score * 100))\n",
        "  else:\n",
        "    print(\"{:.2f}% 확률로 부정 리뷰입니다.\\n\".format((1 - score) * 100))"
      ],
      "metadata": {
        "id": "uEjKDKr7Tlro"
      },
      "execution_count": null,
      "outputs": []
    },
    {
      "cell_type": "code",
      "source": [
        "review_predict('영화 보는게 힘들다')"
      ],
      "metadata": {
        "colab": {
          "base_uri": "https://localhost:8080/"
        },
        "id": "Bk9zsp4PWGp2",
        "outputId": "04f05249-de84-4f0a-d3ee-81e9059195fa"
      },
      "execution_count": null,
      "outputs": [
        {
          "output_type": "stream",
          "name": "stdout",
          "text": [
            "80.36% 확률로 부정 리뷰입니다.\n",
            "\n"
          ]
        }
      ]
    },
    {
      "cell_type": "code",
      "source": [
        "review_predict('와 돈아깝다')"
      ],
      "metadata": {
        "colab": {
          "base_uri": "https://localhost:8080/"
        },
        "id": "MS_1NDYUX_EK",
        "outputId": "0336e535-c090-42a9-ff0d-eb5d2f4e6d1e"
      },
      "execution_count": null,
      "outputs": [
        {
          "output_type": "stream",
          "name": "stdout",
          "text": [
            "98.89% 확률로 부정 리뷰입니다.\n",
            "\n"
          ]
        }
      ]
    },
    {
      "cell_type": "code",
      "source": [
        "review_predict('감독 튀어와라')"
      ],
      "metadata": {
        "colab": {
          "base_uri": "https://localhost:8080/"
        },
        "id": "QCOGM6-cZsFD",
        "outputId": "0c4eca82-cfaf-437c-cfed-0a28fa5f4ba2"
      },
      "execution_count": null,
      "outputs": [
        {
          "output_type": "stream",
          "name": "stdout",
          "text": [
            "92.21% 확률로 부정 리뷰입니다.\n",
            "\n"
          ]
        }
      ]
    },
    {
      "cell_type": "code",
      "source": [
        "review_predict('여주 겁나 이쁨')"
      ],
      "metadata": {
        "colab": {
          "base_uri": "https://localhost:8080/"
        },
        "id": "J3xgOUn9Z4Bh",
        "outputId": "97ed4ec9-9ed3-41d0-e923-434915e280f9"
      },
      "execution_count": null,
      "outputs": [
        {
          "output_type": "stream",
          "name": "stdout",
          "text": [
            "85.94% 확률로 긍정 리뷰입니다.\n",
            "\n"
          ]
        }
      ]
    },
    {
      "cell_type": "code",
      "source": [
        "review_predict('이 영화 미쳤다')"
      ],
      "metadata": {
        "colab": {
          "base_uri": "https://localhost:8080/"
        },
        "id": "nZHgt7UQTvRP",
        "outputId": "123615de-a77f-43eb-efe1-540572a98b45"
      },
      "execution_count": null,
      "outputs": [
        {
          "output_type": "stream",
          "name": "stdout",
          "text": [
            "74.74% 확률로 부정 리뷰입니다.\n",
            "\n"
          ]
        }
      ]
    },
    {
      "cell_type": "code",
      "source": [
        "review_predict('이 영화 미쳤다 꼭 봐라')"
      ],
      "metadata": {
        "colab": {
          "base_uri": "https://localhost:8080/"
        },
        "id": "RNWHX6uyo2BR",
        "outputId": "788612dd-b7a6-4671-d4b7-66c1e6c9a57d"
      },
      "execution_count": null,
      "outputs": [
        {
          "output_type": "stream",
          "name": "stdout",
          "text": [
            "89.31% 확률로 긍정 리뷰입니다.\n",
            "\n"
          ]
        }
      ]
    },
    {
      "cell_type": "markdown",
      "source": [
        "- 생각보다 잘 맞추는 것 같습니다.  \n",
        "'미쳤다'는 의미가 어조에 따라 다를 수 있어서 예측을 잘 못하는 것 같습니다."
      ],
      "metadata": {
        "id": "GN7eu5Y-oiWr"
      }
    },
    {
      "cell_type": "code",
      "source": [
        "model1_3.save('/gdrive/My Drive/Colab Notebooks/model/best_model1_3.h5')"
      ],
      "metadata": {
        "id": "YFKrEoX0r6V8"
      },
      "execution_count": null,
      "outputs": []
    },
    {
      "cell_type": "markdown",
      "source": [
        "### 1.3 Re_Start"
      ],
      "metadata": {
        "id": "a5RzzfnpzjUJ"
      }
    },
    {
      "cell_type": "markdown",
      "source": [
        "#### 1.3.1 Data Preprocessing"
      ],
      "metadata": {
        "id": "TsaquV9UBgQ5"
      }
    },
    {
      "cell_type": "markdown",
      "source": [
        "- 위에서 만든 movie review model의 단어장에는 pad만 들어가 있습니다.  \n",
        "물론 잘 돌아가는걸 확인했지만 이번에는 사전에 'BOS', 'UNK', 'UNUSED' 토큰을 만들어 다시 구성해봅니다.  \n",
        "- 데이터를 다시 불러와서 기본적인 전처리를 수행합니다."
      ],
      "metadata": {
        "id": "SV2QKHiMzs1x"
      }
    },
    {
      "cell_type": "code",
      "source": [
        "train_data = pd.read_table('/gdrive/My Drive/Colab Notebooks/data/movie/ratings_train.txt')\n",
        "test_data = pd.read_table('/gdrive/My Drive/Colab Notebooks/data/movie/ratings_test.txt')"
      ],
      "metadata": {
        "id": "56Pg1oTv1ouS"
      },
      "execution_count": 51,
      "outputs": []
    },
    {
      "cell_type": "code",
      "source": [
        "train_data.drop_duplicates(subset=['document'], keep='first', inplace=True)\n",
        "test_data.drop_duplicates(subset=['document'], keep='first', inplace=True)"
      ],
      "metadata": {
        "id": "f9rOMFy-2Zb7"
      },
      "execution_count": 52,
      "outputs": []
    },
    {
      "cell_type": "code",
      "source": [
        "train_data = train_data.dropna(how = 'any')\n",
        "test_data = test_data.dropna(how = 'any')"
      ],
      "metadata": {
        "id": "1RQBIZVz2aXP"
      },
      "execution_count": 53,
      "outputs": []
    },
    {
      "cell_type": "code",
      "source": [
        "train_data['document'] = train_data['document'].str.replace(\"[^ㄱ-ㅎㅏ-ㅣ가-힣 ]\",\"\")\n",
        "train_data['document'] = train_data['document'].str.replace('^ +', \"\")\n",
        "train_data['document'].replace('', np.nan, inplace=True)\n",
        "\n",
        "test_data['document'] = test_data['document'].str.replace(\"[^ㄱ-ㅎㅏ-ㅣ가-힣 ]\",\"\")\n",
        "test_data['document'] = test_data['document'].str.replace('^ +', \"\")\n",
        "test_data['document'].replace('', np.nan, inplace=True)"
      ],
      "metadata": {
        "colab": {
          "base_uri": "https://localhost:8080/"
        },
        "id": "gngkFnAg11Wk",
        "outputId": "8d5d4e10-eb86-49f1-82b4-16722a27e4ac"
      },
      "execution_count": 54,
      "outputs": [
        {
          "output_type": "stream",
          "name": "stderr",
          "text": [
            "/usr/local/lib/python3.7/dist-packages/ipykernel_launcher.py:1: FutureWarning: The default value of regex will change from True to False in a future version.\n",
            "  \"\"\"Entry point for launching an IPython kernel.\n",
            "/usr/local/lib/python3.7/dist-packages/ipykernel_launcher.py:2: FutureWarning: The default value of regex will change from True to False in a future version.\n",
            "  \n",
            "/usr/local/lib/python3.7/dist-packages/ipykernel_launcher.py:5: FutureWarning: The default value of regex will change from True to False in a future version.\n",
            "  \"\"\"\n",
            "/usr/local/lib/python3.7/dist-packages/ipykernel_launcher.py:6: FutureWarning: The default value of regex will change from True to False in a future version.\n",
            "  \n"
          ]
        }
      ]
    },
    {
      "cell_type": "code",
      "source": [
        "train_data = train_data.dropna(how = 'any')\n",
        "test_data = test_data.dropna(how = 'any')"
      ],
      "metadata": {
        "id": "g9O_Y9uc1ouS"
      },
      "execution_count": 55,
      "outputs": []
    },
    {
      "cell_type": "code",
      "source": [
        "print(len(train_data),len(test_data))"
      ],
      "metadata": {
        "colab": {
          "base_uri": "https://localhost:8080/"
        },
        "outputId": "be5ceaa8-740f-4c91-f482-ca92882bed07",
        "id": "t58j41lh1ouT"
      },
      "execution_count": 56,
      "outputs": [
        {
          "output_type": "stream",
          "name": "stdout",
          "text": [
            "145393 48852\n"
          ]
        }
      ]
    },
    {
      "cell_type": "markdown",
      "source": [
        "- 전처리 후 train, test 갯수가 위에서 수행한 것과 동일합니다.  \n",
        "다음으로 넘어갑니다."
      ],
      "metadata": {
        "id": "5j1D_-yr2qz9"
      }
    },
    {
      "cell_type": "markdown",
      "source": [
        "- tokenizer는 Mecab을 사용합니다."
      ],
      "metadata": {
        "id": "T_XqjMdO3LLo"
      }
    },
    {
      "cell_type": "markdown",
      "source": [
        "#### 1.3.2 Tokenize"
      ],
      "metadata": {
        "id": "XJd7Ukn5BnGa"
      }
    },
    {
      "cell_type": "code",
      "source": [
        "tokenizer = Mecab()\n",
        "stopwords = ['의','가','이','은','들','는','좀','잘','걍','과','도','를','으로','자','에','와','한','하다']"
      ],
      "metadata": {
        "id": "yLg9q-BM0WX2"
      },
      "execution_count": 57,
      "outputs": []
    },
    {
      "cell_type": "markdown",
      "source": [
        "- 위에서 단어장을 만들 때 vocab size는 49946 + 1(pad), 총 49,947개 였습니다. 이번에는 40,000로 지정해 만들어봅니다. "
      ],
      "metadata": {
        "id": "Rw_fj3U71cdo"
      }
    },
    {
      "cell_type": "markdown",
      "source": [
        "- 위에서 만든 load_data 함수를 이용합니다.  \n",
        "간단한 전처리를 마친 train, test 데이터를 토큰화하고, word index를 만듭니다."
      ],
      "metadata": {
        "id": "qGNZGP7V3qy7"
      }
    },
    {
      "cell_type": "code",
      "source": [
        "X_train, y_train, X_test, y_test, word_to_index = load_data(train_data, test_data, 40000)"
      ],
      "metadata": {
        "id": "fUDqHNGk3qIT"
      },
      "execution_count": 58,
      "outputs": []
    },
    {
      "cell_type": "code",
      "source": [
        "print(len(X_train), len(X_test))\n",
        "print(len(y_train), len(y_test))"
      ],
      "metadata": {
        "colab": {
          "base_uri": "https://localhost:8080/"
        },
        "id": "V5y3qYkV55OF",
        "outputId": "fe499495-621e-4d08-883e-184db6c7c4ba"
      },
      "execution_count": 59,
      "outputs": [
        {
          "output_type": "stream",
          "name": "stdout",
          "text": [
            "145393 48852\n",
            "145393 48852\n"
          ]
        }
      ]
    },
    {
      "cell_type": "markdown",
      "source": [
        "- index_to_word를 만들어줍니다."
      ],
      "metadata": {
        "id": "va6tYlLC59uH"
      }
    },
    {
      "cell_type": "code",
      "source": [
        "index_to_word = {index:word for word, index in word_to_index.items()}"
      ],
      "metadata": {
        "id": "WK2v5UdG59Rb"
      },
      "execution_count": 60,
      "outputs": []
    },
    {
      "cell_type": "markdown",
      "source": [
        "- 이번에도 maxlen은 가장 긴 문장의 길이 값을 줍니다."
      ],
      "metadata": {
        "id": "ktDkVkhK1cbL"
      }
    },
    {
      "cell_type": "code",
      "source": [
        "print('리뷰의 최대 길이 :',max(len(review) for review in X_train))\n",
        "print('리뷰의 평균 길이 :',sum(map(len, X_train))/len(X_train))\n",
        "plt.hist([len(review) for review in X_train], bins=50)\n",
        "plt.xlabel('length of samples')\n",
        "plt.ylabel('number of samples')\n",
        "plt.show()"
      ],
      "metadata": {
        "colab": {
          "base_uri": "https://localhost:8080/",
          "height": 315
        },
        "outputId": "a65b6ab2-fbf3-4eed-f2ef-7ede579bb48f",
        "id": "qMacv01J6ZVc"
      },
      "execution_count": 64,
      "outputs": [
        {
          "output_type": "stream",
          "name": "stdout",
          "text": [
            "리뷰의 최대 길이 : 83\n",
            "리뷰의 평균 길이 : 13.801348190947861\n"
          ]
        },
        {
          "output_type": "display_data",
          "data": {
            "text/plain": [
              "<Figure size 432x288 with 1 Axes>"
            ],
            "image/png": "[encoded data removed]"
          },
          "metadata": {
            "needs_background": "light"
          }
        }
      ]
    },
    {
      "cell_type": "markdown",
      "source": [
        "- keras의 pad_sequences를 이용해 padding을 진행합니다."
      ],
      "metadata": {
        "id": "c8AeVpPi620e"
      }
    },
    {
      "cell_type": "code",
      "source": [
        "max_len = 83"
      ],
      "metadata": {
        "id": "ueXeylMv7zOP"
      },
      "execution_count": 66,
      "outputs": []
    },
    {
      "cell_type": "code",
      "source": [
        "X_train = keras.preprocessing.sequence.pad_sequences(X_train,\n",
        "                                                        value=word_to_index[\"<PAD>\"],\n",
        "                                                        padding='pre', \n",
        "                                                        maxlen=max_len)\n",
        "\n",
        "X_test = keras.preprocessing.sequence.pad_sequences(X_test,\n",
        "                                                       value=word_to_index[\"<PAD>\"],\n",
        "                                                       padding='pre', \n",
        "                                                       maxlen=max_len)"
      ],
      "metadata": {
        "id": "7cxBY8B462k1"
      },
      "execution_count": 67,
      "outputs": []
    },
    {
      "cell_type": "markdown",
      "source": [
        "- validation data를 나눠줍니다."
      ],
      "metadata": {
        "id": "MgeJMA-O7_Ir"
      }
    },
    {
      "cell_type": "code",
      "source": [
        "x_train, x_val, y_train, y_val = model_selection.train_test_split(X_train, y_train, test_size = 0.2, shuffle=False)\n",
        "\n",
        "print(x_train.shape, y_train.shape)\n",
        "print(x_val.shape, y_val.shape)"
      ],
      "metadata": {
        "colab": {
          "base_uri": "https://localhost:8080/"
        },
        "id": "kbOIXlZv8Dgr",
        "outputId": "d5a2dbd8-851e-4250-af56-1817369f6de6"
      },
      "execution_count": 68,
      "outputs": [
        {
          "output_type": "stream",
          "name": "stdout",
          "text": [
            "(116304, 83) (116304,)\n",
            "(29076, 83) (29076,)\n"
          ]
        }
      ]
    },
    {
      "cell_type": "markdown",
      "source": [
        "#### 1.3.3 Model2_1"
      ],
      "metadata": {
        "id": "JyMlFpPOCAMb"
      }
    },
    {
      "cell_type": "markdown",
      "source": [
        "- 위에서 사용한 LSTM모델을 다시 가져옵니다.\n",
        "- Nadam Optimizer를 사용합니다."
      ],
      "metadata": {
        "id": "AnTu3sw-1cYq"
      }
    },
    {
      "cell_type": "code",
      "source": [
        "vocab_size = 40000\n",
        "word_vector_dim = 128\n",
        "\n",
        "# model\n",
        "model2_1 = keras.Sequential()\n",
        "model2_1.add(keras.layers.Embedding(vocab_size, word_vector_dim, input_shape=(None,)))\n",
        "model2_1.add(keras.layers.LSTM(512))\n",
        "model2_1.add(keras.layers.Dropout(0.3))\n",
        "model2_1.add(keras.layers.Dense(32, activation='relu'))\n",
        "model2_1.add(keras.layers.Dropout(0.3))\n",
        "model2_1.add(keras.layers.Dense(16, activation='relu'))\n",
        "model2_1.add(keras.layers.Dense(1, activation='sigmoid')) \n",
        "\n",
        "model2_1.summary()"
      ],
      "metadata": {
        "colab": {
          "base_uri": "https://localhost:8080/"
        },
        "id": "mtKVUY-28ZWD",
        "outputId": "77e5bc34-e7ea-4b29-9c97-e9376e966ca2"
      },
      "execution_count": 80,
      "outputs": [
        {
          "output_type": "stream",
          "name": "stdout",
          "text": [
            "Model: \"sequential_2\"\n",
            "_________________________________________________________________\n",
            " Layer (type)                Output Shape              Param #   \n",
            "=================================================================\n",
            " embedding_2 (Embedding)     (None, None, 128)         5120000   \n",
            "                                                                 \n",
            " lstm_2 (LSTM)               (None, 512)               1312768   \n",
            "                                                                 \n",
            " dropout_4 (Dropout)         (None, 512)               0         \n",
            "                                                                 \n",
            " dense_6 (Dense)             (None, 32)                16416     \n",
            "                                                                 \n",
            " dropout_5 (Dropout)         (None, 32)                0         \n",
            "                                                                 \n",
            " dense_7 (Dense)             (None, 16)                528       \n",
            "                                                                 \n",
            " dense_8 (Dense)             (None, 1)                 17        \n",
            "                                                                 \n",
            "=================================================================\n",
            "Total params: 6,449,729\n",
            "Trainable params: 6,449,729\n",
            "Non-trainable params: 0\n",
            "_________________________________________________________________\n"
          ]
        }
      ]
    },
    {
      "cell_type": "code",
      "source": [
        "model2_2 = model2_1\n",
        "model2_3 = model2_1"
      ],
      "metadata": {
        "id": "TtAZbVsG9qbC"
      },
      "execution_count": 81,
      "outputs": []
    },
    {
      "cell_type": "code",
      "source": [
        "model2_1.compile(optimizer='Nadam',\n",
        "              loss='binary_crossentropy',\n",
        "              metrics=['accuracy'])\n",
        "\n",
        "es = EarlyStopping(monitor='val_loss', verbose=1, patience = 2, mode = 'min')\n",
        "mc = ModelCheckpoint(\"best_model2_1.h5\", monitor='val_accuracy', mode='max', verbose=1, save_best_only=True)\n",
        "              \n",
        "epochs=30\n",
        "batch_size=256\n",
        "\n",
        "history2_1 = model2_1.fit(x_train,\n",
        "                          y_train,\n",
        "                          epochs=epochs,\n",
        "                          batch_size=batch_size,\n",
        "                          validation_data=(x_val, y_val),\n",
        "                          callbacks = [es, mc])"
      ],
      "metadata": {
        "colab": {
          "base_uri": "https://localhost:8080/"
        },
        "id": "VmzsJjiu8_lf",
        "outputId": "f1204e99-c0a3-42b2-c9bb-31d1f7511471"
      },
      "execution_count": 72,
      "outputs": [
        {
          "output_type": "stream",
          "name": "stdout",
          "text": [
            "Epoch 1/30\n",
            "455/455 [==============================] - ETA: 0s - loss: 0.4368 - accuracy: 0.8000\n",
            "Epoch 1: val_accuracy improved from -inf to 0.83622, saving model to best_model2_1.h5\n",
            "455/455 [==============================] - 27s 44ms/step - loss: 0.4368 - accuracy: 0.8000 - val_loss: 0.3617 - val_accuracy: 0.8362\n",
            "Epoch 2/30\n",
            "455/455 [==============================] - ETA: 0s - loss: 0.3123 - accuracy: 0.8696\n",
            "Epoch 2: val_accuracy improved from 0.83622 to 0.84895, saving model to best_model2_1.h5\n",
            "455/455 [==============================] - 20s 43ms/step - loss: 0.3123 - accuracy: 0.8696 - val_loss: 0.3460 - val_accuracy: 0.8489\n",
            "Epoch 3/30\n",
            "455/455 [==============================] - ETA: 0s - loss: 0.2607 - accuracy: 0.8948\n",
            "Epoch 3: val_accuracy improved from 0.84895 to 0.84919, saving model to best_model2_1.h5\n",
            "455/455 [==============================] - 20s 43ms/step - loss: 0.2607 - accuracy: 0.8948 - val_loss: 0.3465 - val_accuracy: 0.8492\n",
            "Epoch 4/30\n",
            "455/455 [==============================] - ETA: 0s - loss: 0.2171 - accuracy: 0.9139\n",
            "Epoch 4: val_accuracy improved from 0.84919 to 0.85005, saving model to best_model2_1.h5\n",
            "455/455 [==============================] - 20s 44ms/step - loss: 0.2171 - accuracy: 0.9139 - val_loss: 0.3675 - val_accuracy: 0.8500\n",
            "Epoch 4: early stopping\n"
          ]
        }
      ]
    },
    {
      "cell_type": "code",
      "source": [
        "loaded_model2_1 = load_model('best_model2_1.h5')\n",
        "print(\"\\n 테스트 정확도: %.4f\" % (loaded_model2_1.evaluate(X_test, y_test)[1]))"
      ],
      "metadata": {
        "colab": {
          "base_uri": "https://localhost:8080/"
        },
        "id": "OUXyuMYZ-C5d",
        "outputId": "47cb28d5-a860-4f02-9709-10d4644a2af3"
      },
      "execution_count": 74,
      "outputs": [
        {
          "output_type": "stream",
          "name": "stdout",
          "text": [
            "1527/1527 [==============================] - 9s 6ms/step - loss: 0.3758 - accuracy: 0.8469\n",
            "\n",
            " 테스트 정확도: 0.8469\n"
          ]
        }
      ]
    },
    {
      "cell_type": "markdown",
      "source": [
        "#### 1.3.4 Model2_2"
      ],
      "metadata": {
        "id": "woaK4_vNCPzm"
      }
    },
    {
      "cell_type": "markdown",
      "source": [
        "- 같은 LSTM 모델로 Adam Optimizer를 사용합니다."
      ],
      "metadata": {
        "id": "fIKt6jFpCR36"
      }
    },
    {
      "cell_type": "code",
      "source": [
        "model2_2.compile(optimizer='Adam',\n",
        "              loss='binary_crossentropy',\n",
        "              metrics=['accuracy'])\n",
        "\n",
        "es = EarlyStopping(monitor='val_loss', verbose=1, patience = 2, mode = 'min')\n",
        "mc = ModelCheckpoint(\"best_model2_2.h5\", monitor='val_accuracy', mode='max', verbose=1, save_best_only=True)\n",
        "              \n",
        "epochs=30\n",
        "batch_size=256\n",
        "\n",
        "history2_2 = model2_2.fit(x_train,\n",
        "                          y_train,\n",
        "                          epochs=epochs,\n",
        "                          batch_size=batch_size,\n",
        "                          validation_data=(x_val, y_val),\n",
        "                          callbacks = [es, mc])"
      ],
      "metadata": {
        "colab": {
          "base_uri": "https://localhost:8080/"
        },
        "id": "Q4vgfozo-ZLw",
        "outputId": "6a030c46-44fd-4812-a208-ea4815d6a075"
      },
      "execution_count": 78,
      "outputs": [
        {
          "output_type": "stream",
          "name": "stdout",
          "text": [
            "Epoch 1/30\n",
            "454/455 [============================>.] - ETA: 0s - loss: 0.4116 - accuracy: 0.8118\n",
            "Epoch 1: val_accuracy improved from -inf to 0.84300, saving model to best_model2_2.h5\n",
            "455/455 [==============================] - 22s 44ms/step - loss: 0.4116 - accuracy: 0.8118 - val_loss: 0.3519 - val_accuracy: 0.8430\n",
            "Epoch 2/30\n",
            "455/455 [==============================] - ETA: 0s - loss: 0.2957 - accuracy: 0.8775\n",
            "Epoch 2: val_accuracy improved from 0.84300 to 0.85008, saving model to best_model2_2.h5\n",
            "455/455 [==============================] - 19s 43ms/step - loss: 0.2957 - accuracy: 0.8775 - val_loss: 0.3364 - val_accuracy: 0.8501\n",
            "Epoch 3/30\n",
            "455/455 [==============================] - ETA: 0s - loss: 0.2348 - accuracy: 0.9050\n",
            "Epoch 3: val_accuracy improved from 0.85008 to 0.85101, saving model to best_model2_2.h5\n",
            "455/455 [==============================] - 20s 43ms/step - loss: 0.2348 - accuracy: 0.9050 - val_loss: 0.3600 - val_accuracy: 0.8510\n",
            "Epoch 4/30\n",
            "454/455 [============================>.] - ETA: 0s - loss: 0.1878 - accuracy: 0.9262\n",
            "Epoch 4: val_accuracy did not improve from 0.85101\n",
            "455/455 [==============================] - 19s 43ms/step - loss: 0.1879 - accuracy: 0.9262 - val_loss: 0.4029 - val_accuracy: 0.8489\n",
            "Epoch 4: early stopping\n"
          ]
        }
      ]
    },
    {
      "cell_type": "code",
      "source": [
        "loaded_model2_2 = load_model('best_model2_2.h5')\n",
        "print(\"\\n 테스트 정확도: %.4f\" % (loaded_model2_2.evaluate(X_test, y_test)[1]))"
      ],
      "metadata": {
        "colab": {
          "base_uri": "https://localhost:8080/"
        },
        "id": "gWZFTDRQ-hk2",
        "outputId": "1b3c2d65-fcae-4a56-f59a-ad310db9a3b3"
      },
      "execution_count": 79,
      "outputs": [
        {
          "output_type": "stream",
          "name": "stdout",
          "text": [
            "1527/1527 [==============================] - 9s 6ms/step - loss: 0.3663 - accuracy: 0.8481\n",
            "\n",
            " 테스트 정확도: 0.8481\n"
          ]
        }
      ]
    },
    {
      "cell_type": "markdown",
      "source": [
        "#### 1.3.5 Model2_3"
      ],
      "metadata": {
        "id": "Q_FAH6AdCX9r"
      }
    },
    {
      "cell_type": "markdown",
      "source": [
        "- RMSprop Optimizer를 사용합니다."
      ],
      "metadata": {
        "id": "K05Hhh8qCaTs"
      }
    },
    {
      "cell_type": "code",
      "source": [
        "model2_3.compile(optimizer='RMSprop',\n",
        "              loss='binary_crossentropy',\n",
        "              metrics=['accuracy'])\n",
        "\n",
        "es = EarlyStopping(monitor='val_loss', verbose=1, patience = 2, mode = 'min')\n",
        "mc = ModelCheckpoint(\"best_model2_3.h5\", monitor='val_accuracy', mode='max', verbose=1, save_best_only=True)\n",
        "              \n",
        "epochs=30\n",
        "batch_size=256\n",
        "\n",
        "history2_3 = model2_3.fit(x_train,\n",
        "                          y_train,\n",
        "                          epochs=epochs,\n",
        "                          batch_size=batch_size,\n",
        "                          validation_data=(x_val, y_val),\n",
        "                          callbacks = [es, mc])"
      ],
      "metadata": {
        "colab": {
          "base_uri": "https://localhost:8080/"
        },
        "id": "GAFBo2FI-ZCh",
        "outputId": "d5e8e9eb-715a-4aae-f1e3-69f211dccd7d"
      },
      "execution_count": 82,
      "outputs": [
        {
          "output_type": "stream",
          "name": "stdout",
          "text": [
            "Epoch 1/30\n",
            "455/455 [==============================] - ETA: 0s - loss: 0.4383 - accuracy: 0.8027\n",
            "Epoch 1: val_accuracy improved from -inf to 0.84142, saving model to best_model2_3.h5\n",
            "455/455 [==============================] - 21s 43ms/step - loss: 0.4383 - accuracy: 0.8027 - val_loss: 0.3717 - val_accuracy: 0.8414\n",
            "Epoch 2/30\n",
            "455/455 [==============================] - ETA: 0s - loss: 0.3278 - accuracy: 0.8616\n",
            "Epoch 2: val_accuracy improved from 0.84142 to 0.85486, saving model to best_model2_3.h5\n",
            "455/455 [==============================] - 19s 42ms/step - loss: 0.3278 - accuracy: 0.8616 - val_loss: 0.3365 - val_accuracy: 0.8549\n",
            "Epoch 3/30\n",
            "455/455 [==============================] - ETA: 0s - loss: 0.2900 - accuracy: 0.8795\n",
            "Epoch 3: val_accuracy improved from 0.85486 to 0.86068, saving model to best_model2_3.h5\n",
            "455/455 [==============================] - 19s 42ms/step - loss: 0.2900 - accuracy: 0.8795 - val_loss: 0.3326 - val_accuracy: 0.8607\n",
            "Epoch 4/30\n",
            "455/455 [==============================] - ETA: 0s - loss: 0.2627 - accuracy: 0.8936\n",
            "Epoch 4: val_accuracy did not improve from 0.86068\n",
            "455/455 [==============================] - 19s 42ms/step - loss: 0.2627 - accuracy: 0.8936 - val_loss: 0.3376 - val_accuracy: 0.8538\n",
            "Epoch 5/30\n",
            "455/455 [==============================] - ETA: 0s - loss: 0.2424 - accuracy: 0.9046\n",
            "Epoch 5: val_accuracy improved from 0.86068 to 0.86160, saving model to best_model2_3.h5\n",
            "455/455 [==============================] - 19s 43ms/step - loss: 0.2424 - accuracy: 0.9046 - val_loss: 0.3386 - val_accuracy: 0.8616\n",
            "Epoch 5: early stopping\n"
          ]
        }
      ]
    },
    {
      "cell_type": "code",
      "source": [
        "loaded_model2_3 = load_model('best_model2_3.h5')\n",
        "print(\"\\n 테스트 정확도: %.4f\" % (loaded_model2_3.evaluate(X_test, y_test)[1]))"
      ],
      "metadata": {
        "colab": {
          "base_uri": "https://localhost:8080/"
        },
        "id": "DucNKNdh-hzo",
        "outputId": "fdb56275-0d0b-4efe-a02a-f3a9f3f6f6d3"
      },
      "execution_count": 83,
      "outputs": [
        {
          "output_type": "stream",
          "name": "stdout",
          "text": [
            "1527/1527 [==============================] - 9s 6ms/step - loss: 0.3466 - accuracy: 0.8568\n",
            "\n",
            " 테스트 정확도: 0.8568\n"
          ]
        }
      ]
    },
    {
      "cell_type": "code",
      "source": [
        "model2_3.save('/gdrive/My Drive/Colab Notebooks/model/best_model2_3.h5')"
      ],
      "metadata": {
        "id": "bEyh_D8YA6VQ"
      },
      "execution_count": 85,
      "outputs": []
    },
    {
      "cell_type": "code",
      "source": [
        "plt.plot(history2_3.history['accuracy'])\n",
        "plt.plot(history2_3.history['val_accuracy'])\n",
        "plt.title('model accuracy')\n",
        "plt.ylabel('accuracy')\n",
        "plt.xlabel('epoch')\n",
        "plt.legend(['train', 'val'], loc='upper left')\n",
        "plt.show()\n",
        "\n",
        "plt.plot(history2_3.history['loss'])\n",
        "plt.plot(history2_3.history['val_loss'])\n",
        "plt.title('model loss')\n",
        "plt.ylabel('loss')\n",
        "plt.xlabel('epoch')\n",
        "plt.legend(['train', 'val'], loc='upper left')\n",
        "plt.show()"
      ],
      "metadata": {
        "colab": {
          "base_uri": "https://localhost:8080/",
          "height": 573
        },
        "id": "vgZu_rh7CjrV",
        "outputId": "1893a226-cfe6-47d0-c517-f91ccea7cbf7"
      },
      "execution_count": 88,
      "outputs": [
        {
          "output_type": "display_data",
          "data": {
            "text/plain": [
              "<Figure size 432x288 with 1 Axes>"
            ],
            "image/png": "[encoded data removed]"
          },
          "metadata": {
            "needs_background": "light"
          }
        },
        {
          "output_type": "display_data",
          "data": {
            "text/plain": [
              "<Figure size 432x288 with 1 Axes>"
            ],
            "image/png": "[encoded data removed]"
          },
          "metadata": {
            "needs_background": "light"
          }
        }
      ]
    },
    {
      "cell_type": "markdown",
      "source": [
        "- epoch 5에서 val_accuracy가 최대이고, epoch 3에서 val_loss가 최소인 것을 확인할 수 있습니다."
      ],
      "metadata": {
        "id": "-Jsi3Vrf_-tB"
      }
    },
    {
      "cell_type": "markdown",
      "source": [
        "#### 1.3.6 Model3_1"
      ],
      "metadata": {
        "id": "5qaAvPb8Cp51"
      }
    },
    {
      "cell_type": "markdown",
      "source": [
        "- model3_1은 CNN을 이용해봅니다.  "
      ],
      "metadata": {
        "id": "TyThDOteDHH9"
      }
    },
    {
      "cell_type": "code",
      "source": [
        "model3_1 = keras.Sequential()\n",
        "model3_1.add(keras.layers.Embedding(vocab_size, word_vector_dim, input_shape=(None,)))\n",
        "model3_1.add(keras.layers.Conv1D(16, 7, activation='relu'))\n",
        "model3_1.add(keras.layers.MaxPooling1D(5))\n",
        "model3_1.add(keras.layers.Conv1D(16, 7, activation='relu'))\n",
        "model3_1.add(keras.layers.GlobalMaxPooling1D())\n",
        "model3_1.add(keras.layers.Dense(32, activation='relu'))\n",
        "model3_1.add(keras.layers.Dropout(0.3))\n",
        "model3_1.add(keras.layers.Dense(16, activation='relu'))\n",
        "model3_1.add(keras.layers.Dense(1, activation='sigmoid'))  # 최종 출력은 긍정/부정을 나타내는 1dim 입니다.\n",
        "\n",
        "model3_1.summary()"
      ],
      "metadata": {
        "colab": {
          "base_uri": "https://localhost:8080/"
        },
        "id": "nRLDyD02AAd1",
        "outputId": "25f4edcd-a23a-4aad-db30-a14088d9189b"
      },
      "execution_count": 84,
      "outputs": [
        {
          "output_type": "stream",
          "name": "stdout",
          "text": [
            "Model: \"sequential_3\"\n",
            "_________________________________________________________________\n",
            " Layer (type)                Output Shape              Param #   \n",
            "=================================================================\n",
            " embedding_3 (Embedding)     (None, None, 128)         5120000   \n",
            "                                                                 \n",
            " conv1d (Conv1D)             (None, None, 16)          14352     \n",
            "                                                                 \n",
            " max_pooling1d (MaxPooling1D  (None, None, 16)         0         \n",
            " )                                                               \n",
            "                                                                 \n",
            " conv1d_1 (Conv1D)           (None, None, 16)          1808      \n",
            "                                                                 \n",
            " global_max_pooling1d (Globa  (None, 16)               0         \n",
            " lMaxPooling1D)                                                  \n",
            "                                                                 \n",
            " dense_9 (Dense)             (None, 32)                544       \n",
            "                                                                 \n",
            " dropout_6 (Dropout)         (None, 32)                0         \n",
            "                                                                 \n",
            " dense_10 (Dense)            (None, 16)                528       \n",
            "                                                                 \n",
            " dense_11 (Dense)            (None, 1)                 17        \n",
            "                                                                 \n",
            "=================================================================\n",
            "Total params: 5,137,249\n",
            "Trainable params: 5,137,249\n",
            "Non-trainable params: 0\n",
            "_________________________________________________________________\n"
          ]
        }
      ]
    },
    {
      "cell_type": "code",
      "source": [
        "model3_1.compile(optimizer='RMSprop',\n",
        "              loss='binary_crossentropy',\n",
        "              metrics=['accuracy'])\n",
        "\n",
        "es = EarlyStopping(monitor='val_loss', verbose=1, patience = 2, mode = 'min')\n",
        "mc = ModelCheckpoint(\"best_model3_1.h5\", monitor='val_accuracy', mode='max', verbose=1, save_best_only=True)\n",
        "              \n",
        "epochs=30\n",
        "batch_size=256\n",
        "\n",
        "history3_1 = model3_1.fit(x_train,\n",
        "                          y_train,\n",
        "                          epochs=epochs,\n",
        "                          batch_size=batch_size,\n",
        "                          validation_data=(x_val, y_val),\n",
        "                          callbacks = [es, mc])"
      ],
      "metadata": {
        "colab": {
          "base_uri": "https://localhost:8080/"
        },
        "id": "_MzAp51RA_CZ",
        "outputId": "1c3914d3-67fe-47ec-b608-f670751f9180"
      },
      "execution_count": 86,
      "outputs": [
        {
          "output_type": "stream",
          "name": "stdout",
          "text": [
            "Epoch 1/30\n",
            "455/455 [==============================] - ETA: 0s - loss: 0.4980 - accuracy: 0.7437\n",
            "Epoch 1: val_accuracy improved from -inf to 0.79767, saving model to best_model3_1.h5\n",
            "455/455 [==============================] - 11s 7ms/step - loss: 0.4980 - accuracy: 0.7437 - val_loss: 0.4243 - val_accuracy: 0.7977\n",
            "Epoch 2/30\n",
            "449/455 [============================>.] - ETA: 0s - loss: 0.3820 - accuracy: 0.8250\n",
            "Epoch 2: val_accuracy improved from 0.79767 to 0.81039, saving model to best_model3_1.h5\n",
            "455/455 [==============================] - 3s 6ms/step - loss: 0.3818 - accuracy: 0.8250 - val_loss: 0.4067 - val_accuracy: 0.8104\n",
            "Epoch 3/30\n",
            "454/455 [============================>.] - ETA: 0s - loss: 0.3189 - accuracy: 0.8588\n",
            "Epoch 3: val_accuracy did not improve from 0.81039\n",
            "455/455 [==============================] - 3s 6ms/step - loss: 0.3189 - accuracy: 0.8588 - val_loss: 0.4199 - val_accuracy: 0.8076\n",
            "Epoch 4/30\n",
            "454/455 [============================>.] - ETA: 0s - loss: 0.2558 - accuracy: 0.8907\n",
            "Epoch 4: val_accuracy did not improve from 0.81039\n",
            "455/455 [==============================] - 3s 6ms/step - loss: 0.2557 - accuracy: 0.8908 - val_loss: 0.4647 - val_accuracy: 0.8009\n",
            "Epoch 4: early stopping\n"
          ]
        }
      ]
    },
    {
      "cell_type": "code",
      "source": [
        "loaded_model3_1 = load_model('best_model3_1.h5')\n",
        "print(\"\\n 테스트 정확도: %.4f\" % (loaded_model3_1.evaluate(X_test, y_test)[1]))"
      ],
      "metadata": {
        "colab": {
          "base_uri": "https://localhost:8080/"
        },
        "id": "Czm3dFmCBMAz",
        "outputId": "c1c6f46f-8fe4-4b0c-d2d3-58ec6ccbcb97"
      },
      "execution_count": 87,
      "outputs": [
        {
          "output_type": "stream",
          "name": "stdout",
          "text": [
            "1527/1527 [==============================] - 4s 2ms/step - loss: 0.4121 - accuracy: 0.8048\n",
            "\n",
            " 테스트 정확도: 0.8048\n"
          ]
        }
      ]
    },
    {
      "cell_type": "code",
      "source": [
        "plt.plot(history3_1.history['accuracy'])\n",
        "plt.plot(history3_1.history['val_accuracy'])\n",
        "plt.title('model accuracy')\n",
        "plt.ylabel('accuracy')\n",
        "plt.xlabel('epoch')\n",
        "plt.legend(['train', 'val'], loc='upper left')\n",
        "plt.show()\n",
        "\n",
        "plt.plot(history3_1.history['loss'])\n",
        "plt.plot(history3_1.history['val_loss'])\n",
        "plt.title('model loss')\n",
        "plt.ylabel('loss')\n",
        "plt.xlabel('epoch')\n",
        "plt.legend(['train', 'val'], loc='upper left')\n",
        "plt.show()"
      ],
      "metadata": {
        "colab": {
          "base_uri": "https://localhost:8080/",
          "height": 573
        },
        "id": "CEW0uSSODW4x",
        "outputId": "3bf0d6fb-1db4-443e-d8dc-9cd5f25ec92c"
      },
      "execution_count": 89,
      "outputs": [
        {
          "output_type": "display_data",
          "data": {
            "text/plain": [
              "<Figure size 432x288 with 1 Axes>"
            ],
            "image/png": "[encoded data removed]"
          },
          "metadata": {
            "needs_background": "light"
          }
        },
        {
          "output_type": "display_data",
          "data": {
            "text/plain": [
              "<Figure size 432x288 with 1 Axes>"
            ],
            "image/png": "[encoded data removed]"
          },
          "metadata": {
            "needs_background": "light"
          }
        }
      ]
    },
    {
      "cell_type": "markdown",
      "source": [
        "- 생각보다 결과가 좋지 못합니다. 위 model2_3을 사용합니다."
      ],
      "metadata": {
        "id": "RPBUZzwt1cWK"
      }
    },
    {
      "cell_type": "markdown",
      "source": [
        "#### 1.3.7 Embedding Layer"
      ],
      "metadata": {
        "id": "J6P0-OVeELyJ"
      }
    },
    {
      "cell_type": "markdown",
      "source": [
        "- 학습된 model2_3의 embedding layer를 통해 단어를 집어넣고 연관성 있는 단어들을 뽑아내봅니다."
      ],
      "metadata": {
        "id": "W8yshgl6Fbd4"
      }
    },
    {
      "cell_type": "code",
      "source": [
        "word2vec_file_path = '/gdrive/My Drive/Colab Notebooks/data/movie/word2vec.txt'\n",
        "f = open(word2vec_file_path, 'w')\n",
        "f.write('{} {}\\n'.format(vocab_size-4, word_vector_dim))  # 몇개의 벡터를 얼마 사이즈로 기재할지 타이틀을 씁니다.\n",
        "\n",
        "# 단어 개수(에서 특수문자 4개는 제외하고)만큼의 워드 벡터를 파일에 기록합니다. \n",
        "vectors = model2_3.get_weights()[0]\n",
        "for i in range(4,vocab_size):\n",
        "    f.write('{} {}\\n'.format(index_to_word[i], ' '.join(map(str, list(vectors[i, :])))))\n",
        "f.close()\n",
        "\n",
        "word_vectors = Word2VecKeyedVectors.load_word2vec_format(word2vec_file_path, binary=False)\n",
        "vector = word_vectors['영화']\n",
        "vector"
      ],
      "metadata": {
        "colab": {
          "base_uri": "https://localhost:8080/"
        },
        "id": "yhD0M4ZuEQef",
        "outputId": "d7edddf2-7d9f-4a00-e25b-9fc8db190421"
      },
      "execution_count": 91,
      "outputs": [
        {
          "output_type": "execute_result",
          "data": {
            "text/plain": [
              "array([ 0.040106  ,  0.02104081, -0.02666196, -0.03671184, -0.06888315,\n",
              "       -0.02614158, -0.01506929, -0.01629592,  0.04930503, -0.0016377 ,\n",
              "        0.0572873 , -0.08239391,  0.00698249, -0.04645717, -0.15335852,\n",
              "        0.11126245, -0.10779494, -0.04618469,  0.03494925, -0.02541876,\n",
              "        0.04149155, -0.00429845, -0.05621784,  0.05676606,  0.00099679,\n",
              "       -0.07071314,  0.07661533, -0.08946599,  0.10125253, -0.06440735,\n",
              "       -0.00720464,  0.07661492, -0.02200258, -0.05603587, -0.07048534,\n",
              "       -0.00499029,  0.01775517, -0.06473803, -0.0310658 ,  0.04424819,\n",
              "       -0.03293661,  0.08573128,  0.07584577, -0.04507392, -0.08952572,\n",
              "        0.14408758, -0.04233633, -0.0737031 , -0.01749332, -0.06875283,\n",
              "       -0.06893416, -0.02330461,  0.05829863,  0.01670317,  0.10313595,\n",
              "       -0.03671516, -0.09523117, -0.0407689 , -0.0068488 ,  0.0394184 ,\n",
              "       -0.05653837,  0.02522416, -0.0835469 ,  0.01041655, -0.00911232,\n",
              "       -0.07090495, -0.07175186,  0.00792894, -0.02698866,  0.13493331,\n",
              "        0.07042017,  0.02548175,  0.08750788,  0.05970841,  0.02957535,\n",
              "       -0.10498592, -0.01995477, -0.02227873,  0.01192475,  0.10560525,\n",
              "        0.03686558, -0.05163689, -0.0141357 , -0.07517307,  0.0853458 ,\n",
              "        0.08014429,  0.04297129, -0.05456421,  0.02450527, -0.03219379,\n",
              "        0.02844776,  0.06388524, -0.00424763,  0.08458475,  0.00810038,\n",
              "        0.04810658, -0.06235479,  0.12251296, -0.06605845,  0.05999641,\n",
              "       -0.0937471 , -0.04673333, -0.05151774, -0.03827294,  0.02710252,\n",
              "        0.04879873, -0.03345892,  0.06212259, -0.01331348,  0.0721139 ,\n",
              "       -0.13263278,  0.02114554,  0.04952933,  0.01115388,  0.04534004,\n",
              "        0.04403885,  0.01694666, -0.07626329, -0.05425538, -0.1577395 ,\n",
              "       -0.04524762,  0.05092771,  0.07658696, -0.0692896 , -0.0156582 ,\n",
              "        0.09594995,  0.04161077,  0.02239775], dtype=float32)"
            ]
          },
          "metadata": {},
          "execution_count": 91
        }
      ]
    },
    {
      "cell_type": "code",
      "source": [
        "word_vectors.similar_by_word(\"여주\")"
      ],
      "metadata": {
        "colab": {
          "base_uri": "https://localhost:8080/"
        },
        "id": "TCv2nNVfFTM2",
        "outputId": "db2d695d-6006-4c2d-eeb5-6c6b702fe202"
      },
      "execution_count": 92,
      "outputs": [
        {
          "output_type": "execute_result",
          "data": {
            "text/plain": [
              "[('성우', 0.8116530179977417),\n",
              " ('이라도', 0.8100594878196716),\n",
              " ('극치', 0.7933149337768555),\n",
              " ('반복', 0.7894351482391357),\n",
              " ('공포물', 0.7880476713180542),\n",
              " ('세여', 0.7879423499107361),\n",
              " ('괴리', 0.7862759828567505),\n",
              " ('작렬', 0.7846822738647461),\n",
              " ('돌려', 0.7832977771759033),\n",
              " ('팀', 0.7819128036499023)]"
            ]
          },
          "metadata": {},
          "execution_count": 92
        }
      ]
    },
    {
      "cell_type": "code",
      "source": [
        "word_vectors.similar_by_word(\"감독\")"
      ],
      "metadata": {
        "colab": {
          "base_uri": "https://localhost:8080/"
        },
        "id": "mWXC5_RvFXTL",
        "outputId": "a1934e39-5107-41aa-e0ed-53d8c8f8d724"
      },
      "execution_count": 93,
      "outputs": [
        {
          "output_type": "execute_result",
          "data": {
            "text/plain": [
              "[('양심', 0.8928641080856323),\n",
              " ('진행', 0.8858894109725952),\n",
              " ('액션물', 0.8825536966323853),\n",
              " ('감흥', 0.8755953311920166),\n",
              " ('깡패', 0.872478187084198),\n",
              " ('괴담', 0.8720375895500183),\n",
              " ('플롯', 0.8717002272605896),\n",
              " ('도대체', 0.869542121887207),\n",
              " ('제작진', 0.8674465417861938),\n",
              " ('자는', 0.8672112226486206)]"
            ]
          },
          "metadata": {},
          "execution_count": 93
        }
      ]
    },
    {
      "cell_type": "markdown",
      "source": [
        "- 특히 감독에 대해서는 리뷰어들의 분노가 잘 드러나는 것 같습니다."
      ],
      "metadata": {
        "id": "uzCu1a3xFvuR"
      }
    },
    {
      "cell_type": "markdown",
      "source": [
        "### 1.4 Word2Vec"
      ],
      "metadata": {
        "id": "3PbVuHGk1cTg"
      }
    },
    {
      "cell_type": "markdown",
      "source": [
        "#### 1.4.1 Word2Vec Load"
      ],
      "metadata": {
        "id": "OC6LwpUTHx2t"
      }
    },
    {
      "cell_type": "markdown",
      "source": [
        "- 이번에는 word2vec를 다운받아 사용해봅니다."
      ],
      "metadata": {
        "id": "sFp33S1m1cQV"
      }
    },
    {
      "cell_type": "code",
      "source": [
        "word2vec_path = '/gdrive/My Drive/Colab Notebooks/data/movie/ko.bin'\n",
        "word2vec_1 = Word2Vec.load(word2vec_path)\n",
        "\n",
        "vector_1 = word2vec_1['영화']\n",
        "vector_1"
      ],
      "metadata": {
        "colab": {
          "base_uri": "https://localhost:8080/"
        },
        "id": "9MCh1Y2NGpj4",
        "outputId": "6e859f26-32a0-41c4-8af3-15c8634ef86c"
      },
      "execution_count": 94,
      "outputs": [
        {
          "output_type": "stream",
          "name": "stderr",
          "text": [
            "/usr/local/lib/python3.7/dist-packages/ipykernel_launcher.py:4: DeprecationWarning: Call to deprecated `__getitem__` (Method will be removed in 4.0.0, use self.wv.__getitem__() instead).\n",
            "  after removing the cwd from sys.path.\n"
          ]
        },
        {
          "output_type": "execute_result",
          "data": {
            "text/plain": [
              "array([-1.7577837 , -1.0874279 ,  1.5300866 , -0.1115231 , -0.37980682,\n",
              "        1.4828517 ,  1.3180419 ,  0.11094163,  0.7430535 , -0.45461136,\n",
              "        0.58841336,  0.5763913 ,  1.210707  ,  1.3132795 , -0.86962503,\n",
              "       -0.18507595, -0.47440064,  1.5100725 ,  1.0965794 ,  1.0600823 ,\n",
              "       -0.27457932, -0.70003706,  2.3117511 ,  1.4944884 ,  0.25560892,\n",
              "       -2.866659  , -0.28312334,  0.34263936, -0.67723423,  0.71714777,\n",
              "        0.25549442,  0.71732044, -0.13262457,  0.01792452, -0.3184774 ,\n",
              "        0.5271619 ,  0.7561084 , -2.1247065 ,  1.061429  , -0.21065854,\n",
              "        0.6877343 , -1.4956383 ,  0.60346967, -2.6955893 ,  0.37694618,\n",
              "       -1.0164185 ,  0.5430663 ,  0.1200121 , -2.6315718 ,  0.6216742 ,\n",
              "        1.1583976 , -2.5385962 ,  1.326312  , -0.10284371, -0.0286147 ,\n",
              "       -0.9132947 ,  0.7647564 ,  0.79202783, -1.8625957 , -0.7418395 ,\n",
              "        0.5884277 , -0.9917992 , -0.62114453,  1.5367815 , -0.6628939 ,\n",
              "        0.6712103 ,  0.12914915,  0.21228492,  0.9017655 , -0.25083402,\n",
              "        0.71500814,  0.08644514,  0.59993285,  0.5766137 ,  0.64095974,\n",
              "        0.47888306, -2.8426213 , -2.8502681 , -0.140544  , -1.5917364 ,\n",
              "        0.26691505,  0.59476066,  0.85868204,  1.0322351 ,  0.25671318,\n",
              "       -0.34831643,  1.752927  , -0.21967097, -0.77352476,  1.6995213 ,\n",
              "        1.3996491 , -0.9419836 ,  0.85996443, -1.8812876 , -2.5428605 ,\n",
              "        0.39351937, -1.2882805 ,  0.56548136,  1.006273  ,  1.2217585 ,\n",
              "        3.5744793 ,  1.717737  ,  1.6917158 , -2.2176905 , -0.3167447 ,\n",
              "        1.2449    , -1.255284  , -2.1539652 , -1.096709  , -0.74976933,\n",
              "       -0.16744931, -1.8507233 ,  2.1861036 , -0.05389732,  1.038033  ,\n",
              "        0.33730686, -1.4647075 , -1.264041  ,  0.25509247,  0.0622906 ,\n",
              "        0.27852032, -0.52661455,  0.8529616 ,  0.58257025, -0.57665855,\n",
              "        1.3990631 ,  0.28237963,  1.6566037 ,  1.9912103 ,  0.63888913,\n",
              "        0.7732426 , -1.3757724 ,  0.17209321, -0.2433672 ,  0.6328291 ,\n",
              "        1.486971  ,  2.3435354 , -1.7037928 ,  3.1944559 , -1.9049606 ,\n",
              "       -0.51309574,  0.79082954, -1.4480313 , -0.68631476,  0.62008876,\n",
              "       -2.3400223 , -0.5785594 ,  0.5270694 ,  3.0061607 , -1.3661511 ,\n",
              "       -2.7953272 , -1.1794031 , -0.27734265,  0.71130925, -0.06620383,\n",
              "        0.33663416,  0.7204997 , -0.923218  , -2.1603265 , -0.8904896 ,\n",
              "       -1.4137112 , -0.4189144 ,  0.42834592,  1.8104875 , -1.8274456 ,\n",
              "       -0.26700613,  0.7743727 ,  0.80048114,  1.1333636 ,  3.2746978 ,\n",
              "       -0.0188297 ,  0.9245737 , -0.1246058 , -0.5802861 , -0.01926111,\n",
              "        1.05892   , -1.4247856 ,  1.0689156 ,  2.5728712 , -1.294882  ,\n",
              "        0.74771804,  1.3066916 , -1.3213431 ,  1.6501019 , -0.12401557,\n",
              "        0.96340084,  0.26050946,  1.3826336 , -0.02877662,  2.3431563 ,\n",
              "       -0.26337367,  1.9162012 , -0.77454543,  1.7392642 ,  0.08038983,\n",
              "       -0.60325927,  0.29508227,  0.4812675 ,  0.5271086 ,  0.94171894],\n",
              "      dtype=float32)"
            ]
          },
          "metadata": {},
          "execution_count": 94
        }
      ]
    },
    {
      "cell_type": "code",
      "source": [
        "word2vec_1.similar_by_word(\"여주\")"
      ],
      "metadata": {
        "colab": {
          "base_uri": "https://localhost:8080/"
        },
        "id": "eXW6kJD1HDM_",
        "outputId": "2b88678b-8a01-413b-e864-4d13501e2ea6"
      },
      "execution_count": 95,
      "outputs": [
        {
          "output_type": "stream",
          "name": "stderr",
          "text": [
            "/usr/local/lib/python3.7/dist-packages/ipykernel_launcher.py:1: DeprecationWarning: Call to deprecated `similar_by_word` (Method will be removed in 4.0.0, use self.wv.similar_by_word() instead).\n",
            "  \"\"\"Entry point for launching an IPython kernel.\n"
          ]
        },
        {
          "output_type": "execute_result",
          "data": {
            "text/plain": [
              "[('계룡', 0.7370280623435974),\n",
              " ('삼천포', 0.729030191898346),\n",
              " ('오산시', 0.7145974040031433),\n",
              " ('양주', 0.7049307823181152),\n",
              " ('양평군', 0.6866284608840942),\n",
              " ('의정부시', 0.6863290071487427),\n",
              " ('평택시', 0.6805356740951538),\n",
              " ('광주시', 0.6796330809593201),\n",
              " ('동두천시', 0.6781470775604248),\n",
              " ('강계', 0.6770763993263245)]"
            ]
          },
          "metadata": {},
          "execution_count": 95
        }
      ]
    },
    {
      "cell_type": "code",
      "source": [
        "word2vec_1.similar_by_word(\"감독\")"
      ],
      "metadata": {
        "colab": {
          "base_uri": "https://localhost:8080/"
        },
        "id": "be2_JbDpHC8U",
        "outputId": "66839594-4915-4c5d-ce06-c5f92ec033e4"
      },
      "execution_count": 97,
      "outputs": [
        {
          "output_type": "stream",
          "name": "stderr",
          "text": [
            "/usr/local/lib/python3.7/dist-packages/ipykernel_launcher.py:1: DeprecationWarning: Call to deprecated `similar_by_word` (Method will be removed in 4.0.0, use self.wv.similar_by_word() instead).\n",
            "  \"\"\"Entry point for launching an IPython kernel.\n"
          ]
        },
        {
          "output_type": "execute_result",
          "data": {
            "text/plain": [
              "[('감독인', 0.7203366756439209),\n",
              " ('총감독', 0.6801566481590271),\n",
              " ('감독직', 0.5861766338348389),\n",
              " ('김성근', 0.5718862414360046),\n",
              " ('코치', 0.5694025158882141),\n",
              " ('구단주', 0.5456192493438721),\n",
              " ('영화감독', 0.5423160791397095),\n",
              " ('히치콕', 0.5321968197822571),\n",
              " ('수석', 0.5142989754676819),\n",
              " ('주연', 0.5122917890548706)]"
            ]
          },
          "metadata": {},
          "execution_count": 97
        }
      ]
    },
    {
      "cell_type": "markdown",
      "source": [
        "- 야구 감독도 감독입니다..."
      ],
      "metadata": {
        "id": "9dDPRhoc1cNs"
      }
    },
    {
      "cell_type": "markdown",
      "source": [
        "#### 1.4.2 Model4_1"
      ],
      "metadata": {
        "id": "cfnXAjCbHsYA"
      }
    },
    {
      "cell_type": "markdown",
      "source": [
        "- 불러온 word2vec를 embedding layer에 넣어서 다시 모델을 만들어줍니다.  \n",
        "비교를 위해 vocab_size는 동일하게 40000, ~word_vector_dim은 128을 줍니다.~  \n",
        "could not broadcast input array from shape (200,) into shape (128,) 에러가 발생합니다.  \n",
        "200으로 설정합니다...\n",
        "\n"
      ],
      "metadata": {
        "id": "Ap-nMfB_IB21"
      }
    },
    {
      "cell_type": "code",
      "source": [
        "vocab_size = 40000  # 어휘 사전의 크기입니다(10,000개의 단어)\n",
        "word_vector_dim = 200"
      ],
      "metadata": {
        "id": "BQ9X1BKjIBYZ"
      },
      "execution_count": 104,
      "outputs": []
    },
    {
      "cell_type": "code",
      "source": [
        "embedding_matrix = np.random.rand(vocab_size, word_vector_dim)\n",
        "\n",
        "for i in range(4,vocab_size):\n",
        "    if index_to_word[i] in word2vec_1:\n",
        "        embedding_matrix[i] = word2vec_1[index_to_word[i]]"
      ],
      "metadata": {
        "colab": {
          "base_uri": "https://localhost:8080/"
        },
        "id": "6CjbC9ppHsyx",
        "outputId": "ecb99670-26ac-4c31-fcd3-d396e73db38d"
      },
      "execution_count": 105,
      "outputs": [
        {
          "output_type": "stream",
          "name": "stderr",
          "text": [
            "/usr/local/lib/python3.7/dist-packages/ipykernel_launcher.py:4: DeprecationWarning: Call to deprecated `__contains__` (Method will be removed in 4.0.0, use self.wv.__contains__() instead).\n",
            "  after removing the cwd from sys.path.\n",
            "/usr/local/lib/python3.7/dist-packages/ipykernel_launcher.py:5: DeprecationWarning: Call to deprecated `__getitem__` (Method will be removed in 4.0.0, use self.wv.__getitem__() instead).\n",
            "  \"\"\"\n"
          ]
        }
      ]
    },
    {
      "cell_type": "code",
      "source": [
        "embedding_matrix.shape"
      ],
      "metadata": {
        "colab": {
          "base_uri": "https://localhost:8080/"
        },
        "id": "eK010EzFH73t",
        "outputId": "ba07f04f-60b3-46df-c3f0-4bd7a4434f27"
      },
      "execution_count": 106,
      "outputs": [
        {
          "output_type": "execute_result",
          "data": {
            "text/plain": [
              "(40000, 200)"
            ]
          },
          "metadata": {},
          "execution_count": 106
        }
      ]
    },
    {
      "cell_type": "code",
      "source": [
        "# model\n",
        "model4_1 = keras.Sequential()\n",
        "model4_1.add(keras.layers.Embedding(vocab_size, \n",
        "                                    word_vector_dim, \n",
        "                                    embeddings_initializer=Constant(embedding_matrix),\n",
        "                                    input_length=max_len,\n",
        "                                    trainable=True\n",
        "                                    ))\n",
        "model4_1.add(keras.layers.LSTM(512))\n",
        "model4_1.add(keras.layers.Dropout(0.3))\n",
        "model4_1.add(keras.layers.Dense(32, activation='relu'))\n",
        "model4_1.add(keras.layers.Dropout(0.3))\n",
        "model4_1.add(keras.layers.Dense(16, activation='relu'))\n",
        "model4_1.add(keras.layers.Dense(1, activation='sigmoid')) \n",
        "\n",
        "model4_1.summary()"
      ],
      "metadata": {
        "colab": {
          "base_uri": "https://localhost:8080/"
        },
        "id": "qx-8w1_oJeiR",
        "outputId": "ff2a2401-1222-4d76-b70e-622c623e34fa"
      },
      "execution_count": 107,
      "outputs": [
        {
          "output_type": "stream",
          "name": "stdout",
          "text": [
            "Model: \"sequential_4\"\n",
            "_________________________________________________________________\n",
            " Layer (type)                Output Shape              Param #   \n",
            "=================================================================\n",
            " embedding_4 (Embedding)     (None, 83, 200)           8000000   \n",
            "                                                                 \n",
            " lstm_3 (LSTM)               (None, 512)               1460224   \n",
            "                                                                 \n",
            " dropout_7 (Dropout)         (None, 512)               0         \n",
            "                                                                 \n",
            " dense_12 (Dense)            (None, 32)                16416     \n",
            "                                                                 \n",
            " dropout_8 (Dropout)         (None, 32)                0         \n",
            "                                                                 \n",
            " dense_13 (Dense)            (None, 16)                528       \n",
            "                                                                 \n",
            " dense_14 (Dense)            (None, 1)                 17        \n",
            "                                                                 \n",
            "=================================================================\n",
            "Total params: 9,477,185\n",
            "Trainable params: 9,477,185\n",
            "Non-trainable params: 0\n",
            "_________________________________________________________________\n"
          ]
        }
      ]
    },
    {
      "cell_type": "markdown",
      "source": [
        "- model2_3 Total params: 6,449,729  \n",
        "model2_3과 비교해보면 너무나 당연하게 embedding 단계에서 파라미터 갯수가 늘었습니다."
      ],
      "metadata": {
        "id": "REBZyN0IKIZZ"
      }
    },
    {
      "cell_type": "code",
      "source": [
        "model4_1.compile(optimizer='RMSprop',\n",
        "              loss='binary_crossentropy',\n",
        "              metrics=['accuracy'])\n",
        "\n",
        "es = EarlyStopping(monitor='val_loss', verbose=1, patience = 2, mode = 'min')\n",
        "mc = ModelCheckpoint(\"best_model4_1.h5\", monitor='val_accuracy', mode='max', verbose=1, save_best_only=True)\n",
        "              \n",
        "epochs=30\n",
        "batch_size=256\n",
        "\n",
        "history4_1 = model4_1.fit(x_train,\n",
        "                          y_train,\n",
        "                          epochs=epochs,\n",
        "                          batch_size=batch_size,\n",
        "                          validation_data=(x_val, y_val),\n",
        "                          callbacks = [es, mc])"
      ],
      "metadata": {
        "colab": {
          "base_uri": "https://localhost:8080/"
        },
        "id": "6EngDXzxKil3",
        "outputId": "6c35d9ec-edef-4580-b962-681ea471606f"
      },
      "execution_count": 108,
      "outputs": [
        {
          "output_type": "stream",
          "name": "stdout",
          "text": [
            "Epoch 1/30\n",
            "454/455 [============================>.] - ETA: 0s - loss: 0.4709 - accuracy: 0.7719\n",
            "Epoch 1: val_accuracy improved from -inf to 0.81610, saving model to best_model4_1.h5\n",
            "455/455 [==============================] - 30s 61ms/step - loss: 0.4707 - accuracy: 0.7720 - val_loss: 0.4484 - val_accuracy: 0.8161\n",
            "Epoch 2/30\n",
            "454/455 [============================>.] - ETA: 0s - loss: 0.3392 - accuracy: 0.8529\n",
            "Epoch 2: val_accuracy improved from 0.81610 to 0.83584, saving model to best_model4_1.h5\n",
            "455/455 [==============================] - 28s 62ms/step - loss: 0.3392 - accuracy: 0.8528 - val_loss: 0.3653 - val_accuracy: 0.8358\n",
            "Epoch 3/30\n",
            "454/455 [============================>.] - ETA: 0s - loss: 0.2891 - accuracy: 0.8779\n",
            "Epoch 3: val_accuracy improved from 0.83584 to 0.85287, saving model to best_model4_1.h5\n",
            "455/455 [==============================] - 28s 62ms/step - loss: 0.2892 - accuracy: 0.8779 - val_loss: 0.3273 - val_accuracy: 0.8529\n",
            "Epoch 4/30\n",
            "455/455 [==============================] - ETA: 0s - loss: 0.2478 - accuracy: 0.8984\n",
            "Epoch 4: val_accuracy improved from 0.85287 to 0.86752, saving model to best_model4_1.h5\n",
            "455/455 [==============================] - 30s 66ms/step - loss: 0.2478 - accuracy: 0.8984 - val_loss: 0.3182 - val_accuracy: 0.8675\n",
            "Epoch 5/30\n",
            "455/455 [==============================] - ETA: 0s - loss: 0.2064 - accuracy: 0.9167\n",
            "Epoch 5: val_accuracy did not improve from 0.86752\n",
            "455/455 [==============================] - 21s 47ms/step - loss: 0.2064 - accuracy: 0.9167 - val_loss: 0.3279 - val_accuracy: 0.8659\n",
            "Epoch 6/30\n",
            "455/455 [==============================] - ETA: 0s - loss: 0.1644 - accuracy: 0.9351\n",
            "Epoch 6: val_accuracy did not improve from 0.86752\n",
            "455/455 [==============================] - 21s 46ms/step - loss: 0.1644 - accuracy: 0.9351 - val_loss: 0.3579 - val_accuracy: 0.8629\n",
            "Epoch 6: early stopping\n"
          ]
        }
      ]
    },
    {
      "cell_type": "code",
      "source": [
        "loaded_model4_1 = load_model('best_model4_1.h5')\n",
        "print(\"\\n 테스트 정확도: %.4f\" % (loaded_model4_1.evaluate(X_test, y_test)[1]))"
      ],
      "metadata": {
        "colab": {
          "base_uri": "https://localhost:8080/"
        },
        "id": "FN065wK0K1Zf",
        "outputId": "c4d69315-9fc0-471b-af9b-8c434cdc91b4"
      },
      "execution_count": 109,
      "outputs": [
        {
          "output_type": "stream",
          "name": "stdout",
          "text": [
            "1527/1527 [==============================] - 10s 6ms/step - loss: 0.3224 - accuracy: 0.8647\n",
            "\n",
            " 테스트 정확도: 0.8647\n"
          ]
        }
      ]
    },
    {
      "cell_type": "code",
      "source": [
        "model4_1.save('/gdrive/My Drive/Colab Notebooks/model/best_model4_1.h5')"
      ],
      "metadata": {
        "id": "g37HaHfnLBYV"
      },
      "execution_count": 110,
      "outputs": []
    },
    {
      "cell_type": "code",
      "source": [
        "plt.plot(history4_1.history['accuracy'])\n",
        "plt.plot(history4_1.history['val_accuracy'])\n",
        "plt.title('model accuracy')\n",
        "plt.ylabel('accuracy')\n",
        "plt.xlabel('epoch')\n",
        "plt.legend(['train', 'val'], loc='upper left')\n",
        "plt.show()\n",
        "\n",
        "plt.plot(history4_1.history['loss'])\n",
        "plt.plot(history4_1.history['val_loss'])\n",
        "plt.title('model loss')\n",
        "plt.ylabel('loss')\n",
        "plt.xlabel('epoch')\n",
        "plt.legend(['train', 'val'], loc='upper left')\n",
        "plt.show()"
      ],
      "metadata": {
        "colab": {
          "base_uri": "https://localhost:8080/",
          "height": 573
        },
        "id": "1diy_N4ZLF0U",
        "outputId": "60bea64b-80e7-4f2d-9c9c-b92ad26f3102"
      },
      "execution_count": 111,
      "outputs": [
        {
          "output_type": "display_data",
          "data": {
            "text/plain": [
              "<Figure size 432x288 with 1 Axes>"
            ],
            "image/png": "[encoded data removed]"
          },
          "metadata": {
            "needs_background": "light"
          }
        },
        {
          "output_type": "display_data",
          "data": {
            "text/plain": [
              "<Figure size 432x288 with 1 Axes>"
            ],
            "image/png": "[encoded data removed]"
          },
          "metadata": {
            "needs_background": "light"
          }
        }
      ]
    },
    {
      "cell_type": "markdown",
      "source": [
        "- epoch 4에서 최대 val_accuracy와 최소 val_loss를 보여줍니다."
      ],
      "metadata": {
        "id": "eG__hjxwHsTy"
      }
    },
    {
      "cell_type": "markdown",
      "source": [
        "## 2. Bert\n"
      ],
      "metadata": {
        "id": "cfY7XCArHsQ7"
      }
    },
    {
      "cell_type": "markdown",
      "source": [
        "- 이번에는 그 유명한 Bert의 pretrained tokenizer와 model을 사용해봅니다.  \n",
        "- 아래의 사이트를 바탕으로 코드를 구동했습니다.  \n",
        "- https://wikidocs.net/book/2155  \n",
        "- https://velog.io/@jaehyeong/Fine-tuning-Bert-using-Transformers-and-TensorFlow"
      ],
      "metadata": {
        "id": "ObIQ_S3QfgcR"
      }
    },
    {
      "cell_type": "markdown",
      "source": [
        "### 2.1 Module"
      ],
      "metadata": {
        "id": "3pC_bt5Sfdya"
      }
    },
    {
      "cell_type": "code",
      "source": [
        "!pip install -q tensorflow-gpu==2.7.0"
      ],
      "metadata": {
        "colab": {
          "base_uri": "https://localhost:8080/"
        },
        "id": "Q1Eh2ZyGkXBq",
        "outputId": "00677d41-87c2-4079-e169-4dba6ccbd23a"
      },
      "execution_count": 1,
      "outputs": [
        {
          "output_type": "stream",
          "name": "stdout",
          "text": [
            "\u001b[K     |████████████████████████████████| 489.6 MB 22 kB/s \n",
            "\u001b[K     |████████████████████████████████| 1.3 MB 53.8 MB/s \n",
            "\u001b[K     |████████████████████████████████| 463 kB 75.4 MB/s \n",
            "\u001b[31mERROR: pip's dependency resolver does not currently take into account all the packages that are installed. This behaviour is the source of the following dependency conflicts.\n",
            "tensorflow 2.8.2+zzzcolab20220527125636 requires keras<2.9,>=2.8.0rc0, but you have keras 2.7.0 which is incompatible.\n",
            "tensorflow 2.8.2+zzzcolab20220527125636 requires tensorflow-estimator<2.9,>=2.8, but you have tensorflow-estimator 2.7.0 which is incompatible.\u001b[0m\n",
            "\u001b[?25h"
          ]
        }
      ]
    },
    {
      "cell_type": "code",
      "source": [
        "!pip install transformers==4.12.5"
      ],
      "metadata": {
        "colab": {
          "base_uri": "https://localhost:8080/"
        },
        "id": "Q1_SZCjEkXBr",
        "outputId": "fe2811d8-3f3f-486e-bb05-00069c0dc2c1"
      },
      "execution_count": 2,
      "outputs": [
        {
          "output_type": "stream",
          "name": "stdout",
          "text": [
            "Looking in indexes: https://pypi.org/simple, https://us-python.pkg.dev/colab-wheels/public/simple/\n",
            "Collecting transformers==4.12.5\n",
            "  Downloading transformers-4.12.5-py3-none-any.whl (3.1 MB)\n",
            "\u001b[K     |████████████████████████████████| 3.1 MB 7.9 MB/s \n",
            "\u001b[?25hRequirement already satisfied: regex!=2019.12.17 in /usr/local/lib/python3.7/dist-packages (from transformers==4.12.5) (2019.12.20)\n",
            "Requirement already satisfied: tqdm>=4.27 in /usr/local/lib/python3.7/dist-packages (from transformers==4.12.5) (4.64.0)\n",
            "Requirement already satisfied: requests in /usr/local/lib/python3.7/dist-packages (from transformers==4.12.5) (2.23.0)\n",
            "Collecting sacremoses\n",
            "  Downloading sacremoses-0.0.53.tar.gz (880 kB)\n",
            "\u001b[K     |████████████████████████████████| 880 kB 74.6 MB/s \n",
            "\u001b[?25hRequirement already satisfied: numpy>=1.17 in /usr/local/lib/python3.7/dist-packages (from transformers==4.12.5) (1.21.6)\n",
            "Requirement already satisfied: importlib-metadata in /usr/local/lib/python3.7/dist-packages (from transformers==4.12.5) (4.11.4)\n",
            "Requirement already satisfied: filelock in /usr/local/lib/python3.7/dist-packages (from transformers==4.12.5) (3.7.0)\n",
            "Requirement already satisfied: packaging>=20.0 in /usr/local/lib/python3.7/dist-packages (from transformers==4.12.5) (21.3)\n",
            "Collecting pyyaml>=5.1\n",
            "  Downloading PyYAML-6.0-cp37-cp37m-manylinux_2_5_x86_64.manylinux1_x86_64.manylinux_2_12_x86_64.manylinux2010_x86_64.whl (596 kB)\n",
            "\u001b[K     |████████████████████████████████| 596 kB 76.8 MB/s \n",
            "\u001b[?25hCollecting tokenizers<0.11,>=0.10.1\n",
            "  Downloading tokenizers-0.10.3-cp37-cp37m-manylinux_2_5_x86_64.manylinux1_x86_64.manylinux_2_12_x86_64.manylinux2010_x86_64.whl (3.3 MB)\n",
            "\u001b[K     |████████████████████████████████| 3.3 MB 83.9 MB/s \n",
            "\u001b[?25hCollecting huggingface-hub<1.0,>=0.1.0\n",
            "  Downloading huggingface_hub-0.7.0-py3-none-any.whl (86 kB)\n",
            "\u001b[K     |████████████████████████████████| 86 kB 5.7 MB/s \n",
            "\u001b[?25hRequirement already satisfied: typing-extensions>=3.7.4.3 in /usr/local/lib/python3.7/dist-packages (from huggingface-hub<1.0,>=0.1.0->transformers==4.12.5) (4.2.0)\n",
            "Requirement already satisfied: pyparsing!=3.0.5,>=2.0.2 in /usr/local/lib/python3.7/dist-packages (from packaging>=20.0->transformers==4.12.5) (3.0.9)\n",
            "Requirement already satisfied: zipp>=0.5 in /usr/local/lib/python3.7/dist-packages (from importlib-metadata->transformers==4.12.5) (3.8.0)\n",
            "Requirement already satisfied: certifi>=2017.4.17 in /usr/local/lib/python3.7/dist-packages (from requests->transformers==4.12.5) (2022.5.18.1)\n",
            "Requirement already satisfied: chardet<4,>=3.0.2 in /usr/local/lib/python3.7/dist-packages (from requests->transformers==4.12.5) (3.0.4)\n",
            "Requirement already satisfied: idna<3,>=2.5 in /usr/local/lib/python3.7/dist-packages (from requests->transformers==4.12.5) (2.10)\n",
            "Requirement already satisfied: urllib3!=1.25.0,!=1.25.1,<1.26,>=1.21.1 in /usr/local/lib/python3.7/dist-packages (from requests->transformers==4.12.5) (1.24.3)\n",
            "Requirement already satisfied: six in /usr/local/lib/python3.7/dist-packages (from sacremoses->transformers==4.12.5) (1.15.0)\n",
            "Requirement already satisfied: click in /usr/local/lib/python3.7/dist-packages (from sacremoses->transformers==4.12.5) (7.1.2)\n",
            "Requirement already satisfied: joblib in /usr/local/lib/python3.7/dist-packages (from sacremoses->transformers==4.12.5) (1.1.0)\n",
            "Building wheels for collected packages: sacremoses\n",
            "  Building wheel for sacremoses (setup.py) ... \u001b[?25l\u001b[?25hdone\n",
            "  Created wheel for sacremoses: filename=sacremoses-0.0.53-py3-none-any.whl size=895260 sha256=4d840190808aa25b44ff6b753a978010c95f9c346184997fa0b100ee8fd56ebf\n",
            "  Stored in directory: /root/.cache/pip/wheels/87/39/dd/a83eeef36d0bf98e7a4d1933a4ad2d660295a40613079bafc9\n",
            "Successfully built sacremoses\n",
            "Installing collected packages: pyyaml, tokenizers, sacremoses, huggingface-hub, transformers\n",
            "  Attempting uninstall: pyyaml\n",
            "    Found existing installation: PyYAML 3.13\n",
            "    Uninstalling PyYAML-3.13:\n",
            "      Successfully uninstalled PyYAML-3.13\n",
            "Successfully installed huggingface-hub-0.7.0 pyyaml-6.0 sacremoses-0.0.53 tokenizers-0.10.3 transformers-4.12.5\n"
          ]
        }
      ]
    },
    {
      "cell_type": "code",
      "source": [
        "import pandas as pd\n",
        "import numpy as np\n",
        "import cv2\n",
        "import tensorflow as tf\n",
        "import matplotlib.pyplot as plt\n",
        "import re\n",
        "import urllib.request\n",
        "\n",
        "import transformers\n",
        "from transformers import BertTokenizer\n",
        "from transformers import BertTokenizerFast\n",
        "from transformers import get_linear_schedule_with_warmup\n",
        "from transformers import TFBertForSequenceClassification\n",
        "from transformers import TextClassificationPipeline\n",
        "from transformers import AutoTokenizer, AutoModel\n",
        "from tensorflow.keras.callbacks import EarlyStopping\n",
        "from keras.preprocessing.sequence import pad_sequences\n",
        "\n",
        "from google.colab import drive\n",
        "from google.colab.patches import cv2_imshow"
      ],
      "metadata": {
        "id": "qtwxls7qgLG0"
      },
      "execution_count": 36,
      "outputs": []
    },
    {
      "cell_type": "code",
      "source": [
        "%matplotlib inline"
      ],
      "metadata": {
        "id": "xKFKdvzwgYVD"
      },
      "execution_count": 4,
      "outputs": []
    },
    {
      "cell_type": "code",
      "source": [
        "tf.__version__"
      ],
      "metadata": {
        "colab": {
          "base_uri": "https://localhost:8080/",
          "height": 35
        },
        "outputId": "b1b8ab1b-003c-49e9-c628-fd3686d59db5",
        "id": "Q0CqF3pPgVO0"
      },
      "execution_count": 5,
      "outputs": [
        {
          "output_type": "execute_result",
          "data": {
            "text/plain": [
              "'2.7.0'"
            ],
            "application/vnd.google.colaboratory.intrinsic+json": {
              "type": "string"
            }
          },
          "metadata": {},
          "execution_count": 5
        }
      ]
    },
    {
      "cell_type": "code",
      "source": [
        "transformers.__version__"
      ],
      "metadata": {
        "colab": {
          "base_uri": "https://localhost:8080/",
          "height": 35
        },
        "outputId": "91c0c4bd-3ff4-4eb5-87c4-fd7857eca8ae",
        "id": "QV0997rOgVO1"
      },
      "execution_count": 6,
      "outputs": [
        {
          "output_type": "execute_result",
          "data": {
            "text/plain": [
              "'4.12.5'"
            ],
            "application/vnd.google.colaboratory.intrinsic+json": {
              "type": "string"
            }
          },
          "metadata": {},
          "execution_count": 6
        }
      ]
    },
    {
      "cell_type": "markdown",
      "source": [
        "- fine-tuning을 진행하므로 간단할 줄 알았지만 생각보다 version 문제가 큽니다."
      ],
      "metadata": {
        "id": "Q195V-VNA8QR"
      }
    },
    {
      "cell_type": "markdown",
      "source": [
        "### 2.2 Data"
      ],
      "metadata": {
        "id": "QMDgOMPIgauZ"
      }
    },
    {
      "cell_type": "markdown",
      "source": [
        "#### 2.2.1 Data Load"
      ],
      "metadata": {
        "id": "AmCn462IgelH"
      }
    },
    {
      "cell_type": "markdown",
      "source": [
        "- 데이터를 불러옵니다."
      ],
      "metadata": {
        "id": "swsc17dsBWsn"
      }
    },
    {
      "cell_type": "code",
      "source": [
        "drive.mount('/gdrive')"
      ],
      "metadata": {
        "colab": {
          "base_uri": "https://localhost:8080/"
        },
        "outputId": "218c377f-9170-49b5-df8f-a44b64662ee3",
        "id": "QNgF_Wg8gVO2"
      },
      "execution_count": 7,
      "outputs": [
        {
          "output_type": "stream",
          "name": "stdout",
          "text": [
            "Mounted at /gdrive\n"
          ]
        }
      ]
    },
    {
      "cell_type": "code",
      "source": [
        "train_data = pd.read_table('/gdrive/My Drive/Colab Notebooks/data/movie/ratings_train.txt')\n",
        "test_data = pd.read_table('/gdrive/My Drive/Colab Notebooks/data/movie/ratings_test.txt')"
      ],
      "metadata": {
        "id": "pVPOlc9TgxJr"
      },
      "execution_count": 8,
      "outputs": []
    },
    {
      "cell_type": "markdown",
      "source": [
        "#### 2.2.2 Data Preprocessing"
      ],
      "metadata": {
        "id": "XtfLGEuogyrk"
      }
    },
    {
      "cell_type": "markdown",
      "source": [
        "- 앞단과 같으므로 빠르게 처리합니다."
      ],
      "metadata": {
        "id": "Lp0lWsmbBbq7"
      }
    },
    {
      "cell_type": "code",
      "source": [
        "train_data.drop_duplicates(subset=['document'], keep='first', inplace=True)\n",
        "test_data.drop_duplicates(subset=['document'], keep='first', inplace=True)"
      ],
      "metadata": {
        "id": "7lt0le2_g7dX"
      },
      "execution_count": 9,
      "outputs": []
    },
    {
      "cell_type": "code",
      "source": [
        "train_data = train_data.dropna()\n",
        "test_data = test_data.dropna()"
      ],
      "metadata": {
        "id": "wn06crIkg7dY"
      },
      "execution_count": 10,
      "outputs": []
    },
    {
      "cell_type": "code",
      "source": [
        "train_data['document'] = train_data['document'].str.replace(\"[^ㄱ-ㅎㅏ-ㅣ가-힣 ]\",\"\")\n",
        "test_data['document'] = test_data['document'].str.replace(\"[^ㄱ-ㅎㅏ-ㅣ가-힣 ]\",\"\")"
      ],
      "metadata": {
        "colab": {
          "base_uri": "https://localhost:8080/"
        },
        "outputId": "fd0f6797-06c8-4beb-d0e3-1bba0fb27c8a",
        "id": "M9J7iM2dg7dY"
      },
      "execution_count": 11,
      "outputs": [
        {
          "output_type": "stream",
          "name": "stderr",
          "text": [
            "/usr/local/lib/python3.7/dist-packages/ipykernel_launcher.py:1: FutureWarning: The default value of regex will change from True to False in a future version.\n",
            "  \"\"\"Entry point for launching an IPython kernel.\n",
            "/usr/local/lib/python3.7/dist-packages/ipykernel_launcher.py:2: FutureWarning: The default value of regex will change from True to False in a future version.\n",
            "  \n"
          ]
        }
      ]
    },
    {
      "cell_type": "code",
      "source": [
        "train_data['document'] = train_data['document'].str.replace('^ +', \"\")\n",
        "train_data['document'].replace('', np.nan, inplace=True)\n",
        "print(train_data.isnull().sum())"
      ],
      "metadata": {
        "colab": {
          "base_uri": "https://localhost:8080/"
        },
        "outputId": "06175909-8d76-422e-f3b1-00ef260ebc8e",
        "id": "k7ki1cNTg7dY"
      },
      "execution_count": 12,
      "outputs": [
        {
          "output_type": "stream",
          "name": "stderr",
          "text": [
            "/usr/local/lib/python3.7/dist-packages/ipykernel_launcher.py:1: FutureWarning: The default value of regex will change from True to False in a future version.\n",
            "  \"\"\"Entry point for launching an IPython kernel.\n"
          ]
        },
        {
          "output_type": "stream",
          "name": "stdout",
          "text": [
            "id            0\n",
            "document    789\n",
            "label         0\n",
            "dtype: int64\n"
          ]
        }
      ]
    },
    {
      "cell_type": "code",
      "source": [
        "test_data['document'] = test_data['document'].str.replace('^ +', \"\")\n",
        "test_data['document'].replace('', np.nan, inplace=True)\n",
        "print(train_data.isnull().sum())"
      ],
      "metadata": {
        "colab": {
          "base_uri": "https://localhost:8080/"
        },
        "outputId": "9879e286-6f2a-4782-e6be-992c8bb77325",
        "id": "WJxqFvjWg7dY"
      },
      "execution_count": 13,
      "outputs": [
        {
          "output_type": "stream",
          "name": "stderr",
          "text": [
            "/usr/local/lib/python3.7/dist-packages/ipykernel_launcher.py:1: FutureWarning: The default value of regex will change from True to False in a future version.\n",
            "  \"\"\"Entry point for launching an IPython kernel.\n"
          ]
        },
        {
          "output_type": "stream",
          "name": "stdout",
          "text": [
            "id            0\n",
            "document    789\n",
            "label         0\n",
            "dtype: int64\n"
          ]
        }
      ]
    },
    {
      "cell_type": "code",
      "source": [
        "train_data = train_data.dropna(how = 'any')\n",
        "test_data = test_data.dropna(how = 'any')"
      ],
      "metadata": {
        "id": "HFhuYIq8g7dY"
      },
      "execution_count": 14,
      "outputs": []
    },
    {
      "cell_type": "code",
      "source": [
        "print(len(train_data),len(test_data))"
      ],
      "metadata": {
        "colab": {
          "base_uri": "https://localhost:8080/"
        },
        "outputId": "bafdfb83-c25a-4075-e24d-b430624e02d1",
        "id": "1ofvgGO_g7dY"
      },
      "execution_count": 15,
      "outputs": [
        {
          "output_type": "stream",
          "name": "stdout",
          "text": [
            "145393 48852\n"
          ]
        }
      ]
    },
    {
      "cell_type": "markdown",
      "source": [
        "#### 2.2.3 Tokenize"
      ],
      "metadata": {
        "id": "8FDOc7f0hHCA"
      }
    },
    {
      "cell_type": "markdown",
      "source": [
        "- pretrained tokenizer를 불러옵니다.  "
      ],
      "metadata": {
        "id": "UwM-y4uEBdmL"
      }
    },
    {
      "cell_type": "code",
      "source": [
        "tokenizer5_1 = BertTokenizerFast.from_pretrained('klue/bert-base')"
      ],
      "metadata": {
        "colab": {
          "base_uri": "https://localhost:8080/",
          "height": 177,
          "referenced_widgets": [
            "b2d3c29f461f4bee8abe1d3bcf20563f",
            "072339c448d2441d8f0358867a37e3ae",
            "61d6dec5a8ee475a9432ac4b2f527034",
            "d915be24d8f5489c871d2478f5d9d83a",
            "56587119a5bc4d9f8174b021d673d4a1",
            "b9545980dd3c4991a27b8788459340c0",
            "882c3f00a8204262905fbda9e2e9d278",
            "002e476ff3d44f00afb20e6ac44e0686",
            "802a91c926244bbe96f3c6e9c040a394",
            "1d09d204d48a437992802b636bde43dc",
            "1ded366298604d96a04370a63840528d",
            "d9f5cb8e772d4dcf9238076ae4fa9d49",
            "6d233aa8f92e46f9bd447cd5473aa867",
            "5abf81ac774b49c88143606770fc0e5f",
            "861e238e9edb4eb2b4d3961863ce8af4",
            "9a4928595630433faad1ae5f62a70b38",
            "b294837a3bb94b6d842ef4dadbbfe536",
            "a4bab72aa3674ae0bd138337a0c1abeb",
            "1402006972a2458a87705f5a67beb099",
            "6911d8fca91e45e8975d1b0886344385",
            "32567abb058842e58f38d9c05ceed16b",
            "0b5c15f54c474600a2ebb7388c1fe063",
            "effc7e533c964d0c8e4895f0fd381b52",
            "c75ce847cb844c40b6d79333188cf4e4",
            "391b13365fe448e3b1a149ed1c0e870d",
            "599ace340b2d4cd195823d35aec90b85",
            "41af42ab49f64ce0b3bff7e31a3ffc5c",
            "50fc740553314c7aa1226f8dd7335d64",
            "53f85a10adea4ac9b784619892d05d5a",
            "47bfe7a7386a49648f7fcb105d7966b2",
            "f3db2c40a8944975bbfe37d928cd7486",
            "c0ed0991fdc54f419397299a0a93b70e",
            "2b816ef4ee454a15a9b29f64e3d683c7",
            "a18d8e5cb3164a6a9b48fcefe38df4c0",
            "a98e51f434e343828265b182e80b721f",
            "698754ca30c64b9a844325468f02e642",
            "9886689c33cf40819157c39a005e3402",
            "a99c7d2a31c24762903781d6113c59f6",
            "e472556dc8774cdf9d3126494efc433b",
            "9d02f68b11824c28b771ef4870105b50",
            "5f477b4217384c0c973d580df775debb",
            "a5a0452003fc4429bc4e069c0d1ddf03",
            "e0c84918a4694098888bc797f9472313",
            "0fe65357c4e844248be234c6455498ef",
            "614814452acb43d78743b0fbe9117fd5",
            "3e6afee6a10646ecbee5a332bbf91a96",
            "bfe47ceb2a8d4e059bfbc0f1448dd102",
            "3f839a5778ae48c68aa39ac6be1ddb6f",
            "f2d0afd320a14a70b779b1cbd2024578",
            "821b17d559d9451598564c4f06b567f1",
            "b785a4aaecde4d6ea23f0b3c1e7c376f",
            "e1442e24e16f4aa68ec787ecf8f3801a",
            "250089eca52346309d9179926336fea3",
            "63791adedbb747e6aed4172287dc8a89",
            "094ebdab6c794ec3830009e6696ce498"
          ]
        },
        "id": "-2qx0WHYhGnb",
        "outputId": "c85fe4b4-3cd8-4556-aafd-c305823cf5e8"
      },
      "execution_count": 16,
      "outputs": [
        {
          "output_type": "display_data",
          "data": {
            "text/plain": [
              "Downloading:   0%|          | 0.00/243k [00:00<?, ?B/s]"
            ],
            "application/vnd.jupyter.widget-view+json": {
              "version_major": 2,
              "version_minor": 0,
              "model_id": "b2d3c29f461f4bee8abe1d3bcf20563f"
            }
          },
          "metadata": {}
        },
        {
          "output_type": "display_data",
          "data": {
            "text/plain": [
              "Downloading:   0%|          | 0.00/483k [00:00<?, ?B/s]"
            ],
            "application/vnd.jupyter.widget-view+json": {
              "version_major": 2,
              "version_minor": 0,
              "model_id": "d9f5cb8e772d4dcf9238076ae4fa9d49"
            }
          },
          "metadata": {}
        },
        {
          "output_type": "display_data",
          "data": {
            "text/plain": [
              "Downloading:   0%|          | 0.00/125 [00:00<?, ?B/s]"
            ],
            "application/vnd.jupyter.widget-view+json": {
              "version_major": 2,
              "version_minor": 0,
              "model_id": "effc7e533c964d0c8e4895f0fd381b52"
            }
          },
          "metadata": {}
        },
        {
          "output_type": "display_data",
          "data": {
            "text/plain": [
              "Downloading:   0%|          | 0.00/289 [00:00<?, ?B/s]"
            ],
            "application/vnd.jupyter.widget-view+json": {
              "version_major": 2,
              "version_minor": 0,
              "model_id": "a18d8e5cb3164a6a9b48fcefe38df4c0"
            }
          },
          "metadata": {}
        },
        {
          "output_type": "display_data",
          "data": {
            "text/plain": [
              "Downloading:   0%|          | 0.00/425 [00:00<?, ?B/s]"
            ],
            "application/vnd.jupyter.widget-view+json": {
              "version_major": 2,
              "version_minor": 0,
              "model_id": "614814452acb43d78743b0fbe9117fd5"
            }
          },
          "metadata": {}
        }
      ]
    },
    {
      "cell_type": "markdown",
      "source": [
        "- tolist로 list 형태로 만들어줍니다."
      ],
      "metadata": {
        "id": "IT6V6kiDB0at"
      }
    },
    {
      "cell_type": "code",
      "source": [
        "X_train_list = train_data['document'].tolist()\n",
        "X_test_list = test_data['document'].tolist()\n",
        "y_train = train_data['label'].tolist()\n",
        "y_test = test_data['label'].tolist()"
      ],
      "metadata": {
        "id": "4pJKdiMLhOzM"
      },
      "execution_count": 17,
      "outputs": []
    },
    {
      "cell_type": "markdown",
      "source": [
        "- 위에서 불러온 tokenizer로 토큰화를 진행합니다."
      ],
      "metadata": {
        "id": "ao5Bk4SSB8we"
      }
    },
    {
      "cell_type": "code",
      "source": [
        "X_train = tokenizer5_1(X_train_list, truncation=True, padding=True)\n",
        "X_test = tokenizer5_1(X_test_list, truncation=True, padding=True)"
      ],
      "metadata": {
        "id": "lUhDPkeshRzp"
      },
      "execution_count": 18,
      "outputs": []
    },
    {
      "cell_type": "markdown",
      "source": [
        "### 2.3 Model"
      ],
      "metadata": {
        "id": "AhaUhJyBN_M0"
      }
    },
    {
      "cell_type": "markdown",
      "source": [
        "- 먼저 dataset을 구성합니다. validation을 test data로 넣었습니다."
      ],
      "metadata": {
        "id": "tre-RyW6CEQe"
      }
    },
    {
      "cell_type": "code",
      "source": [
        "train_dataset = tf.data.Dataset.from_tensor_slices((\n",
        "    dict(X_train),\n",
        "    y_train\n",
        "))\n",
        "\n",
        "val_dataset = tf.data.Dataset.from_tensor_slices((\n",
        "    dict(X_test),\n",
        "    y_test\n",
        "))"
      ],
      "metadata": {
        "id": "_bRxuEnmhdTV"
      },
      "execution_count": 19,
      "outputs": []
    },
    {
      "cell_type": "markdown",
      "source": [
        "- 최애 Nadam optimizer를 사용합니다."
      ],
      "metadata": {
        "id": "DVq5JwUOCT9B"
      }
    },
    {
      "cell_type": "code",
      "source": [
        "optimizer5_1 = tf.keras.optimizers.Nadam(learning_rate=5e-5)"
      ],
      "metadata": {
        "id": "wEwRaV1thh4s"
      },
      "execution_count": 20,
      "outputs": []
    },
    {
      "cell_type": "markdown",
      "source": [
        "- 마찬가지로 pretrained model을 불러와 컴파일합니다."
      ],
      "metadata": {
        "id": "-_bcFPEmjjmk"
      }
    },
    {
      "cell_type": "code",
      "source": [
        "model5_1 = TFBertForSequenceClassification.from_pretrained('klue/bert-base', num_labels=2, from_pt=True)\n",
        "model5_1.compile(optimizer=optimizer5_1, loss=model5_1.compute_loss, metrics=['accuracy'])"
      ],
      "metadata": {
        "colab": {
          "base_uri": "https://localhost:8080/",
          "height": 160,
          "referenced_widgets": [
            "c222f1c609a74e3eafc9b92d336012d2",
            "120350e2b636422eb01549be6b3321fd",
            "2c4cfe3f0f3f48628b006cb777589fd4",
            "32a72777c43240cdbd15d211b6278875",
            "cc861e29b8994d8fb1f8312e9791202e",
            "1dda419308a54202af59e9b7b14b479e",
            "34311959a3cf4e58b112e25410b33004",
            "415adccee4df45a1adbfd37da3db66a4",
            "2513567131e84b03a8d04a0933c8f519",
            "fc6e78d0a79a4f37894dac94bf251089",
            "40a0372260bc46e6805fba2e366d5629"
          ]
        },
        "id": "sbKFj8vFhkTs",
        "outputId": "21e57e85-404e-4c6d-8d38-6d336d8e3b22"
      },
      "execution_count": 21,
      "outputs": [
        {
          "output_type": "display_data",
          "data": {
            "text/plain": [
              "Downloading:   0%|          | 0.00/424M [00:00<?, ?B/s]"
            ],
            "application/vnd.jupyter.widget-view+json": {
              "version_major": 2,
              "version_minor": 0,
              "model_id": "c222f1c609a74e3eafc9b92d336012d2"
            }
          },
          "metadata": {}
        },
        {
          "output_type": "stream",
          "name": "stderr",
          "text": [
            "Some weights of the PyTorch model were not used when initializing the TF 2.0 model TFBertForSequenceClassification: ['bert.embeddings.position_ids']\n",
            "- This IS expected if you are initializing TFBertForSequenceClassification from a PyTorch model trained on another task or with another architecture (e.g. initializing a TFBertForSequenceClassification model from a BertForPreTraining model).\n",
            "- This IS NOT expected if you are initializing TFBertForSequenceClassification from a PyTorch model that you expect to be exactly identical (e.g. initializing a TFBertForSequenceClassification model from a BertForSequenceClassification model).\n",
            "Some weights or buffers of the TF 2.0 model TFBertForSequenceClassification were not initialized from the PyTorch model and are newly initialized: ['classifier.weight', 'classifier.bias']\n",
            "You should probably TRAIN this model on a down-stream task to be able to use it for predictions and inference.\n"
          ]
        }
      ]
    },
    {
      "cell_type": "markdown",
      "source": [
        "- compute_loss는 training loss를 반환해 model의 metrics를 업데이트 하기 위해 사용한다고 합니다."
      ],
      "metadata": {
        "id": "W8jZSWA_EXpX"
      }
    },
    {
      "cell_type": "code",
      "source": [
        "model5_1.compute_loss"
      ],
      "metadata": {
        "colab": {
          "base_uri": "https://localhost:8080/"
        },
        "id": "UUBET26qhneX",
        "outputId": "603787d7-e22a-4dd5-c12c-7bf5a6ceb55c"
      },
      "execution_count": 22,
      "outputs": [
        {
          "output_type": "execute_result",
          "data": {
            "text/plain": [
              "<bound method TFSequenceClassificationLoss.compute_loss of <transformers.models.bert.modeling_tf_bert.TFBertForSequenceClassification object at 0x7f4c8da35410>>"
            ]
          },
          "metadata": {},
          "execution_count": 22
        }
      ]
    },
    {
      "cell_type": "markdown",
      "source": [
        "- 바로 훈련을 시켜줍니다.  \n",
        "- ModelCheckpoint를 추가하고 싶었으나 오류가 발생해 빼고 진행합니다."
      ],
      "metadata": {
        "id": "T9Kz5_3_Ex-s"
      }
    },
    {
      "cell_type": "code",
      "source": [
        "es = EarlyStopping(\n",
        "    monitor='val_accuracy', \n",
        "    min_delta=0.001,\n",
        "    patience=2)\n",
        "\n",
        "model5_1.fit(\n",
        "    train_dataset.shuffle(10000).batch(32), epochs=5, batch_size=64,\n",
        "    validation_data = val_dataset.shuffle(10000).batch(64),\n",
        "    callbacks = [es]\n",
        ")"
      ],
      "metadata": {
        "colab": {
          "base_uri": "https://localhost:8080/"
        },
        "id": "Z2Yj5mBchs6t",
        "outputId": "81bc05ec-e317-4ad6-c2ac-a8b4eb74d49c"
      },
      "execution_count": 23,
      "outputs": [
        {
          "output_type": "stream",
          "name": "stdout",
          "text": [
            "Epoch 1/5\n",
            "4544/4544 [==============================] - 2452s 533ms/step - loss: 0.2970 - accuracy: 0.8731 - val_loss: 0.2602 - val_accuracy: 0.8909\n",
            "Epoch 2/5\n",
            "4544/4544 [==============================] - 2421s 533ms/step - loss: 0.2127 - accuracy: 0.9139 - val_loss: 0.2791 - val_accuracy: 0.8877\n",
            "Epoch 3/5\n",
            "4544/4544 [==============================] - 2423s 533ms/step - loss: 0.1508 - accuracy: 0.9414 - val_loss: 0.2969 - val_accuracy: 0.8902\n"
          ]
        },
        {
          "output_type": "execute_result",
          "data": {
            "text/plain": [
              "<keras.callbacks.History at 0x7f4b51100110>"
            ]
          },
          "metadata": {},
          "execution_count": 23
        }
      ]
    },
    {
      "cell_type": "markdown",
      "source": [
        "- validation_dataset은 test_data입니다.  \n",
        "평가해봅니다."
      ],
      "metadata": {
        "id": "M9g_Y54tFAZ5"
      }
    },
    {
      "cell_type": "code",
      "source": [
        "model5_1.evaluate(val_dataset.batch(1024))"
      ],
      "metadata": {
        "colab": {
          "base_uri": "https://localhost:8080/"
        },
        "id": "JPQWBecNh08m",
        "outputId": "67b29230-d000-4521-c1b6-fe9f1a6fa7ed"
      },
      "execution_count": 24,
      "outputs": [
        {
          "output_type": "stream",
          "name": "stdout",
          "text": [
            "48/48 [==============================] - 186s 4s/step - loss: 0.2969 - accuracy: 0.8902\n"
          ]
        },
        {
          "output_type": "execute_result",
          "data": {
            "text/plain": [
              "[0.29691803455352783, 0.8901580572128296]"
            ]
          },
          "metadata": {},
          "execution_count": 24
        }
      ]
    },
    {
      "cell_type": "markdown",
      "source": [
        "- 매우 준수합니다"
      ],
      "metadata": {
        "id": "eb-TvK3gHsHa"
      }
    },
    {
      "cell_type": "code",
      "source": [
        "model5_1.save_pretrained('/gdrive/My Drive/Colab Notebooks/model/bert-base')\n",
        "tokenizer5_1.save_pretrained('/gdrive/My Drive/Colab Notebooks/model/bert-base')"
      ],
      "metadata": {
        "colab": {
          "base_uri": "https://localhost:8080/"
        },
        "outputId": "d0751f94-d33f-4fc8-bb05-12fd8ec11295",
        "id": "moHZJH90iCMD"
      },
      "execution_count": 34,
      "outputs": [
        {
          "output_type": "execute_result",
          "data": {
            "text/plain": [
              "('/gdrive/My Drive/Colab Notebooks/model/bert-base/tokenizer_config.json',\n",
              " '/gdrive/My Drive/Colab Notebooks/model/bert-base/special_tokens_map.json',\n",
              " '/gdrive/My Drive/Colab Notebooks/model/bert-base/vocab.txt',\n",
              " '/gdrive/My Drive/Colab Notebooks/model/bert-base/added_tokens.json',\n",
              " '/gdrive/My Drive/Colab Notebooks/model/bert-base/tokenizer.json')"
            ]
          },
          "metadata": {},
          "execution_count": 34
        }
      ]
    },
    {
      "cell_type": "markdown",
      "source": [
        "- 생각해보니... model을 저장합니다.  \n",
        "런타임을 삭제하면 다시 tensorflow가 원래 버전으로 돌아오니 pretrained_model, tokenize만 불러와서 pipeline에 넣어주면 될 것 같습니다."
      ],
      "metadata": {
        "id": "mPRD4HywOir6"
      }
    },
    {
      "cell_type": "code",
      "source": [
        "loaded_tokenizer = BertTokenizerFast.from_pretrained('/gdrive/My Drive/Colab Notebooks/model/bert-base')\n",
        "loaded_model = TFBertForSequenceClassification.from_pretrained('/gdrive/My Drive/Colab Notebooks/model/bert-base')\n",
        "\n",
        "text_classifier = TextClassificationPipeline(\n",
        "    tokenizer=loaded_tokenizer, \n",
        "    model=loaded_model, \n",
        "    framework='tf',\n",
        "    return_all_scores=True\n",
        ")"
      ],
      "metadata": {
        "colab": {
          "base_uri": "https://localhost:8080/"
        },
        "outputId": "dca7960d-5ed9-488f-f29a-956d56cbf2f9",
        "id": "bnHz9DfNiCME"
      },
      "execution_count": 42,
      "outputs": [
        {
          "output_type": "stream",
          "name": "stderr",
          "text": [
            "Some layers from the model checkpoint at /gdrive/My Drive/Colab Notebooks/model/bert-base were not used when initializing TFBertForSequenceClassification: ['dropout_37']\n",
            "- This IS expected if you are initializing TFBertForSequenceClassification from the checkpoint of a model trained on another task or with another architecture (e.g. initializing a BertForSequenceClassification model from a BertForPreTraining model).\n",
            "- This IS NOT expected if you are initializing TFBertForSequenceClassification from the checkpoint of a model that you expect to be exactly identical (initializing a BertForSequenceClassification model from a BertForSequenceClassification model).\n",
            "All the layers of TFBertForSequenceClassification were initialized from the model checkpoint at /gdrive/My Drive/Colab Notebooks/model/bert-base.\n",
            "If your task is similar to the task the model of the checkpoint was trained on, you can already use TFBertForSequenceClassification for predictions without further training.\n"
          ]
        }
      ]
    },
    {
      "cell_type": "markdown",
      "source": [
        "- 한글로 긍정, 부정, %까지 출력하게끔 간단한 함수를 만들어줍니다."
      ],
      "metadata": {
        "id": "-KJQEIhoO5Nr"
      }
    },
    {
      "cell_type": "code",
      "source": [
        "def text_classifier2(sentence):\n",
        "  score = text_classifier(sentence)[0][0]['score']\n",
        "  if(score > 0.5):\n",
        "    print(\"{:.2f}% 확률로 부정 리뷰입니다.\\n\".format(score * 100))\n",
        "  else:\n",
        "    print(\"{:.2f}% 확률로 긍정 리뷰입니다.\\n\".format((1 - score) * 100))"
      ],
      "metadata": {
        "id": "2SeiXb-iMim9"
      },
      "execution_count": 81,
      "outputs": []
    },
    {
      "cell_type": "code",
      "source": [
        "text_classifier2('졸려서 자다감')"
      ],
      "metadata": {
        "colab": {
          "base_uri": "https://localhost:8080/"
        },
        "outputId": "e2eed229-6802-4ad3-c23a-70f4ce48c4ce",
        "id": "ptftPPm2PKE8"
      },
      "execution_count": 91,
      "outputs": [
        {
          "output_type": "stream",
          "name": "stdout",
          "text": [
            "99.91% 확률로 부정 리뷰입니다.\n",
            "\n"
          ]
        }
      ]
    },
    {
      "cell_type": "code",
      "source": [
        "text_classifier2('와 돈아깝다')"
      ],
      "metadata": {
        "colab": {
          "base_uri": "https://localhost:8080/"
        },
        "outputId": "e7df6df7-9420-44cb-e31e-b501cc8dc969",
        "id": "K9eezA9xPKE8"
      },
      "execution_count": 84,
      "outputs": [
        {
          "output_type": "stream",
          "name": "stdout",
          "text": [
            "99.92% 확률로 부정 리뷰입니다.\n",
            "\n"
          ]
        }
      ]
    },
    {
      "cell_type": "code",
      "source": [
        "text_classifier2('감독 튀어와라')"
      ],
      "metadata": {
        "colab": {
          "base_uri": "https://localhost:8080/"
        },
        "outputId": "54144894-982a-45bc-e227-d38a782de01e",
        "id": "aEW5HVuzPKE9"
      },
      "execution_count": 93,
      "outputs": [
        {
          "output_type": "stream",
          "name": "stdout",
          "text": [
            "87.46% 확률로 부정 리뷰입니다.\n",
            "\n"
          ]
        }
      ]
    },
    {
      "cell_type": "code",
      "source": [
        "text_classifier2('여주 겁나 이쁨')"
      ],
      "metadata": {
        "colab": {
          "base_uri": "https://localhost:8080/"
        },
        "outputId": "757b3679-2e78-4d4d-cc15-998e6061ec73",
        "id": "InzAQ5TXPKE9"
      },
      "execution_count": 86,
      "outputs": [
        {
          "output_type": "stream",
          "name": "stdout",
          "text": [
            "97.23% 확률로 긍정 리뷰입니다.\n",
            "\n"
          ]
        }
      ]
    },
    {
      "cell_type": "code",
      "source": [
        "text_classifier2('다들 꼭 봤으면 좋겠음 나만 당할 수 없지')"
      ],
      "metadata": {
        "colab": {
          "base_uri": "https://localhost:8080/"
        },
        "id": "0m9lfqy3Pwz-",
        "outputId": "40904492-e1cb-4333-eddb-f03c4c10ea85"
      },
      "execution_count": 101,
      "outputs": [
        {
          "output_type": "stream",
          "name": "stdout",
          "text": [
            "94.30% 확률로 긍정 리뷰입니다.\n",
            "\n"
          ]
        }
      ]
    },
    {
      "cell_type": "code",
      "source": [
        "text_classifier2('이 영화 미쳤다')"
      ],
      "metadata": {
        "colab": {
          "base_uri": "https://localhost:8080/"
        },
        "outputId": "b8e9c972-fd81-446b-961f-573221d8179b",
        "id": "glgMppSjPKE9"
      },
      "execution_count": 87,
      "outputs": [
        {
          "output_type": "stream",
          "name": "stdout",
          "text": [
            "87.95% 확률로 부정 리뷰입니다.\n",
            "\n"
          ]
        }
      ]
    },
    {
      "cell_type": "code",
      "source": [
        "text_classifier2('이 영화 미쳤다 꼭 봐라')"
      ],
      "metadata": {
        "colab": {
          "base_uri": "https://localhost:8080/"
        },
        "outputId": "c50aceea-7cd1-4541-e0d6-068b3abafc7a",
        "id": "-IMjzECvPKE9"
      },
      "execution_count": 88,
      "outputs": [
        {
          "output_type": "stream",
          "name": "stdout",
          "text": [
            "93.57% 확률로 긍정 리뷰입니다.\n",
            "\n"
          ]
        }
      ]
    },
    {
      "cell_type": "code",
      "source": [
        "text_classifier2('조연이 찢었다')"
      ],
      "metadata": {
        "colab": {
          "base_uri": "https://localhost:8080/"
        },
        "id": "AAgvQZoqPjEH",
        "outputId": "ee42fc92-d808-4268-96dc-f845db8bebf7"
      },
      "execution_count": 90,
      "outputs": [
        {
          "output_type": "stream",
          "name": "stdout",
          "text": [
            "86.77% 확률로 부정 리뷰입니다.\n",
            "\n"
          ]
        }
      ]
    },
    {
      "cell_type": "markdown",
      "source": [
        "- 결과는 준수한 편인 것 같습니다만, 돌려말하거나 신조어에 약합니다."
      ],
      "metadata": {
        "id": "nbvlXjDFQP9v"
      }
    },
    {
      "cell_type": "markdown",
      "source": [
        "## 3. ERROR"
      ],
      "metadata": {
        "id": "8b2fXW3MyWQN"
      }
    },
    {
      "cell_type": "markdown",
      "source": [
        "1) fail to find the dnn implementation\n",
        " - https://stackoverflow.com/questions/54473254/cudnnlstm-unknownerror-fail-to-find-the-dnn-implementation"
      ],
      "metadata": {
        "id": "n41TnEEi2agm"
      }
    },
    {
      "cell_type": "code",
      "source": [
        "insert_img_1 = '/gdrive/My Drive/Colab Notebooks/model/error3.png'\n",
        "insert_img_1 = cv2.imread(insert_img_1)\n",
        "cv2_imshow(insert_img_1)"
      ],
      "metadata": {
        "colab": {
          "base_uri": "https://localhost:8080/",
          "height": 813
        },
        "id": "FcJ0c70I27T4",
        "outputId": "21bdd1c0-3649-4b45-f240-71c785db25be"
      },
      "execution_count": 37,
      "outputs": [
        {
          "output_type": "display_data",
          "data": {
            "text/plain": [
              "<PIL.Image.Image image mode=RGB size=1167x796 at 0x7F4A6E896310>"
            ],
            "image/png": "[encoded data removed]"
          },
          "metadata": {}
        }
      ]
    },
    {
      "cell_type": "markdown",
      "source": [
        "- CuDNN version 문제라고 하던데 tensorflow 업데이트 후 해결했습니다.  \n",
        "(Bert 사용을 위해 version을 내려서 사용하다가 발생)"
      ],
      "metadata": {
        "id": "X_8YZRZR2pBN"
      }
    },
    {
      "cell_type": "markdown",
      "source": [
        "2) 'Nonetype' object has no attribute 'dtype' model\n",
        " - https://stackoverflow.com/questions/48600538/attributeerror-nonetype-object-has-no-attribute-dtype"
      ],
      "metadata": {
        "id": "mzbQqLhf2hfY"
      }
    },
    {
      "cell_type": "code",
      "source": [
        "insert_img_2 = '/gdrive/My Drive/Colab Notebooks/model/error2.png'\n",
        "insert_img_2 = cv2.imread(insert_img_2)\n",
        "cv2_imshow(insert_img_2)"
      ],
      "metadata": {
        "colab": {
          "base_uri": "https://localhost:8080/",
          "height": 1000
        },
        "id": "9FY4j7J-48Ja",
        "outputId": "9e5729ee-51e5-44c5-a4aa-5852f50eddc3"
      },
      "execution_count": 38,
      "outputs": [
        {
          "output_type": "display_data",
          "data": {
            "text/plain": [
              "<PIL.Image.Image image mode=RGB size=1076x1010 at 0x7F4A6E876110>"
            ],
            "image/png": "[encoded data removed]"
          },
          "metadata": {}
        }
      ]
    },
    {
      "cell_type": "markdown",
      "source": [
        "- data 전처리, numpy version 문제 등 다양한 해석이 있지만, tensorflow 2.7.0을 사용하는 것으로 해결했습니다.  \n",
        "(tensorflow == 2.7.0 / transformors == 4.12.5)"
      ],
      "metadata": {
        "id": "L7KTvZI33U34"
      }
    },
    {
      "cell_type": "markdown",
      "source": [
        "3) Failed to import transformers.pipelines because of the following error"
      ],
      "metadata": {
        "id": "BWJm2f_S2ac9"
      }
    },
    {
      "cell_type": "code",
      "source": [
        "insert_img_3 = '/gdrive/My Drive/Colab Notebooks/model/error1.png'\n",
        "insert_img_3 = cv2.imread(insert_img_3)\n",
        "cv2_imshow(insert_img_3)"
      ],
      "metadata": {
        "colab": {
          "base_uri": "https://localhost:8080/",
          "height": 659
        },
        "id": "cEVNnuzn47uc",
        "outputId": "42ed44f1-e4f8-414b-b69a-ff2e6eb5cf90"
      },
      "execution_count": 39,
      "outputs": [
        {
          "output_type": "display_data",
          "data": {
            "text/plain": [
              "<PIL.Image.Image image mode=RGB size=1079x642 at 0x7F4A6E876AD0>"
            ],
            "image/png": "[encoded data removed]"
          },
          "metadata": {}
        }
      ]
    },
    {
      "cell_type": "markdown",
      "source": [
        "- error 마지막 줄에 잘 나와있습니다.  \n",
        "tensorflow를 2.8 이상으로 올려줘야 transformers.pipeline을 사용할 수 있습니다."
      ],
      "metadata": {
        "id": "6cxmGRrJ4fpO"
      }
    },
    {
      "cell_type": "markdown",
      "source": [
        "## 4. Retrospect"
      ],
      "metadata": {
        "id": "a9F8dYc2yWNd"
      }
    },
    {
      "cell_type": "markdown",
      "source": [
        "##### 1) BERT로 pretrained된 model과 tokenizer 사용  \n",
        "- 드디어 BERT를 사용해봅니다.  \n",
        "- fine-tuning으로 pretrained model을 돌려 봤다는 부분에서 만족합니다.  \n",
        "다만, 버전 에러가 너무 심하고 에러를 googling을 해도 별다른 정보가 없어 힘들었습니다.  \n",
        "(특히, pretrained model을 불러와서 fit을 하려면 tensorflow 2.7.x 를 사용해야하는 점과 pipeline을 사용하려면 2.8.x를 사용해야 하는 부분)"
      ],
      "metadata": {
        "id": "s_tnPL7gl3W0"
      }
    },
    {
      "cell_type": "markdown",
      "source": [
        "##### 2) KcELECTRA-base\n",
        "- pretrained model중 nsmc에서 정확도가 91.71로 가장 높은 KcELECTRA-base를 써보고 싶습니다.   \n",
        "Kc_BERT-Large보다 Size는 약 1/3수준인데 성능이 조금 더 우수합니다."
      ],
      "metadata": {
        "id": "jGInLdtem-g4"
      }
    },
    {
      "cell_type": "markdown",
      "source": [
        "##### 3) Model은 복잡할 필요가 없다.\n",
        " - 물론 때에 따라서 다르겠지만, model layer가 깊고 다양한 layer를 섞었다고 결과엔 큰 차이가 없었습니다.  \n",
        " 단순하게 빨리 만들어서 돌려보고 하나하나 추가하는 것이 좋겠습니다."
      ],
      "metadata": {
        "id": "BGOKhV92rET9"
      }
    },
    {
      "cell_type": "markdown",
      "source": [
        "##### 4) version 맞추기\n",
        " - 1번에도 언급했지만 gensim과 mecab, tensorflow와 transformers의 버전을 맞춰주는게 고역입니다.  \n",
        " torch도 써보고 싶은데 벌써부터 겁이 납니다."
      ],
      "metadata": {
        "id": "d56VBbv-stVi"
      }
    },
    {
      "cell_type": "markdown",
      "source": [
        "##### 5) model save 활용\n",
        "- model save를 버릇처럼 할 필요가 있겠다는 생각이 듭니다.  \n",
        "버전이 다를 때 모델만 상위버전에서 로드하면 꼼수처럼 패키지 버전이 안맞는 경우를 넘어갈 수 있습니다."
      ],
      "metadata": {
        "id": "KqTs-_DEQjl9"
      }
    },
    {
      "cell_type": "markdown",
      "source": [
        "## 5. References"
      ],
      "metadata": {
        "id": "pNlEiDiy182m"
      }
    },
    {
      "cell_type": "markdown",
      "source": [
        "- 아래의 사이트에서 많은 도움을 받았습니다."
      ],
      "metadata": {
        "id": "yE8tl0ksrzbG"
      }
    },
    {
      "cell_type": "markdown",
      "source": [
        "1) BERT\n",
        "- https://docs.likejazz.com/bert/  \n",
        "- http://jalammar.github.io/illustrated-bert/  \n",
        "- https://ebbnflow.tistory.com/162  \n",
        "- https://wikidocs.net/book/2155  \n",
        "\n",
        "2) BERT - Fine_tuning\n",
        "- https://velog.io/@jaehyeong/Fine-tuning-Bert-using-Transformers-and-TensorFlow  \n",
        "\n",
        "3) Preprocessing - Padding\n",
        "- https://koreapy.tistory.com/604  \n",
        "\n",
        "4) NSMC - Sentiment_predict with Hugging Face BERT\n",
        "- https://github.com/deepseasw/bert-naver-movie-review/blob/master/bert_naver_movie.ipynb"
      ],
      "metadata": {
        "id": "2aKtANTT0k8h"
      }
    }
  ]
}