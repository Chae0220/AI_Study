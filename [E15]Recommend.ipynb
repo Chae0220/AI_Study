{
  "cells": [
    {
      "cell_type": "markdown",
      "metadata": {
        "id": "l3maA4VTsBN9"
      },
      "source": [
        "# Exploration_15"
      ]
    },
    {
      "cell_type": "markdown",
      "metadata": {
        "id": "n-fpDFkisQAX"
      },
      "source": [
        "## 1. Recommend"
      ]
    },
    {
      "cell_type": "markdown",
      "metadata": {
        "id": "UxiUtcyYTKLU"
      },
      "source": [
        "### 1.1 Module"
      ]
    },
    {
      "cell_type": "code",
      "execution_count": 1,
      "metadata": {
        "colab": {
          "base_uri": "https://localhost:8080/"
        },
        "id": "mTvIVQ9ahjJG",
        "outputId": "e4805800-debb-48fa-c095-f745d32d2cbd"
      },
      "outputs": [
        {
          "output_type": "stream",
          "name": "stdout",
          "text": [
            "Looking in indexes: https://pypi.org/simple, https://us-python.pkg.dev/colab-wheels/public/simple/\n",
            "Collecting implicit\n",
            "  Downloading implicit-0.5.2-cp37-cp37m-manylinux2014_x86_64.whl (18.5 MB)\n",
            "\u001b[K     |████████████████████████████████| 18.5 MB 7.8 MB/s \n",
            "\u001b[?25hRequirement already satisfied: numpy in /usr/local/lib/python3.7/dist-packages (from implicit) (1.21.6)\n",
            "Requirement already satisfied: scipy>=0.16 in /usr/local/lib/python3.7/dist-packages (from implicit) (1.4.1)\n",
            "Requirement already satisfied: tqdm>=4.27 in /usr/local/lib/python3.7/dist-packages (from implicit) (4.64.0)\n",
            "Installing collected packages: implicit\n",
            "Successfully installed implicit-0.5.2\n"
          ]
        }
      ],
      "source": [
        "! pip install implicit"
      ]
    },
    {
      "cell_type": "code",
      "execution_count": 2,
      "metadata": {
        "id": "0dxVx-7ys2b4"
      },
      "outputs": [],
      "source": [
        "import os\n",
        "import json\n",
        "import scipy\n",
        "import implicit\n",
        "import numpy as np\n",
        "import pandas as pd\n",
        "import seaborn as sns\n",
        "import matplotlib.pyplot as plt\n",
        "from scipy.sparse import csr_matrix\n",
        "from implicit.als import AlternatingLeastSquares\n",
        "\n",
        "from google.colab import drive"
      ]
    },
    {
      "cell_type": "code",
      "execution_count": 3,
      "metadata": {
        "colab": {
          "base_uri": "https://localhost:8080/"
        },
        "id": "JUKbcu9ihsIX",
        "outputId": "a4fe41fa-8af0-431c-dde7-d6dc42ec2723"
      },
      "outputs": [
        {
          "output_type": "stream",
          "name": "stdout",
          "text": [
            "Mounted at /gdrive\n"
          ]
        }
      ],
      "source": [
        "drive.mount('/gdrive')"
      ]
    },
    {
      "cell_type": "markdown",
      "metadata": {
        "id": "6xd9u53msd93"
      },
      "source": [
        "### 1.2 Function"
      ]
    },
    {
      "cell_type": "markdown",
      "metadata": {
        "id": "o1SEXCMVv18R"
      },
      "source": [
        "#### 1.2.1 id_to_title"
      ]
    },
    {
      "cell_type": "markdown",
      "metadata": {
        "id": "rZ3zlOZev41x"
      },
      "source": [
        "- movie_id를 넣으면 title로 반환해줍니다."
      ]
    },
    {
      "cell_type": "code",
      "execution_count": 4,
      "metadata": {
        "id": "rIM6Jh4mv1cl"
      },
      "outputs": [],
      "source": [
        "def id_to_title(id):\n",
        "    return movies['title'][movies['movie_id']==id].values[0]"
      ]
    },
    {
      "cell_type": "markdown",
      "metadata": {
        "id": "3gRTc6TiwJjw"
      },
      "source": [
        "#### 1.2.2 title_to_id"
      ]
    },
    {
      "cell_type": "markdown",
      "metadata": {
        "id": "woWqc2mNwMU0"
      },
      "source": [
        "- 반대로 title을 넣으면 movie_id로 반환해줍니다."
      ]
    },
    {
      "cell_type": "code",
      "execution_count": 5,
      "metadata": {
        "id": "vPizSW_EwJLN"
      },
      "outputs": [],
      "source": [
        "def title_to_id(title):\n",
        "    return movies['movie_id'][movies['title']==title].values[0].item()"
      ]
    },
    {
      "cell_type": "markdown",
      "metadata": {
        "id": "GX29eKNawN7r"
      },
      "source": [
        "#### 1.2.3 similar_movie"
      ]
    },
    {
      "cell_type": "markdown",
      "metadata": {
        "id": "OrrAYcz-wQ-8"
      },
      "source": [
        "- 비슷한 영화를 찾아냅니다."
      ]
    },
    {
      "cell_type": "code",
      "execution_count": 6,
      "metadata": {
        "id": "EoF4tYgWwNXK"
      },
      "outputs": [],
      "source": [
        "def similar_movies(title_name, model_name, find_num):\n",
        "    favorite_movie_id = title_to_id(title_name)\n",
        "    my_movie_id = movie_to_idx[favorite_movie_id]\n",
        "    similar_movies = model_name.similar_items(my_movie_id, N=(find_num))\n",
        "    \n",
        "    idx_to_movie = {v:k for k,v in movie_to_idx.items()}\n",
        "    my_similar = [idx_to_movie[i] for i in similar_movies[0]]\n",
        "\n",
        "    mylist = [id_to_title(i) for i in my_similar]\n",
        "    print(*mylist[:], sep='\\n') "
      ]
    },
    {
      "cell_type": "markdown",
      "metadata": {
        "id": "D09i9CX7OLQ0"
      },
      "source": [
        "#### 1.2.4 recommended_movies"
      ]
    },
    {
      "cell_type": "markdown",
      "metadata": {
        "id": "rr_WBYVcOLQ0"
      },
      "source": [
        "- listing을 토대로 영화를 추천합니다."
      ]
    },
    {
      "cell_type": "code",
      "execution_count": 7,
      "metadata": {
        "id": "dareX3-uOLQ0"
      },
      "outputs": [],
      "source": [
        "def recommended_movies(user_name, model_name, find_num):\n",
        "    user = user_to_idx[user_name]\n",
        "    movie_recommended = model_name.recommend(user, csr_data[user], N=find_num, filter_already_liked_items=True)\n",
        "    \n",
        "    idx_to_movie = {v:k for k,v in movie_to_idx.items()}\n",
        "    my_recommended = [idx_to_movie[i] for i in movie_recommended[0]]\n",
        "    \n",
        "    mylist_2 = [id_to_title(i) for i in my_recommended]\n",
        "    print(*mylist_2[:], sep='\\n')"
      ]
    },
    {
      "cell_type": "markdown",
      "metadata": {
        "id": "a_Pa_rByOLQ0"
      },
      "source": [
        "#### 1.2.5 explain_moives"
      ]
    },
    {
      "cell_type": "markdown",
      "metadata": {
        "id": "CJzVQElLOLQ0"
      },
      "source": [
        "- 영화가 추천에 기여한 정도를 나타냅니다."
      ]
    },
    {
      "cell_type": "code",
      "execution_count": 8,
      "metadata": {
        "id": "IfpWVyGeOLQ0"
      },
      "outputs": [],
      "source": [
        "def explain_movies(movie_title, model_name):\n",
        "    explain_movie = movie_title\n",
        "    explain_movie = title_to_id(explain_movie)\n",
        "    explain_movie = movie_to_idx[explain_movie]\n",
        "    explain = model_name.explain(user, csr_data, itemid=explain_movie)\n",
        "    print(explain[0])\n",
        "    print(explain[1])"
      ]
    },
    {
      "cell_type": "markdown",
      "metadata": {
        "id": "4b09jnPNslNY"
      },
      "source": [
        "### 1.3 Data"
      ]
    },
    {
      "cell_type": "markdown",
      "metadata": {
        "id": "1b7QP1s5wTvc"
      },
      "source": [
        "#### 1.3.1 Data load"
      ]
    },
    {
      "cell_type": "markdown",
      "metadata": {
        "id": "Ngk2IMFewjDK"
      },
      "source": [
        "- ratings.dat의 데이터를 불러옵니다.\n",
        "- column name이 없으므로 name까지 지정해줍니다."
      ]
    },
    {
      "cell_type": "code",
      "execution_count": 9,
      "metadata": {
        "colab": {
          "base_uri": "https://localhost:8080/",
          "height": 224
        },
        "id": "Vr86Krb5tI4C",
        "outputId": "f49a354c-4e26-42d0-eb5f-ddc58826c87f"
      },
      "outputs": [
        {
          "output_type": "stream",
          "name": "stdout",
          "text": [
            "(1000209, 4)\n"
          ]
        },
        {
          "output_type": "execute_result",
          "data": {
            "text/plain": [
              "   user_id  movie_id  rating  timestamp\n",
              "0        1      1193       5  978300760\n",
              "1        1       661       3  978302109\n",
              "2        1       914       3  978301968\n",
              "3        1      3408       4  978300275\n",
              "4        1      2355       5  978824291"
            ],
            "text/html": [
              "\n",
              "  <div id=\"df-7229e7e5-5287-49e2-8d81-7cf0f711367d\">\n",
              "    <div class=\"colab-df-container\">\n",
              "      <div>\n",
              "<style scoped>\n",
              "    .dataframe tbody tr th:only-of-type {\n",
              "        vertical-align: middle;\n",
              "    }\n",
              "\n",
              "    .dataframe tbody tr th {\n",
              "        vertical-align: top;\n",
              "    }\n",
              "\n",
              "    .dataframe thead th {\n",
              "        text-align: right;\n",
              "    }\n",
              "</style>\n",
              "<table border=\"1\" class=\"dataframe\">\n",
              "  <thead>\n",
              "    <tr style=\"text-align: right;\">\n",
              "      <th></th>\n",
              "      <th>user_id</th>\n",
              "      <th>movie_id</th>\n",
              "      <th>rating</th>\n",
              "      <th>timestamp</th>\n",
              "    </tr>\n",
              "  </thead>\n",
              "  <tbody>\n",
              "    <tr>\n",
              "      <th>0</th>\n",
              "      <td>1</td>\n",
              "      <td>1193</td>\n",
              "      <td>5</td>\n",
              "      <td>978300760</td>\n",
              "    </tr>\n",
              "    <tr>\n",
              "      <th>1</th>\n",
              "      <td>1</td>\n",
              "      <td>661</td>\n",
              "      <td>3</td>\n",
              "      <td>978302109</td>\n",
              "    </tr>\n",
              "    <tr>\n",
              "      <th>2</th>\n",
              "      <td>1</td>\n",
              "      <td>914</td>\n",
              "      <td>3</td>\n",
              "      <td>978301968</td>\n",
              "    </tr>\n",
              "    <tr>\n",
              "      <th>3</th>\n",
              "      <td>1</td>\n",
              "      <td>3408</td>\n",
              "      <td>4</td>\n",
              "      <td>978300275</td>\n",
              "    </tr>\n",
              "    <tr>\n",
              "      <th>4</th>\n",
              "      <td>1</td>\n",
              "      <td>2355</td>\n",
              "      <td>5</td>\n",
              "      <td>978824291</td>\n",
              "    </tr>\n",
              "  </tbody>\n",
              "</table>\n",
              "</div>\n",
              "      <button class=\"colab-df-convert\" onclick=\"convertToInteractive('df-7229e7e5-5287-49e2-8d81-7cf0f711367d')\"\n",
              "              title=\"Convert this dataframe to an interactive table.\"\n",
              "              style=\"display:none;\">\n",
              "        \n",
              "  <svg xmlns=\"http://www.w3.org/2000/svg\" height=\"24px\"viewBox=\"0 0 24 24\"\n",
              "       width=\"24px\">\n",
              "    <path d=\"M0 0h24v24H0V0z\" fill=\"none\"/>\n",
              "    <path d=\"M18.56 5.44l.94 2.06.94-2.06 2.06-.94-2.06-.94-.94-2.06-.94 2.06-2.06.94zm-11 1L8.5 8.5l.94-2.06 2.06-.94-2.06-.94L8.5 2.5l-.94 2.06-2.06.94zm10 10l.94 2.06.94-2.06 2.06-.94-2.06-.94-.94-2.06-.94 2.06-2.06.94z\"/><path d=\"M17.41 7.96l-1.37-1.37c-.4-.4-.92-.59-1.43-.59-.52 0-1.04.2-1.43.59L10.3 9.45l-7.72 7.72c-.78.78-.78 2.05 0 2.83L4 21.41c.39.39.9.59 1.41.59.51 0 1.02-.2 1.41-.59l7.78-7.78 2.81-2.81c.8-.78.8-2.07 0-2.86zM5.41 20L4 18.59l7.72-7.72 1.47 1.35L5.41 20z\"/>\n",
              "  </svg>\n",
              "      </button>\n",
              "      \n",
              "  <style>\n",
              "    .colab-df-container {\n",
              "      display:flex;\n",
              "      flex-wrap:wrap;\n",
              "      gap: 12px;\n",
              "    }\n",
              "\n",
              "    .colab-df-convert {\n",
              "      background-color: #E8F0FE;\n",
              "      border: none;\n",
              "      border-radius: 50%;\n",
              "      cursor: pointer;\n",
              "      display: none;\n",
              "      fill: #1967D2;\n",
              "      height: 32px;\n",
              "      padding: 0 0 0 0;\n",
              "      width: 32px;\n",
              "    }\n",
              "\n",
              "    .colab-df-convert:hover {\n",
              "      background-color: #E2EBFA;\n",
              "      box-shadow: 0px 1px 2px rgba(60, 64, 67, 0.3), 0px 1px 3px 1px rgba(60, 64, 67, 0.15);\n",
              "      fill: #174EA6;\n",
              "    }\n",
              "\n",
              "    [theme=dark] .colab-df-convert {\n",
              "      background-color: #3B4455;\n",
              "      fill: #D2E3FC;\n",
              "    }\n",
              "\n",
              "    [theme=dark] .colab-df-convert:hover {\n",
              "      background-color: #434B5C;\n",
              "      box-shadow: 0px 1px 3px 1px rgba(0, 0, 0, 0.15);\n",
              "      filter: drop-shadow(0px 1px 2px rgba(0, 0, 0, 0.3));\n",
              "      fill: #FFFFFF;\n",
              "    }\n",
              "  </style>\n",
              "\n",
              "      <script>\n",
              "        const buttonEl =\n",
              "          document.querySelector('#df-7229e7e5-5287-49e2-8d81-7cf0f711367d button.colab-df-convert');\n",
              "        buttonEl.style.display =\n",
              "          google.colab.kernel.accessAllowed ? 'block' : 'none';\n",
              "\n",
              "        async function convertToInteractive(key) {\n",
              "          const element = document.querySelector('#df-7229e7e5-5287-49e2-8d81-7cf0f711367d');\n",
              "          const dataTable =\n",
              "            await google.colab.kernel.invokeFunction('convertToInteractive',\n",
              "                                                     [key], {});\n",
              "          if (!dataTable) return;\n",
              "\n",
              "          const docLinkHtml = 'Like what you see? Visit the ' +\n",
              "            '<a target=\"_blank\" href=https://colab.research.google.com/notebooks/data_table.ipynb>data table notebook</a>'\n",
              "            + ' to learn more about interactive tables.';\n",
              "          element.innerHTML = '';\n",
              "          dataTable['output_type'] = 'display_data';\n",
              "          await google.colab.output.renderOutput(dataTable, element);\n",
              "          const docLink = document.createElement('div');\n",
              "          docLink.innerHTML = docLinkHtml;\n",
              "          element.appendChild(docLink);\n",
              "        }\n",
              "      </script>\n",
              "    </div>\n",
              "  </div>\n",
              "  "
            ]
          },
          "metadata": {},
          "execution_count": 9
        }
      ],
      "source": [
        "rating_file_path='/gdrive/My Drive/Colab Notebooks/ml-1m/ratings.dat'\n",
        "ratings_cols = ['user_id', 'movie_id', 'rating', 'timestamp']\n",
        "ratings = pd.read_csv(rating_file_path, sep='::', names=ratings_cols, engine='python')\n",
        "orginal_data_size = len(ratings)\n",
        "print(ratings.shape)\n",
        "ratings.head(5)"
      ]
    },
    {
      "cell_type": "markdown",
      "metadata": {
        "id": "q2tFtq1RTaQG"
      },
      "source": [
        "- movies.dat의 데이터를 불러옵니다.\n",
        "- 마찬가지로 column name이 필요합니다."
      ]
    },
    {
      "cell_type": "code",
      "execution_count": 10,
      "metadata": {
        "colab": {
          "base_uri": "https://localhost:8080/",
          "height": 224
        },
        "id": "3txISZgOhCsG",
        "outputId": "61d5aafd-d60d-47b8-8c23-71d894884861"
      },
      "outputs": [
        {
          "output_type": "stream",
          "name": "stdout",
          "text": [
            "(3883, 3)\n"
          ]
        },
        {
          "output_type": "execute_result",
          "data": {
            "text/plain": [
              "   movie_id                               title                         genre\n",
              "0         1                    Toy Story (1995)   Animation|Children's|Comedy\n",
              "1         2                      Jumanji (1995)  Adventure|Children's|Fantasy\n",
              "2         3             Grumpier Old Men (1995)                Comedy|Romance\n",
              "3         4            Waiting to Exhale (1995)                  Comedy|Drama\n",
              "4         5  Father of the Bride Part II (1995)                        Comedy"
            ],
            "text/html": [
              "\n",
              "  <div id=\"df-bf40d21a-90df-440a-901d-2c7c32c00979\">\n",
              "    <div class=\"colab-df-container\">\n",
              "      <div>\n",
              "<style scoped>\n",
              "    .dataframe tbody tr th:only-of-type {\n",
              "        vertical-align: middle;\n",
              "    }\n",
              "\n",
              "    .dataframe tbody tr th {\n",
              "        vertical-align: top;\n",
              "    }\n",
              "\n",
              "    .dataframe thead th {\n",
              "        text-align: right;\n",
              "    }\n",
              "</style>\n",
              "<table border=\"1\" class=\"dataframe\">\n",
              "  <thead>\n",
              "    <tr style=\"text-align: right;\">\n",
              "      <th></th>\n",
              "      <th>movie_id</th>\n",
              "      <th>title</th>\n",
              "      <th>genre</th>\n",
              "    </tr>\n",
              "  </thead>\n",
              "  <tbody>\n",
              "    <tr>\n",
              "      <th>0</th>\n",
              "      <td>1</td>\n",
              "      <td>Toy Story (1995)</td>\n",
              "      <td>Animation|Children's|Comedy</td>\n",
              "    </tr>\n",
              "    <tr>\n",
              "      <th>1</th>\n",
              "      <td>2</td>\n",
              "      <td>Jumanji (1995)</td>\n",
              "      <td>Adventure|Children's|Fantasy</td>\n",
              "    </tr>\n",
              "    <tr>\n",
              "      <th>2</th>\n",
              "      <td>3</td>\n",
              "      <td>Grumpier Old Men (1995)</td>\n",
              "      <td>Comedy|Romance</td>\n",
              "    </tr>\n",
              "    <tr>\n",
              "      <th>3</th>\n",
              "      <td>4</td>\n",
              "      <td>Waiting to Exhale (1995)</td>\n",
              "      <td>Comedy|Drama</td>\n",
              "    </tr>\n",
              "    <tr>\n",
              "      <th>4</th>\n",
              "      <td>5</td>\n",
              "      <td>Father of the Bride Part II (1995)</td>\n",
              "      <td>Comedy</td>\n",
              "    </tr>\n",
              "  </tbody>\n",
              "</table>\n",
              "</div>\n",
              "      <button class=\"colab-df-convert\" onclick=\"convertToInteractive('df-bf40d21a-90df-440a-901d-2c7c32c00979')\"\n",
              "              title=\"Convert this dataframe to an interactive table.\"\n",
              "              style=\"display:none;\">\n",
              "        \n",
              "  <svg xmlns=\"http://www.w3.org/2000/svg\" height=\"24px\"viewBox=\"0 0 24 24\"\n",
              "       width=\"24px\">\n",
              "    <path d=\"M0 0h24v24H0V0z\" fill=\"none\"/>\n",
              "    <path d=\"M18.56 5.44l.94 2.06.94-2.06 2.06-.94-2.06-.94-.94-2.06-.94 2.06-2.06.94zm-11 1L8.5 8.5l.94-2.06 2.06-.94-2.06-.94L8.5 2.5l-.94 2.06-2.06.94zm10 10l.94 2.06.94-2.06 2.06-.94-2.06-.94-.94-2.06-.94 2.06-2.06.94z\"/><path d=\"M17.41 7.96l-1.37-1.37c-.4-.4-.92-.59-1.43-.59-.52 0-1.04.2-1.43.59L10.3 9.45l-7.72 7.72c-.78.78-.78 2.05 0 2.83L4 21.41c.39.39.9.59 1.41.59.51 0 1.02-.2 1.41-.59l7.78-7.78 2.81-2.81c.8-.78.8-2.07 0-2.86zM5.41 20L4 18.59l7.72-7.72 1.47 1.35L5.41 20z\"/>\n",
              "  </svg>\n",
              "      </button>\n",
              "      \n",
              "  <style>\n",
              "    .colab-df-container {\n",
              "      display:flex;\n",
              "      flex-wrap:wrap;\n",
              "      gap: 12px;\n",
              "    }\n",
              "\n",
              "    .colab-df-convert {\n",
              "      background-color: #E8F0FE;\n",
              "      border: none;\n",
              "      border-radius: 50%;\n",
              "      cursor: pointer;\n",
              "      display: none;\n",
              "      fill: #1967D2;\n",
              "      height: 32px;\n",
              "      padding: 0 0 0 0;\n",
              "      width: 32px;\n",
              "    }\n",
              "\n",
              "    .colab-df-convert:hover {\n",
              "      background-color: #E2EBFA;\n",
              "      box-shadow: 0px 1px 2px rgba(60, 64, 67, 0.3), 0px 1px 3px 1px rgba(60, 64, 67, 0.15);\n",
              "      fill: #174EA6;\n",
              "    }\n",
              "\n",
              "    [theme=dark] .colab-df-convert {\n",
              "      background-color: #3B4455;\n",
              "      fill: #D2E3FC;\n",
              "    }\n",
              "\n",
              "    [theme=dark] .colab-df-convert:hover {\n",
              "      background-color: #434B5C;\n",
              "      box-shadow: 0px 1px 3px 1px rgba(0, 0, 0, 0.15);\n",
              "      filter: drop-shadow(0px 1px 2px rgba(0, 0, 0, 0.3));\n",
              "      fill: #FFFFFF;\n",
              "    }\n",
              "  </style>\n",
              "\n",
              "      <script>\n",
              "        const buttonEl =\n",
              "          document.querySelector('#df-bf40d21a-90df-440a-901d-2c7c32c00979 button.colab-df-convert');\n",
              "        buttonEl.style.display =\n",
              "          google.colab.kernel.accessAllowed ? 'block' : 'none';\n",
              "\n",
              "        async function convertToInteractive(key) {\n",
              "          const element = document.querySelector('#df-bf40d21a-90df-440a-901d-2c7c32c00979');\n",
              "          const dataTable =\n",
              "            await google.colab.kernel.invokeFunction('convertToInteractive',\n",
              "                                                     [key], {});\n",
              "          if (!dataTable) return;\n",
              "\n",
              "          const docLinkHtml = 'Like what you see? Visit the ' +\n",
              "            '<a target=\"_blank\" href=https://colab.research.google.com/notebooks/data_table.ipynb>data table notebook</a>'\n",
              "            + ' to learn more about interactive tables.';\n",
              "          element.innerHTML = '';\n",
              "          dataTable['output_type'] = 'display_data';\n",
              "          await google.colab.output.renderOutput(dataTable, element);\n",
              "          const docLink = document.createElement('div');\n",
              "          docLink.innerHTML = docLinkHtml;\n",
              "          element.appendChild(docLink);\n",
              "        }\n",
              "      </script>\n",
              "    </div>\n",
              "  </div>\n",
              "  "
            ]
          },
          "metadata": {},
          "execution_count": 10
        }
      ],
      "source": [
        "movie_file_path='/gdrive/My Drive/Colab Notebooks/ml-1m/movies.dat'\n",
        "cols = ['movie_id', 'title', 'genre'] \n",
        "movies = pd.read_csv(movie_file_path, sep='::', names=cols, engine='python', encoding = 'ISO-8859-1')\n",
        "print(movies.shape)\n",
        "movies.head()"
      ]
    },
    {
      "cell_type": "markdown",
      "metadata": {
        "id": "wSWf04UXTTZe"
      },
      "source": [
        "#### 1.3.2 Preprocess"
      ]
    },
    {
      "cell_type": "markdown",
      "metadata": {
        "id": "8mpBG0ukTbNs"
      },
      "source": [
        "- 약간의 전처리가 필요합니다.\n",
        "- indexing 과정이 필요하므로 merge로 한 파일에서 관리합니다."
      ]
    },
    {
      "cell_type": "code",
      "execution_count": 11,
      "metadata": {
        "id": "Xs6uHIqwhCsH"
      },
      "outputs": [],
      "source": [
        "ratings = pd.merge(ratings,movies, how='outer',on='movie_id') \n",
        "orginal_data_size = len(ratings)"
      ]
    },
    {
      "cell_type": "markdown",
      "metadata": {
        "id": "U1qnyuutyWU6"
      },
      "source": [
        "- 데이터를 다루기 쉽도록 rating 3이상만 남겨둡니다."
      ]
    },
    {
      "cell_type": "code",
      "execution_count": 12,
      "metadata": {
        "colab": {
          "base_uri": "https://localhost:8080/"
        },
        "id": "2zI2zA6tySDQ",
        "outputId": "bb59b98c-f4cc-49fb-be68-9bde7dc8fccb"
      },
      "outputs": [
        {
          "output_type": "stream",
          "name": "stdout",
          "text": [
            "orginal_data_size: 1000386, filtered_data_size: 836478\n",
            "Ratio of Remaining Data is 83.62%\n"
          ]
        }
      ],
      "source": [
        "# 3점 이상만 남깁니다.\n",
        "ratings = ratings[ratings['rating']>=3]\n",
        "filtered_data_size = len(ratings)\n",
        "\n",
        "print(f'orginal_data_size: {orginal_data_size}, filtered_data_size: {filtered_data_size}')\n",
        "print(f'Ratio of Remaining Data is {filtered_data_size / orginal_data_size:.2%}')"
      ]
    },
    {
      "cell_type": "markdown",
      "metadata": {
        "id": "NxMwIbiIyqTR"
      },
      "source": [
        "- 파일의 이름은 ratings이고 column의 이름은 rating이라 겹치지는 않지만, 헷갈릴 수 있으니 count로 바꿔줍니다."
      ]
    },
    {
      "cell_type": "code",
      "execution_count": 13,
      "metadata": {
        "id": "IdbSV_l6yoQV"
      },
      "outputs": [],
      "source": [
        "ratings.rename(columns={'rating':'count'}, inplace=True)"
      ]
    },
    {
      "cell_type": "markdown",
      "metadata": {
        "id": "7CvNdInxyzY4"
      },
      "source": [
        "- 확인해봅니다."
      ]
    },
    {
      "cell_type": "code",
      "execution_count": 14,
      "metadata": {
        "colab": {
          "base_uri": "https://localhost:8080/",
          "height": 206
        },
        "id": "d0rKkMnyy0Kk",
        "outputId": "513eab7e-54c0-4889-a423-517baf3e7c46"
      },
      "outputs": [
        {
          "output_type": "execute_result",
          "data": {
            "text/plain": [
              "   user_id  movie_id  count    timestamp  \\\n",
              "0      1.0      1193    5.0  978300760.0   \n",
              "1      2.0      1193    5.0  978298413.0   \n",
              "2     12.0      1193    4.0  978220179.0   \n",
              "3     15.0      1193    4.0  978199279.0   \n",
              "4     17.0      1193    5.0  978158471.0   \n",
              "\n",
              "                                    title  genre  \n",
              "0  One Flew Over the Cuckoo's Nest (1975)  Drama  \n",
              "1  One Flew Over the Cuckoo's Nest (1975)  Drama  \n",
              "2  One Flew Over the Cuckoo's Nest (1975)  Drama  \n",
              "3  One Flew Over the Cuckoo's Nest (1975)  Drama  \n",
              "4  One Flew Over the Cuckoo's Nest (1975)  Drama  "
            ],
            "text/html": [
              "\n",
              "  <div id=\"df-0a96a942-fb4c-4fd0-9aa6-e2f592ddb0b3\">\n",
              "    <div class=\"colab-df-container\">\n",
              "      <div>\n",
              "<style scoped>\n",
              "    .dataframe tbody tr th:only-of-type {\n",
              "        vertical-align: middle;\n",
              "    }\n",
              "\n",
              "    .dataframe tbody tr th {\n",
              "        vertical-align: top;\n",
              "    }\n",
              "\n",
              "    .dataframe thead th {\n",
              "        text-align: right;\n",
              "    }\n",
              "</style>\n",
              "<table border=\"1\" class=\"dataframe\">\n",
              "  <thead>\n",
              "    <tr style=\"text-align: right;\">\n",
              "      <th></th>\n",
              "      <th>user_id</th>\n",
              "      <th>movie_id</th>\n",
              "      <th>count</th>\n",
              "      <th>timestamp</th>\n",
              "      <th>title</th>\n",
              "      <th>genre</th>\n",
              "    </tr>\n",
              "  </thead>\n",
              "  <tbody>\n",
              "    <tr>\n",
              "      <th>0</th>\n",
              "      <td>1.0</td>\n",
              "      <td>1193</td>\n",
              "      <td>5.0</td>\n",
              "      <td>978300760.0</td>\n",
              "      <td>One Flew Over the Cuckoo's Nest (1975)</td>\n",
              "      <td>Drama</td>\n",
              "    </tr>\n",
              "    <tr>\n",
              "      <th>1</th>\n",
              "      <td>2.0</td>\n",
              "      <td>1193</td>\n",
              "      <td>5.0</td>\n",
              "      <td>978298413.0</td>\n",
              "      <td>One Flew Over the Cuckoo's Nest (1975)</td>\n",
              "      <td>Drama</td>\n",
              "    </tr>\n",
              "    <tr>\n",
              "      <th>2</th>\n",
              "      <td>12.0</td>\n",
              "      <td>1193</td>\n",
              "      <td>4.0</td>\n",
              "      <td>978220179.0</td>\n",
              "      <td>One Flew Over the Cuckoo's Nest (1975)</td>\n",
              "      <td>Drama</td>\n",
              "    </tr>\n",
              "    <tr>\n",
              "      <th>3</th>\n",
              "      <td>15.0</td>\n",
              "      <td>1193</td>\n",
              "      <td>4.0</td>\n",
              "      <td>978199279.0</td>\n",
              "      <td>One Flew Over the Cuckoo's Nest (1975)</td>\n",
              "      <td>Drama</td>\n",
              "    </tr>\n",
              "    <tr>\n",
              "      <th>4</th>\n",
              "      <td>17.0</td>\n",
              "      <td>1193</td>\n",
              "      <td>5.0</td>\n",
              "      <td>978158471.0</td>\n",
              "      <td>One Flew Over the Cuckoo's Nest (1975)</td>\n",
              "      <td>Drama</td>\n",
              "    </tr>\n",
              "  </tbody>\n",
              "</table>\n",
              "</div>\n",
              "      <button class=\"colab-df-convert\" onclick=\"convertToInteractive('df-0a96a942-fb4c-4fd0-9aa6-e2f592ddb0b3')\"\n",
              "              title=\"Convert this dataframe to an interactive table.\"\n",
              "              style=\"display:none;\">\n",
              "        \n",
              "  <svg xmlns=\"http://www.w3.org/2000/svg\" height=\"24px\"viewBox=\"0 0 24 24\"\n",
              "       width=\"24px\">\n",
              "    <path d=\"M0 0h24v24H0V0z\" fill=\"none\"/>\n",
              "    <path d=\"M18.56 5.44l.94 2.06.94-2.06 2.06-.94-2.06-.94-.94-2.06-.94 2.06-2.06.94zm-11 1L8.5 8.5l.94-2.06 2.06-.94-2.06-.94L8.5 2.5l-.94 2.06-2.06.94zm10 10l.94 2.06.94-2.06 2.06-.94-2.06-.94-.94-2.06-.94 2.06-2.06.94z\"/><path d=\"M17.41 7.96l-1.37-1.37c-.4-.4-.92-.59-1.43-.59-.52 0-1.04.2-1.43.59L10.3 9.45l-7.72 7.72c-.78.78-.78 2.05 0 2.83L4 21.41c.39.39.9.59 1.41.59.51 0 1.02-.2 1.41-.59l7.78-7.78 2.81-2.81c.8-.78.8-2.07 0-2.86zM5.41 20L4 18.59l7.72-7.72 1.47 1.35L5.41 20z\"/>\n",
              "  </svg>\n",
              "      </button>\n",
              "      \n",
              "  <style>\n",
              "    .colab-df-container {\n",
              "      display:flex;\n",
              "      flex-wrap:wrap;\n",
              "      gap: 12px;\n",
              "    }\n",
              "\n",
              "    .colab-df-convert {\n",
              "      background-color: #E8F0FE;\n",
              "      border: none;\n",
              "      border-radius: 50%;\n",
              "      cursor: pointer;\n",
              "      display: none;\n",
              "      fill: #1967D2;\n",
              "      height: 32px;\n",
              "      padding: 0 0 0 0;\n",
              "      width: 32px;\n",
              "    }\n",
              "\n",
              "    .colab-df-convert:hover {\n",
              "      background-color: #E2EBFA;\n",
              "      box-shadow: 0px 1px 2px rgba(60, 64, 67, 0.3), 0px 1px 3px 1px rgba(60, 64, 67, 0.15);\n",
              "      fill: #174EA6;\n",
              "    }\n",
              "\n",
              "    [theme=dark] .colab-df-convert {\n",
              "      background-color: #3B4455;\n",
              "      fill: #D2E3FC;\n",
              "    }\n",
              "\n",
              "    [theme=dark] .colab-df-convert:hover {\n",
              "      background-color: #434B5C;\n",
              "      box-shadow: 0px 1px 3px 1px rgba(0, 0, 0, 0.15);\n",
              "      filter: drop-shadow(0px 1px 2px rgba(0, 0, 0, 0.3));\n",
              "      fill: #FFFFFF;\n",
              "    }\n",
              "  </style>\n",
              "\n",
              "      <script>\n",
              "        const buttonEl =\n",
              "          document.querySelector('#df-0a96a942-fb4c-4fd0-9aa6-e2f592ddb0b3 button.colab-df-convert');\n",
              "        buttonEl.style.display =\n",
              "          google.colab.kernel.accessAllowed ? 'block' : 'none';\n",
              "\n",
              "        async function convertToInteractive(key) {\n",
              "          const element = document.querySelector('#df-0a96a942-fb4c-4fd0-9aa6-e2f592ddb0b3');\n",
              "          const dataTable =\n",
              "            await google.colab.kernel.invokeFunction('convertToInteractive',\n",
              "                                                     [key], {});\n",
              "          if (!dataTable) return;\n",
              "\n",
              "          const docLinkHtml = 'Like what you see? Visit the ' +\n",
              "            '<a target=\"_blank\" href=https://colab.research.google.com/notebooks/data_table.ipynb>data table notebook</a>'\n",
              "            + ' to learn more about interactive tables.';\n",
              "          element.innerHTML = '';\n",
              "          dataTable['output_type'] = 'display_data';\n",
              "          await google.colab.output.renderOutput(dataTable, element);\n",
              "          const docLink = document.createElement('div');\n",
              "          docLink.innerHTML = docLinkHtml;\n",
              "          element.appendChild(docLink);\n",
              "        }\n",
              "      </script>\n",
              "    </div>\n",
              "  </div>\n",
              "  "
            ]
          },
          "metadata": {},
          "execution_count": 14
        }
      ],
      "source": [
        "ratings.head(5)"
      ]
    },
    {
      "cell_type": "markdown",
      "metadata": {
        "id": "uexKWWxJvdB1"
      },
      "source": [
        "#### 1.3.3 Data check"
      ]
    },
    {
      "cell_type": "markdown",
      "metadata": {
        "id": "GzENv3J92nNl"
      },
      "source": [
        "- movies의 movie_id와 ratings의 movie_id를 비교해봅니다."
      ]
    },
    {
      "cell_type": "code",
      "execution_count": 15,
      "metadata": {
        "colab": {
          "base_uri": "https://localhost:8080/"
        },
        "id": "mdI9YIhs2jho",
        "outputId": "d645130b-ece8-4102-fbe4-5af4a82bf390"
      },
      "outputs": [
        {
          "output_type": "execute_result",
          "data": {
            "text/plain": [
              "3628"
            ]
          },
          "metadata": {},
          "execution_count": 15
        }
      ],
      "source": [
        "ratings['movie_id'].nunique()"
      ]
    },
    {
      "cell_type": "code",
      "execution_count": 16,
      "metadata": {
        "colab": {
          "base_uri": "https://localhost:8080/"
        },
        "id": "yBVdjGun2liO",
        "outputId": "bec05ca0-56b8-45eb-eeb1-1c159a06acac"
      },
      "outputs": [
        {
          "output_type": "execute_result",
          "data": {
            "text/plain": [
              "3883"
            ]
          },
          "metadata": {},
          "execution_count": 16
        }
      ],
      "source": [
        "movies['movie_id'].nunique()"
      ]
    },
    {
      "cell_type": "markdown",
      "metadata": {
        "id": "B51fAP642yLe"
      },
      "source": [
        "- 위에서 count를 3 이상만 남겨서 차이가 나는 것 같습니다.\n",
        "- 학습을 ratings로 해서 movies로 정보를 뽑아내는데는 문제 없을 것 같습니다."
      ]
    },
    {
      "cell_type": "markdown",
      "metadata": {
        "id": "qBxrsxRY3dXQ"
      },
      "source": [
        "- 위에서 만들어 놓은 id_to_title, title_to_id를 확인합니다."
      ]
    },
    {
      "cell_type": "code",
      "execution_count": 17,
      "metadata": {
        "colab": {
          "base_uri": "https://localhost:8080/",
          "height": 35
        },
        "id": "Vb4lJYs33Vju",
        "outputId": "1f4e4c1e-f05a-406d-c083-d5d552f20373"
      },
      "outputs": [
        {
          "output_type": "execute_result",
          "data": {
            "text/plain": [
              "'Star Wars: Episode IV - A New Hope (1977)'"
            ],
            "application/vnd.google.colaboratory.intrinsic+json": {
              "type": "string"
            }
          },
          "metadata": {},
          "execution_count": 17
        }
      ],
      "source": [
        "id_to_title(260)"
      ]
    },
    {
      "cell_type": "code",
      "execution_count": 18,
      "metadata": {
        "colab": {
          "base_uri": "https://localhost:8080/"
        },
        "id": "4Z1lkWO53c1Y",
        "outputId": "6a9d3396-dd8a-4127-cab9-6cec40260ae2"
      },
      "outputs": [
        {
          "output_type": "execute_result",
          "data": {
            "text/plain": [
              "260"
            ]
          },
          "metadata": {},
          "execution_count": 18
        }
      ],
      "source": [
        "title_to_id('Star Wars: Episode IV - A New Hope (1977)')"
      ]
    },
    {
      "cell_type": "markdown",
      "metadata": {
        "id": "ViirZqxc3ccN"
      },
      "source": [
        "- 잘 나옵니다."
      ]
    },
    {
      "cell_type": "code",
      "execution_count": 19,
      "metadata": {
        "colab": {
          "base_uri": "https://localhost:8080/",
          "height": 363
        },
        "id": "k6i9SyuN4BII",
        "outputId": "1bf72731-ee3a-4903-a2b1-a60b9b5adbda"
      },
      "outputs": [
        {
          "output_type": "execute_result",
          "data": {
            "text/plain": [
              "   user_id  movie_id  count    timestamp  \\\n",
              "0      1.0      1193    5.0  978300760.0   \n",
              "1      2.0      1193    5.0  978298413.0   \n",
              "2     12.0      1193    4.0  978220179.0   \n",
              "3     15.0      1193    4.0  978199279.0   \n",
              "4     17.0      1193    5.0  978158471.0   \n",
              "5     18.0      1193    4.0  978156168.0   \n",
              "6     19.0      1193    5.0  982730936.0   \n",
              "7     24.0      1193    5.0  978136709.0   \n",
              "8     28.0      1193    3.0  978125194.0   \n",
              "9     33.0      1193    5.0  978557765.0   \n",
              "\n",
              "                                    title  genre  \n",
              "0  One Flew Over the Cuckoo's Nest (1975)  Drama  \n",
              "1  One Flew Over the Cuckoo's Nest (1975)  Drama  \n",
              "2  One Flew Over the Cuckoo's Nest (1975)  Drama  \n",
              "3  One Flew Over the Cuckoo's Nest (1975)  Drama  \n",
              "4  One Flew Over the Cuckoo's Nest (1975)  Drama  \n",
              "5  One Flew Over the Cuckoo's Nest (1975)  Drama  \n",
              "6  One Flew Over the Cuckoo's Nest (1975)  Drama  \n",
              "7  One Flew Over the Cuckoo's Nest (1975)  Drama  \n",
              "8  One Flew Over the Cuckoo's Nest (1975)  Drama  \n",
              "9  One Flew Over the Cuckoo's Nest (1975)  Drama  "
            ],
            "text/html": [
              "\n",
              "  <div id=\"df-84beed8d-ed44-4be4-9b2a-19a5d484d607\">\n",
              "    <div class=\"colab-df-container\">\n",
              "      <div>\n",
              "<style scoped>\n",
              "    .dataframe tbody tr th:only-of-type {\n",
              "        vertical-align: middle;\n",
              "    }\n",
              "\n",
              "    .dataframe tbody tr th {\n",
              "        vertical-align: top;\n",
              "    }\n",
              "\n",
              "    .dataframe thead th {\n",
              "        text-align: right;\n",
              "    }\n",
              "</style>\n",
              "<table border=\"1\" class=\"dataframe\">\n",
              "  <thead>\n",
              "    <tr style=\"text-align: right;\">\n",
              "      <th></th>\n",
              "      <th>user_id</th>\n",
              "      <th>movie_id</th>\n",
              "      <th>count</th>\n",
              "      <th>timestamp</th>\n",
              "      <th>title</th>\n",
              "      <th>genre</th>\n",
              "    </tr>\n",
              "  </thead>\n",
              "  <tbody>\n",
              "    <tr>\n",
              "      <th>0</th>\n",
              "      <td>1.0</td>\n",
              "      <td>1193</td>\n",
              "      <td>5.0</td>\n",
              "      <td>978300760.0</td>\n",
              "      <td>One Flew Over the Cuckoo's Nest (1975)</td>\n",
              "      <td>Drama</td>\n",
              "    </tr>\n",
              "    <tr>\n",
              "      <th>1</th>\n",
              "      <td>2.0</td>\n",
              "      <td>1193</td>\n",
              "      <td>5.0</td>\n",
              "      <td>978298413.0</td>\n",
              "      <td>One Flew Over the Cuckoo's Nest (1975)</td>\n",
              "      <td>Drama</td>\n",
              "    </tr>\n",
              "    <tr>\n",
              "      <th>2</th>\n",
              "      <td>12.0</td>\n",
              "      <td>1193</td>\n",
              "      <td>4.0</td>\n",
              "      <td>978220179.0</td>\n",
              "      <td>One Flew Over the Cuckoo's Nest (1975)</td>\n",
              "      <td>Drama</td>\n",
              "    </tr>\n",
              "    <tr>\n",
              "      <th>3</th>\n",
              "      <td>15.0</td>\n",
              "      <td>1193</td>\n",
              "      <td>4.0</td>\n",
              "      <td>978199279.0</td>\n",
              "      <td>One Flew Over the Cuckoo's Nest (1975)</td>\n",
              "      <td>Drama</td>\n",
              "    </tr>\n",
              "    <tr>\n",
              "      <th>4</th>\n",
              "      <td>17.0</td>\n",
              "      <td>1193</td>\n",
              "      <td>5.0</td>\n",
              "      <td>978158471.0</td>\n",
              "      <td>One Flew Over the Cuckoo's Nest (1975)</td>\n",
              "      <td>Drama</td>\n",
              "    </tr>\n",
              "    <tr>\n",
              "      <th>5</th>\n",
              "      <td>18.0</td>\n",
              "      <td>1193</td>\n",
              "      <td>4.0</td>\n",
              "      <td>978156168.0</td>\n",
              "      <td>One Flew Over the Cuckoo's Nest (1975)</td>\n",
              "      <td>Drama</td>\n",
              "    </tr>\n",
              "    <tr>\n",
              "      <th>6</th>\n",
              "      <td>19.0</td>\n",
              "      <td>1193</td>\n",
              "      <td>5.0</td>\n",
              "      <td>982730936.0</td>\n",
              "      <td>One Flew Over the Cuckoo's Nest (1975)</td>\n",
              "      <td>Drama</td>\n",
              "    </tr>\n",
              "    <tr>\n",
              "      <th>7</th>\n",
              "      <td>24.0</td>\n",
              "      <td>1193</td>\n",
              "      <td>5.0</td>\n",
              "      <td>978136709.0</td>\n",
              "      <td>One Flew Over the Cuckoo's Nest (1975)</td>\n",
              "      <td>Drama</td>\n",
              "    </tr>\n",
              "    <tr>\n",
              "      <th>8</th>\n",
              "      <td>28.0</td>\n",
              "      <td>1193</td>\n",
              "      <td>3.0</td>\n",
              "      <td>978125194.0</td>\n",
              "      <td>One Flew Over the Cuckoo's Nest (1975)</td>\n",
              "      <td>Drama</td>\n",
              "    </tr>\n",
              "    <tr>\n",
              "      <th>9</th>\n",
              "      <td>33.0</td>\n",
              "      <td>1193</td>\n",
              "      <td>5.0</td>\n",
              "      <td>978557765.0</td>\n",
              "      <td>One Flew Over the Cuckoo's Nest (1975)</td>\n",
              "      <td>Drama</td>\n",
              "    </tr>\n",
              "  </tbody>\n",
              "</table>\n",
              "</div>\n",
              "      <button class=\"colab-df-convert\" onclick=\"convertToInteractive('df-84beed8d-ed44-4be4-9b2a-19a5d484d607')\"\n",
              "              title=\"Convert this dataframe to an interactive table.\"\n",
              "              style=\"display:none;\">\n",
              "        \n",
              "  <svg xmlns=\"http://www.w3.org/2000/svg\" height=\"24px\"viewBox=\"0 0 24 24\"\n",
              "       width=\"24px\">\n",
              "    <path d=\"M0 0h24v24H0V0z\" fill=\"none\"/>\n",
              "    <path d=\"M18.56 5.44l.94 2.06.94-2.06 2.06-.94-2.06-.94-.94-2.06-.94 2.06-2.06.94zm-11 1L8.5 8.5l.94-2.06 2.06-.94-2.06-.94L8.5 2.5l-.94 2.06-2.06.94zm10 10l.94 2.06.94-2.06 2.06-.94-2.06-.94-.94-2.06-.94 2.06-2.06.94z\"/><path d=\"M17.41 7.96l-1.37-1.37c-.4-.4-.92-.59-1.43-.59-.52 0-1.04.2-1.43.59L10.3 9.45l-7.72 7.72c-.78.78-.78 2.05 0 2.83L4 21.41c.39.39.9.59 1.41.59.51 0 1.02-.2 1.41-.59l7.78-7.78 2.81-2.81c.8-.78.8-2.07 0-2.86zM5.41 20L4 18.59l7.72-7.72 1.47 1.35L5.41 20z\"/>\n",
              "  </svg>\n",
              "      </button>\n",
              "      \n",
              "  <style>\n",
              "    .colab-df-container {\n",
              "      display:flex;\n",
              "      flex-wrap:wrap;\n",
              "      gap: 12px;\n",
              "    }\n",
              "\n",
              "    .colab-df-convert {\n",
              "      background-color: #E8F0FE;\n",
              "      border: none;\n",
              "      border-radius: 50%;\n",
              "      cursor: pointer;\n",
              "      display: none;\n",
              "      fill: #1967D2;\n",
              "      height: 32px;\n",
              "      padding: 0 0 0 0;\n",
              "      width: 32px;\n",
              "    }\n",
              "\n",
              "    .colab-df-convert:hover {\n",
              "      background-color: #E2EBFA;\n",
              "      box-shadow: 0px 1px 2px rgba(60, 64, 67, 0.3), 0px 1px 3px 1px rgba(60, 64, 67, 0.15);\n",
              "      fill: #174EA6;\n",
              "    }\n",
              "\n",
              "    [theme=dark] .colab-df-convert {\n",
              "      background-color: #3B4455;\n",
              "      fill: #D2E3FC;\n",
              "    }\n",
              "\n",
              "    [theme=dark] .colab-df-convert:hover {\n",
              "      background-color: #434B5C;\n",
              "      box-shadow: 0px 1px 3px 1px rgba(0, 0, 0, 0.15);\n",
              "      filter: drop-shadow(0px 1px 2px rgba(0, 0, 0, 0.3));\n",
              "      fill: #FFFFFF;\n",
              "    }\n",
              "  </style>\n",
              "\n",
              "      <script>\n",
              "        const buttonEl =\n",
              "          document.querySelector('#df-84beed8d-ed44-4be4-9b2a-19a5d484d607 button.colab-df-convert');\n",
              "        buttonEl.style.display =\n",
              "          google.colab.kernel.accessAllowed ? 'block' : 'none';\n",
              "\n",
              "        async function convertToInteractive(key) {\n",
              "          const element = document.querySelector('#df-84beed8d-ed44-4be4-9b2a-19a5d484d607');\n",
              "          const dataTable =\n",
              "            await google.colab.kernel.invokeFunction('convertToInteractive',\n",
              "                                                     [key], {});\n",
              "          if (!dataTable) return;\n",
              "\n",
              "          const docLinkHtml = 'Like what you see? Visit the ' +\n",
              "            '<a target=\"_blank\" href=https://colab.research.google.com/notebooks/data_table.ipynb>data table notebook</a>'\n",
              "            + ' to learn more about interactive tables.';\n",
              "          element.innerHTML = '';\n",
              "          dataTable['output_type'] = 'display_data';\n",
              "          await google.colab.output.renderOutput(dataTable, element);\n",
              "          const docLink = document.createElement('div');\n",
              "          docLink.innerHTML = docLinkHtml;\n",
              "          element.appendChild(docLink);\n",
              "        }\n",
              "      </script>\n",
              "    </div>\n",
              "  </div>\n",
              "  "
            ]
          },
          "metadata": {},
          "execution_count": 19
        }
      ],
      "source": [
        "ratings.head(10)"
      ]
    },
    {
      "cell_type": "markdown",
      "metadata": {
        "id": "5-sKrQwR3yNs"
      },
      "source": [
        "##### 1) ratings에 있는 유니크한 영화 개수"
      ]
    },
    {
      "cell_type": "code",
      "execution_count": 20,
      "metadata": {
        "colab": {
          "base_uri": "https://localhost:8080/"
        },
        "id": "NJ8GmbMc36z_",
        "outputId": "b0153cfb-f6d4-406a-8461-382ae8ae76ac"
      },
      "outputs": [
        {
          "output_type": "execute_result",
          "data": {
            "text/plain": [
              "6039"
            ]
          },
          "metadata": {},
          "execution_count": 20
        }
      ],
      "source": [
        "ratings['user_id'].nunique()"
      ]
    },
    {
      "cell_type": "markdown",
      "metadata": {
        "id": "-kia6T0s4JeD"
      },
      "source": [
        "##### 2) ratings에 있는 유니크한 사용자 수"
      ]
    },
    {
      "cell_type": "code",
      "execution_count": 21,
      "metadata": {
        "colab": {
          "base_uri": "https://localhost:8080/"
        },
        "id": "y7Jik6oJ4RkF",
        "outputId": "aeae4f8b-73ae-431b-d40b-914e8f692d5b"
      },
      "outputs": [
        {
          "output_type": "execute_result",
          "data": {
            "text/plain": [
              "3628"
            ]
          },
          "metadata": {},
          "execution_count": 21
        }
      ],
      "source": [
        "ratings['movie_id'].nunique()"
      ]
    },
    {
      "cell_type": "markdown",
      "metadata": {
        "id": "ES_kuDn74JuL"
      },
      "source": [
        "##### 3) 가장 인기 있는 영화 30개"
      ]
    },
    {
      "cell_type": "markdown",
      "metadata": {
        "id": "Fqqj3l3L5S0i"
      },
      "source": [
        "- 인기가 많다는 것은 많이 봤다는 것과 같으니 movie_id에 몇명의 user_id가 있는지 파악해서 sorting하면 될 것 같습니다."
      ]
    },
    {
      "cell_type": "code",
      "execution_count": 22,
      "metadata": {
        "id": "0bKH_Xon4TBG"
      },
      "outputs": [],
      "source": [
        "ranking = ratings.groupby('movie_id')['user_id'].count()\n",
        "ranking = ranking.sort_values(ascending=False).head(30)  "
      ]
    },
    {
      "cell_type": "code",
      "execution_count": 23,
      "metadata": {
        "colab": {
          "base_uri": "https://localhost:8080/"
        },
        "id": "uf_i7OyC5Kgz",
        "outputId": "e034e64b-e80b-4101-c64c-7bcffee7b729"
      },
      "outputs": [
        {
          "output_type": "stream",
          "name": "stdout",
          "text": [
            "movie_id\n",
            "2858    3211\n",
            "260     2910\n",
            "1196    2885\n",
            "1210    2716\n",
            "2028    2561\n",
            "589     2509\n",
            "593     2498\n",
            "1198    2473\n",
            "1270    2460\n",
            "2571    2434\n",
            "480     2413\n",
            "2762    2385\n",
            "608     2371\n",
            "110     2314\n",
            "1580    2297\n",
            "527     2257\n",
            "1197    2252\n",
            "2396    2213\n",
            "1617    2210\n",
            "318     2194\n",
            "858     2167\n",
            "1265    2121\n",
            "1097    2102\n",
            "2997    2066\n",
            "2716    2051\n",
            "296     2030\n",
            "356     2022\n",
            "1240    2019\n",
            "1       2000\n",
            "457     1941\n",
            "Name: user_id, dtype: int64\n"
          ]
        }
      ],
      "source": [
        "print(ranking)"
      ]
    },
    {
      "cell_type": "markdown",
      "metadata": {
        "id": "Z_6JHSJD5nIe"
      },
      "source": [
        "- id 형태를 title로 바꿔줍니다."
      ]
    },
    {
      "cell_type": "code",
      "execution_count": 24,
      "metadata": {
        "colab": {
          "base_uri": "https://localhost:8080/"
        },
        "id": "95TzFuWL5aVc",
        "outputId": "a0c98ce3-3cbc-4461-adb6-32b8ede23d36"
      },
      "outputs": [
        {
          "output_type": "stream",
          "name": "stdout",
          "text": [
            "American Beauty (1999)\n",
            "Star Wars: Episode IV - A New Hope (1977)\n",
            "Star Wars: Episode V - The Empire Strikes Back (1980)\n",
            "Star Wars: Episode VI - Return of the Jedi (1983)\n",
            "Saving Private Ryan (1998)\n",
            "Terminator 2: Judgment Day (1991)\n",
            "Silence of the Lambs, The (1991)\n",
            "Raiders of the Lost Ark (1981)\n",
            "Back to the Future (1985)\n",
            "Matrix, The (1999)\n",
            "Jurassic Park (1993)\n",
            "Sixth Sense, The (1999)\n",
            "Fargo (1996)\n",
            "Braveheart (1995)\n",
            "Men in Black (1997)\n",
            "Schindler's List (1993)\n",
            "Princess Bride, The (1987)\n",
            "Shakespeare in Love (1998)\n",
            "L.A. Confidential (1997)\n",
            "Shawshank Redemption, The (1994)\n",
            "Godfather, The (1972)\n",
            "Groundhog Day (1993)\n",
            "E.T. the Extra-Terrestrial (1982)\n",
            "Being John Malkovich (1999)\n",
            "Ghostbusters (1984)\n",
            "Pulp Fiction (1994)\n",
            "Forrest Gump (1994)\n",
            "Terminator, The (1984)\n",
            "Toy Story (1995)\n",
            "Fugitive, The (1993)\n"
          ]
        }
      ],
      "source": [
        "for idx, i in zip(ranking.index, ranking.keys()):\n",
        "    print(id_to_title(i))"
      ]
    },
    {
      "cell_type": "markdown",
      "metadata": {
        "id": "1QVv2o_15ZwY"
      },
      "source": [
        "- 역시 모두가 아는 유명한 작품들입니다."
      ]
    },
    {
      "cell_type": "markdown",
      "metadata": {
        "id": "IRRKsXtk4h3y"
      },
      "source": [
        "### 1.4 Model(Default)"
      ]
    },
    {
      "cell_type": "code",
      "execution_count": 25,
      "metadata": {
        "id": "nlN3dK_c6Iik"
      },
      "outputs": [],
      "source": [
        "# favorite_title 5개 생성\n",
        "favorite_title = ['Usual Suspects, The (1995)',\n",
        "                  'Armageddon (1998)',\n",
        "                  'Home Alone 2: Lost in New York (1992)',\n",
        "                  'Shawshank Redemption, The (1994)',\n",
        "                  'Forrest Gump (1994)']\n",
        "\n",
        "# favorite_title -> favorite_id 변환 \n",
        "favorite_id = [title_to_id(i) for i in favorite_title]\n",
        "\n",
        "# user_id = 'JB', 5점 부여 \n",
        "my_list = pd.DataFrame({'user_id': ['JB']*5, 'movie_id': favorite_id, 'count':[5]*5, 'timestamp':[0]*5})\n",
        "\n",
        "if not ratings.isin({'user_id':['JB']})['user_id'].any():  # user_id에 동일 id가 있는지 확인 후 추가\n",
        "    ratings = ratings.append(my_list)                            "
      ]
    },
    {
      "cell_type": "code",
      "execution_count": 26,
      "metadata": {
        "colab": {
          "base_uri": "https://localhost:8080/",
          "height": 363
        },
        "id": "dzu2HolPBfhq",
        "outputId": "3cce9f51-2efc-4960-8756-98953887443f"
      },
      "outputs": [
        {
          "output_type": "execute_result",
          "data": {
            "text/plain": [
              "        user_id  movie_id  count    timestamp  \\\n",
              "1000203  5556.0      2198    3.0  959445515.0   \n",
              "1000204  5949.0      2198    5.0  958846401.0   \n",
              "1000205  5675.0      2703    3.0  976029116.0   \n",
              "1000207  5851.0      3607    5.0  957756608.0   \n",
              "1000208  5938.0      2909    4.0  957273353.0   \n",
              "0            JB        50    5.0          0.0   \n",
              "1            JB      1917    5.0          0.0   \n",
              "2            JB      2953    5.0          0.0   \n",
              "3            JB       318    5.0          0.0   \n",
              "4            JB       356    5.0          0.0   \n",
              "\n",
              "                                               title                 genre  \n",
              "1000203                           Modulations (1998)           Documentary  \n",
              "1000204                           Modulations (1998)           Documentary  \n",
              "1000205                        Broken Vessels (1998)                 Drama  \n",
              "1000207                     One Little Indian (1973)  Comedy|Drama|Western  \n",
              "1000208  Five Wives, Three Secretaries and Me (1998)           Documentary  \n",
              "0                                                NaN                   NaN  \n",
              "1                                                NaN                   NaN  \n",
              "2                                                NaN                   NaN  \n",
              "3                                                NaN                   NaN  \n",
              "4                                                NaN                   NaN  "
            ],
            "text/html": [
              "\n",
              "  <div id=\"df-f8da0fb9-3e42-4fdb-abfe-2a34f6e3b7fc\">\n",
              "    <div class=\"colab-df-container\">\n",
              "      <div>\n",
              "<style scoped>\n",
              "    .dataframe tbody tr th:only-of-type {\n",
              "        vertical-align: middle;\n",
              "    }\n",
              "\n",
              "    .dataframe tbody tr th {\n",
              "        vertical-align: top;\n",
              "    }\n",
              "\n",
              "    .dataframe thead th {\n",
              "        text-align: right;\n",
              "    }\n",
              "</style>\n",
              "<table border=\"1\" class=\"dataframe\">\n",
              "  <thead>\n",
              "    <tr style=\"text-align: right;\">\n",
              "      <th></th>\n",
              "      <th>user_id</th>\n",
              "      <th>movie_id</th>\n",
              "      <th>count</th>\n",
              "      <th>timestamp</th>\n",
              "      <th>title</th>\n",
              "      <th>genre</th>\n",
              "    </tr>\n",
              "  </thead>\n",
              "  <tbody>\n",
              "    <tr>\n",
              "      <th>1000203</th>\n",
              "      <td>5556.0</td>\n",
              "      <td>2198</td>\n",
              "      <td>3.0</td>\n",
              "      <td>959445515.0</td>\n",
              "      <td>Modulations (1998)</td>\n",
              "      <td>Documentary</td>\n",
              "    </tr>\n",
              "    <tr>\n",
              "      <th>1000204</th>\n",
              "      <td>5949.0</td>\n",
              "      <td>2198</td>\n",
              "      <td>5.0</td>\n",
              "      <td>958846401.0</td>\n",
              "      <td>Modulations (1998)</td>\n",
              "      <td>Documentary</td>\n",
              "    </tr>\n",
              "    <tr>\n",
              "      <th>1000205</th>\n",
              "      <td>5675.0</td>\n",
              "      <td>2703</td>\n",
              "      <td>3.0</td>\n",
              "      <td>976029116.0</td>\n",
              "      <td>Broken Vessels (1998)</td>\n",
              "      <td>Drama</td>\n",
              "    </tr>\n",
              "    <tr>\n",
              "      <th>1000207</th>\n",
              "      <td>5851.0</td>\n",
              "      <td>3607</td>\n",
              "      <td>5.0</td>\n",
              "      <td>957756608.0</td>\n",
              "      <td>One Little Indian (1973)</td>\n",
              "      <td>Comedy|Drama|Western</td>\n",
              "    </tr>\n",
              "    <tr>\n",
              "      <th>1000208</th>\n",
              "      <td>5938.0</td>\n",
              "      <td>2909</td>\n",
              "      <td>4.0</td>\n",
              "      <td>957273353.0</td>\n",
              "      <td>Five Wives, Three Secretaries and Me (1998)</td>\n",
              "      <td>Documentary</td>\n",
              "    </tr>\n",
              "    <tr>\n",
              "      <th>0</th>\n",
              "      <td>JB</td>\n",
              "      <td>50</td>\n",
              "      <td>5.0</td>\n",
              "      <td>0.0</td>\n",
              "      <td>NaN</td>\n",
              "      <td>NaN</td>\n",
              "    </tr>\n",
              "    <tr>\n",
              "      <th>1</th>\n",
              "      <td>JB</td>\n",
              "      <td>1917</td>\n",
              "      <td>5.0</td>\n",
              "      <td>0.0</td>\n",
              "      <td>NaN</td>\n",
              "      <td>NaN</td>\n",
              "    </tr>\n",
              "    <tr>\n",
              "      <th>2</th>\n",
              "      <td>JB</td>\n",
              "      <td>2953</td>\n",
              "      <td>5.0</td>\n",
              "      <td>0.0</td>\n",
              "      <td>NaN</td>\n",
              "      <td>NaN</td>\n",
              "    </tr>\n",
              "    <tr>\n",
              "      <th>3</th>\n",
              "      <td>JB</td>\n",
              "      <td>318</td>\n",
              "      <td>5.0</td>\n",
              "      <td>0.0</td>\n",
              "      <td>NaN</td>\n",
              "      <td>NaN</td>\n",
              "    </tr>\n",
              "    <tr>\n",
              "      <th>4</th>\n",
              "      <td>JB</td>\n",
              "      <td>356</td>\n",
              "      <td>5.0</td>\n",
              "      <td>0.0</td>\n",
              "      <td>NaN</td>\n",
              "      <td>NaN</td>\n",
              "    </tr>\n",
              "  </tbody>\n",
              "</table>\n",
              "</div>\n",
              "      <button class=\"colab-df-convert\" onclick=\"convertToInteractive('df-f8da0fb9-3e42-4fdb-abfe-2a34f6e3b7fc')\"\n",
              "              title=\"Convert this dataframe to an interactive table.\"\n",
              "              style=\"display:none;\">\n",
              "        \n",
              "  <svg xmlns=\"http://www.w3.org/2000/svg\" height=\"24px\"viewBox=\"0 0 24 24\"\n",
              "       width=\"24px\">\n",
              "    <path d=\"M0 0h24v24H0V0z\" fill=\"none\"/>\n",
              "    <path d=\"M18.56 5.44l.94 2.06.94-2.06 2.06-.94-2.06-.94-.94-2.06-.94 2.06-2.06.94zm-11 1L8.5 8.5l.94-2.06 2.06-.94-2.06-.94L8.5 2.5l-.94 2.06-2.06.94zm10 10l.94 2.06.94-2.06 2.06-.94-2.06-.94-.94-2.06-.94 2.06-2.06.94z\"/><path d=\"M17.41 7.96l-1.37-1.37c-.4-.4-.92-.59-1.43-.59-.52 0-1.04.2-1.43.59L10.3 9.45l-7.72 7.72c-.78.78-.78 2.05 0 2.83L4 21.41c.39.39.9.59 1.41.59.51 0 1.02-.2 1.41-.59l7.78-7.78 2.81-2.81c.8-.78.8-2.07 0-2.86zM5.41 20L4 18.59l7.72-7.72 1.47 1.35L5.41 20z\"/>\n",
              "  </svg>\n",
              "      </button>\n",
              "      \n",
              "  <style>\n",
              "    .colab-df-container {\n",
              "      display:flex;\n",
              "      flex-wrap:wrap;\n",
              "      gap: 12px;\n",
              "    }\n",
              "\n",
              "    .colab-df-convert {\n",
              "      background-color: #E8F0FE;\n",
              "      border: none;\n",
              "      border-radius: 50%;\n",
              "      cursor: pointer;\n",
              "      display: none;\n",
              "      fill: #1967D2;\n",
              "      height: 32px;\n",
              "      padding: 0 0 0 0;\n",
              "      width: 32px;\n",
              "    }\n",
              "\n",
              "    .colab-df-convert:hover {\n",
              "      background-color: #E2EBFA;\n",
              "      box-shadow: 0px 1px 2px rgba(60, 64, 67, 0.3), 0px 1px 3px 1px rgba(60, 64, 67, 0.15);\n",
              "      fill: #174EA6;\n",
              "    }\n",
              "\n",
              "    [theme=dark] .colab-df-convert {\n",
              "      background-color: #3B4455;\n",
              "      fill: #D2E3FC;\n",
              "    }\n",
              "\n",
              "    [theme=dark] .colab-df-convert:hover {\n",
              "      background-color: #434B5C;\n",
              "      box-shadow: 0px 1px 3px 1px rgba(0, 0, 0, 0.15);\n",
              "      filter: drop-shadow(0px 1px 2px rgba(0, 0, 0, 0.3));\n",
              "      fill: #FFFFFF;\n",
              "    }\n",
              "  </style>\n",
              "\n",
              "      <script>\n",
              "        const buttonEl =\n",
              "          document.querySelector('#df-f8da0fb9-3e42-4fdb-abfe-2a34f6e3b7fc button.colab-df-convert');\n",
              "        buttonEl.style.display =\n",
              "          google.colab.kernel.accessAllowed ? 'block' : 'none';\n",
              "\n",
              "        async function convertToInteractive(key) {\n",
              "          const element = document.querySelector('#df-f8da0fb9-3e42-4fdb-abfe-2a34f6e3b7fc');\n",
              "          const dataTable =\n",
              "            await google.colab.kernel.invokeFunction('convertToInteractive',\n",
              "                                                     [key], {});\n",
              "          if (!dataTable) return;\n",
              "\n",
              "          const docLinkHtml = 'Like what you see? Visit the ' +\n",
              "            '<a target=\"_blank\" href=https://colab.research.google.com/notebooks/data_table.ipynb>data table notebook</a>'\n",
              "            + ' to learn more about interactive tables.';\n",
              "          element.innerHTML = '';\n",
              "          dataTable['output_type'] = 'display_data';\n",
              "          await google.colab.output.renderOutput(dataTable, element);\n",
              "          const docLink = document.createElement('div');\n",
              "          docLink.innerHTML = docLinkHtml;\n",
              "          element.appendChild(docLink);\n",
              "        }\n",
              "      </script>\n",
              "    </div>\n",
              "  </div>\n",
              "  "
            ]
          },
          "metadata": {},
          "execution_count": 26
        }
      ],
      "source": [
        "ratings.tail(10) "
      ]
    },
    {
      "cell_type": "markdown",
      "metadata": {
        "id": "MmKubSjFCFe8"
      },
      "source": [
        "- user_id에 이름을 넣었으므로 고유한 값으로 indexing해주는 코드가 필요합니다."
      ]
    },
    {
      "cell_type": "code",
      "execution_count": 27,
      "metadata": {
        "id": "5iCpU6XCBx60"
      },
      "outputs": [],
      "source": [
        "# 고유한 유저, 영화를 찾아내는 코드\n",
        "user_unique = ratings['user_id'].unique()\n",
        "movie_unique = ratings['movie_id'].unique()\n",
        "\n",
        "# 유저, 영화 indexing 하는 코드\n",
        "user_to_idx = {v:k for k,v in enumerate(user_unique)}\n",
        "movie_to_idx = {v:k for k,v in enumerate(movie_unique)}"
      ]
    },
    {
      "cell_type": "code",
      "execution_count": 28,
      "metadata": {
        "colab": {
          "base_uri": "https://localhost:8080/"
        },
        "id": "GTGFQ9pGBzE1",
        "outputId": "bcd55f84-ac9e-4da1-a205-00a28d4c2304"
      },
      "outputs": [
        {
          "output_type": "execute_result",
          "data": {
            "text/plain": [
              "6039"
            ]
          },
          "metadata": {},
          "execution_count": 28
        }
      ],
      "source": [
        "user_to_idx['JB']"
      ]
    },
    {
      "cell_type": "code",
      "execution_count": 29,
      "metadata": {
        "colab": {
          "base_uri": "https://localhost:8080/"
        },
        "id": "DFXqRG2IDucO",
        "outputId": "4728959f-2f40-4500-b5a2-b3c918c5ab67"
      },
      "outputs": [
        {
          "output_type": "stream",
          "name": "stdout",
          "text": [
            "user_id column indexing OK!!\n",
            "movie id column indexing OK!!\n"
          ]
        }
      ],
      "source": [
        "temp_user_data = ratings['user_id'].map(user_to_idx.get).dropna()\n",
        "if len(temp_user_data) == len(ratings):   # 모든 row가 정상적으로 인덱싱되었다면\n",
        "    print('user_id column indexing OK!!')\n",
        "    ratings['user_id'] = temp_user_data   # data['user_id']을 인덱싱된 Series로 교체해 줍니다. \n",
        "else:\n",
        "    print('user_id column indexing Fail!!')\n",
        "\n",
        "# artist_to_idx을 통해 movie_id 컬럼도 동일한 방식으로 인덱싱해 줍니다. \n",
        "temp_movie_data = ratings['movie_id'].map(movie_to_idx.get).dropna()\n",
        "if len(temp_movie_data) == len(ratings):\n",
        "    print('movie id column indexing OK!!')\n",
        "    ratings['movie_id'] = temp_movie_data\n",
        "else:\n",
        "    print('movie id column indexing Fail!!')"
      ]
    },
    {
      "cell_type": "code",
      "execution_count": 30,
      "metadata": {
        "colab": {
          "base_uri": "https://localhost:8080/",
          "height": 363
        },
        "id": "n5_EVlkHD_w2",
        "outputId": "df8a2fd3-7d84-4aca-8c21-3c898e1b0d41"
      },
      "outputs": [
        {
          "output_type": "execute_result",
          "data": {
            "text/plain": [
              "         user_id  movie_id  count    timestamp  \\\n",
              "1000203     1532      3624    3.0  959445515.0   \n",
              "1000204     1649      3624    5.0  958846401.0   \n",
              "1000205     1564      3625    3.0  976029116.0   \n",
              "1000207     1621      3626    5.0  957756608.0   \n",
              "1000208     4159      3627    4.0  957273353.0   \n",
              "0           6039       259    5.0          0.0   \n",
              "1           6039       133    5.0          0.0   \n",
              "2           6039      1091    5.0          0.0   \n",
              "3           6039       167    5.0          0.0   \n",
              "4           6039       171    5.0          0.0   \n",
              "\n",
              "                                               title                 genre  \n",
              "1000203                           Modulations (1998)           Documentary  \n",
              "1000204                           Modulations (1998)           Documentary  \n",
              "1000205                        Broken Vessels (1998)                 Drama  \n",
              "1000207                     One Little Indian (1973)  Comedy|Drama|Western  \n",
              "1000208  Five Wives, Three Secretaries and Me (1998)           Documentary  \n",
              "0                                                NaN                   NaN  \n",
              "1                                                NaN                   NaN  \n",
              "2                                                NaN                   NaN  \n",
              "3                                                NaN                   NaN  \n",
              "4                                                NaN                   NaN  "
            ],
            "text/html": [
              "\n",
              "  <div id=\"df-ecc7f32e-59c8-4abe-bc92-283bd4ac1efe\">\n",
              "    <div class=\"colab-df-container\">\n",
              "      <div>\n",
              "<style scoped>\n",
              "    .dataframe tbody tr th:only-of-type {\n",
              "        vertical-align: middle;\n",
              "    }\n",
              "\n",
              "    .dataframe tbody tr th {\n",
              "        vertical-align: top;\n",
              "    }\n",
              "\n",
              "    .dataframe thead th {\n",
              "        text-align: right;\n",
              "    }\n",
              "</style>\n",
              "<table border=\"1\" class=\"dataframe\">\n",
              "  <thead>\n",
              "    <tr style=\"text-align: right;\">\n",
              "      <th></th>\n",
              "      <th>user_id</th>\n",
              "      <th>movie_id</th>\n",
              "      <th>count</th>\n",
              "      <th>timestamp</th>\n",
              "      <th>title</th>\n",
              "      <th>genre</th>\n",
              "    </tr>\n",
              "  </thead>\n",
              "  <tbody>\n",
              "    <tr>\n",
              "      <th>1000203</th>\n",
              "      <td>1532</td>\n",
              "      <td>3624</td>\n",
              "      <td>3.0</td>\n",
              "      <td>959445515.0</td>\n",
              "      <td>Modulations (1998)</td>\n",
              "      <td>Documentary</td>\n",
              "    </tr>\n",
              "    <tr>\n",
              "      <th>1000204</th>\n",
              "      <td>1649</td>\n",
              "      <td>3624</td>\n",
              "      <td>5.0</td>\n",
              "      <td>958846401.0</td>\n",
              "      <td>Modulations (1998)</td>\n",
              "      <td>Documentary</td>\n",
              "    </tr>\n",
              "    <tr>\n",
              "      <th>1000205</th>\n",
              "      <td>1564</td>\n",
              "      <td>3625</td>\n",
              "      <td>3.0</td>\n",
              "      <td>976029116.0</td>\n",
              "      <td>Broken Vessels (1998)</td>\n",
              "      <td>Drama</td>\n",
              "    </tr>\n",
              "    <tr>\n",
              "      <th>1000207</th>\n",
              "      <td>1621</td>\n",
              "      <td>3626</td>\n",
              "      <td>5.0</td>\n",
              "      <td>957756608.0</td>\n",
              "      <td>One Little Indian (1973)</td>\n",
              "      <td>Comedy|Drama|Western</td>\n",
              "    </tr>\n",
              "    <tr>\n",
              "      <th>1000208</th>\n",
              "      <td>4159</td>\n",
              "      <td>3627</td>\n",
              "      <td>4.0</td>\n",
              "      <td>957273353.0</td>\n",
              "      <td>Five Wives, Three Secretaries and Me (1998)</td>\n",
              "      <td>Documentary</td>\n",
              "    </tr>\n",
              "    <tr>\n",
              "      <th>0</th>\n",
              "      <td>6039</td>\n",
              "      <td>259</td>\n",
              "      <td>5.0</td>\n",
              "      <td>0.0</td>\n",
              "      <td>NaN</td>\n",
              "      <td>NaN</td>\n",
              "    </tr>\n",
              "    <tr>\n",
              "      <th>1</th>\n",
              "      <td>6039</td>\n",
              "      <td>133</td>\n",
              "      <td>5.0</td>\n",
              "      <td>0.0</td>\n",
              "      <td>NaN</td>\n",
              "      <td>NaN</td>\n",
              "    </tr>\n",
              "    <tr>\n",
              "      <th>2</th>\n",
              "      <td>6039</td>\n",
              "      <td>1091</td>\n",
              "      <td>5.0</td>\n",
              "      <td>0.0</td>\n",
              "      <td>NaN</td>\n",
              "      <td>NaN</td>\n",
              "    </tr>\n",
              "    <tr>\n",
              "      <th>3</th>\n",
              "      <td>6039</td>\n",
              "      <td>167</td>\n",
              "      <td>5.0</td>\n",
              "      <td>0.0</td>\n",
              "      <td>NaN</td>\n",
              "      <td>NaN</td>\n",
              "    </tr>\n",
              "    <tr>\n",
              "      <th>4</th>\n",
              "      <td>6039</td>\n",
              "      <td>171</td>\n",
              "      <td>5.0</td>\n",
              "      <td>0.0</td>\n",
              "      <td>NaN</td>\n",
              "      <td>NaN</td>\n",
              "    </tr>\n",
              "  </tbody>\n",
              "</table>\n",
              "</div>\n",
              "      <button class=\"colab-df-convert\" onclick=\"convertToInteractive('df-ecc7f32e-59c8-4abe-bc92-283bd4ac1efe')\"\n",
              "              title=\"Convert this dataframe to an interactive table.\"\n",
              "              style=\"display:none;\">\n",
              "        \n",
              "  <svg xmlns=\"http://www.w3.org/2000/svg\" height=\"24px\"viewBox=\"0 0 24 24\"\n",
              "       width=\"24px\">\n",
              "    <path d=\"M0 0h24v24H0V0z\" fill=\"none\"/>\n",
              "    <path d=\"M18.56 5.44l.94 2.06.94-2.06 2.06-.94-2.06-.94-.94-2.06-.94 2.06-2.06.94zm-11 1L8.5 8.5l.94-2.06 2.06-.94-2.06-.94L8.5 2.5l-.94 2.06-2.06.94zm10 10l.94 2.06.94-2.06 2.06-.94-2.06-.94-.94-2.06-.94 2.06-2.06.94z\"/><path d=\"M17.41 7.96l-1.37-1.37c-.4-.4-.92-.59-1.43-.59-.52 0-1.04.2-1.43.59L10.3 9.45l-7.72 7.72c-.78.78-.78 2.05 0 2.83L4 21.41c.39.39.9.59 1.41.59.51 0 1.02-.2 1.41-.59l7.78-7.78 2.81-2.81c.8-.78.8-2.07 0-2.86zM5.41 20L4 18.59l7.72-7.72 1.47 1.35L5.41 20z\"/>\n",
              "  </svg>\n",
              "      </button>\n",
              "      \n",
              "  <style>\n",
              "    .colab-df-container {\n",
              "      display:flex;\n",
              "      flex-wrap:wrap;\n",
              "      gap: 12px;\n",
              "    }\n",
              "\n",
              "    .colab-df-convert {\n",
              "      background-color: #E8F0FE;\n",
              "      border: none;\n",
              "      border-radius: 50%;\n",
              "      cursor: pointer;\n",
              "      display: none;\n",
              "      fill: #1967D2;\n",
              "      height: 32px;\n",
              "      padding: 0 0 0 0;\n",
              "      width: 32px;\n",
              "    }\n",
              "\n",
              "    .colab-df-convert:hover {\n",
              "      background-color: #E2EBFA;\n",
              "      box-shadow: 0px 1px 2px rgba(60, 64, 67, 0.3), 0px 1px 3px 1px rgba(60, 64, 67, 0.15);\n",
              "      fill: #174EA6;\n",
              "    }\n",
              "\n",
              "    [theme=dark] .colab-df-convert {\n",
              "      background-color: #3B4455;\n",
              "      fill: #D2E3FC;\n",
              "    }\n",
              "\n",
              "    [theme=dark] .colab-df-convert:hover {\n",
              "      background-color: #434B5C;\n",
              "      box-shadow: 0px 1px 3px 1px rgba(0, 0, 0, 0.15);\n",
              "      filter: drop-shadow(0px 1px 2px rgba(0, 0, 0, 0.3));\n",
              "      fill: #FFFFFF;\n",
              "    }\n",
              "  </style>\n",
              "\n",
              "      <script>\n",
              "        const buttonEl =\n",
              "          document.querySelector('#df-ecc7f32e-59c8-4abe-bc92-283bd4ac1efe button.colab-df-convert');\n",
              "        buttonEl.style.display =\n",
              "          google.colab.kernel.accessAllowed ? 'block' : 'none';\n",
              "\n",
              "        async function convertToInteractive(key) {\n",
              "          const element = document.querySelector('#df-ecc7f32e-59c8-4abe-bc92-283bd4ac1efe');\n",
              "          const dataTable =\n",
              "            await google.colab.kernel.invokeFunction('convertToInteractive',\n",
              "                                                     [key], {});\n",
              "          if (!dataTable) return;\n",
              "\n",
              "          const docLinkHtml = 'Like what you see? Visit the ' +\n",
              "            '<a target=\"_blank\" href=https://colab.research.google.com/notebooks/data_table.ipynb>data table notebook</a>'\n",
              "            + ' to learn more about interactive tables.';\n",
              "          element.innerHTML = '';\n",
              "          dataTable['output_type'] = 'display_data';\n",
              "          await google.colab.output.renderOutput(dataTable, element);\n",
              "          const docLink = document.createElement('div');\n",
              "          docLink.innerHTML = docLinkHtml;\n",
              "          element.appendChild(docLink);\n",
              "        }\n",
              "      </script>\n",
              "    </div>\n",
              "  </div>\n",
              "  "
            ]
          },
          "metadata": {},
          "execution_count": 30
        }
      ],
      "source": [
        "ratings.tail(10)"
      ]
    },
    {
      "cell_type": "markdown",
      "metadata": {
        "id": "GqqNN7heET7o"
      },
      "source": [
        "- indexing 과정이 끝났습니다.  \n",
        "다음으로 넘어갑니다."
      ]
    },
    {
      "cell_type": "markdown",
      "metadata": {
        "id": "Qrt8_oD6D-ya"
      },
      "source": [
        "- model에 넣어줄 csr_matrix를 만듭니다."
      ]
    },
    {
      "cell_type": "code",
      "execution_count": 31,
      "metadata": {
        "colab": {
          "base_uri": "https://localhost:8080/"
        },
        "id": "31C-1LiVD-Fw",
        "outputId": "7e710893-9937-4e64-c1e7-c51897d60684"
      },
      "outputs": [
        {
          "output_type": "execute_result",
          "data": {
            "text/plain": [
              "<6040x3628 sparse matrix of type '<class 'numpy.float64'>'\n",
              "\twith 836483 stored elements in Compressed Sparse Row format>"
            ]
          },
          "metadata": {},
          "execution_count": 31
        }
      ],
      "source": [
        "num_user = ratings['user_id'].nunique()\n",
        "num_movie = ratings['movie_id'].nunique()\n",
        "\n",
        "csr_data = csr_matrix((ratings['count'], (ratings['user_id'], ratings['movie_id'])), shape=(num_user, num_movie))\n",
        "csr_data"
      ]
    },
    {
      "cell_type": "markdown",
      "metadata": {
        "id": "N1oHGIGEOLQ8"
      },
      "source": [
        "- implicit 라이브러리에서 권장하는 환경설정이라고 합니다. 적용합니다."
      ]
    },
    {
      "cell_type": "code",
      "execution_count": 9,
      "metadata": {
        "id": "ArnExqIeEdKn"
      },
      "outputs": [],
      "source": [
        "# implicit 라이브러리에서 권장하는 환경설정\n",
        "os.environ['OPENBLAS_NUM_THREADS']='1'\n",
        "os.environ['KMP_DUPLICATE_LIB_OK']='True'\n",
        "os.environ['MKL_NUM_THREADS']='1'"
      ]
    },
    {
      "cell_type": "markdown",
      "metadata": {
        "id": "bZwcqQOEOLQ8"
      },
      "source": [
        "- default 값으로 하나 돌려봅니다."
      ]
    },
    {
      "cell_type": "code",
      "execution_count": 33,
      "metadata": {
        "id": "kZF_O0B_Efzq"
      },
      "outputs": [],
      "source": [
        "als_model = AlternatingLeastSquares(factors=100, \n",
        "                                    regularization=0.01, \n",
        "                                    use_gpu=False, \n",
        "                                    iterations=20, \n",
        "                                    dtype=np.float32)"
      ]
    },
    {
      "cell_type": "code",
      "execution_count": 34,
      "metadata": {
        "colab": {
          "base_uri": "https://localhost:8080/",
          "height": 49,
          "referenced_widgets": [
            "9316b87bf1bb4cc299dccb1e0ee3ba05",
            "a717546488124509865108725331dc16",
            "80be118a6b094e09baae8feb82584e89",
            "2e39fac79f3445d8bf7ffe1ca8e93ac6",
            "13947cbc424949e2b922749ed5cea0eb",
            "e315f5fdab9443c98372a6d1e84ded8c",
            "50cb8ae677454cd7834cee8b30075498",
            "a4cbde4bd98f4a859418089f363a9210",
            "d29fd5e41d3448d2b81fb2b58e57d95c",
            "305809a80cf14ffe8913f907caa0028b",
            "9eb60eb7229c44e0b70cd3a3844c9723"
          ]
        },
        "id": "WMZ_H9G3EyMa",
        "outputId": "9708e777-9fc6-413b-b6df-c2809ea7e792"
      },
      "outputs": [
        {
          "output_type": "display_data",
          "data": {
            "text/plain": [
              "  0%|          | 0/20 [00:00<?, ?it/s]"
            ],
            "application/vnd.jupyter.widget-view+json": {
              "version_major": 2,
              "version_minor": 0,
              "model_id": "9316b87bf1bb4cc299dccb1e0ee3ba05"
            }
          },
          "metadata": {}
        }
      ],
      "source": [
        "als_model.fit(csr_data)"
      ]
    },
    {
      "cell_type": "markdown",
      "metadata": {
        "id": "9RpOBtOxGft0"
      },
      "source": [
        "- 선호 목록에 추가한 Armageddon (1988)을 바탕으로 vector 값을 구해봅니다."
      ]
    },
    {
      "cell_type": "code",
      "execution_count": 35,
      "metadata": {
        "colab": {
          "base_uri": "https://localhost:8080/"
        },
        "id": "ms33cdT-hCsa",
        "outputId": "0db4f172-9a18-48d5-d56c-50f48f3a10fc"
      },
      "outputs": [
        {
          "output_type": "execute_result",
          "data": {
            "text/plain": [
              "1917"
            ]
          },
          "metadata": {},
          "execution_count": 35
        }
      ],
      "source": [
        "title_to_id('Armageddon (1998)')"
      ]
    },
    {
      "cell_type": "code",
      "execution_count": null,
      "metadata": {
        "id": "RNDhAPRZE8Zm"
      },
      "outputs": [],
      "source": [
        "JB, armageddon = user_to_idx['JB'], movie_to_idx[1917]\n",
        "JB_vector, armageddon_vector = als_model.user_factors[JB], als_model.item_factors[armageddon]"
      ]
    },
    {
      "cell_type": "code",
      "execution_count": null,
      "metadata": {
        "colab": {
          "base_uri": "https://localhost:8080/"
        },
        "id": "iditZ1GtFq9_",
        "outputId": "b8930a59-8f70-4a55-b55e-0bc9c0fe4b3e"
      },
      "outputs": [
        {
          "data": {
            "text/plain": [
              "array([-4.44164008e-01, -4.02949452e-01,  1.86932296e-01, -2.13885517e-03,\n",
              "        9.30703655e-02, -5.22963762e-01, -8.06503221e-02, -3.73859823e-01,\n",
              "        3.41973931e-01,  5.21368146e-01,  2.38106519e-01, -3.88485283e-01,\n",
              "        8.94590735e-01,  3.05407703e-01, -4.88455109e-02,  6.36280805e-04,\n",
              "       -3.90047014e-01, -2.53223777e-01,  4.06845987e-01,  4.96083468e-01,\n",
              "       -5.98426521e-01,  6.41442537e-01,  3.34863931e-01, -2.75767505e-01,\n",
              "       -1.20277189e-01,  2.70341057e-02, -3.11001595e-02,  8.39486793e-02,\n",
              "       -2.88106978e-01, -5.85094690e-01,  2.61917830e-01,  6.79334164e-01,\n",
              "       -9.89315659e-02,  1.38793692e-01,  8.05179000e-01,  4.59750414e-01,\n",
              "        7.42880553e-02,  1.08158481e+00,  3.00652146e-01,  2.67179459e-01,\n",
              "        3.35243493e-01,  4.58197147e-01, -4.91448134e-01, -4.66690868e-01,\n",
              "        1.35946751e-01, -3.44071895e-01,  3.91693741e-01,  2.25018904e-01,\n",
              "        6.41256928e-01,  6.62416577e-01,  1.85720041e-01,  3.72925282e-01,\n",
              "        1.53995492e-02, -9.07405913e-01, -2.89983481e-01, -7.87678659e-01,\n",
              "       -2.08285376e-01, -4.43177998e-01, -2.65606582e-01, -8.53086829e-01,\n",
              "       -6.56345665e-01, -1.34697873e-02,  2.85550237e-01, -1.02175631e-01,\n",
              "       -1.12935156e-01, -4.44379561e-02,  5.19153774e-02, -6.42064989e-01,\n",
              "       -7.99649715e-01,  2.83155907e-02, -3.35927755e-01,  4.04779971e-01,\n",
              "        4.63414729e-01,  9.06638563e-01, -1.86384600e-02,  6.16422780e-02,\n",
              "       -1.07299343e-01,  2.32465956e-02,  1.96373478e-01, -4.87701967e-02,\n",
              "       -2.12465256e-01,  5.39549768e-01,  3.20201427e-01, -5.52458405e-01,\n",
              "       -5.14343143e-01, -1.11981794e-01, -1.92607418e-01, -6.12068355e-01,\n",
              "       -8.37778226e-02, -3.27109881e-02, -7.05116838e-02, -3.15584004e-01,\n",
              "        1.43341160e+00, -5.46761230e-02,  7.88293555e-02,  7.53164887e-02,\n",
              "        1.88182309e-01,  8.76933038e-01, -4.92991269e-01,  1.47287935e-01],\n",
              "      dtype=float32)"
            ]
          },
          "execution_count": 38,
          "metadata": {},
          "output_type": "execute_result"
        }
      ],
      "source": [
        "JB_vector"
      ]
    },
    {
      "cell_type": "code",
      "execution_count": null,
      "metadata": {
        "colab": {
          "base_uri": "https://localhost:8080/"
        },
        "id": "BvA0rL2MFtZY",
        "outputId": "f755009f-56ba-4956-cbfc-43988b5a79a9"
      },
      "outputs": [
        {
          "data": {
            "text/plain": [
              "array([ 0.00537482, -0.02362628,  0.03980782, -0.01414971,  0.01085595,\n",
              "       -0.01338397, -0.01309045, -0.00879021,  0.02548362,  0.0047816 ,\n",
              "        0.02119253,  0.00561666,  0.02033501,  0.0288763 ,  0.00182499,\n",
              "        0.01010282, -0.00653202, -0.00719941,  0.01819043,  0.00459005,\n",
              "       -0.0105461 ,  0.01031779,  0.01914252, -0.00876866,  0.0249516 ,\n",
              "        0.00700519,  0.01409683,  0.02920774,  0.00147034, -0.001305  ,\n",
              "       -0.01005778,  0.018454  , -0.00286368,  0.01137534,  0.02268412,\n",
              "       -0.00784142, -0.01754197,  0.00242531,  0.01677715, -0.00357406,\n",
              "        0.01016031,  0.00622253,  0.00279659, -0.01177014, -0.00308549,\n",
              "        0.00167194,  0.02190161,  0.00288333,  0.00455669, -0.00609255,\n",
              "        0.01945307, -0.00626901, -0.01353874, -0.00764308,  0.00517271,\n",
              "       -0.00397776,  0.00346013, -0.00273255, -0.03417049,  0.02986474,\n",
              "       -0.01890315,  0.01343407,  0.02622847,  0.00834461,  0.00860169,\n",
              "        0.01297094,  0.00092974, -0.01957732, -0.04373533,  0.01339467,\n",
              "        0.00194101, -0.00909691, -0.01363247,  0.00682743,  0.00952841,\n",
              "        0.00306789, -0.0153201 ,  0.01149982,  0.00688803,  0.00251007,\n",
              "        0.01348969, -0.00485479,  0.01917827,  0.00489314, -0.02850407,\n",
              "        0.02803912,  0.00507867,  0.00562317, -0.03217145, -0.00307943,\n",
              "        0.01642533,  0.01199622,  0.01380375, -0.0061249 ,  0.02948296,\n",
              "        0.0135255 ,  0.00751231,  0.03833561,  0.01319699,  0.0031778 ],\n",
              "      dtype=float32)"
            ]
          },
          "execution_count": 39,
          "metadata": {},
          "output_type": "execute_result"
        }
      ],
      "source": [
        "armageddon_vector"
      ]
    },
    {
      "cell_type": "markdown",
      "metadata": {
        "id": "XWT3aETeGkhz"
      },
      "source": [
        "- 두 vector 값의 곱이 1에 가까운 vector를 기준으로 추천시스템을 비교해보려 합니다"
      ]
    },
    {
      "cell_type": "code",
      "execution_count": null,
      "metadata": {
        "colab": {
          "base_uri": "https://localhost:8080/"
        },
        "id": "V5s0933BFxO-",
        "outputId": "a666f4d7-f0a3-4cf3-b7b5-2e302abb71a8"
      },
      "outputs": [
        {
          "name": "stdout",
          "output_type": "stream",
          "text": [
            "0.26569548\n"
          ]
        }
      ],
      "source": [
        "model_vector = np.dot(JB_vector, armageddon_vector)\n",
        "print(model_vector)"
      ]
    },
    {
      "cell_type": "markdown",
      "metadata": {
        "id": "P_bC84fuOLQ9"
      },
      "source": [
        "- vector 값이 너무 작아 몇개의 hyper parameter를 바꿔가며 값을 확인합니다."
      ]
    },
    {
      "cell_type": "markdown",
      "metadata": {
        "id": "pUA-ty5VG9pW"
      },
      "source": [
        "#### 1.4.1 Factor"
      ]
    },
    {
      "cell_type": "markdown",
      "metadata": {
        "id": "E-1gYeHlOLQ9"
      },
      "source": [
        "- 우선 확인할 것은 factor입니다.\n",
        "- 참고로 colab에서 오류가 발생해 다른 환경에서 돌리고 가져왔습니다.  \n",
        "그래서 모델의 학습 시간 표기가 0으로 초기화 되어 있습니다."
      ]
    },
    {
      "cell_type": "markdown",
      "metadata": {
        "id": "kdupo081Huaj"
      },
      "source": [
        "##### 1) factors 500"
      ]
    },
    {
      "cell_type": "markdown",
      "metadata": {
        "id": "o-IRdxCtOLQ9"
      },
      "source": [
        "- 기본 default는 100 이었습니다.  \n",
        "5배 늘려 500부터 시작합니다."
      ]
    },
    {
      "cell_type": "code",
      "execution_count": 36,
      "metadata": {
        "id": "SG4C5nvZHIOm"
      },
      "outputs": [],
      "source": [
        "als_model_1 = AlternatingLeastSquares(factors=500, \n",
        "                                    regularization=0.01, \n",
        "                                    use_gpu=False, \n",
        "                                    iterations=20, \n",
        "                                    dtype=np.float32)"
      ]
    },
    {
      "cell_type": "code",
      "execution_count": 37,
      "metadata": {
        "colab": {
          "base_uri": "https://localhost:8080/",
          "height": 49,
          "referenced_widgets": [
            "758512d1040841e6920d55a64e68ca9d",
            "a874b969c8eb44e985eba8901ca27bee",
            "4fad4374dd9045cc85f9e349cd17a329",
            "bbd13a031d5e41889bdb24220cffc744",
            "cbbee3b23aca40528da58953a43d3c34",
            "f197993cdc384c44bf5a26090f8aa8f6",
            "581cc77150e94f04b7d7660cfb56fcd3",
            "24ae72782f1c48f88180996395438a97",
            "d0d8f7a4305649bfb737f57591a3c119",
            "4af07a3bb4854c23b6ca58eae9b392bb",
            "26936fcc41f94883815181179337ba0d"
          ]
        },
        "id": "ckxom7KGHIOn",
        "outputId": "e3ca2392-c899-4f60-bc82-006a9eb96767"
      },
      "outputs": [
        {
          "output_type": "display_data",
          "data": {
            "text/plain": [
              "  0%|          | 0/20 [00:00<?, ?it/s]"
            ],
            "application/vnd.jupyter.widget-view+json": {
              "version_major": 2,
              "version_minor": 0,
              "model_id": "758512d1040841e6920d55a64e68ca9d"
            }
          },
          "metadata": {}
        }
      ],
      "source": [
        "als_model_1.fit(csr_data)"
      ]
    },
    {
      "cell_type": "code",
      "execution_count": 38,
      "metadata": {
        "id": "N8ej1i83HfX6"
      },
      "outputs": [],
      "source": [
        "JB, armageddon = user_to_idx['JB'], movie_to_idx[1917]\n",
        "JB_vector_1, armageddon_vector_1 = als_model_1.user_factors[JB], als_model_1.item_factors[armageddon]"
      ]
    },
    {
      "cell_type": "code",
      "execution_count": 39,
      "metadata": {
        "colab": {
          "base_uri": "https://localhost:8080/"
        },
        "id": "neX-Dv6-2j9P",
        "outputId": "c80886ff-c7cb-4c33-b5b0-de4736f6b05a"
      },
      "outputs": [
        {
          "output_type": "stream",
          "name": "stdout",
          "text": [
            "0.76836175\n"
          ]
        }
      ],
      "source": [
        "model_vector_1 = np.dot(JB_vector_1, armageddon_vector_1)\n",
        "print(model_vector_1)"
      ]
    },
    {
      "cell_type": "markdown",
      "metadata": {
        "id": "lpjBBAktJSxN"
      },
      "source": [
        "- vector 값이 1에 가까워지고 있습니다.  \n",
        "  factor를 100으로 줬을 때 보다 시간은 더 걸리지만(약 30초), 매우 큰 상승폭을 보여줍니다."
      ]
    },
    {
      "cell_type": "markdown",
      "metadata": {
        "id": "iQAEUNRqHiFU"
      },
      "source": [
        "##### 2) factors 1000"
      ]
    },
    {
      "cell_type": "code",
      "execution_count": 70,
      "metadata": {
        "id": "56iLafBgHQvS"
      },
      "outputs": [],
      "source": [
        "als_model_2 = AlternatingLeastSquares(factors=1000, \n",
        "                                    regularization=0.01, \n",
        "                                    use_gpu=False, \n",
        "                                    iterations=20, \n",
        "                                    dtype=np.float32)"
      ]
    },
    {
      "cell_type": "code",
      "execution_count": 71,
      "metadata": {
        "colab": {
          "base_uri": "https://localhost:8080/",
          "height": 49,
          "referenced_widgets": [
            "d7db0be40e334045a59161df1b8543a7",
            "3b7d1d985cfa4d168b149e41662c7a16",
            "6d4e14604dca45d5bf877ed05e06d7a6",
            "49718db6733843859967b74562fd32eb",
            "83cabcdb044e4b398ee6854b8d740f69",
            "5d50c71b30d0462c98c5a6fcdf3738b8",
            "288329f20df24dca87d438a02e6d9555",
            "0366236882b242b48c754a4d9b61a3f8",
            "60f6b412235942b18755826a418d6c75",
            "1c0d8478dcb64714b2e4587c716fd337",
            "87cb102c076f4829bd670f3dc1161c08"
          ]
        },
        "id": "wqkppr8cHWeI",
        "outputId": "0a3212f7-a81c-488b-aa79-b4f62a3a69f2",
        "scrolled": true
      },
      "outputs": [
        {
          "output_type": "display_data",
          "data": {
            "text/plain": [
              "  0%|          | 0/20 [00:00<?, ?it/s]"
            ],
            "application/vnd.jupyter.widget-view+json": {
              "version_major": 2,
              "version_minor": 0,
              "model_id": "d7db0be40e334045a59161df1b8543a7"
            }
          },
          "metadata": {}
        }
      ],
      "source": [
        "als_model_2.fit(csr_data)"
      ]
    },
    {
      "cell_type": "code",
      "execution_count": 72,
      "metadata": {
        "id": "7yG3H-b1Hjug"
      },
      "outputs": [],
      "source": [
        "JB, armageddon = user_to_idx['JB'], movie_to_idx[1917]\n",
        "JB_vector_2, armageddon_vector_2 = als_model_2.user_factors[JB], als_model_2.item_factors[armageddon]"
      ]
    },
    {
      "cell_type": "code",
      "execution_count": 73,
      "metadata": {
        "colab": {
          "base_uri": "https://localhost:8080/"
        },
        "id": "Mk2X745r2p32",
        "outputId": "6aabc977-31d3-4852-d0f1-df667e345673"
      },
      "outputs": [
        {
          "output_type": "stream",
          "name": "stdout",
          "text": [
            "0.9441125\n"
          ]
        }
      ],
      "source": [
        "model_vector_2 = np.dot(JB_vector_2, armageddon_vector_2)\n",
        "print(model_vector_2)"
      ]
    },
    {
      "cell_type": "markdown",
      "metadata": {
        "id": "4DDhR8ZXKAUL"
      },
      "source": [
        "- 약 1분 10초의 시간이 걸립니다만, factor의 값이 vector에 큰 영향을 끼치는 것을 알 수 있습니다."
      ]
    },
    {
      "cell_type": "markdown",
      "metadata": {
        "id": "u0hodUlCHid_"
      },
      "source": [
        "##### 3) factors 2000"
      ]
    },
    {
      "cell_type": "code",
      "execution_count": 40,
      "metadata": {
        "id": "NHde67FTHT_k"
      },
      "outputs": [],
      "source": [
        "als_model_3 = AlternatingLeastSquares(factors=2000, \n",
        "                                    regularization=0.01, \n",
        "                                    use_gpu=False, \n",
        "                                    iterations=20, \n",
        "                                    dtype=np.float32)"
      ]
    },
    {
      "cell_type": "code",
      "execution_count": 41,
      "metadata": {
        "colab": {
          "base_uri": "https://localhost:8080/",
          "height": 49,
          "referenced_widgets": [
            "7f3f6dc1262b416ba7c61dcd7ac8e718",
            "577e97f524204b02b196a75584e34ab3",
            "1b09169681c54bf586b666b6a43325f0",
            "cb383aa6dad543fa81e909988b0b693b",
            "d91346943fb54cf3879f56dfe3c32dac",
            "3d73e8d39b8a4eebb637eba408138da7",
            "d5aa7891e5894303ad4414aaf3f839ef",
            "c535d44cf7564616baadb7f4cce90f37",
            "38be9427b9d242a59fa2a331466e42e2",
            "fd8fe099923c49478abfb6079baa8bc1",
            "16caa477c21a4e71a6d0faa08dc26e6c"
          ]
        },
        "id": "Ud-tdS2oHW1K",
        "outputId": "d5b2ba6d-5659-4af8-8fc3-f61ee8b5a5eb"
      },
      "outputs": [
        {
          "output_type": "display_data",
          "data": {
            "text/plain": [
              "  0%|          | 0/20 [00:00<?, ?it/s]"
            ],
            "application/vnd.jupyter.widget-view+json": {
              "version_major": 2,
              "version_minor": 0,
              "model_id": "7f3f6dc1262b416ba7c61dcd7ac8e718"
            }
          },
          "metadata": {}
        }
      ],
      "source": [
        "als_model_3.fit(csr_data)"
      ]
    },
    {
      "cell_type": "code",
      "execution_count": 42,
      "metadata": {
        "id": "O6trIl40HkD0"
      },
      "outputs": [],
      "source": [
        "JB, armageddon = user_to_idx['JB'], movie_to_idx[1917]\n",
        "JB_vector_3, armageddon_vector_3 = als_model_3.user_factors[JB], als_model_3.item_factors[armageddon]"
      ]
    },
    {
      "cell_type": "code",
      "execution_count": 43,
      "metadata": {
        "colab": {
          "base_uri": "https://localhost:8080/"
        },
        "id": "WZCS7tqvHjFW",
        "outputId": "5ba3935e-de88-46e3-ffd4-4e2ca6b28f3a"
      },
      "outputs": [
        {
          "output_type": "stream",
          "name": "stdout",
          "text": [
            "0.99443215\n"
          ]
        }
      ],
      "source": [
        "model_vector_3 = np.dot(JB_vector_3, armageddon_vector_3)\n",
        "print(model_vector_3)"
      ]
    },
    {
      "cell_type": "markdown",
      "metadata": {
        "id": "OGX3WLkKK4pb"
      },
      "source": [
        "- 약 3분 20초 소요됩니다.  \n",
        "거의 1에 근접한 vector 값을 구할 수 있습니다."
      ]
    },
    {
      "cell_type": "code",
      "execution_count": null,
      "metadata": {
        "id": "SjzmHS3C8Urr"
      },
      "outputs": [],
      "source": [
        "labels_1 = ['f_100', 'f_500', 'f_1000', 'f_2000']\n",
        "values_1 = [model_vector, model_vector_1, model_vector_2, model_vector_3]"
      ]
    },
    {
      "cell_type": "code",
      "execution_count": null,
      "metadata": {
        "colab": {
          "base_uri": "https://localhost:8080/",
          "height": 296
        },
        "id": "aUiSM4xO8PT6",
        "outputId": "525ecbf0-b8c2-43e4-fe53-d1dc6536b959"
      },
      "outputs": [
        {
          "data": {
            "image/png": "[encoded data removed]",
            "text/plain": [
              "<Figure size 432x288 with 1 Axes>"
            ]
          },
          "metadata": {
            "needs_background": "light"
          },
          "output_type": "display_data"
        }
      ],
      "source": [
        "plt.title('Vector according to the change of factors')\n",
        "plt.xlabel('Model')\n",
        "plt.ylabel('Vector')\n",
        "plt.bar(range(len(values_1)), values_1)\n",
        "plt.xticks(range(len(labels_1)), labels_1)\n",
        "plt.show()"
      ]
    },
    {
      "cell_type": "markdown",
      "metadata": {
        "id": "rvT3HB7wUvM_"
      },
      "source": [
        "- 사실상 factor 값이 1000을 넘어서면 큰 의미는 없어 보입니다."
      ]
    },
    {
      "cell_type": "markdown",
      "metadata": {
        "id": "anSFrClYHEyM"
      },
      "source": [
        "#### 1.4.2 Iteration"
      ]
    },
    {
      "cell_type": "markdown",
      "metadata": {
        "id": "4xa28HJa4J-n"
      },
      "source": [
        "- iteration의 default는 20이었습니다.  \n",
        "변화를 주며 확인해봅니다."
      ]
    },
    {
      "cell_type": "markdown",
      "metadata": {
        "id": "m8C16gv5H5o8"
      },
      "source": [
        "##### 1) Iteration 50"
      ]
    },
    {
      "cell_type": "code",
      "execution_count": null,
      "metadata": {
        "id": "gqzt5TzWH5o8"
      },
      "outputs": [],
      "source": [
        "als_model_4 = AlternatingLeastSquares(factors=100, \n",
        "                                    regularization=0.01, \n",
        "                                    use_gpu=False, \n",
        "                                    iterations=50, \n",
        "                                    dtype=np.float32)"
      ]
    },
    {
      "cell_type": "code",
      "execution_count": null,
      "metadata": {
        "colab": {
          "base_uri": "https://localhost:8080/",
          "height": 49,
          "referenced_widgets": [
            "8aaf9f58db0847e09d60445fb9f997ab",
            "8b3215815ba24914be37417d8482a6b9",
            "2281801321994e45a8e08663c7895fcb",
            "e428417e66c74c5eb221ad2aa0f1ab83",
            "0c4eece2b38c4028bc4f41c8d557d31b",
            "811bf5141d984707bacc2ba374050f63",
            "978eb118aa5e466c9c33765764995515",
            "e88859494e274f9aa4edaf636188db5c",
            "c85cef967933494ea2172baa122986c7",
            "b997a360aabe448c9f9025fcb5092144",
            "8be368d255a14d25893c7e375c243ff1"
          ]
        },
        "id": "ahSt1lQBH5o8",
        "outputId": "1d33e72e-be56-42b8-d803-c67cea97ba21"
      },
      "outputs": [
        {
          "data": {
            "application/vnd.jupyter.widget-view+json": {
              "model_id": "8aaf9f58db0847e09d60445fb9f997ab",
              "version_major": 2,
              "version_minor": 0
            },
            "text/plain": [
              "  0%|          | 0/50 [00:00<?, ?it/s]"
            ]
          },
          "metadata": {},
          "output_type": "display_data"
        }
      ],
      "source": [
        "als_model_4.fit(csr_data)"
      ]
    },
    {
      "cell_type": "code",
      "execution_count": null,
      "metadata": {
        "id": "uluQic_hH5o8"
      },
      "outputs": [],
      "source": [
        "JB, armageddon = user_to_idx['JB'], movie_to_idx[1917]\n",
        "JB_vector_4, armageddon_vector_4 = als_model_4.user_factors[JB], als_model_4.item_factors[armageddon]"
      ]
    },
    {
      "cell_type": "code",
      "execution_count": null,
      "metadata": {
        "colab": {
          "base_uri": "https://localhost:8080/"
        },
        "id": "bAm7srQfH5o8",
        "outputId": "773b6bac-5bab-483e-966a-f58dace7de50"
      },
      "outputs": [
        {
          "name": "stdout",
          "output_type": "stream",
          "text": [
            "0.23266563\n"
          ]
        }
      ],
      "source": [
        "model_vector_4 = np.dot(JB_vector_4, armageddon_vector_4)\n",
        "print(model_vector_4)"
      ]
    },
    {
      "cell_type": "markdown",
      "metadata": {
        "id": "7fFD0-PjLDd0"
      },
      "source": [
        "- 생각보다 보다 낮은 vector 값을 보여줍니다.  \n",
        "시간은 약 35초 걸렸습니다."
      ]
    },
    {
      "cell_type": "markdown",
      "metadata": {
        "id": "Kfn0XOwRH5o8"
      },
      "source": [
        "##### 2) Iteration 100"
      ]
    },
    {
      "cell_type": "code",
      "execution_count": null,
      "metadata": {
        "id": "AhSEckJzH5o8"
      },
      "outputs": [],
      "source": [
        "als_model_5 = AlternatingLeastSquares(factors=100, \n",
        "                                    regularization=0.01, \n",
        "                                    use_gpu=False, \n",
        "                                    iterations=100, \n",
        "                                    dtype=np.float32)"
      ]
    },
    {
      "cell_type": "code",
      "execution_count": null,
      "metadata": {
        "colab": {
          "base_uri": "https://localhost:8080/",
          "height": 49,
          "referenced_widgets": [
            "1f396b0752884c228ee943e74799765e",
            "32c534cefa4b4b44845d5e81f7fa7a51",
            "2aa9c18ff5b148bdb72b6f1766f0242d",
            "7fb3f45cb53448a1b869a2c9ab5c9cf2",
            "947be05ecf4e499cb88a29aa8db22aa0",
            "62dce41d8a4945f4ac90446bd5ee5419",
            "f33e61b4a01548db8af94e4fbbfa4900",
            "7c52f410c8c542279ea11fdb32c9978c",
            "1a107080a9c34add91058497383e3814",
            "298b99e4aee44847af0dd266b7828241",
            "be35ea85ec2f413889e74a14c49109ed"
          ]
        },
        "id": "tH5OnaLOH5o9",
        "outputId": "6a46a0e2-5545-47b3-9a02-40d95e6d351c"
      },
      "outputs": [
        {
          "data": {
            "application/vnd.jupyter.widget-view+json": {
              "model_id": "1f396b0752884c228ee943e74799765e",
              "version_major": 2,
              "version_minor": 0
            },
            "text/plain": [
              "  0%|          | 0/100 [00:00<?, ?it/s]"
            ]
          },
          "metadata": {},
          "output_type": "display_data"
        }
      ],
      "source": [
        "als_model_5.fit(csr_data)"
      ]
    },
    {
      "cell_type": "code",
      "execution_count": null,
      "metadata": {
        "id": "ECJAjfZeH5o9"
      },
      "outputs": [],
      "source": [
        "JB, armageddon = user_to_idx['JB'], movie_to_idx[1917]\n",
        "JB_vector_5, armageddon_vector_5 = als_model_5.user_factors[JB], als_model_5.item_factors[armageddon]"
      ]
    },
    {
      "cell_type": "code",
      "execution_count": null,
      "metadata": {
        "colab": {
          "base_uri": "https://localhost:8080/"
        },
        "id": "lmlvLVGJH5o9",
        "outputId": "0e72f8da-5ef6-443d-fccd-4ab11dd884be"
      },
      "outputs": [
        {
          "name": "stdout",
          "output_type": "stream",
          "text": [
            "0.22882096\n"
          ]
        }
      ],
      "source": [
        "model_vector_5 = np.dot(JB_vector_5, armageddon_vector_5)\n",
        "print(model_vector_5)"
      ]
    },
    {
      "cell_type": "markdown",
      "metadata": {
        "id": "FDKxETb0LkTq"
      },
      "source": [
        "- 이걸로 확신이 듭니다.  \n",
        "시간은 약 1분 10초 정도 걸렸으며, iteration과 vector는 큰 연관이 없습니다."
      ]
    },
    {
      "cell_type": "markdown",
      "metadata": {
        "id": "FBpGpnRXH5o9"
      },
      "source": [
        "##### 3) Iteration 200"
      ]
    },
    {
      "cell_type": "code",
      "execution_count": null,
      "metadata": {
        "id": "vbN6Z0AQH5o9"
      },
      "outputs": [],
      "source": [
        "als_model_6 = AlternatingLeastSquares(factors=100, \n",
        "                                    regularization=0.01, \n",
        "                                    use_gpu=False, \n",
        "                                    iterations=200, \n",
        "                                    dtype=np.float32)"
      ]
    },
    {
      "cell_type": "code",
      "execution_count": null,
      "metadata": {
        "colab": {
          "base_uri": "https://localhost:8080/",
          "height": 49,
          "referenced_widgets": [
            "380eb15f12ba4811a084171ec223a453",
            "7f6094495e7d4472999d47378bb24c50",
            "252fccbd59574228b990372afc335d78",
            "84431dda4c6e4957a470c6ecb98639f0",
            "94dc72782ca6437686ae9f532e0e79a4",
            "865f81bcc49c413a8f70e2815e5be80c",
            "6bbb84aa7ad6476c8c26a552cdf205ff",
            "c059f9114561498886a7e9e69751ce4c",
            "04a1269d0949475bb074a1eea2a87306",
            "5e4b9c80b90d4c0da98a0e930ce9edfa",
            "4c380d2a83574d459e1b1f1f73db9262"
          ]
        },
        "id": "xyBBZ0KAH5o9",
        "outputId": "50045b2b-633d-453d-daf4-d5752835e7d7"
      },
      "outputs": [
        {
          "data": {
            "application/vnd.jupyter.widget-view+json": {
              "model_id": "380eb15f12ba4811a084171ec223a453",
              "version_major": 2,
              "version_minor": 0
            },
            "text/plain": [
              "  0%|          | 0/200 [00:00<?, ?it/s]"
            ]
          },
          "metadata": {},
          "output_type": "display_data"
        }
      ],
      "source": [
        "als_model_6.fit(csr_data)"
      ]
    },
    {
      "cell_type": "code",
      "execution_count": null,
      "metadata": {
        "id": "HBTOpTvMH5o9"
      },
      "outputs": [],
      "source": [
        "JB, armageddon = user_to_idx['JB'], movie_to_idx[1917]\n",
        "JB_vector_6, armageddon_vector_6 = als_model_6.user_factors[JB], als_model_6.item_factors[armageddon]"
      ]
    },
    {
      "cell_type": "code",
      "execution_count": null,
      "metadata": {
        "colab": {
          "base_uri": "https://localhost:8080/"
        },
        "id": "cfzmyhaAH5o9",
        "outputId": "af9877b2-cbd9-44d9-82e8-472a1fbe7137"
      },
      "outputs": [
        {
          "name": "stdout",
          "output_type": "stream",
          "text": [
            "0.23234822\n"
          ]
        }
      ],
      "source": [
        "model_vector_6 = np.dot(JB_vector_6, armageddon_vector_6)\n",
        "print(model_vector_6)"
      ]
    },
    {
      "cell_type": "markdown",
      "metadata": {
        "id": "Rw6jszn6LsHJ"
      },
      "source": [
        "- 약 2분 20초가 소요됩니다.  \n",
        "시간만 잡아먹습니다."
      ]
    },
    {
      "cell_type": "code",
      "execution_count": null,
      "metadata": {
        "id": "LbVSlQy46oM3"
      },
      "outputs": [],
      "source": [
        "labels_2 = ['iter_20', 'iter_50', 'iter_100', 'iter_200']\n",
        "values_2 = [model_vector, model_vector_4, model_vector_5, model_vector_6]"
      ]
    },
    {
      "cell_type": "code",
      "execution_count": null,
      "metadata": {
        "colab": {
          "base_uri": "https://localhost:8080/",
          "height": 296
        },
        "id": "TPk_gE0V5tVv",
        "outputId": "a9e03490-effc-420b-a220-ab6a7696b984"
      },
      "outputs": [
        {
          "data": {
            "image/png": "[encoded data removed]",
            "text/plain": [
              "<Figure size 432x288 with 1 Axes>"
            ]
          },
          "metadata": {
            "needs_background": "light"
          },
          "output_type": "display_data"
        }
      ],
      "source": [
        "plt.title('Vector according to the change of iteration')\n",
        "plt.xlabel('Model')\n",
        "plt.ylabel('Vector')\n",
        "plt.bar(range(len(values_2)), values_2)\n",
        "plt.xticks(range(len(labels_2)), labels_2)\n",
        "plt.show()"
      ]
    },
    {
      "cell_type": "markdown",
      "metadata": {
        "id": "XELY_KaiU_8S"
      },
      "source": [
        "- iteration을 높인다고 vector 값이 개선되지 않습니다. "
      ]
    },
    {
      "cell_type": "markdown",
      "metadata": {
        "id": "YwlVRw3xLupN"
      },
      "source": [
        "### 1.5 Conclusion"
      ]
    },
    {
      "cell_type": "markdown",
      "metadata": {
        "id": "-gs70dPeOLRG"
      },
      "source": [
        "- 위에서 학습한 모델을 비슷한 영화를 뽑아보고 추천을 받아봅니다."
      ]
    },
    {
      "cell_type": "markdown",
      "metadata": {
        "id": "EDXvIYC2L6tm"
      },
      "source": [
        "#### 1.5.1 Similar movies"
      ]
    },
    {
      "cell_type": "markdown",
      "metadata": {
        "id": "wfaDOJ04OLRG"
      },
      "source": [
        "- 입력한 하나의 영화와 비슷한 영화를 학습한 모델에서 뽑아봅니다.  \n",
        "- 그 유명한 'Armageddon (1998)'입니다.\n",
        "- 0.24의 vector 유사도를 보여준 als_model은 armageddon과 비슷한 어떤 영화를 뽑아낼지 알아봅니다."
      ]
    },
    {
      "cell_type": "code",
      "execution_count": null,
      "metadata": {
        "colab": {
          "base_uri": "https://localhost:8080/"
        },
        "id": "DAB95Jc8N4Sn",
        "outputId": "a0d821fd-4f8a-491a-f976-48d9a6a57bc6",
        "scrolled": false
      },
      "outputs": [
        {
          "name": "stdout",
          "output_type": "stream",
          "text": [
            "1917\n",
            "133\n"
          ]
        },
        {
          "data": {
            "text/plain": [
              "(array([ 133, 1058,  954,   86,  605,  564,  160,  895, 1190,  878,  125,\n",
              "         432,   98,  630,  775], dtype=int32),\n",
              " array([0.9999999 , 0.73578185, 0.5645807 , 0.5621081 , 0.5527017 ,\n",
              "        0.5504981 , 0.50633866, 0.50527686, 0.49026272, 0.47094873,\n",
              "        0.46899095, 0.46353215, 0.45904455, 0.45411924, 0.44231752],\n",
              "       dtype=float32))"
            ]
          },
          "execution_count": 87,
          "metadata": {},
          "output_type": "execute_result"
        }
      ],
      "source": [
        "favorite_movie = 'Armageddon (1998)'\n",
        "favorite_movie_id = title_to_id(favorite_movie)\n",
        "print(favorite_movie_id)\n",
        "my_movie_id = movie_to_idx[favorite_movie_id]\n",
        "print(my_movie_id)\n",
        "similar_movie = als_model.similar_items(my_movie_id, N=15)\n",
        "similar_movie"
      ]
    },
    {
      "cell_type": "code",
      "execution_count": null,
      "metadata": {
        "id": "DnfcnOxlhCsn"
      },
      "outputs": [],
      "source": [
        "#movie_to_idx 를 뒤집어, index로부터 title을 얻는 dict를 생성합니다. \n",
        "idx_to_movie = {v:k for k,v in movie_to_idx.items()}\n",
        "my_similar = [idx_to_movie[i] for i in similar_movie[0]]"
      ]
    },
    {
      "cell_type": "code",
      "execution_count": null,
      "metadata": {
        "colab": {
          "base_uri": "https://localhost:8080/"
        },
        "id": "8ZlQdEf0hCsn",
        "outputId": "26c48d7e-b5c0-424b-845b-1f3f931b682e"
      },
      "outputs": [
        {
          "name": "stdout",
          "output_type": "stream",
          "text": [
            "[1917, 1876, 1779, 1544, 316, 1831, 780, 1608, 185, 160, 1552, 1573, 1690, 2094, 1676]\n"
          ]
        }
      ],
      "source": [
        "print(my_similar)"
      ]
    },
    {
      "cell_type": "markdown",
      "metadata": {
        "id": "Zqx2N5KWOLRG"
      },
      "source": [
        "- movie_id로 받았으니 title로 바꿔서 확인합니다."
      ]
    },
    {
      "cell_type": "code",
      "execution_count": null,
      "metadata": {
        "colab": {
          "base_uri": "https://localhost:8080/"
        },
        "id": "jXPQNmIlOLRG",
        "outputId": "b71e2f78-8c85-4329-e86e-ac1875facf2c",
        "scrolled": true
      },
      "outputs": [
        {
          "data": {
            "text/plain": [
              "['Armageddon (1998)',\n",
              " 'Deep Impact (1998)',\n",
              " 'Sphere (1998)',\n",
              " 'Lost World: Jurassic Park, The (1997)',\n",
              " 'Stargate (1994)',\n",
              " 'Lost in Space (1998)',\n",
              " 'Independence Day (ID4) (1996)',\n",
              " 'Air Force One (1997)',\n",
              " 'Net, The (1995)',\n",
              " 'Congo (1995)',\n",
              " 'Con Air (1997)',\n",
              " 'Face/Off (1997)',\n",
              " 'Alien: Resurrection (1997)',\n",
              " 'Rocketeer, The (1991)',\n",
              " 'Starship Troopers (1997)']"
            ]
          },
          "execution_count": 94,
          "metadata": {},
          "output_type": "execute_result"
        }
      ],
      "source": [
        "[id_to_title(i) for i in my_similar]"
      ]
    },
    {
      "cell_type": "markdown",
      "metadata": {
        "id": "A1x1A-a_Vjwk"
      },
      "source": [
        "- 내적이 1인 Armageddon (1998)을 기준으로 15개의 similar 목록을 만들었습니다.\n",
        "- 어느정도 스타일이 비슷한 영화들이 뜹니다.  "
      ]
    },
    {
      "cell_type": "markdown",
      "metadata": {
        "id": "B8sFl5LfOLRH"
      },
      "source": [
        "- 위 과정을 함수화하여 다른 모델들은 어떤 차이가 있는지 비교합니다."
      ]
    },
    {
      "cell_type": "markdown",
      "metadata": {
        "id": "Ix_sfsV-OLRH"
      },
      "source": [
        "##### 1) Armageddon (1998)"
      ]
    },
    {
      "cell_type": "markdown",
      "metadata": {
        "id": "bcHMu1V6Rfys"
      },
      "source": [
        "- 각 모델별로 vector값이 다르므로 다 다르게 나올 것 같습니다.  \n",
        "확인해봅니다."
      ]
    },
    {
      "cell_type": "markdown",
      "metadata": {
        "id": "9qbcKj7pQxK6"
      },
      "source": [
        "- als_model(vector=0.24)"
      ]
    },
    {
      "cell_type": "code",
      "execution_count": null,
      "metadata": {
        "colab": {
          "base_uri": "https://localhost:8080/"
        },
        "id": "D6kyom68OLRH",
        "outputId": "c68861f8-d5f0-40e8-8fca-13c01393c99e",
        "scrolled": true
      },
      "outputs": [
        {
          "name": "stdout",
          "output_type": "stream",
          "text": [
            "Armageddon (1998)\n",
            "Deep Impact (1998)\n",
            "Sphere (1998)\n",
            "Lost World: Jurassic Park, The (1997)\n",
            "Stargate (1994)\n",
            "Lost in Space (1998)\n",
            "Independence Day (ID4) (1996)\n",
            "Air Force One (1997)\n",
            "Net, The (1995)\n",
            "Congo (1995)\n"
          ]
        }
      ],
      "source": [
        "similar_movies('Armageddon (1998)', als_model, 10)"
      ]
    },
    {
      "cell_type": "markdown",
      "metadata": {
        "id": "O1ZuUzXgQ2uI"
      },
      "source": [
        "- als_model_1(vector=0.78)"
      ]
    },
    {
      "cell_type": "code",
      "execution_count": null,
      "metadata": {
        "colab": {
          "base_uri": "https://localhost:8080/"
        },
        "id": "BGa2AvSEOLRH",
        "outputId": "d8d03c26-4e41-4fc3-ff3d-267b01e8f0da",
        "scrolled": true
      },
      "outputs": [
        {
          "name": "stdout",
          "output_type": "stream",
          "text": [
            "Armageddon (1998)\n",
            "On Any Sunday (1971)\n",
            "Back Stage (2000)\n",
            "Benji the Hunted (1987)\n",
            "Kids of the Round Table (1995)\n",
            "Bluebeard (1944)\n",
            "They Made Me a Criminal (1939)\n",
            "Walking Dead, The (1995)\n",
            "Zachariah (1971)\n",
            "Big Bully (1996)\n"
          ]
        }
      ],
      "source": [
        "similar_movies('Armageddon (1998)', als_model_1, 10)"
      ]
    },
    {
      "cell_type": "markdown",
      "metadata": {
        "id": "yL0HuLmEQ41m"
      },
      "source": [
        "- als_model_3(vector=0.98)"
      ]
    },
    {
      "cell_type": "code",
      "execution_count": null,
      "metadata": {
        "colab": {
          "base_uri": "https://localhost:8080/"
        },
        "id": "PCThyJCUOLRI",
        "outputId": "f3e8486b-1e78-47d6-ada8-2a2e16fa665b",
        "scrolled": true
      },
      "outputs": [
        {
          "name": "stdout",
          "output_type": "stream",
          "text": [
            "Armageddon (1998)\n",
            "Broken Vessels (1998)\n",
            "Relative Fear (1994)\n",
            "Back Stage (2000)\n",
            "Master Ninja I (1984)\n",
            "Sweet Nothing (1995)\n",
            "Talking About Sex (1994)\n",
            "Stag (1997)\n",
            "Tainted (1998)\n",
            "I Don't Want to Talk About It (De eso no se habla) (1993)\n"
          ]
        }
      ],
      "source": [
        "similar_movies('Armageddon (1998)', als_model_3, 10)"
      ]
    },
    {
      "cell_type": "markdown",
      "metadata": {
        "id": "CrZkDIj3RrqU"
      },
      "source": [
        "- vector에 따라 결과가 매우 상이합니다."
      ]
    },
    {
      "cell_type": "markdown",
      "metadata": {
        "id": "dZh_PZqUQ8w6"
      },
      "source": [
        "##### 2) Shawshank Redemption, The (1994)"
      ]
    },
    {
      "cell_type": "markdown",
      "metadata": {
        "id": "pP679RzvR1xf"
      },
      "source": [
        "- 이번에는 Shawshank Redemption로 확인합니다."
      ]
    },
    {
      "cell_type": "markdown",
      "metadata": {
        "id": "XPUjmDlVRJ-V"
      },
      "source": [
        "- als_model(vector=0.24)"
      ]
    },
    {
      "cell_type": "code",
      "execution_count": null,
      "metadata": {
        "colab": {
          "base_uri": "https://localhost:8080/"
        },
        "id": "FXvrUXYIOLRI",
        "outputId": "0967e47a-1007-48d0-b5a8-4cf5af53b424"
      },
      "outputs": [
        {
          "name": "stdout",
          "output_type": "stream",
          "text": [
            "Shawshank Redemption, The (1994)\n",
            "Silence of the Lambs, The (1991)\n",
            "Schindler's List (1993)\n",
            "Pulp Fiction (1994)\n",
            "Good Will Hunting (1997)\n",
            "Fargo (1996)\n",
            "GoodFellas (1990)\n",
            "Saving Private Ryan (1998)\n",
            "Dead Man Walking (1995)\n",
            "Usual Suspects, The (1995)\n"
          ]
        }
      ],
      "source": [
        "similar_movies('Shawshank Redemption, The (1994)', als_model, 10)"
      ]
    },
    {
      "cell_type": "markdown",
      "metadata": {
        "id": "bFhQrELqRMc4"
      },
      "source": [
        "- als_model_1(vector=0.78)"
      ]
    },
    {
      "cell_type": "code",
      "execution_count": null,
      "metadata": {
        "colab": {
          "base_uri": "https://localhost:8080/"
        },
        "id": "x1eCpAz2OLRI",
        "outputId": "70fe31a4-d153-4498-9f9e-b4b7bea55dbf"
      },
      "outputs": [
        {
          "name": "stdout",
          "output_type": "stream",
          "text": [
            "Shawshank Redemption, The (1994)\n",
            "Big Bully (1996)\n",
            "Rage: Carrie 2, The (1999)\n",
            "Blood, Guts, Bullets and Octane (1998)\n",
            "Brother Minister: The Assassination of Malcolm X (1994)\n",
            "Paris, France (1993)\n",
            "Ulysses (Ulisse) (1954)\n",
            "Match, The (1999)\n",
            "Jerry & Tom (1998)\n",
            "Children of the Corn IV: The Gathering (1996)\n"
          ]
        }
      ],
      "source": [
        "similar_movies('Shawshank Redemption, The (1994)', als_model_1, 10)"
      ]
    },
    {
      "cell_type": "markdown",
      "metadata": {
        "id": "dCzGCtHzRU9o"
      },
      "source": [
        "- als_model_3(vector=0.98)"
      ]
    },
    {
      "cell_type": "code",
      "execution_count": null,
      "metadata": {
        "colab": {
          "base_uri": "https://localhost:8080/"
        },
        "id": "iKC1eHXQOLRI",
        "outputId": "e0d53dd3-6f8d-4986-9dcd-6c479d2f8b03"
      },
      "outputs": [
        {
          "name": "stdout",
          "output_type": "stream",
          "text": [
            "Shawshank Redemption, The (1994)\n",
            "Relative Fear (1994)\n",
            "Master Ninja I (1984)\n",
            "Broken Vessels (1998)\n",
            "Stag (1997)\n",
            "Number Seventeen (1932)\n",
            "Talking About Sex (1994)\n",
            "Zero Kelvin (Kjærlighetens kjøtere) (1995)\n",
            "Talk of Angels (1998)\n",
            "Ripe (1996)\n"
          ]
        }
      ],
      "source": [
        "similar_movies('Shawshank Redemption, The (1994)', als_model_3, 10)"
      ]
    },
    {
      "cell_type": "markdown",
      "metadata": {
        "id": "--ZvXid4R8PA"
      },
      "source": [
        "- 마찬가지입니다.  \n",
        "각 모델별 vector 값에 따른 결과가 매우 다릅니다."
      ]
    },
    {
      "cell_type": "markdown",
      "metadata": {
        "id": "JMpKPS06RZ7O"
      },
      "source": [
        "##### 3) Usual Suspects, The (1995)"
      ]
    },
    {
      "cell_type": "markdown",
      "metadata": {
        "id": "qzY_ILX_SFzF"
      },
      "source": [
        "- ratings에 5개를 올렸으니 전부 활용합니다."
      ]
    },
    {
      "cell_type": "markdown",
      "metadata": {
        "id": "XgHFfBmYRYLb"
      },
      "source": [
        "- als_model(vector=0.24)"
      ]
    },
    {
      "cell_type": "code",
      "execution_count": null,
      "metadata": {
        "colab": {
          "base_uri": "https://localhost:8080/"
        },
        "id": "NVSLIRZoOLRJ",
        "outputId": "1be0199b-0d46-474f-b32a-5fc644237c73"
      },
      "outputs": [
        {
          "name": "stdout",
          "output_type": "stream",
          "text": [
            "Usual Suspects, The (1995)\n",
            "Reservoir Dogs (1992)\n",
            "Pulp Fiction (1994)\n",
            "L.A. Confidential (1997)\n",
            "Fargo (1996)\n",
            "Seven (Se7en) (1995)\n",
            "GoodFellas (1990)\n",
            "Silence of the Lambs, The (1991)\n",
            "Sixth Sense, The (1999)\n",
            "Shawshank Redemption, The (1994)\n"
          ]
        }
      ],
      "source": [
        "similar_movies('Usual Suspects, The (1995)', als_model, 10)"
      ]
    },
    {
      "cell_type": "markdown",
      "metadata": {
        "id": "BweaBMD_RNiK"
      },
      "source": [
        "- als_model_1(vector=0.78)"
      ]
    },
    {
      "cell_type": "code",
      "execution_count": null,
      "metadata": {
        "colab": {
          "base_uri": "https://localhost:8080/"
        },
        "id": "GzpciyKVOLRJ",
        "outputId": "1dad17c7-8a91-4b8e-fc81-c0a1a594e9a6"
      },
      "outputs": [
        {
          "name": "stdout",
          "output_type": "stream",
          "text": [
            "Usual Suspects, The (1995)\n",
            "Last Klezmer: Leopold Kozlowski, His Life and Music, The (1995)\n",
            "Bittersweet Motel (2000)\n",
            "Condition Red (1995)\n",
            "Time of the Gypsies (Dom za vesanje) (1989)\n",
            "Snowriders (1996)\n",
            "Match, The (1999)\n",
            "Regret to Inform (1998)\n",
            "Snows of Kilimanjaro, The (1952)\n",
            "Held Up (2000)\n"
          ]
        }
      ],
      "source": [
        "similar_movies('Usual Suspects, The (1995)', als_model_1, 10)"
      ]
    },
    {
      "cell_type": "markdown",
      "metadata": {
        "id": "AaIjeiA5RVmp"
      },
      "source": [
        "- als_model_3(vector=0.98)"
      ]
    },
    {
      "cell_type": "code",
      "execution_count": null,
      "metadata": {
        "colab": {
          "base_uri": "https://localhost:8080/"
        },
        "id": "bQXQo9PROLRJ",
        "outputId": "872f44d1-d9a3-4e9d-8454-d076f7f18d75"
      },
      "outputs": [
        {
          "name": "stdout",
          "output_type": "stream",
          "text": [
            "Usual Suspects, The (1995)\n",
            "Master Ninja I (1984)\n",
            "Relative Fear (1994)\n",
            "Stag (1997)\n",
            "Broken Vessels (1998)\n",
            "Target (1995)\n",
            "Sweet Nothing (1995)\n",
            "Tainted (1998)\n",
            "Number Seventeen (1932)\n",
            "Talking About Sex (1994)\n"
          ]
        }
      ],
      "source": [
        "similar_movies('Usual Suspects, The (1995)', als_model_3, 10)"
      ]
    },
    {
      "cell_type": "markdown",
      "metadata": {
        "id": "-OJabRy5STmt"
      },
      "source": [
        "- 역시 위와 결과는 동일합니다."
      ]
    },
    {
      "cell_type": "markdown",
      "metadata": {
        "id": "A47_IrU7MLXw"
      },
      "source": [
        "#### 1.5.2 Likeable movies"
      ]
    },
    {
      "cell_type": "markdown",
      "metadata": {
        "id": "TrNnyMhcSWis"
      },
      "source": [
        "- 이번에는 추천을 받아보겠습니다.\n",
        "- 추천은 user의 id로 받으므로 한 번만 확인하는 것으로 진행합니다."
      ]
    },
    {
      "cell_type": "code",
      "execution_count": 57,
      "metadata": {
        "colab": {
          "base_uri": "https://localhost:8080/"
        },
        "id": "96aWYYwhxYIw",
        "outputId": "3f964829-6d0d-4f6b-a144-d85d6e6fca24",
        "scrolled": false
      },
      "outputs": [
        {
          "output_type": "execute_result",
          "data": {
            "text/plain": [
              "(array([ 23, 128, 244,  51,  67, 246,  48, 336, 116, 280], dtype=int32),\n",
              " array([0.4985877 , 0.48052132, 0.4306749 , 0.40571484, 0.36224395,\n",
              "        0.35710245, 0.328529  , 0.29263538, 0.273111  , 0.26979333],\n",
              "       dtype=float32))"
            ]
          },
          "metadata": {},
          "execution_count": 57
        }
      ],
      "source": [
        "user = user_to_idx['JB']\n",
        "# recommend에서는 user*item CSR Matrix를 받습니다.\n",
        "movie_recommended = als_model.recommend(user, csr_data[user], N=10, filter_already_liked_items=True)\n",
        "movie_recommended"
      ]
    },
    {
      "cell_type": "code",
      "execution_count": 58,
      "metadata": {
        "id": "lWeo_k94hCsv"
      },
      "outputs": [],
      "source": [
        "idx_to_movie = {v:k for k,v in movie_to_idx.items()}\n",
        "my_recommended = [idx_to_movie[i] for i in movie_recommended[0]]"
      ]
    },
    {
      "cell_type": "code",
      "execution_count": 59,
      "metadata": {
        "colab": {
          "base_uri": "https://localhost:8080/"
        },
        "id": "GlnPQmSChCsv",
        "outputId": "8053c170-cd6d-46e8-dca1-605147b12cbc"
      },
      "outputs": [
        {
          "output_type": "execute_result",
          "data": {
            "text/plain": [
              "[527, 593, 296, 608, 1213, 1617, 2028, 1089, 1265, 1704]"
            ]
          },
          "metadata": {},
          "execution_count": 59
        }
      ],
      "source": [
        "my_recommended"
      ]
    },
    {
      "cell_type": "code",
      "execution_count": 60,
      "metadata": {
        "colab": {
          "base_uri": "https://localhost:8080/"
        },
        "id": "gLq1FBiphCsv",
        "outputId": "8466c092-3b99-4aa7-fb56-f84a6aefcbec"
      },
      "outputs": [
        {
          "output_type": "execute_result",
          "data": {
            "text/plain": [
              "[\"Schindler's List (1993)\",\n",
              " 'Silence of the Lambs, The (1991)',\n",
              " 'Pulp Fiction (1994)',\n",
              " 'Fargo (1996)',\n",
              " 'GoodFellas (1990)',\n",
              " 'L.A. Confidential (1997)',\n",
              " 'Saving Private Ryan (1998)',\n",
              " 'Reservoir Dogs (1992)',\n",
              " 'Groundhog Day (1993)',\n",
              " 'Good Will Hunting (1997)']"
            ]
          },
          "metadata": {},
          "execution_count": 60
        }
      ],
      "source": [
        "[id_to_title(i) for i in my_recommended]"
      ]
    },
    {
      "cell_type": "markdown",
      "source": [
        "- 함수로 확인해봅니다."
      ],
      "metadata": {
        "id": "U7graxsYGsWH"
      }
    },
    {
      "cell_type": "markdown",
      "metadata": {
        "id": "MRa21IcBZ5h5"
      },
      "source": [
        "##### 1) model(vector=0.26)"
      ]
    },
    {
      "cell_type": "code",
      "execution_count": 62,
      "metadata": {
        "colab": {
          "base_uri": "https://localhost:8080/"
        },
        "id": "JwoVoiBCOLRL",
        "outputId": "2d04157b-a2f5-4351-a253-2e4a9739f35f"
      },
      "outputs": [
        {
          "output_type": "stream",
          "name": "stdout",
          "text": [
            "Schindler's List (1993)\n",
            "Silence of the Lambs, The (1991)\n",
            "Pulp Fiction (1994)\n",
            "Fargo (1996)\n",
            "GoodFellas (1990)\n",
            "L.A. Confidential (1997)\n",
            "Saving Private Ryan (1998)\n",
            "Reservoir Dogs (1992)\n",
            "Groundhog Day (1993)\n",
            "Good Will Hunting (1997)\n"
          ]
        }
      ],
      "source": [
        "recommended_movies('JB', als_model, 10)"
      ]
    },
    {
      "cell_type": "code",
      "source": [
        "movie_recommended = als_model.recommend(user, csr_data[user], N=10, filter_already_liked_items=True)\n",
        "movie_recommended[1]"
      ],
      "metadata": {
        "colab": {
          "base_uri": "https://localhost:8080/"
        },
        "id": "z78KvqsDFBHY",
        "outputId": "beadd626-a63c-4fde-95e9-87223f9eab84"
      },
      "execution_count": 69,
      "outputs": [
        {
          "output_type": "execute_result",
          "data": {
            "text/plain": [
              "array([0.4985877 , 0.48052132, 0.4306749 , 0.40571484, 0.36224395,\n",
              "       0.35710245, 0.328529  , 0.29263538, 0.273111  , 0.26979333],\n",
              "      dtype=float32)"
            ]
          },
          "metadata": {},
          "execution_count": 69
        }
      ]
    },
    {
      "cell_type": "markdown",
      "source": [
        "- 제가 좋아할 만한 리스트를 잘 뽑아준 것 같습니다.  \n",
        "사실 영화가 너무 옛날 영화라 잘 모르겠습니다."
      ],
      "metadata": {
        "id": "0m4PQ4sgGu9j"
      }
    },
    {
      "cell_type": "markdown",
      "metadata": {
        "id": "jNHAO1j1aC_b"
      },
      "source": [
        "##### 2) model_1(vector=0.78)"
      ]
    },
    {
      "cell_type": "code",
      "execution_count": 63,
      "metadata": {
        "colab": {
          "base_uri": "https://localhost:8080/"
        },
        "id": "XTgdO_PVOLRL",
        "outputId": "5b375752-54d2-41ed-a4fa-e75db485e163"
      },
      "outputs": [
        {
          "output_type": "stream",
          "name": "stdout",
          "text": [
            "Deep Impact (1998)\n",
            "Twister (1996)\n",
            "Pulp Fiction (1994)\n",
            "Home Alone (1990)\n",
            "Nutty Professor, The (1996)\n",
            "Independence Day (ID4) (1996)\n",
            "Homeward Bound: The Incredible Journey (1993)\n",
            "Patch Adams (1998)\n",
            "City Slickers II: The Legend of Curly's Gold (1994)\n",
            "To Kill a Mockingbird (1962)\n"
          ]
        }
      ],
      "source": [
        "recommended_movies('JB', als_model_1, 10)"
      ]
    },
    {
      "cell_type": "code",
      "execution_count": 65,
      "metadata": {
        "colab": {
          "base_uri": "https://localhost:8080/"
        },
        "id": "IN6Oi2RfCY4v",
        "outputId": "ed58583d-58a6-48e9-edd6-1465b3047e41"
      },
      "outputs": [
        {
          "output_type": "execute_result",
          "data": {
            "text/plain": [
              "array([0.16341497, 0.15564507, 0.1449492 , 0.14389941, 0.1325438 ,\n",
              "       0.1272307 , 0.12363154, 0.11389615, 0.11375739, 0.11052623],\n",
              "      dtype=float32)"
            ]
          },
          "metadata": {},
          "execution_count": 65
        }
      ],
      "source": [
        "movie_recommended = als_model_1.recommend(user, csr_data[user], N=10, filter_already_liked_items=True)\n",
        "movie_recommended[1]"
      ]
    },
    {
      "cell_type": "markdown",
      "source": [
        "- 제 취향에 잘 맞춘 것 같습니다.  \n",
        "물론 너무 옛날 영화입니다..."
      ],
      "metadata": {
        "id": "qb4y_gL3G9Hl"
      }
    },
    {
      "cell_type": "markdown",
      "metadata": {
        "id": "etRVT2ooaDml"
      },
      "source": [
        "##### 3) model_3(vector=0.98)"
      ]
    },
    {
      "cell_type": "code",
      "execution_count": 66,
      "metadata": {
        "id": "ZzP1uyyXOLRL",
        "outputId": "35dc0481-6066-4833-bb98-91e96e9c34ab",
        "colab": {
          "base_uri": "https://localhost:8080/"
        }
      },
      "outputs": [
        {
          "output_type": "stream",
          "name": "stdout",
          "text": [
            "Home Alone 3 (1997)\n",
            "Home Alone (1990)\n",
            "Little Rascals, The (1994)\n",
            "Twin Dragons (Shuang long hui) (1992)\n",
            "Disturbing Behavior (1998)\n",
            "City Slickers II: The Legend of Curly's Gold (1994)\n",
            "Vampires (1998)\n",
            "Blind Date (1987)\n",
            "Freeway (1996)\n",
            "Pocahontas (1995)\n"
          ]
        }
      ],
      "source": [
        "recommended_movies('JB', als_model_3, 10)"
      ]
    },
    {
      "cell_type": "code",
      "source": [
        "movie_recommended = als_model_3.recommend(user, csr_data[user], N=10, filter_already_liked_items=True)\n",
        "movie_recommended[1]"
      ],
      "metadata": {
        "colab": {
          "base_uri": "https://localhost:8080/"
        },
        "id": "CLbd2sMnE8sw",
        "outputId": "c6bbff06-eed0-4bc2-9c3c-f5d5d04b2d84"
      },
      "execution_count": 68,
      "outputs": [
        {
          "output_type": "execute_result",
          "data": {
            "text/plain": [
              "array([0.07976422, 0.0572465 , 0.05666886, 0.05176216, 0.04823886,\n",
              "       0.04302571, 0.04293301, 0.04078   , 0.03964026, 0.0396    ],\n",
              "      dtype=float32)"
            ]
          },
          "metadata": {},
          "execution_count": 68
        }
      ]
    },
    {
      "cell_type": "markdown",
      "source": [
        "- Home Alone 3 (1997) 라니요... 실망입니다.  \n",
        "이번에 recommend에서 내적을 따로 뽑아본 이유가 여기에 있습니다.  \n",
        "vector가 높다고 반드시 recommend를 잘하는건 아니라는 걸 확인할 수 있습니다.  \n",
        "유사도가 많이 차이나는 것 같습니다."
      ],
      "metadata": {
        "id": "lU3QG2gxHH6d"
      }
    },
    {
      "cell_type": "markdown",
      "metadata": {
        "id": "h4604LC-aQrj"
      },
      "source": [
        "#### 1.5.3 explain"
      ]
    },
    {
      "cell_type": "markdown",
      "metadata": {
        "id": "I50K2kNlaXFr"
      },
      "source": [
        "- 이번에는 기여도를 살펴봅니다.  \n",
        "기어도는 default 모델 하나만 살펴보고 넘어갑니다."
      ]
    },
    {
      "cell_type": "code",
      "source": [
        "explain_movies('Silence of the Lambs, The (1991)', als_model)"
      ],
      "metadata": {
        "colab": {
          "base_uri": "https://localhost:8080/"
        },
        "id": "BsePLwfMFdfz",
        "outputId": "ea6277af-da19-45ad-f145-040268c57087"
      },
      "execution_count": 76,
      "outputs": [
        {
          "output_type": "stream",
          "name": "stdout",
          "text": [
            "0.4756407259467534\n",
            "[(167, 0.32431462859783106), (259, 0.1288145117134676), (171, 0.036780945719554405), (1091, -0.0004595413649545704), (133, -0.013809818719145111)]\n"
          ]
        }
      ]
    },
    {
      "cell_type": "code",
      "execution_count": null,
      "metadata": {
        "id": "o6grNwiyCY4w",
        "outputId": "f1d56df8-46af-420c-e71b-15c203d3e6ef"
      },
      "outputs": [
        {
          "data": {
            "text/plain": [
              "['Shawshank Redemption, The (1994)',\n",
              " 'Usual Suspects, The (1995)',\n",
              " 'Forrest Gump (1994)',\n",
              " 'Home Alone 2: Lost in New York (1992)',\n",
              " 'Armageddon (1998)']"
            ]
          },
          "execution_count": 158,
          "metadata": {},
          "output_type": "execute_result"
        }
      ],
      "source": [
        "mylist_idx = [167, 259, 171, 1091, 133]\n",
        "idx_to_movie = {v:k for k,v in movie_to_idx.items()}\n",
        "mylist_name_2 = [idx_to_movie[i] for i in mylist_idx]\n",
        "[id_to_title(i) for i in mylist_name_2]"
      ]
    },
    {
      "cell_type": "markdown",
      "source": [
        "- Silence of the Lambs, The (1991)의 내적은 0.4756 입니다.\n",
        "- 추천해주는데 가장 영향이 큰 영화는 Shawshank Redemption, The (1994)로 0.3243입니다.\n",
        "- 반대로 Armageddon (1998)은 유사도가 많이 떨어지는지 음수 값을 보입니다(-0.013809818719145111)  "
      ],
      "metadata": {
        "id": "fXaldnvYFw6D"
      }
    },
    {
      "cell_type": "markdown",
      "metadata": {
        "id": "MeiTJaSw_G0j"
      },
      "source": [
        "### 1.6 Add Data"
      ]
    },
    {
      "cell_type": "markdown",
      "metadata": {
        "id": "DO06OT9b_Gxt"
      },
      "source": [
        "- 데이터가 너무 적습니다.  \n",
        "너무 옛날 영화만 추천해 주는게 불만입니다!  \n",
        "이번에는 데이터를 추가해서 살펴봅니다."
      ]
    },
    {
      "cell_type": "markdown",
      "metadata": {
        "id": "NEwMn0bt_GrV"
      },
      "source": [
        "- Movielens에서 2021년도 데이터를 받습니다.  \n",
        "ratings는 1.37GB, movie 정보가 있는 metadata는 17.1MB 입니다."
      ]
    },
    {
      "cell_type": "markdown",
      "metadata": {
        "id": "in7kQixGcrLm"
      },
      "source": [
        "#### 1.6.1 Data load"
      ]
    },
    {
      "cell_type": "code",
      "execution_count": 9,
      "metadata": {
        "id": "vB0xnCadhCsz"
      },
      "outputs": [],
      "source": [
        "rating_2_file_path='/gdrive/My Drive/Colab Notebooks/ml-2021/ratings.json'\n",
        "movie_2_file_path='/gdrive/My Drive/Colab Notebooks/ml-2021/metadata_updated.json'"
      ]
    },
    {
      "cell_type": "markdown",
      "metadata": {
        "id": "vS2-08cCbWTO"
      },
      "source": [
        "- 이걸 한번에 DataFrame으로 열면 너무 오랜 시간이 소요됩니다. 일단 json파일을 5줄만 불러서 살펴봅니다."
      ]
    },
    {
      "cell_type": "code",
      "execution_count": 10,
      "metadata": {
        "colab": {
          "base_uri": "https://localhost:8080/"
        },
        "id": "RxCN7R3_hCsz",
        "outputId": "6802c7af-701c-4676-d74b-e8b5665b7344",
        "scrolled": true
      },
      "outputs": [
        {
          "output_type": "stream",
          "name": "stdout",
          "text": [
            "5\n",
            "{\"item_id\": 5, \"user_id\": 997206, \"rating\": 3.0}\n",
            "\n",
            "{\"item_id\": 10, \"user_id\": 997206, \"rating\": 4.0}\n",
            "\n",
            "{\"item_id\": 13, \"user_id\": 997206, \"rating\": 4.0}\n",
            "\n",
            "{\"item_id\": 17, \"user_id\": 997206, \"rating\": 5.0}\n",
            "\n",
            "{\"item_id\": 21, \"user_id\": 997206, \"rating\": 4.0}\n",
            "\n"
          ]
        }
      ],
      "source": [
        "N = 5\n",
        "with open(rating_2_file_path, encoding='utf-8') as myfile:\n",
        "    head = [next(myfile) for x in range(N)]\n",
        "print(len(head))\n",
        "for l in head:\n",
        "    print(l)"
      ]
    },
    {
      "cell_type": "markdown",
      "metadata": {
        "id": "dkjVkWembfoA"
      },
      "source": [
        "- 대충 key와 value를 볼 수 있습니다.\n",
        "- json을 한 줄씩 읽어서 리스트 형태로 저장하게끔 만듭니다."
      ]
    },
    {
      "cell_type": "code",
      "execution_count": 11,
      "metadata": {
        "id": "FEde2dYIhCsz"
      },
      "outputs": [],
      "source": [
        "def yield_json(path):\n",
        "    with open(path, 'r', encoding='utf-8-sig') as f: \n",
        "        for line in f:\n",
        "            data = json.loads(line)\n",
        "            yield data['item_id'],data['user_id'],data['rating']"
      ]
    },
    {
      "cell_type": "markdown",
      "metadata": {
        "id": "RaRqpuHFbqWq"
      },
      "source": [
        "- 함수를 이용해 ratings 안에 column name을 지정해서 넣습니다."
      ]
    },
    {
      "cell_type": "code",
      "execution_count": 12,
      "metadata": {
        "id": "9Q8nmbo2hCsz",
        "scrolled": true
      },
      "outputs": [],
      "source": [
        "data = yield_json(rating_2_file_path)"
      ]
    },
    {
      "cell_type": "code",
      "execution_count": 13,
      "metadata": {
        "id": "XHvFxSakhCsz"
      },
      "outputs": [],
      "source": [
        "ratings = pd.DataFrame.from_records(list(data), columns = ['item_id', 'user_id', 'rating'])"
      ]
    },
    {
      "cell_type": "code",
      "execution_count": 14,
      "metadata": {
        "colab": {
          "base_uri": "https://localhost:8080/",
          "height": 206
        },
        "id": "4Q-lyCadhCs0",
        "outputId": "83901bd7-4f95-4197-e6b2-1d6aa07016e6",
        "scrolled": false
      },
      "outputs": [
        {
          "output_type": "execute_result",
          "data": {
            "text/plain": [
              "          item_id  user_id  rating\n",
              "28490111   104211   187144     1.5\n",
              "28490112   104243   187144     3.5\n",
              "28490113   104374   187144     3.5\n",
              "28490114   104841   187144     3.0\n",
              "28490115   104913   187144     4.0"
            ],
            "text/html": [
              "\n",
              "  <div id=\"df-c38d7a5a-7524-4ee7-a85c-be9b76a50314\">\n",
              "    <div class=\"colab-df-container\">\n",
              "      <div>\n",
              "<style scoped>\n",
              "    .dataframe tbody tr th:only-of-type {\n",
              "        vertical-align: middle;\n",
              "    }\n",
              "\n",
              "    .dataframe tbody tr th {\n",
              "        vertical-align: top;\n",
              "    }\n",
              "\n",
              "    .dataframe thead th {\n",
              "        text-align: right;\n",
              "    }\n",
              "</style>\n",
              "<table border=\"1\" class=\"dataframe\">\n",
              "  <thead>\n",
              "    <tr style=\"text-align: right;\">\n",
              "      <th></th>\n",
              "      <th>item_id</th>\n",
              "      <th>user_id</th>\n",
              "      <th>rating</th>\n",
              "    </tr>\n",
              "  </thead>\n",
              "  <tbody>\n",
              "    <tr>\n",
              "      <th>28490111</th>\n",
              "      <td>104211</td>\n",
              "      <td>187144</td>\n",
              "      <td>1.5</td>\n",
              "    </tr>\n",
              "    <tr>\n",
              "      <th>28490112</th>\n",
              "      <td>104243</td>\n",
              "      <td>187144</td>\n",
              "      <td>3.5</td>\n",
              "    </tr>\n",
              "    <tr>\n",
              "      <th>28490113</th>\n",
              "      <td>104374</td>\n",
              "      <td>187144</td>\n",
              "      <td>3.5</td>\n",
              "    </tr>\n",
              "    <tr>\n",
              "      <th>28490114</th>\n",
              "      <td>104841</td>\n",
              "      <td>187144</td>\n",
              "      <td>3.0</td>\n",
              "    </tr>\n",
              "    <tr>\n",
              "      <th>28490115</th>\n",
              "      <td>104913</td>\n",
              "      <td>187144</td>\n",
              "      <td>4.0</td>\n",
              "    </tr>\n",
              "  </tbody>\n",
              "</table>\n",
              "</div>\n",
              "      <button class=\"colab-df-convert\" onclick=\"convertToInteractive('df-c38d7a5a-7524-4ee7-a85c-be9b76a50314')\"\n",
              "              title=\"Convert this dataframe to an interactive table.\"\n",
              "              style=\"display:none;\">\n",
              "        \n",
              "  <svg xmlns=\"http://www.w3.org/2000/svg\" height=\"24px\"viewBox=\"0 0 24 24\"\n",
              "       width=\"24px\">\n",
              "    <path d=\"M0 0h24v24H0V0z\" fill=\"none\"/>\n",
              "    <path d=\"M18.56 5.44l.94 2.06.94-2.06 2.06-.94-2.06-.94-.94-2.06-.94 2.06-2.06.94zm-11 1L8.5 8.5l.94-2.06 2.06-.94-2.06-.94L8.5 2.5l-.94 2.06-2.06.94zm10 10l.94 2.06.94-2.06 2.06-.94-2.06-.94-.94-2.06-.94 2.06-2.06.94z\"/><path d=\"M17.41 7.96l-1.37-1.37c-.4-.4-.92-.59-1.43-.59-.52 0-1.04.2-1.43.59L10.3 9.45l-7.72 7.72c-.78.78-.78 2.05 0 2.83L4 21.41c.39.39.9.59 1.41.59.51 0 1.02-.2 1.41-.59l7.78-7.78 2.81-2.81c.8-.78.8-2.07 0-2.86zM5.41 20L4 18.59l7.72-7.72 1.47 1.35L5.41 20z\"/>\n",
              "  </svg>\n",
              "      </button>\n",
              "      \n",
              "  <style>\n",
              "    .colab-df-container {\n",
              "      display:flex;\n",
              "      flex-wrap:wrap;\n",
              "      gap: 12px;\n",
              "    }\n",
              "\n",
              "    .colab-df-convert {\n",
              "      background-color: #E8F0FE;\n",
              "      border: none;\n",
              "      border-radius: 50%;\n",
              "      cursor: pointer;\n",
              "      display: none;\n",
              "      fill: #1967D2;\n",
              "      height: 32px;\n",
              "      padding: 0 0 0 0;\n",
              "      width: 32px;\n",
              "    }\n",
              "\n",
              "    .colab-df-convert:hover {\n",
              "      background-color: #E2EBFA;\n",
              "      box-shadow: 0px 1px 2px rgba(60, 64, 67, 0.3), 0px 1px 3px 1px rgba(60, 64, 67, 0.15);\n",
              "      fill: #174EA6;\n",
              "    }\n",
              "\n",
              "    [theme=dark] .colab-df-convert {\n",
              "      background-color: #3B4455;\n",
              "      fill: #D2E3FC;\n",
              "    }\n",
              "\n",
              "    [theme=dark] .colab-df-convert:hover {\n",
              "      background-color: #434B5C;\n",
              "      box-shadow: 0px 1px 3px 1px rgba(0, 0, 0, 0.15);\n",
              "      filter: drop-shadow(0px 1px 2px rgba(0, 0, 0, 0.3));\n",
              "      fill: #FFFFFF;\n",
              "    }\n",
              "  </style>\n",
              "\n",
              "      <script>\n",
              "        const buttonEl =\n",
              "          document.querySelector('#df-c38d7a5a-7524-4ee7-a85c-be9b76a50314 button.colab-df-convert');\n",
              "        buttonEl.style.display =\n",
              "          google.colab.kernel.accessAllowed ? 'block' : 'none';\n",
              "\n",
              "        async function convertToInteractive(key) {\n",
              "          const element = document.querySelector('#df-c38d7a5a-7524-4ee7-a85c-be9b76a50314');\n",
              "          const dataTable =\n",
              "            await google.colab.kernel.invokeFunction('convertToInteractive',\n",
              "                                                     [key], {});\n",
              "          if (!dataTable) return;\n",
              "\n",
              "          const docLinkHtml = 'Like what you see? Visit the ' +\n",
              "            '<a target=\"_blank\" href=https://colab.research.google.com/notebooks/data_table.ipynb>data table notebook</a>'\n",
              "            + ' to learn more about interactive tables.';\n",
              "          element.innerHTML = '';\n",
              "          dataTable['output_type'] = 'display_data';\n",
              "          await google.colab.output.renderOutput(dataTable, element);\n",
              "          const docLink = document.createElement('div');\n",
              "          docLink.innerHTML = docLinkHtml;\n",
              "          element.appendChild(docLink);\n",
              "        }\n",
              "      </script>\n",
              "    </div>\n",
              "  </div>\n",
              "  "
            ]
          },
          "metadata": {},
          "execution_count": 14
        }
      ],
      "source": [
        "ratings.tail(5)"
      ]
    },
    {
      "cell_type": "markdown",
      "metadata": {
        "id": "MmroWRLYb0TX"
      },
      "source": [
        "- 잘 들어왔습니다.\n",
        "- 바로 metadata에도 적용합니다."
      ]
    },
    {
      "cell_type": "code",
      "execution_count": 15,
      "metadata": {
        "colab": {
          "base_uri": "https://localhost:8080/"
        },
        "id": "XEf2xKiGhCs0",
        "outputId": "6605f5e7-390e-4506-80fc-73ad5d53fafc",
        "scrolled": true
      },
      "outputs": [
        {
          "output_type": "stream",
          "name": "stdout",
          "text": [
            "5\n",
            "{\"title\": \"Toy Story (1995)\", \"directedBy\": \"John Lasseter\", \"starring\": \"Tim Allen, Tom Hanks, Don Rickles, Jim Varney, John Ratzenberger, Wallace Shawn, Laurie Metcalf, John Morris, R. Lee Ermey, Annie Potts\", \"avgRating\": 3.89146, \"imdbId\": \"0114709\", \"item_id\": 1}\n",
            "\n",
            "{\"title\": \"Jumanji (1995)\", \"directedBy\": \"Joe Johnston\", \"starring\": \"Jonathan Hyde, Bradley Pierce, Robin Williams, Kirsten Dunst\", \"avgRating\": 3.26605, \"imdbId\": \"0113497\", \"item_id\": 2}\n",
            "\n",
            "{\"title\": \"Grumpier Old Men (1995)\", \"directedBy\": \"Howard Deutch\", \"starring\": \"Jack Lemmon, Walter Matthau, Ann-Margret , Sophia Loren\", \"avgRating\": 3.17146, \"imdbId\": \"0113228\", \"item_id\": 3}\n",
            "\n",
            "{\"title\": \"Waiting to Exhale (1995)\", \"directedBy\": \"Forest Whitaker\", \"starring\": \"Angela Bassett, Loretta Devine, Whitney Houston, Lela Rochon\", \"avgRating\": 2.86824, \"imdbId\": \"0114885\", \"item_id\": 4}\n",
            "\n",
            "{\"title\": \"Father of the Bride Part II (1995)\", \"directedBy\": \"Charles Shyer\", \"starring\": \"Steve Martin, Martin Short, Diane Keaton, Kimberly Williams, George Newbern, Kieran Culkin\", \"avgRating\": 3.0762, \"imdbId\": \"0113041\", \"item_id\": 5}\n",
            "\n"
          ]
        }
      ],
      "source": [
        "N = 5\n",
        "with open(movie_2_file_path, encoding='utf-8') as myfile:\n",
        "    head = [next(myfile) for x in range(N)]\n",
        "print(len(head))\n",
        "for l in head:\n",
        "    print(l)"
      ]
    },
    {
      "cell_type": "code",
      "execution_count": 16,
      "metadata": {
        "id": "TRfu7HeZhCs0"
      },
      "outputs": [],
      "source": [
        "def yield_json_2(path):\n",
        "    with open(path, 'r', encoding='utf-8-sig') as f: \n",
        "        for line in f:\n",
        "            data = json.loads(line)\n",
        "            yield data['title'],data['directedBy'],data['starring'],data['avgRating'],data['imdbId'],data['item_id']"
      ]
    },
    {
      "cell_type": "code",
      "execution_count": 17,
      "metadata": {
        "id": "nWC63qKThCs0"
      },
      "outputs": [],
      "source": [
        "data = yield_json_2(movie_2_file_path)"
      ]
    },
    {
      "cell_type": "code",
      "execution_count": 18,
      "metadata": {
        "id": "4OpPb_18hCs0"
      },
      "outputs": [],
      "source": [
        "movies = pd.DataFrame.from_records(list(data), \n",
        "                                   columns = ['title', \n",
        "                                              'directedBy',\n",
        "                                              'starring',\n",
        "                                              'avgRating',\n",
        "                                              'imdbId',\n",
        "                                              'item_id'\n",
        "                                             ])"
      ]
    },
    {
      "cell_type": "code",
      "execution_count": 19,
      "metadata": {
        "colab": {
          "base_uri": "https://localhost:8080/",
          "height": 206
        },
        "id": "_-Fwt08chCs1",
        "outputId": "c9f7b6fb-2a1b-4895-e743-fbd375dd3c87",
        "scrolled": true
      },
      "outputs": [
        {
          "output_type": "execute_result",
          "data": {
            "text/plain": [
              "                                                   title  \\\n",
              "84656                             The Tenth Level (1976)   \n",
              "84657                                   Nightmare (1974)   \n",
              "84658                                     Pee Nak (2019)   \n",
              "84659                                   Pee Nak 2 (2020)   \n",
              "84660  The Making of the Philadelphia Eagles Cheerlea...   \n",
              "\n",
              "                         directedBy  \\\n",
              "84656              Charles S. Dubin   \n",
              "84657                  William Hale   \n",
              "84658  Phontharis Chotkijsadarsopon   \n",
              "84659  Phontharis Chotkijsadarsopon   \n",
              "84660                                 \n",
              "\n",
              "                                                starring  avgRating    imdbId  \\\n",
              "84656  William Shatner,Lynn Carlin,Ossie Davis,Viveca...        0.0   0075320   \n",
              "84657  Richard Crenna,Patty Duke,Vic Morrow,Arlene Go...        0.0   0071911   \n",
              "84658  Chinawut Indracusin,Paisarnkulwong Vachiravit,...        0.0   8258474   \n",
              "84659  วชิรวิชญ์ ไพศาลกุลวงศ์,ภูริพรรธน์ เวชวงศาเตชาว...        0.0  11906412   \n",
              "84660  Steve Vaccariello,Barbara Zaun,Rob Babik,Brad ...        0.0   1533803   \n",
              "\n",
              "       item_id  \n",
              "84656   239306  \n",
              "84657   239308  \n",
              "84658   239310  \n",
              "84659   239312  \n",
              "84660   239314  "
            ],
            "text/html": [
              "\n",
              "  <div id=\"df-a356c2b6-7b76-4623-beb2-8ffede4afd2a\">\n",
              "    <div class=\"colab-df-container\">\n",
              "      <div>\n",
              "<style scoped>\n",
              "    .dataframe tbody tr th:only-of-type {\n",
              "        vertical-align: middle;\n",
              "    }\n",
              "\n",
              "    .dataframe tbody tr th {\n",
              "        vertical-align: top;\n",
              "    }\n",
              "\n",
              "    .dataframe thead th {\n",
              "        text-align: right;\n",
              "    }\n",
              "</style>\n",
              "<table border=\"1\" class=\"dataframe\">\n",
              "  <thead>\n",
              "    <tr style=\"text-align: right;\">\n",
              "      <th></th>\n",
              "      <th>title</th>\n",
              "      <th>directedBy</th>\n",
              "      <th>starring</th>\n",
              "      <th>avgRating</th>\n",
              "      <th>imdbId</th>\n",
              "      <th>item_id</th>\n",
              "    </tr>\n",
              "  </thead>\n",
              "  <tbody>\n",
              "    <tr>\n",
              "      <th>84656</th>\n",
              "      <td>The Tenth Level (1976)</td>\n",
              "      <td>Charles S. Dubin</td>\n",
              "      <td>William Shatner,Lynn Carlin,Ossie Davis,Viveca...</td>\n",
              "      <td>0.0</td>\n",
              "      <td>0075320</td>\n",
              "      <td>239306</td>\n",
              "    </tr>\n",
              "    <tr>\n",
              "      <th>84657</th>\n",
              "      <td>Nightmare (1974)</td>\n",
              "      <td>William Hale</td>\n",
              "      <td>Richard Crenna,Patty Duke,Vic Morrow,Arlene Go...</td>\n",
              "      <td>0.0</td>\n",
              "      <td>0071911</td>\n",
              "      <td>239308</td>\n",
              "    </tr>\n",
              "    <tr>\n",
              "      <th>84658</th>\n",
              "      <td>Pee Nak (2019)</td>\n",
              "      <td>Phontharis Chotkijsadarsopon</td>\n",
              "      <td>Chinawut Indracusin,Paisarnkulwong Vachiravit,...</td>\n",
              "      <td>0.0</td>\n",
              "      <td>8258474</td>\n",
              "      <td>239310</td>\n",
              "    </tr>\n",
              "    <tr>\n",
              "      <th>84659</th>\n",
              "      <td>Pee Nak 2 (2020)</td>\n",
              "      <td>Phontharis Chotkijsadarsopon</td>\n",
              "      <td>วชิรวิชญ์ ไพศาลกุลวงศ์,ภูริพรรธน์ เวชวงศาเตชาว...</td>\n",
              "      <td>0.0</td>\n",
              "      <td>11906412</td>\n",
              "      <td>239312</td>\n",
              "    </tr>\n",
              "    <tr>\n",
              "      <th>84660</th>\n",
              "      <td>The Making of the Philadelphia Eagles Cheerlea...</td>\n",
              "      <td></td>\n",
              "      <td>Steve Vaccariello,Barbara Zaun,Rob Babik,Brad ...</td>\n",
              "      <td>0.0</td>\n",
              "      <td>1533803</td>\n",
              "      <td>239314</td>\n",
              "    </tr>\n",
              "  </tbody>\n",
              "</table>\n",
              "</div>\n",
              "      <button class=\"colab-df-convert\" onclick=\"convertToInteractive('df-a356c2b6-7b76-4623-beb2-8ffede4afd2a')\"\n",
              "              title=\"Convert this dataframe to an interactive table.\"\n",
              "              style=\"display:none;\">\n",
              "        \n",
              "  <svg xmlns=\"http://www.w3.org/2000/svg\" height=\"24px\"viewBox=\"0 0 24 24\"\n",
              "       width=\"24px\">\n",
              "    <path d=\"M0 0h24v24H0V0z\" fill=\"none\"/>\n",
              "    <path d=\"M18.56 5.44l.94 2.06.94-2.06 2.06-.94-2.06-.94-.94-2.06-.94 2.06-2.06.94zm-11 1L8.5 8.5l.94-2.06 2.06-.94-2.06-.94L8.5 2.5l-.94 2.06-2.06.94zm10 10l.94 2.06.94-2.06 2.06-.94-2.06-.94-.94-2.06-.94 2.06-2.06.94z\"/><path d=\"M17.41 7.96l-1.37-1.37c-.4-.4-.92-.59-1.43-.59-.52 0-1.04.2-1.43.59L10.3 9.45l-7.72 7.72c-.78.78-.78 2.05 0 2.83L4 21.41c.39.39.9.59 1.41.59.51 0 1.02-.2 1.41-.59l7.78-7.78 2.81-2.81c.8-.78.8-2.07 0-2.86zM5.41 20L4 18.59l7.72-7.72 1.47 1.35L5.41 20z\"/>\n",
              "  </svg>\n",
              "      </button>\n",
              "      \n",
              "  <style>\n",
              "    .colab-df-container {\n",
              "      display:flex;\n",
              "      flex-wrap:wrap;\n",
              "      gap: 12px;\n",
              "    }\n",
              "\n",
              "    .colab-df-convert {\n",
              "      background-color: #E8F0FE;\n",
              "      border: none;\n",
              "      border-radius: 50%;\n",
              "      cursor: pointer;\n",
              "      display: none;\n",
              "      fill: #1967D2;\n",
              "      height: 32px;\n",
              "      padding: 0 0 0 0;\n",
              "      width: 32px;\n",
              "    }\n",
              "\n",
              "    .colab-df-convert:hover {\n",
              "      background-color: #E2EBFA;\n",
              "      box-shadow: 0px 1px 2px rgba(60, 64, 67, 0.3), 0px 1px 3px 1px rgba(60, 64, 67, 0.15);\n",
              "      fill: #174EA6;\n",
              "    }\n",
              "\n",
              "    [theme=dark] .colab-df-convert {\n",
              "      background-color: #3B4455;\n",
              "      fill: #D2E3FC;\n",
              "    }\n",
              "\n",
              "    [theme=dark] .colab-df-convert:hover {\n",
              "      background-color: #434B5C;\n",
              "      box-shadow: 0px 1px 3px 1px rgba(0, 0, 0, 0.15);\n",
              "      filter: drop-shadow(0px 1px 2px rgba(0, 0, 0, 0.3));\n",
              "      fill: #FFFFFF;\n",
              "    }\n",
              "  </style>\n",
              "\n",
              "      <script>\n",
              "        const buttonEl =\n",
              "          document.querySelector('#df-a356c2b6-7b76-4623-beb2-8ffede4afd2a button.colab-df-convert');\n",
              "        buttonEl.style.display =\n",
              "          google.colab.kernel.accessAllowed ? 'block' : 'none';\n",
              "\n",
              "        async function convertToInteractive(key) {\n",
              "          const element = document.querySelector('#df-a356c2b6-7b76-4623-beb2-8ffede4afd2a');\n",
              "          const dataTable =\n",
              "            await google.colab.kernel.invokeFunction('convertToInteractive',\n",
              "                                                     [key], {});\n",
              "          if (!dataTable) return;\n",
              "\n",
              "          const docLinkHtml = 'Like what you see? Visit the ' +\n",
              "            '<a target=\"_blank\" href=https://colab.research.google.com/notebooks/data_table.ipynb>data table notebook</a>'\n",
              "            + ' to learn more about interactive tables.';\n",
              "          element.innerHTML = '';\n",
              "          dataTable['output_type'] = 'display_data';\n",
              "          await google.colab.output.renderOutput(dataTable, element);\n",
              "          const docLink = document.createElement('div');\n",
              "          docLink.innerHTML = docLinkHtml;\n",
              "          element.appendChild(docLink);\n",
              "        }\n",
              "      </script>\n",
              "    </div>\n",
              "  </div>\n",
              "  "
            ]
          },
          "metadata": {},
          "execution_count": 19
        }
      ],
      "source": [
        "movies.tail(5)"
      ]
    },
    {
      "cell_type": "markdown",
      "metadata": {
        "id": "nFJWRaOlb7b7"
      },
      "source": [
        "- 역시 잘 들어왔습니다."
      ]
    },
    {
      "cell_type": "markdown",
      "metadata": {
        "id": "NyUh4RlRb-F2"
      },
      "source": [
        "- merge로 데이터를 합쳐줍니다. item_id(movie_id)가 동일하므로 기준으로 잡습니다."
      ]
    },
    {
      "cell_type": "markdown",
      "metadata": {
        "id": "Ed9Js382cv3V"
      },
      "source": [
        "#### 1.6.2 Preprocess"
      ]
    },
    {
      "cell_type": "code",
      "execution_count": 20,
      "metadata": {
        "id": "jK7eVJHThCs1"
      },
      "outputs": [],
      "source": [
        "ratings = pd.merge(ratings,movies, how='outer',on='item_id') \n",
        "orginal_data_size = len(ratings)"
      ]
    },
    {
      "cell_type": "markdown",
      "metadata": {
        "id": "D4lgQEDXcEog"
      },
      "source": [
        "- column name을 정리합니다."
      ]
    },
    {
      "cell_type": "code",
      "execution_count": 21,
      "metadata": {
        "id": "PBpyEqcnhCs1"
      },
      "outputs": [],
      "source": [
        "ratings.rename(columns={'rating':'count'}, inplace=True)"
      ]
    },
    {
      "cell_type": "code",
      "execution_count": 22,
      "metadata": {
        "id": "UFxACm9FhCs2"
      },
      "outputs": [],
      "source": [
        "movies.rename(columns={'item_id':'movie_id'}, inplace=True)"
      ]
    },
    {
      "cell_type": "code",
      "execution_count": 23,
      "metadata": {
        "id": "Z8lf8ETDhCs2"
      },
      "outputs": [],
      "source": [
        "ratings.rename(columns={'item_id':'movie_id'}, inplace=True)"
      ]
    },
    {
      "cell_type": "markdown",
      "metadata": {
        "id": "jOlG-AuOcIzT"
      },
      "source": [
        "- 나머지 과정은 데이터 수가 늘었을 뿐이지 위와 동일합니다."
      ]
    },
    {
      "cell_type": "code",
      "execution_count": 24,
      "metadata": {
        "colab": {
          "base_uri": "https://localhost:8080/"
        },
        "id": "7-kvb0OJhCs2",
        "outputId": "47290731-ff9a-461f-c998-72b2436b2f6f"
      },
      "outputs": [
        {
          "output_type": "stream",
          "name": "stdout",
          "text": [
            "orginal_data_size: 28507818, filtered_data_size: 23350476\n",
            "Ratio of Remaining Data is 81.91%\n"
          ]
        }
      ],
      "source": [
        "# 3점 이상만 남깁니다.\n",
        "ratings = ratings[ratings['count']>=3]\n",
        "filtered_data_size = len(ratings)\n",
        "\n",
        "print(f'orginal_data_size: {orginal_data_size}, filtered_data_size: {filtered_data_size}')\n",
        "print(f'Ratio of Remaining Data is {filtered_data_size / orginal_data_size:.2%}')"
      ]
    },
    {
      "cell_type": "code",
      "execution_count": 25,
      "metadata": {
        "colab": {
          "base_uri": "https://localhost:8080/",
          "height": 206
        },
        "id": "NSEp0_QjhCs2",
        "outputId": "e6f314ae-4d4b-4064-f430-794fc4a9a1aa",
        "scrolled": true
      },
      "outputs": [
        {
          "output_type": "execute_result",
          "data": {
            "text/plain": [
              "          movie_id   user_id  count  \\\n",
              "28490100    209523  788042.0    3.5   \n",
              "28490101    209527  788042.0    4.0   \n",
              "28490104    200022  213110.0    4.5   \n",
              "28490105    157617   35905.0    5.0   \n",
              "28490113    200980  255423.0    3.0   \n",
              "\n",
              "                                                    title          directedBy  \\\n",
              "28490100                           Silent Möbius 2 (1992)        Yasunori Ide   \n",
              "28490101       Great Planet Evil-Destroyer Dangaio (1987)      Toshiki Hirano   \n",
              "28490104                      A Thief in the Night (1972)  Donald W. Thompson   \n",
              "28490105               Desperate Teenage Lovedolls (1984)        David Markey   \n",
              "28490113  The Mayo Clinic, Faith, Hope and Science (2018)           Ken Burns   \n",
              "\n",
              "                                                   starring  avgRating  \\\n",
              "28490100  Gara Takashima,Hiromi Tsuru,Naoko Matsui,Masak...    3.50000   \n",
              "28490101  Akira Kamiya,Maya Okamoto,Mayumi Shou,Naoko Ma...    4.00000   \n",
              "28490104  Patty Dunning,Mike Niday,Colleen Niday,Maryann...    2.62500   \n",
              "28490105                                  Jennifer Schwartz    5.00000   \n",
              "28490113  Kevin Conway,Peter Coyote,Tom Hanks,Sam Waterston    3.16667   \n",
              "\n",
              "           imdbId  \n",
              "28490100  0160869  \n",
              "28490101  0220381  \n",
              "28490104  0070795  \n",
              "28490105  0225499  \n",
              "28490113  8946352  "
            ],
            "text/html": [
              "\n",
              "  <div id=\"df-c0bb76a8-c6af-4b41-b7b4-3cde7d73211c\">\n",
              "    <div class=\"colab-df-container\">\n",
              "      <div>\n",
              "<style scoped>\n",
              "    .dataframe tbody tr th:only-of-type {\n",
              "        vertical-align: middle;\n",
              "    }\n",
              "\n",
              "    .dataframe tbody tr th {\n",
              "        vertical-align: top;\n",
              "    }\n",
              "\n",
              "    .dataframe thead th {\n",
              "        text-align: right;\n",
              "    }\n",
              "</style>\n",
              "<table border=\"1\" class=\"dataframe\">\n",
              "  <thead>\n",
              "    <tr style=\"text-align: right;\">\n",
              "      <th></th>\n",
              "      <th>movie_id</th>\n",
              "      <th>user_id</th>\n",
              "      <th>count</th>\n",
              "      <th>title</th>\n",
              "      <th>directedBy</th>\n",
              "      <th>starring</th>\n",
              "      <th>avgRating</th>\n",
              "      <th>imdbId</th>\n",
              "    </tr>\n",
              "  </thead>\n",
              "  <tbody>\n",
              "    <tr>\n",
              "      <th>28490100</th>\n",
              "      <td>209523</td>\n",
              "      <td>788042.0</td>\n",
              "      <td>3.5</td>\n",
              "      <td>Silent Möbius 2 (1992)</td>\n",
              "      <td>Yasunori Ide</td>\n",
              "      <td>Gara Takashima,Hiromi Tsuru,Naoko Matsui,Masak...</td>\n",
              "      <td>3.50000</td>\n",
              "      <td>0160869</td>\n",
              "    </tr>\n",
              "    <tr>\n",
              "      <th>28490101</th>\n",
              "      <td>209527</td>\n",
              "      <td>788042.0</td>\n",
              "      <td>4.0</td>\n",
              "      <td>Great Planet Evil-Destroyer Dangaio (1987)</td>\n",
              "      <td>Toshiki Hirano</td>\n",
              "      <td>Akira Kamiya,Maya Okamoto,Mayumi Shou,Naoko Ma...</td>\n",
              "      <td>4.00000</td>\n",
              "      <td>0220381</td>\n",
              "    </tr>\n",
              "    <tr>\n",
              "      <th>28490104</th>\n",
              "      <td>200022</td>\n",
              "      <td>213110.0</td>\n",
              "      <td>4.5</td>\n",
              "      <td>A Thief in the Night (1972)</td>\n",
              "      <td>Donald W. Thompson</td>\n",
              "      <td>Patty Dunning,Mike Niday,Colleen Niday,Maryann...</td>\n",
              "      <td>2.62500</td>\n",
              "      <td>0070795</td>\n",
              "    </tr>\n",
              "    <tr>\n",
              "      <th>28490105</th>\n",
              "      <td>157617</td>\n",
              "      <td>35905.0</td>\n",
              "      <td>5.0</td>\n",
              "      <td>Desperate Teenage Lovedolls (1984)</td>\n",
              "      <td>David Markey</td>\n",
              "      <td>Jennifer Schwartz</td>\n",
              "      <td>5.00000</td>\n",
              "      <td>0225499</td>\n",
              "    </tr>\n",
              "    <tr>\n",
              "      <th>28490113</th>\n",
              "      <td>200980</td>\n",
              "      <td>255423.0</td>\n",
              "      <td>3.0</td>\n",
              "      <td>The Mayo Clinic, Faith, Hope and Science (2018)</td>\n",
              "      <td>Ken Burns</td>\n",
              "      <td>Kevin Conway,Peter Coyote,Tom Hanks,Sam Waterston</td>\n",
              "      <td>3.16667</td>\n",
              "      <td>8946352</td>\n",
              "    </tr>\n",
              "  </tbody>\n",
              "</table>\n",
              "</div>\n",
              "      <button class=\"colab-df-convert\" onclick=\"convertToInteractive('df-c0bb76a8-c6af-4b41-b7b4-3cde7d73211c')\"\n",
              "              title=\"Convert this dataframe to an interactive table.\"\n",
              "              style=\"display:none;\">\n",
              "        \n",
              "  <svg xmlns=\"http://www.w3.org/2000/svg\" height=\"24px\"viewBox=\"0 0 24 24\"\n",
              "       width=\"24px\">\n",
              "    <path d=\"M0 0h24v24H0V0z\" fill=\"none\"/>\n",
              "    <path d=\"M18.56 5.44l.94 2.06.94-2.06 2.06-.94-2.06-.94-.94-2.06-.94 2.06-2.06.94zm-11 1L8.5 8.5l.94-2.06 2.06-.94-2.06-.94L8.5 2.5l-.94 2.06-2.06.94zm10 10l.94 2.06.94-2.06 2.06-.94-2.06-.94-.94-2.06-.94 2.06-2.06.94z\"/><path d=\"M17.41 7.96l-1.37-1.37c-.4-.4-.92-.59-1.43-.59-.52 0-1.04.2-1.43.59L10.3 9.45l-7.72 7.72c-.78.78-.78 2.05 0 2.83L4 21.41c.39.39.9.59 1.41.59.51 0 1.02-.2 1.41-.59l7.78-7.78 2.81-2.81c.8-.78.8-2.07 0-2.86zM5.41 20L4 18.59l7.72-7.72 1.47 1.35L5.41 20z\"/>\n",
              "  </svg>\n",
              "      </button>\n",
              "      \n",
              "  <style>\n",
              "    .colab-df-container {\n",
              "      display:flex;\n",
              "      flex-wrap:wrap;\n",
              "      gap: 12px;\n",
              "    }\n",
              "\n",
              "    .colab-df-convert {\n",
              "      background-color: #E8F0FE;\n",
              "      border: none;\n",
              "      border-radius: 50%;\n",
              "      cursor: pointer;\n",
              "      display: none;\n",
              "      fill: #1967D2;\n",
              "      height: 32px;\n",
              "      padding: 0 0 0 0;\n",
              "      width: 32px;\n",
              "    }\n",
              "\n",
              "    .colab-df-convert:hover {\n",
              "      background-color: #E2EBFA;\n",
              "      box-shadow: 0px 1px 2px rgba(60, 64, 67, 0.3), 0px 1px 3px 1px rgba(60, 64, 67, 0.15);\n",
              "      fill: #174EA6;\n",
              "    }\n",
              "\n",
              "    [theme=dark] .colab-df-convert {\n",
              "      background-color: #3B4455;\n",
              "      fill: #D2E3FC;\n",
              "    }\n",
              "\n",
              "    [theme=dark] .colab-df-convert:hover {\n",
              "      background-color: #434B5C;\n",
              "      box-shadow: 0px 1px 3px 1px rgba(0, 0, 0, 0.15);\n",
              "      filter: drop-shadow(0px 1px 2px rgba(0, 0, 0, 0.3));\n",
              "      fill: #FFFFFF;\n",
              "    }\n",
              "  </style>\n",
              "\n",
              "      <script>\n",
              "        const buttonEl =\n",
              "          document.querySelector('#df-c0bb76a8-c6af-4b41-b7b4-3cde7d73211c button.colab-df-convert');\n",
              "        buttonEl.style.display =\n",
              "          google.colab.kernel.accessAllowed ? 'block' : 'none';\n",
              "\n",
              "        async function convertToInteractive(key) {\n",
              "          const element = document.querySelector('#df-c0bb76a8-c6af-4b41-b7b4-3cde7d73211c');\n",
              "          const dataTable =\n",
              "            await google.colab.kernel.invokeFunction('convertToInteractive',\n",
              "                                                     [key], {});\n",
              "          if (!dataTable) return;\n",
              "\n",
              "          const docLinkHtml = 'Like what you see? Visit the ' +\n",
              "            '<a target=\"_blank\" href=https://colab.research.google.com/notebooks/data_table.ipynb>data table notebook</a>'\n",
              "            + ' to learn more about interactive tables.';\n",
              "          element.innerHTML = '';\n",
              "          dataTable['output_type'] = 'display_data';\n",
              "          await google.colab.output.renderOutput(dataTable, element);\n",
              "          const docLink = document.createElement('div');\n",
              "          docLink.innerHTML = docLinkHtml;\n",
              "          element.appendChild(docLink);\n",
              "        }\n",
              "      </script>\n",
              "    </div>\n",
              "  </div>\n",
              "  "
            ]
          },
          "metadata": {},
          "execution_count": 25
        }
      ],
      "source": [
        "ratings.tail(5)"
      ]
    },
    {
      "cell_type": "code",
      "execution_count": 26,
      "metadata": {
        "id": "TFKpYZSA_-TQ"
      },
      "outputs": [],
      "source": [
        "rating = ratings"
      ]
    },
    {
      "cell_type": "code",
      "execution_count": 27,
      "metadata": {
        "id": "rQv6X2o7hCs3"
      },
      "outputs": [],
      "source": [
        "ratings = ratings.drop(['directedBy','starring','imdbId'], axis=1)"
      ]
    },
    {
      "cell_type": "code",
      "execution_count": 28,
      "metadata": {
        "colab": {
          "base_uri": "https://localhost:8080/"
        },
        "id": "sw1VHrFBhCs3",
        "outputId": "43757269-84ca-4b3e-a41d-b32238aa752d",
        "scrolled": true
      },
      "outputs": [
        {
          "output_type": "stream",
          "name": "stdout",
          "text": [
            "<class 'pandas.core.frame.DataFrame'>\n",
            "Int64Index: 23350476 entries, 0 to 28490113\n",
            "Data columns (total 5 columns):\n",
            " #   Column     Dtype  \n",
            "---  ------     -----  \n",
            " 0   movie_id   int64  \n",
            " 1   user_id    float64\n",
            " 2   count      float64\n",
            " 3   title      object \n",
            " 4   avgRating  float64\n",
            "dtypes: float64(3), int64(1), object(1)\n",
            "memory usage: 1.0+ GB\n"
          ]
        }
      ],
      "source": [
        "ratings.info()"
      ]
    },
    {
      "cell_type": "code",
      "execution_count": 29,
      "metadata": {
        "colab": {
          "base_uri": "https://localhost:8080/",
          "height": 206
        },
        "id": "OhqasqWOhCs4",
        "outputId": "c7c31e32-9a43-4904-f52c-fc1dd24e6888"
      },
      "outputs": [
        {
          "output_type": "execute_result",
          "data": {
            "text/plain": [
              "          movie_id   user_id  count  \\\n",
              "28490100    209523  788042.0    3.5   \n",
              "28490101    209527  788042.0    4.0   \n",
              "28490104    200022  213110.0    4.5   \n",
              "28490105    157617   35905.0    5.0   \n",
              "28490113    200980  255423.0    3.0   \n",
              "\n",
              "                                                    title  avgRating  \n",
              "28490100                           Silent Möbius 2 (1992)    3.50000  \n",
              "28490101       Great Planet Evil-Destroyer Dangaio (1987)    4.00000  \n",
              "28490104                      A Thief in the Night (1972)    2.62500  \n",
              "28490105               Desperate Teenage Lovedolls (1984)    5.00000  \n",
              "28490113  The Mayo Clinic, Faith, Hope and Science (2018)    3.16667  "
            ],
            "text/html": [
              "\n",
              "  <div id=\"df-db4b42be-fb5e-4aa1-8fe7-bba2b4921dd5\">\n",
              "    <div class=\"colab-df-container\">\n",
              "      <div>\n",
              "<style scoped>\n",
              "    .dataframe tbody tr th:only-of-type {\n",
              "        vertical-align: middle;\n",
              "    }\n",
              "\n",
              "    .dataframe tbody tr th {\n",
              "        vertical-align: top;\n",
              "    }\n",
              "\n",
              "    .dataframe thead th {\n",
              "        text-align: right;\n",
              "    }\n",
              "</style>\n",
              "<table border=\"1\" class=\"dataframe\">\n",
              "  <thead>\n",
              "    <tr style=\"text-align: right;\">\n",
              "      <th></th>\n",
              "      <th>movie_id</th>\n",
              "      <th>user_id</th>\n",
              "      <th>count</th>\n",
              "      <th>title</th>\n",
              "      <th>avgRating</th>\n",
              "    </tr>\n",
              "  </thead>\n",
              "  <tbody>\n",
              "    <tr>\n",
              "      <th>28490100</th>\n",
              "      <td>209523</td>\n",
              "      <td>788042.0</td>\n",
              "      <td>3.5</td>\n",
              "      <td>Silent Möbius 2 (1992)</td>\n",
              "      <td>3.50000</td>\n",
              "    </tr>\n",
              "    <tr>\n",
              "      <th>28490101</th>\n",
              "      <td>209527</td>\n",
              "      <td>788042.0</td>\n",
              "      <td>4.0</td>\n",
              "      <td>Great Planet Evil-Destroyer Dangaio (1987)</td>\n",
              "      <td>4.00000</td>\n",
              "    </tr>\n",
              "    <tr>\n",
              "      <th>28490104</th>\n",
              "      <td>200022</td>\n",
              "      <td>213110.0</td>\n",
              "      <td>4.5</td>\n",
              "      <td>A Thief in the Night (1972)</td>\n",
              "      <td>2.62500</td>\n",
              "    </tr>\n",
              "    <tr>\n",
              "      <th>28490105</th>\n",
              "      <td>157617</td>\n",
              "      <td>35905.0</td>\n",
              "      <td>5.0</td>\n",
              "      <td>Desperate Teenage Lovedolls (1984)</td>\n",
              "      <td>5.00000</td>\n",
              "    </tr>\n",
              "    <tr>\n",
              "      <th>28490113</th>\n",
              "      <td>200980</td>\n",
              "      <td>255423.0</td>\n",
              "      <td>3.0</td>\n",
              "      <td>The Mayo Clinic, Faith, Hope and Science (2018)</td>\n",
              "      <td>3.16667</td>\n",
              "    </tr>\n",
              "  </tbody>\n",
              "</table>\n",
              "</div>\n",
              "      <button class=\"colab-df-convert\" onclick=\"convertToInteractive('df-db4b42be-fb5e-4aa1-8fe7-bba2b4921dd5')\"\n",
              "              title=\"Convert this dataframe to an interactive table.\"\n",
              "              style=\"display:none;\">\n",
              "        \n",
              "  <svg xmlns=\"http://www.w3.org/2000/svg\" height=\"24px\"viewBox=\"0 0 24 24\"\n",
              "       width=\"24px\">\n",
              "    <path d=\"M0 0h24v24H0V0z\" fill=\"none\"/>\n",
              "    <path d=\"M18.56 5.44l.94 2.06.94-2.06 2.06-.94-2.06-.94-.94-2.06-.94 2.06-2.06.94zm-11 1L8.5 8.5l.94-2.06 2.06-.94-2.06-.94L8.5 2.5l-.94 2.06-2.06.94zm10 10l.94 2.06.94-2.06 2.06-.94-2.06-.94-.94-2.06-.94 2.06-2.06.94z\"/><path d=\"M17.41 7.96l-1.37-1.37c-.4-.4-.92-.59-1.43-.59-.52 0-1.04.2-1.43.59L10.3 9.45l-7.72 7.72c-.78.78-.78 2.05 0 2.83L4 21.41c.39.39.9.59 1.41.59.51 0 1.02-.2 1.41-.59l7.78-7.78 2.81-2.81c.8-.78.8-2.07 0-2.86zM5.41 20L4 18.59l7.72-7.72 1.47 1.35L5.41 20z\"/>\n",
              "  </svg>\n",
              "      </button>\n",
              "      \n",
              "  <style>\n",
              "    .colab-df-container {\n",
              "      display:flex;\n",
              "      flex-wrap:wrap;\n",
              "      gap: 12px;\n",
              "    }\n",
              "\n",
              "    .colab-df-convert {\n",
              "      background-color: #E8F0FE;\n",
              "      border: none;\n",
              "      border-radius: 50%;\n",
              "      cursor: pointer;\n",
              "      display: none;\n",
              "      fill: #1967D2;\n",
              "      height: 32px;\n",
              "      padding: 0 0 0 0;\n",
              "      width: 32px;\n",
              "    }\n",
              "\n",
              "    .colab-df-convert:hover {\n",
              "      background-color: #E2EBFA;\n",
              "      box-shadow: 0px 1px 2px rgba(60, 64, 67, 0.3), 0px 1px 3px 1px rgba(60, 64, 67, 0.15);\n",
              "      fill: #174EA6;\n",
              "    }\n",
              "\n",
              "    [theme=dark] .colab-df-convert {\n",
              "      background-color: #3B4455;\n",
              "      fill: #D2E3FC;\n",
              "    }\n",
              "\n",
              "    [theme=dark] .colab-df-convert:hover {\n",
              "      background-color: #434B5C;\n",
              "      box-shadow: 0px 1px 3px 1px rgba(0, 0, 0, 0.15);\n",
              "      filter: drop-shadow(0px 1px 2px rgba(0, 0, 0, 0.3));\n",
              "      fill: #FFFFFF;\n",
              "    }\n",
              "  </style>\n",
              "\n",
              "      <script>\n",
              "        const buttonEl =\n",
              "          document.querySelector('#df-db4b42be-fb5e-4aa1-8fe7-bba2b4921dd5 button.colab-df-convert');\n",
              "        buttonEl.style.display =\n",
              "          google.colab.kernel.accessAllowed ? 'block' : 'none';\n",
              "\n",
              "        async function convertToInteractive(key) {\n",
              "          const element = document.querySelector('#df-db4b42be-fb5e-4aa1-8fe7-bba2b4921dd5');\n",
              "          const dataTable =\n",
              "            await google.colab.kernel.invokeFunction('convertToInteractive',\n",
              "                                                     [key], {});\n",
              "          if (!dataTable) return;\n",
              "\n",
              "          const docLinkHtml = 'Like what you see? Visit the ' +\n",
              "            '<a target=\"_blank\" href=https://colab.research.google.com/notebooks/data_table.ipynb>data table notebook</a>'\n",
              "            + ' to learn more about interactive tables.';\n",
              "          element.innerHTML = '';\n",
              "          dataTable['output_type'] = 'display_data';\n",
              "          await google.colab.output.renderOutput(dataTable, element);\n",
              "          const docLink = document.createElement('div');\n",
              "          docLink.innerHTML = docLinkHtml;\n",
              "          element.appendChild(docLink);\n",
              "        }\n",
              "      </script>\n",
              "    </div>\n",
              "  </div>\n",
              "  "
            ]
          },
          "metadata": {},
          "execution_count": 29
        }
      ],
      "source": [
        "ratings.tail(5)"
      ]
    },
    {
      "cell_type": "code",
      "execution_count": 30,
      "metadata": {
        "colab": {
          "base_uri": "https://localhost:8080/"
        },
        "id": "i8QWkw7PhCs4",
        "outputId": "f17950f0-12eb-4853-940d-ff61d72a8375"
      },
      "outputs": [
        {
          "output_type": "execute_result",
          "data": {
            "text/plain": [
              "59900"
            ]
          },
          "metadata": {},
          "execution_count": 30
        }
      ],
      "source": [
        "ratings['movie_id'].nunique()"
      ]
    },
    {
      "cell_type": "code",
      "execution_count": 31,
      "metadata": {
        "colab": {
          "base_uri": "https://localhost:8080/"
        },
        "id": "wDvKzvxdhCs5",
        "outputId": "13876e77-1d99-471c-9c36-afa56eb74c13"
      },
      "outputs": [
        {
          "output_type": "execute_result",
          "data": {
            "text/plain": [
              "246098"
            ]
          },
          "metadata": {},
          "execution_count": 31
        }
      ],
      "source": [
        "ratings['user_id'].nunique()"
      ]
    },
    {
      "cell_type": "markdown",
      "metadata": {
        "id": "Sj_Y3MWPcQfb"
      },
      "source": [
        "- 약간의 전처리를 끝내고 다시 favorite list를 작성해 넣습니다.  \n",
        "비교를 위해 위와 동일한 list를 작성합니다."
      ]
    },
    {
      "cell_type": "code",
      "execution_count": 32,
      "metadata": {
        "id": "HLSc1tJ4hCs6"
      },
      "outputs": [],
      "source": [
        "# favorite_title 5개 생성\n",
        "favorite_title = ['Usual Suspects, The (1995)',\n",
        "                  'Armageddon (1998)',\n",
        "                  'Home Alone 2: Lost in New York (1992)',\n",
        "                  'Shawshank Redemption, The (1994)',\n",
        "                  'Forrest Gump (1994)']\n",
        "\n",
        "# favorite_title -> favorite_id 변환 \n",
        "favorite_id = [title_to_id(i) for i in favorite_title]\n",
        "\n",
        "# user_id = 'JB', 5점 부여 \n",
        "my_list = pd.DataFrame({'user_id': ['JB']*5, 'movie_id': favorite_id, 'count':[5]*5})\n",
        "\n",
        "if not ratings.isin({'user_id':['JB']})['user_id'].any():  # user_id에 동일 id가 있는지 확인 후 추가\n",
        "    ratings = ratings.append(my_list) "
      ]
    },
    {
      "cell_type": "code",
      "execution_count": 33,
      "metadata": {
        "colab": {
          "base_uri": "https://localhost:8080/",
          "height": 363
        },
        "id": "mM5w43-IhCs6",
        "outputId": "d1bdd95a-9c58-4d13-f50b-7c898aaaa193"
      },
      "outputs": [
        {
          "output_type": "execute_result",
          "data": {
            "text/plain": [
              "          movie_id   user_id  count  \\\n",
              "28490100    209523  788042.0    3.5   \n",
              "28490101    209527  788042.0    4.0   \n",
              "28490104    200022  213110.0    4.5   \n",
              "28490105    157617   35905.0    5.0   \n",
              "28490113    200980  255423.0    3.0   \n",
              "0               50        JB    5.0   \n",
              "1             1917        JB    5.0   \n",
              "2             2953        JB    5.0   \n",
              "3              318        JB    5.0   \n",
              "4              356        JB    5.0   \n",
              "\n",
              "                                                    title  avgRating  \n",
              "28490100                           Silent Möbius 2 (1992)    3.50000  \n",
              "28490101       Great Planet Evil-Destroyer Dangaio (1987)    4.00000  \n",
              "28490104                      A Thief in the Night (1972)    2.62500  \n",
              "28490105               Desperate Teenage Lovedolls (1984)    5.00000  \n",
              "28490113  The Mayo Clinic, Faith, Hope and Science (2018)    3.16667  \n",
              "0                                                     NaN        NaN  \n",
              "1                                                     NaN        NaN  \n",
              "2                                                     NaN        NaN  \n",
              "3                                                     NaN        NaN  \n",
              "4                                                     NaN        NaN  "
            ],
            "text/html": [
              "\n",
              "  <div id=\"df-099d897f-9e05-4b06-ae39-1628a139a3ef\">\n",
              "    <div class=\"colab-df-container\">\n",
              "      <div>\n",
              "<style scoped>\n",
              "    .dataframe tbody tr th:only-of-type {\n",
              "        vertical-align: middle;\n",
              "    }\n",
              "\n",
              "    .dataframe tbody tr th {\n",
              "        vertical-align: top;\n",
              "    }\n",
              "\n",
              "    .dataframe thead th {\n",
              "        text-align: right;\n",
              "    }\n",
              "</style>\n",
              "<table border=\"1\" class=\"dataframe\">\n",
              "  <thead>\n",
              "    <tr style=\"text-align: right;\">\n",
              "      <th></th>\n",
              "      <th>movie_id</th>\n",
              "      <th>user_id</th>\n",
              "      <th>count</th>\n",
              "      <th>title</th>\n",
              "      <th>avgRating</th>\n",
              "    </tr>\n",
              "  </thead>\n",
              "  <tbody>\n",
              "    <tr>\n",
              "      <th>28490100</th>\n",
              "      <td>209523</td>\n",
              "      <td>788042.0</td>\n",
              "      <td>3.5</td>\n",
              "      <td>Silent Möbius 2 (1992)</td>\n",
              "      <td>3.50000</td>\n",
              "    </tr>\n",
              "    <tr>\n",
              "      <th>28490101</th>\n",
              "      <td>209527</td>\n",
              "      <td>788042.0</td>\n",
              "      <td>4.0</td>\n",
              "      <td>Great Planet Evil-Destroyer Dangaio (1987)</td>\n",
              "      <td>4.00000</td>\n",
              "    </tr>\n",
              "    <tr>\n",
              "      <th>28490104</th>\n",
              "      <td>200022</td>\n",
              "      <td>213110.0</td>\n",
              "      <td>4.5</td>\n",
              "      <td>A Thief in the Night (1972)</td>\n",
              "      <td>2.62500</td>\n",
              "    </tr>\n",
              "    <tr>\n",
              "      <th>28490105</th>\n",
              "      <td>157617</td>\n",
              "      <td>35905.0</td>\n",
              "      <td>5.0</td>\n",
              "      <td>Desperate Teenage Lovedolls (1984)</td>\n",
              "      <td>5.00000</td>\n",
              "    </tr>\n",
              "    <tr>\n",
              "      <th>28490113</th>\n",
              "      <td>200980</td>\n",
              "      <td>255423.0</td>\n",
              "      <td>3.0</td>\n",
              "      <td>The Mayo Clinic, Faith, Hope and Science (2018)</td>\n",
              "      <td>3.16667</td>\n",
              "    </tr>\n",
              "    <tr>\n",
              "      <th>0</th>\n",
              "      <td>50</td>\n",
              "      <td>JB</td>\n",
              "      <td>5.0</td>\n",
              "      <td>NaN</td>\n",
              "      <td>NaN</td>\n",
              "    </tr>\n",
              "    <tr>\n",
              "      <th>1</th>\n",
              "      <td>1917</td>\n",
              "      <td>JB</td>\n",
              "      <td>5.0</td>\n",
              "      <td>NaN</td>\n",
              "      <td>NaN</td>\n",
              "    </tr>\n",
              "    <tr>\n",
              "      <th>2</th>\n",
              "      <td>2953</td>\n",
              "      <td>JB</td>\n",
              "      <td>5.0</td>\n",
              "      <td>NaN</td>\n",
              "      <td>NaN</td>\n",
              "    </tr>\n",
              "    <tr>\n",
              "      <th>3</th>\n",
              "      <td>318</td>\n",
              "      <td>JB</td>\n",
              "      <td>5.0</td>\n",
              "      <td>NaN</td>\n",
              "      <td>NaN</td>\n",
              "    </tr>\n",
              "    <tr>\n",
              "      <th>4</th>\n",
              "      <td>356</td>\n",
              "      <td>JB</td>\n",
              "      <td>5.0</td>\n",
              "      <td>NaN</td>\n",
              "      <td>NaN</td>\n",
              "    </tr>\n",
              "  </tbody>\n",
              "</table>\n",
              "</div>\n",
              "      <button class=\"colab-df-convert\" onclick=\"convertToInteractive('df-099d897f-9e05-4b06-ae39-1628a139a3ef')\"\n",
              "              title=\"Convert this dataframe to an interactive table.\"\n",
              "              style=\"display:none;\">\n",
              "        \n",
              "  <svg xmlns=\"http://www.w3.org/2000/svg\" height=\"24px\"viewBox=\"0 0 24 24\"\n",
              "       width=\"24px\">\n",
              "    <path d=\"M0 0h24v24H0V0z\" fill=\"none\"/>\n",
              "    <path d=\"M18.56 5.44l.94 2.06.94-2.06 2.06-.94-2.06-.94-.94-2.06-.94 2.06-2.06.94zm-11 1L8.5 8.5l.94-2.06 2.06-.94-2.06-.94L8.5 2.5l-.94 2.06-2.06.94zm10 10l.94 2.06.94-2.06 2.06-.94-2.06-.94-.94-2.06-.94 2.06-2.06.94z\"/><path d=\"M17.41 7.96l-1.37-1.37c-.4-.4-.92-.59-1.43-.59-.52 0-1.04.2-1.43.59L10.3 9.45l-7.72 7.72c-.78.78-.78 2.05 0 2.83L4 21.41c.39.39.9.59 1.41.59.51 0 1.02-.2 1.41-.59l7.78-7.78 2.81-2.81c.8-.78.8-2.07 0-2.86zM5.41 20L4 18.59l7.72-7.72 1.47 1.35L5.41 20z\"/>\n",
              "  </svg>\n",
              "      </button>\n",
              "      \n",
              "  <style>\n",
              "    .colab-df-container {\n",
              "      display:flex;\n",
              "      flex-wrap:wrap;\n",
              "      gap: 12px;\n",
              "    }\n",
              "\n",
              "    .colab-df-convert {\n",
              "      background-color: #E8F0FE;\n",
              "      border: none;\n",
              "      border-radius: 50%;\n",
              "      cursor: pointer;\n",
              "      display: none;\n",
              "      fill: #1967D2;\n",
              "      height: 32px;\n",
              "      padding: 0 0 0 0;\n",
              "      width: 32px;\n",
              "    }\n",
              "\n",
              "    .colab-df-convert:hover {\n",
              "      background-color: #E2EBFA;\n",
              "      box-shadow: 0px 1px 2px rgba(60, 64, 67, 0.3), 0px 1px 3px 1px rgba(60, 64, 67, 0.15);\n",
              "      fill: #174EA6;\n",
              "    }\n",
              "\n",
              "    [theme=dark] .colab-df-convert {\n",
              "      background-color: #3B4455;\n",
              "      fill: #D2E3FC;\n",
              "    }\n",
              "\n",
              "    [theme=dark] .colab-df-convert:hover {\n",
              "      background-color: #434B5C;\n",
              "      box-shadow: 0px 1px 3px 1px rgba(0, 0, 0, 0.15);\n",
              "      filter: drop-shadow(0px 1px 2px rgba(0, 0, 0, 0.3));\n",
              "      fill: #FFFFFF;\n",
              "    }\n",
              "  </style>\n",
              "\n",
              "      <script>\n",
              "        const buttonEl =\n",
              "          document.querySelector('#df-099d897f-9e05-4b06-ae39-1628a139a3ef button.colab-df-convert');\n",
              "        buttonEl.style.display =\n",
              "          google.colab.kernel.accessAllowed ? 'block' : 'none';\n",
              "\n",
              "        async function convertToInteractive(key) {\n",
              "          const element = document.querySelector('#df-099d897f-9e05-4b06-ae39-1628a139a3ef');\n",
              "          const dataTable =\n",
              "            await google.colab.kernel.invokeFunction('convertToInteractive',\n",
              "                                                     [key], {});\n",
              "          if (!dataTable) return;\n",
              "\n",
              "          const docLinkHtml = 'Like what you see? Visit the ' +\n",
              "            '<a target=\"_blank\" href=https://colab.research.google.com/notebooks/data_table.ipynb>data table notebook</a>'\n",
              "            + ' to learn more about interactive tables.';\n",
              "          element.innerHTML = '';\n",
              "          dataTable['output_type'] = 'display_data';\n",
              "          await google.colab.output.renderOutput(dataTable, element);\n",
              "          const docLink = document.createElement('div');\n",
              "          docLink.innerHTML = docLinkHtml;\n",
              "          element.appendChild(docLink);\n",
              "        }\n",
              "      </script>\n",
              "    </div>\n",
              "  </div>\n",
              "  "
            ]
          },
          "metadata": {},
          "execution_count": 33
        }
      ],
      "source": [
        "ratings.tail(10)"
      ]
    },
    {
      "cell_type": "markdown",
      "metadata": {
        "id": "IgM7Rm8GcdcE"
      },
      "source": [
        "- 인덱싱 과정을 진행합니다."
      ]
    },
    {
      "cell_type": "code",
      "execution_count": 34,
      "metadata": {
        "id": "u8TEEuUzjTWd"
      },
      "outputs": [],
      "source": [
        "# 고유한 유저, 영화를 찾아내는 코드\n",
        "user_unique = ratings['user_id'].unique()\n",
        "movie_unique = ratings['movie_id'].unique()\n",
        "\n",
        "# 유저, 영화 indexing 하는 코드\n",
        "user_to_idx = {v:k for k,v in enumerate(user_unique)}\n",
        "movie_to_idx = {v:k for k,v in enumerate(movie_unique)}"
      ]
    },
    {
      "cell_type": "code",
      "execution_count": 35,
      "metadata": {
        "colab": {
          "base_uri": "https://localhost:8080/"
        },
        "id": "1L3PAR-hhCs7",
        "outputId": "ad254fe9-1a30-4e09-f82d-dafd3eb8ea6f"
      },
      "outputs": [
        {
          "output_type": "execute_result",
          "data": {
            "text/plain": [
              "246098"
            ]
          },
          "metadata": {},
          "execution_count": 35
        }
      ],
      "source": [
        "user_to_idx['JB']"
      ]
    },
    {
      "cell_type": "markdown",
      "metadata": {
        "id": "hnZ7JVSxch0n"
      },
      "source": [
        "- 유저 수가 어마어마합니다."
      ]
    },
    {
      "cell_type": "code",
      "execution_count": 36,
      "metadata": {
        "colab": {
          "base_uri": "https://localhost:8080/"
        },
        "id": "tsPgL8OFhCs7",
        "outputId": "2fd7c6cf-a40d-40da-ecb8-061dd238a3ef"
      },
      "outputs": [
        {
          "output_type": "stream",
          "name": "stdout",
          "text": [
            "user_id column indexing OK!!\n",
            "movie id column indexing OK!!\n"
          ]
        }
      ],
      "source": [
        "temp_user_data = ratings['user_id'].map(user_to_idx.get).dropna()\n",
        "if len(temp_user_data) == len(ratings):   # 모든 row가 정상적으로 인덱싱되었다면\n",
        "    print('user_id column indexing OK!!')\n",
        "    ratings['user_id'] = temp_user_data   # data['user_id']을 인덱싱된 Series로 교체해 줍니다. \n",
        "else:\n",
        "    print('user_id column indexing Fail!!')\n",
        "\n",
        "# artist_to_idx을 통해 movie_id 컬럼도 동일한 방식으로 인덱싱해 줍니다. \n",
        "temp_movie_data = ratings['movie_id'].map(movie_to_idx.get).dropna()\n",
        "if len(temp_movie_data) == len(ratings):\n",
        "    print('movie id column indexing OK!!')\n",
        "    ratings['movie_id'] = temp_movie_data\n",
        "else:\n",
        "    print('movie id column indexing Fail!!')"
      ]
    },
    {
      "cell_type": "code",
      "execution_count": 37,
      "metadata": {
        "colab": {
          "base_uri": "https://localhost:8080/",
          "height": 363
        },
        "id": "SkTzXThshCs8",
        "outputId": "312b6c81-57c4-4f90-e3ce-cea4ddeb32e0"
      },
      "outputs": [
        {
          "output_type": "execute_result",
          "data": {
            "text/plain": [
              "          movie_id  user_id  count  \\\n",
              "28490100     59895    37069    3.5   \n",
              "28490101     59896    37069    4.0   \n",
              "28490104     59897   200523    4.5   \n",
              "28490105     59898    69886    5.0   \n",
              "28490113     59899    69891    3.0   \n",
              "0               11   246098    5.0   \n",
              "1             1339   246098    5.0   \n",
              "2             7127   246098    5.0   \n",
              "3               36   246098    5.0   \n",
              "4               43   246098    5.0   \n",
              "\n",
              "                                                    title  avgRating  \n",
              "28490100                           Silent Möbius 2 (1992)    3.50000  \n",
              "28490101       Great Planet Evil-Destroyer Dangaio (1987)    4.00000  \n",
              "28490104                      A Thief in the Night (1972)    2.62500  \n",
              "28490105               Desperate Teenage Lovedolls (1984)    5.00000  \n",
              "28490113  The Mayo Clinic, Faith, Hope and Science (2018)    3.16667  \n",
              "0                                                     NaN        NaN  \n",
              "1                                                     NaN        NaN  \n",
              "2                                                     NaN        NaN  \n",
              "3                                                     NaN        NaN  \n",
              "4                                                     NaN        NaN  "
            ],
            "text/html": [
              "\n",
              "  <div id=\"df-ed7807cb-964a-4610-a936-b414c9183c70\">\n",
              "    <div class=\"colab-df-container\">\n",
              "      <div>\n",
              "<style scoped>\n",
              "    .dataframe tbody tr th:only-of-type {\n",
              "        vertical-align: middle;\n",
              "    }\n",
              "\n",
              "    .dataframe tbody tr th {\n",
              "        vertical-align: top;\n",
              "    }\n",
              "\n",
              "    .dataframe thead th {\n",
              "        text-align: right;\n",
              "    }\n",
              "</style>\n",
              "<table border=\"1\" class=\"dataframe\">\n",
              "  <thead>\n",
              "    <tr style=\"text-align: right;\">\n",
              "      <th></th>\n",
              "      <th>movie_id</th>\n",
              "      <th>user_id</th>\n",
              "      <th>count</th>\n",
              "      <th>title</th>\n",
              "      <th>avgRating</th>\n",
              "    </tr>\n",
              "  </thead>\n",
              "  <tbody>\n",
              "    <tr>\n",
              "      <th>28490100</th>\n",
              "      <td>59895</td>\n",
              "      <td>37069</td>\n",
              "      <td>3.5</td>\n",
              "      <td>Silent Möbius 2 (1992)</td>\n",
              "      <td>3.50000</td>\n",
              "    </tr>\n",
              "    <tr>\n",
              "      <th>28490101</th>\n",
              "      <td>59896</td>\n",
              "      <td>37069</td>\n",
              "      <td>4.0</td>\n",
              "      <td>Great Planet Evil-Destroyer Dangaio (1987)</td>\n",
              "      <td>4.00000</td>\n",
              "    </tr>\n",
              "    <tr>\n",
              "      <th>28490104</th>\n",
              "      <td>59897</td>\n",
              "      <td>200523</td>\n",
              "      <td>4.5</td>\n",
              "      <td>A Thief in the Night (1972)</td>\n",
              "      <td>2.62500</td>\n",
              "    </tr>\n",
              "    <tr>\n",
              "      <th>28490105</th>\n",
              "      <td>59898</td>\n",
              "      <td>69886</td>\n",
              "      <td>5.0</td>\n",
              "      <td>Desperate Teenage Lovedolls (1984)</td>\n",
              "      <td>5.00000</td>\n",
              "    </tr>\n",
              "    <tr>\n",
              "      <th>28490113</th>\n",
              "      <td>59899</td>\n",
              "      <td>69891</td>\n",
              "      <td>3.0</td>\n",
              "      <td>The Mayo Clinic, Faith, Hope and Science (2018)</td>\n",
              "      <td>3.16667</td>\n",
              "    </tr>\n",
              "    <tr>\n",
              "      <th>0</th>\n",
              "      <td>11</td>\n",
              "      <td>246098</td>\n",
              "      <td>5.0</td>\n",
              "      <td>NaN</td>\n",
              "      <td>NaN</td>\n",
              "    </tr>\n",
              "    <tr>\n",
              "      <th>1</th>\n",
              "      <td>1339</td>\n",
              "      <td>246098</td>\n",
              "      <td>5.0</td>\n",
              "      <td>NaN</td>\n",
              "      <td>NaN</td>\n",
              "    </tr>\n",
              "    <tr>\n",
              "      <th>2</th>\n",
              "      <td>7127</td>\n",
              "      <td>246098</td>\n",
              "      <td>5.0</td>\n",
              "      <td>NaN</td>\n",
              "      <td>NaN</td>\n",
              "    </tr>\n",
              "    <tr>\n",
              "      <th>3</th>\n",
              "      <td>36</td>\n",
              "      <td>246098</td>\n",
              "      <td>5.0</td>\n",
              "      <td>NaN</td>\n",
              "      <td>NaN</td>\n",
              "    </tr>\n",
              "    <tr>\n",
              "      <th>4</th>\n",
              "      <td>43</td>\n",
              "      <td>246098</td>\n",
              "      <td>5.0</td>\n",
              "      <td>NaN</td>\n",
              "      <td>NaN</td>\n",
              "    </tr>\n",
              "  </tbody>\n",
              "</table>\n",
              "</div>\n",
              "      <button class=\"colab-df-convert\" onclick=\"convertToInteractive('df-ed7807cb-964a-4610-a936-b414c9183c70')\"\n",
              "              title=\"Convert this dataframe to an interactive table.\"\n",
              "              style=\"display:none;\">\n",
              "        \n",
              "  <svg xmlns=\"http://www.w3.org/2000/svg\" height=\"24px\"viewBox=\"0 0 24 24\"\n",
              "       width=\"24px\">\n",
              "    <path d=\"M0 0h24v24H0V0z\" fill=\"none\"/>\n",
              "    <path d=\"M18.56 5.44l.94 2.06.94-2.06 2.06-.94-2.06-.94-.94-2.06-.94 2.06-2.06.94zm-11 1L8.5 8.5l.94-2.06 2.06-.94-2.06-.94L8.5 2.5l-.94 2.06-2.06.94zm10 10l.94 2.06.94-2.06 2.06-.94-2.06-.94-.94-2.06-.94 2.06-2.06.94z\"/><path d=\"M17.41 7.96l-1.37-1.37c-.4-.4-.92-.59-1.43-.59-.52 0-1.04.2-1.43.59L10.3 9.45l-7.72 7.72c-.78.78-.78 2.05 0 2.83L4 21.41c.39.39.9.59 1.41.59.51 0 1.02-.2 1.41-.59l7.78-7.78 2.81-2.81c.8-.78.8-2.07 0-2.86zM5.41 20L4 18.59l7.72-7.72 1.47 1.35L5.41 20z\"/>\n",
              "  </svg>\n",
              "      </button>\n",
              "      \n",
              "  <style>\n",
              "    .colab-df-container {\n",
              "      display:flex;\n",
              "      flex-wrap:wrap;\n",
              "      gap: 12px;\n",
              "    }\n",
              "\n",
              "    .colab-df-convert {\n",
              "      background-color: #E8F0FE;\n",
              "      border: none;\n",
              "      border-radius: 50%;\n",
              "      cursor: pointer;\n",
              "      display: none;\n",
              "      fill: #1967D2;\n",
              "      height: 32px;\n",
              "      padding: 0 0 0 0;\n",
              "      width: 32px;\n",
              "    }\n",
              "\n",
              "    .colab-df-convert:hover {\n",
              "      background-color: #E2EBFA;\n",
              "      box-shadow: 0px 1px 2px rgba(60, 64, 67, 0.3), 0px 1px 3px 1px rgba(60, 64, 67, 0.15);\n",
              "      fill: #174EA6;\n",
              "    }\n",
              "\n",
              "    [theme=dark] .colab-df-convert {\n",
              "      background-color: #3B4455;\n",
              "      fill: #D2E3FC;\n",
              "    }\n",
              "\n",
              "    [theme=dark] .colab-df-convert:hover {\n",
              "      background-color: #434B5C;\n",
              "      box-shadow: 0px 1px 3px 1px rgba(0, 0, 0, 0.15);\n",
              "      filter: drop-shadow(0px 1px 2px rgba(0, 0, 0, 0.3));\n",
              "      fill: #FFFFFF;\n",
              "    }\n",
              "  </style>\n",
              "\n",
              "      <script>\n",
              "        const buttonEl =\n",
              "          document.querySelector('#df-ed7807cb-964a-4610-a936-b414c9183c70 button.colab-df-convert');\n",
              "        buttonEl.style.display =\n",
              "          google.colab.kernel.accessAllowed ? 'block' : 'none';\n",
              "\n",
              "        async function convertToInteractive(key) {\n",
              "          const element = document.querySelector('#df-ed7807cb-964a-4610-a936-b414c9183c70');\n",
              "          const dataTable =\n",
              "            await google.colab.kernel.invokeFunction('convertToInteractive',\n",
              "                                                     [key], {});\n",
              "          if (!dataTable) return;\n",
              "\n",
              "          const docLinkHtml = 'Like what you see? Visit the ' +\n",
              "            '<a target=\"_blank\" href=https://colab.research.google.com/notebooks/data_table.ipynb>data table notebook</a>'\n",
              "            + ' to learn more about interactive tables.';\n",
              "          element.innerHTML = '';\n",
              "          dataTable['output_type'] = 'display_data';\n",
              "          await google.colab.output.renderOutput(dataTable, element);\n",
              "          const docLink = document.createElement('div');\n",
              "          docLink.innerHTML = docLinkHtml;\n",
              "          element.appendChild(docLink);\n",
              "        }\n",
              "      </script>\n",
              "    </div>\n",
              "  </div>\n",
              "  "
            ]
          },
          "metadata": {},
          "execution_count": 37
        }
      ],
      "source": [
        "ratings.tail(10)"
      ]
    },
    {
      "cell_type": "markdown",
      "metadata": {
        "id": "b3pz3y7JdCUK"
      },
      "source": [
        "#### 1.6.3 Model"
      ]
    },
    {
      "cell_type": "markdown",
      "metadata": {
        "id": "aQR-K_GFcli6"
      },
      "source": [
        "- model에 넣어줄 csr matrix를 만듭니다."
      ]
    },
    {
      "cell_type": "code",
      "execution_count": 38,
      "metadata": {
        "colab": {
          "base_uri": "https://localhost:8080/"
        },
        "id": "OL1AR6nhhCs8",
        "outputId": "ef385598-3248-42bf-e2b2-9bb6cc66f891"
      },
      "outputs": [
        {
          "output_type": "execute_result",
          "data": {
            "text/plain": [
              "<246099x59900 sparse matrix of type '<class 'numpy.float64'>'\n",
              "\twith 23163234 stored elements in Compressed Sparse Row format>"
            ]
          },
          "metadata": {},
          "execution_count": 38
        }
      ],
      "source": [
        "num_user = ratings['user_id'].nunique()\n",
        "num_movie = ratings['movie_id'].nunique()\n",
        "\n",
        "csr_data = csr_matrix((ratings['count'], (ratings['user_id'], ratings['movie_id'])), shape=(num_user, num_movie))\n",
        "csr_data"
      ]
    },
    {
      "cell_type": "markdown",
      "metadata": {
        "id": "j3rXY0vOdHub"
      },
      "source": [
        "- model은 factor 500, iteration 20으로 설정했습니다.  "
      ]
    },
    {
      "cell_type": "code",
      "execution_count": 39,
      "metadata": {
        "id": "TfhYOObZhCs9",
        "colab": {
          "base_uri": "https://localhost:8080/"
        },
        "outputId": "318e3cd3-29c7-4da4-e441-f3e17382e040"
      },
      "outputs": [
        {
          "output_type": "stream",
          "name": "stderr",
          "text": [
            "/usr/local/lib/python3.7/dist-packages/implicit/utils.py:27: UserWarning: OpenBLAS detected. Its highly recommend to set the environment variable 'export OPENBLAS_NUM_THREADS=1' to disable its internal multithreading\n",
            "  \"OpenBLAS detected. Its highly recommend to set the environment variable \"\n"
          ]
        }
      ],
      "source": [
        "als_model_7 = AlternatingLeastSquares(factors=500, \n",
        "                                      regularization=0.01, \n",
        "                                      use_gpu=False, \n",
        "                                      iterations=20, \n",
        "                                      dtype=np.float32)"
      ]
    },
    {
      "cell_type": "code",
      "execution_count": 40,
      "metadata": {
        "colab": {
          "base_uri": "https://localhost:8080/",
          "height": 49,
          "referenced_widgets": [
            "103ca2f6fa824006a74b3c61cc5a772b",
            "22f9d27c8059499c9d3904519d32944a",
            "77eb084950d24b20a971d434e2dc43c4",
            "8cee585511f24ea39ee800f768c3db4a",
            "66fd931b5a2f4f19a7badc7042b91a50",
            "9f5ecb259002404a80406842f03e470d",
            "74d49f36e4ed422d816da2d9191b4bce",
            "d213b49576b94771bf2651e2b722461f",
            "a0f22eee1acc46abbab7f14fc3ec9e90",
            "0540ce2794c54874bc068e1398978e1b",
            "f8d86508e5a141748819ad924458ba0f"
          ]
        },
        "id": "wts_FOz4hCs9",
        "outputId": "1fe1a3cb-0c40-4db4-befe-9dd47b83d9bf"
      },
      "outputs": [
        {
          "output_type": "display_data",
          "data": {
            "text/plain": [
              "  0%|          | 0/20 [00:00<?, ?it/s]"
            ],
            "application/vnd.jupyter.widget-view+json": {
              "version_major": 2,
              "version_minor": 0,
              "model_id": "103ca2f6fa824006a74b3c61cc5a772b"
            }
          },
          "metadata": {}
        }
      ],
      "source": [
        "als_model_7.fit(csr_data)"
      ]
    },
    {
      "cell_type": "markdown",
      "metadata": {
        "id": "FkHE1wlDdial"
      },
      "source": [
        "- 오래 걸립니다..."
      ]
    },
    {
      "cell_type": "code",
      "execution_count": 41,
      "metadata": {
        "colab": {
          "base_uri": "https://localhost:8080/"
        },
        "id": "_6VxXKurk--D",
        "outputId": "6262c639-1f09-4a9c-c134-0207f50e49fe"
      },
      "outputs": [
        {
          "output_type": "execute_result",
          "data": {
            "text/plain": [
              "1917"
            ]
          },
          "metadata": {},
          "execution_count": 41
        }
      ],
      "source": [
        "title_to_id('Armageddon (1998)')"
      ]
    },
    {
      "cell_type": "markdown",
      "metadata": {
        "id": "4lZs7XC4dos4"
      },
      "source": [
        "- list에 있는 Armageddon (1998)을 기준으로 vector를 찍어봅니다."
      ]
    },
    {
      "cell_type": "code",
      "execution_count": 44,
      "metadata": {
        "id": "ktMA07mdhCs9"
      },
      "outputs": [],
      "source": [
        "JB, armageddon = user_to_idx['JB'], movie_to_idx[1917]\n",
        "JB_vector_7, armageddon_vector_7 = als_model_7.user_factors[JB], als_model_7.item_factors[armageddon]"
      ]
    },
    {
      "cell_type": "code",
      "execution_count": 45,
      "metadata": {
        "colab": {
          "base_uri": "https://localhost:8080/"
        },
        "id": "Abjg91yDk5Zd",
        "outputId": "28b48a88-211b-4e38-e1a2-edce801ae05f"
      },
      "outputs": [
        {
          "output_type": "execute_result",
          "data": {
            "text/plain": [
              "0.8215139"
            ]
          },
          "metadata": {},
          "execution_count": 45
        }
      ],
      "source": [
        "np.dot(JB_vector_7, armageddon_vector_7)"
      ]
    },
    {
      "cell_type": "markdown",
      "source": [
        "- 너무 과하지도 않고 딱 좋다고 생각합니다.  "
      ],
      "metadata": {
        "id": "tszijLLvdp1F"
      }
    },
    {
      "cell_type": "markdown",
      "metadata": {
        "id": "Zfhxy94-d8J2"
      },
      "source": [
        "#### 1.6.4 Similar movies"
      ]
    },
    {
      "cell_type": "markdown",
      "metadata": {
        "id": "QZ8dEMF7d3fd"
      },
      "source": [
        "- Armageddon (1998)과 비슷한 영화를 찾아봅니다."
      ]
    },
    {
      "cell_type": "code",
      "execution_count": 53,
      "metadata": {
        "id": "d-gsnXWkhCs-",
        "colab": {
          "base_uri": "https://localhost:8080/"
        },
        "outputId": "71590866-15f8-4a6b-9dab-64caa33d207f"
      },
      "outputs": [
        {
          "output_type": "stream",
          "name": "stdout",
          "text": [
            "[1.0000001  0.41814145 0.35081217 0.2404133  0.23696342 0.23009084\n",
            " 0.22854608 0.22131577 0.21994452 0.21947925 0.21736433 0.21673629\n",
            " 0.21466516 0.21031013 0.2102491 ]\n"
          ]
        }
      ],
      "source": [
        "favorite_movie = 'Armageddon (1998)'\n",
        "favorite_movie_id = title_to_id(favorite_movie)\n",
        "# print(favorite_movie_id)\n",
        "my_movie_id = movie_to_idx[favorite_movie_id]\n",
        "# print(my_movie_id)\n",
        "similar_movie = als_model_7.similar_items(my_movie_id, N=15)\n",
        "print(similar_movie[1])\n",
        "similar_movie = similar_movie[0]"
      ]
    },
    {
      "cell_type": "code",
      "execution_count": 47,
      "metadata": {
        "colab": {
          "base_uri": "https://localhost:8080/"
        },
        "id": "n-JiYeeIhCs-",
        "outputId": "604d67f0-567c-4f57-ea42-3d18a2efe8d5"
      },
      "outputs": [
        {
          "output_type": "stream",
          "name": "stdout",
          "text": [
            "[1339 1332 4479 1327 4744 5363 5360 1437  297 4783 4829 4480 7916 5367\n",
            " 5890]\n"
          ]
        }
      ],
      "source": [
        "print(similar_movie)"
      ]
    },
    {
      "cell_type": "code",
      "execution_count": 48,
      "metadata": {
        "id": "1SQipi4glyuZ"
      },
      "outputs": [],
      "source": [
        "#movie_to_idx 를 뒤집어, index로부터 title을 얻는 dict를 생성합니다. \n",
        "idx_to_movie = {v:k for k,v in movie_to_idx.items()}\n",
        "my_similar = [idx_to_movie[i] for i in similar_movie]"
      ]
    },
    {
      "cell_type": "code",
      "execution_count": 49,
      "metadata": {
        "colab": {
          "base_uri": "https://localhost:8080/"
        },
        "id": "vh7x9Ts2lyuZ",
        "outputId": "0df5362e-4294-4238-e593-925f2fcc2bda"
      },
      "outputs": [
        {
          "output_type": "stream",
          "name": "stdout",
          "text": [
            "[1917, 1876, 1882, 1833, 1831, 1888, 1862, 2334, 1552, 2322, 2617, 1894, 1869, 2153, 2549]\n"
          ]
        }
      ],
      "source": [
        "print(my_similar)"
      ]
    },
    {
      "cell_type": "code",
      "execution_count": 50,
      "metadata": {
        "colab": {
          "base_uri": "https://localhost:8080/"
        },
        "id": "7c2LCTHclyuZ",
        "outputId": "2df79253-68e5-4dcd-ab4f-95be51cc8317",
        "scrolled": true
      },
      "outputs": [
        {
          "output_type": "execute_result",
          "data": {
            "text/plain": [
              "['Armageddon (1998)',\n",
              " 'Deep Impact (1998)',\n",
              " 'Godzilla (1998)',\n",
              " 'Mercury Rising (1998)',\n",
              " 'Lost in Space (1998)',\n",
              " 'Hope Floats (1998)',\n",
              " 'Species II (1998)',\n",
              " 'Siege, The (1998)',\n",
              " 'Con Air (1997)',\n",
              " 'Soldier (1998)',\n",
              " 'Mummy, The (1999)',\n",
              " 'Six Days Seven Nights (1998)',\n",
              " 'Black Dog (1998)',\n",
              " 'Avengers, The (1998)',\n",
              " 'Wing Commander (1999)']"
            ]
          },
          "metadata": {},
          "execution_count": 50
        }
      ],
      "source": [
        "[id_to_title(i) for i in my_similar]"
      ]
    },
    {
      "cell_type": "markdown",
      "metadata": {
        "id": "C2KFDv37eFP_"
      },
      "source": [
        "- 유사도가 높은 부분은 재난, 액션 쪽입니다.  \n",
        "그 외 유사도가 낮은 부분에는 재난이나 액션 둘중 하나만 취하는 경우가 많습니다."
      ]
    },
    {
      "cell_type": "markdown",
      "metadata": {
        "id": "Px4SEMSjeKWK"
      },
      "source": [
        "- 이번에는 Tenet (2020)을 기준으로 similar movies를 찍어봅니다.  \n",
        "위에서 만든 함수를 이용합니다."
      ]
    },
    {
      "cell_type": "code",
      "source": [
        "similar_movies('Tenet (2020)', als_model_7, 10)"
      ],
      "metadata": {
        "colab": {
          "base_uri": "https://localhost:8080/"
        },
        "id": "x0tTC-C7enFr",
        "outputId": "4a775ca8-4abe-409e-b5f6-71c35f6d02a1"
      },
      "execution_count": 58,
      "outputs": [
        {
          "output_type": "stream",
          "name": "stdout",
          "text": [
            "[1.0000001  0.92641664 0.9080508  0.9072971  0.9025907  0.89513797\n",
            " 0.89111215 0.887753   0.8813461  0.880124  ]\n",
            "Tenet (2020)\n",
            "Ad Astra (2019)\n",
            "The Gentlemen (2020)\n",
            "El Camino: A Breaking Bad Movie (2019)\n",
            "Ford v. Ferrari (2019)\n",
            "Bad Times at the El Royale (2018)\n",
            "Palm Springs (2020)\n",
            "Zombieland: Double Tap (2019)\n",
            "Glass (2019)\n",
            "Vice (2018)\n"
          ]
        }
      ]
    },
    {
      "cell_type": "markdown",
      "source": [
        "- 유사도도 찍어봤습니다.  \n",
        "테넷이 SF, 액션, 스릴러, 첩보, 드라마, 서스펜스 입니다.  \n",
        "생각보다 유사한 영화들로만 뽑았습니다.  \n",
        "주로 SF, 액션과 범죄, 어두운 느낌의 드라마 위주로 고른 것 같습니다.\n",
        "\n",
        "- 최신 영화들이 나오니 훨씬 보기 좋습니다."
      ],
      "metadata": {
        "id": "oVuWBpP6fJq9"
      }
    },
    {
      "cell_type": "markdown",
      "metadata": {
        "id": "zx7hESeqeZnH"
      },
      "source": [
        "#### 1.6.5 Recommend_movies"
      ]
    },
    {
      "cell_type": "markdown",
      "metadata": {
        "id": "Pl_Vkt7pefdp"
      },
      "source": [
        "- 이번에는 추천을 받아봅니다."
      ]
    },
    {
      "cell_type": "code",
      "execution_count": 119,
      "metadata": {
        "id": "hPmCKV1pnqgL"
      },
      "outputs": [],
      "source": [
        "user = user_to_idx['JB']\n",
        "# recommend에서는 user*item CSR Matrix를 받습니다.\n",
        "movie_recommended = als_model_7.recommend(user, csr_data[user], N=15)\n",
        "my_recommended = movie_recommended[0]"
      ]
    },
    {
      "cell_type": "code",
      "execution_count": 120,
      "metadata": {
        "colab": {
          "base_uri": "https://localhost:8080/"
        },
        "id": "lposANwpsv0s",
        "outputId": "d96176f9-becd-42c2-bcfd-075ffe7f957f"
      },
      "outputs": [
        {
          "output_type": "stream",
          "name": "stdout",
          "text": [
            "[  76 1332 1621 4479  296 4829 4421 4767  146  297  249 4746 4765 4397\n",
            " 4481]\n"
          ]
        }
      ],
      "source": [
        "print(my_recommended)"
      ]
    },
    {
      "cell_type": "code",
      "execution_count": 121,
      "metadata": {
        "id": "zH55nB40nqbX"
      },
      "outputs": [],
      "source": [
        "idx_to_movie = {v:k for k,v in movie_to_idx.items()}\n",
        "my_recommended_2 = [idx_to_movie[i] for i in my_recommended]"
      ]
    },
    {
      "cell_type": "code",
      "execution_count": 122,
      "metadata": {
        "colab": {
          "base_uri": "https://localhost:8080/"
        },
        "id": "59EXXTe3sb4d",
        "outputId": "991f5086-50eb-419f-91c2-434d86ec8c68"
      },
      "outputs": [
        {
          "output_type": "stream",
          "name": "stdout",
          "text": [
            "[586, 1876, 3247, 1882, 1544, 2617, 2012, 2082, 1103, 1552, 266, 1918, 2054, 1923, 1911]\n"
          ]
        }
      ],
      "source": [
        "print(my_recommended_2)"
      ]
    },
    {
      "cell_type": "code",
      "execution_count": 123,
      "metadata": {
        "id": "c7fygHsls7Oc"
      },
      "outputs": [],
      "source": [
        "mylist = [id_to_title(i) for i in my_recommended_2]"
      ]
    },
    {
      "cell_type": "code",
      "execution_count": 124,
      "metadata": {
        "colab": {
          "base_uri": "https://localhost:8080/"
        },
        "id": "hW_HRlOOtDM-",
        "outputId": "9244eaab-d100-4de7-ea17-5bad2655334f"
      },
      "outputs": [
        {
          "output_type": "stream",
          "name": "stdout",
          "text": [
            "Home Alone (1990)\n",
            "Deep Impact (1998)\n",
            "Sister Act (1992)\n",
            "Godzilla (1998)\n",
            "Lost World: Jurassic Park, The (1997)\n",
            "Mummy, The (1999)\n",
            "Back to the Future Part III (1990)\n",
            "Mighty Ducks, The (1992)\n",
            "Rebel Without a Cause (1955)\n",
            "Con Air (1997)\n",
            "Legends of the Fall (1994)\n",
            "Lethal Weapon 4 (1998)\n",
            "Honey, I Shrunk the Kids (1989)\n",
            "There's Something About Mary (1998)\n",
            "Dr. Dolittle (1998)\n"
          ]
        }
      ],
      "source": [
        "print(*mylist[:], sep='\\n') "
      ]
    },
    {
      "cell_type": "markdown",
      "metadata": {
        "id": "8KG_o7OpsbqG"
      },
      "source": [
        "- google에 검색해보니 제가 좋아할 만한 영화들입니다.  \n",
        "추천 목록에 'Home Alone 3'가 없어서 너무 좋습니다."
      ]
    },
    {
      "cell_type": "markdown",
      "metadata": {
        "id": "2rMGQPoMez6j"
      },
      "source": [
        "#### 1.6.6 New list"
      ]
    },
    {
      "cell_type": "markdown",
      "metadata": {
        "id": "VQNsnHjMe3ug"
      },
      "source": [
        "- 최신 영화 목록을 구해왔는데 써봐야겠습니다.  \n",
        "좋아하는 영화 목록을 최신화합니다."
      ]
    },
    {
      "cell_type": "code",
      "execution_count": 32,
      "metadata": {
        "id": "GuJzGXJlH8z4"
      },
      "outputs": [],
      "source": [
        "# favorite_title 5개 생성\n",
        "favorite_title = ['Tenet (2020)',\n",
        "                  'Interstellar (2014)',\n",
        "                  'Dark Knight, The (2008)',\n",
        "                  'Lord of the Rings: The Two Towers, The (2002)',\n",
        "                  'Inception (2010)']    \n",
        "\n",
        "# favorite_title -> favorite_id 변환 \n",
        "favorite_id = [title_to_id(i) for i in favorite_title]\n",
        "\n",
        "# user_id = 'JB', 5점 부여 \n",
        "my_list = pd.DataFrame({'user_id': ['Chae']*5, 'movie_id': favorite_id, 'count':[5]*5})\n",
        "\n",
        "if not ratings.isin({'user_id':['Chae']})['user_id'].any():  # user_id에 동일 id가 있는지 확인 후 추가\n",
        "    ratings = ratings.append(my_list) "
      ]
    },
    {
      "cell_type": "markdown",
      "metadata": {
        "id": "yK9NMXEVe_fn"
      },
      "source": [
        "- 과정은 위와 동일하므로 빠르게 넘어갑니다."
      ]
    },
    {
      "cell_type": "code",
      "execution_count": 33,
      "metadata": {
        "colab": {
          "base_uri": "https://localhost:8080/",
          "height": 363
        },
        "id": "kcBr7AarJcie",
        "outputId": "0d472325-1e55-4f46-d839-46f21349f407"
      },
      "outputs": [
        {
          "output_type": "execute_result",
          "data": {
            "text/plain": [
              "          movie_id   user_id  count  \\\n",
              "28490100    209523  788042.0    3.5   \n",
              "28490101    209527  788042.0    4.0   \n",
              "28490104    200022  213110.0    4.5   \n",
              "28490105    157617   35905.0    5.0   \n",
              "28490113    200980  255423.0    3.0   \n",
              "0           217465      Chae    5.0   \n",
              "1           109487      Chae    5.0   \n",
              "2            58559      Chae    5.0   \n",
              "3             5952      Chae    5.0   \n",
              "4            79132      Chae    5.0   \n",
              "\n",
              "                                                    title  avgRating  \n",
              "28490100                           Silent Möbius 2 (1992)    3.50000  \n",
              "28490101       Great Planet Evil-Destroyer Dangaio (1987)    4.00000  \n",
              "28490104                      A Thief in the Night (1972)    2.62500  \n",
              "28490105               Desperate Teenage Lovedolls (1984)    5.00000  \n",
              "28490113  The Mayo Clinic, Faith, Hope and Science (2018)    3.16667  \n",
              "0                                                     NaN        NaN  \n",
              "1                                                     NaN        NaN  \n",
              "2                                                     NaN        NaN  \n",
              "3                                                     NaN        NaN  \n",
              "4                                                     NaN        NaN  "
            ],
            "text/html": [
              "\n",
              "  <div id=\"df-0536a7a9-e445-48be-8753-b250283fb18c\">\n",
              "    <div class=\"colab-df-container\">\n",
              "      <div>\n",
              "<style scoped>\n",
              "    .dataframe tbody tr th:only-of-type {\n",
              "        vertical-align: middle;\n",
              "    }\n",
              "\n",
              "    .dataframe tbody tr th {\n",
              "        vertical-align: top;\n",
              "    }\n",
              "\n",
              "    .dataframe thead th {\n",
              "        text-align: right;\n",
              "    }\n",
              "</style>\n",
              "<table border=\"1\" class=\"dataframe\">\n",
              "  <thead>\n",
              "    <tr style=\"text-align: right;\">\n",
              "      <th></th>\n",
              "      <th>movie_id</th>\n",
              "      <th>user_id</th>\n",
              "      <th>count</th>\n",
              "      <th>title</th>\n",
              "      <th>avgRating</th>\n",
              "    </tr>\n",
              "  </thead>\n",
              "  <tbody>\n",
              "    <tr>\n",
              "      <th>28490100</th>\n",
              "      <td>209523</td>\n",
              "      <td>788042.0</td>\n",
              "      <td>3.5</td>\n",
              "      <td>Silent Möbius 2 (1992)</td>\n",
              "      <td>3.50000</td>\n",
              "    </tr>\n",
              "    <tr>\n",
              "      <th>28490101</th>\n",
              "      <td>209527</td>\n",
              "      <td>788042.0</td>\n",
              "      <td>4.0</td>\n",
              "      <td>Great Planet Evil-Destroyer Dangaio (1987)</td>\n",
              "      <td>4.00000</td>\n",
              "    </tr>\n",
              "    <tr>\n",
              "      <th>28490104</th>\n",
              "      <td>200022</td>\n",
              "      <td>213110.0</td>\n",
              "      <td>4.5</td>\n",
              "      <td>A Thief in the Night (1972)</td>\n",
              "      <td>2.62500</td>\n",
              "    </tr>\n",
              "    <tr>\n",
              "      <th>28490105</th>\n",
              "      <td>157617</td>\n",
              "      <td>35905.0</td>\n",
              "      <td>5.0</td>\n",
              "      <td>Desperate Teenage Lovedolls (1984)</td>\n",
              "      <td>5.00000</td>\n",
              "    </tr>\n",
              "    <tr>\n",
              "      <th>28490113</th>\n",
              "      <td>200980</td>\n",
              "      <td>255423.0</td>\n",
              "      <td>3.0</td>\n",
              "      <td>The Mayo Clinic, Faith, Hope and Science (2018)</td>\n",
              "      <td>3.16667</td>\n",
              "    </tr>\n",
              "    <tr>\n",
              "      <th>0</th>\n",
              "      <td>217465</td>\n",
              "      <td>Chae</td>\n",
              "      <td>5.0</td>\n",
              "      <td>NaN</td>\n",
              "      <td>NaN</td>\n",
              "    </tr>\n",
              "    <tr>\n",
              "      <th>1</th>\n",
              "      <td>109487</td>\n",
              "      <td>Chae</td>\n",
              "      <td>5.0</td>\n",
              "      <td>NaN</td>\n",
              "      <td>NaN</td>\n",
              "    </tr>\n",
              "    <tr>\n",
              "      <th>2</th>\n",
              "      <td>58559</td>\n",
              "      <td>Chae</td>\n",
              "      <td>5.0</td>\n",
              "      <td>NaN</td>\n",
              "      <td>NaN</td>\n",
              "    </tr>\n",
              "    <tr>\n",
              "      <th>3</th>\n",
              "      <td>5952</td>\n",
              "      <td>Chae</td>\n",
              "      <td>5.0</td>\n",
              "      <td>NaN</td>\n",
              "      <td>NaN</td>\n",
              "    </tr>\n",
              "    <tr>\n",
              "      <th>4</th>\n",
              "      <td>79132</td>\n",
              "      <td>Chae</td>\n",
              "      <td>5.0</td>\n",
              "      <td>NaN</td>\n",
              "      <td>NaN</td>\n",
              "    </tr>\n",
              "  </tbody>\n",
              "</table>\n",
              "</div>\n",
              "      <button class=\"colab-df-convert\" onclick=\"convertToInteractive('df-0536a7a9-e445-48be-8753-b250283fb18c')\"\n",
              "              title=\"Convert this dataframe to an interactive table.\"\n",
              "              style=\"display:none;\">\n",
              "        \n",
              "  <svg xmlns=\"http://www.w3.org/2000/svg\" height=\"24px\"viewBox=\"0 0 24 24\"\n",
              "       width=\"24px\">\n",
              "    <path d=\"M0 0h24v24H0V0z\" fill=\"none\"/>\n",
              "    <path d=\"M18.56 5.44l.94 2.06.94-2.06 2.06-.94-2.06-.94-.94-2.06-.94 2.06-2.06.94zm-11 1L8.5 8.5l.94-2.06 2.06-.94-2.06-.94L8.5 2.5l-.94 2.06-2.06.94zm10 10l.94 2.06.94-2.06 2.06-.94-2.06-.94-.94-2.06-.94 2.06-2.06.94z\"/><path d=\"M17.41 7.96l-1.37-1.37c-.4-.4-.92-.59-1.43-.59-.52 0-1.04.2-1.43.59L10.3 9.45l-7.72 7.72c-.78.78-.78 2.05 0 2.83L4 21.41c.39.39.9.59 1.41.59.51 0 1.02-.2 1.41-.59l7.78-7.78 2.81-2.81c.8-.78.8-2.07 0-2.86zM5.41 20L4 18.59l7.72-7.72 1.47 1.35L5.41 20z\"/>\n",
              "  </svg>\n",
              "      </button>\n",
              "      \n",
              "  <style>\n",
              "    .colab-df-container {\n",
              "      display:flex;\n",
              "      flex-wrap:wrap;\n",
              "      gap: 12px;\n",
              "    }\n",
              "\n",
              "    .colab-df-convert {\n",
              "      background-color: #E8F0FE;\n",
              "      border: none;\n",
              "      border-radius: 50%;\n",
              "      cursor: pointer;\n",
              "      display: none;\n",
              "      fill: #1967D2;\n",
              "      height: 32px;\n",
              "      padding: 0 0 0 0;\n",
              "      width: 32px;\n",
              "    }\n",
              "\n",
              "    .colab-df-convert:hover {\n",
              "      background-color: #E2EBFA;\n",
              "      box-shadow: 0px 1px 2px rgba(60, 64, 67, 0.3), 0px 1px 3px 1px rgba(60, 64, 67, 0.15);\n",
              "      fill: #174EA6;\n",
              "    }\n",
              "\n",
              "    [theme=dark] .colab-df-convert {\n",
              "      background-color: #3B4455;\n",
              "      fill: #D2E3FC;\n",
              "    }\n",
              "\n",
              "    [theme=dark] .colab-df-convert:hover {\n",
              "      background-color: #434B5C;\n",
              "      box-shadow: 0px 1px 3px 1px rgba(0, 0, 0, 0.15);\n",
              "      filter: drop-shadow(0px 1px 2px rgba(0, 0, 0, 0.3));\n",
              "      fill: #FFFFFF;\n",
              "    }\n",
              "  </style>\n",
              "\n",
              "      <script>\n",
              "        const buttonEl =\n",
              "          document.querySelector('#df-0536a7a9-e445-48be-8753-b250283fb18c button.colab-df-convert');\n",
              "        buttonEl.style.display =\n",
              "          google.colab.kernel.accessAllowed ? 'block' : 'none';\n",
              "\n",
              "        async function convertToInteractive(key) {\n",
              "          const element = document.querySelector('#df-0536a7a9-e445-48be-8753-b250283fb18c');\n",
              "          const dataTable =\n",
              "            await google.colab.kernel.invokeFunction('convertToInteractive',\n",
              "                                                     [key], {});\n",
              "          if (!dataTable) return;\n",
              "\n",
              "          const docLinkHtml = 'Like what you see? Visit the ' +\n",
              "            '<a target=\"_blank\" href=https://colab.research.google.com/notebooks/data_table.ipynb>data table notebook</a>'\n",
              "            + ' to learn more about interactive tables.';\n",
              "          element.innerHTML = '';\n",
              "          dataTable['output_type'] = 'display_data';\n",
              "          await google.colab.output.renderOutput(dataTable, element);\n",
              "          const docLink = document.createElement('div');\n",
              "          docLink.innerHTML = docLinkHtml;\n",
              "          element.appendChild(docLink);\n",
              "        }\n",
              "      </script>\n",
              "    </div>\n",
              "  </div>\n",
              "  "
            ]
          },
          "metadata": {},
          "execution_count": 33
        }
      ],
      "source": [
        "ratings.tail(10)"
      ]
    },
    {
      "cell_type": "code",
      "execution_count": 34,
      "metadata": {
        "id": "z7Z4O7G7JiWm"
      },
      "outputs": [],
      "source": [
        "# 고유한 유저, 영화를 찾아내는 코드\n",
        "user_unique = ratings['user_id'].unique()\n",
        "movie_unique = ratings['movie_id'].unique()\n",
        "\n",
        "# 유저, 영화 indexing 하는 코드\n",
        "user_to_idx = {v:k for k,v in enumerate(user_unique)}\n",
        "movie_to_idx = {v:k for k,v in enumerate(movie_unique)}"
      ]
    },
    {
      "cell_type": "code",
      "execution_count": 35,
      "metadata": {
        "colab": {
          "base_uri": "https://localhost:8080/"
        },
        "id": "LlTh3RqpJliD",
        "outputId": "6785b755-4eb1-488d-94e7-2fbdfea2215d"
      },
      "outputs": [
        {
          "output_type": "execute_result",
          "data": {
            "text/plain": [
              "246098"
            ]
          },
          "metadata": {},
          "execution_count": 35
        }
      ],
      "source": [
        "user_to_idx['Chae']"
      ]
    },
    {
      "cell_type": "code",
      "execution_count": 36,
      "metadata": {
        "colab": {
          "base_uri": "https://localhost:8080/"
        },
        "id": "c05R3l77JliD",
        "outputId": "e2614a8a-e85c-4f93-c7be-5c546161bc9f"
      },
      "outputs": [
        {
          "output_type": "stream",
          "name": "stdout",
          "text": [
            "user_id column indexing OK!!\n",
            "movie id column indexing OK!!\n"
          ]
        }
      ],
      "source": [
        "temp_user_data = ratings['user_id'].map(user_to_idx.get).dropna()\n",
        "if len(temp_user_data) == len(ratings):   # 모든 row가 정상적으로 인덱싱되었다면\n",
        "    print('user_id column indexing OK!!')\n",
        "    ratings['user_id'] = temp_user_data   # data['user_id']을 인덱싱된 Series로 교체해 줍니다. \n",
        "else:\n",
        "    print('user_id column indexing Fail!!')\n",
        "\n",
        "# artist_to_idx을 통해 movie_id 컬럼도 동일한 방식으로 인덱싱해 줍니다. \n",
        "temp_movie_data = ratings['movie_id'].map(movie_to_idx.get).dropna()\n",
        "if len(temp_movie_data) == len(ratings):\n",
        "    print('movie id column indexing OK!!')\n",
        "    ratings['movie_id'] = temp_movie_data\n",
        "else:\n",
        "    print('movie id column indexing Fail!!')"
      ]
    },
    {
      "cell_type": "code",
      "execution_count": 37,
      "metadata": {
        "colab": {
          "base_uri": "https://localhost:8080/",
          "height": 363
        },
        "id": "vUnDW9ojJliE",
        "outputId": "13f03405-fe64-4c82-aa45-9ec67c218907"
      },
      "outputs": [
        {
          "output_type": "execute_result",
          "data": {
            "text/plain": [
              "          movie_id  user_id  count  \\\n",
              "28490100     59895    37069    3.5   \n",
              "28490101     59896    37069    4.0   \n",
              "28490104     59897   200523    4.5   \n",
              "28490105     59898    69886    5.0   \n",
              "28490113     59899    69891    3.0   \n",
              "0            15713   246098    5.0   \n",
              "1             7094   246098    5.0   \n",
              "2             6326   246098    5.0   \n",
              "3             4621   246098    5.0   \n",
              "4             3133   246098    5.0   \n",
              "\n",
              "                                                    title  avgRating  \n",
              "28490100                           Silent Möbius 2 (1992)    3.50000  \n",
              "28490101       Great Planet Evil-Destroyer Dangaio (1987)    4.00000  \n",
              "28490104                      A Thief in the Night (1972)    2.62500  \n",
              "28490105               Desperate Teenage Lovedolls (1984)    5.00000  \n",
              "28490113  The Mayo Clinic, Faith, Hope and Science (2018)    3.16667  \n",
              "0                                                     NaN        NaN  \n",
              "1                                                     NaN        NaN  \n",
              "2                                                     NaN        NaN  \n",
              "3                                                     NaN        NaN  \n",
              "4                                                     NaN        NaN  "
            ],
            "text/html": [
              "\n",
              "  <div id=\"df-61a73ca4-bb8b-47ef-810a-d5b8d0454b0f\">\n",
              "    <div class=\"colab-df-container\">\n",
              "      <div>\n",
              "<style scoped>\n",
              "    .dataframe tbody tr th:only-of-type {\n",
              "        vertical-align: middle;\n",
              "    }\n",
              "\n",
              "    .dataframe tbody tr th {\n",
              "        vertical-align: top;\n",
              "    }\n",
              "\n",
              "    .dataframe thead th {\n",
              "        text-align: right;\n",
              "    }\n",
              "</style>\n",
              "<table border=\"1\" class=\"dataframe\">\n",
              "  <thead>\n",
              "    <tr style=\"text-align: right;\">\n",
              "      <th></th>\n",
              "      <th>movie_id</th>\n",
              "      <th>user_id</th>\n",
              "      <th>count</th>\n",
              "      <th>title</th>\n",
              "      <th>avgRating</th>\n",
              "    </tr>\n",
              "  </thead>\n",
              "  <tbody>\n",
              "    <tr>\n",
              "      <th>28490100</th>\n",
              "      <td>59895</td>\n",
              "      <td>37069</td>\n",
              "      <td>3.5</td>\n",
              "      <td>Silent Möbius 2 (1992)</td>\n",
              "      <td>3.50000</td>\n",
              "    </tr>\n",
              "    <tr>\n",
              "      <th>28490101</th>\n",
              "      <td>59896</td>\n",
              "      <td>37069</td>\n",
              "      <td>4.0</td>\n",
              "      <td>Great Planet Evil-Destroyer Dangaio (1987)</td>\n",
              "      <td>4.00000</td>\n",
              "    </tr>\n",
              "    <tr>\n",
              "      <th>28490104</th>\n",
              "      <td>59897</td>\n",
              "      <td>200523</td>\n",
              "      <td>4.5</td>\n",
              "      <td>A Thief in the Night (1972)</td>\n",
              "      <td>2.62500</td>\n",
              "    </tr>\n",
              "    <tr>\n",
              "      <th>28490105</th>\n",
              "      <td>59898</td>\n",
              "      <td>69886</td>\n",
              "      <td>5.0</td>\n",
              "      <td>Desperate Teenage Lovedolls (1984)</td>\n",
              "      <td>5.00000</td>\n",
              "    </tr>\n",
              "    <tr>\n",
              "      <th>28490113</th>\n",
              "      <td>59899</td>\n",
              "      <td>69891</td>\n",
              "      <td>3.0</td>\n",
              "      <td>The Mayo Clinic, Faith, Hope and Science (2018)</td>\n",
              "      <td>3.16667</td>\n",
              "    </tr>\n",
              "    <tr>\n",
              "      <th>0</th>\n",
              "      <td>15713</td>\n",
              "      <td>246098</td>\n",
              "      <td>5.0</td>\n",
              "      <td>NaN</td>\n",
              "      <td>NaN</td>\n",
              "    </tr>\n",
              "    <tr>\n",
              "      <th>1</th>\n",
              "      <td>7094</td>\n",
              "      <td>246098</td>\n",
              "      <td>5.0</td>\n",
              "      <td>NaN</td>\n",
              "      <td>NaN</td>\n",
              "    </tr>\n",
              "    <tr>\n",
              "      <th>2</th>\n",
              "      <td>6326</td>\n",
              "      <td>246098</td>\n",
              "      <td>5.0</td>\n",
              "      <td>NaN</td>\n",
              "      <td>NaN</td>\n",
              "    </tr>\n",
              "    <tr>\n",
              "      <th>3</th>\n",
              "      <td>4621</td>\n",
              "      <td>246098</td>\n",
              "      <td>5.0</td>\n",
              "      <td>NaN</td>\n",
              "      <td>NaN</td>\n",
              "    </tr>\n",
              "    <tr>\n",
              "      <th>4</th>\n",
              "      <td>3133</td>\n",
              "      <td>246098</td>\n",
              "      <td>5.0</td>\n",
              "      <td>NaN</td>\n",
              "      <td>NaN</td>\n",
              "    </tr>\n",
              "  </tbody>\n",
              "</table>\n",
              "</div>\n",
              "      <button class=\"colab-df-convert\" onclick=\"convertToInteractive('df-61a73ca4-bb8b-47ef-810a-d5b8d0454b0f')\"\n",
              "              title=\"Convert this dataframe to an interactive table.\"\n",
              "              style=\"display:none;\">\n",
              "        \n",
              "  <svg xmlns=\"http://www.w3.org/2000/svg\" height=\"24px\"viewBox=\"0 0 24 24\"\n",
              "       width=\"24px\">\n",
              "    <path d=\"M0 0h24v24H0V0z\" fill=\"none\"/>\n",
              "    <path d=\"M18.56 5.44l.94 2.06.94-2.06 2.06-.94-2.06-.94-.94-2.06-.94 2.06-2.06.94zm-11 1L8.5 8.5l.94-2.06 2.06-.94-2.06-.94L8.5 2.5l-.94 2.06-2.06.94zm10 10l.94 2.06.94-2.06 2.06-.94-2.06-.94-.94-2.06-.94 2.06-2.06.94z\"/><path d=\"M17.41 7.96l-1.37-1.37c-.4-.4-.92-.59-1.43-.59-.52 0-1.04.2-1.43.59L10.3 9.45l-7.72 7.72c-.78.78-.78 2.05 0 2.83L4 21.41c.39.39.9.59 1.41.59.51 0 1.02-.2 1.41-.59l7.78-7.78 2.81-2.81c.8-.78.8-2.07 0-2.86zM5.41 20L4 18.59l7.72-7.72 1.47 1.35L5.41 20z\"/>\n",
              "  </svg>\n",
              "      </button>\n",
              "      \n",
              "  <style>\n",
              "    .colab-df-container {\n",
              "      display:flex;\n",
              "      flex-wrap:wrap;\n",
              "      gap: 12px;\n",
              "    }\n",
              "\n",
              "    .colab-df-convert {\n",
              "      background-color: #E8F0FE;\n",
              "      border: none;\n",
              "      border-radius: 50%;\n",
              "      cursor: pointer;\n",
              "      display: none;\n",
              "      fill: #1967D2;\n",
              "      height: 32px;\n",
              "      padding: 0 0 0 0;\n",
              "      width: 32px;\n",
              "    }\n",
              "\n",
              "    .colab-df-convert:hover {\n",
              "      background-color: #E2EBFA;\n",
              "      box-shadow: 0px 1px 2px rgba(60, 64, 67, 0.3), 0px 1px 3px 1px rgba(60, 64, 67, 0.15);\n",
              "      fill: #174EA6;\n",
              "    }\n",
              "\n",
              "    [theme=dark] .colab-df-convert {\n",
              "      background-color: #3B4455;\n",
              "      fill: #D2E3FC;\n",
              "    }\n",
              "\n",
              "    [theme=dark] .colab-df-convert:hover {\n",
              "      background-color: #434B5C;\n",
              "      box-shadow: 0px 1px 3px 1px rgba(0, 0, 0, 0.15);\n",
              "      filter: drop-shadow(0px 1px 2px rgba(0, 0, 0, 0.3));\n",
              "      fill: #FFFFFF;\n",
              "    }\n",
              "  </style>\n",
              "\n",
              "      <script>\n",
              "        const buttonEl =\n",
              "          document.querySelector('#df-61a73ca4-bb8b-47ef-810a-d5b8d0454b0f button.colab-df-convert');\n",
              "        buttonEl.style.display =\n",
              "          google.colab.kernel.accessAllowed ? 'block' : 'none';\n",
              "\n",
              "        async function convertToInteractive(key) {\n",
              "          const element = document.querySelector('#df-61a73ca4-bb8b-47ef-810a-d5b8d0454b0f');\n",
              "          const dataTable =\n",
              "            await google.colab.kernel.invokeFunction('convertToInteractive',\n",
              "                                                     [key], {});\n",
              "          if (!dataTable) return;\n",
              "\n",
              "          const docLinkHtml = 'Like what you see? Visit the ' +\n",
              "            '<a target=\"_blank\" href=https://colab.research.google.com/notebooks/data_table.ipynb>data table notebook</a>'\n",
              "            + ' to learn more about interactive tables.';\n",
              "          element.innerHTML = '';\n",
              "          dataTable['output_type'] = 'display_data';\n",
              "          await google.colab.output.renderOutput(dataTable, element);\n",
              "          const docLink = document.createElement('div');\n",
              "          docLink.innerHTML = docLinkHtml;\n",
              "          element.appendChild(docLink);\n",
              "        }\n",
              "      </script>\n",
              "    </div>\n",
              "  </div>\n",
              "  "
            ]
          },
          "metadata": {},
          "execution_count": 37
        }
      ],
      "source": [
        "ratings.tail(10)"
      ]
    },
    {
      "cell_type": "code",
      "execution_count": 38,
      "metadata": {
        "colab": {
          "base_uri": "https://localhost:8080/"
        },
        "id": "2giCCU8FnqS1",
        "outputId": "82f98d33-b0f1-4c4e-de80-bca021779a12"
      },
      "outputs": [
        {
          "output_type": "execute_result",
          "data": {
            "text/plain": [
              "<246099x59900 sparse matrix of type '<class 'numpy.float64'>'\n",
              "\twith 23163234 stored elements in Compressed Sparse Row format>"
            ]
          },
          "metadata": {},
          "execution_count": 38
        }
      ],
      "source": [
        "num_user = ratings['user_id'].nunique()\n",
        "num_movie = ratings['movie_id'].nunique()\n",
        "\n",
        "csr_data = csr_matrix((ratings['count'], (ratings['user_id'], ratings['movie_id'])), shape=(num_user, num_movie))\n",
        "csr_data"
      ]
    },
    {
      "cell_type": "markdown",
      "metadata": {
        "id": "Dn70gFQcfGA0"
      },
      "source": [
        "- 이번에는 GPU 옵션을 True로 설정합니다.  \n",
        "- factor는 500, iteration은 20입니다.\n",
        "- 문제는 속도는 매우 빠른데... error가 빈번하게 발생하며, vector 값을 기존의 방법대로 찍을 수 없어서 확인을 못합니다."
      ]
    },
    {
      "cell_type": "code",
      "execution_count": 39,
      "metadata": {
        "id": "O3rRIUsKKQIY"
      },
      "outputs": [],
      "source": [
        "als_model_8 = AlternatingLeastSquares(factors=500, \n",
        "                                      regularization=0.01, \n",
        "                                      use_gpu=True, \n",
        "                                      iterations=20, \n",
        "                                      dtype=np.float32)"
      ]
    },
    {
      "cell_type": "code",
      "execution_count": 40,
      "metadata": {
        "colab": {
          "base_uri": "https://localhost:8080/",
          "height": 49,
          "referenced_widgets": [
            "c9e1da81940d4c84a96be6a5176488b6",
            "afc45e000e564dea9b9a57defa94f195",
            "2685f5b8e9424eb3ae6a22bebf1f18d0",
            "ed3b3f2763b14cd28728459f1d755e53",
            "26c5f234e61d4985b16695da0df413c1",
            "5bc8ef3d8dc844fb9fd4e07067ba3534",
            "1dfd58b1466340738a97c91d6f15a826",
            "755dd0ed94a649ff87615758eccc37e7",
            "371e52607c62471faa30469fcd660696",
            "0f7d34679dab40369944ad605d2a3e69",
            "0ee1b10a35a54b0f9b00cc96c74e509d"
          ]
        },
        "id": "ZLDAX9JoKQF9",
        "outputId": "1c0eba2a-175a-49c6-f3f1-e2df2b7fed86"
      },
      "outputs": [
        {
          "output_type": "display_data",
          "data": {
            "text/plain": [
              "  0%|          | 0/20 [00:00<?, ?it/s]"
            ],
            "application/vnd.jupyter.widget-view+json": {
              "version_major": 2,
              "version_minor": 0,
              "model_id": "c9e1da81940d4c84a96be6a5176488b6"
            }
          },
          "metadata": {}
        }
      ],
      "source": [
        "als_model_8.fit(csr_data)"
      ]
    },
    {
      "cell_type": "code",
      "source": [
        "user = user_to_idx['Chae']\n",
        "# recommend에서는 user*item CSR Matrix를 받습니다.\n",
        "movie_recommended = als_model_8.recommend(user, csr_data[user], N=10)"
      ],
      "metadata": {
        "id": "GYYA8NfqSqX7"
      },
      "execution_count": 121,
      "outputs": []
    },
    {
      "cell_type": "markdown",
      "source": [
        "- 함수를 이용해 10개만 추천 받아봅니다."
      ],
      "metadata": {
        "id": "B5i0yJmFXOWX"
      }
    },
    {
      "cell_type": "code",
      "source": [
        "recommended_movies('Chae', als_model_8, 10)"
      ],
      "metadata": {
        "colab": {
          "base_uri": "https://localhost:8080/"
        },
        "id": "VVDNflfPXNZT",
        "outputId": "4d8f6e4c-2f81-49df-f9ce-b253d4b206b3"
      },
      "execution_count": 125,
      "outputs": [
        {
          "output_type": "stream",
          "name": "stdout",
          "text": [
            "Lord of the Rings: The Return of the King, The (2003)\n",
            "Lord of the Rings: The Fellowship of the Ring, The (2001)\n",
            "Dark Knight Rises, The (2012)\n",
            "The Imitation Game (2014)\n",
            "The Martian (2015)\n",
            "Gone Girl (2014)\n",
            "Batman Begins (2005)\n",
            "Edge of Tomorrow (2014)\n",
            "Arrival (2016)\n",
            "Ex Machina (2015)\n"
          ]
        }
      ]
    },
    {
      "cell_type": "markdown",
      "metadata": {
        "id": "MZaoTgu8oiW_"
      },
      "source": [
        "- 딱 제가 좋아하는 영화들만 모여있네요.  \n",
        "- 90년대 영화에서 벗어났습니다.\n",
        "싹 다 제 취향입니다..."
      ]
    },
    {
      "cell_type": "markdown",
      "metadata": {
        "id": "Z3RsP9cKNzbC"
      },
      "source": [
        "#### 1.6.7 Similar_users"
      ]
    },
    {
      "cell_type": "markdown",
      "metadata": {
        "id": "bvDG9_ddNzYY"
      },
      "source": [
        "- 이번에는 저와 비슷한 user를 찾아봅니다."
      ]
    },
    {
      "cell_type": "code",
      "execution_count": 126,
      "metadata": {
        "colab": {
          "base_uri": "https://localhost:8080/"
        },
        "id": "rSGY14EEKP-0",
        "outputId": "7a949186-a1f2-47ac-870b-a00e5bdb5868"
      },
      "outputs": [
        {
          "output_type": "stream",
          "name": "stdout",
          "text": [
            "(array([246098, 242194, 242212, 240839, 239962, 242199, 244223, 242236,\n",
            "       225203, 242196], dtype=int32), array([1.0000001 , 0.84673256, 0.81196904, 0.8040556 , 0.74198925,\n",
            "       0.7319381 , 0.7207067 , 0.71995497, 0.6984868 , 0.6981419 ],\n",
            "      dtype=float32))\n"
          ]
        }
      ],
      "source": [
        "user = user_to_idx['Chae']\n",
        "similar_users = als_model_8.similar_users(user, N=10, filter_users=None, users=None)\n",
        "print(similar_users)"
      ]
    },
    {
      "cell_type": "markdown",
      "metadata": {
        "id": "HedYRf0zo43k"
      },
      "source": [
        "- 0.6829의 내적을 나타내는 240839번 user가 있습니다.  \n",
        "참고로 246098은 제 번호 입니다."
      ]
    },
    {
      "cell_type": "code",
      "execution_count": 127,
      "metadata": {
        "id": "FQ4Q33PEKP8W"
      },
      "outputs": [],
      "source": [
        "similar_users = similar_users[0]"
      ]
    },
    {
      "cell_type": "code",
      "execution_count": 128,
      "metadata": {
        "id": "jmnPF759OoyC"
      },
      "outputs": [],
      "source": [
        "idx_to_user = {v:k for k,v in user_to_idx.items()}\n",
        "my_similar_users = [idx_to_user[i] for i in similar_users]"
      ]
    },
    {
      "cell_type": "markdown",
      "metadata": {
        "id": "pFc7cBuApXfy"
      },
      "source": [
        "- index에서 user_id를 뽑아봅니다."
      ]
    },
    {
      "cell_type": "code",
      "execution_count": 129,
      "metadata": {
        "colab": {
          "base_uri": "https://localhost:8080/"
        },
        "id": "zzaC9IpShCs-",
        "outputId": "3ce133a9-7f74-421a-860b-822671592428"
      },
      "outputs": [
        {
          "output_type": "stream",
          "name": "stdout",
          "text": [
            "['Chae', 335571.0, 730980.0, 278693.0, 830853.0, 410314.0, 289246.0, 172568.0, 846390.0, 171368.0]\n"
          ]
        }
      ],
      "source": [
        "print(my_similar_users)"
      ]
    },
    {
      "cell_type": "markdown",
      "metadata": {
        "id": "LpnnKlFbpUaI"
      },
      "source": [
        "- 어짜피 ratings에 indexing을 진행했으므로 idx 값을 그대로 넣어줍니다."
      ]
    },
    {
      "cell_type": "code",
      "execution_count": 130,
      "metadata": {
        "colab": {
          "base_uri": "https://localhost:8080/"
        },
        "id": "G_HxydVbPN9d",
        "outputId": "2d0eb079-c808-4ef4-84b9-a787ec1a91dc"
      },
      "outputs": [
        {
          "output_type": "stream",
          "name": "stdout",
          "text": [
            "          movie_id  user_id  count  \\\n",
            "16177819      3133   242194    5.0   \n",
            "18717074      4591   242194    5.0   \n",
            "25197929      7094   242194    4.5   \n",
            "\n",
            "                                                      title  avgRating  \n",
            "16177819                                   Inception (2010)    4.17404  \n",
            "18717074  Lord of the Rings: The Fellowship of the Ring,...    4.09616  \n",
            "25197929                                Interstellar (2014)    4.12967  \n"
          ]
        }
      ],
      "source": [
        "user_data = ratings.loc[ratings['user_id'].isin([242194])]\n",
        "print(user_data)"
      ]
    },
    {
      "cell_type": "markdown",
      "source": [
        "- 딱 제 favorite list와 겹치게 봐서 3편이지만 유사도가 제일 높습니다."
      ],
      "metadata": {
        "id": "hxUitSKSYrnY"
      }
    },
    {
      "cell_type": "code",
      "source": [
        "user_data = ratings.loc[ratings['user_id'].isin([242212])]\n",
        "print(user_data)"
      ],
      "metadata": {
        "colab": {
          "base_uri": "https://localhost:8080/"
        },
        "id": "6yS0x5DQX6oc",
        "outputId": "7a9efdad-c323-4bc0-9ce9-549f3a6217ad"
      },
      "execution_count": 133,
      "outputs": [
        {
          "output_type": "stream",
          "name": "stdout",
          "text": [
            "          movie_id  user_id  count  \\\n",
            "16181860      3133   242212    4.5   \n",
            "19206491      4662   242212    5.0   \n",
            "23703882      6326   242212    5.0   \n",
            "\n",
            "                                                      title  avgRating  \n",
            "16181860                                   Inception (2010)    4.17404  \n",
            "19206491  Lord of the Rings: The Return of the King, The...    4.10393  \n",
            "23703882                            Dark Knight, The (2008)    4.18379  \n"
          ]
        }
      ]
    },
    {
      "cell_type": "markdown",
      "source": [
        "- 마찬가지입니다."
      ],
      "metadata": {
        "id": "8mCwXDPrY0dy"
      }
    },
    {
      "cell_type": "code",
      "source": [
        "user_data = ratings.loc[ratings['user_id'].isin([240839])]\n",
        "print(user_data)"
      ],
      "metadata": {
        "colab": {
          "base_uri": "https://localhost:8080/"
        },
        "id": "NEwFjp4cYEqR",
        "outputId": "cc3761cf-987d-4c96-944a-e65282dcd831"
      },
      "execution_count": 134,
      "outputs": [
        {
          "output_type": "stream",
          "name": "stdout",
          "text": [
            "          movie_id  user_id  count  \\\n",
            "14151341      2043   240839    4.5   \n",
            "16195325      3133   240839    5.0   \n",
            "16918938      4129   240839    3.5   \n",
            "18732048      4591   240839    5.0   \n",
            "18974797      4621   240839    5.0   \n",
            "19218841      4662   240839    5.0   \n",
            "23715522      6326   240839    5.0   \n",
            "25210442      7094   240839    5.0   \n",
            "26214167      8474   240839    4.5   \n",
            "\n",
            "                                                      title  avgRating  \n",
            "14151341                         Catch Me If You Can (2002)    3.94781  \n",
            "16195325                                   Inception (2010)    4.17404  \n",
            "16918938                                The Big Sick (2017)    3.81970  \n",
            "18732048  Lord of the Rings: The Fellowship of the Ring,...    4.09616  \n",
            "18974797      Lord of the Rings: The Two Towers, The (2002)    4.07515  \n",
            "19218841  Lord of the Rings: The Return of the King, The...    4.10393  \n",
            "23715522                            Dark Knight, The (2008)    4.18379  \n",
            "25210442                                Interstellar (2014)    4.12967  \n",
            "26214167                           Blade Runner 2049 (2017)    3.94384  \n"
          ]
        }
      ]
    },
    {
      "cell_type": "markdown",
      "source": [
        "- 저랑 취향이 비슷합니다 'Blade Runner 2049'도 겁나 좋아합니다..."
      ],
      "metadata": {
        "id": "fbMWqAF5YOg4"
      }
    },
    {
      "cell_type": "code",
      "source": [
        "user_data = ratings.loc[ratings['user_id'].isin([239962])]\n",
        "print(user_data)"
      ],
      "metadata": {
        "colab": {
          "base_uri": "https://localhost:8080/"
        },
        "id": "XpnGshEhYlcX",
        "outputId": "2611b41c-cc73-496c-9de6-d05f94cbaadc"
      },
      "execution_count": 136,
      "outputs": [
        {
          "output_type": "stream",
          "name": "stdout",
          "text": [
            "          movie_id  user_id  count  \\\n",
            "12903688      1697   239962    4.5   \n",
            "16190901      3133   239962    4.0   \n",
            "18728388      4591   239962    4.0   \n",
            "18971347      4621   239962    3.0   \n",
            "19214857      4662   239962    4.0   \n",
            "23711891      6326   239962    3.5   \n",
            "\n",
            "                                                      title  avgRating  \n",
            "12903688                                   Gladiator (2000)    3.96406  \n",
            "16190901                                   Inception (2010)    4.17404  \n",
            "18728388  Lord of the Rings: The Fellowship of the Ring,...    4.09616  \n",
            "18971347      Lord of the Rings: The Two Towers, The (2002)    4.07515  \n",
            "19214857  Lord of the Rings: The Return of the King, The...    4.10393  \n",
            "23711891                            Dark Knight, The (2008)    4.18379  \n"
          ]
        }
      ]
    },
    {
      "cell_type": "markdown",
      "source": [
        "- 비교해서 보니까 재미있네요."
      ],
      "metadata": {
        "id": "uQZcLk3dY8Fi"
      }
    },
    {
      "cell_type": "code",
      "source": [
        "user_data = ratings.loc[ratings['user_id'].isin([242199])]\n",
        "print(user_data)"
      ],
      "metadata": {
        "colab": {
          "base_uri": "https://localhost:8080/"
        },
        "id": "7mpbjTBCYFGr",
        "outputId": "d72b17ac-94fe-4cd4-bd70-c076679f98ea"
      },
      "execution_count": 137,
      "outputs": [
        {
          "output_type": "stream",
          "name": "stdout",
          "text": [
            "          movie_id  user_id  count  \\\n",
            "16178966      3133   242199    5.0   \n",
            "16735310      3821   242199    3.5   \n",
            "16781730      3936   242199    4.0   \n",
            "18718136      4591   242199    5.0   \n",
            "18961917      4621   242199    4.5   \n",
            "19203816      4662   242199    5.0   \n",
            "25198993      7094   242199    5.0   \n",
            "\n",
            "                                                      title  avgRating  \n",
            "16178966                                   Inception (2010)    4.17404  \n",
            "16735310                          The Imitation Game (2014)    4.01275  \n",
            "16781730                                 The Martian (2015)    4.03858  \n",
            "18718136  Lord of the Rings: The Fellowship of the Ring,...    4.09616  \n",
            "18961917      Lord of the Rings: The Two Towers, The (2002)    4.07515  \n",
            "19203816  Lord of the Rings: The Return of the King, The...    4.10393  \n",
            "25198993                                Interstellar (2014)    4.12967  \n"
          ]
        }
      ]
    },
    {
      "cell_type": "markdown",
      "metadata": {
        "id": "pczcETgbpn0Q"
      },
      "source": [
        "- 마션도 겁나 좋아합니다."
      ]
    },
    {
      "cell_type": "markdown",
      "metadata": {
        "id": "4pYMioGaWy85"
      },
      "source": [
        "## 2. Retrospect"
      ]
    },
    {
      "cell_type": "markdown",
      "source": [
        "##### 1) Vector\n",
        "- vector의 차이에 따른 추천을 비교해봤습니다.  \n",
        "vector 값이 무조건 크다고 해서 추천을 잘해주는 건 아닌 것 같습니다.  \n",
        "일종의 over_fitting인 것 같은 느낌을 많이 받았는데 작성한 favorite list를 제외하고 나머지 값들과는 유사도가 매우 차이 났습니다."
      ],
      "metadata": {
        "id": "ZX3V1JGCRwgH"
      }
    },
    {
      "cell_type": "markdown",
      "metadata": {
        "id": "8uLc83GoqIkb"
      },
      "source": [
        "##### 2) Json file\n",
        "- 그냥 json파일 불러오면 끝이 아니라는 걸 깨달았습니다.  \n",
        "특히 이번처럼 GB 단위로 넘어가는 json파일은 한 줄 한 줄 정성을 다하지 않으면... 커널이 못 버팁니다.  \n",
        "불러오는 것까지는 어떻게 했다고 한들 model도 학습해야 하니까요.  \n",
        "다른건 몰라도 Json 파일 여는 법은 제대로 배워갑니다.  \n",
        "꼭 함수로 처리해 한줄 한줄 정성을 다합시다."
      ]
    },
    {
      "cell_type": "markdown",
      "metadata": {
        "id": "OnHrqeazqIhr"
      },
      "source": [
        "##### 3) Data\n",
        "- Data는 많아야 합니다.  \n",
        "데이터가 적을 수록 재미 없습니다. 시간이 걸리더라도 많은 데이터로 model을 돌려야 기분이 좋습니다.  \n",
        "시간이 허락하는 한 최대한 많은 데이터를 가져다가 사용해봐야겠습니다."
      ]
    },
    {
      "cell_type": "markdown",
      "metadata": {
        "id": "F3seiWUDqIfT"
      },
      "source": [
        "##### 4) implicit\n",
        "- implicit 패키지는 생각보다 관리를 안 하는 것 같습니다. update에서 변화가 있지만 설명이 부실하다거나  \n",
        "사람들이 많이 사용하지 않아 오류에 대한 논의도 별로 없는 것 같습니다.  \n",
        "비슷한 기능을 가진 패키지가 있다면 대중적인 부분을 따지고 사용하는 것도 좋겠습니다."
      ]
    },
    {
      "cell_type": "markdown",
      "metadata": {
        "id": "65J4hSDZsvg9"
      },
      "source": [
        "##### 5) Version\n",
        "- 매번 version 문제는 한번씩은 터집니다. downgrade도 불가능하고,  \n",
        "사용하는 version에 따라 matrix를 transpose 해야하는 경우도 생깁니다.  \n",
        "output의 array도 달라 생각보다 고생했습니다."
      ]
    },
    {
      "cell_type": "markdown",
      "metadata": {
        "id": "8ziod6cGuIWn"
      },
      "source": [
        "##### 6) Library\n",
        "- Amazon의 Surprise이나 LightFM, Buffalo, Spotlight 등의 라이브러리를 써보고 싶었습니다만, 시간이 없어 넘어갑니다.  \n",
        "다음에는 여러 라이브러리를 비교해보려 합니다."
      ]
    },
    {
      "cell_type": "markdown",
      "metadata": {
        "id": "JLEdqbLJWy6A"
      },
      "source": [
        "## 3. References"
      ]
    },
    {
      "cell_type": "markdown",
      "metadata": {
        "id": "YUQnLy6yWy3Z"
      },
      "source": [
        "- 아래의 사이트에서 많은 도움을 받았습니다."
      ]
    },
    {
      "cell_type": "markdown",
      "metadata": {
        "id": "RGTcKIKxwuQx"
      },
      "source": [
        "##### 1) MovieLens\n",
        "- https://grouplens.org/datasets/movielens/"
      ]
    },
    {
      "cell_type": "markdown",
      "metadata": {
        "id": "tBimx3jrvfgH"
      },
      "source": [
        "##### 2) Implicit(0.5.0)\n",
        "- (0.5.0)\n",
        "- https://benfred.github.io/implicit/index.html\n",
        "- https://github.com/benfred/implicit/issues/535\n",
        "\n",
        "- (0.4.8)\n",
        "- https://implicit.readthedocs.io/en/latest/quickstart.html"
      ]
    },
    {
      "cell_type": "markdown",
      "metadata": {
        "id": "NGfkKTpCwEnx"
      },
      "source": [
        "##### 3) Surprise\n",
        "- https://surprise.readthedocs.io/en/stable/index.html"
      ]
    },
    {
      "cell_type": "markdown",
      "metadata": {
        "id": "tywdQrJxwI66"
      },
      "source": [
        "##### 4) LightFM\n",
        "- https://making.lyst.com/lightfm/docs/home.html"
      ]
    },
    {
      "cell_type": "markdown",
      "metadata": {
        "id": "W7tw3bJwwMDa"
      },
      "source": [
        "##### 5) Buffalo\n",
        "- https://buffalo-recsys.readthedocs.io/en/latest/index.html"
      ]
    },
    {
      "cell_type": "markdown",
      "metadata": {
        "id": "eho6MjGqwRGo"
      },
      "source": [
        "##### 6) Spotlight\n",
        "- https://maciejkula.github.io/spotlight/index.html"
      ]
    }
  ],
  "metadata": {
    "accelerator": "GPU",
    "colab": {
      "collapsed_sections": [],
      "machine_shape": "hm",
      "name": "[E15]ing_final_진짜_마지막_마지막_마지막.ipynb",
      "provenance": [],
      "toc_visible": true
    },
    "gpuClass": "standard",
    "kernelspec": {
      "display_name": "Python 3 (ipykernel)",
      "language": "python",
      "name": "python3"
    },
    "language_info": {
      "codemirror_mode": {
        "name": "ipython",
        "version": 3
      },
      "file_extension": ".py",
      "mimetype": "text/x-python",
      "name": "python",
      "nbconvert_exporter": "python",
      "pygments_lexer": "ipython3",
      "version": "3.9.7"
    },
    "widgets": {
      "application/vnd.jupyter.widget-state+json": {
        "04a1269d0949475bb074a1eea2a87306": {
          "model_module": "@jupyter-widgets/controls",
          "model_module_version": "1.5.0",
          "model_name": "ProgressStyleModel",
          "state": {
            "_model_module": "@jupyter-widgets/controls",
            "_model_module_version": "1.5.0",
            "_model_name": "ProgressStyleModel",
            "_view_count": null,
            "_view_module": "@jupyter-widgets/base",
            "_view_module_version": "1.2.0",
            "_view_name": "StyleView",
            "bar_color": null,
            "description_width": ""
          }
        },
        "0c4eece2b38c4028bc4f41c8d557d31b": {
          "model_module": "@jupyter-widgets/base",
          "model_module_version": "1.2.0",
          "model_name": "LayoutModel",
          "state": {
            "_model_module": "@jupyter-widgets/base",
            "_model_module_version": "1.2.0",
            "_model_name": "LayoutModel",
            "_view_count": null,
            "_view_module": "@jupyter-widgets/base",
            "_view_module_version": "1.2.0",
            "_view_name": "LayoutView",
            "align_content": null,
            "align_items": null,
            "align_self": null,
            "border": null,
            "bottom": null,
            "display": null,
            "flex": null,
            "flex_flow": null,
            "grid_area": null,
            "grid_auto_columns": null,
            "grid_auto_flow": null,
            "grid_auto_rows": null,
            "grid_column": null,
            "grid_gap": null,
            "grid_row": null,
            "grid_template_areas": null,
            "grid_template_columns": null,
            "grid_template_rows": null,
            "height": null,
            "justify_content": null,
            "justify_items": null,
            "left": null,
            "margin": null,
            "max_height": null,
            "max_width": null,
            "min_height": null,
            "min_width": null,
            "object_fit": null,
            "object_position": null,
            "order": null,
            "overflow": null,
            "overflow_x": null,
            "overflow_y": null,
            "padding": null,
            "right": null,
            "top": null,
            "visibility": null,
            "width": null
          }
        },
        "1a107080a9c34add91058497383e3814": {
          "model_module": "@jupyter-widgets/controls",
          "model_module_version": "1.5.0",
          "model_name": "ProgressStyleModel",
          "state": {
            "_model_module": "@jupyter-widgets/controls",
            "_model_module_version": "1.5.0",
            "_model_name": "ProgressStyleModel",
            "_view_count": null,
            "_view_module": "@jupyter-widgets/base",
            "_view_module_version": "1.2.0",
            "_view_name": "StyleView",
            "bar_color": null,
            "description_width": ""
          }
        },
        "1f396b0752884c228ee943e74799765e": {
          "model_module": "@jupyter-widgets/controls",
          "model_module_version": "1.5.0",
          "model_name": "HBoxModel",
          "state": {
            "_dom_classes": [],
            "_model_module": "@jupyter-widgets/controls",
            "_model_module_version": "1.5.0",
            "_model_name": "HBoxModel",
            "_view_count": null,
            "_view_module": "@jupyter-widgets/controls",
            "_view_module_version": "1.5.0",
            "_view_name": "HBoxView",
            "box_style": "",
            "children": [
              "IPY_MODEL_32c534cefa4b4b44845d5e81f7fa7a51",
              "IPY_MODEL_2aa9c18ff5b148bdb72b6f1766f0242d",
              "IPY_MODEL_7fb3f45cb53448a1b869a2c9ab5c9cf2"
            ],
            "layout": "IPY_MODEL_947be05ecf4e499cb88a29aa8db22aa0"
          }
        },
        "2281801321994e45a8e08663c7895fcb": {
          "model_module": "@jupyter-widgets/controls",
          "model_module_version": "1.5.0",
          "model_name": "FloatProgressModel",
          "state": {
            "_dom_classes": [],
            "_model_module": "@jupyter-widgets/controls",
            "_model_module_version": "1.5.0",
            "_model_name": "FloatProgressModel",
            "_view_count": null,
            "_view_module": "@jupyter-widgets/controls",
            "_view_module_version": "1.5.0",
            "_view_name": "ProgressView",
            "bar_style": "success",
            "description": "",
            "description_tooltip": null,
            "layout": "IPY_MODEL_e88859494e274f9aa4edaf636188db5c",
            "max": 50,
            "min": 0,
            "orientation": "horizontal",
            "style": "IPY_MODEL_c85cef967933494ea2172baa122986c7",
            "value": 50
          }
        },
        "252fccbd59574228b990372afc335d78": {
          "model_module": "@jupyter-widgets/controls",
          "model_module_version": "1.5.0",
          "model_name": "FloatProgressModel",
          "state": {
            "_dom_classes": [],
            "_model_module": "@jupyter-widgets/controls",
            "_model_module_version": "1.5.0",
            "_model_name": "FloatProgressModel",
            "_view_count": null,
            "_view_module": "@jupyter-widgets/controls",
            "_view_module_version": "1.5.0",
            "_view_name": "ProgressView",
            "bar_style": "success",
            "description": "",
            "description_tooltip": null,
            "layout": "IPY_MODEL_c059f9114561498886a7e9e69751ce4c",
            "max": 200,
            "min": 0,
            "orientation": "horizontal",
            "style": "IPY_MODEL_04a1269d0949475bb074a1eea2a87306",
            "value": 200
          }
        },
        "298b99e4aee44847af0dd266b7828241": {
          "model_module": "@jupyter-widgets/base",
          "model_module_version": "1.2.0",
          "model_name": "LayoutModel",
          "state": {
            "_model_module": "@jupyter-widgets/base",
            "_model_module_version": "1.2.0",
            "_model_name": "LayoutModel",
            "_view_count": null,
            "_view_module": "@jupyter-widgets/base",
            "_view_module_version": "1.2.0",
            "_view_name": "LayoutView",
            "align_content": null,
            "align_items": null,
            "align_self": null,
            "border": null,
            "bottom": null,
            "display": null,
            "flex": null,
            "flex_flow": null,
            "grid_area": null,
            "grid_auto_columns": null,
            "grid_auto_flow": null,
            "grid_auto_rows": null,
            "grid_column": null,
            "grid_gap": null,
            "grid_row": null,
            "grid_template_areas": null,
            "grid_template_columns": null,
            "grid_template_rows": null,
            "height": null,
            "justify_content": null,
            "justify_items": null,
            "left": null,
            "margin": null,
            "max_height": null,
            "max_width": null,
            "min_height": null,
            "min_width": null,
            "object_fit": null,
            "object_position": null,
            "order": null,
            "overflow": null,
            "overflow_x": null,
            "overflow_y": null,
            "padding": null,
            "right": null,
            "top": null,
            "visibility": null,
            "width": null
          }
        },
        "2aa9c18ff5b148bdb72b6f1766f0242d": {
          "model_module": "@jupyter-widgets/controls",
          "model_module_version": "1.5.0",
          "model_name": "FloatProgressModel",
          "state": {
            "_dom_classes": [],
            "_model_module": "@jupyter-widgets/controls",
            "_model_module_version": "1.5.0",
            "_model_name": "FloatProgressModel",
            "_view_count": null,
            "_view_module": "@jupyter-widgets/controls",
            "_view_module_version": "1.5.0",
            "_view_name": "ProgressView",
            "bar_style": "success",
            "description": "",
            "description_tooltip": null,
            "layout": "IPY_MODEL_7c52f410c8c542279ea11fdb32c9978c",
            "max": 100,
            "min": 0,
            "orientation": "horizontal",
            "style": "IPY_MODEL_1a107080a9c34add91058497383e3814",
            "value": 100
          }
        },
        "32c534cefa4b4b44845d5e81f7fa7a51": {
          "model_module": "@jupyter-widgets/controls",
          "model_module_version": "1.5.0",
          "model_name": "HTMLModel",
          "state": {
            "_dom_classes": [],
            "_model_module": "@jupyter-widgets/controls",
            "_model_module_version": "1.5.0",
            "_model_name": "HTMLModel",
            "_view_count": null,
            "_view_module": "@jupyter-widgets/controls",
            "_view_module_version": "1.5.0",
            "_view_name": "HTMLView",
            "description": "",
            "description_tooltip": null,
            "layout": "IPY_MODEL_62dce41d8a4945f4ac90446bd5ee5419",
            "placeholder": "​",
            "style": "IPY_MODEL_f33e61b4a01548db8af94e4fbbfa4900",
            "value": "100%"
          }
        },
        "380eb15f12ba4811a084171ec223a453": {
          "model_module": "@jupyter-widgets/controls",
          "model_module_version": "1.5.0",
          "model_name": "HBoxModel",
          "state": {
            "_dom_classes": [],
            "_model_module": "@jupyter-widgets/controls",
            "_model_module_version": "1.5.0",
            "_model_name": "HBoxModel",
            "_view_count": null,
            "_view_module": "@jupyter-widgets/controls",
            "_view_module_version": "1.5.0",
            "_view_name": "HBoxView",
            "box_style": "",
            "children": [
              "IPY_MODEL_7f6094495e7d4472999d47378bb24c50",
              "IPY_MODEL_252fccbd59574228b990372afc335d78",
              "IPY_MODEL_84431dda4c6e4957a470c6ecb98639f0"
            ],
            "layout": "IPY_MODEL_94dc72782ca6437686ae9f532e0e79a4"
          }
        },
        "4c380d2a83574d459e1b1f1f73db9262": {
          "model_module": "@jupyter-widgets/controls",
          "model_module_version": "1.5.0",
          "model_name": "DescriptionStyleModel",
          "state": {
            "_model_module": "@jupyter-widgets/controls",
            "_model_module_version": "1.5.0",
            "_model_name": "DescriptionStyleModel",
            "_view_count": null,
            "_view_module": "@jupyter-widgets/base",
            "_view_module_version": "1.2.0",
            "_view_name": "StyleView",
            "description_width": ""
          }
        },
        "5e4b9c80b90d4c0da98a0e930ce9edfa": {
          "model_module": "@jupyter-widgets/base",
          "model_module_version": "1.2.0",
          "model_name": "LayoutModel",
          "state": {
            "_model_module": "@jupyter-widgets/base",
            "_model_module_version": "1.2.0",
            "_model_name": "LayoutModel",
            "_view_count": null,
            "_view_module": "@jupyter-widgets/base",
            "_view_module_version": "1.2.0",
            "_view_name": "LayoutView",
            "align_content": null,
            "align_items": null,
            "align_self": null,
            "border": null,
            "bottom": null,
            "display": null,
            "flex": null,
            "flex_flow": null,
            "grid_area": null,
            "grid_auto_columns": null,
            "grid_auto_flow": null,
            "grid_auto_rows": null,
            "grid_column": null,
            "grid_gap": null,
            "grid_row": null,
            "grid_template_areas": null,
            "grid_template_columns": null,
            "grid_template_rows": null,
            "height": null,
            "justify_content": null,
            "justify_items": null,
            "left": null,
            "margin": null,
            "max_height": null,
            "max_width": null,
            "min_height": null,
            "min_width": null,
            "object_fit": null,
            "object_position": null,
            "order": null,
            "overflow": null,
            "overflow_x": null,
            "overflow_y": null,
            "padding": null,
            "right": null,
            "top": null,
            "visibility": null,
            "width": null
          }
        },
        "62dce41d8a4945f4ac90446bd5ee5419": {
          "model_module": "@jupyter-widgets/base",
          "model_module_version": "1.2.0",
          "model_name": "LayoutModel",
          "state": {
            "_model_module": "@jupyter-widgets/base",
            "_model_module_version": "1.2.0",
            "_model_name": "LayoutModel",
            "_view_count": null,
            "_view_module": "@jupyter-widgets/base",
            "_view_module_version": "1.2.0",
            "_view_name": "LayoutView",
            "align_content": null,
            "align_items": null,
            "align_self": null,
            "border": null,
            "bottom": null,
            "display": null,
            "flex": null,
            "flex_flow": null,
            "grid_area": null,
            "grid_auto_columns": null,
            "grid_auto_flow": null,
            "grid_auto_rows": null,
            "grid_column": null,
            "grid_gap": null,
            "grid_row": null,
            "grid_template_areas": null,
            "grid_template_columns": null,
            "grid_template_rows": null,
            "height": null,
            "justify_content": null,
            "justify_items": null,
            "left": null,
            "margin": null,
            "max_height": null,
            "max_width": null,
            "min_height": null,
            "min_width": null,
            "object_fit": null,
            "object_position": null,
            "order": null,
            "overflow": null,
            "overflow_x": null,
            "overflow_y": null,
            "padding": null,
            "right": null,
            "top": null,
            "visibility": null,
            "width": null
          }
        },
        "6bbb84aa7ad6476c8c26a552cdf205ff": {
          "model_module": "@jupyter-widgets/controls",
          "model_module_version": "1.5.0",
          "model_name": "DescriptionStyleModel",
          "state": {
            "_model_module": "@jupyter-widgets/controls",
            "_model_module_version": "1.5.0",
            "_model_name": "DescriptionStyleModel",
            "_view_count": null,
            "_view_module": "@jupyter-widgets/base",
            "_view_module_version": "1.2.0",
            "_view_name": "StyleView",
            "description_width": ""
          }
        },
        "7c52f410c8c542279ea11fdb32c9978c": {
          "model_module": "@jupyter-widgets/base",
          "model_module_version": "1.2.0",
          "model_name": "LayoutModel",
          "state": {
            "_model_module": "@jupyter-widgets/base",
            "_model_module_version": "1.2.0",
            "_model_name": "LayoutModel",
            "_view_count": null,
            "_view_module": "@jupyter-widgets/base",
            "_view_module_version": "1.2.0",
            "_view_name": "LayoutView",
            "align_content": null,
            "align_items": null,
            "align_self": null,
            "border": null,
            "bottom": null,
            "display": null,
            "flex": null,
            "flex_flow": null,
            "grid_area": null,
            "grid_auto_columns": null,
            "grid_auto_flow": null,
            "grid_auto_rows": null,
            "grid_column": null,
            "grid_gap": null,
            "grid_row": null,
            "grid_template_areas": null,
            "grid_template_columns": null,
            "grid_template_rows": null,
            "height": null,
            "justify_content": null,
            "justify_items": null,
            "left": null,
            "margin": null,
            "max_height": null,
            "max_width": null,
            "min_height": null,
            "min_width": null,
            "object_fit": null,
            "object_position": null,
            "order": null,
            "overflow": null,
            "overflow_x": null,
            "overflow_y": null,
            "padding": null,
            "right": null,
            "top": null,
            "visibility": null,
            "width": null
          }
        },
        "7f6094495e7d4472999d47378bb24c50": {
          "model_module": "@jupyter-widgets/controls",
          "model_module_version": "1.5.0",
          "model_name": "HTMLModel",
          "state": {
            "_dom_classes": [],
            "_model_module": "@jupyter-widgets/controls",
            "_model_module_version": "1.5.0",
            "_model_name": "HTMLModel",
            "_view_count": null,
            "_view_module": "@jupyter-widgets/controls",
            "_view_module_version": "1.5.0",
            "_view_name": "HTMLView",
            "description": "",
            "description_tooltip": null,
            "layout": "IPY_MODEL_865f81bcc49c413a8f70e2815e5be80c",
            "placeholder": "​",
            "style": "IPY_MODEL_6bbb84aa7ad6476c8c26a552cdf205ff",
            "value": "100%"
          }
        },
        "7fb3f45cb53448a1b869a2c9ab5c9cf2": {
          "model_module": "@jupyter-widgets/controls",
          "model_module_version": "1.5.0",
          "model_name": "HTMLModel",
          "state": {
            "_dom_classes": [],
            "_model_module": "@jupyter-widgets/controls",
            "_model_module_version": "1.5.0",
            "_model_name": "HTMLModel",
            "_view_count": null,
            "_view_module": "@jupyter-widgets/controls",
            "_view_module_version": "1.5.0",
            "_view_name": "HTMLView",
            "description": "",
            "description_tooltip": null,
            "layout": "IPY_MODEL_298b99e4aee44847af0dd266b7828241",
            "placeholder": "​",
            "style": "IPY_MODEL_be35ea85ec2f413889e74a14c49109ed",
            "value": " 100/100 [01:09&lt;00:00,  1.48it/s]"
          }
        },
        "811bf5141d984707bacc2ba374050f63": {
          "model_module": "@jupyter-widgets/base",
          "model_module_version": "1.2.0",
          "model_name": "LayoutModel",
          "state": {
            "_model_module": "@jupyter-widgets/base",
            "_model_module_version": "1.2.0",
            "_model_name": "LayoutModel",
            "_view_count": null,
            "_view_module": "@jupyter-widgets/base",
            "_view_module_version": "1.2.0",
            "_view_name": "LayoutView",
            "align_content": null,
            "align_items": null,
            "align_self": null,
            "border": null,
            "bottom": null,
            "display": null,
            "flex": null,
            "flex_flow": null,
            "grid_area": null,
            "grid_auto_columns": null,
            "grid_auto_flow": null,
            "grid_auto_rows": null,
            "grid_column": null,
            "grid_gap": null,
            "grid_row": null,
            "grid_template_areas": null,
            "grid_template_columns": null,
            "grid_template_rows": null,
            "height": null,
            "justify_content": null,
            "justify_items": null,
            "left": null,
            "margin": null,
            "max_height": null,
            "max_width": null,
            "min_height": null,
            "min_width": null,
            "object_fit": null,
            "object_position": null,
            "order": null,
            "overflow": null,
            "overflow_x": null,
            "overflow_y": null,
            "padding": null,
            "right": null,
            "top": null,
            "visibility": null,
            "width": null
          }
        },
        "84431dda4c6e4957a470c6ecb98639f0": {
          "model_module": "@jupyter-widgets/controls",
          "model_module_version": "1.5.0",
          "model_name": "HTMLModel",
          "state": {
            "_dom_classes": [],
            "_model_module": "@jupyter-widgets/controls",
            "_model_module_version": "1.5.0",
            "_model_name": "HTMLModel",
            "_view_count": null,
            "_view_module": "@jupyter-widgets/controls",
            "_view_module_version": "1.5.0",
            "_view_name": "HTMLView",
            "description": "",
            "description_tooltip": null,
            "layout": "IPY_MODEL_5e4b9c80b90d4c0da98a0e930ce9edfa",
            "placeholder": "​",
            "style": "IPY_MODEL_4c380d2a83574d459e1b1f1f73db9262",
            "value": " 200/200 [02:20&lt;00:00,  1.41it/s]"
          }
        },
        "865f81bcc49c413a8f70e2815e5be80c": {
          "model_module": "@jupyter-widgets/base",
          "model_module_version": "1.2.0",
          "model_name": "LayoutModel",
          "state": {
            "_model_module": "@jupyter-widgets/base",
            "_model_module_version": "1.2.0",
            "_model_name": "LayoutModel",
            "_view_count": null,
            "_view_module": "@jupyter-widgets/base",
            "_view_module_version": "1.2.0",
            "_view_name": "LayoutView",
            "align_content": null,
            "align_items": null,
            "align_self": null,
            "border": null,
            "bottom": null,
            "display": null,
            "flex": null,
            "flex_flow": null,
            "grid_area": null,
            "grid_auto_columns": null,
            "grid_auto_flow": null,
            "grid_auto_rows": null,
            "grid_column": null,
            "grid_gap": null,
            "grid_row": null,
            "grid_template_areas": null,
            "grid_template_columns": null,
            "grid_template_rows": null,
            "height": null,
            "justify_content": null,
            "justify_items": null,
            "left": null,
            "margin": null,
            "max_height": null,
            "max_width": null,
            "min_height": null,
            "min_width": null,
            "object_fit": null,
            "object_position": null,
            "order": null,
            "overflow": null,
            "overflow_x": null,
            "overflow_y": null,
            "padding": null,
            "right": null,
            "top": null,
            "visibility": null,
            "width": null
          }
        },
        "8aaf9f58db0847e09d60445fb9f997ab": {
          "model_module": "@jupyter-widgets/controls",
          "model_module_version": "1.5.0",
          "model_name": "HBoxModel",
          "state": {
            "_dom_classes": [],
            "_model_module": "@jupyter-widgets/controls",
            "_model_module_version": "1.5.0",
            "_model_name": "HBoxModel",
            "_view_count": null,
            "_view_module": "@jupyter-widgets/controls",
            "_view_module_version": "1.5.0",
            "_view_name": "HBoxView",
            "box_style": "",
            "children": [
              "IPY_MODEL_8b3215815ba24914be37417d8482a6b9",
              "IPY_MODEL_2281801321994e45a8e08663c7895fcb",
              "IPY_MODEL_e428417e66c74c5eb221ad2aa0f1ab83"
            ],
            "layout": "IPY_MODEL_0c4eece2b38c4028bc4f41c8d557d31b"
          }
        },
        "8b3215815ba24914be37417d8482a6b9": {
          "model_module": "@jupyter-widgets/controls",
          "model_module_version": "1.5.0",
          "model_name": "HTMLModel",
          "state": {
            "_dom_classes": [],
            "_model_module": "@jupyter-widgets/controls",
            "_model_module_version": "1.5.0",
            "_model_name": "HTMLModel",
            "_view_count": null,
            "_view_module": "@jupyter-widgets/controls",
            "_view_module_version": "1.5.0",
            "_view_name": "HTMLView",
            "description": "",
            "description_tooltip": null,
            "layout": "IPY_MODEL_811bf5141d984707bacc2ba374050f63",
            "placeholder": "​",
            "style": "IPY_MODEL_978eb118aa5e466c9c33765764995515",
            "value": "100%"
          }
        },
        "8be368d255a14d25893c7e375c243ff1": {
          "model_module": "@jupyter-widgets/controls",
          "model_module_version": "1.5.0",
          "model_name": "DescriptionStyleModel",
          "state": {
            "_model_module": "@jupyter-widgets/controls",
            "_model_module_version": "1.5.0",
            "_model_name": "DescriptionStyleModel",
            "_view_count": null,
            "_view_module": "@jupyter-widgets/base",
            "_view_module_version": "1.2.0",
            "_view_name": "StyleView",
            "description_width": ""
          }
        },
        "947be05ecf4e499cb88a29aa8db22aa0": {
          "model_module": "@jupyter-widgets/base",
          "model_module_version": "1.2.0",
          "model_name": "LayoutModel",
          "state": {
            "_model_module": "@jupyter-widgets/base",
            "_model_module_version": "1.2.0",
            "_model_name": "LayoutModel",
            "_view_count": null,
            "_view_module": "@jupyter-widgets/base",
            "_view_module_version": "1.2.0",
            "_view_name": "LayoutView",
            "align_content": null,
            "align_items": null,
            "align_self": null,
            "border": null,
            "bottom": null,
            "display": null,
            "flex": null,
            "flex_flow": null,
            "grid_area": null,
            "grid_auto_columns": null,
            "grid_auto_flow": null,
            "grid_auto_rows": null,
            "grid_column": null,
            "grid_gap": null,
            "grid_row": null,
            "grid_template_areas": null,
            "grid_template_columns": null,
            "grid_template_rows": null,
            "height": null,
            "justify_content": null,
            "justify_items": null,
            "left": null,
            "margin": null,
            "max_height": null,
            "max_width": null,
            "min_height": null,
            "min_width": null,
            "object_fit": null,
            "object_position": null,
            "order": null,
            "overflow": null,
            "overflow_x": null,
            "overflow_y": null,
            "padding": null,
            "right": null,
            "top": null,
            "visibility": null,
            "width": null
          }
        },
        "94dc72782ca6437686ae9f532e0e79a4": {
          "model_module": "@jupyter-widgets/base",
          "model_module_version": "1.2.0",
          "model_name": "LayoutModel",
          "state": {
            "_model_module": "@jupyter-widgets/base",
            "_model_module_version": "1.2.0",
            "_model_name": "LayoutModel",
            "_view_count": null,
            "_view_module": "@jupyter-widgets/base",
            "_view_module_version": "1.2.0",
            "_view_name": "LayoutView",
            "align_content": null,
            "align_items": null,
            "align_self": null,
            "border": null,
            "bottom": null,
            "display": null,
            "flex": null,
            "flex_flow": null,
            "grid_area": null,
            "grid_auto_columns": null,
            "grid_auto_flow": null,
            "grid_auto_rows": null,
            "grid_column": null,
            "grid_gap": null,
            "grid_row": null,
            "grid_template_areas": null,
            "grid_template_columns": null,
            "grid_template_rows": null,
            "height": null,
            "justify_content": null,
            "justify_items": null,
            "left": null,
            "margin": null,
            "max_height": null,
            "max_width": null,
            "min_height": null,
            "min_width": null,
            "object_fit": null,
            "object_position": null,
            "order": null,
            "overflow": null,
            "overflow_x": null,
            "overflow_y": null,
            "padding": null,
            "right": null,
            "top": null,
            "visibility": null,
            "width": null
          }
        },
        "978eb118aa5e466c9c33765764995515": {
          "model_module": "@jupyter-widgets/controls",
          "model_module_version": "1.5.0",
          "model_name": "DescriptionStyleModel",
          "state": {
            "_model_module": "@jupyter-widgets/controls",
            "_model_module_version": "1.5.0",
            "_model_name": "DescriptionStyleModel",
            "_view_count": null,
            "_view_module": "@jupyter-widgets/base",
            "_view_module_version": "1.2.0",
            "_view_name": "StyleView",
            "description_width": ""
          }
        },
        "b997a360aabe448c9f9025fcb5092144": {
          "model_module": "@jupyter-widgets/base",
          "model_module_version": "1.2.0",
          "model_name": "LayoutModel",
          "state": {
            "_model_module": "@jupyter-widgets/base",
            "_model_module_version": "1.2.0",
            "_model_name": "LayoutModel",
            "_view_count": null,
            "_view_module": "@jupyter-widgets/base",
            "_view_module_version": "1.2.0",
            "_view_name": "LayoutView",
            "align_content": null,
            "align_items": null,
            "align_self": null,
            "border": null,
            "bottom": null,
            "display": null,
            "flex": null,
            "flex_flow": null,
            "grid_area": null,
            "grid_auto_columns": null,
            "grid_auto_flow": null,
            "grid_auto_rows": null,
            "grid_column": null,
            "grid_gap": null,
            "grid_row": null,
            "grid_template_areas": null,
            "grid_template_columns": null,
            "grid_template_rows": null,
            "height": null,
            "justify_content": null,
            "justify_items": null,
            "left": null,
            "margin": null,
            "max_height": null,
            "max_width": null,
            "min_height": null,
            "min_width": null,
            "object_fit": null,
            "object_position": null,
            "order": null,
            "overflow": null,
            "overflow_x": null,
            "overflow_y": null,
            "padding": null,
            "right": null,
            "top": null,
            "visibility": null,
            "width": null
          }
        },
        "be35ea85ec2f413889e74a14c49109ed": {
          "model_module": "@jupyter-widgets/controls",
          "model_module_version": "1.5.0",
          "model_name": "DescriptionStyleModel",
          "state": {
            "_model_module": "@jupyter-widgets/controls",
            "_model_module_version": "1.5.0",
            "_model_name": "DescriptionStyleModel",
            "_view_count": null,
            "_view_module": "@jupyter-widgets/base",
            "_view_module_version": "1.2.0",
            "_view_name": "StyleView",
            "description_width": ""
          }
        },
        "c059f9114561498886a7e9e69751ce4c": {
          "model_module": "@jupyter-widgets/base",
          "model_module_version": "1.2.0",
          "model_name": "LayoutModel",
          "state": {
            "_model_module": "@jupyter-widgets/base",
            "_model_module_version": "1.2.0",
            "_model_name": "LayoutModel",
            "_view_count": null,
            "_view_module": "@jupyter-widgets/base",
            "_view_module_version": "1.2.0",
            "_view_name": "LayoutView",
            "align_content": null,
            "align_items": null,
            "align_self": null,
            "border": null,
            "bottom": null,
            "display": null,
            "flex": null,
            "flex_flow": null,
            "grid_area": null,
            "grid_auto_columns": null,
            "grid_auto_flow": null,
            "grid_auto_rows": null,
            "grid_column": null,
            "grid_gap": null,
            "grid_row": null,
            "grid_template_areas": null,
            "grid_template_columns": null,
            "grid_template_rows": null,
            "height": null,
            "justify_content": null,
            "justify_items": null,
            "left": null,
            "margin": null,
            "max_height": null,
            "max_width": null,
            "min_height": null,
            "min_width": null,
            "object_fit": null,
            "object_position": null,
            "order": null,
            "overflow": null,
            "overflow_x": null,
            "overflow_y": null,
            "padding": null,
            "right": null,
            "top": null,
            "visibility": null,
            "width": null
          }
        },
        "c85cef967933494ea2172baa122986c7": {
          "model_module": "@jupyter-widgets/controls",
          "model_module_version": "1.5.0",
          "model_name": "ProgressStyleModel",
          "state": {
            "_model_module": "@jupyter-widgets/controls",
            "_model_module_version": "1.5.0",
            "_model_name": "ProgressStyleModel",
            "_view_count": null,
            "_view_module": "@jupyter-widgets/base",
            "_view_module_version": "1.2.0",
            "_view_name": "StyleView",
            "bar_color": null,
            "description_width": ""
          }
        },
        "e428417e66c74c5eb221ad2aa0f1ab83": {
          "model_module": "@jupyter-widgets/controls",
          "model_module_version": "1.5.0",
          "model_name": "HTMLModel",
          "state": {
            "_dom_classes": [],
            "_model_module": "@jupyter-widgets/controls",
            "_model_module_version": "1.5.0",
            "_model_name": "HTMLModel",
            "_view_count": null,
            "_view_module": "@jupyter-widgets/controls",
            "_view_module_version": "1.5.0",
            "_view_name": "HTMLView",
            "description": "",
            "description_tooltip": null,
            "layout": "IPY_MODEL_b997a360aabe448c9f9025fcb5092144",
            "placeholder": "​",
            "style": "IPY_MODEL_8be368d255a14d25893c7e375c243ff1",
            "value": " 50/50 [00:35&lt;00:00,  1.41it/s]"
          }
        },
        "e88859494e274f9aa4edaf636188db5c": {
          "model_module": "@jupyter-widgets/base",
          "model_module_version": "1.2.0",
          "model_name": "LayoutModel",
          "state": {
            "_model_module": "@jupyter-widgets/base",
            "_model_module_version": "1.2.0",
            "_model_name": "LayoutModel",
            "_view_count": null,
            "_view_module": "@jupyter-widgets/base",
            "_view_module_version": "1.2.0",
            "_view_name": "LayoutView",
            "align_content": null,
            "align_items": null,
            "align_self": null,
            "border": null,
            "bottom": null,
            "display": null,
            "flex": null,
            "flex_flow": null,
            "grid_area": null,
            "grid_auto_columns": null,
            "grid_auto_flow": null,
            "grid_auto_rows": null,
            "grid_column": null,
            "grid_gap": null,
            "grid_row": null,
            "grid_template_areas": null,
            "grid_template_columns": null,
            "grid_template_rows": null,
            "height": null,
            "justify_content": null,
            "justify_items": null,
            "left": null,
            "margin": null,
            "max_height": null,
            "max_width": null,
            "min_height": null,
            "min_width": null,
            "object_fit": null,
            "object_position": null,
            "order": null,
            "overflow": null,
            "overflow_x": null,
            "overflow_y": null,
            "padding": null,
            "right": null,
            "top": null,
            "visibility": null,
            "width": null
          }
        },
        "f33e61b4a01548db8af94e4fbbfa4900": {
          "model_module": "@jupyter-widgets/controls",
          "model_module_version": "1.5.0",
          "model_name": "DescriptionStyleModel",
          "state": {
            "_model_module": "@jupyter-widgets/controls",
            "_model_module_version": "1.5.0",
            "_model_name": "DescriptionStyleModel",
            "_view_count": null,
            "_view_module": "@jupyter-widgets/base",
            "_view_module_version": "1.2.0",
            "_view_name": "StyleView",
            "description_width": ""
          }
        },
        "9316b87bf1bb4cc299dccb1e0ee3ba05": {
          "model_module": "@jupyter-widgets/controls",
          "model_name": "HBoxModel",
          "model_module_version": "1.5.0",
          "state": {
            "_dom_classes": [],
            "_model_module": "@jupyter-widgets/controls",
            "_model_module_version": "1.5.0",
            "_model_name": "HBoxModel",
            "_view_count": null,
            "_view_module": "@jupyter-widgets/controls",
            "_view_module_version": "1.5.0",
            "_view_name": "HBoxView",
            "box_style": "",
            "children": [
              "IPY_MODEL_a717546488124509865108725331dc16",
              "IPY_MODEL_80be118a6b094e09baae8feb82584e89",
              "IPY_MODEL_2e39fac79f3445d8bf7ffe1ca8e93ac6"
            ],
            "layout": "IPY_MODEL_13947cbc424949e2b922749ed5cea0eb"
          }
        },
        "a717546488124509865108725331dc16": {
          "model_module": "@jupyter-widgets/controls",
          "model_name": "HTMLModel",
          "model_module_version": "1.5.0",
          "state": {
            "_dom_classes": [],
            "_model_module": "@jupyter-widgets/controls",
            "_model_module_version": "1.5.0",
            "_model_name": "HTMLModel",
            "_view_count": null,
            "_view_module": "@jupyter-widgets/controls",
            "_view_module_version": "1.5.0",
            "_view_name": "HTMLView",
            "description": "",
            "description_tooltip": null,
            "layout": "IPY_MODEL_e315f5fdab9443c98372a6d1e84ded8c",
            "placeholder": "​",
            "style": "IPY_MODEL_50cb8ae677454cd7834cee8b30075498",
            "value": "100%"
          }
        },
        "80be118a6b094e09baae8feb82584e89": {
          "model_module": "@jupyter-widgets/controls",
          "model_name": "FloatProgressModel",
          "model_module_version": "1.5.0",
          "state": {
            "_dom_classes": [],
            "_model_module": "@jupyter-widgets/controls",
            "_model_module_version": "1.5.0",
            "_model_name": "FloatProgressModel",
            "_view_count": null,
            "_view_module": "@jupyter-widgets/controls",
            "_view_module_version": "1.5.0",
            "_view_name": "ProgressView",
            "bar_style": "success",
            "description": "",
            "description_tooltip": null,
            "layout": "IPY_MODEL_a4cbde4bd98f4a859418089f363a9210",
            "max": 20,
            "min": 0,
            "orientation": "horizontal",
            "style": "IPY_MODEL_d29fd5e41d3448d2b81fb2b58e57d95c",
            "value": 20
          }
        },
        "2e39fac79f3445d8bf7ffe1ca8e93ac6": {
          "model_module": "@jupyter-widgets/controls",
          "model_name": "HTMLModel",
          "model_module_version": "1.5.0",
          "state": {
            "_dom_classes": [],
            "_model_module": "@jupyter-widgets/controls",
            "_model_module_version": "1.5.0",
            "_model_name": "HTMLModel",
            "_view_count": null,
            "_view_module": "@jupyter-widgets/controls",
            "_view_module_version": "1.5.0",
            "_view_name": "HTMLView",
            "description": "",
            "description_tooltip": null,
            "layout": "IPY_MODEL_305809a80cf14ffe8913f907caa0028b",
            "placeholder": "​",
            "style": "IPY_MODEL_9eb60eb7229c44e0b70cd3a3844c9723",
            "value": " 20/20 [00:15&lt;00:00,  1.40it/s]"
          }
        },
        "13947cbc424949e2b922749ed5cea0eb": {
          "model_module": "@jupyter-widgets/base",
          "model_name": "LayoutModel",
          "model_module_version": "1.2.0",
          "state": {
            "_model_module": "@jupyter-widgets/base",
            "_model_module_version": "1.2.0",
            "_model_name": "LayoutModel",
            "_view_count": null,
            "_view_module": "@jupyter-widgets/base",
            "_view_module_version": "1.2.0",
            "_view_name": "LayoutView",
            "align_content": null,
            "align_items": null,
            "align_self": null,
            "border": null,
            "bottom": null,
            "display": null,
            "flex": null,
            "flex_flow": null,
            "grid_area": null,
            "grid_auto_columns": null,
            "grid_auto_flow": null,
            "grid_auto_rows": null,
            "grid_column": null,
            "grid_gap": null,
            "grid_row": null,
            "grid_template_areas": null,
            "grid_template_columns": null,
            "grid_template_rows": null,
            "height": null,
            "justify_content": null,
            "justify_items": null,
            "left": null,
            "margin": null,
            "max_height": null,
            "max_width": null,
            "min_height": null,
            "min_width": null,
            "object_fit": null,
            "object_position": null,
            "order": null,
            "overflow": null,
            "overflow_x": null,
            "overflow_y": null,
            "padding": null,
            "right": null,
            "top": null,
            "visibility": null,
            "width": null
          }
        },
        "e315f5fdab9443c98372a6d1e84ded8c": {
          "model_module": "@jupyter-widgets/base",
          "model_name": "LayoutModel",
          "model_module_version": "1.2.0",
          "state": {
            "_model_module": "@jupyter-widgets/base",
            "_model_module_version": "1.2.0",
            "_model_name": "LayoutModel",
            "_view_count": null,
            "_view_module": "@jupyter-widgets/base",
            "_view_module_version": "1.2.0",
            "_view_name": "LayoutView",
            "align_content": null,
            "align_items": null,
            "align_self": null,
            "border": null,
            "bottom": null,
            "display": null,
            "flex": null,
            "flex_flow": null,
            "grid_area": null,
            "grid_auto_columns": null,
            "grid_auto_flow": null,
            "grid_auto_rows": null,
            "grid_column": null,
            "grid_gap": null,
            "grid_row": null,
            "grid_template_areas": null,
            "grid_template_columns": null,
            "grid_template_rows": null,
            "height": null,
            "justify_content": null,
            "justify_items": null,
            "left": null,
            "margin": null,
            "max_height": null,
            "max_width": null,
            "min_height": null,
            "min_width": null,
            "object_fit": null,
            "object_position": null,
            "order": null,
            "overflow": null,
            "overflow_x": null,
            "overflow_y": null,
            "padding": null,
            "right": null,
            "top": null,
            "visibility": null,
            "width": null
          }
        },
        "50cb8ae677454cd7834cee8b30075498": {
          "model_module": "@jupyter-widgets/controls",
          "model_name": "DescriptionStyleModel",
          "model_module_version": "1.5.0",
          "state": {
            "_model_module": "@jupyter-widgets/controls",
            "_model_module_version": "1.5.0",
            "_model_name": "DescriptionStyleModel",
            "_view_count": null,
            "_view_module": "@jupyter-widgets/base",
            "_view_module_version": "1.2.0",
            "_view_name": "StyleView",
            "description_width": ""
          }
        },
        "a4cbde4bd98f4a859418089f363a9210": {
          "model_module": "@jupyter-widgets/base",
          "model_name": "LayoutModel",
          "model_module_version": "1.2.0",
          "state": {
            "_model_module": "@jupyter-widgets/base",
            "_model_module_version": "1.2.0",
            "_model_name": "LayoutModel",
            "_view_count": null,
            "_view_module": "@jupyter-widgets/base",
            "_view_module_version": "1.2.0",
            "_view_name": "LayoutView",
            "align_content": null,
            "align_items": null,
            "align_self": null,
            "border": null,
            "bottom": null,
            "display": null,
            "flex": null,
            "flex_flow": null,
            "grid_area": null,
            "grid_auto_columns": null,
            "grid_auto_flow": null,
            "grid_auto_rows": null,
            "grid_column": null,
            "grid_gap": null,
            "grid_row": null,
            "grid_template_areas": null,
            "grid_template_columns": null,
            "grid_template_rows": null,
            "height": null,
            "justify_content": null,
            "justify_items": null,
            "left": null,
            "margin": null,
            "max_height": null,
            "max_width": null,
            "min_height": null,
            "min_width": null,
            "object_fit": null,
            "object_position": null,
            "order": null,
            "overflow": null,
            "overflow_x": null,
            "overflow_y": null,
            "padding": null,
            "right": null,
            "top": null,
            "visibility": null,
            "width": null
          }
        },
        "d29fd5e41d3448d2b81fb2b58e57d95c": {
          "model_module": "@jupyter-widgets/controls",
          "model_name": "ProgressStyleModel",
          "model_module_version": "1.5.0",
          "state": {
            "_model_module": "@jupyter-widgets/controls",
            "_model_module_version": "1.5.0",
            "_model_name": "ProgressStyleModel",
            "_view_count": null,
            "_view_module": "@jupyter-widgets/base",
            "_view_module_version": "1.2.0",
            "_view_name": "StyleView",
            "bar_color": null,
            "description_width": ""
          }
        },
        "305809a80cf14ffe8913f907caa0028b": {
          "model_module": "@jupyter-widgets/base",
          "model_name": "LayoutModel",
          "model_module_version": "1.2.0",
          "state": {
            "_model_module": "@jupyter-widgets/base",
            "_model_module_version": "1.2.0",
            "_model_name": "LayoutModel",
            "_view_count": null,
            "_view_module": "@jupyter-widgets/base",
            "_view_module_version": "1.2.0",
            "_view_name": "LayoutView",
            "align_content": null,
            "align_items": null,
            "align_self": null,
            "border": null,
            "bottom": null,
            "display": null,
            "flex": null,
            "flex_flow": null,
            "grid_area": null,
            "grid_auto_columns": null,
            "grid_auto_flow": null,
            "grid_auto_rows": null,
            "grid_column": null,
            "grid_gap": null,
            "grid_row": null,
            "grid_template_areas": null,
            "grid_template_columns": null,
            "grid_template_rows": null,
            "height": null,
            "justify_content": null,
            "justify_items": null,
            "left": null,
            "margin": null,
            "max_height": null,
            "max_width": null,
            "min_height": null,
            "min_width": null,
            "object_fit": null,
            "object_position": null,
            "order": null,
            "overflow": null,
            "overflow_x": null,
            "overflow_y": null,
            "padding": null,
            "right": null,
            "top": null,
            "visibility": null,
            "width": null
          }
        },
        "9eb60eb7229c44e0b70cd3a3844c9723": {
          "model_module": "@jupyter-widgets/controls",
          "model_name": "DescriptionStyleModel",
          "model_module_version": "1.5.0",
          "state": {
            "_model_module": "@jupyter-widgets/controls",
            "_model_module_version": "1.5.0",
            "_model_name": "DescriptionStyleModel",
            "_view_count": null,
            "_view_module": "@jupyter-widgets/base",
            "_view_module_version": "1.2.0",
            "_view_name": "StyleView",
            "description_width": ""
          }
        },
        "758512d1040841e6920d55a64e68ca9d": {
          "model_module": "@jupyter-widgets/controls",
          "model_name": "HBoxModel",
          "model_module_version": "1.5.0",
          "state": {
            "_dom_classes": [],
            "_model_module": "@jupyter-widgets/controls",
            "_model_module_version": "1.5.0",
            "_model_name": "HBoxModel",
            "_view_count": null,
            "_view_module": "@jupyter-widgets/controls",
            "_view_module_version": "1.5.0",
            "_view_name": "HBoxView",
            "box_style": "",
            "children": [
              "IPY_MODEL_a874b969c8eb44e985eba8901ca27bee",
              "IPY_MODEL_4fad4374dd9045cc85f9e349cd17a329",
              "IPY_MODEL_bbd13a031d5e41889bdb24220cffc744"
            ],
            "layout": "IPY_MODEL_cbbee3b23aca40528da58953a43d3c34"
          }
        },
        "a874b969c8eb44e985eba8901ca27bee": {
          "model_module": "@jupyter-widgets/controls",
          "model_name": "HTMLModel",
          "model_module_version": "1.5.0",
          "state": {
            "_dom_classes": [],
            "_model_module": "@jupyter-widgets/controls",
            "_model_module_version": "1.5.0",
            "_model_name": "HTMLModel",
            "_view_count": null,
            "_view_module": "@jupyter-widgets/controls",
            "_view_module_version": "1.5.0",
            "_view_name": "HTMLView",
            "description": "",
            "description_tooltip": null,
            "layout": "IPY_MODEL_f197993cdc384c44bf5a26090f8aa8f6",
            "placeholder": "​",
            "style": "IPY_MODEL_581cc77150e94f04b7d7660cfb56fcd3",
            "value": "100%"
          }
        },
        "4fad4374dd9045cc85f9e349cd17a329": {
          "model_module": "@jupyter-widgets/controls",
          "model_name": "FloatProgressModel",
          "model_module_version": "1.5.0",
          "state": {
            "_dom_classes": [],
            "_model_module": "@jupyter-widgets/controls",
            "_model_module_version": "1.5.0",
            "_model_name": "FloatProgressModel",
            "_view_count": null,
            "_view_module": "@jupyter-widgets/controls",
            "_view_module_version": "1.5.0",
            "_view_name": "ProgressView",
            "bar_style": "success",
            "description": "",
            "description_tooltip": null,
            "layout": "IPY_MODEL_24ae72782f1c48f88180996395438a97",
            "max": 20,
            "min": 0,
            "orientation": "horizontal",
            "style": "IPY_MODEL_d0d8f7a4305649bfb737f57591a3c119",
            "value": 20
          }
        },
        "bbd13a031d5e41889bdb24220cffc744": {
          "model_module": "@jupyter-widgets/controls",
          "model_name": "HTMLModel",
          "model_module_version": "1.5.0",
          "state": {
            "_dom_classes": [],
            "_model_module": "@jupyter-widgets/controls",
            "_model_module_version": "1.5.0",
            "_model_name": "HTMLModel",
            "_view_count": null,
            "_view_module": "@jupyter-widgets/controls",
            "_view_module_version": "1.5.0",
            "_view_name": "HTMLView",
            "description": "",
            "description_tooltip": null,
            "layout": "IPY_MODEL_4af07a3bb4854c23b6ca58eae9b392bb",
            "placeholder": "​",
            "style": "IPY_MODEL_26936fcc41f94883815181179337ba0d",
            "value": " 20/20 [00:34&lt;00:00,  1.63s/it]"
          }
        },
        "cbbee3b23aca40528da58953a43d3c34": {
          "model_module": "@jupyter-widgets/base",
          "model_name": "LayoutModel",
          "model_module_version": "1.2.0",
          "state": {
            "_model_module": "@jupyter-widgets/base",
            "_model_module_version": "1.2.0",
            "_model_name": "LayoutModel",
            "_view_count": null,
            "_view_module": "@jupyter-widgets/base",
            "_view_module_version": "1.2.0",
            "_view_name": "LayoutView",
            "align_content": null,
            "align_items": null,
            "align_self": null,
            "border": null,
            "bottom": null,
            "display": null,
            "flex": null,
            "flex_flow": null,
            "grid_area": null,
            "grid_auto_columns": null,
            "grid_auto_flow": null,
            "grid_auto_rows": null,
            "grid_column": null,
            "grid_gap": null,
            "grid_row": null,
            "grid_template_areas": null,
            "grid_template_columns": null,
            "grid_template_rows": null,
            "height": null,
            "justify_content": null,
            "justify_items": null,
            "left": null,
            "margin": null,
            "max_height": null,
            "max_width": null,
            "min_height": null,
            "min_width": null,
            "object_fit": null,
            "object_position": null,
            "order": null,
            "overflow": null,
            "overflow_x": null,
            "overflow_y": null,
            "padding": null,
            "right": null,
            "top": null,
            "visibility": null,
            "width": null
          }
        },
        "f197993cdc384c44bf5a26090f8aa8f6": {
          "model_module": "@jupyter-widgets/base",
          "model_name": "LayoutModel",
          "model_module_version": "1.2.0",
          "state": {
            "_model_module": "@jupyter-widgets/base",
            "_model_module_version": "1.2.0",
            "_model_name": "LayoutModel",
            "_view_count": null,
            "_view_module": "@jupyter-widgets/base",
            "_view_module_version": "1.2.0",
            "_view_name": "LayoutView",
            "align_content": null,
            "align_items": null,
            "align_self": null,
            "border": null,
            "bottom": null,
            "display": null,
            "flex": null,
            "flex_flow": null,
            "grid_area": null,
            "grid_auto_columns": null,
            "grid_auto_flow": null,
            "grid_auto_rows": null,
            "grid_column": null,
            "grid_gap": null,
            "grid_row": null,
            "grid_template_areas": null,
            "grid_template_columns": null,
            "grid_template_rows": null,
            "height": null,
            "justify_content": null,
            "justify_items": null,
            "left": null,
            "margin": null,
            "max_height": null,
            "max_width": null,
            "min_height": null,
            "min_width": null,
            "object_fit": null,
            "object_position": null,
            "order": null,
            "overflow": null,
            "overflow_x": null,
            "overflow_y": null,
            "padding": null,
            "right": null,
            "top": null,
            "visibility": null,
            "width": null
          }
        },
        "581cc77150e94f04b7d7660cfb56fcd3": {
          "model_module": "@jupyter-widgets/controls",
          "model_name": "DescriptionStyleModel",
          "model_module_version": "1.5.0",
          "state": {
            "_model_module": "@jupyter-widgets/controls",
            "_model_module_version": "1.5.0",
            "_model_name": "DescriptionStyleModel",
            "_view_count": null,
            "_view_module": "@jupyter-widgets/base",
            "_view_module_version": "1.2.0",
            "_view_name": "StyleView",
            "description_width": ""
          }
        },
        "24ae72782f1c48f88180996395438a97": {
          "model_module": "@jupyter-widgets/base",
          "model_name": "LayoutModel",
          "model_module_version": "1.2.0",
          "state": {
            "_model_module": "@jupyter-widgets/base",
            "_model_module_version": "1.2.0",
            "_model_name": "LayoutModel",
            "_view_count": null,
            "_view_module": "@jupyter-widgets/base",
            "_view_module_version": "1.2.0",
            "_view_name": "LayoutView",
            "align_content": null,
            "align_items": null,
            "align_self": null,
            "border": null,
            "bottom": null,
            "display": null,
            "flex": null,
            "flex_flow": null,
            "grid_area": null,
            "grid_auto_columns": null,
            "grid_auto_flow": null,
            "grid_auto_rows": null,
            "grid_column": null,
            "grid_gap": null,
            "grid_row": null,
            "grid_template_areas": null,
            "grid_template_columns": null,
            "grid_template_rows": null,
            "height": null,
            "justify_content": null,
            "justify_items": null,
            "left": null,
            "margin": null,
            "max_height": null,
            "max_width": null,
            "min_height": null,
            "min_width": null,
            "object_fit": null,
            "object_position": null,
            "order": null,
            "overflow": null,
            "overflow_x": null,
            "overflow_y": null,
            "padding": null,
            "right": null,
            "top": null,
            "visibility": null,
            "width": null
          }
        },
        "d0d8f7a4305649bfb737f57591a3c119": {
          "model_module": "@jupyter-widgets/controls",
          "model_name": "ProgressStyleModel",
          "model_module_version": "1.5.0",
          "state": {
            "_model_module": "@jupyter-widgets/controls",
            "_model_module_version": "1.5.0",
            "_model_name": "ProgressStyleModel",
            "_view_count": null,
            "_view_module": "@jupyter-widgets/base",
            "_view_module_version": "1.2.0",
            "_view_name": "StyleView",
            "bar_color": null,
            "description_width": ""
          }
        },
        "4af07a3bb4854c23b6ca58eae9b392bb": {
          "model_module": "@jupyter-widgets/base",
          "model_name": "LayoutModel",
          "model_module_version": "1.2.0",
          "state": {
            "_model_module": "@jupyter-widgets/base",
            "_model_module_version": "1.2.0",
            "_model_name": "LayoutModel",
            "_view_count": null,
            "_view_module": "@jupyter-widgets/base",
            "_view_module_version": "1.2.0",
            "_view_name": "LayoutView",
            "align_content": null,
            "align_items": null,
            "align_self": null,
            "border": null,
            "bottom": null,
            "display": null,
            "flex": null,
            "flex_flow": null,
            "grid_area": null,
            "grid_auto_columns": null,
            "grid_auto_flow": null,
            "grid_auto_rows": null,
            "grid_column": null,
            "grid_gap": null,
            "grid_row": null,
            "grid_template_areas": null,
            "grid_template_columns": null,
            "grid_template_rows": null,
            "height": null,
            "justify_content": null,
            "justify_items": null,
            "left": null,
            "margin": null,
            "max_height": null,
            "max_width": null,
            "min_height": null,
            "min_width": null,
            "object_fit": null,
            "object_position": null,
            "order": null,
            "overflow": null,
            "overflow_x": null,
            "overflow_y": null,
            "padding": null,
            "right": null,
            "top": null,
            "visibility": null,
            "width": null
          }
        },
        "26936fcc41f94883815181179337ba0d": {
          "model_module": "@jupyter-widgets/controls",
          "model_name": "DescriptionStyleModel",
          "model_module_version": "1.5.0",
          "state": {
            "_model_module": "@jupyter-widgets/controls",
            "_model_module_version": "1.5.0",
            "_model_name": "DescriptionStyleModel",
            "_view_count": null,
            "_view_module": "@jupyter-widgets/base",
            "_view_module_version": "1.2.0",
            "_view_name": "StyleView",
            "description_width": ""
          }
        },
        "d7db0be40e334045a59161df1b8543a7": {
          "model_module": "@jupyter-widgets/controls",
          "model_name": "HBoxModel",
          "model_module_version": "1.5.0",
          "state": {
            "_dom_classes": [],
            "_model_module": "@jupyter-widgets/controls",
            "_model_module_version": "1.5.0",
            "_model_name": "HBoxModel",
            "_view_count": null,
            "_view_module": "@jupyter-widgets/controls",
            "_view_module_version": "1.5.0",
            "_view_name": "HBoxView",
            "box_style": "",
            "children": [
              "IPY_MODEL_3b7d1d985cfa4d168b149e41662c7a16",
              "IPY_MODEL_6d4e14604dca45d5bf877ed05e06d7a6",
              "IPY_MODEL_49718db6733843859967b74562fd32eb"
            ],
            "layout": "IPY_MODEL_83cabcdb044e4b398ee6854b8d740f69"
          }
        },
        "3b7d1d985cfa4d168b149e41662c7a16": {
          "model_module": "@jupyter-widgets/controls",
          "model_name": "HTMLModel",
          "model_module_version": "1.5.0",
          "state": {
            "_dom_classes": [],
            "_model_module": "@jupyter-widgets/controls",
            "_model_module_version": "1.5.0",
            "_model_name": "HTMLModel",
            "_view_count": null,
            "_view_module": "@jupyter-widgets/controls",
            "_view_module_version": "1.5.0",
            "_view_name": "HTMLView",
            "description": "",
            "description_tooltip": null,
            "layout": "IPY_MODEL_5d50c71b30d0462c98c5a6fcdf3738b8",
            "placeholder": "​",
            "style": "IPY_MODEL_288329f20df24dca87d438a02e6d9555",
            "value": "100%"
          }
        },
        "6d4e14604dca45d5bf877ed05e06d7a6": {
          "model_module": "@jupyter-widgets/controls",
          "model_name": "FloatProgressModel",
          "model_module_version": "1.5.0",
          "state": {
            "_dom_classes": [],
            "_model_module": "@jupyter-widgets/controls",
            "_model_module_version": "1.5.0",
            "_model_name": "FloatProgressModel",
            "_view_count": null,
            "_view_module": "@jupyter-widgets/controls",
            "_view_module_version": "1.5.0",
            "_view_name": "ProgressView",
            "bar_style": "success",
            "description": "",
            "description_tooltip": null,
            "layout": "IPY_MODEL_0366236882b242b48c754a4d9b61a3f8",
            "max": 20,
            "min": 0,
            "orientation": "horizontal",
            "style": "IPY_MODEL_60f6b412235942b18755826a418d6c75",
            "value": 20
          }
        },
        "49718db6733843859967b74562fd32eb": {
          "model_module": "@jupyter-widgets/controls",
          "model_name": "HTMLModel",
          "model_module_version": "1.5.0",
          "state": {
            "_dom_classes": [],
            "_model_module": "@jupyter-widgets/controls",
            "_model_module_version": "1.5.0",
            "_model_name": "HTMLModel",
            "_view_count": null,
            "_view_module": "@jupyter-widgets/controls",
            "_view_module_version": "1.5.0",
            "_view_name": "HTMLView",
            "description": "",
            "description_tooltip": null,
            "layout": "IPY_MODEL_1c0d8478dcb64714b2e4587c716fd337",
            "placeholder": "​",
            "style": "IPY_MODEL_87cb102c076f4829bd670f3dc1161c08",
            "value": " 20/20 [01:14&lt;00:00,  3.99s/it]"
          }
        },
        "83cabcdb044e4b398ee6854b8d740f69": {
          "model_module": "@jupyter-widgets/base",
          "model_name": "LayoutModel",
          "model_module_version": "1.2.0",
          "state": {
            "_model_module": "@jupyter-widgets/base",
            "_model_module_version": "1.2.0",
            "_model_name": "LayoutModel",
            "_view_count": null,
            "_view_module": "@jupyter-widgets/base",
            "_view_module_version": "1.2.0",
            "_view_name": "LayoutView",
            "align_content": null,
            "align_items": null,
            "align_self": null,
            "border": null,
            "bottom": null,
            "display": null,
            "flex": null,
            "flex_flow": null,
            "grid_area": null,
            "grid_auto_columns": null,
            "grid_auto_flow": null,
            "grid_auto_rows": null,
            "grid_column": null,
            "grid_gap": null,
            "grid_row": null,
            "grid_template_areas": null,
            "grid_template_columns": null,
            "grid_template_rows": null,
            "height": null,
            "justify_content": null,
            "justify_items": null,
            "left": null,
            "margin": null,
            "max_height": null,
            "max_width": null,
            "min_height": null,
            "min_width": null,
            "object_fit": null,
            "object_position": null,
            "order": null,
            "overflow": null,
            "overflow_x": null,
            "overflow_y": null,
            "padding": null,
            "right": null,
            "top": null,
            "visibility": null,
            "width": null
          }
        },
        "5d50c71b30d0462c98c5a6fcdf3738b8": {
          "model_module": "@jupyter-widgets/base",
          "model_name": "LayoutModel",
          "model_module_version": "1.2.0",
          "state": {
            "_model_module": "@jupyter-widgets/base",
            "_model_module_version": "1.2.0",
            "_model_name": "LayoutModel",
            "_view_count": null,
            "_view_module": "@jupyter-widgets/base",
            "_view_module_version": "1.2.0",
            "_view_name": "LayoutView",
            "align_content": null,
            "align_items": null,
            "align_self": null,
            "border": null,
            "bottom": null,
            "display": null,
            "flex": null,
            "flex_flow": null,
            "grid_area": null,
            "grid_auto_columns": null,
            "grid_auto_flow": null,
            "grid_auto_rows": null,
            "grid_column": null,
            "grid_gap": null,
            "grid_row": null,
            "grid_template_areas": null,
            "grid_template_columns": null,
            "grid_template_rows": null,
            "height": null,
            "justify_content": null,
            "justify_items": null,
            "left": null,
            "margin": null,
            "max_height": null,
            "max_width": null,
            "min_height": null,
            "min_width": null,
            "object_fit": null,
            "object_position": null,
            "order": null,
            "overflow": null,
            "overflow_x": null,
            "overflow_y": null,
            "padding": null,
            "right": null,
            "top": null,
            "visibility": null,
            "width": null
          }
        },
        "288329f20df24dca87d438a02e6d9555": {
          "model_module": "@jupyter-widgets/controls",
          "model_name": "DescriptionStyleModel",
          "model_module_version": "1.5.0",
          "state": {
            "_model_module": "@jupyter-widgets/controls",
            "_model_module_version": "1.5.0",
            "_model_name": "DescriptionStyleModel",
            "_view_count": null,
            "_view_module": "@jupyter-widgets/base",
            "_view_module_version": "1.2.0",
            "_view_name": "StyleView",
            "description_width": ""
          }
        },
        "0366236882b242b48c754a4d9b61a3f8": {
          "model_module": "@jupyter-widgets/base",
          "model_name": "LayoutModel",
          "model_module_version": "1.2.0",
          "state": {
            "_model_module": "@jupyter-widgets/base",
            "_model_module_version": "1.2.0",
            "_model_name": "LayoutModel",
            "_view_count": null,
            "_view_module": "@jupyter-widgets/base",
            "_view_module_version": "1.2.0",
            "_view_name": "LayoutView",
            "align_content": null,
            "align_items": null,
            "align_self": null,
            "border": null,
            "bottom": null,
            "display": null,
            "flex": null,
            "flex_flow": null,
            "grid_area": null,
            "grid_auto_columns": null,
            "grid_auto_flow": null,
            "grid_auto_rows": null,
            "grid_column": null,
            "grid_gap": null,
            "grid_row": null,
            "grid_template_areas": null,
            "grid_template_columns": null,
            "grid_template_rows": null,
            "height": null,
            "justify_content": null,
            "justify_items": null,
            "left": null,
            "margin": null,
            "max_height": null,
            "max_width": null,
            "min_height": null,
            "min_width": null,
            "object_fit": null,
            "object_position": null,
            "order": null,
            "overflow": null,
            "overflow_x": null,
            "overflow_y": null,
            "padding": null,
            "right": null,
            "top": null,
            "visibility": null,
            "width": null
          }
        },
        "60f6b412235942b18755826a418d6c75": {
          "model_module": "@jupyter-widgets/controls",
          "model_name": "ProgressStyleModel",
          "model_module_version": "1.5.0",
          "state": {
            "_model_module": "@jupyter-widgets/controls",
            "_model_module_version": "1.5.0",
            "_model_name": "ProgressStyleModel",
            "_view_count": null,
            "_view_module": "@jupyter-widgets/base",
            "_view_module_version": "1.2.0",
            "_view_name": "StyleView",
            "bar_color": null,
            "description_width": ""
          }
        },
        "1c0d8478dcb64714b2e4587c716fd337": {
          "model_module": "@jupyter-widgets/base",
          "model_name": "LayoutModel",
          "model_module_version": "1.2.0",
          "state": {
            "_model_module": "@jupyter-widgets/base",
            "_model_module_version": "1.2.0",
            "_model_name": "LayoutModel",
            "_view_count": null,
            "_view_module": "@jupyter-widgets/base",
            "_view_module_version": "1.2.0",
            "_view_name": "LayoutView",
            "align_content": null,
            "align_items": null,
            "align_self": null,
            "border": null,
            "bottom": null,
            "display": null,
            "flex": null,
            "flex_flow": null,
            "grid_area": null,
            "grid_auto_columns": null,
            "grid_auto_flow": null,
            "grid_auto_rows": null,
            "grid_column": null,
            "grid_gap": null,
            "grid_row": null,
            "grid_template_areas": null,
            "grid_template_columns": null,
            "grid_template_rows": null,
            "height": null,
            "justify_content": null,
            "justify_items": null,
            "left": null,
            "margin": null,
            "max_height": null,
            "max_width": null,
            "min_height": null,
            "min_width": null,
            "object_fit": null,
            "object_position": null,
            "order": null,
            "overflow": null,
            "overflow_x": null,
            "overflow_y": null,
            "padding": null,
            "right": null,
            "top": null,
            "visibility": null,
            "width": null
          }
        },
        "87cb102c076f4829bd670f3dc1161c08": {
          "model_module": "@jupyter-widgets/controls",
          "model_name": "DescriptionStyleModel",
          "model_module_version": "1.5.0",
          "state": {
            "_model_module": "@jupyter-widgets/controls",
            "_model_module_version": "1.5.0",
            "_model_name": "DescriptionStyleModel",
            "_view_count": null,
            "_view_module": "@jupyter-widgets/base",
            "_view_module_version": "1.2.0",
            "_view_name": "StyleView",
            "description_width": ""
          }
        },
        "7f3f6dc1262b416ba7c61dcd7ac8e718": {
          "model_module": "@jupyter-widgets/controls",
          "model_name": "HBoxModel",
          "model_module_version": "1.5.0",
          "state": {
            "_dom_classes": [],
            "_model_module": "@jupyter-widgets/controls",
            "_model_module_version": "1.5.0",
            "_model_name": "HBoxModel",
            "_view_count": null,
            "_view_module": "@jupyter-widgets/controls",
            "_view_module_version": "1.5.0",
            "_view_name": "HBoxView",
            "box_style": "",
            "children": [
              "IPY_MODEL_577e97f524204b02b196a75584e34ab3",
              "IPY_MODEL_1b09169681c54bf586b666b6a43325f0",
              "IPY_MODEL_cb383aa6dad543fa81e909988b0b693b"
            ],
            "layout": "IPY_MODEL_d91346943fb54cf3879f56dfe3c32dac"
          }
        },
        "577e97f524204b02b196a75584e34ab3": {
          "model_module": "@jupyter-widgets/controls",
          "model_name": "HTMLModel",
          "model_module_version": "1.5.0",
          "state": {
            "_dom_classes": [],
            "_model_module": "@jupyter-widgets/controls",
            "_model_module_version": "1.5.0",
            "_model_name": "HTMLModel",
            "_view_count": null,
            "_view_module": "@jupyter-widgets/controls",
            "_view_module_version": "1.5.0",
            "_view_name": "HTMLView",
            "description": "",
            "description_tooltip": null,
            "layout": "IPY_MODEL_3d73e8d39b8a4eebb637eba408138da7",
            "placeholder": "​",
            "style": "IPY_MODEL_d5aa7891e5894303ad4414aaf3f839ef",
            "value": "100%"
          }
        },
        "1b09169681c54bf586b666b6a43325f0": {
          "model_module": "@jupyter-widgets/controls",
          "model_name": "FloatProgressModel",
          "model_module_version": "1.5.0",
          "state": {
            "_dom_classes": [],
            "_model_module": "@jupyter-widgets/controls",
            "_model_module_version": "1.5.0",
            "_model_name": "FloatProgressModel",
            "_view_count": null,
            "_view_module": "@jupyter-widgets/controls",
            "_view_module_version": "1.5.0",
            "_view_name": "ProgressView",
            "bar_style": "success",
            "description": "",
            "description_tooltip": null,
            "layout": "IPY_MODEL_c535d44cf7564616baadb7f4cce90f37",
            "max": 20,
            "min": 0,
            "orientation": "horizontal",
            "style": "IPY_MODEL_38be9427b9d242a59fa2a331466e42e2",
            "value": 20
          }
        },
        "cb383aa6dad543fa81e909988b0b693b": {
          "model_module": "@jupyter-widgets/controls",
          "model_name": "HTMLModel",
          "model_module_version": "1.5.0",
          "state": {
            "_dom_classes": [],
            "_model_module": "@jupyter-widgets/controls",
            "_model_module_version": "1.5.0",
            "_model_name": "HTMLModel",
            "_view_count": null,
            "_view_module": "@jupyter-widgets/controls",
            "_view_module_version": "1.5.0",
            "_view_name": "HTMLView",
            "description": "",
            "description_tooltip": null,
            "layout": "IPY_MODEL_fd8fe099923c49478abfb6079baa8bc1",
            "placeholder": "​",
            "style": "IPY_MODEL_16caa477c21a4e71a6d0faa08dc26e6c",
            "value": " 20/20 [03:28&lt;00:00, 10.33s/it]"
          }
        },
        "d91346943fb54cf3879f56dfe3c32dac": {
          "model_module": "@jupyter-widgets/base",
          "model_name": "LayoutModel",
          "model_module_version": "1.2.0",
          "state": {
            "_model_module": "@jupyter-widgets/base",
            "_model_module_version": "1.2.0",
            "_model_name": "LayoutModel",
            "_view_count": null,
            "_view_module": "@jupyter-widgets/base",
            "_view_module_version": "1.2.0",
            "_view_name": "LayoutView",
            "align_content": null,
            "align_items": null,
            "align_self": null,
            "border": null,
            "bottom": null,
            "display": null,
            "flex": null,
            "flex_flow": null,
            "grid_area": null,
            "grid_auto_columns": null,
            "grid_auto_flow": null,
            "grid_auto_rows": null,
            "grid_column": null,
            "grid_gap": null,
            "grid_row": null,
            "grid_template_areas": null,
            "grid_template_columns": null,
            "grid_template_rows": null,
            "height": null,
            "justify_content": null,
            "justify_items": null,
            "left": null,
            "margin": null,
            "max_height": null,
            "max_width": null,
            "min_height": null,
            "min_width": null,
            "object_fit": null,
            "object_position": null,
            "order": null,
            "overflow": null,
            "overflow_x": null,
            "overflow_y": null,
            "padding": null,
            "right": null,
            "top": null,
            "visibility": null,
            "width": null
          }
        },
        "3d73e8d39b8a4eebb637eba408138da7": {
          "model_module": "@jupyter-widgets/base",
          "model_name": "LayoutModel",
          "model_module_version": "1.2.0",
          "state": {
            "_model_module": "@jupyter-widgets/base",
            "_model_module_version": "1.2.0",
            "_model_name": "LayoutModel",
            "_view_count": null,
            "_view_module": "@jupyter-widgets/base",
            "_view_module_version": "1.2.0",
            "_view_name": "LayoutView",
            "align_content": null,
            "align_items": null,
            "align_self": null,
            "border": null,
            "bottom": null,
            "display": null,
            "flex": null,
            "flex_flow": null,
            "grid_area": null,
            "grid_auto_columns": null,
            "grid_auto_flow": null,
            "grid_auto_rows": null,
            "grid_column": null,
            "grid_gap": null,
            "grid_row": null,
            "grid_template_areas": null,
            "grid_template_columns": null,
            "grid_template_rows": null,
            "height": null,
            "justify_content": null,
            "justify_items": null,
            "left": null,
            "margin": null,
            "max_height": null,
            "max_width": null,
            "min_height": null,
            "min_width": null,
            "object_fit": null,
            "object_position": null,
            "order": null,
            "overflow": null,
            "overflow_x": null,
            "overflow_y": null,
            "padding": null,
            "right": null,
            "top": null,
            "visibility": null,
            "width": null
          }
        },
        "d5aa7891e5894303ad4414aaf3f839ef": {
          "model_module": "@jupyter-widgets/controls",
          "model_name": "DescriptionStyleModel",
          "model_module_version": "1.5.0",
          "state": {
            "_model_module": "@jupyter-widgets/controls",
            "_model_module_version": "1.5.0",
            "_model_name": "DescriptionStyleModel",
            "_view_count": null,
            "_view_module": "@jupyter-widgets/base",
            "_view_module_version": "1.2.0",
            "_view_name": "StyleView",
            "description_width": ""
          }
        },
        "c535d44cf7564616baadb7f4cce90f37": {
          "model_module": "@jupyter-widgets/base",
          "model_name": "LayoutModel",
          "model_module_version": "1.2.0",
          "state": {
            "_model_module": "@jupyter-widgets/base",
            "_model_module_version": "1.2.0",
            "_model_name": "LayoutModel",
            "_view_count": null,
            "_view_module": "@jupyter-widgets/base",
            "_view_module_version": "1.2.0",
            "_view_name": "LayoutView",
            "align_content": null,
            "align_items": null,
            "align_self": null,
            "border": null,
            "bottom": null,
            "display": null,
            "flex": null,
            "flex_flow": null,
            "grid_area": null,
            "grid_auto_columns": null,
            "grid_auto_flow": null,
            "grid_auto_rows": null,
            "grid_column": null,
            "grid_gap": null,
            "grid_row": null,
            "grid_template_areas": null,
            "grid_template_columns": null,
            "grid_template_rows": null,
            "height": null,
            "justify_content": null,
            "justify_items": null,
            "left": null,
            "margin": null,
            "max_height": null,
            "max_width": null,
            "min_height": null,
            "min_width": null,
            "object_fit": null,
            "object_position": null,
            "order": null,
            "overflow": null,
            "overflow_x": null,
            "overflow_y": null,
            "padding": null,
            "right": null,
            "top": null,
            "visibility": null,
            "width": null
          }
        },
        "38be9427b9d242a59fa2a331466e42e2": {
          "model_module": "@jupyter-widgets/controls",
          "model_name": "ProgressStyleModel",
          "model_module_version": "1.5.0",
          "state": {
            "_model_module": "@jupyter-widgets/controls",
            "_model_module_version": "1.5.0",
            "_model_name": "ProgressStyleModel",
            "_view_count": null,
            "_view_module": "@jupyter-widgets/base",
            "_view_module_version": "1.2.0",
            "_view_name": "StyleView",
            "bar_color": null,
            "description_width": ""
          }
        },
        "fd8fe099923c49478abfb6079baa8bc1": {
          "model_module": "@jupyter-widgets/base",
          "model_name": "LayoutModel",
          "model_module_version": "1.2.0",
          "state": {
            "_model_module": "@jupyter-widgets/base",
            "_model_module_version": "1.2.0",
            "_model_name": "LayoutModel",
            "_view_count": null,
            "_view_module": "@jupyter-widgets/base",
            "_view_module_version": "1.2.0",
            "_view_name": "LayoutView",
            "align_content": null,
            "align_items": null,
            "align_self": null,
            "border": null,
            "bottom": null,
            "display": null,
            "flex": null,
            "flex_flow": null,
            "grid_area": null,
            "grid_auto_columns": null,
            "grid_auto_flow": null,
            "grid_auto_rows": null,
            "grid_column": null,
            "grid_gap": null,
            "grid_row": null,
            "grid_template_areas": null,
            "grid_template_columns": null,
            "grid_template_rows": null,
            "height": null,
            "justify_content": null,
            "justify_items": null,
            "left": null,
            "margin": null,
            "max_height": null,
            "max_width": null,
            "min_height": null,
            "min_width": null,
            "object_fit": null,
            "object_position": null,
            "order": null,
            "overflow": null,
            "overflow_x": null,
            "overflow_y": null,
            "padding": null,
            "right": null,
            "top": null,
            "visibility": null,
            "width": null
          }
        },
        "16caa477c21a4e71a6d0faa08dc26e6c": {
          "model_module": "@jupyter-widgets/controls",
          "model_name": "DescriptionStyleModel",
          "model_module_version": "1.5.0",
          "state": {
            "_model_module": "@jupyter-widgets/controls",
            "_model_module_version": "1.5.0",
            "_model_name": "DescriptionStyleModel",
            "_view_count": null,
            "_view_module": "@jupyter-widgets/base",
            "_view_module_version": "1.2.0",
            "_view_name": "StyleView",
            "description_width": ""
          }
        },
        "103ca2f6fa824006a74b3c61cc5a772b": {
          "model_module": "@jupyter-widgets/controls",
          "model_name": "HBoxModel",
          "model_module_version": "1.5.0",
          "state": {
            "_dom_classes": [],
            "_model_module": "@jupyter-widgets/controls",
            "_model_module_version": "1.5.0",
            "_model_name": "HBoxModel",
            "_view_count": null,
            "_view_module": "@jupyter-widgets/controls",
            "_view_module_version": "1.5.0",
            "_view_name": "HBoxView",
            "box_style": "",
            "children": [
              "IPY_MODEL_22f9d27c8059499c9d3904519d32944a",
              "IPY_MODEL_77eb084950d24b20a971d434e2dc43c4",
              "IPY_MODEL_8cee585511f24ea39ee800f768c3db4a"
            ],
            "layout": "IPY_MODEL_66fd931b5a2f4f19a7badc7042b91a50"
          }
        },
        "22f9d27c8059499c9d3904519d32944a": {
          "model_module": "@jupyter-widgets/controls",
          "model_name": "HTMLModel",
          "model_module_version": "1.5.0",
          "state": {
            "_dom_classes": [],
            "_model_module": "@jupyter-widgets/controls",
            "_model_module_version": "1.5.0",
            "_model_name": "HTMLModel",
            "_view_count": null,
            "_view_module": "@jupyter-widgets/controls",
            "_view_module_version": "1.5.0",
            "_view_name": "HTMLView",
            "description": "",
            "description_tooltip": null,
            "layout": "IPY_MODEL_9f5ecb259002404a80406842f03e470d",
            "placeholder": "​",
            "style": "IPY_MODEL_74d49f36e4ed422d816da2d9191b4bce",
            "value": "100%"
          }
        },
        "77eb084950d24b20a971d434e2dc43c4": {
          "model_module": "@jupyter-widgets/controls",
          "model_name": "FloatProgressModel",
          "model_module_version": "1.5.0",
          "state": {
            "_dom_classes": [],
            "_model_module": "@jupyter-widgets/controls",
            "_model_module_version": "1.5.0",
            "_model_name": "FloatProgressModel",
            "_view_count": null,
            "_view_module": "@jupyter-widgets/controls",
            "_view_module_version": "1.5.0",
            "_view_name": "ProgressView",
            "bar_style": "success",
            "description": "",
            "description_tooltip": null,
            "layout": "IPY_MODEL_d213b49576b94771bf2651e2b722461f",
            "max": 20,
            "min": 0,
            "orientation": "horizontal",
            "style": "IPY_MODEL_a0f22eee1acc46abbab7f14fc3ec9e90",
            "value": 20
          }
        },
        "8cee585511f24ea39ee800f768c3db4a": {
          "model_module": "@jupyter-widgets/controls",
          "model_name": "HTMLModel",
          "model_module_version": "1.5.0",
          "state": {
            "_dom_classes": [],
            "_model_module": "@jupyter-widgets/controls",
            "_model_module_version": "1.5.0",
            "_model_name": "HTMLModel",
            "_view_count": null,
            "_view_module": "@jupyter-widgets/controls",
            "_view_module_version": "1.5.0",
            "_view_name": "HTMLView",
            "description": "",
            "description_tooltip": null,
            "layout": "IPY_MODEL_0540ce2794c54874bc068e1398978e1b",
            "placeholder": "​",
            "style": "IPY_MODEL_f8d86508e5a141748819ad924458ba0f",
            "value": " 20/20 [15:40&lt;00:00, 47.19s/it]"
          }
        },
        "66fd931b5a2f4f19a7badc7042b91a50": {
          "model_module": "@jupyter-widgets/base",
          "model_name": "LayoutModel",
          "model_module_version": "1.2.0",
          "state": {
            "_model_module": "@jupyter-widgets/base",
            "_model_module_version": "1.2.0",
            "_model_name": "LayoutModel",
            "_view_count": null,
            "_view_module": "@jupyter-widgets/base",
            "_view_module_version": "1.2.0",
            "_view_name": "LayoutView",
            "align_content": null,
            "align_items": null,
            "align_self": null,
            "border": null,
            "bottom": null,
            "display": null,
            "flex": null,
            "flex_flow": null,
            "grid_area": null,
            "grid_auto_columns": null,
            "grid_auto_flow": null,
            "grid_auto_rows": null,
            "grid_column": null,
            "grid_gap": null,
            "grid_row": null,
            "grid_template_areas": null,
            "grid_template_columns": null,
            "grid_template_rows": null,
            "height": null,
            "justify_content": null,
            "justify_items": null,
            "left": null,
            "margin": null,
            "max_height": null,
            "max_width": null,
            "min_height": null,
            "min_width": null,
            "object_fit": null,
            "object_position": null,
            "order": null,
            "overflow": null,
            "overflow_x": null,
            "overflow_y": null,
            "padding": null,
            "right": null,
            "top": null,
            "visibility": null,
            "width": null
          }
        },
        "9f5ecb259002404a80406842f03e470d": {
          "model_module": "@jupyter-widgets/base",
          "model_name": "LayoutModel",
          "model_module_version": "1.2.0",
          "state": {
            "_model_module": "@jupyter-widgets/base",
            "_model_module_version": "1.2.0",
            "_model_name": "LayoutModel",
            "_view_count": null,
            "_view_module": "@jupyter-widgets/base",
            "_view_module_version": "1.2.0",
            "_view_name": "LayoutView",
            "align_content": null,
            "align_items": null,
            "align_self": null,
            "border": null,
            "bottom": null,
            "display": null,
            "flex": null,
            "flex_flow": null,
            "grid_area": null,
            "grid_auto_columns": null,
            "grid_auto_flow": null,
            "grid_auto_rows": null,
            "grid_column": null,
            "grid_gap": null,
            "grid_row": null,
            "grid_template_areas": null,
            "grid_template_columns": null,
            "grid_template_rows": null,
            "height": null,
            "justify_content": null,
            "justify_items": null,
            "left": null,
            "margin": null,
            "max_height": null,
            "max_width": null,
            "min_height": null,
            "min_width": null,
            "object_fit": null,
            "object_position": null,
            "order": null,
            "overflow": null,
            "overflow_x": null,
            "overflow_y": null,
            "padding": null,
            "right": null,
            "top": null,
            "visibility": null,
            "width": null
          }
        },
        "74d49f36e4ed422d816da2d9191b4bce": {
          "model_module": "@jupyter-widgets/controls",
          "model_name": "DescriptionStyleModel",
          "model_module_version": "1.5.0",
          "state": {
            "_model_module": "@jupyter-widgets/controls",
            "_model_module_version": "1.5.0",
            "_model_name": "DescriptionStyleModel",
            "_view_count": null,
            "_view_module": "@jupyter-widgets/base",
            "_view_module_version": "1.2.0",
            "_view_name": "StyleView",
            "description_width": ""
          }
        },
        "d213b49576b94771bf2651e2b722461f": {
          "model_module": "@jupyter-widgets/base",
          "model_name": "LayoutModel",
          "model_module_version": "1.2.0",
          "state": {
            "_model_module": "@jupyter-widgets/base",
            "_model_module_version": "1.2.0",
            "_model_name": "LayoutModel",
            "_view_count": null,
            "_view_module": "@jupyter-widgets/base",
            "_view_module_version": "1.2.0",
            "_view_name": "LayoutView",
            "align_content": null,
            "align_items": null,
            "align_self": null,
            "border": null,
            "bottom": null,
            "display": null,
            "flex": null,
            "flex_flow": null,
            "grid_area": null,
            "grid_auto_columns": null,
            "grid_auto_flow": null,
            "grid_auto_rows": null,
            "grid_column": null,
            "grid_gap": null,
            "grid_row": null,
            "grid_template_areas": null,
            "grid_template_columns": null,
            "grid_template_rows": null,
            "height": null,
            "justify_content": null,
            "justify_items": null,
            "left": null,
            "margin": null,
            "max_height": null,
            "max_width": null,
            "min_height": null,
            "min_width": null,
            "object_fit": null,
            "object_position": null,
            "order": null,
            "overflow": null,
            "overflow_x": null,
            "overflow_y": null,
            "padding": null,
            "right": null,
            "top": null,
            "visibility": null,
            "width": null
          }
        },
        "a0f22eee1acc46abbab7f14fc3ec9e90": {
          "model_module": "@jupyter-widgets/controls",
          "model_name": "ProgressStyleModel",
          "model_module_version": "1.5.0",
          "state": {
            "_model_module": "@jupyter-widgets/controls",
            "_model_module_version": "1.5.0",
            "_model_name": "ProgressStyleModel",
            "_view_count": null,
            "_view_module": "@jupyter-widgets/base",
            "_view_module_version": "1.2.0",
            "_view_name": "StyleView",
            "bar_color": null,
            "description_width": ""
          }
        },
        "0540ce2794c54874bc068e1398978e1b": {
          "model_module": "@jupyter-widgets/base",
          "model_name": "LayoutModel",
          "model_module_version": "1.2.0",
          "state": {
            "_model_module": "@jupyter-widgets/base",
            "_model_module_version": "1.2.0",
            "_model_name": "LayoutModel",
            "_view_count": null,
            "_view_module": "@jupyter-widgets/base",
            "_view_module_version": "1.2.0",
            "_view_name": "LayoutView",
            "align_content": null,
            "align_items": null,
            "align_self": null,
            "border": null,
            "bottom": null,
            "display": null,
            "flex": null,
            "flex_flow": null,
            "grid_area": null,
            "grid_auto_columns": null,
            "grid_auto_flow": null,
            "grid_auto_rows": null,
            "grid_column": null,
            "grid_gap": null,
            "grid_row": null,
            "grid_template_areas": null,
            "grid_template_columns": null,
            "grid_template_rows": null,
            "height": null,
            "justify_content": null,
            "justify_items": null,
            "left": null,
            "margin": null,
            "max_height": null,
            "max_width": null,
            "min_height": null,
            "min_width": null,
            "object_fit": null,
            "object_position": null,
            "order": null,
            "overflow": null,
            "overflow_x": null,
            "overflow_y": null,
            "padding": null,
            "right": null,
            "top": null,
            "visibility": null,
            "width": null
          }
        },
        "f8d86508e5a141748819ad924458ba0f": {
          "model_module": "@jupyter-widgets/controls",
          "model_name": "DescriptionStyleModel",
          "model_module_version": "1.5.0",
          "state": {
            "_model_module": "@jupyter-widgets/controls",
            "_model_module_version": "1.5.0",
            "_model_name": "DescriptionStyleModel",
            "_view_count": null,
            "_view_module": "@jupyter-widgets/base",
            "_view_module_version": "1.2.0",
            "_view_name": "StyleView",
            "description_width": ""
          }
        },
        "c9e1da81940d4c84a96be6a5176488b6": {
          "model_module": "@jupyter-widgets/controls",
          "model_name": "HBoxModel",
          "model_module_version": "1.5.0",
          "state": {
            "_dom_classes": [],
            "_model_module": "@jupyter-widgets/controls",
            "_model_module_version": "1.5.0",
            "_model_name": "HBoxModel",
            "_view_count": null,
            "_view_module": "@jupyter-widgets/controls",
            "_view_module_version": "1.5.0",
            "_view_name": "HBoxView",
            "box_style": "",
            "children": [
              "IPY_MODEL_afc45e000e564dea9b9a57defa94f195",
              "IPY_MODEL_2685f5b8e9424eb3ae6a22bebf1f18d0",
              "IPY_MODEL_ed3b3f2763b14cd28728459f1d755e53"
            ],
            "layout": "IPY_MODEL_26c5f234e61d4985b16695da0df413c1"
          }
        },
        "afc45e000e564dea9b9a57defa94f195": {
          "model_module": "@jupyter-widgets/controls",
          "model_name": "HTMLModel",
          "model_module_version": "1.5.0",
          "state": {
            "_dom_classes": [],
            "_model_module": "@jupyter-widgets/controls",
            "_model_module_version": "1.5.0",
            "_model_name": "HTMLModel",
            "_view_count": null,
            "_view_module": "@jupyter-widgets/controls",
            "_view_module_version": "1.5.0",
            "_view_name": "HTMLView",
            "description": "",
            "description_tooltip": null,
            "layout": "IPY_MODEL_5bc8ef3d8dc844fb9fd4e07067ba3534",
            "placeholder": "​",
            "style": "IPY_MODEL_1dfd58b1466340738a97c91d6f15a826",
            "value": "100%"
          }
        },
        "2685f5b8e9424eb3ae6a22bebf1f18d0": {
          "model_module": "@jupyter-widgets/controls",
          "model_name": "FloatProgressModel",
          "model_module_version": "1.5.0",
          "state": {
            "_dom_classes": [],
            "_model_module": "@jupyter-widgets/controls",
            "_model_module_version": "1.5.0",
            "_model_name": "FloatProgressModel",
            "_view_count": null,
            "_view_module": "@jupyter-widgets/controls",
            "_view_module_version": "1.5.0",
            "_view_name": "ProgressView",
            "bar_style": "success",
            "description": "",
            "description_tooltip": null,
            "layout": "IPY_MODEL_755dd0ed94a649ff87615758eccc37e7",
            "max": 20,
            "min": 0,
            "orientation": "horizontal",
            "style": "IPY_MODEL_371e52607c62471faa30469fcd660696",
            "value": 20
          }
        },
        "ed3b3f2763b14cd28728459f1d755e53": {
          "model_module": "@jupyter-widgets/controls",
          "model_name": "HTMLModel",
          "model_module_version": "1.5.0",
          "state": {
            "_dom_classes": [],
            "_model_module": "@jupyter-widgets/controls",
            "_model_module_version": "1.5.0",
            "_model_name": "HTMLModel",
            "_view_count": null,
            "_view_module": "@jupyter-widgets/controls",
            "_view_module_version": "1.5.0",
            "_view_name": "HTMLView",
            "description": "",
            "description_tooltip": null,
            "layout": "IPY_MODEL_0f7d34679dab40369944ad605d2a3e69",
            "placeholder": "​",
            "style": "IPY_MODEL_0ee1b10a35a54b0f9b00cc96c74e509d",
            "value": " 20/20 [01:17&lt;00:00,  3.90s/it]"
          }
        },
        "26c5f234e61d4985b16695da0df413c1": {
          "model_module": "@jupyter-widgets/base",
          "model_name": "LayoutModel",
          "model_module_version": "1.2.0",
          "state": {
            "_model_module": "@jupyter-widgets/base",
            "_model_module_version": "1.2.0",
            "_model_name": "LayoutModel",
            "_view_count": null,
            "_view_module": "@jupyter-widgets/base",
            "_view_module_version": "1.2.0",
            "_view_name": "LayoutView",
            "align_content": null,
            "align_items": null,
            "align_self": null,
            "border": null,
            "bottom": null,
            "display": null,
            "flex": null,
            "flex_flow": null,
            "grid_area": null,
            "grid_auto_columns": null,
            "grid_auto_flow": null,
            "grid_auto_rows": null,
            "grid_column": null,
            "grid_gap": null,
            "grid_row": null,
            "grid_template_areas": null,
            "grid_template_columns": null,
            "grid_template_rows": null,
            "height": null,
            "justify_content": null,
            "justify_items": null,
            "left": null,
            "margin": null,
            "max_height": null,
            "max_width": null,
            "min_height": null,
            "min_width": null,
            "object_fit": null,
            "object_position": null,
            "order": null,
            "overflow": null,
            "overflow_x": null,
            "overflow_y": null,
            "padding": null,
            "right": null,
            "top": null,
            "visibility": null,
            "width": null
          }
        },
        "5bc8ef3d8dc844fb9fd4e07067ba3534": {
          "model_module": "@jupyter-widgets/base",
          "model_name": "LayoutModel",
          "model_module_version": "1.2.0",
          "state": {
            "_model_module": "@jupyter-widgets/base",
            "_model_module_version": "1.2.0",
            "_model_name": "LayoutModel",
            "_view_count": null,
            "_view_module": "@jupyter-widgets/base",
            "_view_module_version": "1.2.0",
            "_view_name": "LayoutView",
            "align_content": null,
            "align_items": null,
            "align_self": null,
            "border": null,
            "bottom": null,
            "display": null,
            "flex": null,
            "flex_flow": null,
            "grid_area": null,
            "grid_auto_columns": null,
            "grid_auto_flow": null,
            "grid_auto_rows": null,
            "grid_column": null,
            "grid_gap": null,
            "grid_row": null,
            "grid_template_areas": null,
            "grid_template_columns": null,
            "grid_template_rows": null,
            "height": null,
            "justify_content": null,
            "justify_items": null,
            "left": null,
            "margin": null,
            "max_height": null,
            "max_width": null,
            "min_height": null,
            "min_width": null,
            "object_fit": null,
            "object_position": null,
            "order": null,
            "overflow": null,
            "overflow_x": null,
            "overflow_y": null,
            "padding": null,
            "right": null,
            "top": null,
            "visibility": null,
            "width": null
          }
        },
        "1dfd58b1466340738a97c91d6f15a826": {
          "model_module": "@jupyter-widgets/controls",
          "model_name": "DescriptionStyleModel",
          "model_module_version": "1.5.0",
          "state": {
            "_model_module": "@jupyter-widgets/controls",
            "_model_module_version": "1.5.0",
            "_model_name": "DescriptionStyleModel",
            "_view_count": null,
            "_view_module": "@jupyter-widgets/base",
            "_view_module_version": "1.2.0",
            "_view_name": "StyleView",
            "description_width": ""
          }
        },
        "755dd0ed94a649ff87615758eccc37e7": {
          "model_module": "@jupyter-widgets/base",
          "model_name": "LayoutModel",
          "model_module_version": "1.2.0",
          "state": {
            "_model_module": "@jupyter-widgets/base",
            "_model_module_version": "1.2.0",
            "_model_name": "LayoutModel",
            "_view_count": null,
            "_view_module": "@jupyter-widgets/base",
            "_view_module_version": "1.2.0",
            "_view_name": "LayoutView",
            "align_content": null,
            "align_items": null,
            "align_self": null,
            "border": null,
            "bottom": null,
            "display": null,
            "flex": null,
            "flex_flow": null,
            "grid_area": null,
            "grid_auto_columns": null,
            "grid_auto_flow": null,
            "grid_auto_rows": null,
            "grid_column": null,
            "grid_gap": null,
            "grid_row": null,
            "grid_template_areas": null,
            "grid_template_columns": null,
            "grid_template_rows": null,
            "height": null,
            "justify_content": null,
            "justify_items": null,
            "left": null,
            "margin": null,
            "max_height": null,
            "max_width": null,
            "min_height": null,
            "min_width": null,
            "object_fit": null,
            "object_position": null,
            "order": null,
            "overflow": null,
            "overflow_x": null,
            "overflow_y": null,
            "padding": null,
            "right": null,
            "top": null,
            "visibility": null,
            "width": null
          }
        },
        "371e52607c62471faa30469fcd660696": {
          "model_module": "@jupyter-widgets/controls",
          "model_name": "ProgressStyleModel",
          "model_module_version": "1.5.0",
          "state": {
            "_model_module": "@jupyter-widgets/controls",
            "_model_module_version": "1.5.0",
            "_model_name": "ProgressStyleModel",
            "_view_count": null,
            "_view_module": "@jupyter-widgets/base",
            "_view_module_version": "1.2.0",
            "_view_name": "StyleView",
            "bar_color": null,
            "description_width": ""
          }
        },
        "0f7d34679dab40369944ad605d2a3e69": {
          "model_module": "@jupyter-widgets/base",
          "model_name": "LayoutModel",
          "model_module_version": "1.2.0",
          "state": {
            "_model_module": "@jupyter-widgets/base",
            "_model_module_version": "1.2.0",
            "_model_name": "LayoutModel",
            "_view_count": null,
            "_view_module": "@jupyter-widgets/base",
            "_view_module_version": "1.2.0",
            "_view_name": "LayoutView",
            "align_content": null,
            "align_items": null,
            "align_self": null,
            "border": null,
            "bottom": null,
            "display": null,
            "flex": null,
            "flex_flow": null,
            "grid_area": null,
            "grid_auto_columns": null,
            "grid_auto_flow": null,
            "grid_auto_rows": null,
            "grid_column": null,
            "grid_gap": null,
            "grid_row": null,
            "grid_template_areas": null,
            "grid_template_columns": null,
            "grid_template_rows": null,
            "height": null,
            "justify_content": null,
            "justify_items": null,
            "left": null,
            "margin": null,
            "max_height": null,
            "max_width": null,
            "min_height": null,
            "min_width": null,
            "object_fit": null,
            "object_position": null,
            "order": null,
            "overflow": null,
            "overflow_x": null,
            "overflow_y": null,
            "padding": null,
            "right": null,
            "top": null,
            "visibility": null,
            "width": null
          }
        },
        "0ee1b10a35a54b0f9b00cc96c74e509d": {
          "model_module": "@jupyter-widgets/controls",
          "model_name": "DescriptionStyleModel",
          "model_module_version": "1.5.0",
          "state": {
            "_model_module": "@jupyter-widgets/controls",
            "_model_module_version": "1.5.0",
            "_model_name": "DescriptionStyleModel",
            "_view_count": null,
            "_view_module": "@jupyter-widgets/base",
            "_view_module_version": "1.2.0",
            "_view_name": "StyleView",
            "description_width": ""
          }
        }
      }
    }
  },
  "nbformat": 4,
  "nbformat_minor": 0
}