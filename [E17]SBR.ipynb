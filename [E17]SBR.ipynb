{
  "nbformat": 4,
  "nbformat_minor": 0,
  "metadata": {
    "colab": {
      "name": "E17.ipynb",
      "provenance": [],
      "collapsed_sections": [],
      "machine_shape": "hm",
      "toc_visible": true
    },
    "kernelspec": {
      "name": "python3",
      "display_name": "Python 3"
    },
    "language_info": {
      "name": "python"
    },
    "accelerator": "GPU",
    "gpuClass": "standard"
  },
  "cells": [
    {
      "cell_type": "markdown",
      "source": [
        "# Exploration_17"
      ],
      "metadata": {
        "id": "HnlmG8_TgQJK"
      }
    },
    {
      "cell_type": "markdown",
      "source": [
        "## Session-Based Recommendation"
      ],
      "metadata": {
        "id": "D6sPuhrlgQGe"
      }
    },
    {
      "cell_type": "markdown",
      "source": [
        "### 1.1 Module"
      ],
      "metadata": {
        "id": "hXYoah53gQDs"
      }
    },
    {
      "cell_type": "markdown",
      "source": [
        "- 사용할 모듈을 불러옵니다."
      ],
      "metadata": {
        "id": "Y2wVA6n3Tm7J"
      }
    },
    {
      "cell_type": "code",
      "source": [
        "import os\n",
        "import time\n",
        "import random\n",
        "import warnings\n",
        "import numpy as np\n",
        "import pandas as pd\n",
        "import seaborn as sns\n",
        "from tqdm import tqdm\n",
        "import datetime as dt\n",
        "from dateutil import tz\n",
        "from pathlib import Path\n",
        "from google.colab import drive\n",
        "import matplotlib.pyplot as plt\n",
        "from sklearn.model_selection import train_test_split\n",
        "\n",
        "import tensorflow as tf\n",
        "from tensorflow.keras.layers import Input, Dense, Dropout, GRU\n",
        "from tensorflow.keras.losses import categorical_crossentropy\n",
        "from tensorflow.keras.models import Model\n",
        "from tensorflow.keras.optimizers import Adam\n",
        "from tensorflow.keras.optimizers import Nadam\n",
        "from tensorflow.keras.optimizers import RMSprop\n",
        "from tensorflow.keras.utils import to_categorical\n",
        "\n",
        "warnings.filterwarnings('ignore')"
      ],
      "metadata": {
        "id": "6YFro6bTh1ft"
      },
      "execution_count": null,
      "outputs": []
    },
    {
      "cell_type": "markdown",
      "source": [
        "### 1.2 Data"
      ],
      "metadata": {
        "id": "RZTl9yvkgP7p"
      }
    },
    {
      "cell_type": "markdown",
      "source": [
        "#### 1.2.1 Data load"
      ],
      "metadata": {
        "id": "B5pfjNnQjPhX"
      }
    },
    {
      "cell_type": "markdown",
      "source": [
        "- 구글 드라이브를 마운트합니다."
      ],
      "metadata": {
        "id": "SxEhGWfzT6UG"
      }
    },
    {
      "cell_type": "code",
      "source": [
        "drive.mount('/gdrive')"
      ],
      "metadata": {
        "colab": {
          "base_uri": "https://localhost:8080/"
        },
        "outputId": "fdcbed0c-2567-4282-f98b-eb934f973eba",
        "id": "uhKFuvwUT4gb"
      },
      "execution_count": null,
      "outputs": [
        {
          "output_type": "stream",
          "name": "stdout",
          "text": [
            "Mounted at /gdrive\n"
          ]
        }
      ]
    },
    {
      "cell_type": "markdown",
      "source": [
        "- 사용할 데이터를 불러옵니다."
      ],
      "metadata": {
        "id": "vi-MKXAEjS1y"
      }
    },
    {
      "cell_type": "code",
      "source": [
        "train_path = '/gdrive/My Drive/Colab Notebooks/ml-1m/ratings.dat'\n",
        "\n",
        "def load_data(data_path: Path, nrows=None):\n",
        "    data = pd.read_csv(data_path, sep='::', header=None, usecols=[0, 1, 2, 3], dtype={0: np.int32, 1: np.int32, 2: np.int32}, nrows=nrows)\n",
        "    data.columns = ['userid', 'itemid', 'rating', 'time']\n",
        "    return data\n",
        "\n",
        "data = load_data(train_path, None)\n",
        "data.sort_values(['time'], inplace=True)  # 시간 순서로 정렬해줍니다."
      ],
      "metadata": {
        "id": "Jf1FCjzqkXEV"
      },
      "execution_count": null,
      "outputs": []
    },
    {
      "cell_type": "code",
      "source": [
        "data.tail(5)"
      ],
      "metadata": {
        "colab": {
          "base_uri": "https://localhost:8080/",
          "height": 206
        },
        "id": "9AMMIj9hXWEm",
        "outputId": "5e841d3c-a893-479e-af95-4e651429ca5f"
      },
      "execution_count": null,
      "outputs": [
        {
          "output_type": "execute_result",
          "data": {
            "text/plain": [
              "        userid  itemid  rating        time\n",
              "825793    4958    2399       1  1046454338\n",
              "825438    4958    1407       5  1046454443\n",
              "825724    4958    3264       4  1046454548\n",
              "825731    4958    2634       3  1046454548\n",
              "825603    4958    1924       4  1046454590"
            ],
            "text/html": [
              "\n",
              "  <div id=\"df-476bcd76-c4a1-44d9-a3ec-0be68d025435\">\n",
              "    <div class=\"colab-df-container\">\n",
              "      <div>\n",
              "<style scoped>\n",
              "    .dataframe tbody tr th:only-of-type {\n",
              "        vertical-align: middle;\n",
              "    }\n",
              "\n",
              "    .dataframe tbody tr th {\n",
              "        vertical-align: top;\n",
              "    }\n",
              "\n",
              "    .dataframe thead th {\n",
              "        text-align: right;\n",
              "    }\n",
              "</style>\n",
              "<table border=\"1\" class=\"dataframe\">\n",
              "  <thead>\n",
              "    <tr style=\"text-align: right;\">\n",
              "      <th></th>\n",
              "      <th>userid</th>\n",
              "      <th>itemid</th>\n",
              "      <th>rating</th>\n",
              "      <th>time</th>\n",
              "    </tr>\n",
              "  </thead>\n",
              "  <tbody>\n",
              "    <tr>\n",
              "      <th>825793</th>\n",
              "      <td>4958</td>\n",
              "      <td>2399</td>\n",
              "      <td>1</td>\n",
              "      <td>1046454338</td>\n",
              "    </tr>\n",
              "    <tr>\n",
              "      <th>825438</th>\n",
              "      <td>4958</td>\n",
              "      <td>1407</td>\n",
              "      <td>5</td>\n",
              "      <td>1046454443</td>\n",
              "    </tr>\n",
              "    <tr>\n",
              "      <th>825724</th>\n",
              "      <td>4958</td>\n",
              "      <td>3264</td>\n",
              "      <td>4</td>\n",
              "      <td>1046454548</td>\n",
              "    </tr>\n",
              "    <tr>\n",
              "      <th>825731</th>\n",
              "      <td>4958</td>\n",
              "      <td>2634</td>\n",
              "      <td>3</td>\n",
              "      <td>1046454548</td>\n",
              "    </tr>\n",
              "    <tr>\n",
              "      <th>825603</th>\n",
              "      <td>4958</td>\n",
              "      <td>1924</td>\n",
              "      <td>4</td>\n",
              "      <td>1046454590</td>\n",
              "    </tr>\n",
              "  </tbody>\n",
              "</table>\n",
              "</div>\n",
              "      <button class=\"colab-df-convert\" onclick=\"convertToInteractive('df-476bcd76-c4a1-44d9-a3ec-0be68d025435')\"\n",
              "              title=\"Convert this dataframe to an interactive table.\"\n",
              "              style=\"display:none;\">\n",
              "        \n",
              "  <svg xmlns=\"http://www.w3.org/2000/svg\" height=\"24px\"viewBox=\"0 0 24 24\"\n",
              "       width=\"24px\">\n",
              "    <path d=\"M0 0h24v24H0V0z\" fill=\"none\"/>\n",
              "    <path d=\"M18.56 5.44l.94 2.06.94-2.06 2.06-.94-2.06-.94-.94-2.06-.94 2.06-2.06.94zm-11 1L8.5 8.5l.94-2.06 2.06-.94-2.06-.94L8.5 2.5l-.94 2.06-2.06.94zm10 10l.94 2.06.94-2.06 2.06-.94-2.06-.94-.94-2.06-.94 2.06-2.06.94z\"/><path d=\"M17.41 7.96l-1.37-1.37c-.4-.4-.92-.59-1.43-.59-.52 0-1.04.2-1.43.59L10.3 9.45l-7.72 7.72c-.78.78-.78 2.05 0 2.83L4 21.41c.39.39.9.59 1.41.59.51 0 1.02-.2 1.41-.59l7.78-7.78 2.81-2.81c.8-.78.8-2.07 0-2.86zM5.41 20L4 18.59l7.72-7.72 1.47 1.35L5.41 20z\"/>\n",
              "  </svg>\n",
              "      </button>\n",
              "      \n",
              "  <style>\n",
              "    .colab-df-container {\n",
              "      display:flex;\n",
              "      flex-wrap:wrap;\n",
              "      gap: 12px;\n",
              "    }\n",
              "\n",
              "    .colab-df-convert {\n",
              "      background-color: #E8F0FE;\n",
              "      border: none;\n",
              "      border-radius: 50%;\n",
              "      cursor: pointer;\n",
              "      display: none;\n",
              "      fill: #1967D2;\n",
              "      height: 32px;\n",
              "      padding: 0 0 0 0;\n",
              "      width: 32px;\n",
              "    }\n",
              "\n",
              "    .colab-df-convert:hover {\n",
              "      background-color: #E2EBFA;\n",
              "      box-shadow: 0px 1px 2px rgba(60, 64, 67, 0.3), 0px 1px 3px 1px rgba(60, 64, 67, 0.15);\n",
              "      fill: #174EA6;\n",
              "    }\n",
              "\n",
              "    [theme=dark] .colab-df-convert {\n",
              "      background-color: #3B4455;\n",
              "      fill: #D2E3FC;\n",
              "    }\n",
              "\n",
              "    [theme=dark] .colab-df-convert:hover {\n",
              "      background-color: #434B5C;\n",
              "      box-shadow: 0px 1px 3px 1px rgba(0, 0, 0, 0.15);\n",
              "      filter: drop-shadow(0px 1px 2px rgba(0, 0, 0, 0.3));\n",
              "      fill: #FFFFFF;\n",
              "    }\n",
              "  </style>\n",
              "\n",
              "      <script>\n",
              "        const buttonEl =\n",
              "          document.querySelector('#df-476bcd76-c4a1-44d9-a3ec-0be68d025435 button.colab-df-convert');\n",
              "        buttonEl.style.display =\n",
              "          google.colab.kernel.accessAllowed ? 'block' : 'none';\n",
              "\n",
              "        async function convertToInteractive(key) {\n",
              "          const element = document.querySelector('#df-476bcd76-c4a1-44d9-a3ec-0be68d025435');\n",
              "          const dataTable =\n",
              "            await google.colab.kernel.invokeFunction('convertToInteractive',\n",
              "                                                     [key], {});\n",
              "          if (!dataTable) return;\n",
              "\n",
              "          const docLinkHtml = 'Like what you see? Visit the ' +\n",
              "            '<a target=\"_blank\" href=https://colab.research.google.com/notebooks/data_table.ipynb>data table notebook</a>'\n",
              "            + ' to learn more about interactive tables.';\n",
              "          element.innerHTML = '';\n",
              "          dataTable['output_type'] = 'display_data';\n",
              "          await google.colab.output.renderOutput(dataTable, element);\n",
              "          const docLink = document.createElement('div');\n",
              "          docLink.innerHTML = docLinkHtml;\n",
              "          element.appendChild(docLink);\n",
              "        }\n",
              "      </script>\n",
              "    </div>\n",
              "  </div>\n",
              "  "
            ]
          },
          "metadata": {},
          "execution_count": 5
        }
      ]
    },
    {
      "cell_type": "code",
      "source": [
        "data.info()"
      ],
      "metadata": {
        "colab": {
          "base_uri": "https://localhost:8080/"
        },
        "id": "vhwP_P1llpnS",
        "outputId": "738df1bd-c4de-471d-9b49-845d2fce736a"
      },
      "execution_count": null,
      "outputs": [
        {
          "output_type": "stream",
          "name": "stdout",
          "text": [
            "<class 'pandas.core.frame.DataFrame'>\n",
            "Int64Index: 1000209 entries, 1000138 to 825603\n",
            "Data columns (total 4 columns):\n",
            " #   Column  Non-Null Count    Dtype\n",
            "---  ------  --------------    -----\n",
            " 0   userid  1000209 non-null  int32\n",
            " 1   itemid  1000209 non-null  int32\n",
            " 2   rating  1000209 non-null  int32\n",
            " 3   time    1000209 non-null  int64\n",
            "dtypes: int32(3), int64(1)\n",
            "memory usage: 26.7 MB\n"
          ]
        }
      ]
    },
    {
      "cell_type": "markdown",
      "source": [
        "#### 1.2.2 Visualization"
      ],
      "metadata": {
        "id": "2VyuQMrNWl6J"
      }
    },
    {
      "cell_type": "code",
      "source": [
        "data['userid'].nunique(), data['itemid'].nunique()"
      ],
      "metadata": {
        "colab": {
          "base_uri": "https://localhost:8080/"
        },
        "id": "dEyVzLnblsEG",
        "outputId": "cd9bb729-54f7-4b36-b303-002ff52ec56e"
      },
      "execution_count": null,
      "outputs": [
        {
          "output_type": "execute_result",
          "data": {
            "text/plain": [
              "(6040, 3706)"
            ]
          },
          "metadata": {},
          "execution_count": 8
        }
      ]
    },
    {
      "cell_type": "markdown",
      "source": [
        "- 유저는 6040, 아이템(movies)는 3706개 입니다."
      ],
      "metadata": {
        "id": "grxd337ggcbA"
      }
    },
    {
      "cell_type": "code",
      "source": [
        "user_length = data.groupby('userid').size()\n",
        "user_length"
      ],
      "metadata": {
        "colab": {
          "base_uri": "https://localhost:8080/"
        },
        "id": "pDNmoOK4lGzw",
        "outputId": "e4ec7f0a-4a50-4626-b532-02e3e6c6fa05"
      },
      "execution_count": null,
      "outputs": [
        {
          "output_type": "execute_result",
          "data": {
            "text/plain": [
              "userid\n",
              "1        53\n",
              "2       129\n",
              "3        51\n",
              "4        21\n",
              "5       198\n",
              "       ... \n",
              "6036    888\n",
              "6037    202\n",
              "6038     20\n",
              "6039    123\n",
              "6040    341\n",
              "Length: 6040, dtype: int64"
            ]
          },
          "metadata": {},
          "execution_count": 9
        }
      ]
    },
    {
      "cell_type": "markdown",
      "source": [
        "- userid를 기준으로 groupby해보면 userid 1은 총 53번의 평가를 진행했고 2는 129번 진행했습니다."
      ],
      "metadata": {
        "id": "ynvPYtR1g1Pi"
      }
    },
    {
      "cell_type": "code",
      "source": [
        "#중앙값, 평균\n",
        "user_length.median(), user_length.mean()"
      ],
      "metadata": {
        "colab": {
          "base_uri": "https://localhost:8080/"
        },
        "id": "P1QNPcyjlud-",
        "outputId": "f95c6c01-daaf-408c-9db9-6aae04c5160f"
      },
      "execution_count": null,
      "outputs": [
        {
          "output_type": "execute_result",
          "data": {
            "text/plain": [
              "(96.0, 165.5975165562914)"
            ]
          },
          "metadata": {},
          "execution_count": 10
        }
      ]
    },
    {
      "cell_type": "markdown",
      "source": [
        "- 평균적으로 165번 평가를 진행했고, 중앙값은 96입니다."
      ],
      "metadata": {
        "id": "Lur6Vh1IhLSO"
      }
    },
    {
      "cell_type": "code",
      "source": [
        "#최소값, 최댓값\n",
        "user_length.min(), user_length.max()"
      ],
      "metadata": {
        "colab": {
          "base_uri": "https://localhost:8080/"
        },
        "id": "upwfR5pAlvLx",
        "outputId": "4b8b6938-60c0-4d8b-a5c7-f936dd9b83da"
      },
      "execution_count": null,
      "outputs": [
        {
          "output_type": "execute_result",
          "data": {
            "text/plain": [
              "(20, 2314)"
            ]
          },
          "metadata": {},
          "execution_count": 11
        }
      ]
    },
    {
      "cell_type": "markdown",
      "source": [
        "- 2314번... 평가한 사람은 영화를 정말 좋아하나 봅니다."
      ],
      "metadata": {
        "id": "ChWadzJChVeJ"
      }
    },
    {
      "cell_type": "code",
      "source": [
        "#분위수\n",
        "user_length.quantile(0.999)"
      ],
      "metadata": {
        "colab": {
          "base_uri": "https://localhost:8080/"
        },
        "id": "0cezWbXNlwkm",
        "outputId": "a0b402e2-e3ca-4f6c-8360-2519e0042116"
      },
      "execution_count": null,
      "outputs": [
        {
          "output_type": "execute_result",
          "data": {
            "text/plain": [
              "1343.181000000005"
            ]
          },
          "metadata": {},
          "execution_count": 12
        }
      ]
    },
    {
      "cell_type": "code",
      "source": [
        "long_session = user_length[user_length == 2314].index[0]\n",
        "data[data['userid'] == long_session]"
      ],
      "metadata": {
        "colab": {
          "base_uri": "https://localhost:8080/",
          "height": 423
        },
        "id": "QAaOLHpklxxW",
        "outputId": "85b908b2-dfc2-4fef-9864-307f36953548"
      },
      "execution_count": null,
      "outputs": [
        {
          "output_type": "execute_result",
          "data": {
            "text/plain": [
              "        userid  itemid  rating        time\n",
              "697219    4169    2653       4   965333392\n",
              "696969    4169    1268       5   965333392\n",
              "697275    4169     423       3   965333392\n",
              "697185    4169    2628       4   965333392\n",
              "697168    4169    2617       4   965333392\n",
              "...        ...     ...     ...         ...\n",
              "697882    4169    3754       2  1024174347\n",
              "695702    4169    1413       3  1024175031\n",
              "697358    4169     494       4  1024175760\n",
              "695945    4169    1804       2  1024175783\n",
              "696446    4169    1548       3  1024176337\n",
              "\n",
              "[2314 rows x 4 columns]"
            ],
            "text/html": [
              "\n",
              "  <div id=\"df-ef697c58-4e37-419a-9774-7cfce7998a4c\">\n",
              "    <div class=\"colab-df-container\">\n",
              "      <div>\n",
              "<style scoped>\n",
              "    .dataframe tbody tr th:only-of-type {\n",
              "        vertical-align: middle;\n",
              "    }\n",
              "\n",
              "    .dataframe tbody tr th {\n",
              "        vertical-align: top;\n",
              "    }\n",
              "\n",
              "    .dataframe thead th {\n",
              "        text-align: right;\n",
              "    }\n",
              "</style>\n",
              "<table border=\"1\" class=\"dataframe\">\n",
              "  <thead>\n",
              "    <tr style=\"text-align: right;\">\n",
              "      <th></th>\n",
              "      <th>userid</th>\n",
              "      <th>itemid</th>\n",
              "      <th>rating</th>\n",
              "      <th>time</th>\n",
              "    </tr>\n",
              "  </thead>\n",
              "  <tbody>\n",
              "    <tr>\n",
              "      <th>697219</th>\n",
              "      <td>4169</td>\n",
              "      <td>2653</td>\n",
              "      <td>4</td>\n",
              "      <td>965333392</td>\n",
              "    </tr>\n",
              "    <tr>\n",
              "      <th>696969</th>\n",
              "      <td>4169</td>\n",
              "      <td>1268</td>\n",
              "      <td>5</td>\n",
              "      <td>965333392</td>\n",
              "    </tr>\n",
              "    <tr>\n",
              "      <th>697275</th>\n",
              "      <td>4169</td>\n",
              "      <td>423</td>\n",
              "      <td>3</td>\n",
              "      <td>965333392</td>\n",
              "    </tr>\n",
              "    <tr>\n",
              "      <th>697185</th>\n",
              "      <td>4169</td>\n",
              "      <td>2628</td>\n",
              "      <td>4</td>\n",
              "      <td>965333392</td>\n",
              "    </tr>\n",
              "    <tr>\n",
              "      <th>697168</th>\n",
              "      <td>4169</td>\n",
              "      <td>2617</td>\n",
              "      <td>4</td>\n",
              "      <td>965333392</td>\n",
              "    </tr>\n",
              "    <tr>\n",
              "      <th>...</th>\n",
              "      <td>...</td>\n",
              "      <td>...</td>\n",
              "      <td>...</td>\n",
              "      <td>...</td>\n",
              "    </tr>\n",
              "    <tr>\n",
              "      <th>697882</th>\n",
              "      <td>4169</td>\n",
              "      <td>3754</td>\n",
              "      <td>2</td>\n",
              "      <td>1024174347</td>\n",
              "    </tr>\n",
              "    <tr>\n",
              "      <th>695702</th>\n",
              "      <td>4169</td>\n",
              "      <td>1413</td>\n",
              "      <td>3</td>\n",
              "      <td>1024175031</td>\n",
              "    </tr>\n",
              "    <tr>\n",
              "      <th>697358</th>\n",
              "      <td>4169</td>\n",
              "      <td>494</td>\n",
              "      <td>4</td>\n",
              "      <td>1024175760</td>\n",
              "    </tr>\n",
              "    <tr>\n",
              "      <th>695945</th>\n",
              "      <td>4169</td>\n",
              "      <td>1804</td>\n",
              "      <td>2</td>\n",
              "      <td>1024175783</td>\n",
              "    </tr>\n",
              "    <tr>\n",
              "      <th>696446</th>\n",
              "      <td>4169</td>\n",
              "      <td>1548</td>\n",
              "      <td>3</td>\n",
              "      <td>1024176337</td>\n",
              "    </tr>\n",
              "  </tbody>\n",
              "</table>\n",
              "<p>2314 rows × 4 columns</p>\n",
              "</div>\n",
              "      <button class=\"colab-df-convert\" onclick=\"convertToInteractive('df-ef697c58-4e37-419a-9774-7cfce7998a4c')\"\n",
              "              title=\"Convert this dataframe to an interactive table.\"\n",
              "              style=\"display:none;\">\n",
              "        \n",
              "  <svg xmlns=\"http://www.w3.org/2000/svg\" height=\"24px\"viewBox=\"0 0 24 24\"\n",
              "       width=\"24px\">\n",
              "    <path d=\"M0 0h24v24H0V0z\" fill=\"none\"/>\n",
              "    <path d=\"M18.56 5.44l.94 2.06.94-2.06 2.06-.94-2.06-.94-.94-2.06-.94 2.06-2.06.94zm-11 1L8.5 8.5l.94-2.06 2.06-.94-2.06-.94L8.5 2.5l-.94 2.06-2.06.94zm10 10l.94 2.06.94-2.06 2.06-.94-2.06-.94-.94-2.06-.94 2.06-2.06.94z\"/><path d=\"M17.41 7.96l-1.37-1.37c-.4-.4-.92-.59-1.43-.59-.52 0-1.04.2-1.43.59L10.3 9.45l-7.72 7.72c-.78.78-.78 2.05 0 2.83L4 21.41c.39.39.9.59 1.41.59.51 0 1.02-.2 1.41-.59l7.78-7.78 2.81-2.81c.8-.78.8-2.07 0-2.86zM5.41 20L4 18.59l7.72-7.72 1.47 1.35L5.41 20z\"/>\n",
              "  </svg>\n",
              "      </button>\n",
              "      \n",
              "  <style>\n",
              "    .colab-df-container {\n",
              "      display:flex;\n",
              "      flex-wrap:wrap;\n",
              "      gap: 12px;\n",
              "    }\n",
              "\n",
              "    .colab-df-convert {\n",
              "      background-color: #E8F0FE;\n",
              "      border: none;\n",
              "      border-radius: 50%;\n",
              "      cursor: pointer;\n",
              "      display: none;\n",
              "      fill: #1967D2;\n",
              "      height: 32px;\n",
              "      padding: 0 0 0 0;\n",
              "      width: 32px;\n",
              "    }\n",
              "\n",
              "    .colab-df-convert:hover {\n",
              "      background-color: #E2EBFA;\n",
              "      box-shadow: 0px 1px 2px rgba(60, 64, 67, 0.3), 0px 1px 3px 1px rgba(60, 64, 67, 0.15);\n",
              "      fill: #174EA6;\n",
              "    }\n",
              "\n",
              "    [theme=dark] .colab-df-convert {\n",
              "      background-color: #3B4455;\n",
              "      fill: #D2E3FC;\n",
              "    }\n",
              "\n",
              "    [theme=dark] .colab-df-convert:hover {\n",
              "      background-color: #434B5C;\n",
              "      box-shadow: 0px 1px 3px 1px rgba(0, 0, 0, 0.15);\n",
              "      filter: drop-shadow(0px 1px 2px rgba(0, 0, 0, 0.3));\n",
              "      fill: #FFFFFF;\n",
              "    }\n",
              "  </style>\n",
              "\n",
              "      <script>\n",
              "        const buttonEl =\n",
              "          document.querySelector('#df-ef697c58-4e37-419a-9774-7cfce7998a4c button.colab-df-convert');\n",
              "        buttonEl.style.display =\n",
              "          google.colab.kernel.accessAllowed ? 'block' : 'none';\n",
              "\n",
              "        async function convertToInteractive(key) {\n",
              "          const element = document.querySelector('#df-ef697c58-4e37-419a-9774-7cfce7998a4c');\n",
              "          const dataTable =\n",
              "            await google.colab.kernel.invokeFunction('convertToInteractive',\n",
              "                                                     [key], {});\n",
              "          if (!dataTable) return;\n",
              "\n",
              "          const docLinkHtml = 'Like what you see? Visit the ' +\n",
              "            '<a target=\"_blank\" href=https://colab.research.google.com/notebooks/data_table.ipynb>data table notebook</a>'\n",
              "            + ' to learn more about interactive tables.';\n",
              "          element.innerHTML = '';\n",
              "          dataTable['output_type'] = 'display_data';\n",
              "          await google.colab.output.renderOutput(dataTable, element);\n",
              "          const docLink = document.createElement('div');\n",
              "          docLink.innerHTML = docLinkHtml;\n",
              "          element.appendChild(docLink);\n",
              "        }\n",
              "      </script>\n",
              "    </div>\n",
              "  </div>\n",
              "  "
            ]
          },
          "metadata": {},
          "execution_count": 13
        }
      ]
    },
    {
      "cell_type": "markdown",
      "source": [
        "- id 4169번 아저씨군요..."
      ],
      "metadata": {
        "id": "yPkAzSbmkR8W"
      }
    },
    {
      "cell_type": "code",
      "source": [
        "#하위 99.9% 세션 길이 분포 누적합 시각화\n",
        "length_count = user_length.groupby(user_length).size()\n",
        "length_percent_cumsum = length_count.cumsum() / length_count.sum()\n",
        "length_percent_cumsum_999 = length_percent_cumsum[length_percent_cumsum < 0.999]\n",
        "\n",
        "length_percent_cumsum_999"
      ],
      "metadata": {
        "colab": {
          "base_uri": "https://localhost:8080/"
        },
        "id": "Q8mtHEVBmGGG",
        "outputId": "b1ec733b-e5cf-4cb3-887d-c387b76eba1e"
      },
      "execution_count": null,
      "outputs": [
        {
          "output_type": "execute_result",
          "data": {
            "text/plain": [
              "20      0.014238\n",
              "21      0.029305\n",
              "22      0.042053\n",
              "23      0.055464\n",
              "24      0.068874\n",
              "          ...   \n",
              "1271    0.998179\n",
              "1277    0.998344\n",
              "1286    0.998510\n",
              "1302    0.998675\n",
              "1323    0.998841\n",
              "Length: 736, dtype: float64"
            ]
          },
          "metadata": {},
          "execution_count": 14
        }
      ]
    },
    {
      "cell_type": "markdown",
      "source": [
        "- cumsum, 누적합은 하나하나 더해가며 누적시킵니다.\n",
        "- 누적합에서 전체 합을 나눠주면 0~1까지 순차적으로 분포를 확인할 수 있습니다.  \n",
        "- 그 중 0.999까지만 받으면 2314번 평가한 사람은 제외됩니다."
      ],
      "metadata": {
        "id": "hNzRSxLXkV30"
      }
    },
    {
      "cell_type": "code",
      "source": [
        "plt.figure(figsize = (20, 10))\n",
        "plt.bar(x = length_percent_cumsum_999.index, height = length_percent_cumsum_999, color = 'blue')\n",
        "plt.xticks(length_percent_cumsum_999.index)\n",
        "plt.yticks(np.arange(0, 1.01, 0.05))\n",
        "plt.title('Cumsum Percentage Until 0.999', size=20)"
      ],
      "metadata": {
        "colab": {
          "base_uri": "https://localhost:8080/",
          "height": 606
        },
        "id": "HVD9ap9pmHGi",
        "outputId": "ca9682fd-ff44-48e1-f37e-46bdfcd83803"
      },
      "execution_count": null,
      "outputs": [
        {
          "output_type": "execute_result",
          "data": {
            "text/plain": [
              "Text(0.5, 1.0, 'Cumsum Percentage Until 0.999')"
            ]
          },
          "metadata": {},
          "execution_count": 15
        },
        {
          "output_type": "display_data",
          "data": {
            "text/plain": [
              "<Figure size 1440x720 with 1 Axes>"
            ],
            "image/png": "[encoded data removed]"
          },
          "metadata": {
            "needs_background": "light"
          }
        }
      ]
    },
    {
      "cell_type": "markdown",
      "source": [
        "- 시각화하여 확인해 볼 수 있습니다.\n",
        "- 사실 user id는 session data가 아닙니다...  \n",
        "같은 session id를 공유하는 데이터의 클릭 갯수를 세어 시각화를 하는 방법이기 때문입니다만, 안하면 허전해서 해봅니다.  \n",
        "- 그냥 user가 item(movie)에 대한 rating을 많이 했구나 정도로 생각하고 넘어갑니다."
      ],
      "metadata": {
        "id": "sYNnvr_1l6gt"
      }
    },
    {
      "cell_type": "markdown",
      "source": [
        "### 1.3 Preprocess"
      ],
      "metadata": {
        "id": "O-jvo0sKr6OW"
      }
    },
    {
      "cell_type": "markdown",
      "source": [
        "- 데이터를 확인했으니 preprocess를 진행합니다.\n",
        "- time column을 온전한 시간으로 바꿔주는 작업을 할 겁니다."
      ],
      "metadata": {
        "id": "Iba_UQ7TUSWu"
      }
    },
    {
      "cell_type": "code",
      "source": [
        "oldest, latest = data['time'].min(), data['time'].max()\n",
        "oldest, latest"
      ],
      "metadata": {
        "colab": {
          "base_uri": "https://localhost:8080/"
        },
        "id": "TtL4MR-dmhGW",
        "outputId": "db8626eb-53d0-4801-880a-95bf0dafa2fb"
      },
      "execution_count": null,
      "outputs": [
        {
          "output_type": "execute_result",
          "data": {
            "text/plain": [
              "(956703932, 1046454590)"
            ]
          },
          "metadata": {},
          "execution_count": 16
        }
      ]
    },
    {
      "cell_type": "markdown",
      "source": [
        "- time column을 time.gmtime()로 UTC를 찍어봅니다."
      ],
      "metadata": {
        "id": "LExONmf_l9bF"
      }
    },
    {
      "cell_type": "code",
      "source": [
        "tm_old = time.gmtime(oldest)\n",
        "print(tm_old)\n",
        "\n",
        "tm_latest = time.gmtime(latest)\n",
        "print(tm_latest)"
      ],
      "metadata": {
        "colab": {
          "base_uri": "https://localhost:8080/"
        },
        "id": "5eT5OV2nLlCl",
        "outputId": "3da66f0c-6c6e-4719-9704-d0643148c863"
      },
      "execution_count": null,
      "outputs": [
        {
          "output_type": "stream",
          "name": "stdout",
          "text": [
            "time.struct_time(tm_year=2000, tm_mon=4, tm_mday=25, tm_hour=23, tm_min=5, tm_sec=32, tm_wday=1, tm_yday=116, tm_isdst=0)\n",
            "time.struct_time(tm_year=2003, tm_mon=2, tm_mday=28, tm_hour=17, tm_min=49, tm_sec=50, tm_wday=4, tm_yday=59, tm_isdst=0)\n"
          ]
        }
      ]
    },
    {
      "cell_type": "markdown",
      "source": [
        "- 함수로 만들어 time column을 UTC로 변경합니다."
      ],
      "metadata": {
        "id": "RZepHec8nFLD"
      }
    },
    {
      "cell_type": "code",
      "source": [
        "def timestemp_to_time(x):\n",
        "    x=pd.to_datetime(time.strftime('%Y-%m-%d %I:%M:%S', time.gmtime(x)))\n",
        "    return x"
      ],
      "metadata": {
        "id": "kW8NWijAm_s5"
      },
      "execution_count": null,
      "outputs": []
    },
    {
      "cell_type": "code",
      "source": [
        "data['time'] = data['time'].apply(timestemp_to_time)\n",
        "data"
      ],
      "metadata": {
        "colab": {
          "base_uri": "https://localhost:8080/",
          "height": 423
        },
        "id": "674kF6u05NSo",
        "outputId": "fb5b5824-a5b6-45a9-ab42-66f5f5b44bb3"
      },
      "execution_count": null,
      "outputs": [
        {
          "output_type": "execute_result",
          "data": {
            "text/plain": [
              "         userid  itemid  rating                time\n",
              "1000138    6040     858       4 2000-04-25 11:05:32\n",
              "1000153    6040    2384       4 2000-04-25 11:05:54\n",
              "999873     6040     593       5 2000-04-25 11:05:54\n",
              "1000007    6040    1961       4 2000-04-25 11:06:17\n",
              "1000192    6040    2019       5 2000-04-25 11:06:17\n",
              "...         ...     ...     ...                 ...\n",
              "825793     4958    2399       1 2003-02-28 05:45:38\n",
              "825438     4958    1407       5 2003-02-28 05:47:23\n",
              "825724     4958    3264       4 2003-02-28 05:49:08\n",
              "825731     4958    2634       3 2003-02-28 05:49:08\n",
              "825603     4958    1924       4 2003-02-28 05:49:50\n",
              "\n",
              "[1000209 rows x 4 columns]"
            ],
            "text/html": [
              "\n",
              "  <div id=\"df-6590e0dd-dac3-45b1-b993-994a493d974c\">\n",
              "    <div class=\"colab-df-container\">\n",
              "      <div>\n",
              "<style scoped>\n",
              "    .dataframe tbody tr th:only-of-type {\n",
              "        vertical-align: middle;\n",
              "    }\n",
              "\n",
              "    .dataframe tbody tr th {\n",
              "        vertical-align: top;\n",
              "    }\n",
              "\n",
              "    .dataframe thead th {\n",
              "        text-align: right;\n",
              "    }\n",
              "</style>\n",
              "<table border=\"1\" class=\"dataframe\">\n",
              "  <thead>\n",
              "    <tr style=\"text-align: right;\">\n",
              "      <th></th>\n",
              "      <th>userid</th>\n",
              "      <th>itemid</th>\n",
              "      <th>rating</th>\n",
              "      <th>time</th>\n",
              "    </tr>\n",
              "  </thead>\n",
              "  <tbody>\n",
              "    <tr>\n",
              "      <th>1000138</th>\n",
              "      <td>6040</td>\n",
              "      <td>858</td>\n",
              "      <td>4</td>\n",
              "      <td>2000-04-25 11:05:32</td>\n",
              "    </tr>\n",
              "    <tr>\n",
              "      <th>1000153</th>\n",
              "      <td>6040</td>\n",
              "      <td>2384</td>\n",
              "      <td>4</td>\n",
              "      <td>2000-04-25 11:05:54</td>\n",
              "    </tr>\n",
              "    <tr>\n",
              "      <th>999873</th>\n",
              "      <td>6040</td>\n",
              "      <td>593</td>\n",
              "      <td>5</td>\n",
              "      <td>2000-04-25 11:05:54</td>\n",
              "    </tr>\n",
              "    <tr>\n",
              "      <th>1000007</th>\n",
              "      <td>6040</td>\n",
              "      <td>1961</td>\n",
              "      <td>4</td>\n",
              "      <td>2000-04-25 11:06:17</td>\n",
              "    </tr>\n",
              "    <tr>\n",
              "      <th>1000192</th>\n",
              "      <td>6040</td>\n",
              "      <td>2019</td>\n",
              "      <td>5</td>\n",
              "      <td>2000-04-25 11:06:17</td>\n",
              "    </tr>\n",
              "    <tr>\n",
              "      <th>...</th>\n",
              "      <td>...</td>\n",
              "      <td>...</td>\n",
              "      <td>...</td>\n",
              "      <td>...</td>\n",
              "    </tr>\n",
              "    <tr>\n",
              "      <th>825793</th>\n",
              "      <td>4958</td>\n",
              "      <td>2399</td>\n",
              "      <td>1</td>\n",
              "      <td>2003-02-28 05:45:38</td>\n",
              "    </tr>\n",
              "    <tr>\n",
              "      <th>825438</th>\n",
              "      <td>4958</td>\n",
              "      <td>1407</td>\n",
              "      <td>5</td>\n",
              "      <td>2003-02-28 05:47:23</td>\n",
              "    </tr>\n",
              "    <tr>\n",
              "      <th>825724</th>\n",
              "      <td>4958</td>\n",
              "      <td>3264</td>\n",
              "      <td>4</td>\n",
              "      <td>2003-02-28 05:49:08</td>\n",
              "    </tr>\n",
              "    <tr>\n",
              "      <th>825731</th>\n",
              "      <td>4958</td>\n",
              "      <td>2634</td>\n",
              "      <td>3</td>\n",
              "      <td>2003-02-28 05:49:08</td>\n",
              "    </tr>\n",
              "    <tr>\n",
              "      <th>825603</th>\n",
              "      <td>4958</td>\n",
              "      <td>1924</td>\n",
              "      <td>4</td>\n",
              "      <td>2003-02-28 05:49:50</td>\n",
              "    </tr>\n",
              "  </tbody>\n",
              "</table>\n",
              "<p>1000209 rows × 4 columns</p>\n",
              "</div>\n",
              "      <button class=\"colab-df-convert\" onclick=\"convertToInteractive('df-6590e0dd-dac3-45b1-b993-994a493d974c')\"\n",
              "              title=\"Convert this dataframe to an interactive table.\"\n",
              "              style=\"display:none;\">\n",
              "        \n",
              "  <svg xmlns=\"http://www.w3.org/2000/svg\" height=\"24px\"viewBox=\"0 0 24 24\"\n",
              "       width=\"24px\">\n",
              "    <path d=\"M0 0h24v24H0V0z\" fill=\"none\"/>\n",
              "    <path d=\"M18.56 5.44l.94 2.06.94-2.06 2.06-.94-2.06-.94-.94-2.06-.94 2.06-2.06.94zm-11 1L8.5 8.5l.94-2.06 2.06-.94-2.06-.94L8.5 2.5l-.94 2.06-2.06.94zm10 10l.94 2.06.94-2.06 2.06-.94-2.06-.94-.94-2.06-.94 2.06-2.06.94z\"/><path d=\"M17.41 7.96l-1.37-1.37c-.4-.4-.92-.59-1.43-.59-.52 0-1.04.2-1.43.59L10.3 9.45l-7.72 7.72c-.78.78-.78 2.05 0 2.83L4 21.41c.39.39.9.59 1.41.59.51 0 1.02-.2 1.41-.59l7.78-7.78 2.81-2.81c.8-.78.8-2.07 0-2.86zM5.41 20L4 18.59l7.72-7.72 1.47 1.35L5.41 20z\"/>\n",
              "  </svg>\n",
              "      </button>\n",
              "      \n",
              "  <style>\n",
              "    .colab-df-container {\n",
              "      display:flex;\n",
              "      flex-wrap:wrap;\n",
              "      gap: 12px;\n",
              "    }\n",
              "\n",
              "    .colab-df-convert {\n",
              "      background-color: #E8F0FE;\n",
              "      border: none;\n",
              "      border-radius: 50%;\n",
              "      cursor: pointer;\n",
              "      display: none;\n",
              "      fill: #1967D2;\n",
              "      height: 32px;\n",
              "      padding: 0 0 0 0;\n",
              "      width: 32px;\n",
              "    }\n",
              "\n",
              "    .colab-df-convert:hover {\n",
              "      background-color: #E2EBFA;\n",
              "      box-shadow: 0px 1px 2px rgba(60, 64, 67, 0.3), 0px 1px 3px 1px rgba(60, 64, 67, 0.15);\n",
              "      fill: #174EA6;\n",
              "    }\n",
              "\n",
              "    [theme=dark] .colab-df-convert {\n",
              "      background-color: #3B4455;\n",
              "      fill: #D2E3FC;\n",
              "    }\n",
              "\n",
              "    [theme=dark] .colab-df-convert:hover {\n",
              "      background-color: #434B5C;\n",
              "      box-shadow: 0px 1px 3px 1px rgba(0, 0, 0, 0.15);\n",
              "      filter: drop-shadow(0px 1px 2px rgba(0, 0, 0, 0.3));\n",
              "      fill: #FFFFFF;\n",
              "    }\n",
              "  </style>\n",
              "\n",
              "      <script>\n",
              "        const buttonEl =\n",
              "          document.querySelector('#df-6590e0dd-dac3-45b1-b993-994a493d974c button.colab-df-convert');\n",
              "        buttonEl.style.display =\n",
              "          google.colab.kernel.accessAllowed ? 'block' : 'none';\n",
              "\n",
              "        async function convertToInteractive(key) {\n",
              "          const element = document.querySelector('#df-6590e0dd-dac3-45b1-b993-994a493d974c');\n",
              "          const dataTable =\n",
              "            await google.colab.kernel.invokeFunction('convertToInteractive',\n",
              "                                                     [key], {});\n",
              "          if (!dataTable) return;\n",
              "\n",
              "          const docLinkHtml = 'Like what you see? Visit the ' +\n",
              "            '<a target=\"_blank\" href=https://colab.research.google.com/notebooks/data_table.ipynb>data table notebook</a>'\n",
              "            + ' to learn more about interactive tables.';\n",
              "          element.innerHTML = '';\n",
              "          dataTable['output_type'] = 'display_data';\n",
              "          await google.colab.output.renderOutput(dataTable, element);\n",
              "          const docLink = document.createElement('div');\n",
              "          docLink.innerHTML = docLinkHtml;\n",
              "          element.appendChild(docLink);\n",
              "        }\n",
              "      </script>\n",
              "    </div>\n",
              "  </div>\n",
              "  "
            ]
          },
          "metadata": {},
          "execution_count": 18
        }
      ]
    },
    {
      "cell_type": "markdown",
      "source": [
        "- 데이터를 입맛에 맞게 자를 준비를 합니다."
      ],
      "metadata": {
        "id": "OHNNe1X4nO3d"
      }
    },
    {
      "cell_type": "code",
      "source": [
        "# short_session을 제거한 다음 unpopular item을 제거하면 다시 길이가 1인 session이 생길 수 있습니다.\n",
        "# 이를 위해 반복문을 통해 지속적으로 제거 합니다.\n",
        "def cleanse_recursive(data: pd.DataFrame, short_rate, least_item, unpop_item) -> pd.DataFrame:\n",
        "    while True:\n",
        "        before_len = len(data)\n",
        "        data = cleanse_short_session(data, short_rate)\n",
        "        data = cleanse_unpopular_item_1(data, least_item)\n",
        "        data = cleanse_unpopular_item_2(data, unpop_item)\n",
        "        after_len = len(data)\n",
        "        if before_len == after_len:\n",
        "            break\n",
        "    return data\n",
        "\n",
        "\n",
        "def cleanse_short_session(data: pd.DataFrame, short_rate):\n",
        "    session_len = data.groupby('userid').size()\n",
        "    session_use = session_len[session_len >= short_rate].index\n",
        "    data = data[data['userid'].isin(session_use)]\n",
        "    return data\n",
        "\n",
        "\n",
        "def cleanse_unpopular_item_1(data: pd.DataFrame, least_item):\n",
        "    item_popular = data.groupby('itemid').size()\n",
        "    item_use = item_popular[item_popular >= least_item].index\n",
        "    data = data[data['itemid'].isin(item_use)]\n",
        "    return data\n",
        "\n",
        "def cleanse_unpopular_item_2(data: pd.DataFrame, unpop_item):\n",
        "    item_popular = data.groupby('itemid')['rating'].mean()\n",
        "    item_use = item_popular[item_popular >= unpop_item].index\n",
        "    data = data[data['itemid'].isin(item_use)]\n",
        "    return data"
      ],
      "metadata": {
        "id": "ut3i6tXvS4hu"
      },
      "execution_count": null,
      "outputs": []
    },
    {
      "cell_type": "markdown",
      "source": [
        "- 리뷰를 남긴 시간이 time으로 남을 뿐 몇분동안 머물면서 리뷰를 남겼는지는 고려 대상이 아닙니다.  \n",
        "time을 기준으로 user를 제외할 수 없습니다."
      ],
      "metadata": {
        "id": "Lo0bHeplsNix"
      }
    },
    {
      "cell_type": "markdown",
      "source": [
        "- itemid로 size groupby하여 확인해봅니다.\n",
        "- min 1에 주목해보면, 분명 평가를 1번만 받은 비선호 영화가 있습니다.\n",
        "- 25%가 33이니 1/4 수준 정도만 잘라내도 좋을 것 같습니다.\n",
        "- 너무 적게 평가받은 영화를 추천해주는건 도박같은 행위니까요."
      ],
      "metadata": {
        "id": "e8Iq6fA6nrQB"
      }
    },
    {
      "cell_type": "code",
      "source": [
        "item_a = pd.Series(data.groupby('itemid').size())\n",
        "item_a.describe()"
      ],
      "metadata": {
        "colab": {
          "base_uri": "https://localhost:8080/"
        },
        "id": "h-WNM5AitUnN",
        "outputId": "007333b1-dc21-4201-8cfe-50c7a00135a7"
      },
      "execution_count": null,
      "outputs": [
        {
          "output_type": "execute_result",
          "data": {
            "text/plain": [
              "count    3706.000000\n",
              "mean      269.889099\n",
              "std       384.047838\n",
              "min         1.000000\n",
              "25%        33.000000\n",
              "50%       123.500000\n",
              "75%       350.000000\n",
              "max      3428.000000\n",
              "dtype: float64"
            ]
          },
          "metadata": {},
          "execution_count": 20
        }
      ]
    },
    {
      "cell_type": "code",
      "source": [
        "sns.kdeplot(item_a, shade=True, color='green')"
      ],
      "metadata": {
        "colab": {
          "base_uri": "https://localhost:8080/",
          "height": 283
        },
        "id": "jQd_HSAruV2v",
        "outputId": "9bc2151d-7b88-4438-ccd6-820148894fe4"
      },
      "execution_count": null,
      "outputs": [
        {
          "output_type": "execute_result",
          "data": {
            "text/plain": [
              "<matplotlib.axes._subplots.AxesSubplot at 0x7fd294350b90>"
            ]
          },
          "metadata": {},
          "execution_count": 21
        },
        {
          "output_type": "display_data",
          "data": {
            "text/plain": [
              "<Figure size 432x288 with 1 Axes>"
            ],
            "image/png": "[encoded data removed]"
          },
          "metadata": {
            "needs_background": "light"
          }
        }
      ]
    },
    {
      "cell_type": "markdown",
      "source": [
        "- 이번에는 itemid(movieid)를 rating mean 값으로 groupby 합니다.\n",
        "- 평균 3.23점대이고 25%는 2.82점까지 입니다.\n",
        "- 너무 낮은 점수를 받은 영화를 추천해 주는게 맞을까요?  \n",
        "기준은 사람마다 다르겠지만 저는 rating의 점수대로 잘라주고 싶습니다."
      ],
      "metadata": {
        "id": "GdKw7crkocsb"
      }
    },
    {
      "cell_type": "code",
      "source": [
        "# sns.countplot('rating', data=data)"
      ],
      "metadata": {
        "id": "1pL5w8hkVWdH"
      },
      "execution_count": null,
      "outputs": []
    },
    {
      "cell_type": "code",
      "source": [
        "item_b = pd.Series(data.groupby('itemid')['rating'].mean())\n",
        "item_b.describe()"
      ],
      "metadata": {
        "colab": {
          "base_uri": "https://localhost:8080/"
        },
        "id": "XNdzVJLatsgF",
        "outputId": "5ce5c1f6-8914-4996-ee06-7ccb0b0eb0d1"
      },
      "execution_count": null,
      "outputs": [
        {
          "output_type": "execute_result",
          "data": {
            "text/plain": [
              "count    3706.000000\n",
              "mean        3.238892\n",
              "std         0.672925\n",
              "min         1.000000\n",
              "25%         2.822705\n",
              "50%         3.331546\n",
              "75%         3.740741\n",
              "max         5.000000\n",
              "Name: rating, dtype: float64"
            ]
          },
          "metadata": {},
          "execution_count": 22
        }
      ]
    },
    {
      "cell_type": "code",
      "source": [
        "sns.kdeplot(item_b, shade=True, color='green')"
      ],
      "metadata": {
        "colab": {
          "base_uri": "https://localhost:8080/",
          "height": 297
        },
        "id": "pPzDd7tyukPd",
        "outputId": "555517d0-6d04-4e74-d442-a16f83469b3c"
      },
      "execution_count": null,
      "outputs": [
        {
          "output_type": "execute_result",
          "data": {
            "text/plain": [
              "<matplotlib.axes._subplots.AxesSubplot at 0x7fd2a51985d0>"
            ]
          },
          "metadata": {},
          "execution_count": 23
        },
        {
          "output_type": "display_data",
          "data": {
            "text/plain": [
              "<Figure size 432x288 with 1 Axes>"
            ],
            "image/png": "[encoded data removed]"
          },
          "metadata": {
            "needs_background": "light"
          }
        }
      ]
    },
    {
      "cell_type": "markdown",
      "source": [
        "- 자 이제 위에서 만든 cleanse_recursive 함수로 데이터를 깔끔하게 잘라주겠습니다.\n",
        "- short_rate는 userid의 size가 short한 것을 잘라주겠다는 의미입니다.  \n",
        "이 데이터에서 userid size가 20 이하인 것은 없습니다...   \n",
        "1을 넣으나 20을 넣으나 결과값은 동일합니다.  \n",
        "저는 user의 평가 횟수로 데이터를 자르고 싶은 마음은 없으니 1을 넣고 진행합니다.\n",
        "\n",
        "- least_item은 평가 횟수로 자르겠다는 의미입니다.  \n",
        "아까 min값이 1이었던걸 보면 1번 평가 받았는데 5점인 경우도 발생할 수 있습니다.  \n",
        "저는 20을 기준으로 잘라줍니다.\n",
        "\n",
        "- unpop은 rating의 mean을 기준으로 자르겠다는 의미입니다.  \n",
        "쓸데없이 평가가 안 좋은 영화가 추천되는 행위는 눈뜨고 볼 수 없습니다.\n",
        "3점 이하는 과감하게 자르겠습니다."
      ],
      "metadata": {
        "id": "aPcvBsZDpMUR"
      }
    },
    {
      "cell_type": "code",
      "source": [
        "data = cleanse_recursive(data, short_rate=1, least_item=20, unpop_item=3)\n",
        "data"
      ],
      "metadata": {
        "colab": {
          "base_uri": "https://localhost:8080/",
          "height": 423
        },
        "id": "aW-qpsQyr3Ay",
        "outputId": "01411961-aa12-4afc-e017-6885cd38d119"
      },
      "execution_count": null,
      "outputs": [
        {
          "output_type": "execute_result",
          "data": {
            "text/plain": [
              "         userid  itemid  rating                time\n",
              "1000138    6040     858       4 2000-04-25 11:05:32\n",
              "1000153    6040    2384       4 2000-04-25 11:05:54\n",
              "999873     6040     593       5 2000-04-25 11:05:54\n",
              "1000007    6040    1961       4 2000-04-25 11:06:17\n",
              "1000192    6040    2019       5 2000-04-25 11:06:17\n",
              "...         ...     ...     ...                 ...\n",
              "825877     4958    2043       1 2003-02-28 05:44:42\n",
              "825526     4958    3489       4 2003-02-28 05:45:20\n",
              "825438     4958    1407       5 2003-02-28 05:47:23\n",
              "825724     4958    3264       4 2003-02-28 05:49:08\n",
              "825731     4958    2634       3 2003-02-28 05:49:08\n",
              "\n",
              "[853103 rows x 4 columns]"
            ],
            "text/html": [
              "\n",
              "  <div id=\"df-da5aebec-d8e9-43fd-b1c5-06c022650774\">\n",
              "    <div class=\"colab-df-container\">\n",
              "      <div>\n",
              "<style scoped>\n",
              "    .dataframe tbody tr th:only-of-type {\n",
              "        vertical-align: middle;\n",
              "    }\n",
              "\n",
              "    .dataframe tbody tr th {\n",
              "        vertical-align: top;\n",
              "    }\n",
              "\n",
              "    .dataframe thead th {\n",
              "        text-align: right;\n",
              "    }\n",
              "</style>\n",
              "<table border=\"1\" class=\"dataframe\">\n",
              "  <thead>\n",
              "    <tr style=\"text-align: right;\">\n",
              "      <th></th>\n",
              "      <th>userid</th>\n",
              "      <th>itemid</th>\n",
              "      <th>rating</th>\n",
              "      <th>time</th>\n",
              "    </tr>\n",
              "  </thead>\n",
              "  <tbody>\n",
              "    <tr>\n",
              "      <th>1000138</th>\n",
              "      <td>6040</td>\n",
              "      <td>858</td>\n",
              "      <td>4</td>\n",
              "      <td>2000-04-25 11:05:32</td>\n",
              "    </tr>\n",
              "    <tr>\n",
              "      <th>1000153</th>\n",
              "      <td>6040</td>\n",
              "      <td>2384</td>\n",
              "      <td>4</td>\n",
              "      <td>2000-04-25 11:05:54</td>\n",
              "    </tr>\n",
              "    <tr>\n",
              "      <th>999873</th>\n",
              "      <td>6040</td>\n",
              "      <td>593</td>\n",
              "      <td>5</td>\n",
              "      <td>2000-04-25 11:05:54</td>\n",
              "    </tr>\n",
              "    <tr>\n",
              "      <th>1000007</th>\n",
              "      <td>6040</td>\n",
              "      <td>1961</td>\n",
              "      <td>4</td>\n",
              "      <td>2000-04-25 11:06:17</td>\n",
              "    </tr>\n",
              "    <tr>\n",
              "      <th>1000192</th>\n",
              "      <td>6040</td>\n",
              "      <td>2019</td>\n",
              "      <td>5</td>\n",
              "      <td>2000-04-25 11:06:17</td>\n",
              "    </tr>\n",
              "    <tr>\n",
              "      <th>...</th>\n",
              "      <td>...</td>\n",
              "      <td>...</td>\n",
              "      <td>...</td>\n",
              "      <td>...</td>\n",
              "    </tr>\n",
              "    <tr>\n",
              "      <th>825877</th>\n",
              "      <td>4958</td>\n",
              "      <td>2043</td>\n",
              "      <td>1</td>\n",
              "      <td>2003-02-28 05:44:42</td>\n",
              "    </tr>\n",
              "    <tr>\n",
              "      <th>825526</th>\n",
              "      <td>4958</td>\n",
              "      <td>3489</td>\n",
              "      <td>4</td>\n",
              "      <td>2003-02-28 05:45:20</td>\n",
              "    </tr>\n",
              "    <tr>\n",
              "      <th>825438</th>\n",
              "      <td>4958</td>\n",
              "      <td>1407</td>\n",
              "      <td>5</td>\n",
              "      <td>2003-02-28 05:47:23</td>\n",
              "    </tr>\n",
              "    <tr>\n",
              "      <th>825724</th>\n",
              "      <td>4958</td>\n",
              "      <td>3264</td>\n",
              "      <td>4</td>\n",
              "      <td>2003-02-28 05:49:08</td>\n",
              "    </tr>\n",
              "    <tr>\n",
              "      <th>825731</th>\n",
              "      <td>4958</td>\n",
              "      <td>2634</td>\n",
              "      <td>3</td>\n",
              "      <td>2003-02-28 05:49:08</td>\n",
              "    </tr>\n",
              "  </tbody>\n",
              "</table>\n",
              "<p>853103 rows × 4 columns</p>\n",
              "</div>\n",
              "      <button class=\"colab-df-convert\" onclick=\"convertToInteractive('df-da5aebec-d8e9-43fd-b1c5-06c022650774')\"\n",
              "              title=\"Convert this dataframe to an interactive table.\"\n",
              "              style=\"display:none;\">\n",
              "        \n",
              "  <svg xmlns=\"http://www.w3.org/2000/svg\" height=\"24px\"viewBox=\"0 0 24 24\"\n",
              "       width=\"24px\">\n",
              "    <path d=\"M0 0h24v24H0V0z\" fill=\"none\"/>\n",
              "    <path d=\"M18.56 5.44l.94 2.06.94-2.06 2.06-.94-2.06-.94-.94-2.06-.94 2.06-2.06.94zm-11 1L8.5 8.5l.94-2.06 2.06-.94-2.06-.94L8.5 2.5l-.94 2.06-2.06.94zm10 10l.94 2.06.94-2.06 2.06-.94-2.06-.94-.94-2.06-.94 2.06-2.06.94z\"/><path d=\"M17.41 7.96l-1.37-1.37c-.4-.4-.92-.59-1.43-.59-.52 0-1.04.2-1.43.59L10.3 9.45l-7.72 7.72c-.78.78-.78 2.05 0 2.83L4 21.41c.39.39.9.59 1.41.59.51 0 1.02-.2 1.41-.59l7.78-7.78 2.81-2.81c.8-.78.8-2.07 0-2.86zM5.41 20L4 18.59l7.72-7.72 1.47 1.35L5.41 20z\"/>\n",
              "  </svg>\n",
              "      </button>\n",
              "      \n",
              "  <style>\n",
              "    .colab-df-container {\n",
              "      display:flex;\n",
              "      flex-wrap:wrap;\n",
              "      gap: 12px;\n",
              "    }\n",
              "\n",
              "    .colab-df-convert {\n",
              "      background-color: #E8F0FE;\n",
              "      border: none;\n",
              "      border-radius: 50%;\n",
              "      cursor: pointer;\n",
              "      display: none;\n",
              "      fill: #1967D2;\n",
              "      height: 32px;\n",
              "      padding: 0 0 0 0;\n",
              "      width: 32px;\n",
              "    }\n",
              "\n",
              "    .colab-df-convert:hover {\n",
              "      background-color: #E2EBFA;\n",
              "      box-shadow: 0px 1px 2px rgba(60, 64, 67, 0.3), 0px 1px 3px 1px rgba(60, 64, 67, 0.15);\n",
              "      fill: #174EA6;\n",
              "    }\n",
              "\n",
              "    [theme=dark] .colab-df-convert {\n",
              "      background-color: #3B4455;\n",
              "      fill: #D2E3FC;\n",
              "    }\n",
              "\n",
              "    [theme=dark] .colab-df-convert:hover {\n",
              "      background-color: #434B5C;\n",
              "      box-shadow: 0px 1px 3px 1px rgba(0, 0, 0, 0.15);\n",
              "      filter: drop-shadow(0px 1px 2px rgba(0, 0, 0, 0.3));\n",
              "      fill: #FFFFFF;\n",
              "    }\n",
              "  </style>\n",
              "\n",
              "      <script>\n",
              "        const buttonEl =\n",
              "          document.querySelector('#df-da5aebec-d8e9-43fd-b1c5-06c022650774 button.colab-df-convert');\n",
              "        buttonEl.style.display =\n",
              "          google.colab.kernel.accessAllowed ? 'block' : 'none';\n",
              "\n",
              "        async function convertToInteractive(key) {\n",
              "          const element = document.querySelector('#df-da5aebec-d8e9-43fd-b1c5-06c022650774');\n",
              "          const dataTable =\n",
              "            await google.colab.kernel.invokeFunction('convertToInteractive',\n",
              "                                                     [key], {});\n",
              "          if (!dataTable) return;\n",
              "\n",
              "          const docLinkHtml = 'Like what you see? Visit the ' +\n",
              "            '<a target=\"_blank\" href=https://colab.research.google.com/notebooks/data_table.ipynb>data table notebook</a>'\n",
              "            + ' to learn more about interactive tables.';\n",
              "          element.innerHTML = '';\n",
              "          dataTable['output_type'] = 'display_data';\n",
              "          await google.colab.output.renderOutput(dataTable, element);\n",
              "          const docLink = document.createElement('div');\n",
              "          docLink.innerHTML = docLinkHtml;\n",
              "          element.appendChild(docLink);\n",
              "        }\n",
              "      </script>\n",
              "    </div>\n",
              "  </div>\n",
              "  "
            ]
          },
          "metadata": {},
          "execution_count": 24
        }
      ]
    },
    {
      "cell_type": "markdown",
      "source": [
        "- 이 부분은 데이터를 어떻게 보느냐에 대한 관점의 차이입니다만, 딱봐도 이 전처리가 모델의 성능에 큰 영향을 끼칠 것 같습니다...\n",
        "- 약 15만개의 평가가 잘렸습니다.\n"
      ],
      "metadata": {
        "id": "q0lX_pLvaBOJ"
      }
    },
    {
      "cell_type": "markdown",
      "source": [
        "### 1.4 Dataset"
      ],
      "metadata": {
        "id": "oG1DBpxxgPqO"
      }
    },
    {
      "cell_type": "markdown",
      "source": [
        "#### 1.4.1 Dataset"
      ],
      "metadata": {
        "id": "KkXHR8I8Yi6H"
      }
    },
    {
      "cell_type": "markdown",
      "source": [
        "- dataset을 만듭니다.  \n",
        "00년부터 03년까지 약 3년간의 데이터입니다.  \n",
        "최근 raing한 데이터가 추천과 관련이 있을 것 같아 기간으로 데이터를 나눠줍니다."
      ],
      "metadata": {
        "id": "jz8nABhLXWEG"
      }
    },
    {
      "cell_type": "code",
      "source": [
        "def split_by_date(data: pd.DataFrame, n_days: int):\n",
        "    final_time = data['time'].max()\n",
        "    session_last_time = data.groupby('userid')['time'].max()\n",
        "    session_in_train = session_last_time[session_last_time < final_time - dt.timedelta(n_days)].index\n",
        "    session_in_test = session_last_time[session_last_time >= final_time - dt.timedelta(n_days)].index\n",
        "\n",
        "    before_date = data[data['userid'].isin(session_in_train)]\n",
        "    after_date = data[data['userid'].isin(session_in_test)]\n",
        "    after_date = after_date[after_date['itemid'].isin(before_date['itemid'])]\n",
        "    return before_date, after_date"
      ],
      "metadata": {
        "id": "Us2DjPnyzKNV"
      },
      "execution_count": null,
      "outputs": []
    },
    {
      "cell_type": "markdown",
      "source": [
        "- 3년이니 6개월을 기준으로 나눠봅니다.  \n",
        "데이터 수가 적절하지 않으면 다시 돌아와 설정하면 됩니다."
      ],
      "metadata": {
        "id": "Zrexe9wgX4f0"
      }
    },
    {
      "cell_type": "code",
      "source": [
        "#test,val을 6달 기준 데이터로 나눔\n",
        "train, test = split_by_date(data, 180)\n",
        "train, val = split_by_date(train, 180)"
      ],
      "metadata": {
        "id": "mfLkgWVJzYaN"
      },
      "execution_count": null,
      "outputs": []
    },
    {
      "cell_type": "markdown",
      "source": [
        "- dataset info도 찍어봅니다."
      ],
      "metadata": {
        "id": "grpFNuvNYLUo"
      }
    },
    {
      "cell_type": "code",
      "source": [
        "def stats_info(data: pd.DataFrame, status: str):\n",
        "    print(f'* {status} Set Stats Info\\n'\n",
        "          f'\\t Events: {len(data)}\\n'\n",
        "          f'\\t Sessions: {data[\"userid\"].nunique()}\\n'\n",
        "          f'\\t Items: {data[\"itemid\"].nunique()}\\n'\n",
        "          f'\\t First Time : {data[\"time\"].min()}\\n'\n",
        "          f'\\t Last Time : {data[\"time\"].max()}\\n')"
      ],
      "metadata": {
        "id": "L_CFAaQ60L3t"
      },
      "execution_count": null,
      "outputs": []
    },
    {
      "cell_type": "code",
      "source": [
        "stats_info(train, 'train')\n",
        "stats_info(val, 'valid')\n",
        "stats_info(test, 'test')"
      ],
      "metadata": {
        "colab": {
          "base_uri": "https://localhost:8080/"
        },
        "id": "Lh4AKJek0NO1",
        "outputId": "1ce9fc9c-a59c-43bd-902c-914ba26ce162"
      },
      "execution_count": null,
      "outputs": [
        {
          "output_type": "stream",
          "name": "stdout",
          "text": [
            "* train Set Stats Info\n",
            "\t Events: 694692\n",
            "\t Sessions: 5554\n",
            "\t Items: 2155\n",
            "\t First Time : 2000-04-25 11:05:32\n",
            "\t Last Time : 2002-03-05 06:30:10\n",
            "\n",
            "* valid Set Stats Info\n",
            "\t Events: 44530\n",
            "\t Sessions: 155\n",
            "\t Items: 2132\n",
            "\t First Time : 2000-04-30 06:37:43\n",
            "\t Last Time : 2002-09-01 12:14:13\n",
            "\n",
            "* test Set Stats Info\n",
            "\t Events: 113881\n",
            "\t Sessions: 331\n",
            "\t Items: 2151\n",
            "\t First Time : 2000-04-27 04:38:08\n",
            "\t Last Time : 2003-02-28 12:51:39\n",
            "\n"
          ]
        }
      ]
    },
    {
      "cell_type": "markdown",
      "source": [
        "- train을 기준으로 indexing도 진행합니다."
      ],
      "metadata": {
        "id": "b3Uj5vHmYWGi"
      }
    },
    {
      "cell_type": "code",
      "source": [
        "# train set에 없는 아이템이 val, test기간에 생길 수 있으므로 train data를 기준으로 인덱싱합니다.\n",
        "id2idx = {item_id : index for index, item_id in enumerate(train['itemid'].unique())}\n",
        "\n",
        "def indexing(data, id2idx):\n",
        "    data['item_idx'] = data['itemid'].map(lambda x: id2idx.get(x, -1))  # id2idx에 없는 아이템은 모르는 값(-1) 처리 해줍니다.\n",
        "    return data\n",
        "\n",
        "train = indexing(train, id2idx)\n",
        "val = indexing(val, id2idx)\n",
        "test = indexing(test, id2idx)"
      ],
      "metadata": {
        "id": "xAA__jj_4jYy"
      },
      "execution_count": null,
      "outputs": []
    },
    {
      "cell_type": "markdown",
      "source": [
        "#### 1.4.2 Pipeline"
      ],
      "metadata": {
        "id": "MPP8ra3KYnLQ"
      }
    },
    {
      "cell_type": "markdown",
      "source": [
        "- 데이터를 저장하고, pipeline을 만듭니다.\n",
        "- user id의 길이 차이가 있으므로 (20~2324) Session-Parallel Mini-Batch의 개념에 따라 배치를 구성합니다."
      ],
      "metadata": {
        "id": "jpuBOhFgYc_o"
      }
    },
    {
      "cell_type": "code",
      "source": [
        "data_path = Path('/gdrive/My Drive/Colab Notebooks/ml-1m/processed/') \n",
        "\n",
        "save_path = data_path / 'processed'\n",
        "save_path.mkdir(parents=True, exist_ok=True)\n",
        "\n",
        "train.to_pickle(save_path / 'train.pkl')\n",
        "val.to_pickle(save_path / 'valid.pkl')\n",
        "test.to_pickle(save_path / 'test.pkl')"
      ],
      "metadata": {
        "id": "84aEYSEV45t4"
      },
      "execution_count": null,
      "outputs": []
    },
    {
      "cell_type": "markdown",
      "source": [
        "- userid가 시작되는 인덱스를 담고 새로 indexing한 값을 갖는 클래스입니다.  \n",
        "session, user id의 차이지 방식은 동일합니다."
      ],
      "metadata": {
        "id": "BNVsX6lOZulh"
      }
    },
    {
      "cell_type": "code",
      "source": [
        "class SessionDataset:\n",
        "    \"\"\"Credit to yhs-968/pyGRU4REC.\"\"\"\n",
        "\n",
        "    def __init__(self, data):\n",
        "        self.df = data\n",
        "        self.click_offsets = self.get_click_offsets()\n",
        "        self.session_idx = np.arange(self.df['userid'].nunique())  # indexing to userid\n",
        "\n",
        "    def get_click_offsets(self):\n",
        "        \"\"\"\n",
        "        Return the indexes of the first click of each session IDs,\n",
        "        \"\"\"\n",
        "        offsets = np.zeros(self.df['userid'].nunique() + 1, dtype=np.int32)\n",
        "        offsets[1:] = self.df.groupby('userid').size().cumsum()\n",
        "        return offsets"
      ],
      "metadata": {
        "id": "JLuqsaQV5uzw"
      },
      "execution_count": null,
      "outputs": []
    },
    {
      "cell_type": "markdown",
      "source": [
        "- 뒤에 나오는 클래스에서 일일히 수정하기 싫어서 SessionDataset으로 남겨 놓지만, 다 user id입니다."
      ],
      "metadata": {
        "id": "N_cHmNw5apmP"
      }
    },
    {
      "cell_type": "code",
      "source": [
        "train_dataset = SessionDataset(train)\n",
        "train_dataset.df.head(10)"
      ],
      "metadata": {
        "colab": {
          "base_uri": "https://localhost:8080/",
          "height": 363
        },
        "id": "qa82UFjJ55ln",
        "outputId": "e134298e-bad3-4267-86cc-a9d000d5dd8a"
      },
      "execution_count": null,
      "outputs": [
        {
          "output_type": "execute_result",
          "data": {
            "text/plain": [
              "         userid  itemid  rating                time  item_idx\n",
              "1000138    6040     858       4 2000-04-25 11:05:32         0\n",
              "1000153    6040    2384       4 2000-04-25 11:05:54         1\n",
              "999873     6040     593       5 2000-04-25 11:05:54         2\n",
              "1000007    6040    1961       4 2000-04-25 11:06:17         3\n",
              "1000192    6040    2019       5 2000-04-25 11:06:17         4\n",
              "999877     6040    1419       3 2000-04-25 11:07:36         5\n",
              "999920     6040     213       5 2000-04-25 11:07:36         6\n",
              "999967     6040    3111       5 2000-04-25 11:07:36         7\n",
              "999868     6040     573       4 2000-04-25 11:07:36         8\n",
              "999980     6040    3505       4 2000-04-25 11:07:36         9"
            ],
            "text/html": [
              "\n",
              "  <div id=\"df-bb12127b-b801-4461-aa4c-b06228635f59\">\n",
              "    <div class=\"colab-df-container\">\n",
              "      <div>\n",
              "<style scoped>\n",
              "    .dataframe tbody tr th:only-of-type {\n",
              "        vertical-align: middle;\n",
              "    }\n",
              "\n",
              "    .dataframe tbody tr th {\n",
              "        vertical-align: top;\n",
              "    }\n",
              "\n",
              "    .dataframe thead th {\n",
              "        text-align: right;\n",
              "    }\n",
              "</style>\n",
              "<table border=\"1\" class=\"dataframe\">\n",
              "  <thead>\n",
              "    <tr style=\"text-align: right;\">\n",
              "      <th></th>\n",
              "      <th>userid</th>\n",
              "      <th>itemid</th>\n",
              "      <th>rating</th>\n",
              "      <th>time</th>\n",
              "      <th>item_idx</th>\n",
              "    </tr>\n",
              "  </thead>\n",
              "  <tbody>\n",
              "    <tr>\n",
              "      <th>1000138</th>\n",
              "      <td>6040</td>\n",
              "      <td>858</td>\n",
              "      <td>4</td>\n",
              "      <td>2000-04-25 11:05:32</td>\n",
              "      <td>0</td>\n",
              "    </tr>\n",
              "    <tr>\n",
              "      <th>1000153</th>\n",
              "      <td>6040</td>\n",
              "      <td>2384</td>\n",
              "      <td>4</td>\n",
              "      <td>2000-04-25 11:05:54</td>\n",
              "      <td>1</td>\n",
              "    </tr>\n",
              "    <tr>\n",
              "      <th>999873</th>\n",
              "      <td>6040</td>\n",
              "      <td>593</td>\n",
              "      <td>5</td>\n",
              "      <td>2000-04-25 11:05:54</td>\n",
              "      <td>2</td>\n",
              "    </tr>\n",
              "    <tr>\n",
              "      <th>1000007</th>\n",
              "      <td>6040</td>\n",
              "      <td>1961</td>\n",
              "      <td>4</td>\n",
              "      <td>2000-04-25 11:06:17</td>\n",
              "      <td>3</td>\n",
              "    </tr>\n",
              "    <tr>\n",
              "      <th>1000192</th>\n",
              "      <td>6040</td>\n",
              "      <td>2019</td>\n",
              "      <td>5</td>\n",
              "      <td>2000-04-25 11:06:17</td>\n",
              "      <td>4</td>\n",
              "    </tr>\n",
              "    <tr>\n",
              "      <th>999877</th>\n",
              "      <td>6040</td>\n",
              "      <td>1419</td>\n",
              "      <td>3</td>\n",
              "      <td>2000-04-25 11:07:36</td>\n",
              "      <td>5</td>\n",
              "    </tr>\n",
              "    <tr>\n",
              "      <th>999920</th>\n",
              "      <td>6040</td>\n",
              "      <td>213</td>\n",
              "      <td>5</td>\n",
              "      <td>2000-04-25 11:07:36</td>\n",
              "      <td>6</td>\n",
              "    </tr>\n",
              "    <tr>\n",
              "      <th>999967</th>\n",
              "      <td>6040</td>\n",
              "      <td>3111</td>\n",
              "      <td>5</td>\n",
              "      <td>2000-04-25 11:07:36</td>\n",
              "      <td>7</td>\n",
              "    </tr>\n",
              "    <tr>\n",
              "      <th>999868</th>\n",
              "      <td>6040</td>\n",
              "      <td>573</td>\n",
              "      <td>4</td>\n",
              "      <td>2000-04-25 11:07:36</td>\n",
              "      <td>8</td>\n",
              "    </tr>\n",
              "    <tr>\n",
              "      <th>999980</th>\n",
              "      <td>6040</td>\n",
              "      <td>3505</td>\n",
              "      <td>4</td>\n",
              "      <td>2000-04-25 11:07:36</td>\n",
              "      <td>9</td>\n",
              "    </tr>\n",
              "  </tbody>\n",
              "</table>\n",
              "</div>\n",
              "      <button class=\"colab-df-convert\" onclick=\"convertToInteractive('df-bb12127b-b801-4461-aa4c-b06228635f59')\"\n",
              "              title=\"Convert this dataframe to an interactive table.\"\n",
              "              style=\"display:none;\">\n",
              "        \n",
              "  <svg xmlns=\"http://www.w3.org/2000/svg\" height=\"24px\"viewBox=\"0 0 24 24\"\n",
              "       width=\"24px\">\n",
              "    <path d=\"M0 0h24v24H0V0z\" fill=\"none\"/>\n",
              "    <path d=\"M18.56 5.44l.94 2.06.94-2.06 2.06-.94-2.06-.94-.94-2.06-.94 2.06-2.06.94zm-11 1L8.5 8.5l.94-2.06 2.06-.94-2.06-.94L8.5 2.5l-.94 2.06-2.06.94zm10 10l.94 2.06.94-2.06 2.06-.94-2.06-.94-.94-2.06-.94 2.06-2.06.94z\"/><path d=\"M17.41 7.96l-1.37-1.37c-.4-.4-.92-.59-1.43-.59-.52 0-1.04.2-1.43.59L10.3 9.45l-7.72 7.72c-.78.78-.78 2.05 0 2.83L4 21.41c.39.39.9.59 1.41.59.51 0 1.02-.2 1.41-.59l7.78-7.78 2.81-2.81c.8-.78.8-2.07 0-2.86zM5.41 20L4 18.59l7.72-7.72 1.47 1.35L5.41 20z\"/>\n",
              "  </svg>\n",
              "      </button>\n",
              "      \n",
              "  <style>\n",
              "    .colab-df-container {\n",
              "      display:flex;\n",
              "      flex-wrap:wrap;\n",
              "      gap: 12px;\n",
              "    }\n",
              "\n",
              "    .colab-df-convert {\n",
              "      background-color: #E8F0FE;\n",
              "      border: none;\n",
              "      border-radius: 50%;\n",
              "      cursor: pointer;\n",
              "      display: none;\n",
              "      fill: #1967D2;\n",
              "      height: 32px;\n",
              "      padding: 0 0 0 0;\n",
              "      width: 32px;\n",
              "    }\n",
              "\n",
              "    .colab-df-convert:hover {\n",
              "      background-color: #E2EBFA;\n",
              "      box-shadow: 0px 1px 2px rgba(60, 64, 67, 0.3), 0px 1px 3px 1px rgba(60, 64, 67, 0.15);\n",
              "      fill: #174EA6;\n",
              "    }\n",
              "\n",
              "    [theme=dark] .colab-df-convert {\n",
              "      background-color: #3B4455;\n",
              "      fill: #D2E3FC;\n",
              "    }\n",
              "\n",
              "    [theme=dark] .colab-df-convert:hover {\n",
              "      background-color: #434B5C;\n",
              "      box-shadow: 0px 1px 3px 1px rgba(0, 0, 0, 0.15);\n",
              "      filter: drop-shadow(0px 1px 2px rgba(0, 0, 0, 0.3));\n",
              "      fill: #FFFFFF;\n",
              "    }\n",
              "  </style>\n",
              "\n",
              "      <script>\n",
              "        const buttonEl =\n",
              "          document.querySelector('#df-bb12127b-b801-4461-aa4c-b06228635f59 button.colab-df-convert');\n",
              "        buttonEl.style.display =\n",
              "          google.colab.kernel.accessAllowed ? 'block' : 'none';\n",
              "\n",
              "        async function convertToInteractive(key) {\n",
              "          const element = document.querySelector('#df-bb12127b-b801-4461-aa4c-b06228635f59');\n",
              "          const dataTable =\n",
              "            await google.colab.kernel.invokeFunction('convertToInteractive',\n",
              "                                                     [key], {});\n",
              "          if (!dataTable) return;\n",
              "\n",
              "          const docLinkHtml = 'Like what you see? Visit the ' +\n",
              "            '<a target=\"_blank\" href=https://colab.research.google.com/notebooks/data_table.ipynb>data table notebook</a>'\n",
              "            + ' to learn more about interactive tables.';\n",
              "          element.innerHTML = '';\n",
              "          dataTable['output_type'] = 'display_data';\n",
              "          await google.colab.output.renderOutput(dataTable, element);\n",
              "          const docLink = document.createElement('div');\n",
              "          docLink.innerHTML = docLinkHtml;\n",
              "          element.appendChild(docLink);\n",
              "        }\n",
              "      </script>\n",
              "    </div>\n",
              "  </div>\n",
              "  "
            ]
          },
          "metadata": {},
          "execution_count": 33
        }
      ]
    },
    {
      "cell_type": "markdown",
      "source": [
        "- 위에서 만든 SessioDataset을 받아서 Mini-Batch를 만듭니다."
      ],
      "metadata": {
        "id": "OMbMfKm9a8m_"
      }
    },
    {
      "cell_type": "code",
      "source": [
        "class SessionDataLoader:\n",
        "    \"\"\"Credit to yhs-968/pyGRU4REC.\"\"\"\n",
        "\n",
        "    def __init__(self, dataset: SessionDataset, batch_size=50):\n",
        "        self.dataset = dataset\n",
        "        self.batch_size = batch_size\n",
        "\n",
        "    def __iter__(self):\n",
        "        \"\"\" Returns the iterator for producing session-parallel training mini-batches.\n",
        "        Yields:\n",
        "            input (B,):  Item indices that will be encoded as one-hot vectors later.\n",
        "            target (B,): a Variable that stores the target item indices\n",
        "            masks: Numpy array indicating the positions of the sessions to be terminated\n",
        "        \"\"\"\n",
        "\n",
        "        start, end, mask, last_session, finished = self.initialize()  # initialize 메소드에서 확인해주세요.\n",
        "        \"\"\"\n",
        "        start : Index Where Session Start\n",
        "        end : Index Where Session End\n",
        "        mask : indicator for the sessions to be terminated\n",
        "        \"\"\"\n",
        "\n",
        "        while not finished:\n",
        "            min_len = (end - start).min() - 1  # Shortest Length Among Sessions\n",
        "            for i in range(min_len):\n",
        "                # Build inputs & targets\n",
        "                inp = self.dataset.df['item_idx'].values[start + i]\n",
        "                target = self.dataset.df['item_idx'].values[start + i + 1]\n",
        "                yield inp, target, mask\n",
        "\n",
        "            start, end, mask, last_session, finished = self.update_status(start, end, min_len, last_session, finished)\n",
        "\n",
        "    def initialize(self):\n",
        "        first_iters = np.arange(self.batch_size)    # 첫 배치에 사용할 세션 Index를 가져옵니다.\n",
        "        last_session = self.batch_size - 1    # 마지막으로 다루고 있는 세션 Index를 저장해둡니다.\n",
        "        start = self.dataset.click_offsets[self.dataset.session_idx[first_iters]]       # data 상에서 session이 시작된 위치를 가져옵니다.\n",
        "        end = self.dataset.click_offsets[self.dataset.session_idx[first_iters] + 1]  # session이 끝난 위치 바로 다음 위치를 가져옵니다.\n",
        "        mask = np.array([])   # session의 모든 아이템을 다 돌은 경우 mask에 추가해줄 것입니다.\n",
        "        finished = False         # data를 전부 돌았는지 기록하기 위한 변수입니다.\n",
        "        return start, end, mask, last_session, finished\n",
        "\n",
        "    def update_status(self, start: np.ndarray, end: np.ndarray, min_len: int, last_session: int, finished: bool):  \n",
        "        # 다음 배치 데이터를 생성하기 위해 상태를 update합니다.\n",
        "        \n",
        "        start += min_len   # __iter__에서 min_len 만큼 for문을 돌았으므로 start를 min_len 만큼 더해줍니다.\n",
        "        mask = np.arange(self.batch_size)[(end - start) == 1]  \n",
        "        # end는 다음 세션이 시작되는 위치인데 start와 한 칸 차이난다는 것은 session이 끝났다는 뜻입니다. mask에 기록해줍니다.\n",
        "\n",
        "        for i, idx in enumerate(mask, start=1):  # mask에 추가된 세션 개수만큼 새로운 세션을 돌것입니다.\n",
        "            new_session = last_session + i  \n",
        "            if new_session > self.dataset.session_idx[-1]:  # 만약 새로운 세션이 마지막 세션 index보다 크다면 모든 학습데이터를 돈 것입니다.\n",
        "                finished = True\n",
        "                break\n",
        "            # update the next starting/ending point\n",
        "            start[idx] = self.dataset.click_offsets[self.dataset.session_idx[new_session]]     # 종료된 세션 대신 새로운 세션의 시작점을 기록합니다.\n",
        "            end[idx] = self.dataset.click_offsets[self.dataset.session_idx[new_session] + 1]\n",
        "\n",
        "        last_session += len(mask)  # 마지막 세션의 위치를 기록해둡니다.\n",
        "        return start, end, mask, last_session, finished"
      ],
      "metadata": {
        "id": "QkKU7KHxAXoV"
      },
      "execution_count": null,
      "outputs": []
    },
    {
      "cell_type": "code",
      "source": [
        "train_data_loader = SessionDataLoader(train_dataset, batch_size=4)\n",
        "train_dataset.df.head(15)"
      ],
      "metadata": {
        "colab": {
          "base_uri": "https://localhost:8080/",
          "height": 519
        },
        "id": "B0NIG5gpAZ5B",
        "outputId": "6ba08d37-833c-447f-c5da-2a98f48b1498"
      },
      "execution_count": null,
      "outputs": [
        {
          "output_type": "execute_result",
          "data": {
            "text/plain": [
              "         userid  itemid  rating                time  item_idx\n",
              "1000138    6040     858       4 2000-04-25 11:05:32         0\n",
              "1000153    6040    2384       4 2000-04-25 11:05:54         1\n",
              "999873     6040     593       5 2000-04-25 11:05:54         2\n",
              "1000007    6040    1961       4 2000-04-25 11:06:17         3\n",
              "1000192    6040    2019       5 2000-04-25 11:06:17         4\n",
              "999877     6040    1419       3 2000-04-25 11:07:36         5\n",
              "999920     6040     213       5 2000-04-25 11:07:36         6\n",
              "999967     6040    3111       5 2000-04-25 11:07:36         7\n",
              "999868     6040     573       4 2000-04-25 11:07:36         8\n",
              "999980     6040    3505       4 2000-04-25 11:07:36         9\n",
              "1000155    6040    1734       2 2000-04-25 11:08:01        10\n",
              "999888     6040     919       5 2000-04-25 11:09:51        11\n",
              "999884     6040     912       5 2000-04-25 11:09:51        12\n",
              "1000186    6040     527       5 2000-04-25 11:10:19        13\n",
              "1000063    6040    1252       5 2000-04-25 11:10:57        14"
            ],
            "text/html": [
              "\n",
              "  <div id=\"df-0df0cf52-41ef-4db5-82c5-ee8dac00095a\">\n",
              "    <div class=\"colab-df-container\">\n",
              "      <div>\n",
              "<style scoped>\n",
              "    .dataframe tbody tr th:only-of-type {\n",
              "        vertical-align: middle;\n",
              "    }\n",
              "\n",
              "    .dataframe tbody tr th {\n",
              "        vertical-align: top;\n",
              "    }\n",
              "\n",
              "    .dataframe thead th {\n",
              "        text-align: right;\n",
              "    }\n",
              "</style>\n",
              "<table border=\"1\" class=\"dataframe\">\n",
              "  <thead>\n",
              "    <tr style=\"text-align: right;\">\n",
              "      <th></th>\n",
              "      <th>userid</th>\n",
              "      <th>itemid</th>\n",
              "      <th>rating</th>\n",
              "      <th>time</th>\n",
              "      <th>item_idx</th>\n",
              "    </tr>\n",
              "  </thead>\n",
              "  <tbody>\n",
              "    <tr>\n",
              "      <th>1000138</th>\n",
              "      <td>6040</td>\n",
              "      <td>858</td>\n",
              "      <td>4</td>\n",
              "      <td>2000-04-25 11:05:32</td>\n",
              "      <td>0</td>\n",
              "    </tr>\n",
              "    <tr>\n",
              "      <th>1000153</th>\n",
              "      <td>6040</td>\n",
              "      <td>2384</td>\n",
              "      <td>4</td>\n",
              "      <td>2000-04-25 11:05:54</td>\n",
              "      <td>1</td>\n",
              "    </tr>\n",
              "    <tr>\n",
              "      <th>999873</th>\n",
              "      <td>6040</td>\n",
              "      <td>593</td>\n",
              "      <td>5</td>\n",
              "      <td>2000-04-25 11:05:54</td>\n",
              "      <td>2</td>\n",
              "    </tr>\n",
              "    <tr>\n",
              "      <th>1000007</th>\n",
              "      <td>6040</td>\n",
              "      <td>1961</td>\n",
              "      <td>4</td>\n",
              "      <td>2000-04-25 11:06:17</td>\n",
              "      <td>3</td>\n",
              "    </tr>\n",
              "    <tr>\n",
              "      <th>1000192</th>\n",
              "      <td>6040</td>\n",
              "      <td>2019</td>\n",
              "      <td>5</td>\n",
              "      <td>2000-04-25 11:06:17</td>\n",
              "      <td>4</td>\n",
              "    </tr>\n",
              "    <tr>\n",
              "      <th>999877</th>\n",
              "      <td>6040</td>\n",
              "      <td>1419</td>\n",
              "      <td>3</td>\n",
              "      <td>2000-04-25 11:07:36</td>\n",
              "      <td>5</td>\n",
              "    </tr>\n",
              "    <tr>\n",
              "      <th>999920</th>\n",
              "      <td>6040</td>\n",
              "      <td>213</td>\n",
              "      <td>5</td>\n",
              "      <td>2000-04-25 11:07:36</td>\n",
              "      <td>6</td>\n",
              "    </tr>\n",
              "    <tr>\n",
              "      <th>999967</th>\n",
              "      <td>6040</td>\n",
              "      <td>3111</td>\n",
              "      <td>5</td>\n",
              "      <td>2000-04-25 11:07:36</td>\n",
              "      <td>7</td>\n",
              "    </tr>\n",
              "    <tr>\n",
              "      <th>999868</th>\n",
              "      <td>6040</td>\n",
              "      <td>573</td>\n",
              "      <td>4</td>\n",
              "      <td>2000-04-25 11:07:36</td>\n",
              "      <td>8</td>\n",
              "    </tr>\n",
              "    <tr>\n",
              "      <th>999980</th>\n",
              "      <td>6040</td>\n",
              "      <td>3505</td>\n",
              "      <td>4</td>\n",
              "      <td>2000-04-25 11:07:36</td>\n",
              "      <td>9</td>\n",
              "    </tr>\n",
              "    <tr>\n",
              "      <th>1000155</th>\n",
              "      <td>6040</td>\n",
              "      <td>1734</td>\n",
              "      <td>2</td>\n",
              "      <td>2000-04-25 11:08:01</td>\n",
              "      <td>10</td>\n",
              "    </tr>\n",
              "    <tr>\n",
              "      <th>999888</th>\n",
              "      <td>6040</td>\n",
              "      <td>919</td>\n",
              "      <td>5</td>\n",
              "      <td>2000-04-25 11:09:51</td>\n",
              "      <td>11</td>\n",
              "    </tr>\n",
              "    <tr>\n",
              "      <th>999884</th>\n",
              "      <td>6040</td>\n",
              "      <td>912</td>\n",
              "      <td>5</td>\n",
              "      <td>2000-04-25 11:09:51</td>\n",
              "      <td>12</td>\n",
              "    </tr>\n",
              "    <tr>\n",
              "      <th>1000186</th>\n",
              "      <td>6040</td>\n",
              "      <td>527</td>\n",
              "      <td>5</td>\n",
              "      <td>2000-04-25 11:10:19</td>\n",
              "      <td>13</td>\n",
              "    </tr>\n",
              "    <tr>\n",
              "      <th>1000063</th>\n",
              "      <td>6040</td>\n",
              "      <td>1252</td>\n",
              "      <td>5</td>\n",
              "      <td>2000-04-25 11:10:57</td>\n",
              "      <td>14</td>\n",
              "    </tr>\n",
              "  </tbody>\n",
              "</table>\n",
              "</div>\n",
              "      <button class=\"colab-df-convert\" onclick=\"convertToInteractive('df-0df0cf52-41ef-4db5-82c5-ee8dac00095a')\"\n",
              "              title=\"Convert this dataframe to an interactive table.\"\n",
              "              style=\"display:none;\">\n",
              "        \n",
              "  <svg xmlns=\"http://www.w3.org/2000/svg\" height=\"24px\"viewBox=\"0 0 24 24\"\n",
              "       width=\"24px\">\n",
              "    <path d=\"M0 0h24v24H0V0z\" fill=\"none\"/>\n",
              "    <path d=\"M18.56 5.44l.94 2.06.94-2.06 2.06-.94-2.06-.94-.94-2.06-.94 2.06-2.06.94zm-11 1L8.5 8.5l.94-2.06 2.06-.94-2.06-.94L8.5 2.5l-.94 2.06-2.06.94zm10 10l.94 2.06.94-2.06 2.06-.94-2.06-.94-.94-2.06-.94 2.06-2.06.94z\"/><path d=\"M17.41 7.96l-1.37-1.37c-.4-.4-.92-.59-1.43-.59-.52 0-1.04.2-1.43.59L10.3 9.45l-7.72 7.72c-.78.78-.78 2.05 0 2.83L4 21.41c.39.39.9.59 1.41.59.51 0 1.02-.2 1.41-.59l7.78-7.78 2.81-2.81c.8-.78.8-2.07 0-2.86zM5.41 20L4 18.59l7.72-7.72 1.47 1.35L5.41 20z\"/>\n",
              "  </svg>\n",
              "      </button>\n",
              "      \n",
              "  <style>\n",
              "    .colab-df-container {\n",
              "      display:flex;\n",
              "      flex-wrap:wrap;\n",
              "      gap: 12px;\n",
              "    }\n",
              "\n",
              "    .colab-df-convert {\n",
              "      background-color: #E8F0FE;\n",
              "      border: none;\n",
              "      border-radius: 50%;\n",
              "      cursor: pointer;\n",
              "      display: none;\n",
              "      fill: #1967D2;\n",
              "      height: 32px;\n",
              "      padding: 0 0 0 0;\n",
              "      width: 32px;\n",
              "    }\n",
              "\n",
              "    .colab-df-convert:hover {\n",
              "      background-color: #E2EBFA;\n",
              "      box-shadow: 0px 1px 2px rgba(60, 64, 67, 0.3), 0px 1px 3px 1px rgba(60, 64, 67, 0.15);\n",
              "      fill: #174EA6;\n",
              "    }\n",
              "\n",
              "    [theme=dark] .colab-df-convert {\n",
              "      background-color: #3B4455;\n",
              "      fill: #D2E3FC;\n",
              "    }\n",
              "\n",
              "    [theme=dark] .colab-df-convert:hover {\n",
              "      background-color: #434B5C;\n",
              "      box-shadow: 0px 1px 3px 1px rgba(0, 0, 0, 0.15);\n",
              "      filter: drop-shadow(0px 1px 2px rgba(0, 0, 0, 0.3));\n",
              "      fill: #FFFFFF;\n",
              "    }\n",
              "  </style>\n",
              "\n",
              "      <script>\n",
              "        const buttonEl =\n",
              "          document.querySelector('#df-0df0cf52-41ef-4db5-82c5-ee8dac00095a button.colab-df-convert');\n",
              "        buttonEl.style.display =\n",
              "          google.colab.kernel.accessAllowed ? 'block' : 'none';\n",
              "\n",
              "        async function convertToInteractive(key) {\n",
              "          const element = document.querySelector('#df-0df0cf52-41ef-4db5-82c5-ee8dac00095a');\n",
              "          const dataTable =\n",
              "            await google.colab.kernel.invokeFunction('convertToInteractive',\n",
              "                                                     [key], {});\n",
              "          if (!dataTable) return;\n",
              "\n",
              "          const docLinkHtml = 'Like what you see? Visit the ' +\n",
              "            '<a target=\"_blank\" href=https://colab.research.google.com/notebooks/data_table.ipynb>data table notebook</a>'\n",
              "            + ' to learn more about interactive tables.';\n",
              "          element.innerHTML = '';\n",
              "          dataTable['output_type'] = 'display_data';\n",
              "          await google.colab.output.renderOutput(dataTable, element);\n",
              "          const docLink = document.createElement('div');\n",
              "          docLink.innerHTML = docLinkHtml;\n",
              "          element.appendChild(docLink);\n",
              "        }\n",
              "      </script>\n",
              "    </div>\n",
              "  </div>\n",
              "  "
            ]
          },
          "metadata": {},
          "execution_count": 35
        }
      ]
    },
    {
      "cell_type": "code",
      "source": [
        "iter_ex = iter(train_data_loader)"
      ],
      "metadata": {
        "id": "S9EbrtNyBHG-"
      },
      "execution_count": null,
      "outputs": []
    },
    {
      "cell_type": "code",
      "source": [
        "inputs, labels, mask =  next(iter_ex)\n",
        "print(f'Model Input Item Idx are : {inputs}')\n",
        "print(f'Label Item Idx are : {\"\":5} {labels}')\n",
        "print(f'Previous Masked Input Idx are {mask}')"
      ],
      "metadata": {
        "colab": {
          "base_uri": "https://localhost:8080/"
        },
        "id": "DuFX2PiHBKBn",
        "outputId": "0ff81a0f-20ed-4473-c729-20378b7a5627"
      },
      "execution_count": null,
      "outputs": [
        {
          "output_type": "stream",
          "name": "stdout",
          "text": [
            "Model Input Item Idx are : [  0  52 170 199]\n",
            "Label Item Idx are :       [  1  53 171 200]\n",
            "Previous Masked Input Idx are []\n"
          ]
        }
      ]
    },
    {
      "cell_type": "markdown",
      "source": [
        "### 1.5 Model"
      ],
      "metadata": {
        "id": "N7iMgAydb_K_"
      }
    },
    {
      "cell_type": "markdown",
      "source": [
        "#### 1.5.1 Evaluation"
      ],
      "metadata": {
        "id": "0iBZvwDOcAGE"
      }
    },
    {
      "cell_type": "markdown",
      "source": [
        "- model을 평가할 MRR, Recall을 만듭니다."
      ],
      "metadata": {
        "id": "v6AGPaoCcE_K"
      }
    },
    {
      "cell_type": "markdown",
      "source": [
        "- recall@k는 k개를 추천했을 때 추천되어야 하는 relevant한 아이템이 몇개나 있는지를 확인하기 위한 지표입니다."
      ],
      "metadata": {
        "id": "5difoGFschaX"
      }
    },
    {
      "cell_type": "markdown",
      "source": [
        "- MRR@k은 첫 번째로 등장하는 relevant한 아이템이 우리의 추천상 몇 번째에 위치하는지를 나타내는 지표입니다.  \n",
        "하지만 그대로 몇 번째인지를 사용하면 앞에 나올 수록 좋은 모델이라는 것을 반대로 표현하게되니 역수를 이용합니다."
      ],
      "metadata": {
        "id": "qksb3Y8xchaY"
      }
    },
    {
      "cell_type": "code",
      "source": [
        "def mrr_k(pred, truth: int, k: int):\n",
        "    indexing = np.where(pred[:k] == truth)[0]\n",
        "    if len(indexing) > 0:\n",
        "        return 1 / (indexing[0] + 1)\n",
        "    else:\n",
        "        return 0\n",
        "\n",
        "\n",
        "def recall_k(pred, truth: int, k: int) -> int:\n",
        "    answer = truth in pred[:k]\n",
        "    return int(answer)"
      ],
      "metadata": {
        "id": "QzaGCIL6BTIL"
      },
      "execution_count": null,
      "outputs": []
    },
    {
      "cell_type": "markdown",
      "source": [
        "#### 1.5.2 Model Architecture"
      ],
      "metadata": {
        "id": "S7GIJrMWevN9"
      }
    },
    {
      "cell_type": "markdown",
      "source": [
        "- 모델의 구조를 구현합니다."
      ],
      "metadata": {
        "id": "oJP_EDk7e2qH"
      }
    },
    {
      "cell_type": "code",
      "source": [
        "def create_model(args):\n",
        "    inputs = Input(batch_shape=(args.batch_size, 1, args.num_items))\n",
        "    gru, _ = GRU(args.hsz, stateful=True, return_state=True, name='GRU')(inputs)\n",
        "    dropout = Dropout(args.drop_rate)(gru)\n",
        "    predictions = Dense(args.num_items, activation='softmax')(dropout)\n",
        "    model = Model(inputs=inputs, outputs=[predictions])\n",
        "    model.compile(loss=categorical_crossentropy, optimizer=(args.optimizer), metrics=['accuracy'])\n",
        "    model.summary()\n",
        "    return model"
      ],
      "metadata": {
        "id": "sHUR4FkUBbIW"
      },
      "execution_count": null,
      "outputs": []
    },
    {
      "cell_type": "code",
      "source": [
        "class Args:\n",
        "    def __init__(self, train, val, test, batch_size, hsz, drop_rate, optimizer, epochs, k):\n",
        "        self.train = train\n",
        "        self.val = val\n",
        "        self.test = test\n",
        "        self.num_items = train['itemid'].nunique()\n",
        "        self.num_sessions = train['userid'].nunique()\n",
        "        self.batch_size = batch_size\n",
        "        self.hsz = hsz\n",
        "        self.drop_rate = drop_rate\n",
        "        self.optimizer = optimizer\n",
        "        self.epochs = epochs\n",
        "        self.k = k"
      ],
      "metadata": {
        "id": "qqaT8hMFBfHe"
      },
      "execution_count": null,
      "outputs": []
    },
    {
      "cell_type": "code",
      "source": [
        "def train_model(model, args):\n",
        "    train_dataset = SessionDataset(args.train)\n",
        "    train_loader = SessionDataLoader(train_dataset, batch_size=args.batch_size)\n",
        "\n",
        "    for epoch in range(1, args.epochs + 1):\n",
        "        total_step = len(args.train) - args.train['itemid'].nunique()\n",
        "        train_loader = tqdm(train_loader, total=total_step // args.batch_size, desc='Train', mininterval=1)\n",
        "        for feat, target, mask in train_loader:\n",
        "            reset_hidden_states(model, mask)  # 종료된 session은 hidden_state를 초기화합니다. 아래 메서드에서 확인해주세요.\n",
        "\n",
        "            input_ohe = to_categorical(feat, num_classes=args.num_items)\n",
        "            input_ohe = np.expand_dims(input_ohe, axis=1)\n",
        "            target_ohe = to_categorical(target, num_classes=args.num_items)\n",
        "\n",
        "            result = model.train_on_batch(input_ohe, target_ohe)\n",
        "            train_loader.set_postfix(train_loss=result[0], accuracy = result[1])\n",
        "\n",
        "        val_recall, val_mrr = get_metrics(args.val, model, args, args.k)  # valid set에 대해 검증합니다.\n",
        "\n",
        "        print('=')\n",
        "        print(f\"\\t - Recall@{args.k} epoch {epoch}: {val_recall:3f}\")\n",
        "        print(f\"\\t - MRR@{args.k}    epoch {epoch}: {val_mrr:3f}\\n\")\n",
        "\n",
        "\n",
        "def reset_hidden_states(model, mask):\n",
        "    gru_layer = model.get_layer(name='GRU')  # model에서 gru layer를 가져옵니다.\n",
        "    hidden_states = gru_layer.states[0].numpy()  # gru_layer의 parameter를 가져옵니다.\n",
        "    for elt in mask:  # mask된 인덱스 즉, 종료된 세션의 인덱스를 돌면서\n",
        "        hidden_states[elt, :] = 0  # parameter를 초기화 합니다.\n",
        "    gru_layer.reset_states(states=hidden_states)\n",
        "\n",
        "\n",
        "def get_metrics(data, model, args, k: int):  # valid셋과 test셋을 평가하는 코드입니다. \n",
        "                                             # train과 거의 같지만 mrr, recall을 구하는 라인이 있습니다.\n",
        "    dataset = SessionDataset(data)\n",
        "    loader = SessionDataLoader(dataset, batch_size=args.batch_size)\n",
        "    recall_list, mrr_list = [], []\n",
        "\n",
        "    total_step = len(data) - data['itemid'].nunique()\n",
        "    for inputs, label, mask in tqdm(loader, total=total_step // args.batch_size, desc='Evaluation', mininterval=1):\n",
        "        reset_hidden_states(model, mask)\n",
        "        input_ohe = to_categorical(inputs, num_classes=args.num_items)\n",
        "        input_ohe = np.expand_dims(input_ohe, axis=1)\n",
        "\n",
        "        pred = model.predict(input_ohe, batch_size=args.batch_size)\n",
        "        pred_arg = tf.argsort(pred, direction='DESCENDING')  # softmax 값이 큰 순서대로 sorting 합니다.\n",
        "\n",
        "        length = len(inputs)\n",
        "        recall_list.extend([recall_k(pred_arg[i], label[i], k) for i in range(length)])\n",
        "        mrr_list.extend([mrr_k(pred_arg[i], label[i], k) for i in range(length)])\n",
        "\n",
        "    recall, mrr = np.mean(recall_list), np.mean(mrr_list)\n",
        "    return recall, mrr"
      ],
      "metadata": {
        "id": "4BFO9DnqCFvO"
      },
      "execution_count": null,
      "outputs": []
    },
    {
      "cell_type": "code",
      "source": [
        "def test_model(model, args, test):\n",
        "    test_recall, test_mrr = get_metrics(test, model, args, 20)\n",
        "    print(f\"\\t - Recall@{args.k}: {test_recall:3f}\")\n",
        "    print(f\"\\t - MRR@{args.k}: {test_mrr:3f}\\n\")"
      ],
      "metadata": {
        "id": "_-3FHDgMgsLV"
      },
      "execution_count": null,
      "outputs": []
    },
    {
      "cell_type": "markdown",
      "source": [
        "### 1.6 Training"
      ],
      "metadata": {
        "id": "lph5oOoefE8s"
      }
    },
    {
      "cell_type": "markdown",
      "source": [
        "- 이번에도 model의 hyper parameter를 바꿔가며 비교해봅니다.\n",
        "- 결과적으로 거의 모든 모델의 Recall@20, MRR@20 값이 특정 값으로 수렴하는데,  \n",
        "모델 하나당 대략적으로 40분의 학습 시간이 필요합니다.  \n",
        "어떤 hyper parameter가 학습 시간에 효율적일지 확인해봅니다."
      ],
      "metadata": {
        "id": "XXl9cHuz3ARi"
      }
    },
    {
      "cell_type": "markdown",
      "source": [
        "#### 1.6.1 Default_Model"
      ],
      "metadata": {
        "id": "Db00d4YHzokE"
      }
    },
    {
      "cell_type": "markdown",
      "source": [
        "- 뒤에 나올 모델의 default 값이 될 모델입니다."
      ],
      "metadata": {
        "id": "4pRJINevfgjf"
      }
    },
    {
      "cell_type": "markdown",
      "source": [
        "##### 1) model_1(batch 64, units 50, Adam, lr 0.001)"
      ],
      "metadata": {
        "id": "yg8DQmCl_b1-"
      }
    },
    {
      "cell_type": "markdown",
      "source": [
        "- batch size는 64, gru의 units은 50, drop rate는 0.1  \n",
        "optimizer는 Adam에 learning rate는 0.001, epochs 10, k 20 입니다."
      ],
      "metadata": {
        "id": "9lYI07IWfmkf"
      }
    },
    {
      "cell_type": "code",
      "source": [
        "args = Args(train, val, test, batch_size=64, hsz=50, drop_rate=0.1, optimizer=Adam(0.001), epochs=10, k=20)\n",
        "model = create_model(args)"
      ],
      "metadata": {
        "colab": {
          "base_uri": "https://localhost:8080/"
        },
        "outputId": "550cc9e4-ecb7-46d4-ac75-86ec5a9028d1",
        "id": "GktaBVTLASJJ"
      },
      "execution_count": null,
      "outputs": [
        {
          "output_type": "stream",
          "name": "stdout",
          "text": [
            "Model: \"model_2\"\n",
            "_________________________________________________________________\n",
            " Layer (type)                Output Shape              Param #   \n",
            "=================================================================\n",
            " input_3 (InputLayer)        [(64, 1, 2155)]           0         \n",
            "                                                                 \n",
            " GRU (GRU)                   [(64, 50),                331050    \n",
            "                              (64, 50)]                          \n",
            "                                                                 \n",
            " dropout_2 (Dropout)         (64, 50)                  0         \n",
            "                                                                 \n",
            " dense_2 (Dense)             (64, 2155)                109905    \n",
            "                                                                 \n",
            "=================================================================\n",
            "Total params: 440,955\n",
            "Trainable params: 440,955\n",
            "Non-trainable params: 0\n",
            "_________________________________________________________________\n"
          ]
        }
      ]
    },
    {
      "cell_type": "code",
      "source": [
        "train_model(model, args)"
      ],
      "metadata": {
        "colab": {
          "base_uri": "https://localhost:8080/"
        },
        "id": "MnDMbVlCCqIA",
        "outputId": "1f0395a3-9fee-422d-8391-20ce2dc38980"
      },
      "execution_count": null,
      "outputs": [
        {
          "output_type": "stream",
          "name": "stderr",
          "text": [
            "Train:  98%|█████████▊| 10637/10820 [02:45<00:02, 64.18it/s, accuracy=0.0156, train_loss=6.52]\n",
            "Evaluation:  75%|███████▍  | 496/662 [07:07<02:23,  1.16it/s]\n"
          ]
        },
        {
          "output_type": "stream",
          "name": "stdout",
          "text": [
            "\t - Recall@20 epoch 1: 0.180318\n",
            "\t - MRR@20    epoch 1: 0.039636\n",
            "\n"
          ]
        },
        {
          "output_type": "stream",
          "name": "stderr",
          "text": [
            "Train:  98%|█████████▊| 10637/10820 [02:33<00:02, 69.30it/s, accuracy=0, train_loss=6.36]\n",
            "Evaluation:  75%|███████▍  | 496/662 [06:58<02:20,  1.18it/s]\n"
          ]
        },
        {
          "output_type": "stream",
          "name": "stdout",
          "text": [
            "\t - Recall@20 epoch 2: 0.218151\n",
            "\t - MRR@20    epoch 2: 0.049180\n",
            "\n"
          ]
        },
        {
          "output_type": "stream",
          "name": "stderr",
          "text": [
            "Train:  98%|█████████▊| 10637/10820 [02:35<00:02, 68.26it/s, accuracy=0.0156, train_loss=6.36]\n",
            "Evaluation:  75%|███████▍  | 496/662 [06:57<02:19,  1.19it/s]\n"
          ]
        },
        {
          "output_type": "stream",
          "name": "stdout",
          "text": [
            "\t - Recall@20 epoch 3: 0.229870\n",
            "\t - MRR@20    epoch 3: 0.053533\n",
            "\n"
          ]
        },
        {
          "output_type": "stream",
          "name": "stderr",
          "text": [
            "Train:  98%|█████████▊| 10637/10820 [02:35<00:02, 68.61it/s, accuracy=0.0156, train_loss=6.38]\n",
            "Evaluation:  75%|███████▍  | 496/662 [06:52<02:18,  1.20it/s]\n"
          ]
        },
        {
          "output_type": "stream",
          "name": "stdout",
          "text": [
            "\t - Recall@20 epoch 4: 0.236328\n",
            "\t - MRR@20    epoch 4: 0.055777\n",
            "\n"
          ]
        },
        {
          "output_type": "stream",
          "name": "stderr",
          "text": [
            "Train:  98%|█████████▊| 10637/10820 [02:35<00:02, 68.33it/s, accuracy=0, train_loss=6.35]\n",
            "Evaluation:  75%|███████▍  | 496/662 [06:52<02:17,  1.20it/s]\n"
          ]
        },
        {
          "output_type": "stream",
          "name": "stdout",
          "text": [
            "\t - Recall@20 epoch 5: 0.239132\n",
            "\t - MRR@20    epoch 5: 0.057992\n",
            "\n"
          ]
        },
        {
          "output_type": "stream",
          "name": "stderr",
          "text": [
            "Train:  98%|█████████▊| 10637/10820 [02:35<00:02, 68.49it/s, accuracy=0.0156, train_loss=6.35]\n",
            "Evaluation:  75%|███████▍  | 496/662 [06:51<02:17,  1.21it/s]\n"
          ]
        },
        {
          "output_type": "stream",
          "name": "stdout",
          "text": [
            "\t - Recall@20 epoch 6: 0.241872\n",
            "\t - MRR@20    epoch 6: 0.058980\n",
            "\n"
          ]
        },
        {
          "output_type": "stream",
          "name": "stderr",
          "text": [
            "Train:  98%|█████████▊| 10637/10820 [02:34<00:02, 69.06it/s, accuracy=0.0469, train_loss=6.26]\n",
            "Evaluation:  75%|███████▍  | 496/662 [06:45<02:15,  1.22it/s]\n"
          ]
        },
        {
          "output_type": "stream",
          "name": "stdout",
          "text": [
            "\t - Recall@20 epoch 7: 0.242503\n",
            "\t - MRR@20    epoch 7: 0.058993\n",
            "\n"
          ]
        },
        {
          "output_type": "stream",
          "name": "stderr",
          "text": [
            "Train:  98%|█████████▊| 10637/10820 [02:32<00:02, 69.65it/s, accuracy=0.0312, train_loss=6.37]\n",
            "Evaluation:  75%|███████▍  | 496/662 [06:46<02:16,  1.22it/s]\n"
          ]
        },
        {
          "output_type": "stream",
          "name": "stdout",
          "text": [
            "\t - Recall@20 epoch 8: 0.242471\n",
            "\t - MRR@20    epoch 8: 0.059456\n",
            "\n"
          ]
        },
        {
          "output_type": "stream",
          "name": "stderr",
          "text": [
            "Train:  98%|█████████▊| 10637/10820 [02:34<00:02, 68.68it/s, accuracy=0.0312, train_loss=6.27]\n",
            "Evaluation:  75%|███████▍  | 496/662 [06:47<02:16,  1.22it/s]\n"
          ]
        },
        {
          "output_type": "stream",
          "name": "stdout",
          "text": [
            "\t - Recall@20 epoch 9: 0.242314\n",
            "\t - MRR@20    epoch 9: 0.059636\n",
            "\n"
          ]
        },
        {
          "output_type": "stream",
          "name": "stderr",
          "text": [
            "Train:  98%|█████████▊| 10637/10820 [02:33<00:02, 69.20it/s, accuracy=0.0312, train_loss=6.21]\n",
            "Evaluation:  75%|███████▍  | 496/662 [06:45<02:15,  1.22it/s]"
          ]
        },
        {
          "output_type": "stream",
          "name": "stdout",
          "text": [
            "\t - Recall@20 epoch 10: 0.240864\n",
            "\t - MRR@20    epoch 10: 0.059519\n",
            "\n"
          ]
        },
        {
          "output_type": "stream",
          "name": "stderr",
          "text": [
            "\n"
          ]
        }
      ]
    },
    {
      "cell_type": "code",
      "source": [
        "test_model(model, args, test)"
      ],
      "metadata": {
        "colab": {
          "base_uri": "https://localhost:8080/"
        },
        "id": "yjj86vqKgjFb",
        "outputId": "c7776bfd-25fb-436f-d719-2c41283e40eb"
      },
      "execution_count": null,
      "outputs": [
        {
          "output_type": "stream",
          "name": "stderr",
          "text": [
            "Evaluation:  87%|████████▋ | 1522/1745 [21:01<03:04,  1.21it/s]"
          ]
        },
        {
          "output_type": "stream",
          "name": "stdout",
          "text": [
            "\t - Recall@20: 0.239724\n",
            "\t - MRR@20: 0.059894\n",
            "\n"
          ]
        },
        {
          "output_type": "stream",
          "name": "stderr",
          "text": [
            "\n"
          ]
        }
      ]
    },
    {
      "cell_type": "markdown",
      "source": [
        "#### 1.6.2 Batch_Size"
      ],
      "metadata": {
        "id": "QPNoy1_d0HJa"
      }
    },
    {
      "cell_type": "markdown",
      "source": [
        "- 다른 모든 조건은 동일하고 batch size에 따른 학습 속도를 살펴봅니다."
      ],
      "metadata": {
        "id": "rzYFwZekgAFB"
      }
    },
    {
      "cell_type": "markdown",
      "source": [
        "##### 1) model_2(batch 128, units 50, Adam, lr 0.001)"
      ],
      "metadata": {
        "id": "Qg6VpxUD_bSV"
      }
    },
    {
      "cell_type": "code",
      "source": [
        "args_2 = Args(train, val, test, batch_size=128, hsz=50, drop_rate=0.1, optimizer=Adam(0.001), epochs=10, k=20)\n",
        "model_2 = create_model(args_2)"
      ],
      "metadata": {
        "colab": {
          "base_uri": "https://localhost:8080/"
        },
        "id": "rPWRpnLCZwlG",
        "outputId": "ed5f91fb-d264-490d-df7f-ef2192b77040"
      },
      "execution_count": null,
      "outputs": [
        {
          "output_type": "stream",
          "name": "stdout",
          "text": [
            "Model: \"model_1\"\n",
            "_________________________________________________________________\n",
            " Layer (type)                Output Shape              Param #   \n",
            "=================================================================\n",
            " input_2 (InputLayer)        [(128, 1, 2155)]          0         \n",
            "                                                                 \n",
            " GRU (GRU)                   [(128, 50),               331050    \n",
            "                              (128, 50)]                         \n",
            "                                                                 \n",
            " dropout_1 (Dropout)         (128, 50)                 0         \n",
            "                                                                 \n",
            " dense_1 (Dense)             (128, 2155)               109905    \n",
            "                                                                 \n",
            "=================================================================\n",
            "Total params: 440,955\n",
            "Trainable params: 440,955\n",
            "Non-trainable params: 0\n",
            "_________________________________________________________________\n"
          ]
        }
      ]
    },
    {
      "cell_type": "code",
      "source": [
        "train_model(model_2, args_2)"
      ],
      "metadata": {
        "colab": {
          "base_uri": "https://localhost:8080/"
        },
        "id": "ZPaL_gqVaBnl",
        "outputId": "2f297e8f-b862-488a-be84-a38db453b57e"
      },
      "execution_count": null,
      "outputs": [
        {
          "output_type": "stream",
          "name": "stderr",
          "text": [
            "Train:  97%|█████████▋| 5256/5410 [01:38<00:02, 53.11it/s, accuracy=0.0234, train_loss=6.58]\n",
            "Evaluation:  31%|███       | 102/331 [03:01<06:48,  1.78s/it]\n"
          ]
        },
        {
          "output_type": "stream",
          "name": "stdout",
          "text": [
            "=*20\n",
            "\t - Recall@20 epoch 1: 0.156173\n",
            "\t - MRR@20    epoch 1: 0.035486\n",
            "\n"
          ]
        },
        {
          "output_type": "stream",
          "name": "stderr",
          "text": [
            "Train:  97%|█████████▋| 5256/5410 [01:29<00:02, 59.01it/s, accuracy=0.0156, train_loss=6.37]\n",
            "Evaluation:  31%|███       | 102/331 [02:47<06:16,  1.64s/it]\n"
          ]
        },
        {
          "output_type": "stream",
          "name": "stdout",
          "text": [
            "=*20\n",
            "\t - Recall@20 epoch 2: 0.210861\n",
            "\t - MRR@20    epoch 2: 0.048361\n",
            "\n"
          ]
        },
        {
          "output_type": "stream",
          "name": "stderr",
          "text": [
            "Train:  97%|█████████▋| 5256/5410 [01:30<00:02, 58.00it/s, accuracy=0.0156, train_loss=6.32]\n",
            "Evaluation:  31%|███       | 102/331 [02:45<06:10,  1.62s/it]\n"
          ]
        },
        {
          "output_type": "stream",
          "name": "stdout",
          "text": [
            "=*20\n",
            "\t - Recall@20 epoch 3: 0.229013\n",
            "\t - MRR@20    epoch 3: 0.053430\n",
            "\n"
          ]
        },
        {
          "output_type": "stream",
          "name": "stderr",
          "text": [
            "Train:  97%|█████████▋| 5256/5410 [01:28<00:02, 59.63it/s, accuracy=0.00781, train_loss=6.3]\n",
            "Evaluation:  31%|███       | 102/331 [02:44<06:08,  1.61s/it]\n"
          ]
        },
        {
          "output_type": "stream",
          "name": "stdout",
          "text": [
            "=*20\n",
            "\t - Recall@20 epoch 4: 0.235830\n",
            "\t - MRR@20    epoch 4: 0.055424\n",
            "\n"
          ]
        },
        {
          "output_type": "stream",
          "name": "stderr",
          "text": [
            "Train:  97%|█████████▋| 5256/5410 [01:27<00:02, 59.99it/s, accuracy=0.0312, train_loss=6.2]\n",
            "Evaluation:  31%|███       | 102/331 [02:42<06:05,  1.60s/it]\n"
          ]
        },
        {
          "output_type": "stream",
          "name": "stdout",
          "text": [
            "=*20\n",
            "\t - Recall@20 epoch 5: 0.239583\n",
            "\t - MRR@20    epoch 5: 0.057268\n",
            "\n"
          ]
        },
        {
          "output_type": "stream",
          "name": "stderr",
          "text": [
            "Train:  97%|█████████▋| 5256/5410 [01:27<00:02, 60.19it/s, accuracy=0.0391, train_loss=6.21]\n",
            "Evaluation:  31%|███       | 102/331 [02:43<06:06,  1.60s/it]\n"
          ]
        },
        {
          "output_type": "stream",
          "name": "stdout",
          "text": [
            "=*20\n",
            "\t - Recall@20 epoch 6: 0.239200\n",
            "\t - MRR@20    epoch 6: 0.058501\n",
            "\n"
          ]
        },
        {
          "output_type": "stream",
          "name": "stderr",
          "text": [
            "Train:  97%|█████████▋| 5256/5410 [01:27<00:02, 59.99it/s, accuracy=0.0391, train_loss=6.13]\n",
            "Evaluation:  31%|███       | 102/331 [02:42<06:04,  1.59s/it]\n"
          ]
        },
        {
          "output_type": "stream",
          "name": "stdout",
          "text": [
            "=*20\n",
            "\t - Recall@20 epoch 7: 0.241651\n",
            "\t - MRR@20    epoch 7: 0.058935\n",
            "\n"
          ]
        },
        {
          "output_type": "stream",
          "name": "stderr",
          "text": [
            "Train:  97%|█████████▋| 5256/5410 [01:27<00:02, 59.91it/s, accuracy=0.0391, train_loss=6.11]\n",
            "Evaluation:  31%|███       | 102/331 [02:41<06:03,  1.59s/it]\n"
          ]
        },
        {
          "output_type": "stream",
          "name": "stdout",
          "text": [
            "=*20\n",
            "\t - Recall@20 epoch 8: 0.240656\n",
            "\t - MRR@20    epoch 8: 0.059385\n",
            "\n"
          ]
        },
        {
          "output_type": "stream",
          "name": "stderr",
          "text": [
            "Train:  97%|█████████▋| 5256/5410 [01:27<00:02, 59.98it/s, accuracy=0.0312, train_loss=6.07]\n",
            "Evaluation:  31%|███       | 102/331 [02:42<06:05,  1.60s/it]\n"
          ]
        },
        {
          "output_type": "stream",
          "name": "stdout",
          "text": [
            "=*20\n",
            "\t - Recall@20 epoch 9: 0.239047\n",
            "\t - MRR@20    epoch 9: 0.058650\n",
            "\n"
          ]
        },
        {
          "output_type": "stream",
          "name": "stderr",
          "text": [
            "Train:  97%|█████████▋| 5256/5410 [01:27<00:02, 60.04it/s, accuracy=0.0391, train_loss=6.04]\n",
            "Evaluation:  31%|███       | 102/331 [02:42<06:05,  1.60s/it]"
          ]
        },
        {
          "output_type": "stream",
          "name": "stdout",
          "text": [
            "=*20\n",
            "\t - Recall@20 epoch 10: 0.238894\n",
            "\t - MRR@20    epoch 10: 0.059124\n",
            "\n"
          ]
        },
        {
          "output_type": "stream",
          "name": "stderr",
          "text": [
            "\n"
          ]
        }
      ]
    },
    {
      "cell_type": "code",
      "source": [
        "test_model(model_2, args_2, test)"
      ],
      "metadata": {
        "colab": {
          "base_uri": "https://localhost:8080/"
        },
        "id": "xQZuJONu_x7P",
        "outputId": "c5a013e2-f97b-4e20-9117-5ca94a35c51d"
      },
      "execution_count": null,
      "outputs": [
        {
          "output_type": "stream",
          "name": "stderr",
          "text": [
            "Evaluation:  73%|███████▎  | 633/872 [16:44<06:19,  1.59s/it]"
          ]
        },
        {
          "output_type": "stream",
          "name": "stdout",
          "text": [
            "\t - Recall@20: 0.251098\n",
            "\t - MRR@20: 0.061699\n",
            "\n"
          ]
        },
        {
          "output_type": "stream",
          "name": "stderr",
          "text": [
            "\n"
          ]
        }
      ]
    },
    {
      "cell_type": "markdown",
      "source": [
        "##### 2) model_3(batch 32, units 50, Adam, lr 0.001)"
      ],
      "metadata": {
        "id": "Brfb9rZX_asR"
      }
    },
    {
      "cell_type": "code",
      "source": [
        "args_3 = Args(train, val, test, batch_size=32, hsz=50, drop_rate=0.1, optimizer=Adam(0.001), epochs=10, k=20)\n",
        "model_3 = create_model(args_3)"
      ],
      "metadata": {
        "id": "Pufy7sswZ-ku",
        "colab": {
          "base_uri": "https://localhost:8080/"
        },
        "outputId": "daec7985-bc54-4e7b-966d-1aaa99a06c47"
      },
      "execution_count": null,
      "outputs": [
        {
          "output_type": "stream",
          "name": "stdout",
          "text": [
            "Model: \"model_4\"\n",
            "_________________________________________________________________\n",
            " Layer (type)                Output Shape              Param #   \n",
            "=================================================================\n",
            " input_5 (InputLayer)        [(32, 1, 2155)]           0         \n",
            "                                                                 \n",
            " GRU (GRU)                   [(32, 50),                331050    \n",
            "                              (32, 50)]                          \n",
            "                                                                 \n",
            " dropout_4 (Dropout)         (32, 50)                  0         \n",
            "                                                                 \n",
            " dense_4 (Dense)             (32, 2155)                109905    \n",
            "                                                                 \n",
            "=================================================================\n",
            "Total params: 440,955\n",
            "Trainable params: 440,955\n",
            "Non-trainable params: 0\n",
            "_________________________________________________________________\n"
          ]
        }
      ]
    },
    {
      "cell_type": "code",
      "source": [
        "train_model(model_3, args_3)"
      ],
      "metadata": {
        "colab": {
          "base_uri": "https://localhost:8080/"
        },
        "id": "18LcgnbO_aLo",
        "outputId": "8e1c0fec-ff23-409c-9a53-d43c0a649425"
      },
      "execution_count": null,
      "outputs": [
        {
          "output_type": "stream",
          "name": "stderr",
          "text": [
            "Train:  99%|█████████▉| 21407/21641 [04:53<00:03, 72.82it/s, accuracy=0, train_loss=6.42]\n",
            "Evaluation:  91%|█████████ | 1202/1324 [08:58<00:54,  2.23it/s]\n"
          ]
        },
        {
          "output_type": "stream",
          "name": "stdout",
          "text": [
            "=*20\n",
            "\t - Recall@20 epoch 1: 0.199823\n",
            "\t - MRR@20    epoch 1: 0.045467\n",
            "\n"
          ]
        },
        {
          "output_type": "stream",
          "name": "stderr",
          "text": [
            "Train:  99%|█████████▉| 21407/21641 [04:53<00:03, 73.04it/s, accuracy=0, train_loss=6.06]\n",
            "Evaluation:  91%|█████████ | 1202/1324 [08:48<00:53,  2.27it/s]\n"
          ]
        },
        {
          "output_type": "stream",
          "name": "stdout",
          "text": [
            "=*20\n",
            "\t - Recall@20 epoch 2: 0.225224\n",
            "\t - MRR@20    epoch 2: 0.052607\n",
            "\n"
          ]
        },
        {
          "output_type": "stream",
          "name": "stderr",
          "text": [
            "Train:  99%|█████████▉| 21407/21641 [04:53<00:03, 72.84it/s, accuracy=0.0312, train_loss=5.77]\n",
            "Evaluation:  91%|█████████ | 1202/1324 [08:45<00:53,  2.29it/s]\n"
          ]
        },
        {
          "output_type": "stream",
          "name": "stdout",
          "text": [
            "=*20\n",
            "\t - Recall@20 epoch 3: 0.234583\n",
            "\t - MRR@20    epoch 3: 0.056167\n",
            "\n"
          ]
        },
        {
          "output_type": "stream",
          "name": "stderr",
          "text": [
            "Train:  99%|█████████▉| 21407/21641 [04:53<00:03, 72.99it/s, accuracy=0, train_loss=5.82]\n",
            "Evaluation:  91%|█████████ | 1202/1324 [08:46<00:53,  2.28it/s]\n"
          ]
        },
        {
          "output_type": "stream",
          "name": "stdout",
          "text": [
            "=*20\n",
            "\t - Recall@20 epoch 4: 0.236507\n",
            "\t - MRR@20    epoch 4: 0.058122\n",
            "\n"
          ]
        },
        {
          "output_type": "stream",
          "name": "stderr",
          "text": [
            "Train:  99%|█████████▉| 21407/21641 [04:53<00:03, 72.93it/s, accuracy=0, train_loss=5.74]\n",
            "Evaluation:  91%|█████████ | 1202/1324 [08:44<00:53,  2.29it/s]\n"
          ]
        },
        {
          "output_type": "stream",
          "name": "stdout",
          "text": [
            "=*20\n",
            "\t - Recall@20 epoch 5: 0.239393\n",
            "\t - MRR@20    epoch 5: 0.059406\n",
            "\n"
          ]
        },
        {
          "output_type": "stream",
          "name": "stderr",
          "text": [
            "Train:  99%|█████████▉| 21407/21641 [04:54<00:03, 72.80it/s, accuracy=0, train_loss=5.73]\n",
            "Evaluation:  91%|█████████ | 1202/1324 [08:44<00:53,  2.29it/s]\n"
          ]
        },
        {
          "output_type": "stream",
          "name": "stdout",
          "text": [
            "=*20\n",
            "\t - Recall@20 epoch 6: 0.238977\n",
            "\t - MRR@20    epoch 6: 0.059729\n",
            "\n"
          ]
        },
        {
          "output_type": "stream",
          "name": "stderr",
          "text": [
            "Train:  99%|█████████▉| 21407/21641 [04:59<00:03, 71.52it/s, accuracy=0, train_loss=5.8]\n",
            "Evaluation:  91%|█████████ | 1202/1324 [08:45<00:53,  2.29it/s]\n"
          ]
        },
        {
          "output_type": "stream",
          "name": "stdout",
          "text": [
            "=*20\n",
            "\t - Recall@20 epoch 7: 0.238665\n",
            "\t - MRR@20    epoch 7: 0.059817\n",
            "\n"
          ]
        },
        {
          "output_type": "stream",
          "name": "stderr",
          "text": [
            "Train:  99%|█████████▉| 21407/21641 [04:53<00:03, 72.95it/s, accuracy=0, train_loss=5.86]\n",
            "Evaluation:  91%|█████████ | 1202/1324 [08:46<00:53,  2.28it/s]\n"
          ]
        },
        {
          "output_type": "stream",
          "name": "stdout",
          "text": [
            "=*20\n",
            "\t - Recall@20 epoch 8: 0.237235\n",
            "\t - MRR@20    epoch 8: 0.059207\n",
            "\n"
          ]
        },
        {
          "output_type": "stream",
          "name": "stderr",
          "text": [
            "Train:  99%|█████████▉| 21407/21641 [04:54<00:03, 72.72it/s, accuracy=0, train_loss=5.79]\n",
            "Evaluation:  91%|█████████ | 1202/1324 [09:15<00:56,  2.17it/s]\n"
          ]
        },
        {
          "output_type": "stream",
          "name": "stdout",
          "text": [
            "=*20\n",
            "\t - Recall@20 epoch 9: 0.236143\n",
            "\t - MRR@20    epoch 9: 0.059449\n",
            "\n"
          ]
        },
        {
          "output_type": "stream",
          "name": "stderr",
          "text": [
            "Train:  99%|█████████▉| 21407/21641 [05:00<00:03, 71.21it/s, accuracy=0, train_loss=5.74]\n",
            "Evaluation:  91%|█████████ | 1202/1324 [08:50<00:53,  2.27it/s]"
          ]
        },
        {
          "output_type": "stream",
          "name": "stdout",
          "text": [
            "=*20\n",
            "\t - Recall@20 epoch 10: 0.235545\n",
            "\t - MRR@20    epoch 10: 0.059156\n",
            "\n"
          ]
        },
        {
          "output_type": "stream",
          "name": "stderr",
          "text": [
            "\n"
          ]
        }
      ]
    },
    {
      "cell_type": "code",
      "source": [
        "test_model(model_3, args_3, test)"
      ],
      "metadata": {
        "colab": {
          "base_uri": "https://localhost:8080/"
        },
        "id": "MqGe1KJ5_2Cu",
        "outputId": "1dd6ed0d-53a5-43fa-fe65-f7e6d01de7c3"
      },
      "execution_count": null,
      "outputs": [
        {
          "output_type": "stream",
          "name": "stderr",
          "text": [
            "Evaluation:  95%|█████████▍| 3312/3491 [24:13<01:18,  2.28it/s]"
          ]
        },
        {
          "output_type": "stream",
          "name": "stdout",
          "text": [
            "\t - Recall@20: 0.229572\n",
            "\t - MRR@20: 0.057527\n",
            "\n"
          ]
        },
        {
          "output_type": "stream",
          "name": "stderr",
          "text": [
            "\n"
          ]
        }
      ]
    },
    {
      "cell_type": "markdown",
      "source": [
        "##### 3) Compare"
      ],
      "metadata": {
        "id": "mlywpG_m2IFj"
      }
    },
    {
      "cell_type": "code",
      "source": [
        "plt.plot(model_recall_1)\n",
        "plt.plot(model_recall_2)\n",
        "plt.plot(model_recall_3)\n",
        "plt.title('Model Recall@20')\n",
        "plt.ylabel('Recall@20')\n",
        "plt.xlabel('epoch')\n",
        "plt.legend(['model_1', 'model_2', 'model_3'], loc='lower right')\n",
        "plt.show()\n",
        "\n",
        "plt.plot(model_mrr_1)\n",
        "plt.plot(model_mrr_2)\n",
        "plt.plot(model_mrr_3)\n",
        "plt.title('Model MRR@20')\n",
        "plt.ylabel('MRR@20')\n",
        "plt.xlabel('epoch')\n",
        "plt.legend(['model_1', 'model_2', 'model_3'], loc='lower right')\n",
        "plt.show()"
      ],
      "metadata": {
        "colab": {
          "base_uri": "https://localhost:8080/",
          "height": 573
        },
        "id": "dGHB5HwA5EVl",
        "outputId": "7dab862f-32fb-46da-b25b-b2c74b574273"
      },
      "execution_count": null,
      "outputs": [
        {
          "output_type": "display_data",
          "data": {
            "text/plain": [
              "<Figure size 432x288 with 1 Axes>"
            ],
            "image/png": "[encoded data removed]"
          },
          "metadata": {
            "needs_background": "light"
          }
        },
        {
          "output_type": "display_data",
          "data": {
            "text/plain": [
              "<Figure size 432x288 with 1 Axes>"
            ],
            "image/png": "[encoded data removed]"
          },
          "metadata": {
            "needs_background": "light"
          }
        }
      ]
    },
    {
      "cell_type": "markdown",
      "source": [
        "- 어차피 모델은 어느 정도 비슷한 성능으로 값이 수렴합니다.  \n",
        "속도만 놓고 보면 당연히 batch size가 큰 쪽이 빠릅니다.\n",
        "- 시간이 많다면 작은 batch size로 epochs를 많이 늘려서 시도하는 것도 나쁘지 않을 것 같습니다."
      ],
      "metadata": {
        "id": "Xy-1qhJOgTSg"
      }
    },
    {
      "cell_type": "markdown",
      "source": [
        "#### 1.6.3 Learning_Rate"
      ],
      "metadata": {
        "id": "oMmAT4eC0dRl"
      }
    },
    {
      "cell_type": "markdown",
      "source": [
        "- 이번에는 Learning_rate만 변화를 줍니다.  \n",
        "- 시간관계상 batch 128 모델을 기준으로 돌립니다."
      ],
      "metadata": {
        "id": "yNDA51JjgtXJ"
      }
    },
    {
      "cell_type": "markdown",
      "source": [
        "##### 1) model_4(batch 128, units 50, Adam, lr 0.005)"
      ],
      "metadata": {
        "id": "1ah566w_sCxm"
      }
    },
    {
      "cell_type": "code",
      "source": [
        "args_4 = Args(train, val, test, batch_size=128, hsz=50, drop_rate=0.1, optimizer=Adam(0.005), epochs=10, k=20)\n",
        "model_4 = create_model(args_4)"
      ],
      "metadata": {
        "colab": {
          "base_uri": "https://localhost:8080/"
        },
        "id": "HtptpwNKsDMz",
        "outputId": "551a4ba1-4f6a-4c26-d4e0-ffd27c5e93ac"
      },
      "execution_count": null,
      "outputs": [
        {
          "output_type": "stream",
          "name": "stdout",
          "text": [
            "Model: \"model_7\"\n",
            "_________________________________________________________________\n",
            " Layer (type)                Output Shape              Param #   \n",
            "=================================================================\n",
            " input_8 (InputLayer)        [(128, 1, 2155)]          0         \n",
            "                                                                 \n",
            " GRU (GRU)                   [(128, 50),               331050    \n",
            "                              (128, 50)]                         \n",
            "                                                                 \n",
            " dropout_7 (Dropout)         (128, 50)                 0         \n",
            "                                                                 \n",
            " dense_7 (Dense)             (128, 2155)               109905    \n",
            "                                                                 \n",
            "=================================================================\n",
            "Total params: 440,955\n",
            "Trainable params: 440,955\n",
            "Non-trainable params: 0\n",
            "_________________________________________________________________\n"
          ]
        }
      ]
    },
    {
      "cell_type": "code",
      "source": [
        "train_model(model_4, args_4)"
      ],
      "metadata": {
        "colab": {
          "base_uri": "https://localhost:8080/"
        },
        "id": "d03z15v1sTBI",
        "outputId": "8d35ff09-9947-4d79-e2f0-c13d04105f3c"
      },
      "execution_count": null,
      "outputs": [
        {
          "output_type": "stream",
          "name": "stderr",
          "text": [
            "Train:  97%|█████████▋| 5256/5410 [01:30<00:02, 58.23it/s, accuracy=0.0156, train_loss=6.24]\n",
            "Evaluation:  31%|███       | 102/331 [02:46<06:14,  1.64s/it]\n"
          ]
        },
        {
          "output_type": "stream",
          "name": "stdout",
          "text": [
            "=*20\n",
            "\t - Recall@20 epoch 1: 0.226486\n",
            "\t - MRR@20    epoch 1: 0.054730\n",
            "\n"
          ]
        },
        {
          "output_type": "stream",
          "name": "stderr",
          "text": [
            "Train:  97%|█████████▋| 5256/5410 [01:28<00:02, 59.64it/s, accuracy=0.0312, train_loss=6.25]\n",
            "Evaluation:  31%|███       | 102/331 [02:45<06:12,  1.63s/it]\n"
          ]
        },
        {
          "output_type": "stream",
          "name": "stdout",
          "text": [
            "=*20\n",
            "\t - Recall@20 epoch 2: 0.236290\n",
            "\t - MRR@20    epoch 2: 0.059677\n",
            "\n"
          ]
        },
        {
          "output_type": "stream",
          "name": "stderr",
          "text": [
            "Train:  97%|█████████▋| 5256/5410 [01:27<00:02, 60.14it/s, accuracy=0.00781, train_loss=6.21]\n",
            "Evaluation:  31%|███       | 102/331 [02:45<06:12,  1.63s/it]\n"
          ]
        },
        {
          "output_type": "stream",
          "name": "stdout",
          "text": [
            "=*20\n",
            "\t - Recall@20 epoch 3: 0.234375\n",
            "\t - MRR@20    epoch 3: 0.059038\n",
            "\n"
          ]
        },
        {
          "output_type": "stream",
          "name": "stderr",
          "text": [
            "Train:  97%|█████████▋| 5256/5410 [01:27<00:02, 59.76it/s, accuracy=0.0391, train_loss=6.14]\n",
            "Evaluation:  31%|███       | 102/331 [02:47<06:15,  1.64s/it]\n"
          ]
        },
        {
          "output_type": "stream",
          "name": "stdout",
          "text": [
            "=*20\n",
            "\t - Recall@20 epoch 4: 0.235907\n",
            "\t - MRR@20    epoch 4: 0.058250\n",
            "\n"
          ]
        },
        {
          "output_type": "stream",
          "name": "stderr",
          "text": [
            "Train:  97%|█████████▋| 5256/5410 [01:28<00:02, 59.30it/s, accuracy=0.0391, train_loss=6.14]\n",
            "Evaluation:  31%|███       | 102/331 [02:46<06:13,  1.63s/it]\n"
          ]
        },
        {
          "output_type": "stream",
          "name": "stdout",
          "text": [
            "=*20\n",
            "\t - Recall@20 epoch 5: 0.230239\n",
            "\t - MRR@20    epoch 5: 0.058458\n",
            "\n"
          ]
        },
        {
          "output_type": "stream",
          "name": "stderr",
          "text": [
            "Train:  97%|█████████▋| 5256/5410 [01:27<00:02, 59.80it/s, accuracy=0.0469, train_loss=6.18]\n",
            "Evaluation:  31%|███       | 102/331 [02:45<06:11,  1.62s/it]\n"
          ]
        },
        {
          "output_type": "stream",
          "name": "stdout",
          "text": [
            "=*20\n",
            "\t - Recall@20 epoch 6: 0.230162\n",
            "\t - MRR@20    epoch 6: 0.058057\n",
            "\n"
          ]
        },
        {
          "output_type": "stream",
          "name": "stderr",
          "text": [
            "Train:  97%|█████████▋| 5256/5410 [01:27<00:02, 60.33it/s, accuracy=0.0312, train_loss=6.16]\n",
            "Evaluation:  31%|███       | 102/331 [02:43<06:07,  1.61s/it]\n"
          ]
        },
        {
          "output_type": "stream",
          "name": "stdout",
          "text": [
            "=*20\n",
            "\t - Recall@20 epoch 7: 0.226333\n",
            "\t - MRR@20    epoch 7: 0.057885\n",
            "\n"
          ]
        },
        {
          "output_type": "stream",
          "name": "stderr",
          "text": [
            "Train:  97%|█████████▋| 5256/5410 [01:27<00:02, 60.22it/s, accuracy=0.0156, train_loss=6.18]\n",
            "Evaluation:  31%|███       | 102/331 [02:43<06:07,  1.61s/it]\n"
          ]
        },
        {
          "output_type": "stream",
          "name": "stdout",
          "text": [
            "=*20\n",
            "\t - Recall@20 epoch 8: 0.225797\n",
            "\t - MRR@20    epoch 8: 0.057532\n",
            "\n"
          ]
        },
        {
          "output_type": "stream",
          "name": "stderr",
          "text": [
            "Train:  97%|█████████▋| 5256/5410 [01:27<00:02, 60.00it/s, accuracy=0.0469, train_loss=6.16]\n",
            "Evaluation:  31%|███       | 102/331 [02:44<06:08,  1.61s/it]\n"
          ]
        },
        {
          "output_type": "stream",
          "name": "stdout",
          "text": [
            "=*20\n",
            "\t - Recall@20 epoch 9: 0.224418\n",
            "\t - MRR@20    epoch 9: 0.056623\n",
            "\n"
          ]
        },
        {
          "output_type": "stream",
          "name": "stderr",
          "text": [
            "Train:  97%|█████████▋| 5256/5410 [01:27<00:02, 60.21it/s, accuracy=0.0312, train_loss=6.18]\n",
            "Evaluation:  31%|███       | 102/331 [02:44<06:09,  1.61s/it]"
          ]
        },
        {
          "output_type": "stream",
          "name": "stdout",
          "text": [
            "=*20\n",
            "\t - Recall@20 epoch 10: 0.224494\n",
            "\t - MRR@20    epoch 10: 0.056369\n",
            "\n"
          ]
        },
        {
          "output_type": "stream",
          "name": "stderr",
          "text": [
            "\n"
          ]
        }
      ]
    },
    {
      "cell_type": "code",
      "source": [
        "test_model(model_4, args_4, test)"
      ],
      "metadata": {
        "colab": {
          "base_uri": "https://localhost:8080/"
        },
        "id": "tL6V7DK4sT3i",
        "outputId": "dabd99ea-cbbd-4706-c69d-6105917293d1"
      },
      "execution_count": null,
      "outputs": [
        {
          "output_type": "stream",
          "name": "stderr",
          "text": [
            "Evaluation:  73%|███████▎  | 633/872 [16:53<06:22,  1.60s/it]"
          ]
        },
        {
          "output_type": "stream",
          "name": "stdout",
          "text": [
            "\t - Recall@20: 0.233499\n",
            "\t - MRR@20: 0.057398\n",
            "\n"
          ]
        },
        {
          "output_type": "stream",
          "name": "stderr",
          "text": [
            "\n"
          ]
        }
      ]
    },
    {
      "cell_type": "markdown",
      "source": [
        "##### 2) model_5(batch 128, units 50, Adam, lr 0.0005)"
      ],
      "metadata": {
        "id": "8U7C4FQ2sVJB"
      }
    },
    {
      "cell_type": "code",
      "source": [
        "args_5 = Args(train, val, test, batch_size=128, hsz=50, drop_rate=0.1, optimizer=Adam(0.0005), epochs=10, k=20)\n",
        "model_5 = create_model(args_5)"
      ],
      "metadata": {
        "colab": {
          "base_uri": "https://localhost:8080/"
        },
        "id": "3iUMThSQsHNn",
        "outputId": "c5df4358-f0d1-484f-b0da-4b833f43a722"
      },
      "execution_count": null,
      "outputs": [
        {
          "output_type": "stream",
          "name": "stdout",
          "text": [
            "Model: \"model_8\"\n",
            "_________________________________________________________________\n",
            " Layer (type)                Output Shape              Param #   \n",
            "=================================================================\n",
            " input_9 (InputLayer)        [(128, 1, 2155)]          0         \n",
            "                                                                 \n",
            " GRU (GRU)                   [(128, 50),               331050    \n",
            "                              (128, 50)]                         \n",
            "                                                                 \n",
            " dropout_8 (Dropout)         (128, 50)                 0         \n",
            "                                                                 \n",
            " dense_8 (Dense)             (128, 2155)               109905    \n",
            "                                                                 \n",
            "=================================================================\n",
            "Total params: 440,955\n",
            "Trainable params: 440,955\n",
            "Non-trainable params: 0\n",
            "_________________________________________________________________\n"
          ]
        }
      ]
    },
    {
      "cell_type": "code",
      "source": [
        "train_model(model_5, args_5)"
      ],
      "metadata": {
        "colab": {
          "base_uri": "https://localhost:8080/"
        },
        "id": "pnnjNCIcsTSa",
        "outputId": "49f9414e-d0b9-4a3e-a972-9038068b4d48"
      },
      "execution_count": null,
      "outputs": [
        {
          "output_type": "stream",
          "name": "stderr",
          "text": [
            "Train:  97%|█████████▋| 5256/5410 [01:28<00:02, 59.70it/s, accuracy=0.00781, train_loss=7.02]\n",
            "Evaluation:  31%|███       | 102/331 [02:58<06:41,  1.75s/it]\n"
          ]
        },
        {
          "output_type": "stream",
          "name": "stdout",
          "text": [
            "=*20\n",
            "\t - Recall@20 epoch 1: 0.067172\n",
            "\t - MRR@20    epoch 1: 0.013536\n",
            "\n"
          ]
        },
        {
          "output_type": "stream",
          "name": "stderr",
          "text": [
            "Train:  97%|█████████▋| 5256/5410 [01:26<00:02, 60.70it/s, accuracy=0, train_loss=6.63]\n",
            "Evaluation:  31%|███       | 102/331 [02:51<06:24,  1.68s/it]\n"
          ]
        },
        {
          "output_type": "stream",
          "name": "stdout",
          "text": [
            "=*20\n",
            "\t - Recall@20 epoch 2: 0.151654\n",
            "\t - MRR@20    epoch 2: 0.034329\n",
            "\n"
          ]
        },
        {
          "output_type": "stream",
          "name": "stderr",
          "text": [
            "Train:  97%|█████████▋| 5256/5410 [01:27<00:02, 59.93it/s, accuracy=0.0156, train_loss=6.4]\n",
            "Evaluation:  31%|███       | 102/331 [02:47<06:15,  1.64s/it]\n"
          ]
        },
        {
          "output_type": "stream",
          "name": "stdout",
          "text": [
            "=*20\n",
            "\t - Recall@20 epoch 3: 0.194623\n",
            "\t - MRR@20    epoch 3: 0.045706\n",
            "\n"
          ]
        },
        {
          "output_type": "stream",
          "name": "stderr",
          "text": [
            "Train:  97%|█████████▋| 5256/5410 [01:27<00:02, 59.94it/s, accuracy=0.0234, train_loss=6.36]\n",
            "Evaluation:  31%|███       | 102/331 [02:45<06:12,  1.63s/it]\n"
          ]
        },
        {
          "output_type": "stream",
          "name": "stdout",
          "text": [
            "=*20\n",
            "\t - Recall@20 epoch 4: 0.214231\n",
            "\t - MRR@20    epoch 4: 0.049576\n",
            "\n"
          ]
        },
        {
          "output_type": "stream",
          "name": "stderr",
          "text": [
            "Train:  97%|█████████▋| 5256/5410 [01:27<00:02, 60.30it/s, accuracy=0.0312, train_loss=6.33]\n",
            "Evaluation:  31%|███       | 102/331 [02:44<06:08,  1.61s/it]\n"
          ]
        },
        {
          "output_type": "stream",
          "name": "stdout",
          "text": [
            "=*20\n",
            "\t - Recall@20 epoch 5: 0.224265\n",
            "\t - MRR@20    epoch 5: 0.052303\n",
            "\n"
          ]
        },
        {
          "output_type": "stream",
          "name": "stderr",
          "text": [
            "Train:  97%|█████████▋| 5256/5410 [01:27<00:02, 60.37it/s, accuracy=0.0312, train_loss=6.31]\n",
            "Evaluation:  31%|███       | 102/331 [02:44<06:08,  1.61s/it]\n"
          ]
        },
        {
          "output_type": "stream",
          "name": "stdout",
          "text": [
            "=*20\n",
            "\t - Recall@20 epoch 6: 0.229550\n",
            "\t - MRR@20    epoch 6: 0.053435\n",
            "\n"
          ]
        },
        {
          "output_type": "stream",
          "name": "stderr",
          "text": [
            "Train:  97%|█████████▋| 5256/5410 [01:27<00:02, 59.83it/s, accuracy=0, train_loss=6.26]\n",
            "Evaluation:  31%|███       | 102/331 [02:44<06:09,  1.61s/it]\n"
          ]
        },
        {
          "output_type": "stream",
          "name": "stdout",
          "text": [
            "=*20\n",
            "\t - Recall@20 epoch 7: 0.236213\n",
            "\t - MRR@20    epoch 7: 0.054251\n",
            "\n"
          ]
        },
        {
          "output_type": "stream",
          "name": "stderr",
          "text": [
            "Train:  97%|█████████▋| 5256/5410 [01:27<00:02, 59.96it/s, accuracy=0.0234, train_loss=6.26]\n",
            "Evaluation:  31%|███       | 102/331 [02:43<06:07,  1.61s/it]\n"
          ]
        },
        {
          "output_type": "stream",
          "name": "stdout",
          "text": [
            "=*20\n",
            "\t - Recall@20 epoch 8: 0.237515\n",
            "\t - MRR@20    epoch 8: 0.055240\n",
            "\n"
          ]
        },
        {
          "output_type": "stream",
          "name": "stderr",
          "text": [
            "Train:  97%|█████████▋| 5256/5410 [01:27<00:02, 60.21it/s, accuracy=0.0156, train_loss=6.23]\n",
            "Evaluation:  31%|███       | 102/331 [02:44<06:09,  1.61s/it]\n"
          ]
        },
        {
          "output_type": "stream",
          "name": "stdout",
          "text": [
            "=*20\n",
            "\t - Recall@20 epoch 9: 0.239200\n",
            "\t - MRR@20    epoch 9: 0.056999\n",
            "\n"
          ]
        },
        {
          "output_type": "stream",
          "name": "stderr",
          "text": [
            "Train:  97%|█████████▋| 5256/5410 [01:28<00:02, 59.48it/s, accuracy=0.0156, train_loss=6.2]\n",
            "Evaluation:  31%|███       | 102/331 [02:44<06:08,  1.61s/it]"
          ]
        },
        {
          "output_type": "stream",
          "name": "stdout",
          "text": [
            "=*20\n",
            "\t - Recall@20 epoch 10: 0.240656\n",
            "\t - MRR@20    epoch 10: 0.058284\n",
            "\n"
          ]
        },
        {
          "output_type": "stream",
          "name": "stderr",
          "text": [
            "\n"
          ]
        }
      ]
    },
    {
      "cell_type": "code",
      "source": [
        "test_model(model_5, args_5, test)"
      ],
      "metadata": {
        "colab": {
          "base_uri": "https://localhost:8080/"
        },
        "id": "Q4qHO0YHsUXE",
        "outputId": "f7db95d9-7fa1-401b-f87b-3d5d36ca460e"
      },
      "execution_count": null,
      "outputs": [
        {
          "output_type": "stream",
          "name": "stderr",
          "text": [
            "Evaluation:  73%|███████▎  | 633/872 [16:46<06:19,  1.59s/it]"
          ]
        },
        {
          "output_type": "stream",
          "name": "stdout",
          "text": [
            "\t - Recall@20: 0.251753\n",
            "\t - MRR@20: 0.060254\n",
            "\n"
          ]
        },
        {
          "output_type": "stream",
          "name": "stderr",
          "text": [
            "\n"
          ]
        }
      ]
    },
    {
      "cell_type": "markdown",
      "source": [
        "##### 3) Compare"
      ],
      "metadata": {
        "id": "YC26hroX2Pvr"
      }
    },
    {
      "cell_type": "code",
      "source": [
        "plt.plot(model_recall_2)\n",
        "plt.plot(model_recall_4)\n",
        "plt.plot(model_recall_5)\n",
        "plt.title('Model Recall@20')\n",
        "plt.ylabel('Recall@20')\n",
        "plt.xlabel('epoch')\n",
        "plt.legend(['model_2', 'model_4', 'model_5'], loc='lower right')\n",
        "plt.show()\n",
        "\n",
        "plt.plot(model_mrr_2)\n",
        "plt.plot(model_mrr_4)\n",
        "plt.plot(model_mrr_5)\n",
        "plt.title('Model MRR@20')\n",
        "plt.ylabel('MRR@20')\n",
        "plt.xlabel('epoch')\n",
        "plt.legend(['model_2', 'model_4', 'model_5'], loc='lower right')\n",
        "plt.show()"
      ],
      "metadata": {
        "colab": {
          "base_uri": "https://localhost:8080/",
          "height": 573
        },
        "id": "fyF37DeO5yRX",
        "outputId": "d1dd2ad1-5ac0-4ca6-9695-99192a234d4b"
      },
      "execution_count": null,
      "outputs": [
        {
          "output_type": "display_data",
          "data": {
            "text/plain": [
              "<Figure size 432x288 with 1 Axes>"
            ],
            "image/png": "[encoded data removed]"
          },
          "metadata": {
            "needs_background": "light"
          }
        },
        {
          "output_type": "display_data",
          "data": {
            "text/plain": [
              "<Figure size 432x288 with 1 Axes>"
            ],
            "image/png": "[encoded data removed]"
          },
          "metadata": {
            "needs_background": "light"
          }
        }
      ]
    },
    {
      "cell_type": "markdown",
      "source": [
        "- 예상한 결과입니다.  \n",
        "- 시간을 고려하면 default인 0.001이 적당합니다만,  0.0005의 변화율을 봤을 때 더 많은 epochs로 학습하는 것도 좋아보입니다."
      ],
      "metadata": {
        "id": "dFTDu_qog4iX"
      }
    },
    {
      "cell_type": "markdown",
      "source": [
        "#### 1.6.4 Units"
      ],
      "metadata": {
        "id": "ayKLaIC_0viu"
      }
    },
    {
      "cell_type": "markdown",
      "source": [
        "- 이번에는 GRU 모델의 Units에 변화를 줬습니다.  \n",
        "당연히 model의 output와 total params의 갯수의 차이가 있을겁니다.  \n",
        "- 이번에도 시간관계상 batch 128을 기준으로 돌렸습니다."
      ],
      "metadata": {
        "id": "ubEBhCiihxeS"
      }
    },
    {
      "cell_type": "markdown",
      "source": [
        "##### 1) model_6(batch 128, units 20, Adam, lr 0.001)"
      ],
      "metadata": {
        "id": "BCS5d1w6zWj3"
      }
    },
    {
      "cell_type": "code",
      "source": [
        "args_6 = Args(train, val, test, batch_size=128, hsz=20, drop_rate=0.1, optimizer=Adam(0.001), epochs=10, k=20)\n",
        "model_6 = create_model(args_6)"
      ],
      "metadata": {
        "id": "uCpLhG7TaLch",
        "colab": {
          "base_uri": "https://localhost:8080/"
        },
        "outputId": "c97daf68-c7ad-4178-a3a1-7739a0c1326a"
      },
      "execution_count": null,
      "outputs": [
        {
          "output_type": "stream",
          "name": "stdout",
          "text": [
            "Model: \"model_9\"\n",
            "_________________________________________________________________\n",
            " Layer (type)                Output Shape              Param #   \n",
            "=================================================================\n",
            " input_10 (InputLayer)       [(128, 1, 2155)]          0         \n",
            "                                                                 \n",
            " GRU (GRU)                   [(128, 20),               130620    \n",
            "                              (128, 20)]                         \n",
            "                                                                 \n",
            " dropout_9 (Dropout)         (128, 20)                 0         \n",
            "                                                                 \n",
            " dense_9 (Dense)             (128, 2155)               45255     \n",
            "                                                                 \n",
            "=================================================================\n",
            "Total params: 175,875\n",
            "Trainable params: 175,875\n",
            "Non-trainable params: 0\n",
            "_________________________________________________________________\n"
          ]
        }
      ]
    },
    {
      "cell_type": "code",
      "source": [
        "train_model(model_6, args_6)"
      ],
      "metadata": {
        "colab": {
          "base_uri": "https://localhost:8080/"
        },
        "id": "6KaKZena_kP3",
        "outputId": "67766491-b19d-4806-b604-5a6412cb2d36"
      },
      "execution_count": null,
      "outputs": [
        {
          "output_type": "stream",
          "name": "stderr",
          "text": [
            "Train:  97%|█████████▋| 5256/5410 [01:27<00:02, 59.82it/s, accuracy=0.00781, train_loss=6.98]\n",
            "Evaluation:  31%|███       | 102/331 [02:56<06:36,  1.73s/it]\n"
          ]
        },
        {
          "output_type": "stream",
          "name": "stdout",
          "text": [
            "=*20\n",
            "\t - Recall@20 epoch 1: 0.075597\n",
            "\t - MRR@20    epoch 1: 0.014760\n",
            "\n"
          ]
        },
        {
          "output_type": "stream",
          "name": "stderr",
          "text": [
            "Train:  97%|█████████▋| 5256/5410 [01:27<00:02, 59.89it/s, accuracy=0.00781, train_loss=6.61]\n",
            "Evaluation:  31%|███       | 102/331 [02:49<06:20,  1.66s/it]\n"
          ]
        },
        {
          "output_type": "stream",
          "name": "stdout",
          "text": [
            "=*20\n",
            "\t - Recall@20 epoch 2: 0.155484\n",
            "\t - MRR@20    epoch 2: 0.034518\n",
            "\n"
          ]
        },
        {
          "output_type": "stream",
          "name": "stderr",
          "text": [
            "Train:  97%|█████████▋| 5256/5410 [01:25<00:02, 61.25it/s, accuracy=0.0156, train_loss=6.47]\n",
            "Evaluation:  31%|███       | 102/331 [02:46<06:12,  1.63s/it]\n"
          ]
        },
        {
          "output_type": "stream",
          "name": "stdout",
          "text": [
            "=*20\n",
            "\t - Recall@20 epoch 3: 0.193015\n",
            "\t - MRR@20    epoch 3: 0.043907\n",
            "\n"
          ]
        },
        {
          "output_type": "stream",
          "name": "stderr",
          "text": [
            "Train:  97%|█████████▋| 5256/5410 [01:29<00:02, 58.69it/s, accuracy=0.0234, train_loss=6.44]\n",
            "Evaluation:  31%|███       | 102/331 [02:46<06:14,  1.63s/it]\n"
          ]
        },
        {
          "output_type": "stream",
          "name": "stdout",
          "text": [
            "=*20\n",
            "\t - Recall@20 epoch 4: 0.207721\n",
            "\t - MRR@20    epoch 4: 0.047492\n",
            "\n"
          ]
        },
        {
          "output_type": "stream",
          "name": "stderr",
          "text": [
            "Train:  97%|█████████▋| 5256/5410 [01:27<00:02, 59.94it/s, accuracy=0.0156, train_loss=6.35]\n",
            "Evaluation:  31%|███       | 102/331 [02:45<06:11,  1.62s/it]\n"
          ]
        },
        {
          "output_type": "stream",
          "name": "stdout",
          "text": [
            "=*20\n",
            "\t - Recall@20 epoch 5: 0.217754\n",
            "\t - MRR@20    epoch 5: 0.049658\n",
            "\n"
          ]
        },
        {
          "output_type": "stream",
          "name": "stderr",
          "text": [
            "Train:  97%|█████████▋| 5256/5410 [01:26<00:02, 60.45it/s, accuracy=0.00781, train_loss=6.32]\n",
            "Evaluation:  31%|███       | 102/331 [02:45<06:11,  1.62s/it]\n"
          ]
        },
        {
          "output_type": "stream",
          "name": "stdout",
          "text": [
            "=*20\n",
            "\t - Recall@20 epoch 6: 0.220971\n",
            "\t - MRR@20    epoch 6: 0.051720\n",
            "\n"
          ]
        },
        {
          "output_type": "stream",
          "name": "stderr",
          "text": [
            "Train:  97%|█████████▋| 5256/5410 [01:27<00:02, 60.33it/s, accuracy=0.0234, train_loss=6.28]\n",
            "Evaluation:  31%|███       | 102/331 [02:45<06:12,  1.62s/it]\n"
          ]
        },
        {
          "output_type": "stream",
          "name": "stdout",
          "text": [
            "=*20\n",
            "\t - Recall@20 epoch 7: 0.224341\n",
            "\t - MRR@20    epoch 7: 0.052337\n",
            "\n"
          ]
        },
        {
          "output_type": "stream",
          "name": "stderr",
          "text": [
            "Train:  97%|█████████▋| 5256/5410 [01:27<00:02, 59.90it/s, accuracy=0.0156, train_loss=6.31]\n",
            "Evaluation:  31%|███       | 102/331 [02:46<06:13,  1.63s/it]\n"
          ]
        },
        {
          "output_type": "stream",
          "name": "stdout",
          "text": [
            "=*20\n",
            "\t - Recall@20 epoch 8: 0.227175\n",
            "\t - MRR@20    epoch 8: 0.052932\n",
            "\n"
          ]
        },
        {
          "output_type": "stream",
          "name": "stderr",
          "text": [
            "Train:  97%|█████████▋| 5256/5410 [01:28<00:02, 59.09it/s, accuracy=0.0234, train_loss=6.23]\n",
            "Evaluation:  31%|███       | 102/331 [02:45<06:11,  1.62s/it]\n"
          ]
        },
        {
          "output_type": "stream",
          "name": "stdout",
          "text": [
            "=*20\n",
            "\t - Recall@20 epoch 9: 0.231388\n",
            "\t - MRR@20    epoch 9: 0.053894\n",
            "\n"
          ]
        },
        {
          "output_type": "stream",
          "name": "stderr",
          "text": [
            "Train:  97%|█████████▋| 5256/5410 [01:28<00:02, 59.25it/s, accuracy=0.00781, train_loss=6.2]\n",
            "Evaluation:  31%|███       | 102/331 [02:45<06:11,  1.62s/it]"
          ]
        },
        {
          "output_type": "stream",
          "name": "stdout",
          "text": [
            "=*20\n",
            "\t - Recall@20 epoch 10: 0.230928\n",
            "\t - MRR@20    epoch 10: 0.054021\n",
            "\n"
          ]
        },
        {
          "output_type": "stream",
          "name": "stderr",
          "text": [
            "\n"
          ]
        }
      ]
    },
    {
      "cell_type": "code",
      "source": [
        "test_model(model_6, args_6, test)"
      ],
      "metadata": {
        "colab": {
          "base_uri": "https://localhost:8080/"
        },
        "id": "5AQX3KOp_5sy",
        "outputId": "5e2efbdd-a133-43b6-902d-91053d50bbf7"
      },
      "execution_count": null,
      "outputs": [
        {
          "output_type": "stream",
          "name": "stderr",
          "text": [
            "Evaluation:  73%|███████▎  | 633/872 [17:00<06:25,  1.61s/it]"
          ]
        },
        {
          "output_type": "stream",
          "name": "stdout",
          "text": [
            "\t - Recall@20: 0.238473\n",
            "\t - MRR@20: 0.055484\n",
            "\n"
          ]
        },
        {
          "output_type": "stream",
          "name": "stderr",
          "text": [
            "\n"
          ]
        }
      ]
    },
    {
      "cell_type": "markdown",
      "source": [
        "##### 2) model_7(batch 128, units 100, Adam, lr 0.001)"
      ],
      "metadata": {
        "id": "oO9rY1jJzWhN"
      }
    },
    {
      "cell_type": "code",
      "source": [
        "args_7 = Args(train, val, test, batch_size=128, hsz=100, drop_rate=0.1, optimizer=Adam(0.001), epochs=10, k=20)\n",
        "model_7 = create_model(args_7)"
      ],
      "metadata": {
        "id": "ZooH7p5NaL04",
        "colab": {
          "base_uri": "https://localhost:8080/"
        },
        "outputId": "cc68c822-024c-4432-de3f-188145151fb5"
      },
      "execution_count": null,
      "outputs": [
        {
          "output_type": "stream",
          "name": "stdout",
          "text": [
            "Model: \"model_10\"\n",
            "_________________________________________________________________\n",
            " Layer (type)                Output Shape              Param #   \n",
            "=================================================================\n",
            " input_11 (InputLayer)       [(128, 1, 2155)]          0         \n",
            "                                                                 \n",
            " GRU (GRU)                   [(128, 100),              677100    \n",
            "                              (128, 100)]                        \n",
            "                                                                 \n",
            " dropout_10 (Dropout)        (128, 100)                0         \n",
            "                                                                 \n",
            " dense_10 (Dense)            (128, 2155)               217655    \n",
            "                                                                 \n",
            "=================================================================\n",
            "Total params: 894,755\n",
            "Trainable params: 894,755\n",
            "Non-trainable params: 0\n",
            "_________________________________________________________________\n"
          ]
        }
      ]
    },
    {
      "cell_type": "code",
      "source": [
        "train_model(model_7, args_7)"
      ],
      "metadata": {
        "colab": {
          "base_uri": "https://localhost:8080/"
        },
        "id": "QVvHXc2y_8Rz",
        "outputId": "179b5080-b500-4176-dc5c-0a62957c8ff5"
      },
      "execution_count": null,
      "outputs": [
        {
          "output_type": "stream",
          "name": "stderr",
          "text": [
            "Train:  97%|█████████▋| 5256/5410 [01:30<00:02, 57.80it/s, accuracy=0.00781, train_loss=6.39]\n",
            "Evaluation:  31%|███       | 102/331 [02:50<06:23,  1.67s/it]\n"
          ]
        },
        {
          "output_type": "stream",
          "name": "stdout",
          "text": [
            "=*20\n",
            "\t - Recall@20 epoch 1: 0.190870\n",
            "\t - MRR@20    epoch 1: 0.044498\n",
            "\n"
          ]
        },
        {
          "output_type": "stream",
          "name": "stderr",
          "text": [
            "Train:  97%|█████████▋| 5256/5410 [01:29<00:02, 59.04it/s, accuracy=0.0156, train_loss=6.28]\n",
            "Evaluation:  31%|███       | 102/331 [02:46<06:13,  1.63s/it]\n"
          ]
        },
        {
          "output_type": "stream",
          "name": "stdout",
          "text": [
            "=*20\n",
            "\t - Recall@20 epoch 2: 0.225567\n",
            "\t - MRR@20    epoch 2: 0.052763\n",
            "\n"
          ]
        },
        {
          "output_type": "stream",
          "name": "stderr",
          "text": [
            "Train:  97%|█████████▋| 5256/5410 [01:29<00:02, 58.73it/s, accuracy=0.0156, train_loss=6.2]\n",
            "Evaluation:  31%|███       | 102/331 [02:45<06:10,  1.62s/it]\n"
          ]
        },
        {
          "output_type": "stream",
          "name": "stdout",
          "text": [
            "=*20\n",
            "\t - Recall@20 epoch 3: 0.235754\n",
            "\t - MRR@20    epoch 3: 0.057187\n",
            "\n"
          ]
        },
        {
          "output_type": "stream",
          "name": "stderr",
          "text": [
            "Train:  97%|█████████▋| 5256/5410 [01:29<00:02, 58.87it/s, accuracy=0.0312, train_loss=6.15]\n",
            "Evaluation:  31%|███       | 102/331 [02:44<06:09,  1.61s/it]\n"
          ]
        },
        {
          "output_type": "stream",
          "name": "stdout",
          "text": [
            "=*20\n",
            "\t - Recall@20 epoch 4: 0.237898\n",
            "\t - MRR@20    epoch 4: 0.059704\n",
            "\n"
          ]
        },
        {
          "output_type": "stream",
          "name": "stderr",
          "text": [
            "Train:  97%|█████████▋| 5256/5410 [01:29<00:02, 58.87it/s, accuracy=0.0156, train_loss=6.09]\n",
            "Evaluation:  31%|███       | 102/331 [02:44<06:08,  1.61s/it]\n"
          ]
        },
        {
          "output_type": "stream",
          "name": "stdout",
          "text": [
            "=*20\n",
            "\t - Recall@20 epoch 5: 0.240349\n",
            "\t - MRR@20    epoch 5: 0.061045\n",
            "\n"
          ]
        },
        {
          "output_type": "stream",
          "name": "stderr",
          "text": [
            "Train:  97%|█████████▋| 5256/5410 [01:29<00:02, 58.71it/s, accuracy=0.0312, train_loss=6.04]\n",
            "Evaluation:  31%|███       | 102/331 [02:43<06:07,  1.60s/it]\n"
          ]
        },
        {
          "output_type": "stream",
          "name": "stdout",
          "text": [
            "=*20\n",
            "\t - Recall@20 epoch 6: 0.243336\n",
            "\t - MRR@20    epoch 6: 0.061815\n",
            "\n"
          ]
        },
        {
          "output_type": "stream",
          "name": "stderr",
          "text": [
            "Train:  97%|█████████▋| 5256/5410 [01:29<00:02, 58.81it/s, accuracy=0.0312, train_loss=6.04]\n",
            "Evaluation:  31%|███       | 102/331 [02:43<06:07,  1.61s/it]\n"
          ]
        },
        {
          "output_type": "stream",
          "name": "stdout",
          "text": [
            "=*20\n",
            "\t - Recall@20 epoch 7: 0.242188\n",
            "\t - MRR@20    epoch 7: 0.061562\n",
            "\n"
          ]
        },
        {
          "output_type": "stream",
          "name": "stderr",
          "text": [
            "Train:  97%|█████████▋| 5256/5410 [01:30<00:02, 58.24it/s, accuracy=0.0234, train_loss=5.94]\n",
            "Evaluation:  31%|███       | 102/331 [02:43<06:06,  1.60s/it]\n"
          ]
        },
        {
          "output_type": "stream",
          "name": "stdout",
          "text": [
            "=*20\n",
            "\t - Recall@20 epoch 8: 0.240656\n",
            "\t - MRR@20    epoch 8: 0.061244\n",
            "\n"
          ]
        },
        {
          "output_type": "stream",
          "name": "stderr",
          "text": [
            "Train:  97%|█████████▋| 5256/5410 [01:29<00:02, 58.77it/s, accuracy=0.0391, train_loss=5.9]\n",
            "Evaluation:  31%|███       | 102/331 [02:43<06:08,  1.61s/it]\n"
          ]
        },
        {
          "output_type": "stream",
          "name": "stdout",
          "text": [
            "=*20\n",
            "\t - Recall@20 epoch 9: 0.237669\n",
            "\t - MRR@20    epoch 9: 0.061150\n",
            "\n"
          ]
        },
        {
          "output_type": "stream",
          "name": "stderr",
          "text": [
            "Train:  97%|█████████▋| 5256/5410 [01:31<00:02, 57.73it/s, accuracy=0.0312, train_loss=5.94]\n",
            "Evaluation:  31%|███       | 102/331 [02:43<06:07,  1.60s/it]"
          ]
        },
        {
          "output_type": "stream",
          "name": "stdout",
          "text": [
            "=*20\n",
            "\t - Recall@20 epoch 10: 0.237209\n",
            "\t - MRR@20    epoch 10: 0.060325\n",
            "\n"
          ]
        },
        {
          "output_type": "stream",
          "name": "stderr",
          "text": [
            "\n"
          ]
        }
      ]
    },
    {
      "cell_type": "code",
      "source": [
        "test_model(model_7, args_7, test)"
      ],
      "metadata": {
        "colab": {
          "base_uri": "https://localhost:8080/"
        },
        "id": "yGjX7t-t_8Rz",
        "outputId": "d7829fe9-ca13-4482-aa39-10651f914f11"
      },
      "execution_count": null,
      "outputs": [
        {
          "output_type": "stream",
          "name": "stderr",
          "text": [
            "Evaluation:  73%|███████▎  | 633/872 [16:48<06:20,  1.59s/it]"
          ]
        },
        {
          "output_type": "stream",
          "name": "stdout",
          "text": [
            "\t - Recall@20: 0.248531\n",
            "\t - MRR@20: 0.062684\n",
            "\n"
          ]
        },
        {
          "output_type": "stream",
          "name": "stderr",
          "text": [
            "\n"
          ]
        }
      ]
    },
    {
      "cell_type": "markdown",
      "source": [
        "##### 3) Compare"
      ],
      "metadata": {
        "id": "3vi0XKhT2SNI"
      }
    },
    {
      "cell_type": "code",
      "source": [
        "plt.plot(model_recall_2)\n",
        "plt.plot(model_recall_6)\n",
        "plt.plot(model_recall_7)\n",
        "plt.title('Model Recall@20')\n",
        "plt.ylabel('Recall@20')\n",
        "plt.xlabel('epoch')\n",
        "plt.legend(['model_2', 'model_6', 'model_7'], loc='lower right')\n",
        "plt.show()\n",
        "\n",
        "plt.plot(model_mrr_2)\n",
        "plt.plot(model_mrr_6)\n",
        "plt.plot(model_mrr_7)\n",
        "plt.title('Model MRR@20')\n",
        "plt.ylabel('MRR@20')\n",
        "plt.xlabel('epoch')\n",
        "plt.legend(['model_2', 'model_6', 'model_7'], loc='lower right')\n",
        "plt.show()"
      ],
      "metadata": {
        "colab": {
          "base_uri": "https://localhost:8080/",
          "height": 573
        },
        "id": "9sxXUVnj53-x",
        "outputId": "31881855-d634-4c49-da20-dfdc576a1db2"
      },
      "execution_count": null,
      "outputs": [
        {
          "output_type": "display_data",
          "data": {
            "text/plain": [
              "<Figure size 432x288 with 1 Axes>"
            ],
            "image/png": "[encoded data removed]"
          },
          "metadata": {
            "needs_background": "light"
          }
        },
        {
          "output_type": "display_data",
          "data": {
            "text/plain": [
              "<Figure size 432x288 with 1 Axes>"
            ],
            "image/png": "[encoded data removed]"
          },
          "metadata": {
            "needs_background": "light"
          }
        }
      ]
    },
    {
      "cell_type": "markdown",
      "source": [
        "- unit의 수가 너무 낮으면 모델의 성능이 좋지 못합니다.\n",
        "- 너무 높아도 큰 의미가 없다는 것도 확인할 수 있습니다."
      ],
      "metadata": {
        "id": "zA8KcWQjjqik"
      }
    },
    {
      "cell_type": "markdown",
      "source": [
        "#### 1.6.5 Optimizer"
      ],
      "metadata": {
        "id": "HWKak5-D05UZ"
      }
    },
    {
      "cell_type": "markdown",
      "source": [
        "- 이번에는 제가 제일 좋아하는 optimizer에 변화를 줍니다.\n",
        "- 마찬가지로 시간관계상 batch 128을 기준으로 돌립니다."
      ],
      "metadata": {
        "id": "BmDYI3QAj9zI"
      }
    },
    {
      "cell_type": "markdown",
      "source": [
        "##### 1) model_8(batch 128, units 100, Nadam, lr 0.0005)"
      ],
      "metadata": {
        "id": "WaMMXAG2zWe5"
      }
    },
    {
      "cell_type": "code",
      "source": [
        "args_8 = Args(train, val, test, batch_size=128, hsz=100, drop_rate=0.1, optimizer=Nadam(0.0005), epochs=10, k=20)\n",
        "model_8 = create_model(args_8)"
      ],
      "metadata": {
        "id": "QrVHgttjtWmM",
        "colab": {
          "base_uri": "https://localhost:8080/"
        },
        "outputId": "f76c498c-aea5-4323-a983-9c8ed3921c63"
      },
      "execution_count": null,
      "outputs": [
        {
          "output_type": "stream",
          "name": "stdout",
          "text": [
            "Model: \"model\"\n",
            "_________________________________________________________________\n",
            " Layer (type)                Output Shape              Param #   \n",
            "=================================================================\n",
            " input_1 (InputLayer)        [(128, 1, 2155)]          0         \n",
            "                                                                 \n",
            " GRU (GRU)                   [(128, 100),              677100    \n",
            "                              (128, 100)]                        \n",
            "                                                                 \n",
            " dropout (Dropout)           (128, 100)                0         \n",
            "                                                                 \n",
            " dense (Dense)               (128, 2155)               217655    \n",
            "                                                                 \n",
            "=================================================================\n",
            "Total params: 894,755\n",
            "Trainable params: 894,755\n",
            "Non-trainable params: 0\n",
            "_________________________________________________________________\n"
          ]
        }
      ]
    },
    {
      "cell_type": "code",
      "source": [
        "train_model(model_8, args_8)"
      ],
      "metadata": {
        "id": "B7iWxlc-t1yI",
        "colab": {
          "base_uri": "https://localhost:8080/"
        },
        "outputId": "b38b1432-21d7-415d-d547-450ba905a65b"
      },
      "execution_count": null,
      "outputs": [
        {
          "output_type": "stream",
          "name": "stderr",
          "text": [
            "Train:  97%|█████████▋| 5256/5410 [01:45<00:03, 50.04it/s, accuracy=0, train_loss=6.77]\n",
            "Evaluation:  31%|███       | 102/331 [02:58<06:41,  1.75s/it]\n"
          ]
        },
        {
          "output_type": "stream",
          "name": "stdout",
          "text": [
            "=\n",
            "\t - Recall@20 epoch 1: 0.123545\n",
            "\t - MRR@20    epoch 1: 0.027775\n",
            "\n"
          ]
        },
        {
          "output_type": "stream",
          "name": "stderr",
          "text": [
            "Train:  97%|█████████▋| 5256/5410 [01:36<00:02, 54.42it/s, accuracy=0.0234, train_loss=6.4]\n",
            "Evaluation:  31%|███       | 102/331 [02:50<06:22,  1.67s/it]\n"
          ]
        },
        {
          "output_type": "stream",
          "name": "stdout",
          "text": [
            "=\n",
            "\t - Recall@20 epoch 2: 0.196002\n",
            "\t - MRR@20    epoch 2: 0.045607\n",
            "\n"
          ]
        },
        {
          "output_type": "stream",
          "name": "stderr",
          "text": [
            "Train:  97%|█████████▋| 5256/5410 [01:35<00:02, 55.24it/s, accuracy=0.0156, train_loss=6.32]\n",
            "Evaluation:  31%|███       | 102/331 [02:46<06:14,  1.63s/it]\n"
          ]
        },
        {
          "output_type": "stream",
          "name": "stdout",
          "text": [
            "=\n",
            "\t - Recall@20 epoch 3: 0.221278\n",
            "\t - MRR@20    epoch 3: 0.052273\n",
            "\n"
          ]
        },
        {
          "output_type": "stream",
          "name": "stderr",
          "text": [
            "Train:  97%|█████████▋| 5256/5410 [01:35<00:02, 55.22it/s, accuracy=0.0234, train_loss=6.27]\n",
            "Evaluation:  31%|███       | 102/331 [02:45<06:11,  1.62s/it]\n"
          ]
        },
        {
          "output_type": "stream",
          "name": "stdout",
          "text": [
            "=\n",
            "\t - Recall@20 epoch 4: 0.233839\n",
            "\t - MRR@20    epoch 4: 0.055834\n",
            "\n"
          ]
        },
        {
          "output_type": "stream",
          "name": "stderr",
          "text": [
            "Train:  97%|█████████▋| 5256/5410 [01:36<00:02, 54.50it/s, accuracy=0.0156, train_loss=6.19]\n",
            "Evaluation:  31%|███       | 102/331 [02:43<06:06,  1.60s/it]\n"
          ]
        },
        {
          "output_type": "stream",
          "name": "stdout",
          "text": [
            "=\n",
            "\t - Recall@20 epoch 5: 0.237745\n",
            "\t - MRR@20    epoch 5: 0.058064\n",
            "\n"
          ]
        },
        {
          "output_type": "stream",
          "name": "stderr",
          "text": [
            "Train:  97%|█████████▋| 5256/5410 [01:35<00:02, 55.23it/s, accuracy=0.00781, train_loss=6.22]\n",
            "Evaluation:  31%|███       | 102/331 [02:44<06:08,  1.61s/it]\n"
          ]
        },
        {
          "output_type": "stream",
          "name": "stdout",
          "text": [
            "=\n",
            "\t - Recall@20 epoch 6: 0.243490\n",
            "\t - MRR@20    epoch 6: 0.059528\n",
            "\n"
          ]
        },
        {
          "output_type": "stream",
          "name": "stderr",
          "text": [
            "Train:  97%|█████████▋| 5256/5410 [01:34<00:02, 55.51it/s, accuracy=0.0312, train_loss=6.15]\n",
            "Evaluation:  31%|███       | 102/331 [02:43<06:07,  1.60s/it]\n"
          ]
        },
        {
          "output_type": "stream",
          "name": "stdout",
          "text": [
            "=\n",
            "\t - Recall@20 epoch 7: 0.243490\n",
            "\t - MRR@20    epoch 7: 0.060953\n",
            "\n"
          ]
        },
        {
          "output_type": "stream",
          "name": "stderr",
          "text": [
            "Train:  97%|█████████▋| 5256/5410 [01:35<00:02, 55.25it/s, accuracy=0.0234, train_loss=6.11]\n",
            "Evaluation:  31%|███       | 102/331 [02:43<06:07,  1.61s/it]\n"
          ]
        },
        {
          "output_type": "stream",
          "name": "stdout",
          "text": [
            "=\n",
            "\t - Recall@20 epoch 8: 0.244332\n",
            "\t - MRR@20    epoch 8: 0.061242\n",
            "\n"
          ]
        },
        {
          "output_type": "stream",
          "name": "stderr",
          "text": [
            "Train:  97%|█████████▋| 5256/5410 [01:37<00:02, 54.02it/s, accuracy=0.0391, train_loss=6.06]\n",
            "Evaluation:  31%|███       | 102/331 [02:43<06:06,  1.60s/it]\n"
          ]
        },
        {
          "output_type": "stream",
          "name": "stdout",
          "text": [
            "=\n",
            "\t - Recall@20 epoch 9: 0.244409\n",
            "\t - MRR@20    epoch 9: 0.062102\n",
            "\n"
          ]
        },
        {
          "output_type": "stream",
          "name": "stderr",
          "text": [
            "Train:  97%|█████████▋| 5256/5410 [01:35<00:02, 55.12it/s, accuracy=0.0547, train_loss=6.05]\n",
            "Evaluation:  31%|███       | 102/331 [02:42<06:04,  1.59s/it]"
          ]
        },
        {
          "output_type": "stream",
          "name": "stdout",
          "text": [
            "=\n",
            "\t - Recall@20 epoch 10: 0.244715\n",
            "\t - MRR@20    epoch 10: 0.062387\n",
            "\n"
          ]
        },
        {
          "output_type": "stream",
          "name": "stderr",
          "text": [
            "\n"
          ]
        }
      ]
    },
    {
      "cell_type": "code",
      "source": [
        "test_model(model_8, args_8, test)"
      ],
      "metadata": {
        "id": "kRqjjcYZt1yJ",
        "colab": {
          "base_uri": "https://localhost:8080/"
        },
        "outputId": "6b588d5b-578f-4eb3-f1b3-4d92c6a079a4"
      },
      "execution_count": null,
      "outputs": [
        {
          "output_type": "stream",
          "name": "stderr",
          "text": [
            "Evaluation:  73%|███████▎  | 633/872 [17:19<06:32,  1.64s/it]"
          ]
        },
        {
          "output_type": "stream",
          "name": "stdout",
          "text": [
            "\t - Recall@20: 0.253184\n",
            "\t - MRR@20: 0.063782\n",
            "\n"
          ]
        },
        {
          "output_type": "stream",
          "name": "stderr",
          "text": [
            "\n"
          ]
        }
      ]
    },
    {
      "cell_type": "markdown",
      "source": [
        "##### 2) model_9(batch 128, units 100, RMSprop, lr 0.0005)"
      ],
      "metadata": {
        "id": "ZFfcaYOCzWcQ"
      }
    },
    {
      "cell_type": "code",
      "source": [
        "args_9 = Args(train, val, test, batch_size=128, hsz=100, drop_rate=0.1, optimizer=RMSprop(0.0005), epochs=10, k=20)\n",
        "model_9 = create_model(args_9)"
      ],
      "metadata": {
        "id": "E3ytF33YtGsr",
        "colab": {
          "base_uri": "https://localhost:8080/"
        },
        "outputId": "840bc59c-5181-4b21-b8d5-90f8ddcc9e1e"
      },
      "execution_count": null,
      "outputs": [
        {
          "output_type": "stream",
          "name": "stdout",
          "text": [
            "Model: \"model_1\"\n",
            "_________________________________________________________________\n",
            " Layer (type)                Output Shape              Param #   \n",
            "=================================================================\n",
            " input_2 (InputLayer)        [(128, 1, 2155)]          0         \n",
            "                                                                 \n",
            " GRU (GRU)                   [(128, 100),              677100    \n",
            "                              (128, 100)]                        \n",
            "                                                                 \n",
            " dropout_1 (Dropout)         (128, 100)                0         \n",
            "                                                                 \n",
            " dense_1 (Dense)             (128, 2155)               217655    \n",
            "                                                                 \n",
            "=================================================================\n",
            "Total params: 894,755\n",
            "Trainable params: 894,755\n",
            "Non-trainable params: 0\n",
            "_________________________________________________________________\n"
          ]
        }
      ]
    },
    {
      "cell_type": "code",
      "source": [
        "train_model(model_9, args_9)"
      ],
      "metadata": {
        "id": "5zvuhJpTt2M-",
        "colab": {
          "base_uri": "https://localhost:8080/"
        },
        "outputId": "fdfc125b-7a31-4b91-e245-e337710e6b55"
      },
      "execution_count": null,
      "outputs": [
        {
          "output_type": "stream",
          "name": "stderr",
          "text": [
            "Train:  97%|█████████▋| 5256/5410 [01:46<00:03, 49.31it/s, accuracy=0.00781, train_loss=7.02]\n",
            "Evaluation:  31%|███       | 102/331 [03:09<07:06,  1.86s/it]\n"
          ]
        },
        {
          "output_type": "stream",
          "name": "stdout",
          "text": [
            "=\n",
            "\t - Recall@20 epoch 1: 0.079197\n",
            "\t - MRR@20    epoch 1: 0.016626\n",
            "\n"
          ]
        },
        {
          "output_type": "stream",
          "name": "stderr",
          "text": [
            "Train:  97%|█████████▋| 5256/5410 [01:30<00:02, 57.79it/s, accuracy=0, train_loss=6.84]\n",
            "Evaluation:  31%|███       | 102/331 [02:55<06:33,  1.72s/it]\n"
          ]
        },
        {
          "output_type": "stream",
          "name": "stdout",
          "text": [
            "=\n",
            "\t - Recall@20 epoch 2: 0.122396\n",
            "\t - MRR@20    epoch 2: 0.027231\n",
            "\n"
          ]
        },
        {
          "output_type": "stream",
          "name": "stderr",
          "text": [
            "Train:  97%|█████████▋| 5256/5410 [01:31<00:02, 57.65it/s, accuracy=0.00781, train_loss=6.79]\n",
            "Evaluation:  31%|███       | 102/331 [03:02<06:49,  1.79s/it]\n"
          ]
        },
        {
          "output_type": "stream",
          "name": "stdout",
          "text": [
            "=\n",
            "\t - Recall@20 epoch 3: 0.147901\n",
            "\t - MRR@20    epoch 3: 0.034684\n",
            "\n"
          ]
        },
        {
          "output_type": "stream",
          "name": "stderr",
          "text": [
            "Train:  97%|█████████▋| 5256/5410 [01:43<00:03, 50.69it/s, accuracy=0.00781, train_loss=6.72]\n",
            "Evaluation:  31%|███       | 102/331 [02:55<06:34,  1.72s/it]\n"
          ]
        },
        {
          "output_type": "stream",
          "name": "stdout",
          "text": [
            "=\n",
            "\t - Recall@20 epoch 4: 0.167433\n",
            "\t - MRR@20    epoch 4: 0.039437\n",
            "\n"
          ]
        },
        {
          "output_type": "stream",
          "name": "stderr",
          "text": [
            "Train:  97%|█████████▋| 5256/5410 [01:49<00:03, 47.98it/s, accuracy=0.0156, train_loss=6.81]\n",
            "Evaluation:  31%|███       | 102/331 [03:01<06:47,  1.78s/it]\n"
          ]
        },
        {
          "output_type": "stream",
          "name": "stdout",
          "text": [
            "=\n",
            "\t - Recall@20 epoch 5: 0.170190\n",
            "\t - MRR@20    epoch 5: 0.039383\n",
            "\n"
          ]
        },
        {
          "output_type": "stream",
          "name": "stderr",
          "text": [
            "Train:  97%|█████████▋| 5256/5410 [01:32<00:02, 56.88it/s, accuracy=0.0234, train_loss=6.84]\n",
            "Evaluation:  31%|███       | 102/331 [02:51<06:23,  1.68s/it]\n"
          ]
        },
        {
          "output_type": "stream",
          "name": "stdout",
          "text": [
            "=\n",
            "\t - Recall@20 epoch 6: 0.180913\n",
            "\t - MRR@20    epoch 6: 0.041973\n",
            "\n"
          ]
        },
        {
          "output_type": "stream",
          "name": "stderr",
          "text": [
            "Train:  97%|█████████▋| 5256/5410 [01:34<00:02, 55.48it/s, accuracy=0.0156, train_loss=6.84]\n",
            "Evaluation:  31%|███       | 102/331 [02:51<06:26,  1.69s/it]\n"
          ]
        },
        {
          "output_type": "stream",
          "name": "stdout",
          "text": [
            "=\n",
            "\t - Recall@20 epoch 7: 0.183670\n",
            "\t - MRR@20    epoch 7: 0.043208\n",
            "\n"
          ]
        },
        {
          "output_type": "stream",
          "name": "stderr",
          "text": [
            "Train:  97%|█████████▋| 5256/5410 [01:31<00:02, 57.14it/s, accuracy=0.0234, train_loss=6.8]\n",
            "Evaluation:  31%|███       | 102/331 [02:52<06:28,  1.69s/it]\n"
          ]
        },
        {
          "output_type": "stream",
          "name": "stdout",
          "text": [
            "=\n",
            "\t - Recall@20 epoch 8: 0.186887\n",
            "\t - MRR@20    epoch 8: 0.044635\n",
            "\n"
          ]
        },
        {
          "output_type": "stream",
          "name": "stderr",
          "text": [
            "Train:  97%|█████████▋| 5256/5410 [01:32<00:02, 56.57it/s, accuracy=0.00781, train_loss=6.8]\n",
            "Evaluation:  31%|███       | 102/331 [02:50<06:22,  1.67s/it]\n"
          ]
        },
        {
          "output_type": "stream",
          "name": "stdout",
          "text": [
            "=\n",
            "\t - Recall@20 epoch 9: 0.188343\n",
            "\t - MRR@20    epoch 9: 0.044729\n",
            "\n"
          ]
        },
        {
          "output_type": "stream",
          "name": "stderr",
          "text": [
            "Train:  97%|█████████▋| 5256/5410 [01:34<00:02, 55.60it/s, accuracy=0.0156, train_loss=6.8]\n",
            "Evaluation:  31%|███       | 102/331 [02:49<06:21,  1.66s/it]"
          ]
        },
        {
          "output_type": "stream",
          "name": "stdout",
          "text": [
            "=\n",
            "\t - Recall@20 epoch 10: 0.190640\n",
            "\t - MRR@20    epoch 10: 0.045282\n",
            "\n"
          ]
        },
        {
          "output_type": "stream",
          "name": "stderr",
          "text": [
            "\n"
          ]
        }
      ]
    },
    {
      "cell_type": "code",
      "source": [
        "test_model(model_9, args_9, test)"
      ],
      "metadata": {
        "id": "5b2jujf0t2M_",
        "colab": {
          "base_uri": "https://localhost:8080/"
        },
        "outputId": "a7a3babe-079c-4744-a4ef-551300115973"
      },
      "execution_count": null,
      "outputs": [
        {
          "output_type": "stream",
          "name": "stderr",
          "text": [
            "Evaluation:  73%|███████▎  | 633/872 [17:42<06:41,  1.68s/it]"
          ]
        },
        {
          "output_type": "stream",
          "name": "stdout",
          "text": [
            "\t - Recall@20: 0.199163\n",
            "\t - MRR@20: 0.048002\n",
            "\n"
          ]
        },
        {
          "output_type": "stream",
          "name": "stderr",
          "text": [
            "\n"
          ]
        }
      ]
    },
    {
      "cell_type": "markdown",
      "source": [
        "##### 3) Compare"
      ],
      "metadata": {
        "id": "80ZwQI1S2UJc"
      }
    },
    {
      "cell_type": "code",
      "source": [
        "plt.plot(model_recall_5)\n",
        "plt.plot(model_recall_8)\n",
        "plt.plot(model_recall_9)\n",
        "plt.title('Model Recall@20')\n",
        "plt.ylabel('Recall@20')\n",
        "plt.xlabel('epoch')\n",
        "plt.legend(['model_5', 'model_8', 'model_9'], loc='lower right')\n",
        "plt.show()\n",
        "\n",
        "plt.plot(model_mrr_5)\n",
        "plt.plot(model_mrr_8)\n",
        "plt.plot(model_mrr_9)\n",
        "plt.title('Model MRR@20')\n",
        "plt.ylabel('MRR@20')\n",
        "plt.xlabel('epoch')\n",
        "plt.legend(['model_5', 'model_8', 'model_9'], loc='lower right')\n",
        "plt.show()"
      ],
      "metadata": {
        "colab": {
          "base_uri": "https://localhost:8080/",
          "height": 573
        },
        "id": "AYQM8J8C6APO",
        "outputId": "a3fdcccf-2d48-46ab-cd80-aec4e44719a2"
      },
      "execution_count": null,
      "outputs": [
        {
          "output_type": "display_data",
          "data": {
            "text/plain": [
              "<Figure size 432x288 with 1 Axes>"
            ],
            "image/png": "[encoded data removed]"
          },
          "metadata": {
            "needs_background": "light"
          }
        },
        {
          "output_type": "display_data",
          "data": {
            "text/plain": [
              "<Figure size 432x288 with 1 Axes>"
            ],
            "image/png": "[encoded data removed]"
          },
          "metadata": {
            "needs_background": "light"
          }
        }
      ]
    },
    {
      "cell_type": "markdown",
      "source": [
        "- RMSprop은 이번에는 적절하지 못한 Optimizer인 것 같습니다.  \n",
        "- Nadam이 Adam보다 목표값에 더 빨리 도달하는 모습을 보입니다."
      ],
      "metadata": {
        "id": "OmuRtUTEkpky"
      }
    },
    {
      "cell_type": "markdown",
      "source": [
        "### 1.7 Conclusion"
      ],
      "metadata": {
        "id": "1ZTLOMM0zWZr"
      }
    },
    {
      "cell_type": "markdown",
      "source": [
        "#### 1.7.1 Recall"
      ],
      "metadata": {
        "id": "u99wph95p1Uk"
      }
    },
    {
      "cell_type": "markdown",
      "source": [
        "- testset으로 돌린 모델에서 recall 값이 가장 좋은 모델은 model_8입니다.  \n",
        "(batch_size=128, hsz=100, drop_rate=0.1, optimizer=Nadam(0.0005), epochs=10, k=20)"
      ],
      "metadata": {
        "id": "GLc2QuAKp7EC"
      }
    },
    {
      "cell_type": "code",
      "source": [
        "plt.bar(x, model_recall_test, color=colors)\n",
        "plt.xticks(x, model_label)\n",
        "plt.show()"
      ],
      "metadata": {
        "colab": {
          "base_uri": "https://localhost:8080/",
          "height": 265
        },
        "id": "FrD2QW8gmWm4",
        "outputId": "b5d3d8cd-4a16-4d22-f606-c3d810a57a0b"
      },
      "execution_count": null,
      "outputs": [
        {
          "output_type": "display_data",
          "data": {
            "text/plain": [
              "<Figure size 432x288 with 1 Axes>"
            ],
            "image/png": "[encoded data removed]"
          },
          "metadata": {
            "needs_background": "light"
          }
        }
      ]
    },
    {
      "cell_type": "markdown",
      "source": [
        "#### 1.7.2 MRR"
      ],
      "metadata": {
        "id": "2bFDsJK9p37M"
      }
    },
    {
      "cell_type": "markdown",
      "source": [
        "- 마찬가지로 MRR 값이 가장 좋은 모델은 model_8입니다.  \n",
        "(batch_size=128, hsz=100, drop_rate=0.1, optimizer=Nadam(0.0005), epochs=10, k=20)"
      ],
      "metadata": {
        "id": "-lKawLEyrMFW"
      }
    },
    {
      "cell_type": "code",
      "source": [
        "plt.bar(x, model_mrr_test, color=colors)\n",
        "plt.xticks(x, model_label)\n",
        "plt.show()"
      ],
      "metadata": {
        "colab": {
          "base_uri": "https://localhost:8080/",
          "height": 265
        },
        "id": "fADsJAoan86t",
        "outputId": "a2e5622a-c51d-4882-8163-f3b02ecc085e"
      },
      "execution_count": null,
      "outputs": [
        {
          "output_type": "display_data",
          "data": {
            "text/plain": [
              "<Figure size 432x288 with 1 Axes>"
            ],
            "image/png": "[encoded data removed]"
          },
          "metadata": {
            "needs_background": "light"
          }
        }
      ]
    },
    {
      "cell_type": "markdown",
      "source": [
        "## 2. Retrospect"
      ],
      "metadata": {
        "id": "vq3u3Qx1zWUa"
      }
    },
    {
      "cell_type": "markdown",
      "source": [
        "##### 1) Preprocess\n",
        "- 이번 전처리는 user_id에 대한 전처리입니다.  \n",
        "그냥 session 전처리와 동일하게 하면 안 된다고 생각했는데, user_id는 클릭에 따른 session이 아니기 때문입니다.  \n",
        "그리고 말 그대로 '추천'입니다. rating이 높은 영화를 추천하는 것이 좋다고 판단하여 rating mean 3 이상만 잡았습니다.  \n",
        "이 부분도 평균이 아닌 그냥 rating > 3으로 자르면 일부 garbage 영화가 섞여 들어갈 수 있다고 생각됩니다.  \n",
        "간혹 인도영화 같은 경우에 그런 경우가 있는데 rating 받은 횟수가 적고 편파적이어서 rating mean 값이 매우 높은 경우를 대비해 최소 rating size(item_id)를 잡아서 잘라주는 것도 필요하다고 생각합니다.  \n",
        "이번 task에서는 전처리가 절반 이상입니다."
      ],
      "metadata": {
        "id": "HPcP_0Cdr7_t"
      }
    },
    {
      "cell_type": "markdown",
      "source": [
        "##### 2) Hyper Parameter\n",
        "- 이미 전처리 단계에서 모델의 Recall, MRR 값은 어느 정도 정해진다고 생각합니다.  \n",
        "그런데도 하이퍼 파라미터값을 변경하며 모델을 비교한 이유는 속도입니다.\n",
        "모델 하나에 평균 40분가량 소요되고 testset 모델도 20분 정도 걸립니다.\n",
        "어떤 하이퍼 파라미터를 건드려야 모든 모델이 향하는 '그 값'에 빠르게 도달할지가 궁금했습니다.  \n",
        "덤으로 성능도 좋아야겠지요. epochs를 10 이상으로 늘리지 않는다는 전제하에 batch는 128, unit은 100, optimizer는 Nadam, learning rate는 0.001이면 충분합니다. 이 정도면 epochs 4로도 충분해 보입니다."
      ],
      "metadata": {
        "id": "B8-XE5OquwAr"
      }
    },
    {
      "cell_type": "markdown",
      "source": [
        "##### 3) Data\n",
        "- 최신 영화까지 다룬 1GB가 넘어가는 데이터가 있지만, 시간 관계상 사용하지 못해 매우 아쉽습니다.  \n",
        "이 부분은 여유가 생길 때 다시 진행해보려 합니다\n",
        "항상 느끼지만, 데이터는 많으면 많을수록 재미있습니다."
      ],
      "metadata": {
        "id": "BCiVd74_0_KJ"
      }
    },
    {
      "cell_type": "markdown",
      "source": [
        "##### 4) Epochs\n",
        "- learning rate를 작게 주고 train 했을 때 비집고 들어갈 틈이 보인다는 느낌을 받았습니다만,  \n",
        "시간이 너무 부족합니다. drop rate도 조금 높이고 epochs를 넉넉히 주어 돌리고 싶습니다.  \n",
        "물론 최신 movielens data를 이용해서 돌려야 의미가 있을 겁니다.\n"
      ],
      "metadata": {
        "id": "nXnuA47I4bsG"
      }
    },
    {
      "cell_type": "markdown",
      "source": [
        "## 3. References"
      ],
      "metadata": {
        "id": "2LNeKO5EzWR9"
      }
    },
    {
      "cell_type": "markdown",
      "source": [
        "- 아래의 사이트에서 많은 도움을 받았습니다."
      ],
      "metadata": {
        "id": "PFXSZCLXzWPG"
      }
    },
    {
      "cell_type": "markdown",
      "source": [
        "##### 1) GRU\n",
        "- https://keras.io/api/layers/recurrent_layers/gru/\n",
        "- https://hyen4110.tistory.com/26\n",
        "- https://velog.io/@dong970827/RNN-LSTM-GRU-%EA%B0%9C%EB%85%90"
      ],
      "metadata": {
        "id": "Si9fZifKxLLO"
      }
    },
    {
      "cell_type": "markdown",
      "source": [
        "##### 2) Optimizer\n",
        "- https://www.tensorflow.org/api_docs/python/tf/keras/optimizers\n",
        "- https://keras.io/api/optimizers/\n",
        "- https://keras.io/api/optimizers/Nadam/"
      ],
      "metadata": {
        "id": "kvhY6kEZxkW0"
      }
    },
    {
      "cell_type": "markdown",
      "source": [
        "##### 3) Evaluation Metrix\n",
        "- https://ang-love-chang.tistory.com/22\n",
        "- https://zzaebok.github.io/recommender_system/metrics/rec_metrics/\n",
        "- https://lamttic.github.io/2020/03/20/01.html"
      ],
      "metadata": {
        "id": "PR0b_l40xYxE"
      }
    }
  ]
}